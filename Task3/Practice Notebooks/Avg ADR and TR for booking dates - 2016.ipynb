{
 "cells": [
  {
   "cell_type": "code",
   "execution_count": 1,
   "metadata": {
    "collapsed": false
   },
   "outputs": [],
   "source": [
    "import pandas as pd\n",
    "import numpy as np\n",
    "\n",
    "data = pd.read_csv('Results/RequiredDataSet.csv',header=None, names=['Booking_date','channel','property_id','room_name','room_id','check_in','check_out','room_rate','booking_status'])\n",
    "# data"
   ]
  },
  {
   "cell_type": "code",
   "execution_count": 2,
   "metadata": {
    "collapsed": true
   },
   "outputs": [],
   "source": [
    "del data['check_in']\n",
    "del data['check_out']\n",
    "#data.head()"
   ]
  },
  {
   "cell_type": "code",
   "execution_count": 3,
   "metadata": {
    "collapsed": false
   },
   "outputs": [],
   "source": [
    "scrapyData = pd.read_csv('Results/eventData2016.csv',header=None, names=['Day','Booking_date','Event','HolidayIn'])\n",
    "scrapeResult = scrapyData.dropna()\n",
    "#scrapeResult.head()"
   ]
  },
  {
   "cell_type": "code",
   "execution_count": 4,
   "metadata": {
    "collapsed": false
   },
   "outputs": [],
   "source": [
    "pd.options.mode.chained_assignment = None  # default='warn'"
   ]
  },
  {
   "cell_type": "code",
   "execution_count": 5,
   "metadata": {
    "collapsed": false
   },
   "outputs": [],
   "source": [
    "scrapeResult['Booking_date'] =   '2016-' + scrapeResult['Booking_date'] \n",
    "# scrapeResult.head()"
   ]
  },
  {
   "cell_type": "code",
   "execution_count": 6,
   "metadata": {
    "collapsed": false
   },
   "outputs": [],
   "source": [
    "scrapeResult['Booking_date'] = pd.to_datetime(scrapeResult.Booking_date)\n",
    "# scrapeResult.head()\n"
   ]
  },
  {
   "cell_type": "code",
   "execution_count": 7,
   "metadata": {
    "collapsed": true
   },
   "outputs": [],
   "source": [
    "del scrapeResult['HolidayIn']\n",
    "del scrapeResult['Day']\n",
    "# scrapeResult.head()"
   ]
  },
  {
   "cell_type": "code",
   "execution_count": 8,
   "metadata": {
    "collapsed": false
   },
   "outputs": [],
   "source": [
    "newResults = data[(data.booking_status == 'COMPLETED') | (data.booking_status == 'CONFIRMED')]\n",
    "# newResults.head()"
   ]
  },
  {
   "cell_type": "code",
   "execution_count": 9,
   "metadata": {
    "collapsed": false
   },
   "outputs": [],
   "source": [
    "newResults = newResults[(newResults.Booking_date >= '2016-01-01') & (newResults.Booking_date <= '2016-12-31')]\n",
    "# newResults.head()"
   ]
  },
  {
   "cell_type": "code",
   "execution_count": 10,
   "metadata": {
    "collapsed": false
   },
   "outputs": [],
   "source": [
    "newResults['Booking_date'] = newResults['Booking_date'].str.extract('(....-..-..)', expand=True)\n",
    "# newResults['Booking_date'].head()"
   ]
  },
  {
   "cell_type": "code",
   "execution_count": 11,
   "metadata": {
    "collapsed": false
   },
   "outputs": [],
   "source": [
    "newResults['Booking_date'] = pd.to_datetime(newResults.Booking_date)\n"
   ]
  },
  {
   "cell_type": "code",
   "execution_count": 12,
   "metadata": {
    "collapsed": true
   },
   "outputs": [],
   "source": [
    "del newResults['channel']\n",
    "del newResults['room_name']\n",
    "del newResults['room_id']\n",
    "# newResults.head()"
   ]
  },
  {
   "cell_type": "code",
   "execution_count": 13,
   "metadata": {
    "collapsed": false
   },
   "outputs": [],
   "source": [
    "res = pd.merge(left=newResults, left_on='Booking_date',right=scrapeResult, right_on='Booking_date')"
   ]
  },
  {
   "cell_type": "code",
   "execution_count": 14,
   "metadata": {
    "collapsed": false
   },
   "outputs": [],
   "source": [
    "res = res.sort_values(by = 'Booking_date', ascending=True)\n",
    "# res1 = res.drop_duplicates()\n",
    "res1 = res.reset_index()\n",
    "del res1['index']\n",
    "# res1.head()"
   ]
  },
  {
   "cell_type": "code",
   "execution_count": 15,
   "metadata": {
    "collapsed": false
   },
   "outputs": [
    {
     "data": {
      "text/html": [
       "<div>\n",
       "<table border=\"1\" class=\"dataframe\">\n",
       "  <thead>\n",
       "    <tr style=\"text-align: right;\">\n",
       "      <th></th>\n",
       "      <th>Booking_date</th>\n",
       "      <th>property_id</th>\n",
       "      <th>room_rate</th>\n",
       "      <th>booking_status</th>\n",
       "      <th>Event</th>\n",
       "      <th>totalRevenue</th>\n",
       "    </tr>\n",
       "  </thead>\n",
       "  <tbody>\n",
       "    <tr>\n",
       "      <th>0</th>\n",
       "      <td>2016-01-01</td>\n",
       "      <td>EB</td>\n",
       "      <td>29637.0</td>\n",
       "      <td>COMPLETED</td>\n",
       "      <td>New Years Day</td>\n",
       "      <td>29637.0</td>\n",
       "    </tr>\n",
       "    <tr>\n",
       "      <th>1</th>\n",
       "      <td>2016-01-01</td>\n",
       "      <td>CH</td>\n",
       "      <td>3500.0</td>\n",
       "      <td>COMPLETED</td>\n",
       "      <td>New Years Day</td>\n",
       "      <td>73700.0</td>\n",
       "    </tr>\n",
       "    <tr>\n",
       "      <th>4</th>\n",
       "      <td>2016-01-01</td>\n",
       "      <td>CH</td>\n",
       "      <td>12000.0</td>\n",
       "      <td>COMPLETED</td>\n",
       "      <td>New Years Day</td>\n",
       "      <td>73700.0</td>\n",
       "    </tr>\n",
       "    <tr>\n",
       "      <th>5</th>\n",
       "      <td>2016-01-01</td>\n",
       "      <td>CH</td>\n",
       "      <td>8000.0</td>\n",
       "      <td>COMPLETED</td>\n",
       "      <td>New Years Day</td>\n",
       "      <td>73700.0</td>\n",
       "    </tr>\n",
       "    <tr>\n",
       "      <th>6</th>\n",
       "      <td>2016-01-01</td>\n",
       "      <td>CH</td>\n",
       "      <td>7000.0</td>\n",
       "      <td>COMPLETED</td>\n",
       "      <td>New Years Day</td>\n",
       "      <td>73700.0</td>\n",
       "    </tr>\n",
       "  </tbody>\n",
       "</table>\n",
       "</div>"
      ],
      "text/plain": [
       "  Booking_date property_id  room_rate booking_status          Event  \\\n",
       "0   2016-01-01          EB    29637.0      COMPLETED  New Years Day   \n",
       "1   2016-01-01          CH     3500.0      COMPLETED  New Years Day   \n",
       "4   2016-01-01          CH    12000.0      COMPLETED  New Years Day   \n",
       "5   2016-01-01          CH     8000.0      COMPLETED  New Years Day   \n",
       "6   2016-01-01          CH     7000.0      COMPLETED  New Years Day   \n",
       "\n",
       "   totalRevenue  \n",
       "0       29637.0  \n",
       "1       73700.0  \n",
       "4       73700.0  \n",
       "5       73700.0  \n",
       "6       73700.0  "
      ]
     },
     "execution_count": 15,
     "metadata": {},
     "output_type": "execute_result"
    }
   ],
   "source": [
    "res1['totalRevenue'] = res1.groupby(['property_id','Booking_date'])['room_rate'].transform('sum')\n",
    "res2 = res1.drop_duplicates()\n",
    "res2.head()"
   ]
  },
  {
   "cell_type": "code",
   "execution_count": 16,
   "metadata": {
    "collapsed": false
   },
   "outputs": [
    {
     "data": {
      "text/html": [
       "<div>\n",
       "<table border=\"1\" class=\"dataframe\">\n",
       "  <thead>\n",
       "    <tr style=\"text-align: right;\">\n",
       "      <th></th>\n",
       "      <th>Booking_date</th>\n",
       "      <th>property_id</th>\n",
       "      <th>room_rate</th>\n",
       "      <th>booking_status</th>\n",
       "      <th>Event</th>\n",
       "      <th>totalRevenue</th>\n",
       "      <th>room_count</th>\n",
       "    </tr>\n",
       "  </thead>\n",
       "  <tbody>\n",
       "    <tr>\n",
       "      <th>0</th>\n",
       "      <td>2016-01-01</td>\n",
       "      <td>EB</td>\n",
       "      <td>29637.0</td>\n",
       "      <td>COMPLETED</td>\n",
       "      <td>New Years Day</td>\n",
       "      <td>29637.0</td>\n",
       "      <td>1</td>\n",
       "    </tr>\n",
       "    <tr>\n",
       "      <th>1</th>\n",
       "      <td>2016-01-01</td>\n",
       "      <td>CH</td>\n",
       "      <td>3500.0</td>\n",
       "      <td>COMPLETED</td>\n",
       "      <td>New Years Day</td>\n",
       "      <td>73700.0</td>\n",
       "      <td>10</td>\n",
       "    </tr>\n",
       "    <tr>\n",
       "      <th>2</th>\n",
       "      <td>2016-01-01</td>\n",
       "      <td>CH</td>\n",
       "      <td>3500.0</td>\n",
       "      <td>COMPLETED</td>\n",
       "      <td>New Years Day</td>\n",
       "      <td>73700.0</td>\n",
       "      <td>10</td>\n",
       "    </tr>\n",
       "    <tr>\n",
       "      <th>3</th>\n",
       "      <td>2016-01-01</td>\n",
       "      <td>CH</td>\n",
       "      <td>3500.0</td>\n",
       "      <td>COMPLETED</td>\n",
       "      <td>New Years Day</td>\n",
       "      <td>73700.0</td>\n",
       "      <td>10</td>\n",
       "    </tr>\n",
       "    <tr>\n",
       "      <th>4</th>\n",
       "      <td>2016-01-01</td>\n",
       "      <td>CH</td>\n",
       "      <td>12000.0</td>\n",
       "      <td>COMPLETED</td>\n",
       "      <td>New Years Day</td>\n",
       "      <td>73700.0</td>\n",
       "      <td>10</td>\n",
       "    </tr>\n",
       "  </tbody>\n",
       "</table>\n",
       "</div>"
      ],
      "text/plain": [
       "  Booking_date property_id  room_rate booking_status          Event  \\\n",
       "0   2016-01-01          EB    29637.0      COMPLETED  New Years Day   \n",
       "1   2016-01-01          CH     3500.0      COMPLETED  New Years Day   \n",
       "2   2016-01-01          CH     3500.0      COMPLETED  New Years Day   \n",
       "3   2016-01-01          CH     3500.0      COMPLETED  New Years Day   \n",
       "4   2016-01-01          CH    12000.0      COMPLETED  New Years Day   \n",
       "\n",
       "   totalRevenue  room_count  \n",
       "0       29637.0           1  \n",
       "1       73700.0          10  \n",
       "2       73700.0          10  \n",
       "3       73700.0          10  \n",
       "4       73700.0          10  "
      ]
     },
     "execution_count": 16,
     "metadata": {},
     "output_type": "execute_result"
    }
   ],
   "source": [
    "res1['room_count'] = res1.groupby(['property_id','Booking_date'])['room_rate'].transform('count')\n",
    "res3 = res1\n",
    "res3.head()"
   ]
  },
  {
   "cell_type": "code",
   "execution_count": 17,
   "metadata": {
    "collapsed": false
   },
   "outputs": [
    {
     "data": {
      "text/html": [
       "<div>\n",
       "<table border=\"1\" class=\"dataframe\">\n",
       "  <thead>\n",
       "    <tr style=\"text-align: right;\">\n",
       "      <th></th>\n",
       "      <th>Booking_date</th>\n",
       "      <th>property_id</th>\n",
       "      <th>room_rate</th>\n",
       "      <th>booking_status</th>\n",
       "      <th>Event</th>\n",
       "      <th>totalRevenue</th>\n",
       "      <th>room_count</th>\n",
       "      <th>ADR</th>\n",
       "    </tr>\n",
       "  </thead>\n",
       "  <tbody>\n",
       "    <tr>\n",
       "      <th>0</th>\n",
       "      <td>2016-01-01</td>\n",
       "      <td>EB</td>\n",
       "      <td>29637.0</td>\n",
       "      <td>COMPLETED</td>\n",
       "      <td>New Years Day</td>\n",
       "      <td>29637.0</td>\n",
       "      <td>1</td>\n",
       "      <td>29637.0</td>\n",
       "    </tr>\n",
       "    <tr>\n",
       "      <th>1</th>\n",
       "      <td>2016-01-01</td>\n",
       "      <td>CH</td>\n",
       "      <td>3500.0</td>\n",
       "      <td>COMPLETED</td>\n",
       "      <td>New Years Day</td>\n",
       "      <td>73700.0</td>\n",
       "      <td>10</td>\n",
       "      <td>7370.0</td>\n",
       "    </tr>\n",
       "    <tr>\n",
       "      <th>2</th>\n",
       "      <td>2016-01-01</td>\n",
       "      <td>CH</td>\n",
       "      <td>3500.0</td>\n",
       "      <td>COMPLETED</td>\n",
       "      <td>New Years Day</td>\n",
       "      <td>73700.0</td>\n",
       "      <td>10</td>\n",
       "      <td>7370.0</td>\n",
       "    </tr>\n",
       "    <tr>\n",
       "      <th>3</th>\n",
       "      <td>2016-01-01</td>\n",
       "      <td>CH</td>\n",
       "      <td>3500.0</td>\n",
       "      <td>COMPLETED</td>\n",
       "      <td>New Years Day</td>\n",
       "      <td>73700.0</td>\n",
       "      <td>10</td>\n",
       "      <td>7370.0</td>\n",
       "    </tr>\n",
       "    <tr>\n",
       "      <th>4</th>\n",
       "      <td>2016-01-01</td>\n",
       "      <td>CH</td>\n",
       "      <td>12000.0</td>\n",
       "      <td>COMPLETED</td>\n",
       "      <td>New Years Day</td>\n",
       "      <td>73700.0</td>\n",
       "      <td>10</td>\n",
       "      <td>7370.0</td>\n",
       "    </tr>\n",
       "  </tbody>\n",
       "</table>\n",
       "</div>"
      ],
      "text/plain": [
       "  Booking_date property_id  room_rate booking_status          Event  \\\n",
       "0   2016-01-01          EB    29637.0      COMPLETED  New Years Day   \n",
       "1   2016-01-01          CH     3500.0      COMPLETED  New Years Day   \n",
       "2   2016-01-01          CH     3500.0      COMPLETED  New Years Day   \n",
       "3   2016-01-01          CH     3500.0      COMPLETED  New Years Day   \n",
       "4   2016-01-01          CH    12000.0      COMPLETED  New Years Day   \n",
       "\n",
       "   totalRevenue  room_count      ADR  \n",
       "0       29637.0           1  29637.0  \n",
       "1       73700.0          10   7370.0  \n",
       "2       73700.0          10   7370.0  \n",
       "3       73700.0          10   7370.0  \n",
       "4       73700.0          10   7370.0  "
      ]
     },
     "execution_count": 17,
     "metadata": {},
     "output_type": "execute_result"
    }
   ],
   "source": [
    "res3['ADR'] = res3.apply(lambda res3: (res3['totalRevenue'] / res3['room_count'] ) , axis=1)\n",
    "res3.head()"
   ]
  },
  {
   "cell_type": "code",
   "execution_count": 18,
   "metadata": {
    "collapsed": false
   },
   "outputs": [],
   "source": [
    "del res3['room_rate']\n",
    "del res3['booking_status']\n",
    "res3 = res3.drop_duplicates()\n",
    "# res3"
   ]
  },
  {
   "cell_type": "code",
   "execution_count": 19,
   "metadata": {
    "collapsed": false
   },
   "outputs": [
    {
     "data": {
      "text/plain": [
       "numpy.ndarray"
      ]
     },
     "execution_count": 19,
     "metadata": {},
     "output_type": "execute_result"
    }
   ],
   "source": [
    "temp = res3['property_id'].unique()\n",
    "type(temp)"
   ]
  },
  {
   "cell_type": "code",
   "execution_count": null,
   "metadata": {
    "collapsed": false
   },
   "outputs": [],
   "source": [
    "for i in range(len(temp)):\n",
    "    property_id = res3[(res3.property_id == temp[i])]\n",
    "    property_id.to_excel('Results/GroupByPropertyID/2016/'+ temp[i] +'.xlsx')"
   ]
  },
  {
   "cell_type": "code",
   "execution_count": 20,
   "metadata": {
    "collapsed": false
   },
   "outputs": [
    {
     "data": {
      "text/html": [
       "\n",
       "    <div class=\"bk-root\">\n",
       "        <a href=\"http://bokeh.pydata.org\" target=\"_blank\" class=\"bk-logo bk-logo-small bk-logo-notebook\"></a>\n",
       "        <span id=\"04e6084d-6404-4caa-9b74-e7e290b4fe8f\">Loading BokehJS ...</span>\n",
       "    </div>"
      ]
     },
     "metadata": {},
     "output_type": "display_data"
    },
    {
     "data": {
      "application/javascript": [
       "\n",
       "(function(global) {\n",
       "  function now() {\n",
       "    return new Date();\n",
       "  }\n",
       "\n",
       "  var force = \"1\";\n",
       "\n",
       "  if (typeof (window._bokeh_onload_callbacks) === \"undefined\" || force !== \"\") {\n",
       "    window._bokeh_onload_callbacks = [];\n",
       "    window._bokeh_is_loading = undefined;\n",
       "  }\n",
       "\n",
       "\n",
       "  \n",
       "  if (typeof (window._bokeh_timeout) === \"undefined\" || force !== \"\") {\n",
       "    window._bokeh_timeout = Date.now() + 5000;\n",
       "    window._bokeh_failed_load = false;\n",
       "  }\n",
       "\n",
       "  var NB_LOAD_WARNING = {'data': {'text/html':\n",
       "     \"<div style='background-color: #fdd'>\\n\"+\n",
       "     \"<p>\\n\"+\n",
       "     \"BokehJS does not appear to have successfully loaded. If loading BokehJS from CDN, this \\n\"+\n",
       "     \"may be due to a slow or bad network connection. Possible fixes:\\n\"+\n",
       "     \"</p>\\n\"+\n",
       "     \"<ul>\\n\"+\n",
       "     \"<li>re-rerun `output_notebook()` to attempt to load from CDN again, or</li>\\n\"+\n",
       "     \"<li>use INLINE resources instead, as so:</li>\\n\"+\n",
       "     \"</ul>\\n\"+\n",
       "     \"<code>\\n\"+\n",
       "     \"from bokeh.resources import INLINE\\n\"+\n",
       "     \"output_notebook(resources=INLINE)\\n\"+\n",
       "     \"</code>\\n\"+\n",
       "     \"</div>\"}};\n",
       "\n",
       "  function display_loaded() {\n",
       "    if (window.Bokeh !== undefined) {\n",
       "      Bokeh.$(\"#04e6084d-6404-4caa-9b74-e7e290b4fe8f\").text(\"BokehJS successfully loaded.\");\n",
       "    } else if (Date.now() < window._bokeh_timeout) {\n",
       "      setTimeout(display_loaded, 100)\n",
       "    }\n",
       "  }\n",
       "\n",
       "  function run_callbacks() {\n",
       "    window._bokeh_onload_callbacks.forEach(function(callback) { callback() });\n",
       "    delete window._bokeh_onload_callbacks\n",
       "    console.info(\"Bokeh: all callbacks have finished\");\n",
       "  }\n",
       "\n",
       "  function load_libs(js_urls, callback) {\n",
       "    window._bokeh_onload_callbacks.push(callback);\n",
       "    if (window._bokeh_is_loading > 0) {\n",
       "      console.log(\"Bokeh: BokehJS is being loaded, scheduling callback at\", now());\n",
       "      return null;\n",
       "    }\n",
       "    if (js_urls == null || js_urls.length === 0) {\n",
       "      run_callbacks();\n",
       "      return null;\n",
       "    }\n",
       "    console.log(\"Bokeh: BokehJS not loaded, scheduling load and callback at\", now());\n",
       "    window._bokeh_is_loading = js_urls.length;\n",
       "    for (var i = 0; i < js_urls.length; i++) {\n",
       "      var url = js_urls[i];\n",
       "      var s = document.createElement('script');\n",
       "      s.src = url;\n",
       "      s.async = false;\n",
       "      s.onreadystatechange = s.onload = function() {\n",
       "        window._bokeh_is_loading--;\n",
       "        if (window._bokeh_is_loading === 0) {\n",
       "          console.log(\"Bokeh: all BokehJS libraries loaded\");\n",
       "          run_callbacks()\n",
       "        }\n",
       "      };\n",
       "      s.onerror = function() {\n",
       "        console.warn(\"failed to load library \" + url);\n",
       "      };\n",
       "      console.log(\"Bokeh: injecting script tag for BokehJS library: \", url);\n",
       "      document.getElementsByTagName(\"head\")[0].appendChild(s);\n",
       "    }\n",
       "  };var element = document.getElementById(\"04e6084d-6404-4caa-9b74-e7e290b4fe8f\");\n",
       "  if (element == null) {\n",
       "    console.log(\"Bokeh: ERROR: autoload.js configured with elementid '04e6084d-6404-4caa-9b74-e7e290b4fe8f' but no matching script tag was found. \")\n",
       "    return false;\n",
       "  }\n",
       "\n",
       "  var js_urls = ['https://cdn.pydata.org/bokeh/release/bokeh-0.12.2.min.js', 'https://cdn.pydata.org/bokeh/release/bokeh-widgets-0.12.2.min.js', 'https://cdn.pydata.org/bokeh/release/bokeh-compiler-0.12.2.min.js'];\n",
       "\n",
       "  var inline_js = [\n",
       "    function(Bokeh) {\n",
       "      Bokeh.set_log_level(\"info\");\n",
       "    },\n",
       "    \n",
       "    function(Bokeh) {\n",
       "      \n",
       "      Bokeh.$(\"#04e6084d-6404-4caa-9b74-e7e290b4fe8f\").text(\"BokehJS is loading...\");\n",
       "    },\n",
       "    function(Bokeh) {\n",
       "      console.log(\"Bokeh: injecting CSS: https://cdn.pydata.org/bokeh/release/bokeh-0.12.2.min.css\");\n",
       "      Bokeh.embed.inject_css(\"https://cdn.pydata.org/bokeh/release/bokeh-0.12.2.min.css\");\n",
       "      console.log(\"Bokeh: injecting CSS: https://cdn.pydata.org/bokeh/release/bokeh-widgets-0.12.2.min.css\");\n",
       "      Bokeh.embed.inject_css(\"https://cdn.pydata.org/bokeh/release/bokeh-widgets-0.12.2.min.css\");\n",
       "    }\n",
       "  ];\n",
       "\n",
       "  function run_inline_js() {\n",
       "    \n",
       "    if ((window.Bokeh !== undefined) || (force === \"1\")) {\n",
       "      for (var i = 0; i < inline_js.length; i++) {\n",
       "        inline_js[i](window.Bokeh);\n",
       "      }if (force === \"1\") {\n",
       "        display_loaded();\n",
       "      }} else if (Date.now() < window._bokeh_timeout) {\n",
       "      setTimeout(run_inline_js, 100);\n",
       "    } else if (!window._bokeh_failed_load) {\n",
       "      console.log(\"Bokeh: BokehJS failed to load within specified timeout.\");\n",
       "      window._bokeh_failed_load = true;\n",
       "    } else if (!force) {\n",
       "      var cell = $(\"#04e6084d-6404-4caa-9b74-e7e290b4fe8f\").parents('.cell').data().cell;\n",
       "      cell.output_area.append_execute_result(NB_LOAD_WARNING)\n",
       "    }\n",
       "\n",
       "  }\n",
       "\n",
       "  if (window._bokeh_is_loading === 0) {\n",
       "    console.log(\"Bokeh: BokehJS loaded, going straight to plotting\");\n",
       "    run_inline_js();\n",
       "  } else {\n",
       "    load_libs(js_urls, function() {\n",
       "      console.log(\"Bokeh: BokehJS plotting callback run at\", now());\n",
       "      run_inline_js();\n",
       "    });\n",
       "  }\n",
       "}(this));"
      ]
     },
     "metadata": {},
     "output_type": "display_data"
    }
   ],
   "source": [
    "# Our numerical workhorses\n",
    "import numpy as np\n",
    "import pandas as pd\n",
    "\n",
    "# Import Bokeh modules for interactive plotting\n",
    "import bokeh.charts\n",
    "import bokeh.charts.utils\n",
    "import bokeh.io\n",
    "import bokeh.models\n",
    "import bokeh.palettes\n",
    "import bokeh.plotting\n",
    "\n",
    "# Display graphics in this notebook\n",
    "bokeh.io.output_notebook()"
   ]
  },
  {
   "cell_type": "code",
   "execution_count": 21,
   "metadata": {
    "collapsed": true
   },
   "outputs": [],
   "source": [
    "import bokeh.plotting as plt\n",
    "from bokeh.plotting import figure, output_file, show, ColumnDataSource\n",
    "from bokeh.models import HoverTool\n",
    "from bokeh.models.formatters import DatetimeTickFormatter\n"
   ]
  },
  {
   "cell_type": "code",
   "execution_count": 22,
   "metadata": {
    "collapsed": true
   },
   "outputs": [],
   "source": [
    "property_id_BB = pd.read_excel('Results/GroupByPropertyID/2016/BB.xlsx')\n",
    "property_id_BB = property_id_BB.reset_index()\n",
    "property_id_BB = property_id_BB.sort_values(by = 'Booking_date', ascending=True)\n",
    "property_id_BB1 = property_id_BB.values.T.tolist()"
   ]
  },
  {
   "cell_type": "code",
   "execution_count": 23,
   "metadata": {
    "collapsed": false
   },
   "outputs": [
    {
     "data": {
      "text/plain": [
       "ADR    27967.840401\n",
       "dtype: float64"
      ]
     },
     "execution_count": 23,
     "metadata": {},
     "output_type": "execute_result"
    }
   ],
   "source": [
    "property_id_BB[['ADR']].mean()"
   ]
  },
  {
   "cell_type": "code",
   "execution_count": 24,
   "metadata": {
    "collapsed": false
   },
   "outputs": [
    {
     "data": {
      "text/plain": [
       "totalRevenue    291732.292473\n",
       "dtype: float64"
      ]
     },
     "execution_count": 24,
     "metadata": {},
     "output_type": "execute_result"
    }
   ],
   "source": [
    "property_id_BB[['totalRevenue']].mean()"
   ]
  },
  {
   "cell_type": "code",
   "execution_count": 25,
   "metadata": {
    "collapsed": false
   },
   "outputs": [
    {
     "data": {
      "text/plain": [
       "totalRevenue    27131103.2\n",
       "dtype: float64"
      ]
     },
     "execution_count": 25,
     "metadata": {},
     "output_type": "execute_result"
    }
   ],
   "source": [
    "property_id_BB[['totalRevenue']].sum()"
   ]
  },
  {
   "cell_type": "code",
   "execution_count": 30,
   "metadata": {
    "collapsed": false
   },
   "outputs": [
    {
     "data": {
      "text/html": [
       "\n",
       "\n",
       "    <div class=\"bk-root\">\n",
       "        <div class=\"plotdiv\" id=\"a9e84f4e-d182-4e6d-aae3-df50d6c7e72c\"></div>\n",
       "    </div>\n",
       "<script type=\"text/javascript\">\n",
       "  \n",
       "  (function(global) {\n",
       "    function now() {\n",
       "      return new Date();\n",
       "    }\n",
       "  \n",
       "    var force = \"\";\n",
       "  \n",
       "    if (typeof (window._bokeh_onload_callbacks) === \"undefined\" || force !== \"\") {\n",
       "      window._bokeh_onload_callbacks = [];\n",
       "      window._bokeh_is_loading = undefined;\n",
       "    }\n",
       "  \n",
       "  \n",
       "    \n",
       "    if (typeof (window._bokeh_timeout) === \"undefined\" || force !== \"\") {\n",
       "      window._bokeh_timeout = Date.now() + 0;\n",
       "      window._bokeh_failed_load = false;\n",
       "    }\n",
       "  \n",
       "    var NB_LOAD_WARNING = {'data': {'text/html':\n",
       "       \"<div style='background-color: #fdd'>\\n\"+\n",
       "       \"<p>\\n\"+\n",
       "       \"BokehJS does not appear to have successfully loaded. If loading BokehJS from CDN, this \\n\"+\n",
       "       \"may be due to a slow or bad network connection. Possible fixes:\\n\"+\n",
       "       \"</p>\\n\"+\n",
       "       \"<ul>\\n\"+\n",
       "       \"<li>re-rerun `output_notebook()` to attempt to load from CDN again, or</li>\\n\"+\n",
       "       \"<li>use INLINE resources instead, as so:</li>\\n\"+\n",
       "       \"</ul>\\n\"+\n",
       "       \"<code>\\n\"+\n",
       "       \"from bokeh.resources import INLINE\\n\"+\n",
       "       \"output_notebook(resources=INLINE)\\n\"+\n",
       "       \"</code>\\n\"+\n",
       "       \"</div>\"}};\n",
       "  \n",
       "    function display_loaded() {\n",
       "      if (window.Bokeh !== undefined) {\n",
       "        Bokeh.$(\"#a9e84f4e-d182-4e6d-aae3-df50d6c7e72c\").text(\"BokehJS successfully loaded.\");\n",
       "      } else if (Date.now() < window._bokeh_timeout) {\n",
       "        setTimeout(display_loaded, 100)\n",
       "      }\n",
       "    }\n",
       "  \n",
       "    function run_callbacks() {\n",
       "      window._bokeh_onload_callbacks.forEach(function(callback) { callback() });\n",
       "      delete window._bokeh_onload_callbacks\n",
       "      console.info(\"Bokeh: all callbacks have finished\");\n",
       "    }\n",
       "  \n",
       "    function load_libs(js_urls, callback) {\n",
       "      window._bokeh_onload_callbacks.push(callback);\n",
       "      if (window._bokeh_is_loading > 0) {\n",
       "        console.log(\"Bokeh: BokehJS is being loaded, scheduling callback at\", now());\n",
       "        return null;\n",
       "      }\n",
       "      if (js_urls == null || js_urls.length === 0) {\n",
       "        run_callbacks();\n",
       "        return null;\n",
       "      }\n",
       "      console.log(\"Bokeh: BokehJS not loaded, scheduling load and callback at\", now());\n",
       "      window._bokeh_is_loading = js_urls.length;\n",
       "      for (var i = 0; i < js_urls.length; i++) {\n",
       "        var url = js_urls[i];\n",
       "        var s = document.createElement('script');\n",
       "        s.src = url;\n",
       "        s.async = false;\n",
       "        s.onreadystatechange = s.onload = function() {\n",
       "          window._bokeh_is_loading--;\n",
       "          if (window._bokeh_is_loading === 0) {\n",
       "            console.log(\"Bokeh: all BokehJS libraries loaded\");\n",
       "            run_callbacks()\n",
       "          }\n",
       "        };\n",
       "        s.onerror = function() {\n",
       "          console.warn(\"failed to load library \" + url);\n",
       "        };\n",
       "        console.log(\"Bokeh: injecting script tag for BokehJS library: \", url);\n",
       "        document.getElementsByTagName(\"head\")[0].appendChild(s);\n",
       "      }\n",
       "    };var element = document.getElementById(\"a9e84f4e-d182-4e6d-aae3-df50d6c7e72c\");\n",
       "    if (element == null) {\n",
       "      console.log(\"Bokeh: ERROR: autoload.js configured with elementid 'a9e84f4e-d182-4e6d-aae3-df50d6c7e72c' but no matching script tag was found. \")\n",
       "      return false;\n",
       "    }\n",
       "  \n",
       "    var js_urls = [];\n",
       "  \n",
       "    var inline_js = [\n",
       "      function(Bokeh) {\n",
       "        Bokeh.$(function() {\n",
       "            var docs_json = {\"d6d75f9d-7afe-423b-a6b0-add490574f43\":{\"roots\":{\"references\":[{\"attributes\":{\"num_minor_ticks\":5},\"id\":\"6408451a-1ae5-4540-874e-f0e78be3e960\",\"type\":\"DatetimeTicker\"},{\"attributes\":{},\"id\":\"6fc9098e-1fd4-4981-becd-a489301a55d3\",\"type\":\"BasicTicker\"},{\"attributes\":{\"data_source\":{\"id\":\"b9ce4a78-21f6-4492-a238-0592273005dd\",\"type\":\"ColumnDataSource\"},\"glyph\":{\"id\":\"33812db7-fdf7-482f-9a31-540fe09f36c8\",\"type\":\"Line\"},\"hover_glyph\":null,\"nonselection_glyph\":{\"id\":\"bb6a9584-1d67-41f2-aae1-afbf066f7f50\",\"type\":\"Line\"},\"selection_glyph\":null},\"id\":\"9b9a10eb-fa6b-4ee1-8cde-7fb4cb0feead\",\"type\":\"GlyphRenderer\"},{\"attributes\":{\"below\":[{\"id\":\"8275f276-bce2-4482-b8c2-58f4790dc07d\",\"type\":\"DatetimeAxis\"}],\"left\":[{\"id\":\"b66eab42-5566-4ab0-8f4c-2d9c334ff73a\",\"type\":\"LinearAxis\"}],\"plot_height\":500,\"plot_width\":800,\"renderers\":[{\"id\":\"8275f276-bce2-4482-b8c2-58f4790dc07d\",\"type\":\"DatetimeAxis\"},{\"id\":\"30d9509a-f401-45c3-9736-e2489b85c7a8\",\"type\":\"Grid\"},{\"id\":\"b66eab42-5566-4ab0-8f4c-2d9c334ff73a\",\"type\":\"LinearAxis\"},{\"id\":\"b8bfec4d-00e0-4924-8860-9399c2212b28\",\"type\":\"Grid\"},{\"id\":\"9b9a10eb-fa6b-4ee1-8cde-7fb4cb0feead\",\"type\":\"GlyphRenderer\"}],\"title\":{\"id\":\"387c2757-557b-4d3e-8003-66ff3aa2197c\",\"type\":\"Title\"},\"tool_events\":{\"id\":\"37c0a185-5170-4ba9-8b90-46152c5069b1\",\"type\":\"ToolEvents\"},\"toolbar\":{\"id\":\"9d2f0021-67d8-4cb4-8e4d-cff783297ef3\",\"type\":\"Toolbar\"},\"x_range\":{\"id\":\"432538c3-62d1-40f5-98f9-85cb7d4e9ac0\",\"type\":\"DataRange1d\"},\"y_range\":{\"id\":\"fcf40235-decf-4202-963c-afdf91305aa4\",\"type\":\"DataRange1d\"}},\"id\":\"687d75bb-bb13-4a6b-9443-779d0a3e61c1\",\"subtype\":\"Figure\",\"type\":\"Plot\"},{\"attributes\":{},\"id\":\"7894cc89-dc8f-49fb-8349-a92082eed866\",\"type\":\"DatetimeTickFormatter\"},{\"attributes\":{\"callback\":null},\"id\":\"fcf40235-decf-4202-963c-afdf91305aa4\",\"type\":\"DataRange1d\"},{\"attributes\":{},\"id\":\"37c0a185-5170-4ba9-8b90-46152c5069b1\",\"type\":\"ToolEvents\"},{\"attributes\":{\"days\":[1,8,15,22]},\"id\":\"5a801dc5-a187-4356-9d1b-1b33ccfef802\",\"type\":\"DaysTicker\"},{\"attributes\":{\"days\":[1,2,3,4,5,6,7,8,9,10,11,12,13,14,15,16,17,18,19,20,21,22,23,24,25,26,27,28,29,30,31]},\"id\":\"b15be601-1065-4f31-8d21-33ee61cb55f4\",\"type\":\"DaysTicker\"},{\"attributes\":{\"plot\":{\"id\":\"687d75bb-bb13-4a6b-9443-779d0a3e61c1\",\"subtype\":\"Figure\",\"type\":\"Plot\"},\"ticker\":{\"id\":\"6408451a-1ae5-4540-874e-f0e78be3e960\",\"type\":\"DatetimeTicker\"}},\"id\":\"30d9509a-f401-45c3-9736-e2489b85c7a8\",\"type\":\"Grid\"},{\"attributes\":{\"active_drag\":\"auto\",\"active_scroll\":\"auto\",\"active_tap\":\"auto\",\"tools\":[{\"id\":\"64724cb1-69de-49b0-8d13-15c9804bab61\",\"type\":\"HoverTool\"}]},\"id\":\"9d2f0021-67d8-4cb4-8e4d-cff783297ef3\",\"type\":\"Toolbar\"},{\"attributes\":{\"plot\":null,\"text\":\"Graph of BookingDate vs TotalRevenue for BB (hover to view events)\"},\"id\":\"387c2757-557b-4d3e-8003-66ff3aa2197c\",\"type\":\"Title\"},{\"attributes\":{\"days\":[1,15]},\"id\":\"948961a3-a410-4959-a61d-8b498d09dadc\",\"type\":\"DaysTicker\"},{\"attributes\":{\"base\":24,\"mantissas\":[1,2,4,6,8,12],\"max_interval\":43200000.0,\"min_interval\":3600000.0,\"num_minor_ticks\":0},\"id\":\"93667f16-5e62-4a75-956b-ccafc2b82e44\",\"type\":\"AdaptiveTicker\"},{\"attributes\":{\"max_interval\":500.0,\"num_minor_ticks\":0},\"id\":\"0b0adaff-a5ec-4c00-ad82-e7070b42ecda\",\"type\":\"AdaptiveTicker\"},{\"attributes\":{\"axis_label\":\"Booking Date\",\"formatter\":{\"id\":\"7894cc89-dc8f-49fb-8349-a92082eed866\",\"type\":\"DatetimeTickFormatter\"},\"plot\":{\"id\":\"687d75bb-bb13-4a6b-9443-779d0a3e61c1\",\"subtype\":\"Figure\",\"type\":\"Plot\"},\"ticker\":{\"id\":\"6408451a-1ae5-4540-874e-f0e78be3e960\",\"type\":\"DatetimeTicker\"}},\"id\":\"8275f276-bce2-4482-b8c2-58f4790dc07d\",\"type\":\"DatetimeAxis\"},{\"attributes\":{\"dimension\":1,\"plot\":{\"id\":\"687d75bb-bb13-4a6b-9443-779d0a3e61c1\",\"subtype\":\"Figure\",\"type\":\"Plot\"},\"ticker\":{\"id\":\"6fc9098e-1fd4-4981-becd-a489301a55d3\",\"type\":\"BasicTicker\"}},\"id\":\"b8bfec4d-00e0-4924-8860-9399c2212b28\",\"type\":\"Grid\"},{\"attributes\":{\"days\":[1,4,7,10,13,16,19,22,25,28]},\"id\":\"b7dbae6e-ae93-48d9-bb89-76f59d9ed99b\",\"type\":\"DaysTicker\"},{\"attributes\":{\"callback\":null,\"plot\":{\"id\":\"687d75bb-bb13-4a6b-9443-779d0a3e61c1\",\"subtype\":\"Figure\",\"type\":\"Plot\"},\"tooltips\":[[\"Date\",\"@date\"],[\"Event\",\"@desc\"],[\"Total Revenue\",\"@y{1.11}\"]]},\"id\":\"64724cb1-69de-49b0-8d13-15c9804bab61\",\"type\":\"HoverTool\"},{\"attributes\":{\"months\":[0,1,2,3,4,5,6,7,8,9,10,11]},\"id\":\"6295857b-c535-4122-8cbd-6c4cc5b40434\",\"type\":\"MonthsTicker\"},{\"attributes\":{\"months\":[0,2,4,6,8,10]},\"id\":\"617d78bb-acaf-4f74-96c2-482439f729ab\",\"type\":\"MonthsTicker\"},{\"attributes\":{},\"id\":\"ff661167-70b8-4ebe-a258-f1562f48b768\",\"type\":\"YearsTicker\"},{\"attributes\":{\"months\":[0,6]},\"id\":\"9400b52b-627b-41e1-a976-46c42b5ce8d6\",\"type\":\"MonthsTicker\"},{\"attributes\":{\"callback\":null,\"column_names\":[\"y\",\"x\",\"desc\",\"date\"],\"data\":{\"date\":[\"2016-01-02\",\"2016-01-12\",\"2016-01-14\",\"2016-01-15\",\"2016-01-16\",\"2016-01-17\",\"2016-01-25\",\"2016-01-26\",\"2016-01-28\",\"2016-01-31\",\"2016-02-02\",\"2016-02-09\",\"2016-02-12\",\"2016-02-13\",\"2016-02-19\",\"2016-02-22\",\"2016-03-04\",\"2016-03-05\",\"2016-03-07\",\"2016-03-09\",\"2016-03-22\",\"2016-03-23\",\"2016-03-25\",\"2016-04-01\",\"2016-04-05\",\"2016-04-08\",\"2016-04-14\",\"2016-04-15\",\"2016-04-19\",\"2016-04-20\",\"2016-04-21\",\"2016-05-01\",\"2016-05-08\",\"2016-05-09\",\"2016-05-16\",\"2016-05-21\",\"2016-05-25\",\"2016-06-07\",\"2016-06-08\",\"2016-06-14\",\"2016-06-15\",\"2016-06-20\",\"2016-07-01\",\"2016-07-06\",\"2016-07-07\",\"2016-07-08\",\"2016-07-12\",\"2016-07-26\",\"2016-07-31\",\"2016-08-02\",\"2016-08-17\",\"2016-08-18\",\"2016-08-24\",\"2016-08-25\",\"2016-09-02\",\"2016-09-03\",\"2016-09-04\",\"2016-09-05\",\"2016-09-06\",\"2016-09-10\",\"2016-09-12\",\"2016-09-13\",\"2016-09-14\",\"2016-09-15\",\"2016-09-16\",\"2016-09-21\",\"2016-09-23\",\"2016-09-28\",\"2016-09-30\",\"2016-10-01\",\"2016-10-08\",\"2016-10-09\",\"2016-10-10\",\"2016-10-12\",\"2016-10-13\",\"2016-10-14\",\"2016-10-15\",\"2016-10-16\",\"2016-10-17\",\"2016-10-29\",\"2016-10-31\",\"2016-11-01\",\"2016-11-06\",\"2016-11-07\",\"2016-11-14\",\"2016-11-17\",\"2016-12-03\",\"2016-12-04\",\"2016-12-06\",\"2016-12-13\",\"2016-12-19\",\"2016-12-25\",\"2016-12-26\"],\"desc\":[\"Mannam Jayanthi\",\"Birthday of Swami Vivekananda\",\"Pongal\",\"Sankranti\",\"Guru Gobind Singh Jayanti\",\"Uzhavar Tirunal\",\"Statehood Day\",\"Republic Day\",\"Birthday of Lala Lajpat Rai\",\"Me-dam-me-phi\",\"Public Holiday\",\"Losar\",\"Vasant Panchami\",\"Sree Panchami\",\"Chhatrapati Shivaji Maharaj Jayanti\",\"Guru Ravidas Birthday\",\"Maharshi Dayanand Saraswati Jayanti\",\"Panchayati Raj Diwas\",\"Maha Shivratri\",\"Solar Eclipse\",\"Bihar Divas\",\"Doljatra\",\"Good Friday\",\"Odisha Day\",\"Babu Jagjivan Ram Birthday\",\"Ugadi\",\"Tamil New Year\",\"Ram Navami\",\"Mahavir Jayanti\",\"Garia Puja\",\"Hazrat Alis Birthday\",\"May Day\",\"Birthday of Rabindra Nath Tagore\",\"Parashurama Jayanti\",\"Public Holiday\",\"Buddha Purnima\",\"Birthday of Kazi Nazrul Islam\",\"Maharana Pratap Jayanti\",\"Guru Arjun Dev Martyrdom day\",\"Pahili Raja\",\"Raja Sankranti\",\"Sant Guru Kabir Jayanti\",\"Jumat-ul-Wida\",\"Idul Fitr\",\"Ramzan\",\"Ramzan\",\"Kharchi Puja\",\"Ker Puja\",\"Martyrdom Day of Shaheed Udham Singh\",\"Karkkadaka Vavu\",\"Parsi New Year\",\"Raksha Bandhan\",\"Sreekrishna Jayanthi\",\"Janmashtami\",\"Parkash Utsav Sri Guru Granth Sahib Ji\",\"Tithi of Shrimanta Shankar Dev\",\"Teej\",\"Ganesh Chaturthi\",\"Ganesh Chaturthi Holiday\",\"Birthday of Baba Sri Chand Ji\",\"Idul Juha\",\"First Onam\",\"Thiruvonam\",\"Third Onam\",\"Sree Narayana Guru Jayanti\",\"Sree Narayana Guru Samadhi\",\"Haryana's Heroes' Martyrdom Day\",\"Birthday of S. Bhagat Singh Ji\",\"Mahalaya\",\"Maharaja Agrasen Jayanati\",\"Panchami\",\"Durgastami\",\"Ayudha Puja\",\"Muharram (10th Day)\",\"Durga Puja Holiday\",\"Durga Puja Holiday\",\"Maharishi Valmiki Birthday\",\"Maharishi Valmiki Birthday\",\"Parkash Gurpurab of Sri Guru Ram Dass Ji\",\"Deepavali\",\"Deepavali\",\"Bhai Bij\",\"Chhath Puja\",\"Chhath Puja\",\"Guru Nanak Birthday\",\"Kanakadasa Jayanthi\",\"World Disabled Day\",\"Martyrdom Day of Sri Guru Teg Bahadur Ji\",\"Public Holiday\",\"Id-e-Milad\",\"Goa Liberation Day\",\"Christmas Day\",\"Shaheed Udham Singh's Birthday\"],\"x\":[1451692800000.0,1452556800000.0,1452729600000.0,1452816000000.0,1452902400000.0,1452988800000.0,1453680000000.0,1453766400000.0,1453939200000.0,1454198400000.0,1454371200000.0,1454976000000.0,1455235200000.0,1455321600000.0,1455840000000.0,1456099200000.0,1457049600000.0,1457136000000.0,1457308800000.0,1457481600000.0,1458604800000.0,1458691200000.0,1458864000000.0,1459468800000.0,1459814400000.0,1460073600000.0,1460592000000.0,1460678400000.0,1461024000000.0,1461110400000.0,1461196800000.0,1462060800000.0,1462665600000.0,1462752000000.0,1463356800000.0,1463788800000.0,1464134400000.0,1465257600000.0,1465344000000.0,1465862400000.0,1465948800000.0,1466380800000.0,1467331200000.0,1467763200000.0,1467849600000.0,1467936000000.0,1468281600000.0,1469491200000.0,1469923200000.0,1470096000000.0,1471392000000.0,1471478400000.0,1471996800000.0,1472083200000.0,1472774400000.0,1472860800000.0,1472947200000.0,1473033600000.0,1473120000000.0,1473465600000.0,1473638400000.0,1473724800000.0,1473811200000.0,1473897600000.0,1473984000000.0,1474416000000.0,1474588800000.0,1475020800000.0,1475193600000.0,1475280000000.0,1475884800000.0,1475971200000.0,1476057600000.0,1476230400000.0,1476316800000.0,1476403200000.0,1476489600000.0,1476576000000.0,1476662400000.0,1477699200000.0,1477872000000.0,1477958400000.0,1478390400000.0,1478476800000.0,1479081600000.0,1479340800000.0,1480723200000.0,1480809600000.0,1480982400000.0,1481587200000.0,1482105600000.0,1482624000000.0,1482710400000.0],\"y\":[176125.0,425911.0,231426.0,175425.0,174763.0,41300.0,152225.0,88100.0,243909.0,50800.0,358392.0,333993.0,236555.0,169937.0,1085661.14,128670.0,365546.25,82340.0,306050.0,176745.0,613900.0,196197.5,126500.0,239152.5,293509.52,166724.0,180819.02,266796.0,525816.26,418817.5,53961.5,47514.0,155300.0,277611.25,379915.0,168415.0,9000.0,529962.5,624284.0,124410.0,642255.0,210261.94,420277.5,143505.0,483517.0,76140.0,37350.0,194787.5,159430.0,563845.0,307435.0,190310.0,330950.0,493280.0,519375.0,248874.26,10000.0,221455.0,392948.01,73225.0,193655.0,337628.52,450929.0,188265.0,78971.5,148050.0,300147.5,416587.5,216635.0,67775.0,80190.0,60805.0,162743.52,683242.5,1175966.25,986081.0,316682.0,45577.5,425643.0,181250.0,341542.5,455715.5,0.0,196835.0,451319.5,1062432.5,346413.26,61400.0,758605.0,536010.0,102505.0,16350.0,163450.0]}},\"id\":\"b9ce4a78-21f6-4492-a238-0592273005dd\",\"type\":\"ColumnDataSource\"},{\"attributes\":{\"months\":[0,4,8]},\"id\":\"dac49885-51a7-4cff-a130-b19e692f8967\",\"type\":\"MonthsTicker\"},{\"attributes\":{\"axis_label\":\"Total Revenue\",\"formatter\":{\"id\":\"862eb576-0cbf-445a-9a9a-db625a601e58\",\"type\":\"BasicTickFormatter\"},\"plot\":{\"id\":\"687d75bb-bb13-4a6b-9443-779d0a3e61c1\",\"subtype\":\"Figure\",\"type\":\"Plot\"},\"ticker\":{\"id\":\"6fc9098e-1fd4-4981-becd-a489301a55d3\",\"type\":\"BasicTicker\"}},\"id\":\"b66eab42-5566-4ab0-8f4c-2d9c334ff73a\",\"type\":\"LinearAxis\"},{\"attributes\":{\"base\":60,\"mantissas\":[1,2,5,10,15,20,30],\"max_interval\":1800000.0,\"min_interval\":1000.0,\"num_minor_ticks\":0},\"id\":\"25faca9c-1fba-402c-b65a-938ab21bfa84\",\"type\":\"AdaptiveTicker\"},{\"attributes\":{\"line_alpha\":{\"value\":0.1},\"line_color\":{\"value\":\"#1f77b4\"},\"line_width\":{\"value\":2},\"x\":{\"field\":\"x\"},\"y\":{\"field\":\"y\"}},\"id\":\"bb6a9584-1d67-41f2-aae1-afbf066f7f50\",\"type\":\"Line\"},{\"attributes\":{\"callback\":null},\"id\":\"432538c3-62d1-40f5-98f9-85cb7d4e9ac0\",\"type\":\"DataRange1d\"},{\"attributes\":{\"line_color\":{\"value\":\"#1f77b4\"},\"line_width\":{\"value\":2},\"x\":{\"field\":\"x\"},\"y\":{\"field\":\"y\"}},\"id\":\"33812db7-fdf7-482f-9a31-540fe09f36c8\",\"type\":\"Line\"},{\"attributes\":{\"use_scientific\":false},\"id\":\"862eb576-0cbf-445a-9a9a-db625a601e58\",\"type\":\"BasicTickFormatter\"}],\"root_ids\":[\"687d75bb-bb13-4a6b-9443-779d0a3e61c1\"]},\"title\":\"Bokeh Application\",\"version\":\"0.12.2\"}};\n",
       "            var render_items = [{\"docid\":\"d6d75f9d-7afe-423b-a6b0-add490574f43\",\"elementid\":\"a9e84f4e-d182-4e6d-aae3-df50d6c7e72c\",\"modelid\":\"687d75bb-bb13-4a6b-9443-779d0a3e61c1\"}];\n",
       "            \n",
       "            Bokeh.embed.embed_items(docs_json, render_items);\n",
       "        });\n",
       "      },\n",
       "      function(Bokeh) {\n",
       "      }\n",
       "    ];\n",
       "  \n",
       "    function run_inline_js() {\n",
       "      \n",
       "      if ((window.Bokeh !== undefined) || (force === \"1\")) {\n",
       "        for (var i = 0; i < inline_js.length; i++) {\n",
       "          inline_js[i](window.Bokeh);\n",
       "        }if (force === \"1\") {\n",
       "          display_loaded();\n",
       "        }} else if (Date.now() < window._bokeh_timeout) {\n",
       "        setTimeout(run_inline_js, 100);\n",
       "      } else if (!window._bokeh_failed_load) {\n",
       "        console.log(\"Bokeh: BokehJS failed to load within specified timeout.\");\n",
       "        window._bokeh_failed_load = true;\n",
       "      } else if (!force) {\n",
       "        var cell = $(\"#a9e84f4e-d182-4e6d-aae3-df50d6c7e72c\").parents('.cell').data().cell;\n",
       "        cell.output_area.append_execute_result(NB_LOAD_WARNING)\n",
       "      }\n",
       "  \n",
       "    }\n",
       "  \n",
       "    if (window._bokeh_is_loading === 0) {\n",
       "      console.log(\"Bokeh: BokehJS loaded, going straight to plotting\");\n",
       "      run_inline_js();\n",
       "    } else {\n",
       "      load_libs(js_urls, function() {\n",
       "        console.log(\"Bokeh: BokehJS plotting callback run at\", now());\n",
       "        run_inline_js();\n",
       "      });\n",
       "    }\n",
       "  }(this));\n",
       "</script>"
      ]
     },
     "metadata": {},
     "output_type": "display_data"
    }
   ],
   "source": [
    "source = ColumnDataSource(\n",
    "        data=dict(\n",
    "            x=property_id_BB1[1],\n",
    "            y=property_id_BB1[4],\n",
    "            desc=property_id_BB1[3],\n",
    "            date=[x.strftime(\"%Y-%m-%d\") for x in property_id_BB['Booking_date']]\n",
    "        )\n",
    "    )\n",
    "\n",
    "hover = HoverTool(\n",
    "        tooltips=[\n",
    "            (\"Date\",\"@date\"),\n",
    "            (\"Event\", \"@desc\"),\n",
    "            (\"Total Revenue\",\"@y{1.11}\")\n",
    "        ]\n",
    "    )\n",
    "\n",
    "p = plt.figure(x_axis_type=\"datetime\",width=800, height=500, tools=[hover],\n",
    "           title=\"Graph of BookingDate vs TotalRevenue for BB (hover to view events)\",x_axis_label = \"Booking Date\",\n",
    "               y_axis_label = \"Total Revenue\")\n",
    "p.left[0].formatter.use_scientific = False\n",
    "p.line('x', 'y', line_width=2, source=source)  \n",
    "# p.circle('x','y',source=source)\n",
    "show(p)"
   ]
  },
  {
   "cell_type": "code",
   "execution_count": 27,
   "metadata": {
    "collapsed": false
   },
   "outputs": [
    {
     "data": {
      "text/html": [
       "\n",
       "\n",
       "    <div class=\"bk-root\">\n",
       "        <div class=\"plotdiv\" id=\"cb59f837-7893-4664-aec5-59dc787384f4\"></div>\n",
       "    </div>\n",
       "<script type=\"text/javascript\">\n",
       "  \n",
       "  (function(global) {\n",
       "    function now() {\n",
       "      return new Date();\n",
       "    }\n",
       "  \n",
       "    var force = \"\";\n",
       "  \n",
       "    if (typeof (window._bokeh_onload_callbacks) === \"undefined\" || force !== \"\") {\n",
       "      window._bokeh_onload_callbacks = [];\n",
       "      window._bokeh_is_loading = undefined;\n",
       "    }\n",
       "  \n",
       "  \n",
       "    \n",
       "    if (typeof (window._bokeh_timeout) === \"undefined\" || force !== \"\") {\n",
       "      window._bokeh_timeout = Date.now() + 0;\n",
       "      window._bokeh_failed_load = false;\n",
       "    }\n",
       "  \n",
       "    var NB_LOAD_WARNING = {'data': {'text/html':\n",
       "       \"<div style='background-color: #fdd'>\\n\"+\n",
       "       \"<p>\\n\"+\n",
       "       \"BokehJS does not appear to have successfully loaded. If loading BokehJS from CDN, this \\n\"+\n",
       "       \"may be due to a slow or bad network connection. Possible fixes:\\n\"+\n",
       "       \"</p>\\n\"+\n",
       "       \"<ul>\\n\"+\n",
       "       \"<li>re-rerun `output_notebook()` to attempt to load from CDN again, or</li>\\n\"+\n",
       "       \"<li>use INLINE resources instead, as so:</li>\\n\"+\n",
       "       \"</ul>\\n\"+\n",
       "       \"<code>\\n\"+\n",
       "       \"from bokeh.resources import INLINE\\n\"+\n",
       "       \"output_notebook(resources=INLINE)\\n\"+\n",
       "       \"</code>\\n\"+\n",
       "       \"</div>\"}};\n",
       "  \n",
       "    function display_loaded() {\n",
       "      if (window.Bokeh !== undefined) {\n",
       "        Bokeh.$(\"#cb59f837-7893-4664-aec5-59dc787384f4\").text(\"BokehJS successfully loaded.\");\n",
       "      } else if (Date.now() < window._bokeh_timeout) {\n",
       "        setTimeout(display_loaded, 100)\n",
       "      }\n",
       "    }\n",
       "  \n",
       "    function run_callbacks() {\n",
       "      window._bokeh_onload_callbacks.forEach(function(callback) { callback() });\n",
       "      delete window._bokeh_onload_callbacks\n",
       "      console.info(\"Bokeh: all callbacks have finished\");\n",
       "    }\n",
       "  \n",
       "    function load_libs(js_urls, callback) {\n",
       "      window._bokeh_onload_callbacks.push(callback);\n",
       "      if (window._bokeh_is_loading > 0) {\n",
       "        console.log(\"Bokeh: BokehJS is being loaded, scheduling callback at\", now());\n",
       "        return null;\n",
       "      }\n",
       "      if (js_urls == null || js_urls.length === 0) {\n",
       "        run_callbacks();\n",
       "        return null;\n",
       "      }\n",
       "      console.log(\"Bokeh: BokehJS not loaded, scheduling load and callback at\", now());\n",
       "      window._bokeh_is_loading = js_urls.length;\n",
       "      for (var i = 0; i < js_urls.length; i++) {\n",
       "        var url = js_urls[i];\n",
       "        var s = document.createElement('script');\n",
       "        s.src = url;\n",
       "        s.async = false;\n",
       "        s.onreadystatechange = s.onload = function() {\n",
       "          window._bokeh_is_loading--;\n",
       "          if (window._bokeh_is_loading === 0) {\n",
       "            console.log(\"Bokeh: all BokehJS libraries loaded\");\n",
       "            run_callbacks()\n",
       "          }\n",
       "        };\n",
       "        s.onerror = function() {\n",
       "          console.warn(\"failed to load library \" + url);\n",
       "        };\n",
       "        console.log(\"Bokeh: injecting script tag for BokehJS library: \", url);\n",
       "        document.getElementsByTagName(\"head\")[0].appendChild(s);\n",
       "      }\n",
       "    };var element = document.getElementById(\"cb59f837-7893-4664-aec5-59dc787384f4\");\n",
       "    if (element == null) {\n",
       "      console.log(\"Bokeh: ERROR: autoload.js configured with elementid 'cb59f837-7893-4664-aec5-59dc787384f4' but no matching script tag was found. \")\n",
       "      return false;\n",
       "    }\n",
       "  \n",
       "    var js_urls = [];\n",
       "  \n",
       "    var inline_js = [\n",
       "      function(Bokeh) {\n",
       "        Bokeh.$(function() {\n",
       "            var docs_json = {\"7c028f0d-408a-4e72-be9a-501de4f44505\":{\"roots\":{\"references\":[{\"attributes\":{\"callback\":null},\"id\":\"6860c84b-c635-49d9-b49e-b0a73935b43d\",\"type\":\"DataRange1d\"},{\"attributes\":{\"active_drag\":\"auto\",\"active_scroll\":\"auto\",\"active_tap\":\"auto\",\"tools\":[{\"id\":\"ef0e89f1-6af4-44b2-84ae-98d28e009658\",\"type\":\"HoverTool\"}]},\"id\":\"fb9970f5-717c-40ab-a26f-e98299a472ff\",\"type\":\"Toolbar\"},{\"attributes\":{\"months\":[0,2,4,6,8,10]},\"id\":\"d4a2ccc3-e443-4fa6-85f6-450778eb47f3\",\"type\":\"MonthsTicker\"},{\"attributes\":{\"max_interval\":500.0,\"num_minor_ticks\":0},\"id\":\"444227b5-90c2-46ca-83f8-0d5dc47505da\",\"type\":\"AdaptiveTicker\"},{\"attributes\":{\"months\":[0,6]},\"id\":\"15e1adcd-b51c-43f4-9ac9-604c060c445b\",\"type\":\"MonthsTicker\"},{\"attributes\":{\"dimension\":1,\"plot\":{\"id\":\"7d35e913-11a7-4a9c-a18e-d74ca5224ccb\",\"subtype\":\"Figure\",\"type\":\"Plot\"},\"ticker\":{\"id\":\"8543358c-871d-4f5c-9d41-721f152c6c55\",\"type\":\"BasicTicker\"}},\"id\":\"279468b9-3dd0-46f9-bc9b-426439980a54\",\"type\":\"Grid\"},{\"attributes\":{\"callback\":null,\"column_names\":[\"y\",\"x\",\"desc\",\"date\"],\"data\":{\"date\":[\"2016-01-02\",\"2016-01-12\",\"2016-01-14\",\"2016-01-15\",\"2016-01-16\",\"2016-01-17\",\"2016-01-25\",\"2016-01-26\",\"2016-01-28\",\"2016-01-31\",\"2016-02-02\",\"2016-02-09\",\"2016-02-12\",\"2016-02-13\",\"2016-02-19\",\"2016-02-22\",\"2016-03-04\",\"2016-03-05\",\"2016-03-07\",\"2016-03-09\",\"2016-03-22\",\"2016-03-23\",\"2016-03-25\",\"2016-04-01\",\"2016-04-05\",\"2016-04-08\",\"2016-04-14\",\"2016-04-15\",\"2016-04-19\",\"2016-04-20\",\"2016-04-21\",\"2016-05-01\",\"2016-05-08\",\"2016-05-09\",\"2016-05-16\",\"2016-05-21\",\"2016-05-25\",\"2016-06-07\",\"2016-06-08\",\"2016-06-14\",\"2016-06-15\",\"2016-06-20\",\"2016-07-01\",\"2016-07-06\",\"2016-07-07\",\"2016-07-08\",\"2016-07-12\",\"2016-07-26\",\"2016-07-31\",\"2016-08-02\",\"2016-08-17\",\"2016-08-18\",\"2016-08-24\",\"2016-08-25\",\"2016-09-02\",\"2016-09-03\",\"2016-09-04\",\"2016-09-05\",\"2016-09-06\",\"2016-09-10\",\"2016-09-12\",\"2016-09-13\",\"2016-09-14\",\"2016-09-15\",\"2016-09-16\",\"2016-09-21\",\"2016-09-23\",\"2016-09-28\",\"2016-09-30\",\"2016-10-01\",\"2016-10-08\",\"2016-10-09\",\"2016-10-10\",\"2016-10-12\",\"2016-10-13\",\"2016-10-14\",\"2016-10-15\",\"2016-10-16\",\"2016-10-17\",\"2016-10-29\",\"2016-10-31\",\"2016-11-01\",\"2016-11-06\",\"2016-11-07\",\"2016-11-14\",\"2016-11-17\",\"2016-12-03\",\"2016-12-04\",\"2016-12-06\",\"2016-12-13\",\"2016-12-19\",\"2016-12-25\",\"2016-12-26\"],\"desc\":[\"Mannam Jayanthi\",\"Birthday of Swami Vivekananda\",\"Pongal\",\"Sankranti\",\"Guru Gobind Singh Jayanti\",\"Uzhavar Tirunal\",\"Statehood Day\",\"Republic Day\",\"Birthday of Lala Lajpat Rai\",\"Me-dam-me-phi\",\"Public Holiday\",\"Losar\",\"Vasant Panchami\",\"Sree Panchami\",\"Chhatrapati Shivaji Maharaj Jayanti\",\"Guru Ravidas Birthday\",\"Maharshi Dayanand Saraswati Jayanti\",\"Panchayati Raj Diwas\",\"Maha Shivratri\",\"Solar Eclipse\",\"Bihar Divas\",\"Doljatra\",\"Good Friday\",\"Odisha Day\",\"Babu Jagjivan Ram Birthday\",\"Ugadi\",\"Tamil New Year\",\"Ram Navami\",\"Mahavir Jayanti\",\"Garia Puja\",\"Hazrat Alis Birthday\",\"May Day\",\"Birthday of Rabindra Nath Tagore\",\"Parashurama Jayanti\",\"Public Holiday\",\"Buddha Purnima\",\"Birthday of Kazi Nazrul Islam\",\"Maharana Pratap Jayanti\",\"Guru Arjun Dev Martyrdom day\",\"Pahili Raja\",\"Raja Sankranti\",\"Sant Guru Kabir Jayanti\",\"Jumat-ul-Wida\",\"Idul Fitr\",\"Ramzan\",\"Ramzan\",\"Kharchi Puja\",\"Ker Puja\",\"Martyrdom Day of Shaheed Udham Singh\",\"Karkkadaka Vavu\",\"Parsi New Year\",\"Raksha Bandhan\",\"Sreekrishna Jayanthi\",\"Janmashtami\",\"Parkash Utsav Sri Guru Granth Sahib Ji\",\"Tithi of Shrimanta Shankar Dev\",\"Teej\",\"Ganesh Chaturthi\",\"Ganesh Chaturthi Holiday\",\"Birthday of Baba Sri Chand Ji\",\"Idul Juha\",\"First Onam\",\"Thiruvonam\",\"Third Onam\",\"Sree Narayana Guru Jayanti\",\"Sree Narayana Guru Samadhi\",\"Haryana's Heroes' Martyrdom Day\",\"Birthday of S. Bhagat Singh Ji\",\"Mahalaya\",\"Maharaja Agrasen Jayanati\",\"Panchami\",\"Durgastami\",\"Ayudha Puja\",\"Muharram (10th Day)\",\"Durga Puja Holiday\",\"Durga Puja Holiday\",\"Maharishi Valmiki Birthday\",\"Maharishi Valmiki Birthday\",\"Parkash Gurpurab of Sri Guru Ram Dass Ji\",\"Deepavali\",\"Deepavali\",\"Bhai Bij\",\"Chhath Puja\",\"Chhath Puja\",\"Guru Nanak Birthday\",\"Kanakadasa Jayanthi\",\"World Disabled Day\",\"Martyrdom Day of Sri Guru Teg Bahadur Ji\",\"Public Holiday\",\"Id-e-Milad\",\"Goa Liberation Day\",\"Christmas Day\",\"Shaheed Udham Singh's Birthday\"],\"x\":[1451692800000.0,1452556800000.0,1452729600000.0,1452816000000.0,1452902400000.0,1452988800000.0,1453680000000.0,1453766400000.0,1453939200000.0,1454198400000.0,1454371200000.0,1454976000000.0,1455235200000.0,1455321600000.0,1455840000000.0,1456099200000.0,1457049600000.0,1457136000000.0,1457308800000.0,1457481600000.0,1458604800000.0,1458691200000.0,1458864000000.0,1459468800000.0,1459814400000.0,1460073600000.0,1460592000000.0,1460678400000.0,1461024000000.0,1461110400000.0,1461196800000.0,1462060800000.0,1462665600000.0,1462752000000.0,1463356800000.0,1463788800000.0,1464134400000.0,1465257600000.0,1465344000000.0,1465862400000.0,1465948800000.0,1466380800000.0,1467331200000.0,1467763200000.0,1467849600000.0,1467936000000.0,1468281600000.0,1469491200000.0,1469923200000.0,1470096000000.0,1471392000000.0,1471478400000.0,1471996800000.0,1472083200000.0,1472774400000.0,1472860800000.0,1472947200000.0,1473033600000.0,1473120000000.0,1473465600000.0,1473638400000.0,1473724800000.0,1473811200000.0,1473897600000.0,1473984000000.0,1474416000000.0,1474588800000.0,1475020800000.0,1475193600000.0,1475280000000.0,1475884800000.0,1475971200000.0,1476057600000.0,1476230400000.0,1476316800000.0,1476403200000.0,1476489600000.0,1476576000000.0,1476662400000.0,1477699200000.0,1477872000000.0,1477958400000.0,1478390400000.0,1478476800000.0,1479081600000.0,1479340800000.0,1480723200000.0,1480809600000.0,1480982400000.0,1481587200000.0,1482105600000.0,1482624000000.0,1482710400000.0],\"y\":[58708.33333333334,35492.58333333334,12180.31578947369,25060.71428571429,24966.14285714286,13766.66666666667,25370.83333333333,22025.0,27101.0,25400.0,51198.85714285714,41749.125,26283.88888888889,42484.25,47202.65826086957,18381.42857142857,36554.625,41170.0,34005.55555555555,13595.76923076923,27904.54545454546,28028.21428571429,21083.33333333333,39858.75,32612.16888888889,33344.8,12054.60133333333,33349.5,19474.6762962963,46535.27777777778,1498.930555555556,11878.5,51766.66666666666,23134.27083333333,37991.5,21051.875,1125.0,16059.4696969697,19508.875,17772.85714285714,22146.72413793104,16173.99538461538,12735.68181818182,35876.25,20146.54166666667,19035.0,4150.0,21643.05555555555,39857.5,18794.83333333333,27948.63636363636,19031.0,20684.375,29016.47058823529,20775.0,35553.46571428572,10000.0,27681.875,26196.534,24408.33333333333,24206.875,28135.71,28183.0625,31377.5,39485.75,29610.0,15797.23684210526,34715.625,24070.55555555555,33887.5,40095.0,20268.33333333333,1849.358181818182,42702.65625,37934.39516129033,37926.1923076923,35186.88888888889,22788.75,42564.3,30208.33333333333,34154.25,37976.29166666666,0.0,39367.0,50146.61111111111,37944.01785714286,31492.11454545455,61400.0,39926.57894736842,48728.18181818182,17084.16666666667,16350.0,14859.09090909091]}},\"id\":\"325ae9c9-c44d-4375-8f04-954dc017afc9\",\"type\":\"ColumnDataSource\"},{\"attributes\":{\"num_minor_ticks\":5},\"id\":\"28724211-3abe-4929-b3c2-df36299e2301\",\"type\":\"DatetimeTicker\"},{\"attributes\":{\"line_alpha\":{\"value\":0.1},\"line_color\":{\"value\":\"#1f77b4\"},\"line_width\":{\"value\":2},\"x\":{\"field\":\"x\"},\"y\":{\"field\":\"y\"}},\"id\":\"5ba75af1-46ea-4948-9235-47fe718f6c71\",\"type\":\"Line\"},{\"attributes\":{\"callback\":null,\"plot\":{\"id\":\"7d35e913-11a7-4a9c-a18e-d74ca5224ccb\",\"subtype\":\"Figure\",\"type\":\"Plot\"},\"tooltips\":[[\"Date\",\"@date\"],[\"Event\",\"@desc\"],[\"ADR\",\"@y{1.11}\"]]},\"id\":\"ef0e89f1-6af4-44b2-84ae-98d28e009658\",\"type\":\"HoverTool\"},{\"attributes\":{},\"id\":\"3777f77b-c2c2-4da5-8345-275a29df0eb9\",\"type\":\"YearsTicker\"},{\"attributes\":{},\"id\":\"25e59b9c-939a-430f-9e71-4784c5273444\",\"type\":\"ToolEvents\"},{\"attributes\":{\"days\":[1,4,7,10,13,16,19,22,25,28]},\"id\":\"c205dcc8-b758-4aed-9e28-34e6ffb1d707\",\"type\":\"DaysTicker\"},{\"attributes\":{\"plot\":null,\"text\":\"Graph of Booking Date vs ADR for BB (hover to view events)\"},\"id\":\"6a9e875c-6844-4f71-948d-dd05f3ada18d\",\"type\":\"Title\"},{\"attributes\":{\"line_color\":{\"value\":\"#1f77b4\"},\"line_width\":{\"value\":2},\"x\":{\"field\":\"x\"},\"y\":{\"field\":\"y\"}},\"id\":\"6a63fbee-76d2-497a-aa51-d0c03d81a291\",\"type\":\"Line\"},{\"attributes\":{\"months\":[0,4,8]},\"id\":\"698bf5cc-28f1-411f-83b9-73543c45debc\",\"type\":\"MonthsTicker\"},{\"attributes\":{\"months\":[0,1,2,3,4,5,6,7,8,9,10,11]},\"id\":\"fd7dd2a0-88b1-452e-8331-4adb63220483\",\"type\":\"MonthsTicker\"},{\"attributes\":{\"days\":[1,8,15,22]},\"id\":\"76b9fb21-f6a7-44f5-b700-a702898c710a\",\"type\":\"DaysTicker\"},{\"attributes\":{\"base\":24,\"mantissas\":[1,2,4,6,8,12],\"max_interval\":43200000.0,\"min_interval\":3600000.0,\"num_minor_ticks\":0},\"id\":\"72d0c32a-aabf-43db-aedf-cd9bca2272d1\",\"type\":\"AdaptiveTicker\"},{\"attributes\":{},\"id\":\"8543358c-871d-4f5c-9d41-721f152c6c55\",\"type\":\"BasicTicker\"},{\"attributes\":{},\"id\":\"4d9a89db-0d67-421a-ae92-0491e6b200a2\",\"type\":\"DatetimeTickFormatter\"},{\"attributes\":{\"data_source\":{\"id\":\"325ae9c9-c44d-4375-8f04-954dc017afc9\",\"type\":\"ColumnDataSource\"},\"glyph\":{\"id\":\"6a63fbee-76d2-497a-aa51-d0c03d81a291\",\"type\":\"Line\"},\"hover_glyph\":null,\"nonselection_glyph\":{\"id\":\"5ba75af1-46ea-4948-9235-47fe718f6c71\",\"type\":\"Line\"},\"selection_glyph\":null},\"id\":\"45a6b4dd-e41b-4c63-9cbb-e8bd27eba4ec\",\"type\":\"GlyphRenderer\"},{\"attributes\":{\"base\":60,\"mantissas\":[1,2,5,10,15,20,30],\"max_interval\":1800000.0,\"min_interval\":1000.0,\"num_minor_ticks\":0},\"id\":\"58429843-89f8-4bd8-b7dc-253a4e10ccdc\",\"type\":\"AdaptiveTicker\"},{\"attributes\":{\"below\":[{\"id\":\"d778e64b-dcec-4dff-bfe6-d7ff26d54a13\",\"type\":\"DatetimeAxis\"}],\"left\":[{\"id\":\"fca92ebd-fc28-4683-b090-48de8a3f4bb9\",\"type\":\"LinearAxis\"}],\"plot_height\":500,\"plot_width\":800,\"renderers\":[{\"id\":\"d778e64b-dcec-4dff-bfe6-d7ff26d54a13\",\"type\":\"DatetimeAxis\"},{\"id\":\"95c6bbcc-2392-4f71-842d-6bc8f7500594\",\"type\":\"Grid\"},{\"id\":\"fca92ebd-fc28-4683-b090-48de8a3f4bb9\",\"type\":\"LinearAxis\"},{\"id\":\"279468b9-3dd0-46f9-bc9b-426439980a54\",\"type\":\"Grid\"},{\"id\":\"45a6b4dd-e41b-4c63-9cbb-e8bd27eba4ec\",\"type\":\"GlyphRenderer\"}],\"title\":{\"id\":\"6a9e875c-6844-4f71-948d-dd05f3ada18d\",\"type\":\"Title\"},\"tool_events\":{\"id\":\"25e59b9c-939a-430f-9e71-4784c5273444\",\"type\":\"ToolEvents\"},\"toolbar\":{\"id\":\"fb9970f5-717c-40ab-a26f-e98299a472ff\",\"type\":\"Toolbar\"},\"x_range\":{\"id\":\"6860c84b-c635-49d9-b49e-b0a73935b43d\",\"type\":\"DataRange1d\"},\"y_range\":{\"id\":\"f47bdebf-d364-4be9-a7c6-ae5aa42e27d6\",\"type\":\"DataRange1d\"}},\"id\":\"7d35e913-11a7-4a9c-a18e-d74ca5224ccb\",\"subtype\":\"Figure\",\"type\":\"Plot\"},{\"attributes\":{\"axis_label\":\"ADR\",\"formatter\":{\"id\":\"633e5320-77e8-4fbe-903c-5f005f43a97f\",\"type\":\"BasicTickFormatter\"},\"plot\":{\"id\":\"7d35e913-11a7-4a9c-a18e-d74ca5224ccb\",\"subtype\":\"Figure\",\"type\":\"Plot\"},\"ticker\":{\"id\":\"8543358c-871d-4f5c-9d41-721f152c6c55\",\"type\":\"BasicTicker\"}},\"id\":\"fca92ebd-fc28-4683-b090-48de8a3f4bb9\",\"type\":\"LinearAxis\"},{\"attributes\":{\"axis_label\":\"Booking Date\",\"formatter\":{\"id\":\"4d9a89db-0d67-421a-ae92-0491e6b200a2\",\"type\":\"DatetimeTickFormatter\"},\"plot\":{\"id\":\"7d35e913-11a7-4a9c-a18e-d74ca5224ccb\",\"subtype\":\"Figure\",\"type\":\"Plot\"},\"ticker\":{\"id\":\"28724211-3abe-4929-b3c2-df36299e2301\",\"type\":\"DatetimeTicker\"}},\"id\":\"d778e64b-dcec-4dff-bfe6-d7ff26d54a13\",\"type\":\"DatetimeAxis\"},{\"attributes\":{\"callback\":null},\"id\":\"f47bdebf-d364-4be9-a7c6-ae5aa42e27d6\",\"type\":\"DataRange1d\"},{\"attributes\":{\"days\":[1,15]},\"id\":\"e4e808a0-ab33-405b-a370-f404933524bb\",\"type\":\"DaysTicker\"},{\"attributes\":{\"use_scientific\":false},\"id\":\"633e5320-77e8-4fbe-903c-5f005f43a97f\",\"type\":\"BasicTickFormatter\"},{\"attributes\":{\"days\":[1,2,3,4,5,6,7,8,9,10,11,12,13,14,15,16,17,18,19,20,21,22,23,24,25,26,27,28,29,30,31]},\"id\":\"e33ab684-a177-4be6-a6f3-3ec662331b16\",\"type\":\"DaysTicker\"},{\"attributes\":{\"plot\":{\"id\":\"7d35e913-11a7-4a9c-a18e-d74ca5224ccb\",\"subtype\":\"Figure\",\"type\":\"Plot\"},\"ticker\":{\"id\":\"28724211-3abe-4929-b3c2-df36299e2301\",\"type\":\"DatetimeTicker\"}},\"id\":\"95c6bbcc-2392-4f71-842d-6bc8f7500594\",\"type\":\"Grid\"}],\"root_ids\":[\"7d35e913-11a7-4a9c-a18e-d74ca5224ccb\"]},\"title\":\"Bokeh Application\",\"version\":\"0.12.2\"}};\n",
       "            var render_items = [{\"docid\":\"7c028f0d-408a-4e72-be9a-501de4f44505\",\"elementid\":\"cb59f837-7893-4664-aec5-59dc787384f4\",\"modelid\":\"7d35e913-11a7-4a9c-a18e-d74ca5224ccb\"}];\n",
       "            \n",
       "            Bokeh.embed.embed_items(docs_json, render_items);\n",
       "        });\n",
       "      },\n",
       "      function(Bokeh) {\n",
       "      }\n",
       "    ];\n",
       "  \n",
       "    function run_inline_js() {\n",
       "      \n",
       "      if ((window.Bokeh !== undefined) || (force === \"1\")) {\n",
       "        for (var i = 0; i < inline_js.length; i++) {\n",
       "          inline_js[i](window.Bokeh);\n",
       "        }if (force === \"1\") {\n",
       "          display_loaded();\n",
       "        }} else if (Date.now() < window._bokeh_timeout) {\n",
       "        setTimeout(run_inline_js, 100);\n",
       "      } else if (!window._bokeh_failed_load) {\n",
       "        console.log(\"Bokeh: BokehJS failed to load within specified timeout.\");\n",
       "        window._bokeh_failed_load = true;\n",
       "      } else if (!force) {\n",
       "        var cell = $(\"#cb59f837-7893-4664-aec5-59dc787384f4\").parents('.cell').data().cell;\n",
       "        cell.output_area.append_execute_result(NB_LOAD_WARNING)\n",
       "      }\n",
       "  \n",
       "    }\n",
       "  \n",
       "    if (window._bokeh_is_loading === 0) {\n",
       "      console.log(\"Bokeh: BokehJS loaded, going straight to plotting\");\n",
       "      run_inline_js();\n",
       "    } else {\n",
       "      load_libs(js_urls, function() {\n",
       "        console.log(\"Bokeh: BokehJS plotting callback run at\", now());\n",
       "        run_inline_js();\n",
       "      });\n",
       "    }\n",
       "  }(this));\n",
       "</script>"
      ]
     },
     "metadata": {},
     "output_type": "display_data"
    }
   ],
   "source": [
    "source = ColumnDataSource(\n",
    "        data=dict(\n",
    "            x=property_id_BB1[1],\n",
    "            y=property_id_BB1[6],\n",
    "            desc=property_id_BB1[3],\n",
    "            date=[x.strftime(\"%Y-%m-%d\") for x in property_id_BB['Booking_date']]\n",
    "        )\n",
    "    )\n",
    "\n",
    "hover = HoverTool(\n",
    "        tooltips=[\n",
    "            (\"Date\",\"@date\"),\n",
    "            (\"Event\", \"@desc\"),\n",
    "            (\"ADR\",\"@y{1.11}\")\n",
    "        ]\n",
    "    )\n",
    "\n",
    "p = plt.figure(x_axis_type=\"datetime\",width=800, height=500, tools=[hover],\n",
    "           title=\"Graph of Booking Date vs ADR for BB (hover to view events)\",x_axis_label = \"Booking Date\",\n",
    "               y_axis_label = \"ADR\")\n",
    "p.left[0].formatter.use_scientific = False\n",
    "p.line('x', 'y', line_width=2, source=source)   \n",
    "show(p)"
   ]
  },
  {
   "cell_type": "code",
   "execution_count": null,
   "metadata": {
    "collapsed": true
   },
   "outputs": [],
   "source": []
  },
  {
   "cell_type": "code",
   "execution_count": null,
   "metadata": {
    "collapsed": true
   },
   "outputs": [],
   "source": [
    "property_id_BG = pd.read_excel('Results/GroupByPropertyID/2016/BG.xlsx')\n",
    "property_id_BG = property_id_BG.reset_index()\n",
    "property_id_BG = property_id_BG.sort_values(by = 'Booking_date', ascending=True)\n",
    "property_id_BG1 = property_id_BG.values.T.tolist()"
   ]
  },
  {
   "cell_type": "code",
   "execution_count": null,
   "metadata": {
    "collapsed": false
   },
   "outputs": [],
   "source": [
    "source = ColumnDataSource(\n",
    "        data=dict(\n",
    "            x=property_id_BG1[1],\n",
    "            y=property_id_BG1[4],\n",
    "            desc=property_id_BG1[3],\n",
    "            date=[x.strftime(\"%Y-%m-%d\") for x in property_id_BG['Booking_date']]\n",
    "        )\n",
    "    )\n",
    "\n",
    "hover = HoverTool(\n",
    "        tooltips=[\n",
    "            (\"Date\",\"@date\"),\n",
    "            (\"Event\", \"@desc\"),\n",
    "            (\"Total Revenue\",\"@y{1.11}\")\n",
    "        ]\n",
    "    )\n",
    "\n",
    "p = plt.figure(x_axis_type=\"datetime\",width=800, height=500, tools=[hover],\n",
    "           title=\"Graph of BookingDate vs TotalRevenue for BG (hover to view events)\",x_axis_label = \"Booking Date\",\n",
    "               y_axis_label = \"Total Revenue\")\n",
    "p.left[0].formatter.use_scientific = False\n",
    "p.line('x', 'y', line_width=2, source=source)   \n",
    "show(p)\n"
   ]
  },
  {
   "cell_type": "code",
   "execution_count": null,
   "metadata": {
    "collapsed": false
   },
   "outputs": [],
   "source": [
    "source = ColumnDataSource(\n",
    "        data=dict(\n",
    "            x=property_id_BG1[1],\n",
    "            y=property_id_BG1[6],\n",
    "            desc=property_id_BG1[3],\n",
    "            date=[x.strftime(\"%Y-%m-%d\") for x in property_id_BG['Booking_date']]\n",
    "        )\n",
    "    )\n",
    "\n",
    "hover = HoverTool(\n",
    "        tooltips=[\n",
    "            (\"Date\",\"@date\"),\n",
    "            (\"Event\", \"@desc\"),\n",
    "            (\"ADR\",\"@y{1.11}\")\n",
    "        ]\n",
    "    )\n",
    "\n",
    "p = plt.figure(x_axis_type=\"datetime\",width=800, height=500, tools=[hover],\n",
    "           title=\"Graph of Booking Date vs ADR for BG (hover to view events)\",x_axis_label = \"Booking Date\",\n",
    "               y_axis_label = \"ADR\")\n",
    "p.left[0].formatter.use_scientific = False\n",
    "p.line('x', 'y', line_width=2, source=source)   \n",
    "show(p)\n"
   ]
  },
  {
   "cell_type": "code",
   "execution_count": null,
   "metadata": {
    "collapsed": true
   },
   "outputs": [],
   "source": []
  },
  {
   "cell_type": "code",
   "execution_count": null,
   "metadata": {
    "collapsed": true
   },
   "outputs": [],
   "source": [
    "property_id_CH = pd.read_excel('Results/GroupByPropertyID/2016/CH.xlsx')\n",
    "property_id_CH = property_id_CH.reset_index()\n",
    "property_id_CH = property_id_CH.sort_values(by = 'Booking_date', ascending=True)\n",
    "property_id_CH1 = property_id_CH.values.T.tolist()"
   ]
  },
  {
   "cell_type": "code",
   "execution_count": null,
   "metadata": {
    "collapsed": false
   },
   "outputs": [],
   "source": [
    "source = ColumnDataSource(\n",
    "        data=dict(\n",
    "            x=property_id_CH1[1],\n",
    "            y=property_id_CH1[4],\n",
    "            desc=property_id_CH1[3],\n",
    "            date=[x.strftime(\"%Y-%m-%d\") for x in property_id_CH['Booking_date']]\n",
    "        )\n",
    "    )\n",
    "\n",
    "hover = HoverTool(\n",
    "        tooltips=[\n",
    "            (\"Date\",\"@date\"),\n",
    "            (\"Event\", \"@desc\"),\n",
    "            (\"Total Revenue\",\"@y{1.11}\")\n",
    "        ]\n",
    "    )\n",
    "\n",
    "p = plt.figure(x_axis_type=\"datetime\",width=800, height=500, tools=[hover],\n",
    "           title=\"Graph of BookingDate vs TotalRevenue for CH (hover to view events)\",x_axis_label = \"Booking Date\",\n",
    "               y_axis_label = \"Total Revenue\")\n",
    "p.left[0].formatter.use_scientific = False\n",
    "p.line('x', 'y', line_width=2, source=source)   \n",
    "show(p)\n"
   ]
  },
  {
   "cell_type": "code",
   "execution_count": null,
   "metadata": {
    "collapsed": false
   },
   "outputs": [],
   "source": [
    "source = ColumnDataSource(\n",
    "        data=dict(\n",
    "            x=property_id_CH1[1],\n",
    "            y=property_id_CH1[6],\n",
    "            desc=property_id_CH1[3],\n",
    "            date=[x.strftime(\"%Y-%m-%d\") for x in property_id_CH['Booking_date']]\n",
    "        )\n",
    "    )\n",
    "\n",
    "hover = HoverTool(\n",
    "        tooltips=[\n",
    "            (\"Date\",\"@date\"),\n",
    "            (\"Event\", \"@desc\"),\n",
    "            (\"ADR\",\"@y{1.11}\")\n",
    "        ]\n",
    "    )\n",
    "\n",
    "p = plt.figure(x_axis_type=\"datetime\",width=800, height=500, tools=[hover],\n",
    "           title=\"Graph of Booking Date vs ADR for CH (hover to view events)\",x_axis_label = \"Booking Date\",\n",
    "               y_axis_label = \"ADR\")\n",
    "p.left[0].formatter.use_scientific = False\n",
    "p.line('x', 'y', line_width=2, source=source)   \n",
    "show(p)\n"
   ]
  },
  {
   "cell_type": "code",
   "execution_count": null,
   "metadata": {
    "collapsed": true
   },
   "outputs": [],
   "source": []
  },
  {
   "cell_type": "code",
   "execution_count": null,
   "metadata": {
    "collapsed": true
   },
   "outputs": [],
   "source": [
    "property_id_CL = pd.read_excel('Results/GroupByPropertyID/2016/CL.xlsx')\n",
    "property_id_CL = property_id_CL.reset_index()\n",
    "property_id_CL = property_id_CL.sort_values(by = 'Booking_date', ascending=True)\n",
    "property_id_CL1 = property_id_CL.values.T.tolist()\n"
   ]
  },
  {
   "cell_type": "code",
   "execution_count": null,
   "metadata": {
    "collapsed": false
   },
   "outputs": [],
   "source": [
    "source = ColumnDataSource(\n",
    "        data=dict(\n",
    "            x=property_id_CL1[1],\n",
    "            y=property_id_CL1[4],\n",
    "            desc=property_id_CL1[3],\n",
    "            date=[x.strftime(\"%Y-%m-%d\") for x in property_id_CL['Booking_date']]\n",
    "        )\n",
    "    )\n",
    "\n",
    "hover = HoverTool(\n",
    "        tooltips=[\n",
    "            (\"Date\",\"@date\"),\n",
    "            (\"Event\", \"@desc\"),\n",
    "            (\"Total Revenue\",\"@y{1.11}\")\n",
    "        ]\n",
    "    )\n",
    "\n",
    "p = plt.figure(x_axis_type=\"datetime\",width=800, height=500, tools=[hover],\n",
    "           title=\"Graph of BookingDate vs TotalRevenue for CL (hover to view events)\",x_axis_label = \"Booking Date\",\n",
    "               y_axis_label = \"Total Revenue\")\n",
    "p.left[0].formatter.use_scientific = False\n",
    "p.line('x', 'y', line_width=2, source=source)   \n",
    "show(p)\n"
   ]
  },
  {
   "cell_type": "code",
   "execution_count": null,
   "metadata": {
    "collapsed": false
   },
   "outputs": [],
   "source": [
    "source = ColumnDataSource(\n",
    "        data=dict(\n",
    "            x=property_id_CL1[1],\n",
    "            y=property_id_CL1[6],\n",
    "            desc=property_id_CL1[3],\n",
    "            date=[x.strftime(\"%Y-%m-%d\") for x in property_id_CL['Booking_date']]\n",
    "        )\n",
    "    )\n",
    "\n",
    "hover = HoverTool(\n",
    "        tooltips=[\n",
    "            (\"Date\",\"@date\"),\n",
    "            (\"Event\", \"@desc\"),\n",
    "            (\"ADR\",\"@y{1.11}\")\n",
    "        ]\n",
    "    )\n",
    "\n",
    "p = plt.figure(x_axis_type=\"datetime\",width=800, height=500, tools=[hover],\n",
    "           title=\"Graph of Booking Date vs ADR for CL (hover to view events)\",x_axis_label = \"Booking Date\",\n",
    "               y_axis_label = \"ADR\")\n",
    "p.left[0].formatter.use_scientific = False\n",
    "p.line('x', 'y', line_width=2, source=source)   \n",
    "show(p)\n"
   ]
  },
  {
   "cell_type": "code",
   "execution_count": null,
   "metadata": {
    "collapsed": true
   },
   "outputs": [],
   "source": []
  },
  {
   "cell_type": "code",
   "execution_count": null,
   "metadata": {
    "collapsed": true
   },
   "outputs": [],
   "source": [
    "property_id_EB = pd.read_excel('Results/GroupByPropertyID/2016/EB.xlsx')\n",
    "property_id_EB = property_id_EB.reset_index()\n",
    "property_id_EB = property_id_EB.sort_values(by = 'Booking_date', ascending=True)\n",
    "property_id_EB1 = property_id_EB.values.T.tolist()\n"
   ]
  },
  {
   "cell_type": "code",
   "execution_count": null,
   "metadata": {
    "collapsed": false
   },
   "outputs": [],
   "source": [
    "source = ColumnDataSource(\n",
    "        data=dict(\n",
    "            x=property_id_EB1[1],\n",
    "            y=property_id_EB1[4],\n",
    "            desc=property_id_EB1[3],\n",
    "            date=[x.strftime(\"%Y-%m-%d\") for x in property_id_EB['Booking_date']]\n",
    "        )\n",
    "    )\n",
    "\n",
    "hover = HoverTool(\n",
    "        tooltips=[\n",
    "            (\"Date\",\"@date\"),\n",
    "            (\"Event\", \"@desc\"),\n",
    "            (\"Total Revenue\",\"@y{1.11}\")\n",
    "        ]\n",
    "    )\n",
    "\n",
    "p = plt.figure(x_axis_type=\"datetime\",width=800, height=500, tools=[hover],\n",
    "           title=\"Graph of BookingDate vs TotalRevenue for EB (hover to view events)\",x_axis_label = \"Booking Date\",\n",
    "               y_axis_label = \"Total Revenue\")\n",
    "p.left[0].formatter.use_scientific = False\n",
    "p.line('x', 'y', line_width=2, source=source)   \n",
    "show(p)\n"
   ]
  },
  {
   "cell_type": "code",
   "execution_count": null,
   "metadata": {
    "collapsed": false
   },
   "outputs": [],
   "source": [
    "source = ColumnDataSource(\n",
    "        data=dict(\n",
    "            x=property_id_EB1[1],\n",
    "            y=property_id_EB1[6],\n",
    "            desc=property_id_EB1[3],\n",
    "            date=[x.strftime(\"%Y-%m-%d\") for x in property_id_EB['Booking_date']]\n",
    "        )\n",
    "    )\n",
    "\n",
    "hover = HoverTool(\n",
    "        tooltips=[\n",
    "            (\"Date\",\"@date\"),\n",
    "            (\"Event\", \"@desc\"),\n",
    "            (\"ADR\",\"@y{1.11}\")\n",
    "        ]\n",
    "    )\n",
    "\n",
    "p = plt.figure(x_axis_type=\"datetime\",width=800, height=500, tools=[hover],\n",
    "           title=\"Graph of Booking Date vs ADR for EB (hover to view events)\",x_axis_label = \"Booking Date\",\n",
    "               y_axis_label = \"ADR\")\n",
    "p.left[0].formatter.use_scientific = False\n",
    "p.line('x', 'y', line_width=2, source=source)   \n",
    "show(p)\n"
   ]
  },
  {
   "cell_type": "code",
   "execution_count": null,
   "metadata": {
    "collapsed": true
   },
   "outputs": [],
   "source": []
  },
  {
   "cell_type": "code",
   "execution_count": null,
   "metadata": {
    "collapsed": true
   },
   "outputs": [],
   "source": [
    "property_id_KK = pd.read_excel('Results/GroupByPropertyID/2016/KK.xlsx')\n",
    "property_id_KK = property_id_KK.reset_index()\n",
    "property_id_KK = property_id_KK.sort_values(by = 'Booking_date', ascending=True)\n",
    "property_id_KK1 = property_id_KK.values.T.tolist()\n"
   ]
  },
  {
   "cell_type": "code",
   "execution_count": null,
   "metadata": {
    "collapsed": false
   },
   "outputs": [],
   "source": [
    "source = ColumnDataSource(\n",
    "        data=dict(\n",
    "            x=property_id_KK1[1],\n",
    "            y=property_id_KK1[4],\n",
    "            desc=property_id_KK1[3],\n",
    "            date=[x.strftime(\"%Y-%m-%d\") for x in property_id_KK['Booking_date']]\n",
    "        )\n",
    "    )\n",
    "\n",
    "hover = HoverTool(\n",
    "        tooltips=[\n",
    "            (\"Date\",\"@date\"),\n",
    "            (\"Event\", \"@desc\"),\n",
    "            (\"Total Revenue\",\"@y{1.11}\")\n",
    "        ]\n",
    "    )\n",
    "\n",
    "p = plt.figure(x_axis_type=\"datetime\",width=800, height=500, tools=[hover],\n",
    "           title=\"Graph of BookingDate vs TotalRevenue for KK (hover to view events)\",x_axis_label = \"Booking Date\",\n",
    "               y_axis_label = \"Total Revenue\")\n",
    "p.left[0].formatter.use_scientific = False\n",
    "p.line('x', 'y', line_width=2, source=source)   \n",
    "show(p)\n"
   ]
  },
  {
   "cell_type": "code",
   "execution_count": null,
   "metadata": {
    "collapsed": false
   },
   "outputs": [],
   "source": [
    "source = ColumnDataSource(\n",
    "        data=dict(\n",
    "            x=property_id_KK1[1],\n",
    "            y=property_id_KK1[6],\n",
    "            desc=property_id_KK1[3],\n",
    "            date=[x.strftime(\"%Y-%m-%d\") for x in property_id_KK['Booking_date']]\n",
    "        )\n",
    "    )\n",
    "\n",
    "hover = HoverTool(\n",
    "        tooltips=[\n",
    "            (\"Date\",\"@date\"),\n",
    "            (\"Event\", \"@desc\"),\n",
    "            (\"ADR\",\"@y{1.11}\")\n",
    "        ]\n",
    "    )\n",
    "\n",
    "p = plt.figure(x_axis_type=\"datetime\",width=800, height=500, tools=[hover],\n",
    "           title=\"Graph of Booking Date vs ADR for KK (hover to view events)\",x_axis_label = \"Booking Date\",\n",
    "               y_axis_label = \"ADR\")\n",
    "p.left[0].formatter.use_scientific = False\n",
    "p.line('x', 'y', line_width=2, source=source)   \n",
    "show(p)\n"
   ]
  },
  {
   "cell_type": "code",
   "execution_count": null,
   "metadata": {
    "collapsed": true
   },
   "outputs": [],
   "source": []
  },
  {
   "cell_type": "code",
   "execution_count": null,
   "metadata": {
    "collapsed": true
   },
   "outputs": [],
   "source": [
    "property_id_KR = pd.read_excel('Results/GroupByPropertyID/2016/KR.xlsx')\n",
    "property_id_KR = property_id_KR.reset_index()\n",
    "property_id_KR = property_id_KR.sort_values(by = 'Booking_date', ascending=True)\n",
    "property_id_KR1 = property_id_KR.values.T.tolist()\n"
   ]
  },
  {
   "cell_type": "code",
   "execution_count": null,
   "metadata": {
    "collapsed": false
   },
   "outputs": [],
   "source": [
    "source = ColumnDataSource(\n",
    "        data=dict(\n",
    "            x=property_id_KR1[1],\n",
    "            y=property_id_KR1[4],\n",
    "            desc=property_id_KR1[3],\n",
    "            date=[x.strftime(\"%Y-%m-%d\") for x in property_id_KR['Booking_date']]\n",
    "        )\n",
    "    )\n",
    "\n",
    "hover = HoverTool(\n",
    "        tooltips=[\n",
    "            (\"Date\",\"@date\"),\n",
    "            (\"Event\", \"@desc\"),\n",
    "            (\"Total Revenue\",\"@y{1.11}\")\n",
    "        ]\n",
    "    )\n",
    "\n",
    "p = plt.figure(x_axis_type=\"datetime\",width=800, height=500, tools=[hover],\n",
    "           title=\"Graph of BookingDate vs TotalRevenue for KR (hover to view events)\",x_axis_label = \"Booking Date\",\n",
    "               y_axis_label = \"Total Revenue\")\n",
    "p.left[0].formatter.use_scientific = False\n",
    "p.line('x', 'y', line_width=2, source=source)   \n",
    "show(p)\n"
   ]
  },
  {
   "cell_type": "code",
   "execution_count": null,
   "metadata": {
    "collapsed": false
   },
   "outputs": [],
   "source": [
    "source = ColumnDataSource(\n",
    "        data=dict(\n",
    "            x=property_id_KR1[1],\n",
    "            y=property_id_KR1[6],\n",
    "            desc=property_id_KR1[3],\n",
    "            date=[x.strftime(\"%Y-%m-%d\") for x in property_id_KR['Booking_date']]\n",
    "        )\n",
    "    )\n",
    "\n",
    "hover = HoverTool(\n",
    "        tooltips=[\n",
    "            (\"Date\",\"@date\"),\n",
    "            (\"Event\", \"@desc\"),\n",
    "            (\"ADR\",\"@y{1.11}\")\n",
    "        ]\n",
    "    )\n",
    "\n",
    "p = plt.figure(x_axis_type=\"datetime\",width=800, height=500, tools=[hover],\n",
    "           title=\"Graph of Booking Date vs ADR for KR (hover to view events)\",x_axis_label = \"Booking Date\",\n",
    "               y_axis_label = \"ADR\")\n",
    "p.left[0].formatter.use_scientific = False\n",
    "p.line('x', 'y', line_width=2, source=source)   \n",
    "show(p)\n"
   ]
  },
  {
   "cell_type": "code",
   "execution_count": null,
   "metadata": {
    "collapsed": true
   },
   "outputs": [],
   "source": []
  },
  {
   "cell_type": "code",
   "execution_count": null,
   "metadata": {
    "collapsed": true
   },
   "outputs": [],
   "source": [
    "property_id_MB = pd.read_excel('Results/GroupByPropertyID/2016/MB.xlsx')\n",
    "property_id_MB = property_id_MB.reset_index()\n",
    "property_id_MB = property_id_MB.sort_values(by = 'Booking_date', ascending=True)\n",
    "property_id_MB1 = property_id_MB.values.T.tolist()\n"
   ]
  },
  {
   "cell_type": "code",
   "execution_count": null,
   "metadata": {
    "collapsed": false
   },
   "outputs": [],
   "source": [
    "source = ColumnDataSource(\n",
    "        data=dict(\n",
    "            x=property_id_MB1[1],\n",
    "            y=property_id_MB1[4],\n",
    "            desc=property_id_MB1[3],\n",
    "            date=[x.strftime(\"%Y-%m-%d\") for x in property_id_MB['Booking_date']]\n",
    "        )\n",
    "    )\n",
    "\n",
    "hover = HoverTool(\n",
    "        tooltips=[\n",
    "            (\"Date\",\"@date\"),\n",
    "            (\"Event\", \"@desc\"),\n",
    "            (\"Total Revenue\",\"@y{1.11}\")\n",
    "        ]\n",
    "    )\n",
    "\n",
    "p = plt.figure(x_axis_type=\"datetime\",width=800, height=500, tools=[hover],\n",
    "           title=\"Graph of BookingDate vs TotalRevenue for MB (hover to view events)\",x_axis_label = \"Booking Date\",\n",
    "               y_axis_label = \"Total Revenue\")\n",
    "p.left[0].formatter.use_scientific = False\n",
    "p.line('x', 'y', line_width=2, source=source)   \n",
    "show(p)\n"
   ]
  },
  {
   "cell_type": "code",
   "execution_count": null,
   "metadata": {
    "collapsed": false
   },
   "outputs": [],
   "source": [
    "source = ColumnDataSource(\n",
    "        data=dict(\n",
    "            x=property_id_MB1[1],\n",
    "            y=property_id_MB1[6],\n",
    "            desc=property_id_MB1[3],\n",
    "            date=[x.strftime(\"%Y-%m-%d\") for x in property_id_MB['Booking_date']]\n",
    "        )\n",
    "    )\n",
    "\n",
    "hover = HoverTool(\n",
    "        tooltips=[\n",
    "            (\"Date\",\"@date\"),\n",
    "            (\"Event\", \"@desc\"),\n",
    "            (\"ADR\",\"@y{1.11}\")\n",
    "        ]\n",
    "    )\n",
    "\n",
    "p = plt.figure(x_axis_type=\"datetime\",width=800, height=500, tools=[hover],\n",
    "           title=\"Graph of Booking Date vs ADR for MB (hover to view events)\",x_axis_label = \"Booking Date\",\n",
    "               y_axis_label = \"ADR\")\n",
    "p.left[0].formatter.use_scientific = False\n",
    "p.line('x', 'y', line_width=2, source=source)   \n",
    "show(p)\n"
   ]
  },
  {
   "cell_type": "code",
   "execution_count": null,
   "metadata": {
    "collapsed": true
   },
   "outputs": [],
   "source": []
  },
  {
   "cell_type": "code",
   "execution_count": null,
   "metadata": {
    "collapsed": true
   },
   "outputs": [],
   "source": [
    "property_id_MM = pd.read_excel('Results/GroupByPropertyID/2016/MM.xlsx')\n",
    "property_id_MM = property_id_MM.reset_index()\n",
    "property_id_MM = property_id_MM.sort_values(by = 'Booking_date', ascending=True)\n",
    "property_id_MM1 = property_id_MM.values.T.tolist()\n"
   ]
  },
  {
   "cell_type": "code",
   "execution_count": null,
   "metadata": {
    "collapsed": false
   },
   "outputs": [],
   "source": [
    "source = ColumnDataSource(\n",
    "        data=dict(\n",
    "            x=property_id_MM1[1],\n",
    "            y=property_id_MM1[4],\n",
    "            desc=property_id_MM1[3],\n",
    "            date=[x.strftime(\"%Y-%m-%d\") for x in property_id_MM['Booking_date']]\n",
    "        )\n",
    "    )\n",
    "\n",
    "hover = HoverTool(\n",
    "        tooltips=[\n",
    "            (\"Date\",\"@date\"),\n",
    "            (\"Event\", \"@desc\"),\n",
    "            (\"Total Revenue\",\"@y{1.11}\")\n",
    "        ]\n",
    "    )\n",
    "\n",
    "p = plt.figure(x_axis_type=\"datetime\",width=800, height=500, tools=[hover],\n",
    "           title=\"Graph of BookingDate vs TotalRevenue for MM (hover to view events)\",x_axis_label = \"Booking Date\",\n",
    "               y_axis_label = \"Total Revenue\")\n",
    "p.left[0].formatter.use_scientific = False\n",
    "p.line('x', 'y', line_width=2, source=source)   \n",
    "show(p)\n"
   ]
  },
  {
   "cell_type": "code",
   "execution_count": null,
   "metadata": {
    "collapsed": false
   },
   "outputs": [],
   "source": [
    "source = ColumnDataSource(\n",
    "        data=dict(\n",
    "            x=property_id_MM1[1],\n",
    "            y=property_id_MM1[6],\n",
    "            desc=property_id_MM1[3],\n",
    "            date=[x.strftime(\"%Y-%m-%d\") for x in property_id_MM['Booking_date']]\n",
    "        )\n",
    "    )\n",
    "\n",
    "hover = HoverTool(\n",
    "        tooltips=[\n",
    "            (\"Date\",\"@date\"),\n",
    "            (\"Event\", \"@desc\"),\n",
    "            (\"ADR\",\"@y{1.11}\")\n",
    "        ]\n",
    "    )\n",
    "\n",
    "p = plt.figure(x_axis_type=\"datetime\",width=800, height=500, tools=[hover],\n",
    "           title=\"Graph of Booking Date vs ADR for MM (hover to view events)\",x_axis_label = \"Booking Date\",\n",
    "               y_axis_label = \"ADR\")\n",
    "p.left[0].formatter.use_scientific = False\n",
    "p.line('x', 'y', line_width=2, source=source)   \n",
    "show(p)\n"
   ]
  },
  {
   "cell_type": "code",
   "execution_count": null,
   "metadata": {
    "collapsed": true
   },
   "outputs": [],
   "source": []
  },
  {
   "cell_type": "code",
   "execution_count": null,
   "metadata": {
    "collapsed": true
   },
   "outputs": [],
   "source": [
    "property_id_MP = pd.read_excel('Results/GroupByPropertyID/2016/MP.xlsx')\n",
    "property_id_MP = property_id_MP.reset_index()\n",
    "property_id_MP = property_id_MP.sort_values(by = 'Booking_date', ascending=True)\n",
    "property_id_MP1 = property_id_MP.values.T.tolist()\n"
   ]
  },
  {
   "cell_type": "code",
   "execution_count": null,
   "metadata": {
    "collapsed": false
   },
   "outputs": [],
   "source": [
    "source = ColumnDataSource(\n",
    "        data=dict(\n",
    "            x=property_id_MP1[1],\n",
    "            y=property_id_MP1[4],\n",
    "            desc=property_id_MP1[3],\n",
    "            date=[x.strftime(\"%Y-%m-%d\") for x in property_id_MP['Booking_date']]\n",
    "        )\n",
    "    )\n",
    "\n",
    "hover = HoverTool(\n",
    "        tooltips=[\n",
    "            (\"Date\",\"@date\"),\n",
    "            (\"Event\", \"@desc\"),\n",
    "            (\"Total Revenue\",\"@y{1.11}\")\n",
    "        ]\n",
    "    )\n",
    "\n",
    "p = plt.figure(x_axis_type=\"datetime\",width=800, height=500, tools=[hover],\n",
    "           title=\"Graph of BookingDate vs TotalRevenue for MP (hover to view events)\",x_axis_label = \"Booking Date\",\n",
    "               y_axis_label = \"Total Revenue\")\n",
    "p.left[0].formatter.use_scientific = False\n",
    "p.line('x', 'y', line_width=2, source=source)   \n",
    "show(p)\n"
   ]
  },
  {
   "cell_type": "code",
   "execution_count": null,
   "metadata": {
    "collapsed": false
   },
   "outputs": [],
   "source": [
    "source = ColumnDataSource(\n",
    "        data=dict(\n",
    "            x=property_id_MP1[1],\n",
    "            y=property_id_MP1[6],\n",
    "            desc=property_id_MP1[3],\n",
    "            date=[x.strftime(\"%Y-%m-%d\") for x in property_id_MP['Booking_date']]\n",
    "        )\n",
    "    )\n",
    "\n",
    "hover = HoverTool(\n",
    "        tooltips=[\n",
    "            (\"Date\",\"@date\"),\n",
    "            (\"Event\", \"@desc\"),\n",
    "            (\"ADR\",\"@y{1.11}\")\n",
    "        ]\n",
    "    )\n",
    "\n",
    "p = plt.figure(x_axis_type=\"datetime\",width=800, height=500, tools=[hover],\n",
    "           title=\"Graph of Booking Date vs ADR for MP (hover to view events)\",x_axis_label = \"Booking Date\",\n",
    "               y_axis_label = \"ADR\")\n",
    "p.left[0].formatter.use_scientific = False\n",
    "p.line('x', 'y', line_width=2, source=source)   \n",
    "show(p)\n"
   ]
  },
  {
   "cell_type": "code",
   "execution_count": null,
   "metadata": {
    "collapsed": true
   },
   "outputs": [],
   "source": []
  },
  {
   "cell_type": "code",
   "execution_count": null,
   "metadata": {
    "collapsed": true
   },
   "outputs": [],
   "source": [
    "property_id_SC = pd.read_excel('Results/GroupByPropertyID/2016/SC.xlsx')\n",
    "property_id_SC = property_id_SC.reset_index()\n",
    "property_id_SC = property_id_SC.sort_values(by = 'Booking_date', ascending=True)\n",
    "property_id_SC1 = property_id_SC.values.T.tolist()\n"
   ]
  },
  {
   "cell_type": "code",
   "execution_count": null,
   "metadata": {
    "collapsed": false
   },
   "outputs": [],
   "source": [
    "source = ColumnDataSource(\n",
    "        data=dict(\n",
    "            x=property_id_SC1[1],\n",
    "            y=property_id_SC1[4],\n",
    "            desc=property_id_SC1[3],\n",
    "            date=[x.strftime(\"%Y-%m-%d\") for x in property_id_SC['Booking_date']]\n",
    "        )\n",
    "    )\n",
    "\n",
    "hover = HoverTool(\n",
    "        tooltips=[\n",
    "            (\"Date\",\"@date\"),\n",
    "            (\"Event\", \"@desc\"),\n",
    "            (\"Total Revenue\",\"@y{1.11}\")\n",
    "        ]\n",
    "    )\n",
    "\n",
    "p = plt.figure(x_axis_type=\"datetime\",width=800, height=500, tools=[hover],\n",
    "           title=\"Graph of BookingDate vs TotalRevenue for SC (hover to view events)\",x_axis_label = \"Booking Date\",\n",
    "               y_axis_label = \"Total Revenue\")\n",
    "p.left[0].formatter.use_scientific = False\n",
    "p.line('x', 'y', line_width=2, source=source)   \n",
    "show(p)\n"
   ]
  },
  {
   "cell_type": "code",
   "execution_count": null,
   "metadata": {
    "collapsed": false
   },
   "outputs": [],
   "source": [
    "source = ColumnDataSource(\n",
    "        data=dict(\n",
    "            x=property_id_SC1[1],\n",
    "            y=property_id_SC1[6],\n",
    "            desc=property_id_SC1[3],\n",
    "            date=[x.strftime(\"%Y-%m-%d\") for x in property_id_SC['Booking_date']]\n",
    "        )\n",
    "    )\n",
    "\n",
    "hover = HoverTool(\n",
    "        tooltips=[\n",
    "            (\"Date\",\"@date\"),\n",
    "            (\"Event\", \"@desc\"),\n",
    "            (\"ADR\",\"@y{1.11}\")\n",
    "        ]\n",
    "    )\n",
    "\n",
    "p = plt.figure(x_axis_type=\"datetime\",width=800, height=500, tools=[hover],\n",
    "           title=\"Graph of Booking Date vs ADR for SC (hover to view events)\",x_axis_label = \"Booking Date\",\n",
    "               y_axis_label = \"ADR\")\n",
    "p.left[0].formatter.use_scientific = False\n",
    "p.line('x', 'y', line_width=2, source=source)   \n",
    "show(p)\n"
   ]
  },
  {
   "cell_type": "code",
   "execution_count": null,
   "metadata": {
    "collapsed": true
   },
   "outputs": [],
   "source": []
  },
  {
   "cell_type": "code",
   "execution_count": null,
   "metadata": {
    "collapsed": true
   },
   "outputs": [],
   "source": [
    "property_id_SS = pd.read_excel('Results/GroupByPropertyID/2016/SS.xlsx')\n",
    "property_id_SS = property_id_SS.reset_index()\n",
    "property_id_SS = property_id_SS.sort_values(by = 'Booking_date', ascending=True)\n",
    "property_id_SS1 = property_id_SS.values.T.tolist()\n"
   ]
  },
  {
   "cell_type": "code",
   "execution_count": null,
   "metadata": {
    "collapsed": false
   },
   "outputs": [],
   "source": [
    "source = ColumnDataSource(\n",
    "        data=dict(\n",
    "            x=property_id_SS1[1],\n",
    "            y=property_id_SS1[4],\n",
    "            desc=property_id_SS1[3],\n",
    "            date=[x.strftime(\"%Y-%m-%d\") for x in property_id_SS['Booking_date']]\n",
    "        )\n",
    "    )\n",
    "\n",
    "hover = HoverTool(\n",
    "        tooltips=[\n",
    "            (\"Date\",\"@date\"),\n",
    "            (\"Event\", \"@desc\"),\n",
    "            (\"Total Revenue\",\"@y{1.11}\")\n",
    "        ]\n",
    "    )\n",
    "\n",
    "p = plt.figure(x_axis_type=\"datetime\",width=800, height=500, tools=[hover],\n",
    "           title=\"Graph of BookingDate vs TotalRevenue for SS (hover to view events)\",x_axis_label = \"Booking Date\",\n",
    "               y_axis_label = \"Total Revenue\")\n",
    "p.left[0].formatter.use_scientific = False\n",
    "p.line('x', 'y', line_width=2, source=source)   \n",
    "show(p)\n"
   ]
  },
  {
   "cell_type": "code",
   "execution_count": null,
   "metadata": {
    "collapsed": false
   },
   "outputs": [],
   "source": [
    "source = ColumnDataSource(\n",
    "        data=dict(\n",
    "            x=property_id_SS1[1],\n",
    "            y=property_id_SS1[6],\n",
    "            desc=property_id_SS1[3],\n",
    "            date=[x.strftime(\"%Y-%m-%d\") for x in property_id_SS['Booking_date']]\n",
    "        )\n",
    "    )\n",
    "\n",
    "hover = HoverTool(\n",
    "        tooltips=[\n",
    "            (\"Date\",\"@date\"),\n",
    "            (\"Event\", \"@desc\"),\n",
    "            (\"ADR\",\"@y{1.11}\")\n",
    "        ]\n",
    "    )\n",
    "\n",
    "p = plt.figure(x_axis_type=\"datetime\",width=800, height=500, tools=[hover],\n",
    "           title=\"Graph of Booking Date vs ADR for SS (hover to view events)\",x_axis_label = \"Booking Date\",\n",
    "               y_axis_label = \"ADR\")\n",
    "p.left[0].formatter.use_scientific = False\n",
    "p.line('x', 'y', line_width=2, source=source)   \n",
    "show(p)\n"
   ]
  },
  {
   "cell_type": "code",
   "execution_count": null,
   "metadata": {
    "collapsed": true
   },
   "outputs": [],
   "source": []
  },
  {
   "cell_type": "code",
   "execution_count": null,
   "metadata": {
    "collapsed": true
   },
   "outputs": [],
   "source": [
    "property_id_SV = pd.read_excel('Results/GroupByPropertyID/2016/SV.xlsx')\n",
    "property_id_SV = property_id_SV.reset_index()\n",
    "property_id_SV = property_id_SV.sort_values(by = 'Booking_date', ascending=True)\n",
    "property_id_SV1 = property_id_SV.values.T.tolist()\n"
   ]
  },
  {
   "cell_type": "code",
   "execution_count": null,
   "metadata": {
    "collapsed": false
   },
   "outputs": [],
   "source": [
    "source = ColumnDataSource(\n",
    "        data=dict(\n",
    "            x=property_id_SV1[1],\n",
    "            y=property_id_SV1[4],\n",
    "            desc=property_id_SV1[3],\n",
    "            date=[x.strftime(\"%Y-%m-%d\") for x in property_id_SV['Booking_date']]\n",
    "        )\n",
    "    )\n",
    "\n",
    "hover = HoverTool(\n",
    "        tooltips=[\n",
    "            (\"Date\",\"@date\"),\n",
    "            (\"Event\", \"@desc\"),\n",
    "            (\"Total Revenue\",\"@y{1.11}\")\n",
    "        ]\n",
    "    )\n",
    "\n",
    "p = plt.figure(x_axis_type=\"datetime\",width=800, height=500, tools=[hover],\n",
    "           title=\"Graph of BookingDate vs TotalRevenue for SV (hover to view events)\",x_axis_label = \"Booking Date\",\n",
    "               y_axis_label = \"Total Revenue\")\n",
    "p.left[0].formatter.use_scientific = False\n",
    "p.line('x', 'y', line_width=2, source=source)   \n",
    "show(p)\n"
   ]
  },
  {
   "cell_type": "code",
   "execution_count": null,
   "metadata": {
    "collapsed": false
   },
   "outputs": [],
   "source": [
    "source = ColumnDataSource(\n",
    "        data=dict(\n",
    "            x=property_id_SV1[1],\n",
    "            y=property_id_SV1[6],\n",
    "            desc=property_id_SV1[3],\n",
    "            date=[x.strftime(\"%Y-%m-%d\") for x in property_id_SV['Booking_date']]\n",
    "        )\n",
    "    )\n",
    "\n",
    "hover = HoverTool(\n",
    "        tooltips=[\n",
    "            (\"Date\",\"@date\"),\n",
    "            (\"Event\", \"@desc\"),\n",
    "            (\"ADR\",\"@y{1.11}\")\n",
    "        ]\n",
    "    )\n",
    "\n",
    "p = plt.figure(x_axis_type=\"datetime\",width=800, height=500, tools=[hover],\n",
    "           title=\"Graph of Booking Date vs ADR for SV (hover to view events)\",x_axis_label = \"Booking Date\",\n",
    "               y_axis_label = \"ADR\")\n",
    "p.left[0].formatter.use_scientific = False\n",
    "p.line('x', 'y', line_width=2, source=source)   \n",
    "show(p)\n"
   ]
  },
  {
   "cell_type": "code",
   "execution_count": null,
   "metadata": {
    "collapsed": true
   },
   "outputs": [],
   "source": []
  },
  {
   "cell_type": "code",
   "execution_count": null,
   "metadata": {
    "collapsed": true
   },
   "outputs": [],
   "source": [
    "property_id_VM = pd.read_excel('Results/GroupByPropertyID/2016/VM.xlsx')\n",
    "property_id_VM = property_id_VM.reset_index()\n",
    "property_id_VM = property_id_VM.sort_values(by = 'Booking_date', ascending=True)\n",
    "property_id_VM1 = property_id_VM.values.T.tolist()\n"
   ]
  },
  {
   "cell_type": "code",
   "execution_count": null,
   "metadata": {
    "collapsed": false
   },
   "outputs": [],
   "source": [
    "source = ColumnDataSource(\n",
    "        data=dict(\n",
    "            x=property_id_VM1[1],\n",
    "            y=property_id_VM1[4],\n",
    "            desc=property_id_VM1[3],\n",
    "            date=[x.strftime(\"%Y-%m-%d\") for x in property_id_VM['Booking_date']]\n",
    "        )\n",
    "    )\n",
    "\n",
    "hover = HoverTool(\n",
    "        tooltips=[\n",
    "            (\"Date\",\"@date\"),\n",
    "            (\"Event\", \"@desc\"),\n",
    "            (\"Total Revenue\",\"@y{1.11}\")\n",
    "        ]\n",
    "    )\n",
    "\n",
    "p = plt.figure(x_axis_type=\"datetime\",width=800, height=500, tools=[hover],\n",
    "           title=\"Graph of BookingDate vs TotalRevenue for VM (hover to view events)\",x_axis_label = \"Booking Date\",\n",
    "               y_axis_label = \"Total Revenue\")\n",
    "p.left[0].formatter.use_scientific = False\n",
    "p.line('x', 'y', line_width=2, source=source)   \n",
    "show(p)\n"
   ]
  },
  {
   "cell_type": "code",
   "execution_count": null,
   "metadata": {
    "collapsed": false
   },
   "outputs": [],
   "source": [
    "source = ColumnDataSource(\n",
    "        data=dict(\n",
    "            x=property_id_VM1[1],\n",
    "            y=property_id_VM1[6],\n",
    "            desc=property_id_VM1[3],\n",
    "            date=[x.strftime(\"%Y-%m-%d\") for x in property_id_VM['Booking_date']]\n",
    "        )\n",
    "    )\n",
    "\n",
    "hover = HoverTool(\n",
    "        tooltips=[\n",
    "            (\"Date\",\"@date\"),\n",
    "            (\"Event\", \"@desc\"),\n",
    "            (\"ADR\",\"@y{1.11}\")\n",
    "        ]\n",
    "    )\n",
    "\n",
    "p = plt.figure(x_axis_type=\"datetime\",width=800, height=500, tools=[hover],\n",
    "           title=\"Graph of Booking Date vs ADR for VM (hover to view events)\",x_axis_label = \"Booking Date\",\n",
    "               y_axis_label = \"ADR\")\n",
    "p.left[0].formatter.use_scientific = False\n",
    "p.line('x', 'y', line_width=2, source=source)   \n",
    "show(p)\n"
   ]
  },
  {
   "cell_type": "code",
   "execution_count": null,
   "metadata": {
    "collapsed": true
   },
   "outputs": [],
   "source": []
  },
  {
   "cell_type": "code",
   "execution_count": null,
   "metadata": {
    "collapsed": true
   },
   "outputs": [],
   "source": [
    "property_id_VV = pd.read_excel('Results/GroupByPropertyID/2016/VV.xlsx')\n",
    "property_id_VV = property_id_VV.reset_index()\n",
    "property_id_VV = property_id_VV.sort_values(by = 'Booking_date', ascending=True)\n",
    "property_id_VV1 = property_id_VV.values.T.tolist()\n"
   ]
  },
  {
   "cell_type": "code",
   "execution_count": null,
   "metadata": {
    "collapsed": false
   },
   "outputs": [],
   "source": [
    "source = ColumnDataSource(\n",
    "        data=dict(\n",
    "            x=property_id_VV1[1],\n",
    "            y=property_id_VV1[4],\n",
    "            desc=property_id_VV1[3],\n",
    "            date=[x.strftime(\"%Y-%m-%d\") for x in property_id_VV['Booking_date']]\n",
    "        )\n",
    "    )\n",
    "\n",
    "hover = HoverTool(\n",
    "        tooltips=[\n",
    "            (\"Date\",\"@date\"),\n",
    "            (\"Event\", \"@desc\"),\n",
    "            (\"Total Revenue\",\"@y{1.11}\")\n",
    "        ]\n",
    "    )\n",
    "\n",
    "p = plt.figure(x_axis_type=\"datetime\",width=800, height=500, tools=[hover],\n",
    "           title=\"Graph of BookingDate vs TotalRevenue for VV (hover to view events)\",x_axis_label = \"Booking Date\",\n",
    "               y_axis_label = \"Total Revenue\")\n",
    "p.left[0].formatter.use_scientific = False\n",
    "p.line('x', 'y', line_width=2, source=source)   \n",
    "show(p)\n"
   ]
  },
  {
   "cell_type": "code",
   "execution_count": null,
   "metadata": {
    "collapsed": false
   },
   "outputs": [],
   "source": [
    "source = ColumnDataSource(\n",
    "        data=dict(\n",
    "            x=property_id_VV1[1],\n",
    "            y=property_id_VV1[6],\n",
    "            desc=property_id_VV1[3],\n",
    "            date=[x.strftime(\"%Y-%m-%d\") for x in property_id_VV['Booking_date']]\n",
    "        )\n",
    "    )\n",
    "\n",
    "hover = HoverTool(\n",
    "        tooltips=[\n",
    "            (\"Date\",\"@date\"),\n",
    "            (\"Event\", \"@desc\"),\n",
    "            (\"ADR\",\"@y{1.11}\")\n",
    "        ]\n",
    "    )\n",
    "\n",
    "p = plt.figure(x_axis_type=\"datetime\",width=800, height=500, tools=[hover],\n",
    "           title=\"Graph of Booking Date vs ADR for VV (hover to view events)\",x_axis_label = \"Booking Date\",\n",
    "               y_axis_label = \"ADR\")\n",
    "p.left[0].formatter.use_scientific = False\n",
    "p.line('x', 'y', line_width=2, source=source)   \n",
    "show(p)\n"
   ]
  },
  {
   "cell_type": "code",
   "execution_count": null,
   "metadata": {
    "collapsed": true
   },
   "outputs": [],
   "source": []
  },
  {
   "cell_type": "code",
   "execution_count": null,
   "metadata": {
    "collapsed": true
   },
   "outputs": [],
   "source": [
    "property_id_WW = pd.read_excel('Results/GroupByPropertyID/2016/WW.xlsx')\n",
    "property_id_WW = property_id_WW.reset_index()\n",
    "property_id_WW = property_id_WW.sort_values(by = 'Booking_date', ascending=True)\n",
    "property_id_WW1 = property_id_WW.values.T.tolist()\n"
   ]
  },
  {
   "cell_type": "code",
   "execution_count": null,
   "metadata": {
    "collapsed": false
   },
   "outputs": [],
   "source": [
    "source = ColumnDataSource(\n",
    "        data=dict(\n",
    "            x=property_id_WW1[1],\n",
    "            y=property_id_WW1[4],\n",
    "            desc=property_id_WW1[3],\n",
    "            date=[x.strftime(\"%Y-%m-%d\") for x in property_id_WW['Booking_date']]\n",
    "        )\n",
    "    )\n",
    "\n",
    "hover = HoverTool(\n",
    "        tooltips=[\n",
    "            (\"Date\",\"@date\"),\n",
    "            (\"Event\", \"@desc\"),\n",
    "            (\"Total Revenue\",\"@y{1.11}\")\n",
    "        ]\n",
    "    )\n",
    "\n",
    "p = plt.figure(x_axis_type=\"datetime\",width=800, height=500, tools=[hover],\n",
    "           title=\"Graph of BookingDate vs TotalRevenue for WW (hover to view events)\",x_axis_label = \"Booking Date\",\n",
    "               y_axis_label = \"Total Revenue\")\n",
    "p.left[0].formatter.use_scientific = False\n",
    "p.line('x', 'y', line_width=2, source=source)   \n",
    "show(p)\n"
   ]
  },
  {
   "cell_type": "code",
   "execution_count": null,
   "metadata": {
    "collapsed": false
   },
   "outputs": [],
   "source": [
    "source = ColumnDataSource(\n",
    "        data=dict(\n",
    "            x=property_id_WW1[1],\n",
    "            y=property_id_WW1[6],\n",
    "            desc=property_id_WW1[3],\n",
    "            date=[x.strftime(\"%Y-%m-%d\") for x in property_id_WW['Booking_date']]\n",
    "        )\n",
    "    )\n",
    "\n",
    "hover = HoverTool(\n",
    "        tooltips=[\n",
    "            (\"Date\",\"@date\"),\n",
    "            (\"Event\", \"@desc\"),\n",
    "            (\"ADR\",\"@y{1.11}\")\n",
    "        ]\n",
    "    )\n",
    "\n",
    "p = plt.figure(x_axis_type=\"datetime\",width=800, height=500, tools=[hover],\n",
    "           title=\"Graph of Booking Date vs ADR for WW (hover to view events)\",x_axis_label = \"Booking Date\",\n",
    "               y_axis_label = \"ADR\")\n",
    "p.left[0].formatter.use_scientific = False\n",
    "p.line('x', 'y', line_width=2, source=source)   \n",
    "show(p)\n"
   ]
  },
  {
   "cell_type": "code",
   "execution_count": null,
   "metadata": {
    "collapsed": true
   },
   "outputs": [],
   "source": []
  }
 ],
 "metadata": {
  "anaconda-cloud": {},
  "kernelspec": {
   "display_name": "Python [default]",
   "language": "python",
   "name": "python3"
  },
  "language_info": {
   "codemirror_mode": {
    "name": "ipython",
    "version": 3
   },
   "file_extension": ".py",
   "mimetype": "text/x-python",
   "name": "python",
   "nbconvert_exporter": "python",
   "pygments_lexer": "ipython3",
   "version": "3.5.2"
  }
 },
 "nbformat": 4,
 "nbformat_minor": 1
}
