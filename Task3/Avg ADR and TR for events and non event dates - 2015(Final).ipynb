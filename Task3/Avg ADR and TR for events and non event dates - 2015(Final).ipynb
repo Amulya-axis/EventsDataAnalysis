{
 "cells": [
  {
   "cell_type": "code",
   "execution_count": 1,
   "metadata": {
    "collapsed": false
   },
   "outputs": [],
   "source": [
    "import pandas as pd\n",
    "import numpy as np\n",
    "\n",
    "data = pd.read_csv('Results/RequiredDataSet.csv',header=None, names=['booking_date','channel','property_id','room_name','room_id','check_in','check_out','room_rate','booking_status'])\n",
    "# data.head()\n"
   ]
  },
  {
   "cell_type": "code",
   "execution_count": 2,
   "metadata": {
    "collapsed": false
   },
   "outputs": [],
   "source": [
    "Results = pd.read_excel('Results/DataSetWithStayDate.xlsx')\n",
    "# Results.head()"
   ]
  },
  {
   "cell_type": "code",
   "execution_count": 3,
   "metadata": {
    "collapsed": false
   },
   "outputs": [],
   "source": [
    "del Results['Old_Room_rate']\n",
    "# Results.head()"
   ]
  },
  {
   "cell_type": "code",
   "execution_count": 4,
   "metadata": {
    "collapsed": true
   },
   "outputs": [],
   "source": [
    "scrapyData = pd.read_csv('Results/eventData2015.csv',header=None, names=['Day','Stay_date','Event','HolidayIn'])\n",
    "scrapeResult = scrapyData.dropna()\n",
    "# scrapeResult.head()"
   ]
  },
  {
   "cell_type": "code",
   "execution_count": 5,
   "metadata": {
    "collapsed": false
   },
   "outputs": [],
   "source": [
    "pd.options.mode.chained_assignment = None"
   ]
  },
  {
   "cell_type": "code",
   "execution_count": 6,
   "metadata": {
    "collapsed": false
   },
   "outputs": [],
   "source": [
    "scrapeResult['Stay_date'] =   '2015-' + scrapeResult['Stay_date'] \n",
    "# scrapeResult.head()"
   ]
  },
  {
   "cell_type": "code",
   "execution_count": 7,
   "metadata": {
    "collapsed": false
   },
   "outputs": [],
   "source": [
    "scrapeResult['Stay_date'] = pd.to_datetime(scrapeResult.Stay_date)\n",
    "# scrapeResult.head()"
   ]
  },
  {
   "cell_type": "code",
   "execution_count": 8,
   "metadata": {
    "collapsed": true
   },
   "outputs": [],
   "source": [
    "del scrapeResult['HolidayIn']\n",
    "del scrapeResult['Day']\n",
    "# scrapeResult.head()"
   ]
  },
  {
   "cell_type": "code",
   "execution_count": 9,
   "metadata": {
    "collapsed": false
   },
   "outputs": [],
   "source": [
    "newResults = Results.filter(['Property_id','Stay_date','Booking_status','Room_rate'], axis=1)\n",
    "# newResults.head()"
   ]
  },
  {
   "cell_type": "code",
   "execution_count": 10,
   "metadata": {
    "collapsed": false
   },
   "outputs": [],
   "source": [
    "newResults = newResults[(newResults.Booking_status == 'COMPLETED') | (newResults.Booking_status == 'CONFIRMED')]\n",
    "# newResults.head()"
   ]
  },
  {
   "cell_type": "code",
   "execution_count": 11,
   "metadata": {
    "collapsed": false
   },
   "outputs": [],
   "source": [
    "newResults = newResults[(newResults.Stay_date >= '2015-01-01') & (newResults.Stay_date <= '2015-12-31')]\n",
    "# newResults.head()"
   ]
  },
  {
   "cell_type": "code",
   "execution_count": 12,
   "metadata": {
    "collapsed": false
   },
   "outputs": [],
   "source": [
    "newResults['Stay_date'] = pd.to_datetime(newResults.Stay_date)\n",
    "# newResults.head()"
   ]
  },
  {
   "cell_type": "code",
   "execution_count": 13,
   "metadata": {
    "collapsed": false
   },
   "outputs": [],
   "source": [
    "res = pd.merge(left=newResults, left_on='Stay_date',right=scrapeResult, right_on='Stay_date', how='left')\n",
    "\n",
    "#res = pd.merge(newResults, scrapeResult, on='Stay_date', how='left')"
   ]
  },
  {
   "cell_type": "code",
   "execution_count": 14,
   "metadata": {
    "collapsed": false
   },
   "outputs": [],
   "source": [
    "res = res.sort_values(by = 'Stay_date', ascending=True)\n",
    "# res1 = res.drop_duplicates()\n",
    "res1 = res.reset_index()\n",
    "del res1['index']\n",
    "res1 = res1.fillna('-')\n",
    "# res1.head()"
   ]
  },
  {
   "cell_type": "code",
   "execution_count": null,
   "metadata": {
    "collapsed": false
   },
   "outputs": [],
   "source": [
    "# events = res1[(res1.Event != '-') ]\n",
    "# events.head()"
   ]
  },
  {
   "cell_type": "code",
   "execution_count": 15,
   "metadata": {
    "collapsed": false
   },
   "outputs": [],
   "source": [
    "events1 = res1.filter(['Property_id','Stay_date','Event','Room_rate'], axis=1)"
   ]
  },
  {
   "cell_type": "code",
   "execution_count": 16,
   "metadata": {
    "collapsed": false
   },
   "outputs": [],
   "source": [
    "events1['totalRevenue'] = events1.groupby(['Property_id','Stay_date'])['Room_rate'].transform('sum')\n",
    "# events"
   ]
  },
  {
   "cell_type": "code",
   "execution_count": 17,
   "metadata": {
    "collapsed": false
   },
   "outputs": [],
   "source": [
    "events1['room_count'] = events1.groupby(['Property_id','Stay_date'])['Room_rate'].transform('count')\n",
    "# events.head()"
   ]
  },
  {
   "cell_type": "code",
   "execution_count": 18,
   "metadata": {
    "collapsed": false,
    "scrolled": true
   },
   "outputs": [
    {
     "data": {
      "text/html": [
       "<div>\n",
       "<table border=\"1\" class=\"dataframe\">\n",
       "  <thead>\n",
       "    <tr style=\"text-align: right;\">\n",
       "      <th></th>\n",
       "      <th>Property_id</th>\n",
       "      <th>Stay_date</th>\n",
       "      <th>Event</th>\n",
       "      <th>Room_rate</th>\n",
       "      <th>totalRevenue</th>\n",
       "      <th>room_count</th>\n",
       "      <th>ADR</th>\n",
       "    </tr>\n",
       "  </thead>\n",
       "  <tbody>\n",
       "    <tr>\n",
       "      <th>0</th>\n",
       "      <td>BB</td>\n",
       "      <td>2015-01-01</td>\n",
       "      <td>New Years Day</td>\n",
       "      <td>39500.00</td>\n",
       "      <td>5.386517e+05</td>\n",
       "      <td>26</td>\n",
       "      <td>20717.371538</td>\n",
       "    </tr>\n",
       "    <tr>\n",
       "      <th>1</th>\n",
       "      <td>MB</td>\n",
       "      <td>2015-01-01</td>\n",
       "      <td>New Years Day</td>\n",
       "      <td>27000.00</td>\n",
       "      <td>1.177753e+06</td>\n",
       "      <td>62</td>\n",
       "      <td>18996.012336</td>\n",
       "    </tr>\n",
       "    <tr>\n",
       "      <th>2</th>\n",
       "      <td>KR</td>\n",
       "      <td>2015-01-01</td>\n",
       "      <td>New Years Day</td>\n",
       "      <td>45446.66</td>\n",
       "      <td>1.702727e+05</td>\n",
       "      <td>12</td>\n",
       "      <td>14189.387500</td>\n",
       "    </tr>\n",
       "    <tr>\n",
       "      <th>3</th>\n",
       "      <td>KR</td>\n",
       "      <td>2015-01-01</td>\n",
       "      <td>New Years Day</td>\n",
       "      <td>25976.80</td>\n",
       "      <td>1.702727e+05</td>\n",
       "      <td>12</td>\n",
       "      <td>14189.387500</td>\n",
       "    </tr>\n",
       "    <tr>\n",
       "      <th>4</th>\n",
       "      <td>MB</td>\n",
       "      <td>2015-01-01</td>\n",
       "      <td>New Years Day</td>\n",
       "      <td>17740.00</td>\n",
       "      <td>1.177753e+06</td>\n",
       "      <td>62</td>\n",
       "      <td>18996.012336</td>\n",
       "    </tr>\n",
       "  </tbody>\n",
       "</table>\n",
       "</div>"
      ],
      "text/plain": [
       "  Property_id  Stay_date          Event  Room_rate  totalRevenue  room_count  \\\n",
       "0          BB 2015-01-01  New Years Day   39500.00  5.386517e+05          26   \n",
       "1          MB 2015-01-01  New Years Day   27000.00  1.177753e+06          62   \n",
       "2          KR 2015-01-01  New Years Day   45446.66  1.702727e+05          12   \n",
       "3          KR 2015-01-01  New Years Day   25976.80  1.702727e+05          12   \n",
       "4          MB 2015-01-01  New Years Day   17740.00  1.177753e+06          62   \n",
       "\n",
       "            ADR  \n",
       "0  20717.371538  \n",
       "1  18996.012336  \n",
       "2  14189.387500  \n",
       "3  14189.387500  \n",
       "4  18996.012336  "
      ]
     },
     "execution_count": 18,
     "metadata": {},
     "output_type": "execute_result"
    }
   ],
   "source": [
    "events1['ADR'] = events1.apply(lambda events1: (events1['totalRevenue'] / events1['room_count'] ) , axis=1)\n",
    "events1.head()"
   ]
  },
  {
   "cell_type": "code",
   "execution_count": 1,
   "metadata": {
    "collapsed": false
   },
   "outputs": [],
   "source": [
    "# test = events1.sort(['Room_rate'], ascending=[False])"
   ]
  },
  {
   "cell_type": "code",
   "execution_count": 19,
   "metadata": {
    "collapsed": false
   },
   "outputs": [],
   "source": [
    "del events1['Room_rate']\n",
    "# del events1['Booking_status']\n",
    "events1 = events1.drop_duplicates()\n",
    "# events"
   ]
  },
  {
   "cell_type": "code",
   "execution_count": 20,
   "metadata": {
    "collapsed": false,
    "scrolled": true
   },
   "outputs": [
    {
     "data": {
      "text/html": [
       "<div>\n",
       "<table border=\"1\" class=\"dataframe\">\n",
       "  <thead>\n",
       "    <tr style=\"text-align: right;\">\n",
       "      <th></th>\n",
       "      <th>Property_id</th>\n",
       "      <th>Stay_date</th>\n",
       "      <th>Event</th>\n",
       "      <th>totalRevenue</th>\n",
       "      <th>room_count</th>\n",
       "      <th>ADR</th>\n",
       "    </tr>\n",
       "  </thead>\n",
       "  <tbody>\n",
       "    <tr>\n",
       "      <th>0</th>\n",
       "      <td>BB</td>\n",
       "      <td>2015-01-01</td>\n",
       "      <td>New Years Day</td>\n",
       "      <td>5.386517e+05</td>\n",
       "      <td>26</td>\n",
       "      <td>20717.371538</td>\n",
       "    </tr>\n",
       "    <tr>\n",
       "      <th>1</th>\n",
       "      <td>MB</td>\n",
       "      <td>2015-01-01</td>\n",
       "      <td>New Years Day</td>\n",
       "      <td>1.177753e+06</td>\n",
       "      <td>62</td>\n",
       "      <td>18996.012336</td>\n",
       "    </tr>\n",
       "    <tr>\n",
       "      <th>2</th>\n",
       "      <td>KR</td>\n",
       "      <td>2015-01-01</td>\n",
       "      <td>New Years Day</td>\n",
       "      <td>1.702727e+05</td>\n",
       "      <td>12</td>\n",
       "      <td>14189.387500</td>\n",
       "    </tr>\n",
       "    <tr>\n",
       "      <th>11</th>\n",
       "      <td>MM</td>\n",
       "      <td>2015-01-01</td>\n",
       "      <td>New Years Day</td>\n",
       "      <td>9.835750e+04</td>\n",
       "      <td>9</td>\n",
       "      <td>10928.611111</td>\n",
       "    </tr>\n",
       "    <tr>\n",
       "      <th>12</th>\n",
       "      <td>CL</td>\n",
       "      <td>2015-01-01</td>\n",
       "      <td>New Years Day</td>\n",
       "      <td>8.416297e+05</td>\n",
       "      <td>49</td>\n",
       "      <td>17176.115510</td>\n",
       "    </tr>\n",
       "  </tbody>\n",
       "</table>\n",
       "</div>"
      ],
      "text/plain": [
       "   Property_id  Stay_date          Event  totalRevenue  room_count  \\\n",
       "0           BB 2015-01-01  New Years Day  5.386517e+05          26   \n",
       "1           MB 2015-01-01  New Years Day  1.177753e+06          62   \n",
       "2           KR 2015-01-01  New Years Day  1.702727e+05          12   \n",
       "11          MM 2015-01-01  New Years Day  9.835750e+04           9   \n",
       "12          CL 2015-01-01  New Years Day  8.416297e+05          49   \n",
       "\n",
       "             ADR  \n",
       "0   20717.371538  \n",
       "1   18996.012336  \n",
       "2   14189.387500  \n",
       "11  10928.611111  \n",
       "12  17176.115510  "
      ]
     },
     "execution_count": 20,
     "metadata": {},
     "output_type": "execute_result"
    }
   ],
   "source": [
    "events1.head()"
   ]
  },
  {
   "cell_type": "code",
   "execution_count": 35,
   "metadata": {
    "collapsed": false
   },
   "outputs": [
    {
     "data": {
      "text/plain": [
       "array(['BB', 'MB', 'KR', 'MM', 'CL', 'CH', 'SS', 'EB', 'SV', 'KK', 'VM',\n",
       "       'SC', 'BG', 'MP', 'CP', 'VV', 'GF', 'AM', 'AA'], dtype=object)"
      ]
     },
     "execution_count": 35,
     "metadata": {},
     "output_type": "execute_result"
    }
   ],
   "source": [
    "events1.Property_id.unique()"
   ]
  },
  {
   "cell_type": "code",
   "execution_count": 36,
   "metadata": {
    "collapsed": false
   },
   "outputs": [
    {
     "name": "stdout",
     "output_type": "stream",
     "text": [
      "Enter a property_id: BB\n"
     ]
    }
   ],
   "source": [
    "events1_ID = events1[events1.Property_id == input('Enter a property_id: ')]"
   ]
  },
  {
   "cell_type": "code",
   "execution_count": 32,
   "metadata": {
    "collapsed": false
   },
   "outputs": [],
   "source": [
    "events1_ID_ne = events1_ID[events1_ID.Event == '-']\n",
    "events1_ID_we = events1_ID[events1_ID.Event != '-']"
   ]
  },
  {
   "cell_type": "code",
   "execution_count": 33,
   "metadata": {
    "collapsed": false
   },
   "outputs": [],
   "source": [
    "import bokeh.plotting as plt\n",
    "from bokeh.plotting import figure, output_file, show, ColumnDataSource\n",
    "from bokeh.models import HoverTool\n",
    "from bokeh.models.formatters import DatetimeTickFormatter\n",
    "from bokeh.models import HoverTool,WheelZoomTool,ResetTool\n",
    "# from bokeh.io import output_notebook\n",
    "\n",
    "source = ColumnDataSource(\n",
    "                                data=dict(\n",
    "                                            x = events1_ID['Stay_date'],\n",
    "                                            y = events1_ID['room_count'],\n",
    "                                            date = [x.strftime(\"%Y-%m-%d\") for x in events1_ID['Stay_date']],\n",
    "                                            room_count = events1_ID['room_count'],\n",
    "                                            effect = events1_ID['Event']\n",
    "                                          )\n",
    "                             )\n",
    "\n",
    "source_ne = ColumnDataSource(\n",
    "                                data=dict(\n",
    "                                            x = events1_ID_ne['Stay_date'],\n",
    "                                            y = events1_ID_ne['room_count'],\n",
    "                                            date = [x.strftime(\"%Y-%m-%d\") for x in events1_ID_ne['Stay_date']],\n",
    "                                            room_count = events1_ID_ne['room_count'],\n",
    "                                            effect = events1_ID_ne['Event']\n",
    "                                          )\n",
    "                             )\n",
    "\n",
    "source_we = ColumnDataSource(\n",
    "                                data=dict(\n",
    "                                            x = events1_ID_we['Stay_date'],\n",
    "                                            y = events1_ID_we['room_count'],\n",
    "                                            date = [x.strftime(\"%Y-%m-%d\") for x in events1_ID_we['Stay_date']],\n",
    "                                            room_count = events1_ID_we['room_count'],\n",
    "                                            effect = events1_ID_we['Event']\n",
    "                                          )\n",
    "                             )\n",
    "\n",
    "hover = HoverTool(\n",
    "                    tooltips=[\n",
    "                                (\"Date\", \"@date\"),\n",
    "                                (\"Room Counts\", \"@room_count\"),\n",
    "#                                 (\"Total revenue\", \"@y{1.11}\"),\n",
    "                                (\"Event\", \"@effect\"),\n",
    "                             ]\n",
    "                 )\n",
    "\n",
    "#p = plt.figure(x_axis_type = \"datetime\", x_axis_label = \"Date\", y_axis_label = \"Total Revenue\", width=1400, height=700, tools=[hover], title=\"Total Reveneue And Weather Effects For the Property \"+property_id+\" For The Year \"+str(year)+\" \"+month)\n",
    "p = plt.figure(x_axis_type = \"datetime\", x_axis_label = \"Date\", y_axis_label = \"Occupancy\", width=900, height=700, tools=[hover,WheelZoomTool(),ResetTool()], toolbar_location=\"right\", title=\"Stay Date vs Occupancy\")\n",
    "p.left[0].formatter.use_scientific = False\n",
    "p.line('x', 'y', line_width=2, source=source, line_color = \"green\",legend = \"Occupancy\" )   \n",
    "p.circle('x', 'y',line_width=2, source=source_we, line_color = \"blue\", legend = \"With_Event\" )\n",
    "p.circle('x', 'y',line_width=2, source=source_ne, line_color = \"red\", legend = \"Non_Event\" )\n",
    "\n",
    "p.ygrid.minor_grid_line_color = 'navy'\n",
    "p.ygrid.minor_grid_line_alpha = 0.2\n",
    "p.legend.border_line_width = 3\n",
    "p.legend.border_line_color = \"navy\"\n",
    "p.legend.border_line_alpha = 0.5\n",
    "\n",
    "show(p)"
   ]
  },
  {
   "cell_type": "code",
   "execution_count": 24,
   "metadata": {
    "collapsed": false
   },
   "outputs": [],
   "source": [
    "import bokeh.plotting as plt\n",
    "from bokeh.plotting import figure, output_file, show, ColumnDataSource\n",
    "from bokeh.models import HoverTool\n",
    "from bokeh.models.formatters import DatetimeTickFormatter\n",
    "from bokeh.models import HoverTool,WheelZoomTool,ResetTool\n",
    "# from bokeh.io import output_notebook\n",
    "\n",
    "source = ColumnDataSource(\n",
    "                                data=dict(\n",
    "                                            x = events1_ID['Stay_date'],\n",
    "                                            y = events1_ID['totalRevenue'],\n",
    "                                            date = [x.strftime(\"%Y-%m-%d\") for x in events1_ID['Stay_date']],\n",
    "                                            room_count = events1_ID['room_count'],\n",
    "                                            effect = events1_ID['Event']\n",
    "                                          )\n",
    "                             )\n",
    "\n",
    "source_ne = ColumnDataSource(\n",
    "                                data=dict(\n",
    "                                            x = events1_ID_ne['Stay_date'],\n",
    "                                            y = events1_ID_ne['totalRevenue'],\n",
    "                                            date = [x.strftime(\"%Y-%m-%d\") for x in events1_ID_ne['Stay_date']],\n",
    "                                            room_count = events1_ID_ne['room_count'],\n",
    "                                            effect = events1_ID_ne['Event']\n",
    "                                          )\n",
    "                             )\n",
    "\n",
    "source_we = ColumnDataSource(\n",
    "                                data=dict(\n",
    "                                            x = events1_ID_we['Stay_date'],\n",
    "                                            y = events1_ID_we['totalRevenue'],\n",
    "                                            date = [x.strftime(\"%Y-%m-%d\") for x in events1_ID_we['Stay_date']],\n",
    "                                            room_count = events1_ID_we['room_count'],\n",
    "                                            effect = events1_ID_we['Event']\n",
    "                                          )\n",
    "                             )\n",
    "\n",
    "hover = HoverTool(\n",
    "                    tooltips=[\n",
    "                                (\"Date\", \"@date\"),\n",
    "                                (\"Room Counts\", \"@room_count\"),\n",
    "                                (\"Total revenue\", \"@y{1.11}\"),\n",
    "                                (\"Event\", \"@effect\"),\n",
    "                             ]\n",
    "                 )\n",
    "\n",
    "#p = plt.figure(x_axis_type = \"datetime\", x_axis_label = \"Date\", y_axis_label = \"Total Revenue\", width=1400, height=700, tools=[hover], title=\"Total Reveneue And Weather Effects For the Property \"+property_id+\" For The Year \"+str(year)+\" \"+month)\n",
    "p = plt.figure(x_axis_type = \"datetime\", x_axis_label = \"Date\", y_axis_label = \"Total Revenue\", width=900, height=700, tools=[hover,WheelZoomTool(),ResetTool()], toolbar_location=\"right\", title=\"Stay Date vs Total Reveneue\")\n",
    "p.left[0].formatter.use_scientific = False\n",
    "p.line('x', 'y', line_width=2, source=source, line_color = \"green\",legend = \"Total Revenue\" )   \n",
    "p.circle('x', 'y',line_width=2, source=source_we, line_color = \"blue\", legend = \"With_Event\" )\n",
    "p.circle('x', 'y',line_width=2, source=source_ne, line_color = \"red\", legend = \"Non_Event\" )\n",
    "\n",
    "p.ygrid.minor_grid_line_color = 'navy'\n",
    "p.ygrid.minor_grid_line_alpha = 0.2\n",
    "p.legend.border_line_width = 3\n",
    "p.legend.border_line_color = \"navy\"\n",
    "p.legend.border_line_alpha = 0.5\n",
    "\n",
    "show(p)"
   ]
  },
  {
   "cell_type": "code",
   "execution_count": 39,
   "metadata": {
    "collapsed": true
   },
   "outputs": [],
   "source": [
    "rev_avg_ne = events1_ID_ne[\"totalRevenue\"].mean()\n",
    "rev_avg_we = events1_ID_we[\"totalRevenue\"].mean()\n",
    "\n",
    "\n",
    "roomcount_ne = events1_ID_ne[\"room_count\"].sum()\n",
    "roomcount_we = events1_ID_we[\"room_count\"].sum()\n",
    "\n",
    "\n",
    "adr_ne = events1_ID_ne[\"ADR\"].mean()\n",
    "adr_we = events1_ID_we[\"ADR\"].mean()\n",
    "\n",
    "tn_ne = events1_ID_ne[\"room_count\"].count()\n",
    "tn_we = events1_ID_we[\"room_count\"].count()"
   ]
  },
  {
   "cell_type": "code",
   "execution_count": 42,
   "metadata": {
    "collapsed": false
   },
   "outputs": [
    {
     "name": "stdout",
     "output_type": "stream",
     "text": [
      "Total non events : 278\n",
      "Total number of events  : 87\n",
      "\n",
      "\n",
      "Occupancy without event : 4269\n",
      "Occupancy with event  : 1440\n",
      "\n",
      "\n",
      "ADR without event : 13055.219727841142\n",
      "ADR with event  : 14720.752238545681\n",
      "\n",
      "\n",
      "Average total revenue without event : 216867.82176258994\n",
      "Average total revenue with event  : 252972.22908045977\n"
     ]
    }
   ],
   "source": [
    "print(\"Total non events : \"+str(tn_ne))\n",
    "print(\"Total number of events  : \"+str(tn_we))\n",
    "print(\"\\n\")\n",
    "\n",
    "print(\"Occupancy without event : \"+str(roomcount_ne))\n",
    "print(\"Occupancy with event  : \"+str(roomcount_we))\n",
    "print(\"\\n\")\n",
    "\n",
    "print(\"ADR without event : \"+str(adr_ne))\n",
    "print(\"ADR with event  : \"+str(adr_we))\n",
    "print(\"\\n\")\n",
    "\n",
    "print(\"Average total revenue without event : \"+str(rev_avg_ne))\n",
    "print(\"Average total revenue with event  : \"+str(rev_avg_we))\n",
    "\n"
   ]
  },
  {
   "cell_type": "code",
   "execution_count": null,
   "metadata": {
    "collapsed": false
   },
   "outputs": [],
   "source": [
    "# import numpy as np\n",
    "# import pandas as pd\n",
    "\n",
    "# Import Bokeh modules for interactive plotting\n",
    "import bokeh.charts\n",
    "import bokeh.charts.utils\n",
    "import bokeh.io\n",
    "import bokeh.models\n",
    "import bokeh.palettes\n",
    "import bokeh.plotting\n",
    "\n",
    "# Display graphics in this notebook\n",
    "bokeh.io.output_notebook()"
   ]
  },
  {
   "cell_type": "code",
   "execution_count": null,
   "metadata": {
    "collapsed": true
   },
   "outputs": [],
   "source": []
  }
 ],
 "metadata": {
  "anaconda-cloud": {},
  "kernelspec": {
   "display_name": "Python [default]",
   "language": "python",
   "name": "python3"
  },
  "language_info": {
   "codemirror_mode": {
    "name": "ipython",
    "version": 3
   },
   "file_extension": ".py",
   "mimetype": "text/x-python",
   "name": "python",
   "nbconvert_exporter": "python",
   "pygments_lexer": "ipython3",
   "version": "3.5.2"
  }
 },
 "nbformat": 4,
 "nbformat_minor": 1
}
