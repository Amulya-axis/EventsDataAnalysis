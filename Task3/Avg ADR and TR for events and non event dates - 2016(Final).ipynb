{
 "cells": [
  {
   "cell_type": "code",
   "execution_count": 1,
   "metadata": {
    "collapsed": false
   },
   "outputs": [],
   "source": [
    "import pandas as pd\n",
    "import numpy as np\n",
    "\n",
    "data = pd.read_csv('Results/RequiredDataSet.csv',header=None, names=['booking_date','channel','property_id','room_name','room_id','check_in','check_out','room_rate','booking_status'])\n",
    "# data.head()\n"
   ]
  },
  {
   "cell_type": "code",
   "execution_count": 2,
   "metadata": {
    "collapsed": false
   },
   "outputs": [],
   "source": [
    "Results = pd.read_excel('Results/DataSetWithStayDate.xlsx')\n",
    "# Results.head()"
   ]
  },
  {
   "cell_type": "code",
   "execution_count": 3,
   "metadata": {
    "collapsed": false
   },
   "outputs": [],
   "source": [
    "del Results['Old_Room_rate']\n",
    "# Results.head()"
   ]
  },
  {
   "cell_type": "code",
   "execution_count": 4,
   "metadata": {
    "collapsed": true
   },
   "outputs": [],
   "source": [
    "scrapyData = pd.read_csv('Results/eventData2016.csv',header=None, names=['Day','Stay_date','Event','HolidayIn'])\n",
    "scrapeResult = scrapyData.dropna()\n",
    "# scrapeResult.head()"
   ]
  },
  {
   "cell_type": "code",
   "execution_count": 5,
   "metadata": {
    "collapsed": false
   },
   "outputs": [],
   "source": [
    "pd.options.mode.chained_assignment = None"
   ]
  },
  {
   "cell_type": "code",
   "execution_count": 6,
   "metadata": {
    "collapsed": false
   },
   "outputs": [],
   "source": [
    "scrapeResult['Stay_date'] =   '2016-' + scrapeResult['Stay_date'] \n",
    "# scrapeResult.head()"
   ]
  },
  {
   "cell_type": "code",
   "execution_count": 7,
   "metadata": {
    "collapsed": false
   },
   "outputs": [],
   "source": [
    "scrapeResult['Stay_date'] = pd.to_datetime(scrapeResult.Stay_date)\n",
    "# scrapeResult.head()"
   ]
  },
  {
   "cell_type": "code",
   "execution_count": 8,
   "metadata": {
    "collapsed": true
   },
   "outputs": [],
   "source": [
    "del scrapeResult['HolidayIn']\n",
    "del scrapeResult['Day']\n",
    "# scrapeResult.head()"
   ]
  },
  {
   "cell_type": "code",
   "execution_count": 9,
   "metadata": {
    "collapsed": false
   },
   "outputs": [],
   "source": [
    "newResults = Results.filter(['Property_id','Stay_date','Booking_status','Room_rate'], axis=1)\n",
    "# newResults.head()"
   ]
  },
  {
   "cell_type": "code",
   "execution_count": 10,
   "metadata": {
    "collapsed": false
   },
   "outputs": [],
   "source": [
    "newResults = newResults[(newResults.Booking_status == 'COMPLETED') | (newResults.Booking_status == 'CONFIRMED')]\n",
    "# newResults.head()"
   ]
  },
  {
   "cell_type": "code",
   "execution_count": 11,
   "metadata": {
    "collapsed": false
   },
   "outputs": [],
   "source": [
    "newResults = newResults[(newResults.Stay_date >= '2016-01-01') & (newResults.Stay_date <= '2016-12-31')]\n",
    "# newResults.head()"
   ]
  },
  {
   "cell_type": "code",
   "execution_count": 12,
   "metadata": {
    "collapsed": false
   },
   "outputs": [],
   "source": [
    "newResults['Stay_date'] = pd.to_datetime(newResults.Stay_date)\n",
    "# newResults.head()"
   ]
  },
  {
   "cell_type": "code",
   "execution_count": 13,
   "metadata": {
    "collapsed": false
   },
   "outputs": [],
   "source": [
    "res = pd.merge(left=newResults, left_on='Stay_date',right=scrapeResult, right_on='Stay_date', how='left')\n",
    "#res = pd.merge(newResults, scrapeResult, on='Stay_date', how='left')"
   ]
  },
  {
   "cell_type": "code",
   "execution_count": 14,
   "metadata": {
    "collapsed": false
   },
   "outputs": [],
   "source": [
    "res = res.sort_values(by = 'Stay_date', ascending=True)\n",
    "# res1 = res.drop_duplicates()\n",
    "res1 = res.reset_index()\n",
    "del res1['index']\n",
    "res1 = res1.fillna('-')\n",
    "# res1.head()"
   ]
  },
  {
   "cell_type": "code",
   "execution_count": 15,
   "metadata": {
    "collapsed": false
   },
   "outputs": [],
   "source": [
    "# events = res1[(res1.Event != '-') ]\n",
    "# events.head()"
   ]
  },
  {
   "cell_type": "code",
   "execution_count": null,
   "metadata": {
    "collapsed": false,
    "scrolled": true
   },
   "outputs": [],
   "source": []
  },
  {
   "cell_type": "code",
   "execution_count": 16,
   "metadata": {
    "collapsed": false
   },
   "outputs": [],
   "source": [
    "events1 = res1.filter(['Property_id','Stay_date','Event','Room_rate'], axis=1)"
   ]
  },
  {
   "cell_type": "code",
   "execution_count": 17,
   "metadata": {
    "collapsed": false
   },
   "outputs": [],
   "source": [
    "events1['totalRevenue'] = events1.groupby(['Property_id','Stay_date'])['Room_rate'].transform('sum')\n",
    "# events"
   ]
  },
  {
   "cell_type": "code",
   "execution_count": 18,
   "metadata": {
    "collapsed": false
   },
   "outputs": [],
   "source": [
    "events1['room_count'] = events1.groupby(['Property_id','Stay_date'])['Room_rate'].transform('count')\n",
    "# events.head()"
   ]
  },
  {
   "cell_type": "code",
   "execution_count": 19,
   "metadata": {
    "collapsed": false,
    "scrolled": true
   },
   "outputs": [
    {
     "data": {
      "text/html": [
       "<div>\n",
       "<table border=\"1\" class=\"dataframe\">\n",
       "  <thead>\n",
       "    <tr style=\"text-align: right;\">\n",
       "      <th></th>\n",
       "      <th>Property_id</th>\n",
       "      <th>Stay_date</th>\n",
       "      <th>Event</th>\n",
       "      <th>Room_rate</th>\n",
       "      <th>totalRevenue</th>\n",
       "      <th>room_count</th>\n",
       "      <th>ADR</th>\n",
       "    </tr>\n",
       "  </thead>\n",
       "  <tbody>\n",
       "    <tr>\n",
       "      <th>0</th>\n",
       "      <td>SV</td>\n",
       "      <td>2016-01-01</td>\n",
       "      <td>New Years Day</td>\n",
       "      <td>10185.00</td>\n",
       "      <td>5.950987e+05</td>\n",
       "      <td>44</td>\n",
       "      <td>13524.969697</td>\n",
       "    </tr>\n",
       "    <tr>\n",
       "      <th>1</th>\n",
       "      <td>EB</td>\n",
       "      <td>2016-01-01</td>\n",
       "      <td>New Years Day</td>\n",
       "      <td>15400.00</td>\n",
       "      <td>1.293750e+05</td>\n",
       "      <td>16</td>\n",
       "      <td>8085.937500</td>\n",
       "    </tr>\n",
       "    <tr>\n",
       "      <th>2</th>\n",
       "      <td>KK</td>\n",
       "      <td>2016-01-01</td>\n",
       "      <td>New Years Day</td>\n",
       "      <td>310.33</td>\n",
       "      <td>1.395994e+05</td>\n",
       "      <td>11</td>\n",
       "      <td>12690.850000</td>\n",
       "    </tr>\n",
       "    <tr>\n",
       "      <th>3</th>\n",
       "      <td>MB</td>\n",
       "      <td>2016-01-01</td>\n",
       "      <td>New Years Day</td>\n",
       "      <td>15355.00</td>\n",
       "      <td>1.045688e+06</td>\n",
       "      <td>61</td>\n",
       "      <td>17142.419180</td>\n",
       "    </tr>\n",
       "    <tr>\n",
       "      <th>4</th>\n",
       "      <td>KR</td>\n",
       "      <td>2016-01-01</td>\n",
       "      <td>New Years Day</td>\n",
       "      <td>0.00</td>\n",
       "      <td>1.723016e+05</td>\n",
       "      <td>12</td>\n",
       "      <td>14358.464167</td>\n",
       "    </tr>\n",
       "  </tbody>\n",
       "</table>\n",
       "</div>"
      ],
      "text/plain": [
       "  Property_id  Stay_date          Event  Room_rate  totalRevenue  room_count  \\\n",
       "0          SV 2016-01-01  New Years Day   10185.00  5.950987e+05          44   \n",
       "1          EB 2016-01-01  New Years Day   15400.00  1.293750e+05          16   \n",
       "2          KK 2016-01-01  New Years Day     310.33  1.395994e+05          11   \n",
       "3          MB 2016-01-01  New Years Day   15355.00  1.045688e+06          61   \n",
       "4          KR 2016-01-01  New Years Day       0.00  1.723016e+05          12   \n",
       "\n",
       "            ADR  \n",
       "0  13524.969697  \n",
       "1   8085.937500  \n",
       "2  12690.850000  \n",
       "3  17142.419180  \n",
       "4  14358.464167  "
      ]
     },
     "execution_count": 19,
     "metadata": {},
     "output_type": "execute_result"
    }
   ],
   "source": [
    "events1['ADR'] = events1.apply(lambda events1: (events1['totalRevenue'] / events1['room_count'] ) , axis=1)\n",
    "events1.head()"
   ]
  },
  {
   "cell_type": "code",
   "execution_count": 20,
   "metadata": {
    "collapsed": false
   },
   "outputs": [],
   "source": [
    "del events1['Room_rate']\n",
    "# del events1['Booking_status']\n",
    "events1 = events1.drop_duplicates()\n",
    "# events"
   ]
  },
  {
   "cell_type": "code",
   "execution_count": 23,
   "metadata": {
    "collapsed": false,
    "scrolled": true
   },
   "outputs": [
    {
     "data": {
      "text/plain": [
       "array(['SV', 'EB', 'KK', 'MB', 'KR', 'BB', 'SC', 'CH', 'SS', 'CL', 'MM',\n",
       "       'MP', 'BG', 'VM', 'VV', 'WW', 'CP'], dtype=object)"
      ]
     },
     "execution_count": 23,
     "metadata": {},
     "output_type": "execute_result"
    }
   ],
   "source": [
    "# events1 \n",
    "events1.Property_id.unique()"
   ]
  },
  {
   "cell_type": "code",
   "execution_count": 43,
   "metadata": {
    "collapsed": false,
    "scrolled": true
   },
   "outputs": [
    {
     "name": "stdout",
     "output_type": "stream",
     "text": [
      "Enter a property_id :BB\n"
     ]
    }
   ],
   "source": [
    "events1_ID = events1[events1.Property_id == input(\"Enter a property_id :\")]\n",
    "# events1_ID"
   ]
  },
  {
   "cell_type": "code",
   "execution_count": 38,
   "metadata": {
    "collapsed": false
   },
   "outputs": [],
   "source": [
    "events1_ID_ne = events1_ID[events1_ID.Event == '-']\n",
    "events1_ID_we = events1_ID[events1_ID.Event != '-']"
   ]
  },
  {
   "cell_type": "code",
   "execution_count": 42,
   "metadata": {
    "collapsed": false
   },
   "outputs": [],
   "source": [
    "import bokeh.plotting as plt\n",
    "from bokeh.plotting import figure, output_file, show, ColumnDataSource\n",
    "from bokeh.models import HoverTool\n",
    "from bokeh.models.formatters import DatetimeTickFormatter\n",
    "from bokeh.models import HoverTool,WheelZoomTool,ResetTool\n",
    "# from bokeh.io import output_notebook\n",
    "\n",
    "source = ColumnDataSource(\n",
    "                                data=dict(\n",
    "                                            x = events1_ID['Stay_date'],\n",
    "                                            y = events1_ID['room_count'],\n",
    "                                            date = [x.strftime(\"%Y-%m-%d\") for x in events1_ID['Stay_date']],\n",
    "                                            room_count = events1_ID['room_count'],\n",
    "                                            effect = events1_ID['Event']\n",
    "                                          )\n",
    "                             )\n",
    "\n",
    "source_ne = ColumnDataSource(\n",
    "                                data=dict(\n",
    "                                            x = events1_ID_ne['Stay_date'],\n",
    "                                            y = events1_ID_ne['room_count'],\n",
    "                                            date = [x.strftime(\"%Y-%m-%d\") for x in events1_ID_ne['Stay_date']],\n",
    "                                            room_count = events1_ID_ne['room_count'],\n",
    "                                            effect = events1_ID_ne['Event']\n",
    "                                          )\n",
    "                             )\n",
    "\n",
    "source_we = ColumnDataSource(\n",
    "                                data=dict(\n",
    "                                            x = events1_ID_we['Stay_date'],\n",
    "                                            y = events1_ID_we['room_count'],\n",
    "                                            date = [x.strftime(\"%Y-%m-%d\") for x in events1_ID_we['Stay_date']],\n",
    "                                            room_count = events1_ID_we['room_count'],\n",
    "                                            effect = events1_ID_we['Event']\n",
    "                                          )\n",
    "                             )\n",
    "\n",
    "hover = HoverTool(\n",
    "                    tooltips=[\n",
    "                                (\"Date\", \"@date\"),\n",
    "                                (\"Room Counts\", \"@room_count\"),\n",
    "#                                 (\"Total revenue\", \"@y{1.11}\"),\n",
    "                                (\"Event\", \"@effect\"),\n",
    "                             ]\n",
    "                 )\n",
    "\n",
    "#p = plt.figure(x_axis_type = \"datetime\", x_axis_label = \"Date\", y_axis_label = \"Total Revenue\", width=1400, height=700, tools=[hover], title=\"Total Reveneue And Weather Effects For the Property \"+property_id+\" For The Year \"+str(year)+\" \"+month)\n",
    "p = plt.figure(x_axis_type = \"datetime\", x_axis_label = \"Date\", y_axis_label = \"Occupancy\", width=900, height=700, tools=[hover,WheelZoomTool(),ResetTool()], toolbar_location=\"right\", title=\"Stay Date vs Occupancy\")\n",
    "p.left[0].formatter.use_scientific = False\n",
    "p.line('x', 'y', line_width=2, source=source, line_color = \"green\",legend = \"Occupancy\" )   \n",
    "p.circle('x', 'y',line_width=2, source=source_we, line_color = \"blue\", legend = \"With_Event\" )\n",
    "p.circle('x', 'y',line_width=2, source=source_ne, line_color = \"red\", legend = \"Non_Event\" )\n",
    "\n",
    "p.ygrid.minor_grid_line_color = 'navy'\n",
    "p.ygrid.minor_grid_line_alpha = 0.2\n",
    "p.legend.border_line_width = 3\n",
    "p.legend.border_line_color = \"navy\"\n",
    "p.legend.border_line_alpha = 0.5\n",
    "\n",
    "show(p)"
   ]
  },
  {
   "cell_type": "code",
   "execution_count": 41,
   "metadata": {
    "collapsed": false
   },
   "outputs": [],
   "source": [
    "import bokeh.plotting as plt\n",
    "from bokeh.plotting import figure, output_file, show, ColumnDataSource\n",
    "from bokeh.models import HoverTool\n",
    "from bokeh.models.formatters import DatetimeTickFormatter\n",
    "from bokeh.models import HoverTool,WheelZoomTool,ResetTool\n",
    "# from bokeh.io import output_notebook\n",
    "\n",
    "source = ColumnDataSource(\n",
    "                                data=dict(\n",
    "                                            x = events1_ID['Stay_date'],\n",
    "                                            y = events1_ID['totalRevenue'],\n",
    "                                            date = [x.strftime(\"%Y-%m-%d\") for x in events1_ID['Stay_date']],\n",
    "                                            room_count = events1_ID['room_count'],\n",
    "                                            effect = events1_ID['Event']\n",
    "                                          )\n",
    "                             )\n",
    "\n",
    "source_ne = ColumnDataSource(\n",
    "                                data=dict(\n",
    "                                            x = events1_ID_ne['Stay_date'],\n",
    "                                            y = events1_ID_ne['totalRevenue'],\n",
    "                                            date = [x.strftime(\"%Y-%m-%d\") for x in events1_ID_ne['Stay_date']],\n",
    "                                            room_count = events1_ID_ne['room_count'],\n",
    "                                            effect = events1_ID_ne['Event']\n",
    "                                          )\n",
    "                             )\n",
    "\n",
    "source_we = ColumnDataSource(\n",
    "                                data=dict(\n",
    "                                            x = events1_ID_we['Stay_date'],\n",
    "                                            y = events1_ID_we['totalRevenue'],\n",
    "                                            date = [x.strftime(\"%Y-%m-%d\") for x in events1_ID_we['Stay_date']],\n",
    "                                            room_count = events1_ID_we['room_count'],\n",
    "                                            effect = events1_ID_we['Event']\n",
    "                                          )\n",
    "                             )\n",
    "\n",
    "hover = HoverTool(\n",
    "                    tooltips=[\n",
    "                                (\"Date\", \"@date\"),\n",
    "                                (\"Room Counts\", \"@room_count\"),\n",
    "                                (\"Total revenue\", \"@y{1.11}\"),\n",
    "                                (\"Event\", \"@effect\"),\n",
    "                             ]\n",
    "                 )\n",
    "\n",
    "#p = plt.figure(x_axis_type = \"datetime\", x_axis_label = \"Date\", y_axis_label = \"Total Revenue\", width=1400, height=700, tools=[hover], title=\"Total Reveneue And Weather Effects For the Property \"+property_id+\" For The Year \"+str(year)+\" \"+month)\n",
    "p = plt.figure(x_axis_type = \"datetime\", x_axis_label = \"Date\", y_axis_label = \"Total Revenue\", width=900, height=700, tools=[hover,WheelZoomTool(),ResetTool()], toolbar_location=\"right\", title=\"Stay Date vs Total Reveneue\")\n",
    "p.left[0].formatter.use_scientific = False\n",
    "p.line('x', 'y', line_width=2, source=source, line_color = \"green\",legend = \"Total Revenue\" )   \n",
    "p.circle('x', 'y',line_width=2, source=source_we, line_color = \"blue\", legend = \"With_Event\" )\n",
    "p.circle('x', 'y',line_width=2, source=source_ne, line_color = \"red\", legend = \"Non_Event\" )\n",
    "\n",
    "p.ygrid.minor_grid_line_color = 'navy'\n",
    "p.ygrid.minor_grid_line_alpha = 0.2\n",
    "p.legend.border_line_width = 3\n",
    "p.legend.border_line_color = \"navy\"\n",
    "p.legend.border_line_alpha = 0.5\n",
    "\n",
    "show(p)"
   ]
  },
  {
   "cell_type": "code",
   "execution_count": 45,
   "metadata": {
    "collapsed": true
   },
   "outputs": [],
   "source": [
    "rev_avg_ne = events1_ID_ne[\"totalRevenue\"].mean()\n",
    "rev_avg_we = events1_ID_we[\"totalRevenue\"].mean()\n",
    "\n",
    "\n",
    "roomcount_ne = events1_ID_ne[\"room_count\"].sum()\n",
    "roomcount_we = events1_ID_we[\"room_count\"].sum()\n",
    "\n",
    "\n",
    "adr_ne = events1_ID_ne[\"ADR\"].mean()\n",
    "adr_we = events1_ID_we[\"ADR\"].mean()\n",
    "\n",
    "\n",
    "tn_ne = events1_ID_ne[\"room_count\"].count()\n",
    "tn_we = events1_ID_we[\"room_count\"].count()"
   ]
  },
  {
   "cell_type": "code",
   "execution_count": 46,
   "metadata": {
    "collapsed": false
   },
   "outputs": [
    {
     "name": "stdout",
     "output_type": "stream",
     "text": [
      "Total non events : 267\n",
      "Total number of events  : 99\n",
      "\n",
      "\n",
      "Occupancy without event : 3304\n",
      "Occupancy with event  : 1165\n",
      "\n",
      "\n",
      "ADR without event : 6854.527903977957\n",
      "ADR with event  : 5568.5073629961125\n",
      "\n",
      "\n",
      "Average total revenue without event : 70273.89742952884\n",
      "Average total revenue with event  : 63783.16683147266\n"
     ]
    }
   ],
   "source": [
    "print(\"Total non events : \"+str(tn_ne))\n",
    "print(\"Total number of events  : \"+str(tn_we))\n",
    "print(\"\\n\")\n",
    "\n",
    "print(\"Occupancy without event : \"+str(roomcount_ne))\n",
    "print(\"Occupancy with event  : \"+str(roomcount_we))\n",
    "print(\"\\n\")\n",
    "\n",
    "print(\"ADR without event : \"+str(adr_ne))\n",
    "print(\"ADR with event  : \"+str(adr_we))\n",
    "print(\"\\n\")\n",
    "\n",
    "print(\"Average total revenue without event : \"+str(rev_avg_ne))\n",
    "print(\"Average total revenue with event  : \"+str(rev_avg_we))\n",
    "\n"
   ]
  },
  {
   "cell_type": "code",
   "execution_count": null,
   "metadata": {
    "collapsed": true
   },
   "outputs": [],
   "source": []
  },
  {
   "cell_type": "code",
   "execution_count": null,
   "metadata": {
    "collapsed": false
   },
   "outputs": [],
   "source": [
    "# Import Bokeh modules for interactive plotting\n",
    "import bokeh.charts\n",
    "import bokeh.charts.utils\n",
    "import bokeh.io\n",
    "import bokeh.models\n",
    "import bokeh.palettes\n",
    "import bokeh.plotting\n",
    "\n",
    "# Display graphics in this notebook\n",
    "bokeh.io.output_notebook()"
   ]
  }
 ],
 "metadata": {
  "anaconda-cloud": {},
  "kernelspec": {
   "display_name": "Python [default]",
   "language": "python",
   "name": "python3"
  },
  "language_info": {
   "codemirror_mode": {
    "name": "ipython",
    "version": 3
   },
   "file_extension": ".py",
   "mimetype": "text/x-python",
   "name": "python",
   "nbconvert_exporter": "python",
   "pygments_lexer": "ipython3",
   "version": "3.5.2"
  }
 },
 "nbformat": 4,
 "nbformat_minor": 1
}
