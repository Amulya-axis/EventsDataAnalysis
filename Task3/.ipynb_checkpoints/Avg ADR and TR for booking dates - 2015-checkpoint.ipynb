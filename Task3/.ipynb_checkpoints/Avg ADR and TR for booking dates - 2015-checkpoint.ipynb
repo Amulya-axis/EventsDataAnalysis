{
 "cells": [
  {
   "cell_type": "code",
   "execution_count": 1,
   "metadata": {
    "collapsed": false
   },
   "outputs": [],
   "source": [
    "import pandas as pd\n",
    "import numpy as np\n",
    "\n",
    "data = pd.read_csv('Results/RequiredDataSet.csv',header=None, names=['Booking_date','channel','property_id','room_name','room_id','check_in','check_out','room_rate','booking_status'])\n",
    "#data.head()\n"
   ]
  },
  {
   "cell_type": "code",
   "execution_count": 2,
   "metadata": {
    "collapsed": true
   },
   "outputs": [],
   "source": [
    "del data['check_in']\n",
    "del data['check_out']\n",
    "#data.head()"
   ]
  },
  {
   "cell_type": "code",
   "execution_count": 3,
   "metadata": {
    "collapsed": true
   },
   "outputs": [],
   "source": [
    "scrapyData = pd.read_csv('Results/eventData2015.csv',header=None, names=['Day','Booking_date','Event','HolidayIn'])\n",
    "scrapeResult = scrapyData.dropna()\n",
    "#scrapeResult.head()"
   ]
  },
  {
   "cell_type": "code",
   "execution_count": 4,
   "metadata": {
    "collapsed": false
   },
   "outputs": [],
   "source": [
    "pd.options.mode.chained_assignment = None "
   ]
  },
  {
   "cell_type": "code",
   "execution_count": 5,
   "metadata": {
    "collapsed": false,
    "scrolled": true
   },
   "outputs": [],
   "source": [
    "scrapeResult['Booking_date'] =   '2015-' + scrapeResult['Booking_date'] \n",
    "#scrapeResult.head()"
   ]
  },
  {
   "cell_type": "code",
   "execution_count": 6,
   "metadata": {
    "collapsed": false
   },
   "outputs": [],
   "source": [
    "scrapeResult['Booking_date'] = pd.to_datetime(scrapeResult.Booking_date)\n",
    "#scrapeResult.head()"
   ]
  },
  {
   "cell_type": "code",
   "execution_count": 7,
   "metadata": {
    "collapsed": true
   },
   "outputs": [],
   "source": [
    "del scrapeResult['HolidayIn']\n",
    "del scrapeResult['Day']\n",
    "# scrapeResult.head()"
   ]
  },
  {
   "cell_type": "code",
   "execution_count": 8,
   "metadata": {
    "collapsed": false
   },
   "outputs": [],
   "source": [
    "newResults = data[(data.booking_status == 'COMPLETED') | (data.booking_status == 'CONFIRMED')]\n",
    "# newResults.head()"
   ]
  },
  {
   "cell_type": "code",
   "execution_count": 9,
   "metadata": {
    "collapsed": false
   },
   "outputs": [],
   "source": [
    "newResults = newResults[(newResults.Booking_date >= '2015-01-01') & (newResults.Booking_date <= '2015-12-31')]\n",
    "# newResults.head()"
   ]
  },
  {
   "cell_type": "code",
   "execution_count": 10,
   "metadata": {
    "collapsed": false
   },
   "outputs": [],
   "source": [
    "newResults['Booking_date'] = newResults['Booking_date'].str.extract('(....-..-..)', expand=True)\n",
    "# newResults['Booking_date'].head()"
   ]
  },
  {
   "cell_type": "code",
   "execution_count": 11,
   "metadata": {
    "collapsed": false
   },
   "outputs": [],
   "source": [
    "newResults['Booking_date'] = pd.to_datetime(newResults.Booking_date)"
   ]
  },
  {
   "cell_type": "code",
   "execution_count": 12,
   "metadata": {
    "collapsed": false
   },
   "outputs": [],
   "source": [
    "# newResults.head()\n",
    "del newResults['channel']\n",
    "del newResults['room_name']\n",
    "del newResults['room_id']"
   ]
  },
  {
   "cell_type": "code",
   "execution_count": 13,
   "metadata": {
    "collapsed": false
   },
   "outputs": [],
   "source": [
    "res = pd.merge(left=newResults, left_on='Booking_date',right=scrapeResult, right_on='Booking_date')"
   ]
  },
  {
   "cell_type": "code",
   "execution_count": 14,
   "metadata": {
    "collapsed": false
   },
   "outputs": [],
   "source": [
    "res = res.sort_values(by = 'Booking_date', ascending=True)\n",
    "res1 = res.drop_duplicates()\n",
    "res1 = res1.reset_index()\n",
    "del res1['index']\n",
    "# res1.head()"
   ]
  },
  {
   "cell_type": "code",
   "execution_count": 15,
   "metadata": {
    "collapsed": false
   },
   "outputs": [],
   "source": [
    "res1['totalRevenue'] = res1.groupby(['property_id','Booking_date'])['room_rate'].transform('sum')\n",
    "res2 = res1.drop_duplicates()\n",
    "# res2.head()"
   ]
  },
  {
   "cell_type": "code",
   "execution_count": 16,
   "metadata": {
    "collapsed": false
   },
   "outputs": [],
   "source": [
    "res1['room_count'] = res1.groupby(['property_id','Booking_date'])['room_rate'].transform('count')\n",
    "res3 = res1\n",
    "# res3.head()"
   ]
  },
  {
   "cell_type": "code",
   "execution_count": 17,
   "metadata": {
    "collapsed": false
   },
   "outputs": [],
   "source": [
    "res3['ADR'] = res3.apply(lambda res3: (res3['totalRevenue'] / res3['room_count'] ) , axis=1)\n",
    "# res3.head()"
   ]
  },
  {
   "cell_type": "code",
   "execution_count": 18,
   "metadata": {
    "collapsed": false
   },
   "outputs": [],
   "source": [
    "del res3['room_rate']\n",
    "del res3['booking_status']\n",
    "res3 = res3.drop_duplicates()\n",
    "# res3"
   ]
  },
  {
   "cell_type": "code",
   "execution_count": 19,
   "metadata": {
    "collapsed": false
   },
   "outputs": [
    {
     "data": {
      "text/plain": [
       "numpy.ndarray"
      ]
     },
     "execution_count": 19,
     "metadata": {},
     "output_type": "execute_result"
    }
   ],
   "source": [
    "temp = res3['property_id'].unique()\n",
    "type(temp)"
   ]
  },
  {
   "cell_type": "code",
   "execution_count": 20,
   "metadata": {
    "collapsed": false
   },
   "outputs": [],
   "source": [
    "for i in range(len(temp)):\n",
    "    property_id = res3[(res3.property_id == temp[i])]\n",
    "    property_id.to_excel('Results/GroupByPropertyID/2015/'+ temp[i] +'.xlsx')"
   ]
  },
  {
   "cell_type": "code",
   "execution_count": 21,
   "metadata": {
    "collapsed": false
   },
   "outputs": [
    {
     "data": {
      "text/html": [
       "\n",
       "    <div class=\"bk-root\">\n",
       "        <a href=\"http://bokeh.pydata.org\" target=\"_blank\" class=\"bk-logo bk-logo-small bk-logo-notebook\"></a>\n",
       "        <span id=\"3052d4a8-9a13-4431-97d3-b4974391372d\">Loading BokehJS ...</span>\n",
       "    </div>"
      ]
     },
     "metadata": {},
     "output_type": "display_data"
    },
    {
     "data": {
      "application/javascript": [
       "\n",
       "(function(global) {\n",
       "  function now() {\n",
       "    return new Date();\n",
       "  }\n",
       "\n",
       "  var force = \"1\";\n",
       "\n",
       "  if (typeof (window._bokeh_onload_callbacks) === \"undefined\" || force !== \"\") {\n",
       "    window._bokeh_onload_callbacks = [];\n",
       "    window._bokeh_is_loading = undefined;\n",
       "  }\n",
       "\n",
       "\n",
       "  \n",
       "  if (typeof (window._bokeh_timeout) === \"undefined\" || force !== \"\") {\n",
       "    window._bokeh_timeout = Date.now() + 5000;\n",
       "    window._bokeh_failed_load = false;\n",
       "  }\n",
       "\n",
       "  var NB_LOAD_WARNING = {'data': {'text/html':\n",
       "     \"<div style='background-color: #fdd'>\\n\"+\n",
       "     \"<p>\\n\"+\n",
       "     \"BokehJS does not appear to have successfully loaded. If loading BokehJS from CDN, this \\n\"+\n",
       "     \"may be due to a slow or bad network connection. Possible fixes:\\n\"+\n",
       "     \"</p>\\n\"+\n",
       "     \"<ul>\\n\"+\n",
       "     \"<li>re-rerun `output_notebook()` to attempt to load from CDN again, or</li>\\n\"+\n",
       "     \"<li>use INLINE resources instead, as so:</li>\\n\"+\n",
       "     \"</ul>\\n\"+\n",
       "     \"<code>\\n\"+\n",
       "     \"from bokeh.resources import INLINE\\n\"+\n",
       "     \"output_notebook(resources=INLINE)\\n\"+\n",
       "     \"</code>\\n\"+\n",
       "     \"</div>\"}};\n",
       "\n",
       "  function display_loaded() {\n",
       "    if (window.Bokeh !== undefined) {\n",
       "      Bokeh.$(\"#3052d4a8-9a13-4431-97d3-b4974391372d\").text(\"BokehJS successfully loaded.\");\n",
       "    } else if (Date.now() < window._bokeh_timeout) {\n",
       "      setTimeout(display_loaded, 100)\n",
       "    }\n",
       "  }\n",
       "\n",
       "  function run_callbacks() {\n",
       "    window._bokeh_onload_callbacks.forEach(function(callback) { callback() });\n",
       "    delete window._bokeh_onload_callbacks\n",
       "    console.info(\"Bokeh: all callbacks have finished\");\n",
       "  }\n",
       "\n",
       "  function load_libs(js_urls, callback) {\n",
       "    window._bokeh_onload_callbacks.push(callback);\n",
       "    if (window._bokeh_is_loading > 0) {\n",
       "      console.log(\"Bokeh: BokehJS is being loaded, scheduling callback at\", now());\n",
       "      return null;\n",
       "    }\n",
       "    if (js_urls == null || js_urls.length === 0) {\n",
       "      run_callbacks();\n",
       "      return null;\n",
       "    }\n",
       "    console.log(\"Bokeh: BokehJS not loaded, scheduling load and callback at\", now());\n",
       "    window._bokeh_is_loading = js_urls.length;\n",
       "    for (var i = 0; i < js_urls.length; i++) {\n",
       "      var url = js_urls[i];\n",
       "      var s = document.createElement('script');\n",
       "      s.src = url;\n",
       "      s.async = false;\n",
       "      s.onreadystatechange = s.onload = function() {\n",
       "        window._bokeh_is_loading--;\n",
       "        if (window._bokeh_is_loading === 0) {\n",
       "          console.log(\"Bokeh: all BokehJS libraries loaded\");\n",
       "          run_callbacks()\n",
       "        }\n",
       "      };\n",
       "      s.onerror = function() {\n",
       "        console.warn(\"failed to load library \" + url);\n",
       "      };\n",
       "      console.log(\"Bokeh: injecting script tag for BokehJS library: \", url);\n",
       "      document.getElementsByTagName(\"head\")[0].appendChild(s);\n",
       "    }\n",
       "  };var element = document.getElementById(\"3052d4a8-9a13-4431-97d3-b4974391372d\");\n",
       "  if (element == null) {\n",
       "    console.log(\"Bokeh: ERROR: autoload.js configured with elementid '3052d4a8-9a13-4431-97d3-b4974391372d' but no matching script tag was found. \")\n",
       "    return false;\n",
       "  }\n",
       "\n",
       "  var js_urls = ['https://cdn.pydata.org/bokeh/release/bokeh-0.12.2.min.js', 'https://cdn.pydata.org/bokeh/release/bokeh-widgets-0.12.2.min.js', 'https://cdn.pydata.org/bokeh/release/bokeh-compiler-0.12.2.min.js'];\n",
       "\n",
       "  var inline_js = [\n",
       "    function(Bokeh) {\n",
       "      Bokeh.set_log_level(\"info\");\n",
       "    },\n",
       "    \n",
       "    function(Bokeh) {\n",
       "      \n",
       "      Bokeh.$(\"#3052d4a8-9a13-4431-97d3-b4974391372d\").text(\"BokehJS is loading...\");\n",
       "    },\n",
       "    function(Bokeh) {\n",
       "      console.log(\"Bokeh: injecting CSS: https://cdn.pydata.org/bokeh/release/bokeh-0.12.2.min.css\");\n",
       "      Bokeh.embed.inject_css(\"https://cdn.pydata.org/bokeh/release/bokeh-0.12.2.min.css\");\n",
       "      console.log(\"Bokeh: injecting CSS: https://cdn.pydata.org/bokeh/release/bokeh-widgets-0.12.2.min.css\");\n",
       "      Bokeh.embed.inject_css(\"https://cdn.pydata.org/bokeh/release/bokeh-widgets-0.12.2.min.css\");\n",
       "    }\n",
       "  ];\n",
       "\n",
       "  function run_inline_js() {\n",
       "    \n",
       "    if ((window.Bokeh !== undefined) || (force === \"1\")) {\n",
       "      for (var i = 0; i < inline_js.length; i++) {\n",
       "        inline_js[i](window.Bokeh);\n",
       "      }if (force === \"1\") {\n",
       "        display_loaded();\n",
       "      }} else if (Date.now() < window._bokeh_timeout) {\n",
       "      setTimeout(run_inline_js, 100);\n",
       "    } else if (!window._bokeh_failed_load) {\n",
       "      console.log(\"Bokeh: BokehJS failed to load within specified timeout.\");\n",
       "      window._bokeh_failed_load = true;\n",
       "    } else if (!force) {\n",
       "      var cell = $(\"#3052d4a8-9a13-4431-97d3-b4974391372d\").parents('.cell').data().cell;\n",
       "      cell.output_area.append_execute_result(NB_LOAD_WARNING)\n",
       "    }\n",
       "\n",
       "  }\n",
       "\n",
       "  if (window._bokeh_is_loading === 0) {\n",
       "    console.log(\"Bokeh: BokehJS loaded, going straight to plotting\");\n",
       "    run_inline_js();\n",
       "  } else {\n",
       "    load_libs(js_urls, function() {\n",
       "      console.log(\"Bokeh: BokehJS plotting callback run at\", now());\n",
       "      run_inline_js();\n",
       "    });\n",
       "  }\n",
       "}(this));"
      ]
     },
     "metadata": {},
     "output_type": "display_data"
    }
   ],
   "source": [
    "# Our numerical workhorses\n",
    "import numpy as np\n",
    "import pandas as pd\n",
    "\n",
    "# Import Bokeh modules for interactive plotting\n",
    "import bokeh.charts\n",
    "import bokeh.charts.utils\n",
    "import bokeh.io\n",
    "import bokeh.models\n",
    "import bokeh.palettes\n",
    "import bokeh.plotting\n",
    "\n",
    "# Display graphics in this notebook\n",
    "bokeh.io.output_notebook()"
   ]
  },
  {
   "cell_type": "code",
   "execution_count": 22,
   "metadata": {
    "collapsed": true
   },
   "outputs": [],
   "source": [
    "import bokeh.plotting as plt\n",
    "from bokeh.plotting import figure, output_file, show, ColumnDataSource\n",
    "from bokeh.models import HoverTool\n",
    "from bokeh.models.formatters import DatetimeTickFormatter\n"
   ]
  },
  {
   "cell_type": "code",
   "execution_count": 28,
   "metadata": {
    "collapsed": true
   },
   "outputs": [],
   "source": [
    "property_id_BB = pd.read_excel('Results/GroupByPropertyID/2015/BB.xlsx')\n",
    "property_id_BB = property_id_BB.reset_index()\n",
    "property_id_BB = property_id_BB.sort_values(by = 'Booking_date', ascending=True)\n",
    "property_id_BB1 = property_id_BB.values.T.tolist()"
   ]
  },
  {
   "cell_type": "code",
   "execution_count": 24,
   "metadata": {
    "collapsed": false
   },
   "outputs": [
    {
     "data": {
      "text/plain": [
       "ADR    29682.341442\n",
       "dtype: float64"
      ]
     },
     "execution_count": 24,
     "metadata": {},
     "output_type": "execute_result"
    }
   ],
   "source": [
    "property_id_BB[['ADR']].mean()"
   ]
  },
  {
   "cell_type": "code",
   "execution_count": 25,
   "metadata": {
    "collapsed": false
   },
   "outputs": [
    {
     "data": {
      "text/plain": [
       "totalRevenue    159757.876265\n",
       "dtype: float64"
      ]
     },
     "execution_count": 25,
     "metadata": {},
     "output_type": "execute_result"
    }
   ],
   "source": [
    "property_id_BB[['totalRevenue']].mean()"
   ]
  },
  {
   "cell_type": "code",
   "execution_count": 32,
   "metadata": {
    "collapsed": false
   },
   "outputs": [
    {
     "data": {
      "text/plain": [
       "ADR    2.463634e+06\n",
       "dtype: float64"
      ]
     },
     "execution_count": 32,
     "metadata": {},
     "output_type": "execute_result"
    }
   ],
   "source": [
    "property_id_BB[['ADR']].sum()"
   ]
  },
  {
   "cell_type": "code",
   "execution_count": 33,
   "metadata": {
    "collapsed": false
   },
   "outputs": [
    {
     "data": {
      "text/plain": [
       "totalRevenue    13259903.73\n",
       "dtype: float64"
      ]
     },
     "execution_count": 33,
     "metadata": {},
     "output_type": "execute_result"
    }
   ],
   "source": [
    "property_id_BB[['totalRevenue']].sum()"
   ]
  },
  {
   "cell_type": "code",
   "execution_count": null,
   "metadata": {
    "collapsed": true
   },
   "outputs": [],
   "source": [
    "# property_id_BB16 = pd.read_excel('Results/GroupByPropertyID/2016/BB.xlsx')\n",
    "# property_id_BB16 = property_id_BB16.reset_index()\n",
    "# property_id_BB16 = property_id_BB16.sort_values(by = 'Booking_date', ascending=True)\n",
    "# property_id_BB116 = property_id_BB16.values.T.tolist()"
   ]
  },
  {
   "cell_type": "code",
   "execution_count": null,
   "metadata": {
    "collapsed": false
   },
   "outputs": [],
   "source": [
    "# source = ColumnDataSource(\n",
    "#         data=dict(\n",
    "#             x=property_id_BB1[1],\n",
    "#             y=property_id_BB1[4],\n",
    "#             desc=property_id_BB1[3],\n",
    "#             date=[x.strftime(\"%Y-%m-%d\") for x in property_id_BB['Booking_date']]\n",
    "#         )\n",
    "#     )\n",
    "\n",
    "# sourceA = ColumnDataSource(\n",
    "#         data=dict(\n",
    "#             x=property_id_BB116[1],\n",
    "#             y=property_id_BB116[4],\n",
    "#             desc=property_id_BB116[3],\n",
    "#             date=[x.strftime(\"%Y-%m-%d\") for x in property_id_BB16['Booking_date']]\n",
    "#         )\n",
    "#     )\n",
    "\n",
    "# hover = HoverTool(\n",
    "#         tooltips=[\n",
    "#             (\"Date\",\"@date\"),\n",
    "#             (\"Event\", \"@desc\"),\n",
    "#             (\"Total Revenue\",\"@y{1.11}\")\n",
    "#         ]\n",
    "#     )\n",
    "\n",
    "# p = plt.figure(x_axis_type=\"datetime\",width=800, height=500, tools=[hover],\n",
    "#            title=\"Graph of BookingDate vs TotalRevenue for BB (hover to view events)\",x_axis_label = \"Booking Date\",\n",
    "#                y_axis_label = \"Total Revenue\")\n",
    "# p.left[0].formatter.use_scientific = False\n",
    "# p.line('x', 'y', line_width=2, source=source, legend=\"2015\", color=\"red\")   \n",
    "# p.line('x', 'y', line_width=2, source=sourceA, legend=\"2016\", color=\"green\")   \n",
    "# show(p)"
   ]
  },
  {
   "cell_type": "code",
   "execution_count": null,
   "metadata": {
    "collapsed": false
   },
   "outputs": [],
   "source": [
    "# source = ColumnDataSource(\n",
    "#         data=dict(\n",
    "#             x=property_id_BB1[1],\n",
    "#             y=property_id_BB1[6],\n",
    "#             desc=property_id_BB1[3],\n",
    "#             date=[x.strftime(\"%Y-%m-%d\") for x in property_id_BB['Booking_date']]\n",
    "#         )\n",
    "#     )\n",
    "\n",
    "# sourceA = ColumnDataSource(\n",
    "#         data=dict(\n",
    "#             x=property_id_BB116[1],\n",
    "#             y=property_id_BB116[6],\n",
    "#             desc=property_id_BB116[3],\n",
    "#             date=[x.strftime(\"%Y-%m-%d\") for x in property_id_BB16['Booking_date']]\n",
    "#         )\n",
    "#     )\n",
    "\n",
    "# hover = HoverTool(\n",
    "#         tooltips=[\n",
    "#             (\"Date\",\"@date\"),\n",
    "#             (\"Event\", \"@desc\"),\n",
    "#             (\"Total Revenue\",\"@y{1.11}\")\n",
    "#         ]\n",
    "#     )\n",
    "\n",
    "# p = plt.figure(x_axis_type=\"datetime\",width=800, height=500, tools=[hover],\n",
    "#            title=\"Graph of BookingDate vs ADR for BB (hover to view events)\",x_axis_label = \"Booking Date\",\n",
    "#                y_axis_label = \"ADR\")\n",
    "# p.left[0].formatter.use_scientific = False\n",
    "# p.line('x', 'y', line_width=2, source=source, legend=\"2015\", color=\"red\")   \n",
    "# p.line('x', 'y', line_width=2, source=sourceA, legend=\"2016\", color=\"green\")   \n",
    "# show(p)"
   ]
  },
  {
   "cell_type": "code",
   "execution_count": 26,
   "metadata": {
    "collapsed": false
   },
   "outputs": [
    {
     "data": {
      "text/html": [
       "\n",
       "\n",
       "    <div class=\"bk-root\">\n",
       "        <div class=\"plotdiv\" id=\"fb285aea-24b8-46a5-99ad-f24b39b4bd53\"></div>\n",
       "    </div>\n",
       "<script type=\"text/javascript\">\n",
       "  \n",
       "  (function(global) {\n",
       "    function now() {\n",
       "      return new Date();\n",
       "    }\n",
       "  \n",
       "    var force = \"\";\n",
       "  \n",
       "    if (typeof (window._bokeh_onload_callbacks) === \"undefined\" || force !== \"\") {\n",
       "      window._bokeh_onload_callbacks = [];\n",
       "      window._bokeh_is_loading = undefined;\n",
       "    }\n",
       "  \n",
       "  \n",
       "    \n",
       "    if (typeof (window._bokeh_timeout) === \"undefined\" || force !== \"\") {\n",
       "      window._bokeh_timeout = Date.now() + 0;\n",
       "      window._bokeh_failed_load = false;\n",
       "    }\n",
       "  \n",
       "    var NB_LOAD_WARNING = {'data': {'text/html':\n",
       "       \"<div style='background-color: #fdd'>\\n\"+\n",
       "       \"<p>\\n\"+\n",
       "       \"BokehJS does not appear to have successfully loaded. If loading BokehJS from CDN, this \\n\"+\n",
       "       \"may be due to a slow or bad network connection. Possible fixes:\\n\"+\n",
       "       \"</p>\\n\"+\n",
       "       \"<ul>\\n\"+\n",
       "       \"<li>re-rerun `output_notebook()` to attempt to load from CDN again, or</li>\\n\"+\n",
       "       \"<li>use INLINE resources instead, as so:</li>\\n\"+\n",
       "       \"</ul>\\n\"+\n",
       "       \"<code>\\n\"+\n",
       "       \"from bokeh.resources import INLINE\\n\"+\n",
       "       \"output_notebook(resources=INLINE)\\n\"+\n",
       "       \"</code>\\n\"+\n",
       "       \"</div>\"}};\n",
       "  \n",
       "    function display_loaded() {\n",
       "      if (window.Bokeh !== undefined) {\n",
       "        Bokeh.$(\"#fb285aea-24b8-46a5-99ad-f24b39b4bd53\").text(\"BokehJS successfully loaded.\");\n",
       "      } else if (Date.now() < window._bokeh_timeout) {\n",
       "        setTimeout(display_loaded, 100)\n",
       "      }\n",
       "    }\n",
       "  \n",
       "    function run_callbacks() {\n",
       "      window._bokeh_onload_callbacks.forEach(function(callback) { callback() });\n",
       "      delete window._bokeh_onload_callbacks\n",
       "      console.info(\"Bokeh: all callbacks have finished\");\n",
       "    }\n",
       "  \n",
       "    function load_libs(js_urls, callback) {\n",
       "      window._bokeh_onload_callbacks.push(callback);\n",
       "      if (window._bokeh_is_loading > 0) {\n",
       "        console.log(\"Bokeh: BokehJS is being loaded, scheduling callback at\", now());\n",
       "        return null;\n",
       "      }\n",
       "      if (js_urls == null || js_urls.length === 0) {\n",
       "        run_callbacks();\n",
       "        return null;\n",
       "      }\n",
       "      console.log(\"Bokeh: BokehJS not loaded, scheduling load and callback at\", now());\n",
       "      window._bokeh_is_loading = js_urls.length;\n",
       "      for (var i = 0; i < js_urls.length; i++) {\n",
       "        var url = js_urls[i];\n",
       "        var s = document.createElement('script');\n",
       "        s.src = url;\n",
       "        s.async = false;\n",
       "        s.onreadystatechange = s.onload = function() {\n",
       "          window._bokeh_is_loading--;\n",
       "          if (window._bokeh_is_loading === 0) {\n",
       "            console.log(\"Bokeh: all BokehJS libraries loaded\");\n",
       "            run_callbacks()\n",
       "          }\n",
       "        };\n",
       "        s.onerror = function() {\n",
       "          console.warn(\"failed to load library \" + url);\n",
       "        };\n",
       "        console.log(\"Bokeh: injecting script tag for BokehJS library: \", url);\n",
       "        document.getElementsByTagName(\"head\")[0].appendChild(s);\n",
       "      }\n",
       "    };var element = document.getElementById(\"fb285aea-24b8-46a5-99ad-f24b39b4bd53\");\n",
       "    if (element == null) {\n",
       "      console.log(\"Bokeh: ERROR: autoload.js configured with elementid 'fb285aea-24b8-46a5-99ad-f24b39b4bd53' but no matching script tag was found. \")\n",
       "      return false;\n",
       "    }\n",
       "  \n",
       "    var js_urls = [];\n",
       "  \n",
       "    var inline_js = [\n",
       "      function(Bokeh) {\n",
       "        Bokeh.$(function() {\n",
       "            var docs_json = {\"84535bc3-96b8-42ad-b882-69d311d433e8\":{\"roots\":{\"references\":[{\"attributes\":{\"days\":[1,8,15,22]},\"id\":\"c9ad7e0f-8c90-456f-9260-17a7f3891f36\",\"type\":\"DaysTicker\"},{\"attributes\":{\"plot\":{\"id\":\"713277be-061b-4fe2-8e92-730894f4913c\",\"subtype\":\"Figure\",\"type\":\"Plot\"},\"ticker\":{\"id\":\"22664db4-9762-46a4-bebb-3f9363d5fac0\",\"type\":\"DatetimeTicker\"}},\"id\":\"eb90f0a7-2701-4b9d-9c1e-b2f6aa31d45e\",\"type\":\"Grid\"},{\"attributes\":{\"use_scientific\":false},\"id\":\"78c849e2-a02e-4a9d-a974-3bc5afed28cf\",\"type\":\"BasicTickFormatter\"},{\"attributes\":{\"line_alpha\":{\"value\":0.1},\"line_color\":{\"value\":\"#1f77b4\"},\"line_width\":{\"value\":2},\"x\":{\"field\":\"x\"},\"y\":{\"field\":\"y\"}},\"id\":\"a3d1f31a-568b-434f-b749-ea4c704f1886\",\"type\":\"Line\"},{\"attributes\":{\"callback\":null},\"id\":\"e9511f29-cfdf-4e16-86a8-5427156de1ec\",\"type\":\"DataRange1d\"},{\"attributes\":{},\"id\":\"951ff518-3d8b-47d9-8540-35524bb6e635\",\"type\":\"YearsTicker\"},{\"attributes\":{\"line_color\":{\"value\":\"#1f77b4\"},\"line_width\":{\"value\":2},\"x\":{\"field\":\"x\"},\"y\":{\"field\":\"y\"}},\"id\":\"82422511-8b32-4c47-8ca1-1d8baa3a67ba\",\"type\":\"Line\"},{\"attributes\":{\"max_interval\":500.0,\"num_minor_ticks\":0},\"id\":\"589d741a-2700-4209-863d-c0cf8f60a7ce\",\"type\":\"AdaptiveTicker\"},{\"attributes\":{\"num_minor_ticks\":5},\"id\":\"22664db4-9762-46a4-bebb-3f9363d5fac0\",\"type\":\"DatetimeTicker\"},{\"attributes\":{},\"id\":\"74012232-e8eb-41cc-bc69-263baf9b79f9\",\"type\":\"BasicTicker\"},{\"attributes\":{\"callback\":null,\"column_names\":[\"y\",\"x\",\"date\",\"desc\"],\"data\":{\"date\":[\"2015-01-01\",\"2015-01-03\",\"2015-01-04\",\"2015-01-05\",\"2015-01-12\",\"2015-01-13\",\"2015-01-14\",\"2015-01-15\",\"2015-01-16\",\"2015-01-17\",\"2015-01-21\",\"2015-01-23\",\"2015-01-24\",\"2015-01-25\",\"2015-01-26\",\"2015-01-31\",\"2015-02-03\",\"2015-02-14\",\"2015-02-19\",\"2015-02-27\",\"2015-03-05\",\"2015-03-18\",\"2015-03-21\",\"2015-03-23\",\"2015-03-28\",\"2015-04-01\",\"2015-04-02\",\"2015-04-03\",\"2015-04-14\",\"2015-04-15\",\"2015-04-16\",\"2015-04-17\",\"2015-04-20\",\"2015-05-01\",\"2015-05-03\",\"2015-05-04\",\"2015-05-09\",\"2015-05-20\",\"2015-06-02\",\"2015-06-15\",\"2015-06-16\",\"2015-06-19\",\"2015-07-10\",\"2015-07-18\",\"2015-07-28\",\"2015-07-30\",\"2015-08-17\",\"2015-08-18\",\"2015-08-19\",\"2015-08-27\",\"2015-08-28\",\"2015-08-29\",\"2015-09-05\",\"2015-09-15\",\"2015-09-17\",\"2015-09-18\",\"2015-09-21\",\"2015-09-23\",\"2015-09-24\",\"2015-09-25\",\"2015-10-02\",\"2015-10-12\",\"2015-10-13\",\"2015-10-20\",\"2015-10-21\",\"2015-10-22\",\"2015-10-23\",\"2015-10-24\",\"2015-10-25\",\"2015-10-26\",\"2015-10-27\",\"2015-10-31\",\"2015-11-01\",\"2015-11-10\",\"2015-11-11\",\"2015-11-12\",\"2015-11-16\",\"2015-11-17\",\"2015-11-25\",\"2015-11-28\",\"2015-12-06\",\"2015-12-17\",\"2015-12-24\"],\"desc\":[\"New Years Day\",\"Milad-un-Nabi\",\"Id-e-Milad\",\"Guru Gobind Singh Jayanti\",\"Birthday of Swami Vivekananda\",\"Bhogi\",\"Pongal\",\"Pongal\",\"Thiruvalluvar Day\",\"Uzhavar Tirunal\",\"Sonam Lhochar\",\"Netaji Subhas Chandra Bose Jayanti\",\"Vasant Panchami\",\"Statehood Day\",\"Republic Day\",\"Me-dam-me-phi\",\"Guru Ravidas Birthday\",\"Maharshi Dayanand Saraswati Jayanti\",\"Chhatrapati Shivaji Maharaj Jayanti\",\"Public Holiday\",\"Doljatra\",\"Public Holiday\",\"Ugadi\",\"Shaheedi Diwas of Bhagat Singh, Rajguru & Sukhdev\",\"Ram Navami\",\"Odisha Day\",\"Mahavir Jayanti\",\"Good Friday\",\"Dr Ambedkar Jayanti\",\"Bohag Bihu Holiday\",\"Bohag Bihu Holiday\",\"Public Holiday\",\"Parashurama Jayanti\",\"May Day\",\"Hazrat Alis Birthday\",\"Buddha Purnima\",\"Birthday of Rabindra Nath Tagore\",\"Maharana Pratap Jayanti\",\"Sant Guru Kabir Jayanti\",\"Raja Sankranti\",\"Guru Arjun Dev Martyrdom day\",\"Foundation of Sri Anandpur Sahib\",\"Jumat-ul-Wida\",\"Idul Fitr\",\"Public Holiday\",\"Public Holiday\",\"Teej\",\"Parsi New Year\",\"Public Holiday\",\"First Onam\",\"Thiruvonam\",\"Raksha Bandhan\",\"Janmashtami\",\"Tithi of Shrimanta Shankar Dev\",\"Ganesh Chaturthi\",\"Nuakhai\",\"Sree Narayana Guru Samadhi\",\"Haryana's Heroes' Martyrdom Day\",\"Idul Juha\",\"Idul Juha\",\"Mahatma Gandhi Birthday\",\"Mahalaya\",\"Maharaja Agrasen Jayanati\",\"Public Holiday\",\"Ayudha Puja\",\"Dussehra\",\"Vijaya Dashami\",\"Muharram (10th Day)\",\"Public Holiday\",\"Lakshmi Puja\",\"Maharishi Valmiki Birthday\",\"Public Holiday\",\"Kannada Rajyothsava\",\"Deewali\",\"Deewali\",\"Vishavkarma day\",\"Kartar Singh Sarabha Martyrdom Day\",\"Chhath Puja\",\"Rasa Purnima\",\"Kanakadasa Jayanthi\",\"Dr Ambedkar death anniversary\",\"Public Holiday\",\"Id-e-Milad\"],\"x\":[1420070400000.0,1420243200000.0,1420329600000.0,1420416000000.0,1421020800000.0,1421107200000.0,1421193600000.0,1421280000000.0,1421366400000.0,1421452800000.0,1421798400000.0,1421971200000.0,1422057600000.0,1422144000000.0,1422230400000.0,1422662400000.0,1422921600000.0,1423872000000.0,1424304000000.0,1424995200000.0,1425513600000.0,1426636800000.0,1426896000000.0,1427068800000.0,1427500800000.0,1427846400000.0,1427932800000.0,1428019200000.0,1428969600000.0,1429056000000.0,1429142400000.0,1429228800000.0,1429488000000.0,1430438400000.0,1430611200000.0,1430697600000.0,1431129600000.0,1432080000000.0,1433203200000.0,1434326400000.0,1434412800000.0,1434672000000.0,1436486400000.0,1437177600000.0,1438041600000.0,1438214400000.0,1439769600000.0,1439856000000.0,1439942400000.0,1440633600000.0,1440720000000.0,1440806400000.0,1441411200000.0,1442275200000.0,1442448000000.0,1442534400000.0,1442793600000.0,1442966400000.0,1443052800000.0,1443139200000.0,1443744000000.0,1444608000000.0,1444694400000.0,1445299200000.0,1445385600000.0,1445472000000.0,1445558400000.0,1445644800000.0,1445731200000.0,1445817600000.0,1445904000000.0,1446249600000.0,1446336000000.0,1447113600000.0,1447200000000.0,1447286400000.0,1447632000000.0,1447718400000.0,1448409600000.0,1448668800000.0,1449360000000.0,1450310400000.0,1450915200000.0],\"y\":[76050.0,36900.0,52000.0,92374.5,326350.0,128440.0,242350.0,188285.0,271557.0,156201.0,184311.0,103600.0,55800.0,39000.0,0.0,236066.0,270455.0,61425.0,189607.0,197706.0,169875.0,112902.5,40950.0,277275.0,65655.0,182486.0,211729.0,38000.0,155350.0,21000.0,164981.0,126536.0,151950.0,204525.0,35400.0,242600.0,103450.0,144460.0,63725.0,261802.0,186361.0,67905.0,195196.0,43200.0,467041.0,95025.0,347835.0,294650.0,228785.0,182060.0,24747.0,119363.0,137060.0,328973.98,205739.25,361920.0,211573.0,263945.0,156730.0,119864.0,38000.0,307290.0,80640.0,215177.5,109311.0,101080.0,296212.5,122528.0,63950.0,163990.0,197816.0,214056.0,22425.0,52300.0,148682.0,174916.0,465908.0,147800.0,150335.0,56125.0,80460.0,95250.0,234549.5]}},\"id\":\"05720b67-58a7-4b98-9701-6c1caab7182a\",\"type\":\"ColumnDataSource\"},{\"attributes\":{\"days\":[1,15]},\"id\":\"b906e844-ffee-4127-9c31-405190039402\",\"type\":\"DaysTicker\"},{\"attributes\":{\"dimension\":1,\"plot\":{\"id\":\"713277be-061b-4fe2-8e92-730894f4913c\",\"subtype\":\"Figure\",\"type\":\"Plot\"},\"ticker\":{\"id\":\"74012232-e8eb-41cc-bc69-263baf9b79f9\",\"type\":\"BasicTicker\"}},\"id\":\"a4346a7f-31ea-4264-bd42-2d8d73a1a30e\",\"type\":\"Grid\"},{\"attributes\":{\"below\":[{\"id\":\"40d9309a-1451-46e0-a335-266682897cc5\",\"type\":\"DatetimeAxis\"}],\"left\":[{\"id\":\"842a6bd9-96c1-449f-acbe-da6b4a3963ba\",\"type\":\"LinearAxis\"}],\"plot_height\":500,\"plot_width\":800,\"renderers\":[{\"id\":\"40d9309a-1451-46e0-a335-266682897cc5\",\"type\":\"DatetimeAxis\"},{\"id\":\"eb90f0a7-2701-4b9d-9c1e-b2f6aa31d45e\",\"type\":\"Grid\"},{\"id\":\"842a6bd9-96c1-449f-acbe-da6b4a3963ba\",\"type\":\"LinearAxis\"},{\"id\":\"a4346a7f-31ea-4264-bd42-2d8d73a1a30e\",\"type\":\"Grid\"},{\"id\":\"e2f341e0-b45e-4ccb-afbf-53562f9df5ee\",\"type\":\"GlyphRenderer\"}],\"title\":{\"id\":\"eb3c8a30-18be-42a0-a6c9-e827161f85a7\",\"type\":\"Title\"},\"tool_events\":{\"id\":\"a4dbd08f-d505-4716-b79b-80566c8ed3be\",\"type\":\"ToolEvents\"},\"toolbar\":{\"id\":\"6de9be04-9943-41cb-bd25-d652b82f0cc9\",\"type\":\"Toolbar\"},\"x_range\":{\"id\":\"e9511f29-cfdf-4e16-86a8-5427156de1ec\",\"type\":\"DataRange1d\"},\"y_range\":{\"id\":\"3c436c8b-d2c5-4837-8950-a804ea9e36ba\",\"type\":\"DataRange1d\"}},\"id\":\"713277be-061b-4fe2-8e92-730894f4913c\",\"subtype\":\"Figure\",\"type\":\"Plot\"},{\"attributes\":{\"callback\":null},\"id\":\"3c436c8b-d2c5-4837-8950-a804ea9e36ba\",\"type\":\"DataRange1d\"},{\"attributes\":{\"active_drag\":\"auto\",\"active_scroll\":\"auto\",\"active_tap\":\"auto\",\"tools\":[{\"id\":\"e50aaff4-9cfe-44f2-8af6-d163d77d70d8\",\"type\":\"HoverTool\"}]},\"id\":\"6de9be04-9943-41cb-bd25-d652b82f0cc9\",\"type\":\"Toolbar\"},{\"attributes\":{\"plot\":null,\"text\":\"Graph of BookingDate vs TotalRevenue for BB (hover to view events)\"},\"id\":\"eb3c8a30-18be-42a0-a6c9-e827161f85a7\",\"type\":\"Title\"},{\"attributes\":{\"months\":[0,6]},\"id\":\"e4ead141-7904-4419-9c22-347752ef92a4\",\"type\":\"MonthsTicker\"},{\"attributes\":{\"data_source\":{\"id\":\"05720b67-58a7-4b98-9701-6c1caab7182a\",\"type\":\"ColumnDataSource\"},\"glyph\":{\"id\":\"82422511-8b32-4c47-8ca1-1d8baa3a67ba\",\"type\":\"Line\"},\"hover_glyph\":null,\"nonselection_glyph\":{\"id\":\"a3d1f31a-568b-434f-b749-ea4c704f1886\",\"type\":\"Line\"},\"selection_glyph\":null},\"id\":\"e2f341e0-b45e-4ccb-afbf-53562f9df5ee\",\"type\":\"GlyphRenderer\"},{\"attributes\":{\"months\":[0,4,8]},\"id\":\"df410b01-f599-4c19-9b39-a84c157a0aba\",\"type\":\"MonthsTicker\"},{\"attributes\":{},\"id\":\"62d8bf35-1688-4cf3-9d6c-710316f5b725\",\"type\":\"DatetimeTickFormatter\"},{\"attributes\":{\"days\":[1,2,3,4,5,6,7,8,9,10,11,12,13,14,15,16,17,18,19,20,21,22,23,24,25,26,27,28,29,30,31]},\"id\":\"f1c22dec-8053-4b7d-a261-7c827c80259c\",\"type\":\"DaysTicker\"},{\"attributes\":{\"months\":[0,1,2,3,4,5,6,7,8,9,10,11]},\"id\":\"6cbbd404-281e-48ad-ad63-8c069a0efcd2\",\"type\":\"MonthsTicker\"},{\"attributes\":{},\"id\":\"a4dbd08f-d505-4716-b79b-80566c8ed3be\",\"type\":\"ToolEvents\"},{\"attributes\":{\"axis_label\":\"Total Revenue\",\"formatter\":{\"id\":\"78c849e2-a02e-4a9d-a974-3bc5afed28cf\",\"type\":\"BasicTickFormatter\"},\"plot\":{\"id\":\"713277be-061b-4fe2-8e92-730894f4913c\",\"subtype\":\"Figure\",\"type\":\"Plot\"},\"ticker\":{\"id\":\"74012232-e8eb-41cc-bc69-263baf9b79f9\",\"type\":\"BasicTicker\"}},\"id\":\"842a6bd9-96c1-449f-acbe-da6b4a3963ba\",\"type\":\"LinearAxis\"},{\"attributes\":{\"base\":24,\"mantissas\":[1,2,4,6,8,12],\"max_interval\":43200000.0,\"min_interval\":3600000.0,\"num_minor_ticks\":0},\"id\":\"a7c3f0e1-251d-409d-9853-f754af433a27\",\"type\":\"AdaptiveTicker\"},{\"attributes\":{\"axis_label\":\"Booking Date\",\"formatter\":{\"id\":\"62d8bf35-1688-4cf3-9d6c-710316f5b725\",\"type\":\"DatetimeTickFormatter\"},\"plot\":{\"id\":\"713277be-061b-4fe2-8e92-730894f4913c\",\"subtype\":\"Figure\",\"type\":\"Plot\"},\"ticker\":{\"id\":\"22664db4-9762-46a4-bebb-3f9363d5fac0\",\"type\":\"DatetimeTicker\"}},\"id\":\"40d9309a-1451-46e0-a335-266682897cc5\",\"type\":\"DatetimeAxis\"},{\"attributes\":{\"days\":[1,4,7,10,13,16,19,22,25,28]},\"id\":\"208aee68-e214-4e9f-8dcd-73c8eb73a261\",\"type\":\"DaysTicker\"},{\"attributes\":{\"base\":60,\"mantissas\":[1,2,5,10,15,20,30],\"max_interval\":1800000.0,\"min_interval\":1000.0,\"num_minor_ticks\":0},\"id\":\"d28f4b0f-fd3d-49d3-92bd-d113ee5860f4\",\"type\":\"AdaptiveTicker\"},{\"attributes\":{\"callback\":null,\"plot\":{\"id\":\"713277be-061b-4fe2-8e92-730894f4913c\",\"subtype\":\"Figure\",\"type\":\"Plot\"},\"tooltips\":[[\"Date\",\"@date\"],[\"Event\",\"@desc\"],[\"Total Revenue\",\"@y{1.11}\"]]},\"id\":\"e50aaff4-9cfe-44f2-8af6-d163d77d70d8\",\"type\":\"HoverTool\"},{\"attributes\":{\"months\":[0,2,4,6,8,10]},\"id\":\"8a0fb43e-d283-4866-8e33-cc5abaed8dc8\",\"type\":\"MonthsTicker\"}],\"root_ids\":[\"713277be-061b-4fe2-8e92-730894f4913c\"]},\"title\":\"Bokeh Application\",\"version\":\"0.12.2\"}};\n",
       "            var render_items = [{\"docid\":\"84535bc3-96b8-42ad-b882-69d311d433e8\",\"elementid\":\"fb285aea-24b8-46a5-99ad-f24b39b4bd53\",\"modelid\":\"713277be-061b-4fe2-8e92-730894f4913c\"}];\n",
       "            \n",
       "            Bokeh.embed.embed_items(docs_json, render_items);\n",
       "        });\n",
       "      },\n",
       "      function(Bokeh) {\n",
       "      }\n",
       "    ];\n",
       "  \n",
       "    function run_inline_js() {\n",
       "      \n",
       "      if ((window.Bokeh !== undefined) || (force === \"1\")) {\n",
       "        for (var i = 0; i < inline_js.length; i++) {\n",
       "          inline_js[i](window.Bokeh);\n",
       "        }if (force === \"1\") {\n",
       "          display_loaded();\n",
       "        }} else if (Date.now() < window._bokeh_timeout) {\n",
       "        setTimeout(run_inline_js, 100);\n",
       "      } else if (!window._bokeh_failed_load) {\n",
       "        console.log(\"Bokeh: BokehJS failed to load within specified timeout.\");\n",
       "        window._bokeh_failed_load = true;\n",
       "      } else if (!force) {\n",
       "        var cell = $(\"#fb285aea-24b8-46a5-99ad-f24b39b4bd53\").parents('.cell').data().cell;\n",
       "        cell.output_area.append_execute_result(NB_LOAD_WARNING)\n",
       "      }\n",
       "  \n",
       "    }\n",
       "  \n",
       "    if (window._bokeh_is_loading === 0) {\n",
       "      console.log(\"Bokeh: BokehJS loaded, going straight to plotting\");\n",
       "      run_inline_js();\n",
       "    } else {\n",
       "      load_libs(js_urls, function() {\n",
       "        console.log(\"Bokeh: BokehJS plotting callback run at\", now());\n",
       "        run_inline_js();\n",
       "      });\n",
       "    }\n",
       "  }(this));\n",
       "</script>"
      ]
     },
     "metadata": {},
     "output_type": "display_data"
    }
   ],
   "source": [
    "source = ColumnDataSource(\n",
    "        data=dict(\n",
    "            x=property_id_BB1[1],\n",
    "            y=property_id_BB1[4],\n",
    "            desc=property_id_BB1[3],\n",
    "            date=[x.strftime(\"%Y-%m-%d\") for x in property_id_BB['Booking_date']]\n",
    "        )\n",
    "    )\n",
    "\n",
    "hover = HoverTool(\n",
    "        tooltips=[\n",
    "            (\"Date\",\"@date\"),\n",
    "            (\"Event\", \"@desc\"),\n",
    "            (\"Total Revenue\",\"@y{1.11}\")\n",
    "        ]\n",
    "    )\n",
    "\n",
    "p = plt.figure(x_axis_type=\"datetime\",width=800, height=500, tools=[hover],\n",
    "           title=\"Graph of BookingDate vs TotalRevenue for BB (hover to view events)\",x_axis_label = \"Booking Date\",\n",
    "               y_axis_label = \"Total Revenue\")\n",
    "p.left[0].formatter.use_scientific = False\n",
    "p.line('x', 'y', line_width=2, source=source)   \n",
    "show(p)"
   ]
  },
  {
   "cell_type": "code",
   "execution_count": 27,
   "metadata": {
    "collapsed": false
   },
   "outputs": [
    {
     "data": {
      "text/html": [
       "\n",
       "\n",
       "    <div class=\"bk-root\">\n",
       "        <div class=\"plotdiv\" id=\"336fd2c5-35b8-4acc-87f5-295cca82674f\"></div>\n",
       "    </div>\n",
       "<script type=\"text/javascript\">\n",
       "  \n",
       "  (function(global) {\n",
       "    function now() {\n",
       "      return new Date();\n",
       "    }\n",
       "  \n",
       "    var force = \"\";\n",
       "  \n",
       "    if (typeof (window._bokeh_onload_callbacks) === \"undefined\" || force !== \"\") {\n",
       "      window._bokeh_onload_callbacks = [];\n",
       "      window._bokeh_is_loading = undefined;\n",
       "    }\n",
       "  \n",
       "  \n",
       "    \n",
       "    if (typeof (window._bokeh_timeout) === \"undefined\" || force !== \"\") {\n",
       "      window._bokeh_timeout = Date.now() + 0;\n",
       "      window._bokeh_failed_load = false;\n",
       "    }\n",
       "  \n",
       "    var NB_LOAD_WARNING = {'data': {'text/html':\n",
       "       \"<div style='background-color: #fdd'>\\n\"+\n",
       "       \"<p>\\n\"+\n",
       "       \"BokehJS does not appear to have successfully loaded. If loading BokehJS from CDN, this \\n\"+\n",
       "       \"may be due to a slow or bad network connection. Possible fixes:\\n\"+\n",
       "       \"</p>\\n\"+\n",
       "       \"<ul>\\n\"+\n",
       "       \"<li>re-rerun `output_notebook()` to attempt to load from CDN again, or</li>\\n\"+\n",
       "       \"<li>use INLINE resources instead, as so:</li>\\n\"+\n",
       "       \"</ul>\\n\"+\n",
       "       \"<code>\\n\"+\n",
       "       \"from bokeh.resources import INLINE\\n\"+\n",
       "       \"output_notebook(resources=INLINE)\\n\"+\n",
       "       \"</code>\\n\"+\n",
       "       \"</div>\"}};\n",
       "  \n",
       "    function display_loaded() {\n",
       "      if (window.Bokeh !== undefined) {\n",
       "        Bokeh.$(\"#336fd2c5-35b8-4acc-87f5-295cca82674f\").text(\"BokehJS successfully loaded.\");\n",
       "      } else if (Date.now() < window._bokeh_timeout) {\n",
       "        setTimeout(display_loaded, 100)\n",
       "      }\n",
       "    }\n",
       "  \n",
       "    function run_callbacks() {\n",
       "      window._bokeh_onload_callbacks.forEach(function(callback) { callback() });\n",
       "      delete window._bokeh_onload_callbacks\n",
       "      console.info(\"Bokeh: all callbacks have finished\");\n",
       "    }\n",
       "  \n",
       "    function load_libs(js_urls, callback) {\n",
       "      window._bokeh_onload_callbacks.push(callback);\n",
       "      if (window._bokeh_is_loading > 0) {\n",
       "        console.log(\"Bokeh: BokehJS is being loaded, scheduling callback at\", now());\n",
       "        return null;\n",
       "      }\n",
       "      if (js_urls == null || js_urls.length === 0) {\n",
       "        run_callbacks();\n",
       "        return null;\n",
       "      }\n",
       "      console.log(\"Bokeh: BokehJS not loaded, scheduling load and callback at\", now());\n",
       "      window._bokeh_is_loading = js_urls.length;\n",
       "      for (var i = 0; i < js_urls.length; i++) {\n",
       "        var url = js_urls[i];\n",
       "        var s = document.createElement('script');\n",
       "        s.src = url;\n",
       "        s.async = false;\n",
       "        s.onreadystatechange = s.onload = function() {\n",
       "          window._bokeh_is_loading--;\n",
       "          if (window._bokeh_is_loading === 0) {\n",
       "            console.log(\"Bokeh: all BokehJS libraries loaded\");\n",
       "            run_callbacks()\n",
       "          }\n",
       "        };\n",
       "        s.onerror = function() {\n",
       "          console.warn(\"failed to load library \" + url);\n",
       "        };\n",
       "        console.log(\"Bokeh: injecting script tag for BokehJS library: \", url);\n",
       "        document.getElementsByTagName(\"head\")[0].appendChild(s);\n",
       "      }\n",
       "    };var element = document.getElementById(\"336fd2c5-35b8-4acc-87f5-295cca82674f\");\n",
       "    if (element == null) {\n",
       "      console.log(\"Bokeh: ERROR: autoload.js configured with elementid '336fd2c5-35b8-4acc-87f5-295cca82674f' but no matching script tag was found. \")\n",
       "      return false;\n",
       "    }\n",
       "  \n",
       "    var js_urls = [];\n",
       "  \n",
       "    var inline_js = [\n",
       "      function(Bokeh) {\n",
       "        Bokeh.$(function() {\n",
       "            var docs_json = {\"40f3e92c-9f30-46cc-a579-9247bc657d08\":{\"roots\":{\"references\":[{\"attributes\":{\"days\":[1,15]},\"id\":\"ab80b69a-ca11-4bed-a404-b13ea034a6a4\",\"type\":\"DaysTicker\"},{\"attributes\":{\"callback\":null,\"column_names\":[\"y\",\"x\",\"date\",\"desc\"],\"data\":{\"date\":[\"2015-01-01\",\"2015-01-03\",\"2015-01-04\",\"2015-01-05\",\"2015-01-12\",\"2015-01-13\",\"2015-01-14\",\"2015-01-15\",\"2015-01-16\",\"2015-01-17\",\"2015-01-21\",\"2015-01-23\",\"2015-01-24\",\"2015-01-25\",\"2015-01-26\",\"2015-01-31\",\"2015-02-03\",\"2015-02-14\",\"2015-02-19\",\"2015-02-27\",\"2015-03-05\",\"2015-03-18\",\"2015-03-21\",\"2015-03-23\",\"2015-03-28\",\"2015-04-01\",\"2015-04-02\",\"2015-04-03\",\"2015-04-14\",\"2015-04-15\",\"2015-04-16\",\"2015-04-17\",\"2015-04-20\",\"2015-05-01\",\"2015-05-03\",\"2015-05-04\",\"2015-05-09\",\"2015-05-20\",\"2015-06-02\",\"2015-06-15\",\"2015-06-16\",\"2015-06-19\",\"2015-07-10\",\"2015-07-18\",\"2015-07-28\",\"2015-07-30\",\"2015-08-17\",\"2015-08-18\",\"2015-08-19\",\"2015-08-27\",\"2015-08-28\",\"2015-08-29\",\"2015-09-05\",\"2015-09-15\",\"2015-09-17\",\"2015-09-18\",\"2015-09-21\",\"2015-09-23\",\"2015-09-24\",\"2015-09-25\",\"2015-10-02\",\"2015-10-12\",\"2015-10-13\",\"2015-10-20\",\"2015-10-21\",\"2015-10-22\",\"2015-10-23\",\"2015-10-24\",\"2015-10-25\",\"2015-10-26\",\"2015-10-27\",\"2015-10-31\",\"2015-11-01\",\"2015-11-10\",\"2015-11-11\",\"2015-11-12\",\"2015-11-16\",\"2015-11-17\",\"2015-11-25\",\"2015-11-28\",\"2015-12-06\",\"2015-12-17\",\"2015-12-24\"],\"desc\":[\"New Years Day\",\"Milad-un-Nabi\",\"Id-e-Milad\",\"Guru Gobind Singh Jayanti\",\"Birthday of Swami Vivekananda\",\"Bhogi\",\"Pongal\",\"Pongal\",\"Thiruvalluvar Day\",\"Uzhavar Tirunal\",\"Sonam Lhochar\",\"Netaji Subhas Chandra Bose Jayanti\",\"Vasant Panchami\",\"Statehood Day\",\"Republic Day\",\"Me-dam-me-phi\",\"Guru Ravidas Birthday\",\"Maharshi Dayanand Saraswati Jayanti\",\"Chhatrapati Shivaji Maharaj Jayanti\",\"Public Holiday\",\"Doljatra\",\"Public Holiday\",\"Ugadi\",\"Shaheedi Diwas of Bhagat Singh, Rajguru & Sukhdev\",\"Ram Navami\",\"Odisha Day\",\"Mahavir Jayanti\",\"Good Friday\",\"Dr Ambedkar Jayanti\",\"Bohag Bihu Holiday\",\"Bohag Bihu Holiday\",\"Public Holiday\",\"Parashurama Jayanti\",\"May Day\",\"Hazrat Alis Birthday\",\"Buddha Purnima\",\"Birthday of Rabindra Nath Tagore\",\"Maharana Pratap Jayanti\",\"Sant Guru Kabir Jayanti\",\"Raja Sankranti\",\"Guru Arjun Dev Martyrdom day\",\"Foundation of Sri Anandpur Sahib\",\"Jumat-ul-Wida\",\"Idul Fitr\",\"Public Holiday\",\"Public Holiday\",\"Teej\",\"Parsi New Year\",\"Public Holiday\",\"First Onam\",\"Thiruvonam\",\"Raksha Bandhan\",\"Janmashtami\",\"Tithi of Shrimanta Shankar Dev\",\"Ganesh Chaturthi\",\"Nuakhai\",\"Sree Narayana Guru Samadhi\",\"Haryana's Heroes' Martyrdom Day\",\"Idul Juha\",\"Idul Juha\",\"Mahatma Gandhi Birthday\",\"Mahalaya\",\"Maharaja Agrasen Jayanati\",\"Public Holiday\",\"Ayudha Puja\",\"Dussehra\",\"Vijaya Dashami\",\"Muharram (10th Day)\",\"Public Holiday\",\"Lakshmi Puja\",\"Maharishi Valmiki Birthday\",\"Public Holiday\",\"Kannada Rajyothsava\",\"Deewali\",\"Deewali\",\"Vishavkarma day\",\"Kartar Singh Sarabha Martyrdom Day\",\"Chhath Puja\",\"Rasa Purnima\",\"Kanakadasa Jayanthi\",\"Dr Ambedkar death anniversary\",\"Public Holiday\",\"Id-e-Milad\"],\"x\":[1420070400000.0,1420243200000.0,1420329600000.0,1420416000000.0,1421020800000.0,1421107200000.0,1421193600000.0,1421280000000.0,1421366400000.0,1421452800000.0,1421798400000.0,1421971200000.0,1422057600000.0,1422144000000.0,1422230400000.0,1422662400000.0,1422921600000.0,1423872000000.0,1424304000000.0,1424995200000.0,1425513600000.0,1426636800000.0,1426896000000.0,1427068800000.0,1427500800000.0,1427846400000.0,1427932800000.0,1428019200000.0,1428969600000.0,1429056000000.0,1429142400000.0,1429228800000.0,1429488000000.0,1430438400000.0,1430611200000.0,1430697600000.0,1431129600000.0,1432080000000.0,1433203200000.0,1434326400000.0,1434412800000.0,1434672000000.0,1436486400000.0,1437177600000.0,1438041600000.0,1438214400000.0,1439769600000.0,1439856000000.0,1439942400000.0,1440633600000.0,1440720000000.0,1440806400000.0,1441411200000.0,1442275200000.0,1442448000000.0,1442534400000.0,1442793600000.0,1442966400000.0,1443052800000.0,1443139200000.0,1443744000000.0,1444608000000.0,1444694400000.0,1445299200000.0,1445385600000.0,1445472000000.0,1445558400000.0,1445644800000.0,1445731200000.0,1445817600000.0,1445904000000.0,1446249600000.0,1446336000000.0,1447113600000.0,1447200000000.0,1447286400000.0,1447632000000.0,1447718400000.0,1448409600000.0,1448668800000.0,1449360000000.0,1450310400000.0,1450915200000.0],\"y\":[25350.0,36900.0,52000.0,46187.25,36261.11111111111,25688.0,34621.42857142857,31380.83333333333,33944.625,52067.0,30718.5,34533.33333333334,18600.0,39000.0,0.0,39344.33333333334,27045.5,30712.5,47401.75,28243.71428571429,33975.0,22580.5,20475.0,39610.71428571428,21885.0,26069.42857142857,35288.16666666666,19000.0,38837.5,10500.0,32996.2,25307.2,50650.0,25565.625,17700.0,26955.55555555555,20690.0,24076.66666666667,15931.25,29089.11111111111,31060.16666666667,16976.25,21688.44444444445,21600.0,24581.10526315789,23756.25,31621.36363636364,24554.16666666667,25420.55555555555,22757.5,8249.0,29840.75,34265.0,32897.398,25717.40625,40213.33333333334,35262.16666666666,37706.42857142857,22390.0,19977.33333333333,12666.66666666667,38411.25,26880.0,30739.64285714286,36437.0,25270.0,42316.07142857143,40842.66666666666,31975.0,32798.0,24727.0,26757.0,22425.0,26150.0,37170.5,29152.66666666667,42355.27272727273,36950.0,30067.0,28062.5,26820.0,47625.0,29318.6875]}},\"id\":\"639465cf-74e3-4673-b2d2-10840c292812\",\"type\":\"ColumnDataSource\"},{\"attributes\":{\"months\":[0,2,4,6,8,10]},\"id\":\"805242b9-2a11-48c8-9d8f-9ecbe676265d\",\"type\":\"MonthsTicker\"},{\"attributes\":{\"line_alpha\":{\"value\":0.1},\"line_color\":{\"value\":\"#1f77b4\"},\"line_width\":{\"value\":2},\"x\":{\"field\":\"x\"},\"y\":{\"field\":\"y\"}},\"id\":\"50c05490-83f5-4e5a-acb4-172d14366af9\",\"type\":\"Line\"},{\"attributes\":{\"data_source\":{\"id\":\"639465cf-74e3-4673-b2d2-10840c292812\",\"type\":\"ColumnDataSource\"},\"glyph\":{\"id\":\"e2904d4e-7753-47bb-b744-517c583b2671\",\"type\":\"Line\"},\"hover_glyph\":null,\"nonselection_glyph\":{\"id\":\"50c05490-83f5-4e5a-acb4-172d14366af9\",\"type\":\"Line\"},\"selection_glyph\":null},\"id\":\"582011f2-fcac-46bb-82ee-ae2f1a310a0f\",\"type\":\"GlyphRenderer\"},{\"attributes\":{\"dimension\":1,\"plot\":{\"id\":\"cbec51b1-fde7-4c77-b0ff-f2fb78f63b52\",\"subtype\":\"Figure\",\"type\":\"Plot\"},\"ticker\":{\"id\":\"29e616a6-eca9-4799-9c81-e215be8432ef\",\"type\":\"BasicTicker\"}},\"id\":\"4b68549e-2947-4f9f-984c-7d13679bcdd2\",\"type\":\"Grid\"},{\"attributes\":{\"days\":[1,2,3,4,5,6,7,8,9,10,11,12,13,14,15,16,17,18,19,20,21,22,23,24,25,26,27,28,29,30,31]},\"id\":\"85d5ed5d-2c8b-4a13-9f91-4bb376aa6da2\",\"type\":\"DaysTicker\"},{\"attributes\":{\"plot\":null,\"text\":\"Graph of Booking Date vs ADR for BB (hover to view events)\"},\"id\":\"c1a6592f-5bf5-49a7-8c54-c3158266befa\",\"type\":\"Title\"},{\"attributes\":{\"months\":[0,6]},\"id\":\"24edba68-eb6b-496d-9a1a-e4d2e76ee77f\",\"type\":\"MonthsTicker\"},{\"attributes\":{\"line_color\":{\"value\":\"#1f77b4\"},\"line_width\":{\"value\":2},\"x\":{\"field\":\"x\"},\"y\":{\"field\":\"y\"}},\"id\":\"e2904d4e-7753-47bb-b744-517c583b2671\",\"type\":\"Line\"},{\"attributes\":{\"days\":[1,4,7,10,13,16,19,22,25,28]},\"id\":\"0eda99a1-b394-43b9-a4cc-cd9cf054b219\",\"type\":\"DaysTicker\"},{\"attributes\":{\"axis_label\":\"Booking Date\",\"formatter\":{\"id\":\"7aa56eba-0d39-45b3-9eca-53b26b4eaba8\",\"type\":\"DatetimeTickFormatter\"},\"plot\":{\"id\":\"cbec51b1-fde7-4c77-b0ff-f2fb78f63b52\",\"subtype\":\"Figure\",\"type\":\"Plot\"},\"ticker\":{\"id\":\"f0ddf50b-62ce-499f-b130-269f7b00e0a9\",\"type\":\"DatetimeTicker\"}},\"id\":\"1e759178-6a6f-45ee-9ea0-27c9a729a453\",\"type\":\"DatetimeAxis\"},{\"attributes\":{\"callback\":null},\"id\":\"7d00713c-a9b0-4d09-af39-8ad88f200c33\",\"type\":\"DataRange1d\"},{\"attributes\":{},\"id\":\"29e616a6-eca9-4799-9c81-e215be8432ef\",\"type\":\"BasicTicker\"},{\"attributes\":{},\"id\":\"c699eb2e-0e9f-4489-b033-44daaf1686bf\",\"type\":\"ToolEvents\"},{\"attributes\":{\"use_scientific\":false},\"id\":\"e62c09c8-563f-48ae-a05d-4a72a0b0feaf\",\"type\":\"BasicTickFormatter\"},{\"attributes\":{\"months\":[0,1,2,3,4,5,6,7,8,9,10,11]},\"id\":\"ab76216f-0f6d-498f-b034-0b48d7dbf9d0\",\"type\":\"MonthsTicker\"},{\"attributes\":{\"months\":[0,4,8]},\"id\":\"e14011a5-b199-4ff2-9e93-2a7cc8b78f0c\",\"type\":\"MonthsTicker\"},{\"attributes\":{\"base\":60,\"mantissas\":[1,2,5,10,15,20,30],\"max_interval\":1800000.0,\"min_interval\":1000.0,\"num_minor_ticks\":0},\"id\":\"b21fff73-530e-4e31-a756-1c0b8de71455\",\"type\":\"AdaptiveTicker\"},{\"attributes\":{\"below\":[{\"id\":\"1e759178-6a6f-45ee-9ea0-27c9a729a453\",\"type\":\"DatetimeAxis\"}],\"left\":[{\"id\":\"2417926c-df1d-4124-bd57-b34363fb1e27\",\"type\":\"LinearAxis\"}],\"plot_height\":500,\"plot_width\":800,\"renderers\":[{\"id\":\"1e759178-6a6f-45ee-9ea0-27c9a729a453\",\"type\":\"DatetimeAxis\"},{\"id\":\"bc2e21ef-0834-4800-ad20-55c6540454aa\",\"type\":\"Grid\"},{\"id\":\"2417926c-df1d-4124-bd57-b34363fb1e27\",\"type\":\"LinearAxis\"},{\"id\":\"4b68549e-2947-4f9f-984c-7d13679bcdd2\",\"type\":\"Grid\"},{\"id\":\"582011f2-fcac-46bb-82ee-ae2f1a310a0f\",\"type\":\"GlyphRenderer\"}],\"title\":{\"id\":\"c1a6592f-5bf5-49a7-8c54-c3158266befa\",\"type\":\"Title\"},\"tool_events\":{\"id\":\"c699eb2e-0e9f-4489-b033-44daaf1686bf\",\"type\":\"ToolEvents\"},\"toolbar\":{\"id\":\"069c4317-d04e-4185-8c2c-18a49354c79b\",\"type\":\"Toolbar\"},\"x_range\":{\"id\":\"7d00713c-a9b0-4d09-af39-8ad88f200c33\",\"type\":\"DataRange1d\"},\"y_range\":{\"id\":\"ed036bda-752a-4f19-9a24-a90d50889af5\",\"type\":\"DataRange1d\"}},\"id\":\"cbec51b1-fde7-4c77-b0ff-f2fb78f63b52\",\"subtype\":\"Figure\",\"type\":\"Plot\"},{\"attributes\":{\"plot\":{\"id\":\"cbec51b1-fde7-4c77-b0ff-f2fb78f63b52\",\"subtype\":\"Figure\",\"type\":\"Plot\"},\"ticker\":{\"id\":\"f0ddf50b-62ce-499f-b130-269f7b00e0a9\",\"type\":\"DatetimeTicker\"}},\"id\":\"bc2e21ef-0834-4800-ad20-55c6540454aa\",\"type\":\"Grid\"},{\"attributes\":{\"active_drag\":\"auto\",\"active_scroll\":\"auto\",\"active_tap\":\"auto\",\"tools\":[{\"id\":\"731d0038-cc73-44a5-99b5-66f92649192b\",\"type\":\"HoverTool\"}]},\"id\":\"069c4317-d04e-4185-8c2c-18a49354c79b\",\"type\":\"Toolbar\"},{\"attributes\":{\"callback\":null,\"plot\":{\"id\":\"cbec51b1-fde7-4c77-b0ff-f2fb78f63b52\",\"subtype\":\"Figure\",\"type\":\"Plot\"},\"tooltips\":[[\"Date\",\"@date\"],[\"Event\",\"@desc\"],[\"ADR\",\"@y{1.11}\"]]},\"id\":\"731d0038-cc73-44a5-99b5-66f92649192b\",\"type\":\"HoverTool\"},{\"attributes\":{\"days\":[1,8,15,22]},\"id\":\"e73a50a5-d37d-48a7-b43d-34e7fbb3c690\",\"type\":\"DaysTicker\"},{\"attributes\":{},\"id\":\"69695adb-3cd3-4c4e-9f36-4f3a11f9e4c7\",\"type\":\"YearsTicker\"},{\"attributes\":{\"callback\":null},\"id\":\"ed036bda-752a-4f19-9a24-a90d50889af5\",\"type\":\"DataRange1d\"},{\"attributes\":{},\"id\":\"7aa56eba-0d39-45b3-9eca-53b26b4eaba8\",\"type\":\"DatetimeTickFormatter\"},{\"attributes\":{\"num_minor_ticks\":5},\"id\":\"f0ddf50b-62ce-499f-b130-269f7b00e0a9\",\"type\":\"DatetimeTicker\"},{\"attributes\":{\"max_interval\":500.0,\"num_minor_ticks\":0},\"id\":\"a32e9670-c7d7-49df-b931-580ed62a041a\",\"type\":\"AdaptiveTicker\"},{\"attributes\":{\"axis_label\":\"ADR\",\"formatter\":{\"id\":\"e62c09c8-563f-48ae-a05d-4a72a0b0feaf\",\"type\":\"BasicTickFormatter\"},\"plot\":{\"id\":\"cbec51b1-fde7-4c77-b0ff-f2fb78f63b52\",\"subtype\":\"Figure\",\"type\":\"Plot\"},\"ticker\":{\"id\":\"29e616a6-eca9-4799-9c81-e215be8432ef\",\"type\":\"BasicTicker\"}},\"id\":\"2417926c-df1d-4124-bd57-b34363fb1e27\",\"type\":\"LinearAxis\"},{\"attributes\":{\"base\":24,\"mantissas\":[1,2,4,6,8,12],\"max_interval\":43200000.0,\"min_interval\":3600000.0,\"num_minor_ticks\":0},\"id\":\"88cf15cc-64f8-4938-8ba9-91e6733488a2\",\"type\":\"AdaptiveTicker\"}],\"root_ids\":[\"cbec51b1-fde7-4c77-b0ff-f2fb78f63b52\"]},\"title\":\"Bokeh Application\",\"version\":\"0.12.2\"}};\n",
       "            var render_items = [{\"docid\":\"40f3e92c-9f30-46cc-a579-9247bc657d08\",\"elementid\":\"336fd2c5-35b8-4acc-87f5-295cca82674f\",\"modelid\":\"cbec51b1-fde7-4c77-b0ff-f2fb78f63b52\"}];\n",
       "            \n",
       "            Bokeh.embed.embed_items(docs_json, render_items);\n",
       "        });\n",
       "      },\n",
       "      function(Bokeh) {\n",
       "      }\n",
       "    ];\n",
       "  \n",
       "    function run_inline_js() {\n",
       "      \n",
       "      if ((window.Bokeh !== undefined) || (force === \"1\")) {\n",
       "        for (var i = 0; i < inline_js.length; i++) {\n",
       "          inline_js[i](window.Bokeh);\n",
       "        }if (force === \"1\") {\n",
       "          display_loaded();\n",
       "        }} else if (Date.now() < window._bokeh_timeout) {\n",
       "        setTimeout(run_inline_js, 100);\n",
       "      } else if (!window._bokeh_failed_load) {\n",
       "        console.log(\"Bokeh: BokehJS failed to load within specified timeout.\");\n",
       "        window._bokeh_failed_load = true;\n",
       "      } else if (!force) {\n",
       "        var cell = $(\"#336fd2c5-35b8-4acc-87f5-295cca82674f\").parents('.cell').data().cell;\n",
       "        cell.output_area.append_execute_result(NB_LOAD_WARNING)\n",
       "      }\n",
       "  \n",
       "    }\n",
       "  \n",
       "    if (window._bokeh_is_loading === 0) {\n",
       "      console.log(\"Bokeh: BokehJS loaded, going straight to plotting\");\n",
       "      run_inline_js();\n",
       "    } else {\n",
       "      load_libs(js_urls, function() {\n",
       "        console.log(\"Bokeh: BokehJS plotting callback run at\", now());\n",
       "        run_inline_js();\n",
       "      });\n",
       "    }\n",
       "  }(this));\n",
       "</script>"
      ]
     },
     "metadata": {},
     "output_type": "display_data"
    }
   ],
   "source": [
    "source = ColumnDataSource(\n",
    "        data=dict(\n",
    "            x=property_id_BB1[1],\n",
    "            y=property_id_BB1[6],\n",
    "            desc=property_id_BB1[3],\n",
    "            date=[x.strftime(\"%Y-%m-%d\") for x in property_id_BB['Booking_date']]\n",
    "        )\n",
    "    )\n",
    "\n",
    "hover = HoverTool(\n",
    "        tooltips=[\n",
    "            (\"Date\",\"@date\"),\n",
    "            (\"Event\", \"@desc\"),\n",
    "            (\"ADR\",\"@y{1.11}\")\n",
    "        ]\n",
    "    )\n",
    "\n",
    "p = plt.figure(x_axis_type=\"datetime\",width=800, height=500, tools=[hover],\n",
    "           title=\"Graph of Booking Date vs ADR for BB (hover to view events)\",x_axis_label = \"Booking Date\",\n",
    "               y_axis_label = \"ADR\")\n",
    "p.left[0].formatter.use_scientific = False\n",
    "p.line('x', 'y', line_width=2, source=source)   \n",
    "show(p)"
   ]
  },
  {
   "cell_type": "code",
   "execution_count": null,
   "metadata": {
    "collapsed": true
   },
   "outputs": [],
   "source": []
  },
  {
   "cell_type": "code",
   "execution_count": null,
   "metadata": {
    "collapsed": true
   },
   "outputs": [],
   "source": [
    "property_id_BG = pd.read_excel('Results/GroupByPropertyID/2015/BG.xlsx')\n",
    "property_id_BG = property_id_BG.reset_index()\n",
    "property_id_BG = property_id_BG.sort_values(by = 'Booking_date', ascending=True)\n",
    "property_id_BG1 = property_id_BG.values.T.tolist()"
   ]
  },
  {
   "cell_type": "code",
   "execution_count": null,
   "metadata": {
    "collapsed": false
   },
   "outputs": [],
   "source": [
    "source = ColumnDataSource(\n",
    "        data=dict(\n",
    "            x=property_id_BG1[1],\n",
    "            y=property_id_BG1[4],\n",
    "            desc=property_id_BG1[3],\n",
    "            date=[x.strftime(\"%Y-%m-%d\") for x in property_id_BG['Booking_date']]\n",
    "        )\n",
    "    )\n",
    "\n",
    "hover = HoverTool(\n",
    "        tooltips=[\n",
    "            (\"Date\",\"@date\"),\n",
    "            (\"Event\", \"@desc\"),\n",
    "            (\"Total Revenue\",\"@y{1.11}\")\n",
    "        ]\n",
    "    )\n",
    "\n",
    "p = plt.figure(x_axis_type=\"datetime\",width=800, height=500, tools=[hover],\n",
    "           title=\"Graph of BookingDate vs TotalRevenue for BG (hover to view events)\",x_axis_label = \"Booking Date\",\n",
    "               y_axis_label = \"Total Revenue\")\n",
    "p.left[0].formatter.use_scientific = False\n",
    "p.line('x', 'y', line_width=2, source=source)   \n",
    "show(p)\n"
   ]
  },
  {
   "cell_type": "code",
   "execution_count": null,
   "metadata": {
    "collapsed": false
   },
   "outputs": [],
   "source": [
    "source = ColumnDataSource(\n",
    "        data=dict(\n",
    "            x=property_id_BG1[1],\n",
    "            y=property_id_BG1[6],\n",
    "            desc=property_id_BG1[3],\n",
    "            date=[x.strftime(\"%Y-%m-%d\") for x in property_id_BG['Booking_date']]\n",
    "        )\n",
    "    )\n",
    "\n",
    "hover = HoverTool(\n",
    "        tooltips=[\n",
    "            (\"Date\",\"@date\"),\n",
    "            (\"Event\", \"@desc\"),\n",
    "            (\"ADR\",\"@y{1.11}\")\n",
    "        ]\n",
    "    )\n",
    "\n",
    "p = plt.figure(x_axis_type=\"datetime\",width=800, height=500, tools=[hover],\n",
    "           title=\"Graph of Booking Date vs ADR for BG (hover to view events)\",x_axis_label = \"Booking Date\",\n",
    "               y_axis_label = \"ADR\")\n",
    "p.left[0].formatter.use_scientific = False\n",
    "p.line('x', 'y', line_width=2, source=source)   \n",
    "show(p)\n"
   ]
  },
  {
   "cell_type": "code",
   "execution_count": null,
   "metadata": {
    "collapsed": true
   },
   "outputs": [],
   "source": []
  },
  {
   "cell_type": "code",
   "execution_count": null,
   "metadata": {
    "collapsed": true
   },
   "outputs": [],
   "source": [
    "property_id_CH = pd.read_excel('Results/GroupByPropertyID/2015/CH.xlsx')\n",
    "property_id_CH = property_id_CH.reset_index()\n",
    "property_id_CH = property_id_CH.sort_values(by = 'Booking_date', ascending=True)\n",
    "property_id_CH1 = property_id_CH.values.T.tolist()"
   ]
  },
  {
   "cell_type": "code",
   "execution_count": null,
   "metadata": {
    "collapsed": false
   },
   "outputs": [],
   "source": [
    "source = ColumnDataSource(\n",
    "        data=dict(\n",
    "            x=property_id_CH1[1],\n",
    "            y=property_id_CH1[4],\n",
    "            desc=property_id_CH1[3],\n",
    "            date=[x.strftime(\"%Y-%m-%d\") for x in property_id_CH['Booking_date']]\n",
    "        )\n",
    "    )\n",
    "\n",
    "hover = HoverTool(\n",
    "        tooltips=[\n",
    "            (\"Date\",\"@date\"),\n",
    "            (\"Event\", \"@desc\"),\n",
    "            (\"Total Revenue\",\"@y{1.11}\")\n",
    "        ]\n",
    "    )\n",
    "\n",
    "p = plt.figure(x_axis_type=\"datetime\",width=800, height=500, tools=[hover],\n",
    "           title=\"Graph of BookingDate vs TotalRevenue for CH (hover to view events)\",x_axis_label = \"Booking Date\",\n",
    "               y_axis_label = \"Total Revenue\")\n",
    "p.left[0].formatter.use_scientific = False\n",
    "p.line('x', 'y', line_width=2, source=source)   \n",
    "show(p)\n"
   ]
  },
  {
   "cell_type": "code",
   "execution_count": null,
   "metadata": {
    "collapsed": false
   },
   "outputs": [],
   "source": [
    "source = ColumnDataSource(\n",
    "        data=dict(\n",
    "            x=property_id_CH1[1],\n",
    "            y=property_id_CH1[6],\n",
    "            desc=property_id_CH1[3],\n",
    "            date=[x.strftime(\"%Y-%m-%d\") for x in property_id_CH['Booking_date']]\n",
    "        )\n",
    "    )\n",
    "\n",
    "hover = HoverTool(\n",
    "        tooltips=[\n",
    "            (\"Date\",\"@date\"),\n",
    "            (\"Event\", \"@desc\"),\n",
    "            (\"ADR\",\"@y{1.11}\")\n",
    "        ]\n",
    "    )\n",
    "\n",
    "p = plt.figure(x_axis_type=\"datetime\",width=800, height=500, tools=[hover],\n",
    "           title=\"Graph of Booking Date vs ADR for CH (hover to view events)\",x_axis_label = \"Booking Date\",\n",
    "               y_axis_label = \"ADR\")\n",
    "p.left[0].formatter.use_scientific = False\n",
    "p.line('x', 'y', line_width=2, source=source)   \n",
    "show(p)\n"
   ]
  },
  {
   "cell_type": "code",
   "execution_count": null,
   "metadata": {
    "collapsed": true
   },
   "outputs": [],
   "source": []
  },
  {
   "cell_type": "code",
   "execution_count": null,
   "metadata": {
    "collapsed": true
   },
   "outputs": [],
   "source": [
    "property_id_CL = pd.read_excel('Results/GroupByPropertyID/2015/CL.xlsx')\n",
    "property_id_CL = property_id_CL.reset_index()\n",
    "property_id_CL = property_id_CL.sort_values(by = 'Booking_date', ascending=True)\n",
    "property_id_CL1 = property_id_CL.values.T.tolist()\n"
   ]
  },
  {
   "cell_type": "code",
   "execution_count": null,
   "metadata": {
    "collapsed": false
   },
   "outputs": [],
   "source": [
    "source = ColumnDataSource(\n",
    "        data=dict(\n",
    "            x=property_id_CL1[1],\n",
    "            y=property_id_CL1[4],\n",
    "            desc=property_id_CL1[3],\n",
    "            date=[x.strftime(\"%Y-%m-%d\") for x in property_id_CL['Booking_date']]\n",
    "        )\n",
    "    )\n",
    "\n",
    "hover = HoverTool(\n",
    "        tooltips=[\n",
    "            (\"Date\",\"@date\"),\n",
    "            (\"Event\", \"@desc\"),\n",
    "            (\"Total Revenue\",\"@y{1.11}\")\n",
    "        ]\n",
    "    )\n",
    "\n",
    "p = plt.figure(x_axis_type=\"datetime\",width=800, height=500, tools=[hover],\n",
    "           title=\"Graph of BookingDate vs TotalRevenue for CL (hover to view events)\",x_axis_label = \"Booking Date\",\n",
    "               y_axis_label = \"Total Revenue\")\n",
    "p.left[0].formatter.use_scientific = False\n",
    "p.line('x', 'y', line_width=2, source=source)   \n",
    "show(p)\n"
   ]
  },
  {
   "cell_type": "code",
   "execution_count": null,
   "metadata": {
    "collapsed": false
   },
   "outputs": [],
   "source": [
    "source = ColumnDataSource(\n",
    "        data=dict(\n",
    "            x=property_id_CL1[1],\n",
    "            y=property_id_CL1[6],\n",
    "            desc=property_id_CL1[3],\n",
    "            date=[x.strftime(\"%Y-%m-%d\") for x in property_id_CL['Booking_date']]\n",
    "        )\n",
    "    )\n",
    "\n",
    "hover = HoverTool(\n",
    "        tooltips=[\n",
    "            (\"Date\",\"@date\"),\n",
    "            (\"Event\", \"@desc\"),\n",
    "            (\"ADR\",\"@y{1.11}\")\n",
    "        ]\n",
    "    )\n",
    "\n",
    "p = plt.figure(x_axis_type=\"datetime\",width=800, height=500, tools=[hover],\n",
    "           title=\"Graph of Booking Date vs ADR for CL (hover to view events)\",x_axis_label = \"Booking Date\",\n",
    "               y_axis_label = \"ADR\")\n",
    "p.left[0].formatter.use_scientific = False\n",
    "p.line('x', 'y', line_width=2, source=source)   \n",
    "show(p)\n"
   ]
  },
  {
   "cell_type": "code",
   "execution_count": null,
   "metadata": {
    "collapsed": true
   },
   "outputs": [],
   "source": []
  },
  {
   "cell_type": "code",
   "execution_count": null,
   "metadata": {
    "collapsed": true
   },
   "outputs": [],
   "source": [
    "property_id_CP = pd.read_excel('Results/GroupByPropertyID/2015/CP.xlsx')\n",
    "property_id_CP = property_id_CP.reset_index()\n",
    "property_id_CP = property_id_CP.sort_values(by = 'Booking_date', ascending=True)\n",
    "property_id_CP1 = property_id_CP.values.T.tolist()\n"
   ]
  },
  {
   "cell_type": "code",
   "execution_count": null,
   "metadata": {
    "collapsed": false
   },
   "outputs": [],
   "source": [
    "source = ColumnDataSource(\n",
    "        data=dict(\n",
    "            x=property_id_CP1[1],\n",
    "            y=property_id_CP1[4],\n",
    "            desc=property_id_CP1[3],\n",
    "            date=[x.strftime(\"%Y-%m-%d\") for x in property_id_CP['Booking_date']]\n",
    "        )\n",
    "    )\n",
    "\n",
    "hover = HoverTool(\n",
    "        tooltips=[\n",
    "            (\"Date\",\"@date\"),\n",
    "            (\"Event\", \"@desc\"),\n",
    "            (\"Total Revenue\",\"@y{1.11}\")\n",
    "        ]\n",
    "    )\n",
    "\n",
    "p = plt.figure(x_axis_type=\"datetime\",width=800, height=500, tools=[hover],\n",
    "           title=\"Graph of BookingDate vs TotalRevenue for CP (hover to view events)\",x_axis_label = \"Booking Date\",\n",
    "               y_axis_label = \"Total Revenue\")\n",
    "p.left[0].formatter.use_scientific = False\n",
    "p.line('x', 'y', line_width=2, source=source)   \n",
    "show(p)\n"
   ]
  },
  {
   "cell_type": "code",
   "execution_count": null,
   "metadata": {
    "collapsed": true
   },
   "outputs": [],
   "source": []
  },
  {
   "cell_type": "code",
   "execution_count": null,
   "metadata": {
    "collapsed": true
   },
   "outputs": [],
   "source": [
    "property_id_EB = pd.read_excel('Results/GroupByPropertyID/2015/EB.xlsx')\n",
    "property_id_EB = property_id_EB.reset_index()\n",
    "property_id_EB = property_id_EB.sort_values(by = 'Booking_date', ascending=True)\n",
    "property_id_EB1 = property_id_EB.values.T.tolist()\n"
   ]
  },
  {
   "cell_type": "code",
   "execution_count": null,
   "metadata": {
    "collapsed": false
   },
   "outputs": [],
   "source": [
    "source = ColumnDataSource(\n",
    "        data=dict(\n",
    "            x=property_id_EB1[1],\n",
    "            y=property_id_EB1[4],\n",
    "            desc=property_id_EB1[3],\n",
    "            date=[x.strftime(\"%Y-%m-%d\") for x in property_id_EB['Booking_date']]\n",
    "        )\n",
    "    )\n",
    "\n",
    "hover = HoverTool(\n",
    "        tooltips=[\n",
    "            (\"Date\",\"@date\"),\n",
    "            (\"Event\", \"@desc\"),\n",
    "            (\"Total Revenue\",\"@y{1.11}\")\n",
    "        ]\n",
    "    )\n",
    "\n",
    "p = plt.figure(x_axis_type=\"datetime\",width=800, height=500, tools=[hover],\n",
    "           title=\"Graph of BookingDate vs TotalRevenue for EB (hover to view events)\",x_axis_label = \"Booking Date\",\n",
    "               y_axis_label = \"Total Revenue\")\n",
    "p.left[0].formatter.use_scientific = False\n",
    "p.line('x', 'y', line_width=2, source=source)   \n",
    "show(p)\n"
   ]
  },
  {
   "cell_type": "code",
   "execution_count": null,
   "metadata": {
    "collapsed": false
   },
   "outputs": [],
   "source": [
    "source = ColumnDataSource(\n",
    "        data=dict(\n",
    "            x=property_id_EB1[1],\n",
    "            y=property_id_EB1[6],\n",
    "            desc=property_id_EB1[3],\n",
    "            date=[x.strftime(\"%Y-%m-%d\") for x in property_id_EB['Booking_date']]\n",
    "        )\n",
    "    )\n",
    "\n",
    "hover = HoverTool(\n",
    "        tooltips=[\n",
    "            (\"Date\",\"@date\"),\n",
    "            (\"Event\", \"@desc\"),\n",
    "            (\"ADR\",\"@y{1.11}\")\n",
    "        ]\n",
    "    )\n",
    "\n",
    "p = plt.figure(x_axis_type=\"datetime\",width=800, height=500, tools=[hover],\n",
    "           title=\"Graph of Booking Date vs ADR for EB (hover to view events)\",x_axis_label = \"Booking Date\",\n",
    "               y_axis_label = \"ADR\")\n",
    "p.left[0].formatter.use_scientific = False\n",
    "p.line('x', 'y', line_width=2, source=source)   \n",
    "show(p)\n"
   ]
  },
  {
   "cell_type": "code",
   "execution_count": null,
   "metadata": {
    "collapsed": true
   },
   "outputs": [],
   "source": []
  },
  {
   "cell_type": "code",
   "execution_count": null,
   "metadata": {
    "collapsed": true
   },
   "outputs": [],
   "source": [
    "property_id_KK = pd.read_excel('Results/GroupByPropertyID/2015/KK.xlsx')\n",
    "property_id_KK = property_id_KK.reset_index()\n",
    "property_id_KK = property_id_KK.sort_values(by = 'Booking_date', ascending=True)\n",
    "property_id_KK1 = property_id_KK.values.T.tolist()\n"
   ]
  },
  {
   "cell_type": "code",
   "execution_count": null,
   "metadata": {
    "collapsed": false
   },
   "outputs": [],
   "source": [
    "source = ColumnDataSource(\n",
    "        data=dict(\n",
    "            x=property_id_KK1[1],\n",
    "            y=property_id_KK1[4],\n",
    "            desc=property_id_KK1[3],\n",
    "            date=[x.strftime(\"%Y-%m-%d\") for x in property_id_KK['Booking_date']]\n",
    "        )\n",
    "    )\n",
    "\n",
    "hover = HoverTool(\n",
    "        tooltips=[\n",
    "            (\"Date\",\"@date\"),\n",
    "            (\"Event\", \"@desc\"),\n",
    "            (\"Total Revenue\",\"@y{1.11}\")\n",
    "        ]\n",
    "    )\n",
    "\n",
    "p = plt.figure(x_axis_type=\"datetime\",width=800, height=500, tools=[hover],\n",
    "           title=\"Graph of BookingDate vs TotalRevenue for KK (hover to view events)\",x_axis_label = \"Booking Date\",\n",
    "               y_axis_label = \"Total Revenue\")\n",
    "p.left[0].formatter.use_scientific = False\n",
    "p.line('x', 'y', line_width=2, source=source)   \n",
    "show(p)\n"
   ]
  },
  {
   "cell_type": "code",
   "execution_count": null,
   "metadata": {
    "collapsed": false
   },
   "outputs": [],
   "source": [
    "source = ColumnDataSource(\n",
    "        data=dict(\n",
    "            x=property_id_KK1[1],\n",
    "            y=property_id_KK1[6],\n",
    "            desc=property_id_KK1[3],\n",
    "            date=[x.strftime(\"%Y-%m-%d\") for x in property_id_KK['Booking_date']]\n",
    "        )\n",
    "    )\n",
    "\n",
    "hover = HoverTool(\n",
    "        tooltips=[\n",
    "            (\"Date\",\"@date\"),\n",
    "            (\"Event\", \"@desc\"),\n",
    "            (\"ADR\",\"@y{1.11}\")\n",
    "        ]\n",
    "    )\n",
    "\n",
    "p = plt.figure(x_axis_type=\"datetime\",width=800, height=500, tools=[hover],\n",
    "           title=\"Graph of Booking Date vs ADR for KK (hover to view events)\",x_axis_label = \"Booking Date\",\n",
    "               y_axis_label = \"ADR\")\n",
    "p.left[0].formatter.use_scientific = False\n",
    "p.line('x', 'y', line_width=2, source=source)   \n",
    "show(p)\n"
   ]
  },
  {
   "cell_type": "code",
   "execution_count": null,
   "metadata": {
    "collapsed": true
   },
   "outputs": [],
   "source": []
  },
  {
   "cell_type": "code",
   "execution_count": null,
   "metadata": {
    "collapsed": true
   },
   "outputs": [],
   "source": [
    "property_id_KR = pd.read_excel('Results/GroupByPropertyID/2015/KR.xlsx')\n",
    "property_id_KR = property_id_KR.reset_index()\n",
    "property_id_KR = property_id_KR.sort_values(by = 'Booking_date', ascending=True)\n",
    "property_id_KR1 = property_id_KR.values.T.tolist()\n"
   ]
  },
  {
   "cell_type": "code",
   "execution_count": null,
   "metadata": {
    "collapsed": false
   },
   "outputs": [],
   "source": [
    "source = ColumnDataSource(\n",
    "        data=dict(\n",
    "            x=property_id_KR1[1],\n",
    "            y=property_id_KR1[4],\n",
    "            desc=property_id_KR1[3],\n",
    "            date=[x.strftime(\"%Y-%m-%d\") for x in property_id_KR['Booking_date']]\n",
    "        )\n",
    "    )\n",
    "\n",
    "hover = HoverTool(\n",
    "        tooltips=[\n",
    "            (\"Date\",\"@date\"),\n",
    "            (\"Event\", \"@desc\"),\n",
    "            (\"Total Revenue\",\"@y{1.11}\")\n",
    "        ]\n",
    "    )\n",
    "\n",
    "p = plt.figure(x_axis_type=\"datetime\",width=800, height=500, tools=[hover],\n",
    "           title=\"Graph of BookingDate vs TotalRevenue for KR (hover to view events)\",x_axis_label = \"Booking Date\",\n",
    "               y_axis_label = \"Total Revenue\")\n",
    "p.left[0].formatter.use_scientific = False\n",
    "p.line('x', 'y', line_width=2, source=source)   \n",
    "show(p)\n"
   ]
  },
  {
   "cell_type": "code",
   "execution_count": null,
   "metadata": {
    "collapsed": false
   },
   "outputs": [],
   "source": [
    "source = ColumnDataSource(\n",
    "        data=dict(\n",
    "            x=property_id_KR1[1],\n",
    "            y=property_id_KR1[6],\n",
    "            desc=property_id_KR1[3],\n",
    "            date=[x.strftime(\"%Y-%m-%d\") for x in property_id_KR['Booking_date']]\n",
    "        )\n",
    "    )\n",
    "\n",
    "hover = HoverTool(\n",
    "        tooltips=[\n",
    "            (\"Date\",\"@date\"),\n",
    "            (\"Event\", \"@desc\"),\n",
    "            (\"ADR\",\"@y{1.11}\")\n",
    "        ]\n",
    "    )\n",
    "\n",
    "p = plt.figure(x_axis_type=\"datetime\",width=800, height=500, tools=[hover],\n",
    "           title=\"Graph of Booking Date vs ADR for KR (hover to view events)\",x_axis_label = \"Booking Date\",\n",
    "               y_axis_label = \"ADR\")\n",
    "p.left[0].formatter.use_scientific = False\n",
    "p.line('x', 'y', line_width=2, source=source)   \n",
    "show(p)\n"
   ]
  },
  {
   "cell_type": "code",
   "execution_count": null,
   "metadata": {
    "collapsed": true
   },
   "outputs": [],
   "source": []
  },
  {
   "cell_type": "code",
   "execution_count": null,
   "metadata": {
    "collapsed": true
   },
   "outputs": [],
   "source": [
    "property_id_MB = pd.read_excel('Results/GroupByPropertyID/2015/MB.xlsx')\n",
    "property_id_MB = property_id_MB.reset_index()\n",
    "property_id_MB = property_id_MB.sort_values(by = 'Booking_date', ascending=True)\n",
    "property_id_MB1 = property_id_MB.values.T.tolist()\n"
   ]
  },
  {
   "cell_type": "code",
   "execution_count": null,
   "metadata": {
    "collapsed": false
   },
   "outputs": [],
   "source": [
    "source = ColumnDataSource(\n",
    "        data=dict(\n",
    "            x=property_id_MB1[1],\n",
    "            y=property_id_MB1[4],\n",
    "            desc=property_id_MB1[3],\n",
    "            date=[x.strftime(\"%Y-%m-%d\") for x in property_id_MB['Booking_date']]\n",
    "        )\n",
    "    )\n",
    "\n",
    "hover = HoverTool(\n",
    "        tooltips=[\n",
    "            (\"Date\",\"@date\"),\n",
    "            (\"Event\", \"@desc\"),\n",
    "            (\"Total Revenue\",\"@y{1.11}\")\n",
    "        ]\n",
    "    )\n",
    "\n",
    "p = plt.figure(x_axis_type=\"datetime\",width=800, height=500, tools=[hover],\n",
    "           title=\"Graph of BookingDate vs TotalRevenue for MB (hover to view events)\",x_axis_label = \"Booking Date\",\n",
    "               y_axis_label = \"Total Revenue\")\n",
    "p.left[0].formatter.use_scientific = False\n",
    "p.line('x', 'y', line_width=2, source=source)   \n",
    "show(p)\n"
   ]
  },
  {
   "cell_type": "code",
   "execution_count": null,
   "metadata": {
    "collapsed": false
   },
   "outputs": [],
   "source": [
    "source = ColumnDataSource(\n",
    "        data=dict(\n",
    "            x=property_id_MB1[1],\n",
    "            y=property_id_MB1[6],\n",
    "            desc=property_id_MB1[3],\n",
    "            date=[x.strftime(\"%Y-%m-%d\") for x in property_id_MB['Booking_date']]\n",
    "        )\n",
    "    )\n",
    "\n",
    "hover = HoverTool(\n",
    "        tooltips=[\n",
    "            (\"Date\",\"@date\"),\n",
    "            (\"Event\", \"@desc\"),\n",
    "            (\"ADR\",\"@y{1.11}\")\n",
    "        ]\n",
    "    )\n",
    "\n",
    "p = plt.figure(x_axis_type=\"datetime\",width=800, height=500, tools=[hover],\n",
    "           title=\"Graph of Booking Date vs ADR for MB (hover to view events)\",x_axis_label = \"Booking Date\",\n",
    "               y_axis_label = \"ADR\")\n",
    "p.left[0].formatter.use_scientific = False\n",
    "p.line('x', 'y', line_width=2, source=source)   \n",
    "show(p)\n"
   ]
  },
  {
   "cell_type": "code",
   "execution_count": null,
   "metadata": {
    "collapsed": true
   },
   "outputs": [],
   "source": []
  },
  {
   "cell_type": "code",
   "execution_count": null,
   "metadata": {
    "collapsed": true
   },
   "outputs": [],
   "source": [
    "property_id_MM = pd.read_excel('Results/GroupByPropertyID/2015/MM.xlsx')\n",
    "property_id_MM = property_id_MM.reset_index()\n",
    "property_id_MM = property_id_MM.sort_values(by = 'Booking_date', ascending=True)\n",
    "property_id_MM1 = property_id_MM.values.T.tolist()\n"
   ]
  },
  {
   "cell_type": "code",
   "execution_count": null,
   "metadata": {
    "collapsed": false
   },
   "outputs": [],
   "source": [
    "source = ColumnDataSource(\n",
    "        data=dict(\n",
    "            x=property_id_MM1[1],\n",
    "            y=property_id_MM1[4],\n",
    "            desc=property_id_MM1[3],\n",
    "            date=[x.strftime(\"%Y-%m-%d\") for x in property_id_MM['Booking_date']]\n",
    "        )\n",
    "    )\n",
    "\n",
    "hover = HoverTool(\n",
    "        tooltips=[\n",
    "            (\"Date\",\"@date\"),\n",
    "            (\"Event\", \"@desc\"),\n",
    "            (\"Total Revenue\",\"@y{1.11}\")\n",
    "        ]\n",
    "    )\n",
    "\n",
    "p = plt.figure(x_axis_type=\"datetime\",width=800, height=500, tools=[hover],\n",
    "           title=\"Graph of BookingDate vs TotalRevenue for MM (hover to view events)\",x_axis_label = \"Booking Date\",\n",
    "               y_axis_label = \"Total Revenue\")\n",
    "p.left[0].formatter.use_scientific = False\n",
    "p.line('x', 'y', line_width=2, source=source)   \n",
    "show(p)\n"
   ]
  },
  {
   "cell_type": "code",
   "execution_count": null,
   "metadata": {
    "collapsed": false
   },
   "outputs": [],
   "source": [
    "source = ColumnDataSource(\n",
    "        data=dict(\n",
    "            x=property_id_MM1[1],\n",
    "            y=property_id_MM1[6],\n",
    "            desc=property_id_MM1[3],\n",
    "            date=[x.strftime(\"%Y-%m-%d\") for x in property_id_MM['Booking_date']]\n",
    "        )\n",
    "    )\n",
    "\n",
    "hover = HoverTool(\n",
    "        tooltips=[\n",
    "            (\"Date\",\"@date\"),\n",
    "            (\"Event\", \"@desc\"),\n",
    "            (\"ADR\",\"@y{1.11}\")\n",
    "        ]\n",
    "    )\n",
    "\n",
    "p = plt.figure(x_axis_type=\"datetime\",width=800, height=500, tools=[hover],\n",
    "           title=\"Graph of Booking Date vs ADR for MM (hover to view events)\",x_axis_label = \"Booking Date\",\n",
    "               y_axis_label = \"ADR\")\n",
    "p.left[0].formatter.use_scientific = False\n",
    "p.line('x', 'y', line_width=2, source=source)   \n",
    "show(p)\n"
   ]
  },
  {
   "cell_type": "code",
   "execution_count": null,
   "metadata": {
    "collapsed": true
   },
   "outputs": [],
   "source": []
  },
  {
   "cell_type": "code",
   "execution_count": null,
   "metadata": {
    "collapsed": true
   },
   "outputs": [],
   "source": [
    "property_id_MP = pd.read_excel('Results/GroupByPropertyID/2015/MP.xlsx')\n",
    "property_id_MP = property_id_MP.reset_index()\n",
    "property_id_MP = property_id_MP.sort_values(by = 'Booking_date', ascending=True)\n",
    "property_id_MP1 = property_id_MP.values.T.tolist()\n"
   ]
  },
  {
   "cell_type": "code",
   "execution_count": null,
   "metadata": {
    "collapsed": false
   },
   "outputs": [],
   "source": [
    "source = ColumnDataSource(\n",
    "        data=dict(\n",
    "            x=property_id_MP1[1],\n",
    "            y=property_id_MP1[4],\n",
    "            desc=property_id_MP1[3],\n",
    "            date=[x.strftime(\"%Y-%m-%d\") for x in property_id_MP['Booking_date']]\n",
    "        )\n",
    "    )\n",
    "\n",
    "hover = HoverTool(\n",
    "        tooltips=[\n",
    "            (\"Date\",\"@date\"),\n",
    "            (\"Event\", \"@desc\"),\n",
    "            (\"Total Revenue\",\"@y{1.11}\")\n",
    "        ]\n",
    "    )\n",
    "\n",
    "p = plt.figure(x_axis_type=\"datetime\",width=800, height=500, tools=[hover],\n",
    "           title=\"Graph of BookingDate vs TotalRevenue for MP (hover to view events)\",x_axis_label = \"Booking Date\",\n",
    "               y_axis_label = \"Total Revenue\")\n",
    "p.left[0].formatter.use_scientific = False\n",
    "p.line('x', 'y', line_width=2, source=source)   \n",
    "show(p)\n"
   ]
  },
  {
   "cell_type": "code",
   "execution_count": null,
   "metadata": {
    "collapsed": false
   },
   "outputs": [],
   "source": [
    "source = ColumnDataSource(\n",
    "        data=dict(\n",
    "            x=property_id_MP1[1],\n",
    "            y=property_id_MP1[6],\n",
    "            desc=property_id_MP1[3],\n",
    "            date=[x.strftime(\"%Y-%m-%d\") for x in property_id_MP['Booking_date']]\n",
    "        )\n",
    "    )\n",
    "\n",
    "hover = HoverTool(\n",
    "        tooltips=[\n",
    "            (\"Date\",\"@date\"),\n",
    "            (\"Event\", \"@desc\"),\n",
    "            (\"ADR\",\"@y{1.11}\")\n",
    "        ]\n",
    "    )\n",
    "\n",
    "p = plt.figure(x_axis_type=\"datetime\",width=800, height=500, tools=[hover],\n",
    "           title=\"Graph of Booking Date vs ADR for MP (hover to view events)\",x_axis_label = \"Booking Date\",\n",
    "               y_axis_label = \"ADR\")\n",
    "p.left[0].formatter.use_scientific = False\n",
    "p.line('x', 'y', line_width=2, source=source)   \n",
    "show(p)\n"
   ]
  },
  {
   "cell_type": "code",
   "execution_count": null,
   "metadata": {
    "collapsed": true
   },
   "outputs": [],
   "source": []
  },
  {
   "cell_type": "code",
   "execution_count": null,
   "metadata": {
    "collapsed": true
   },
   "outputs": [],
   "source": [
    "property_id_SC = pd.read_excel('Results/GroupByPropertyID/2015/SC.xlsx')\n",
    "property_id_SC = property_id_SC.reset_index()\n",
    "property_id_SC = property_id_SC.sort_values(by = 'Booking_date', ascending=True)\n",
    "property_id_SC1 = property_id_SC.values.T.tolist()\n"
   ]
  },
  {
   "cell_type": "code",
   "execution_count": null,
   "metadata": {
    "collapsed": false
   },
   "outputs": [],
   "source": [
    "source = ColumnDataSource(\n",
    "        data=dict(\n",
    "            x=property_id_SC1[1],\n",
    "            y=property_id_SC1[4],\n",
    "            desc=property_id_SC1[3],\n",
    "            date=[x.strftime(\"%Y-%m-%d\") for x in property_id_SC['Booking_date']]\n",
    "        )\n",
    "    )\n",
    "\n",
    "hover = HoverTool(\n",
    "        tooltips=[\n",
    "            (\"Date\",\"@date\"),\n",
    "            (\"Event\", \"@desc\"),\n",
    "            (\"Total Revenue\",\"@y{1.11}\")\n",
    "        ]\n",
    "    )\n",
    "\n",
    "p = plt.figure(x_axis_type=\"datetime\",width=800, height=500, tools=[hover],\n",
    "           title=\"Graph of BookingDate vs TotalRevenue for SC (hover to view events)\",x_axis_label = \"Booking Date\",\n",
    "               y_axis_label = \"Total Revenue\")\n",
    "p.left[0].formatter.use_scientific = False\n",
    "p.line('x', 'y', line_width=2, source=source)   \n",
    "show(p)\n"
   ]
  },
  {
   "cell_type": "code",
   "execution_count": null,
   "metadata": {
    "collapsed": false
   },
   "outputs": [],
   "source": [
    "source = ColumnDataSource(\n",
    "        data=dict(\n",
    "            x=property_id_SC1[1],\n",
    "            y=property_id_SC1[6],\n",
    "            desc=property_id_SC1[3],\n",
    "            date=[x.strftime(\"%Y-%m-%d\") for x in property_id_SC['Booking_date']]\n",
    "        )\n",
    "    )\n",
    "\n",
    "hover = HoverTool(\n",
    "        tooltips=[\n",
    "            (\"Date\",\"@date\"),\n",
    "            (\"Event\", \"@desc\"),\n",
    "            (\"ADR\",\"@y{1.11}\")\n",
    "        ]\n",
    "    )\n",
    "\n",
    "p = plt.figure(x_axis_type=\"datetime\",width=800, height=500, tools=[hover],\n",
    "           title=\"Graph of Booking Date vs ADR for SC (hover to view events)\",x_axis_label = \"Booking Date\",\n",
    "               y_axis_label = \"ADR\")\n",
    "p.left[0].formatter.use_scientific = False\n",
    "p.line('x', 'y', line_width=2, source=source)   \n",
    "show(p)\n"
   ]
  },
  {
   "cell_type": "code",
   "execution_count": null,
   "metadata": {
    "collapsed": true
   },
   "outputs": [],
   "source": []
  },
  {
   "cell_type": "code",
   "execution_count": null,
   "metadata": {
    "collapsed": true
   },
   "outputs": [],
   "source": [
    "property_id_SS = pd.read_excel('Results/GroupByPropertyID/2015/SS.xlsx')\n",
    "property_id_SS = property_id_SS.reset_index()\n",
    "property_id_SS = property_id_SS.sort_values(by = 'Booking_date', ascending=True)\n",
    "property_id_SS1 = property_id_SS.values.T.tolist()\n"
   ]
  },
  {
   "cell_type": "code",
   "execution_count": null,
   "metadata": {
    "collapsed": false
   },
   "outputs": [],
   "source": [
    "source = ColumnDataSource(\n",
    "        data=dict(\n",
    "            x=property_id_SS1[1],\n",
    "            y=property_id_SS1[4],\n",
    "            desc=property_id_SS1[3],\n",
    "            date=[x.strftime(\"%Y-%m-%d\") for x in property_id_SS['Booking_date']]\n",
    "        )\n",
    "    )\n",
    "\n",
    "hover = HoverTool(\n",
    "        tooltips=[\n",
    "            (\"Date\",\"@date\"),\n",
    "            (\"Event\", \"@desc\"),\n",
    "            (\"Total Revenue\",\"@y{1.11}\")\n",
    "        ]\n",
    "    )\n",
    "\n",
    "p = plt.figure(x_axis_type=\"datetime\",width=800, height=500, tools=[hover],\n",
    "           title=\"Graph of BookingDate vs TotalRevenue for SS (hover to view events)\",x_axis_label = \"Booking Date\",\n",
    "               y_axis_label = \"Total Revenue\")\n",
    "p.left[0].formatter.use_scientific = False\n",
    "p.line('x', 'y', line_width=2, source=source)   \n",
    "show(p)\n"
   ]
  },
  {
   "cell_type": "code",
   "execution_count": null,
   "metadata": {
    "collapsed": false
   },
   "outputs": [],
   "source": [
    "source = ColumnDataSource(\n",
    "        data=dict(\n",
    "            x=property_id_SS1[1],\n",
    "            y=property_id_SS1[6],\n",
    "            desc=property_id_SS1[3],\n",
    "            date=[x.strftime(\"%Y-%m-%d\") for x in property_id_SS['Booking_date']]\n",
    "        )\n",
    "    )\n",
    "\n",
    "hover = HoverTool(\n",
    "        tooltips=[\n",
    "            (\"Date\",\"@date\"),\n",
    "            (\"Event\", \"@desc\"),\n",
    "            (\"ADR\",\"@y{1.11}\")\n",
    "        ]\n",
    "    )\n",
    "\n",
    "p = plt.figure(x_axis_type=\"datetime\",width=800, height=500, tools=[hover],\n",
    "           title=\"Graph of Booking Date vs ADR for SS (hover to view events)\",x_axis_label = \"Booking Date\",\n",
    "               y_axis_label = \"ADR\")\n",
    "p.left[0].formatter.use_scientific = False\n",
    "p.line('x', 'y', line_width=2, source=source)   \n",
    "show(p)\n"
   ]
  },
  {
   "cell_type": "code",
   "execution_count": null,
   "metadata": {
    "collapsed": true
   },
   "outputs": [],
   "source": []
  },
  {
   "cell_type": "code",
   "execution_count": null,
   "metadata": {
    "collapsed": true
   },
   "outputs": [],
   "source": [
    "property_id_SV = pd.read_excel('Results/GroupByPropertyID/2015/SV.xlsx')\n",
    "property_id_SV = property_id_SV.reset_index()\n",
    "property_id_SV = property_id_SV.sort_values(by = 'Booking_date', ascending=True)\n",
    "property_id_SV1 = property_id_SV.values.T.tolist()\n"
   ]
  },
  {
   "cell_type": "code",
   "execution_count": null,
   "metadata": {
    "collapsed": false
   },
   "outputs": [],
   "source": [
    "source = ColumnDataSource(\n",
    "        data=dict(\n",
    "            x=property_id_SV1[1],\n",
    "            y=property_id_SV1[4],\n",
    "            desc=property_id_SV1[3],\n",
    "            date=[x.strftime(\"%Y-%m-%d\") for x in property_id_SV['Booking_date']]\n",
    "        )\n",
    "    )\n",
    "\n",
    "hover = HoverTool(\n",
    "        tooltips=[\n",
    "            (\"Date\",\"@date\"),\n",
    "            (\"Event\", \"@desc\"),\n",
    "            (\"Total Revenue\",\"@y{1.11}\")\n",
    "        ]\n",
    "    )\n",
    "\n",
    "p = plt.figure(x_axis_type=\"datetime\",width=800, height=500, tools=[hover],\n",
    "           title=\"Graph of BookingDate vs TotalRevenue for SV (hover to view events)\",x_axis_label = \"Booking Date\",\n",
    "               y_axis_label = \"Total Revenue\")\n",
    "p.left[0].formatter.use_scientific = False\n",
    "p.line('x', 'y', line_width=2, source=source)   \n",
    "show(p)\n"
   ]
  },
  {
   "cell_type": "code",
   "execution_count": null,
   "metadata": {
    "collapsed": false
   },
   "outputs": [],
   "source": [
    "source = ColumnDataSource(\n",
    "        data=dict(\n",
    "            x=property_id_SV1[1],\n",
    "            y=property_id_SV1[6],\n",
    "            desc=property_id_SV1[3],\n",
    "            date=[x.strftime(\"%Y-%m-%d\") for x in property_id_SV['Booking_date']]\n",
    "        )\n",
    "    )\n",
    "\n",
    "hover = HoverTool(\n",
    "        tooltips=[\n",
    "            (\"Date\",\"@date\"),\n",
    "            (\"Event\", \"@desc\"),\n",
    "            (\"ADR\",\"@y{1.11}\")\n",
    "        ]\n",
    "    )\n",
    "\n",
    "p = plt.figure(x_axis_type=\"datetime\",width=800, height=500, tools=[hover],\n",
    "           title=\"Graph of Booking Date vs ADR for SV (hover to view events)\",x_axis_label = \"Booking Date\",\n",
    "               y_axis_label = \"ADR\")\n",
    "p.left[0].formatter.use_scientific = False\n",
    "p.line('x', 'y', line_width=2, source=source)   \n",
    "show(p)\n"
   ]
  },
  {
   "cell_type": "code",
   "execution_count": null,
   "metadata": {
    "collapsed": true
   },
   "outputs": [],
   "source": []
  },
  {
   "cell_type": "code",
   "execution_count": null,
   "metadata": {
    "collapsed": true
   },
   "outputs": [],
   "source": [
    "property_id_VM = pd.read_excel('Results/GroupByPropertyID/2015/VM.xlsx')\n",
    "property_id_VM = property_id_VM.reset_index()\n",
    "property_id_VM = property_id_VM.sort_values(by = 'Booking_date', ascending=True)\n",
    "property_id_VM1 = property_id_VM.values.T.tolist()\n"
   ]
  },
  {
   "cell_type": "code",
   "execution_count": null,
   "metadata": {
    "collapsed": false
   },
   "outputs": [],
   "source": [
    "source = ColumnDataSource(\n",
    "        data=dict(\n",
    "            x=property_id_VM1[1],\n",
    "            y=property_id_VM1[4],\n",
    "            desc=property_id_VM1[3],\n",
    "            date=[x.strftime(\"%Y-%m-%d\") for x in property_id_VM['Booking_date']]\n",
    "        )\n",
    "    )\n",
    "\n",
    "hover = HoverTool(\n",
    "        tooltips=[\n",
    "            (\"Date\",\"@date\"),\n",
    "            (\"Event\", \"@desc\"),\n",
    "            (\"Total Revenue\",\"@y{1.11}\")\n",
    "        ]\n",
    "    )\n",
    "\n",
    "p = plt.figure(x_axis_type=\"datetime\",width=800, height=500, tools=[hover],\n",
    "           title=\"Graph of BookingDate vs TotalRevenue for VM (hover to view events)\",x_axis_label = \"Booking Date\",\n",
    "               y_axis_label = \"Total Revenue\")\n",
    "p.left[0].formatter.use_scientific = False\n",
    "p.line('x', 'y', line_width=2, source=source)   \n",
    "show(p)\n"
   ]
  },
  {
   "cell_type": "code",
   "execution_count": null,
   "metadata": {
    "collapsed": false
   },
   "outputs": [],
   "source": [
    "source = ColumnDataSource(\n",
    "        data=dict(\n",
    "            x=property_id_VM1[1],\n",
    "            y=property_id_VM1[6],\n",
    "            desc=property_id_VM1[3],\n",
    "            date=[x.strftime(\"%Y-%m-%d\") for x in property_id_VM['Booking_date']]\n",
    "        )\n",
    "    )\n",
    "\n",
    "hover = HoverTool(\n",
    "        tooltips=[\n",
    "            (\"Date\",\"@date\"),\n",
    "            (\"Event\", \"@desc\"),\n",
    "            (\"ADR\",\"@y{1.11}\")\n",
    "        ]\n",
    "    )\n",
    "\n",
    "p = plt.figure(x_axis_type=\"datetime\",width=800, height=500, tools=[hover],\n",
    "           title=\"Graph of Booking Date vs ADR for VM (hover to view events)\",x_axis_label = \"Booking Date\",\n",
    "               y_axis_label = \"ADR\")\n",
    "p.left[0].formatter.use_scientific = False\n",
    "p.line('x', 'y', line_width=2, source=source)   \n",
    "show(p)\n"
   ]
  },
  {
   "cell_type": "code",
   "execution_count": null,
   "metadata": {
    "collapsed": true
   },
   "outputs": [],
   "source": []
  },
  {
   "cell_type": "code",
   "execution_count": null,
   "metadata": {
    "collapsed": true
   },
   "outputs": [],
   "source": [
    "property_id_VV = pd.read_excel('Results/GroupByPropertyID/2015/VV.xlsx')\n",
    "property_id_VV = property_id_VV.reset_index()\n",
    "property_id_VV = property_id_VV.sort_values(by = 'Booking_date', ascending=True)\n",
    "property_id_VV1 = property_id_VV.values.T.tolist()\n"
   ]
  },
  {
   "cell_type": "code",
   "execution_count": null,
   "metadata": {
    "collapsed": false
   },
   "outputs": [],
   "source": [
    "source = ColumnDataSource(\n",
    "        data=dict(\n",
    "            x=property_id_VV1[1],\n",
    "            y=property_id_VV1[4],\n",
    "            desc=property_id_VV1[3],\n",
    "            date=[x.strftime(\"%Y-%m-%d\") for x in property_id_VV['Booking_date']]\n",
    "        )\n",
    "    )\n",
    "\n",
    "hover = HoverTool(\n",
    "        tooltips=[\n",
    "            (\"Date\",\"@date\"),\n",
    "            (\"Event\", \"@desc\"),\n",
    "            (\"Total Revenue\",\"@y{1.11}\")\n",
    "        ]\n",
    "    )\n",
    "\n",
    "p = plt.figure(x_axis_type=\"datetime\",width=800, height=500, tools=[hover],\n",
    "           title=\"Graph of BookingDate vs TotalRevenue for VV (hover to view events)\",x_axis_label = \"Booking Date\",\n",
    "               y_axis_label = \"Total Revenue\")\n",
    "p.left[0].formatter.use_scientific = False\n",
    "p.line('x', 'y', line_width=2, source=source)   \n",
    "show(p)\n"
   ]
  },
  {
   "cell_type": "code",
   "execution_count": null,
   "metadata": {
    "collapsed": false
   },
   "outputs": [],
   "source": [
    "source = ColumnDataSource(\n",
    "        data=dict(\n",
    "            x=property_id_VV1[1],\n",
    "            y=property_id_VV1[6],\n",
    "            desc=property_id_VV1[3],\n",
    "            date=[x.strftime(\"%Y-%m-%d\") for x in property_id_VV['Booking_date']]\n",
    "        )\n",
    "    )\n",
    "\n",
    "hover = HoverTool(\n",
    "        tooltips=[\n",
    "            (\"Date\",\"@date\"),\n",
    "            (\"Event\", \"@desc\"),\n",
    "            (\"ADR\",\"@y{1.11}\")\n",
    "        ]\n",
    "    )\n",
    "\n",
    "p = plt.figure(x_axis_type=\"datetime\",width=800, height=500, tools=[hover],\n",
    "           title=\"Graph of Booking Date vs ADR for VV (hover to view events)\",x_axis_label = \"Booking Date\",\n",
    "               y_axis_label = \"ADR\")\n",
    "p.left[0].formatter.use_scientific = False\n",
    "p.line('x', 'y', line_width=2, source=source)   \n",
    "show(p)\n"
   ]
  },
  {
   "cell_type": "code",
   "execution_count": null,
   "metadata": {
    "collapsed": true
   },
   "outputs": [],
   "source": []
  }
 ],
 "metadata": {
  "anaconda-cloud": {},
  "kernelspec": {
   "display_name": "Python [default]",
   "language": "python",
   "name": "python3"
  },
  "language_info": {
   "codemirror_mode": {
    "name": "ipython",
    "version": 3
   },
   "file_extension": ".py",
   "mimetype": "text/x-python",
   "name": "python",
   "nbconvert_exporter": "python",
   "pygments_lexer": "ipython3",
   "version": "3.5.2"
  }
 },
 "nbformat": 4,
 "nbformat_minor": 1
}
