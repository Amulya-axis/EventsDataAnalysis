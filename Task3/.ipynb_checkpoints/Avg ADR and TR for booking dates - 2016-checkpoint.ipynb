{
 "cells": [
  {
   "cell_type": "code",
   "execution_count": 1,
   "metadata": {
    "collapsed": false
   },
   "outputs": [],
   "source": [
    "import pandas as pd\n",
    "import numpy as np\n",
    "\n",
    "data = pd.read_csv('Results/RequiredDataSet.csv',header=None, names=['Booking_date','channel','property_id','room_name','room_id','check_in','check_out','room_rate','booking_status'])\n",
    "# data"
   ]
  },
  {
   "cell_type": "code",
   "execution_count": 2,
   "metadata": {
    "collapsed": true
   },
   "outputs": [],
   "source": [
    "del data['check_in']\n",
    "del data['check_out']\n",
    "#data.head()"
   ]
  },
  {
   "cell_type": "code",
   "execution_count": 3,
   "metadata": {
    "collapsed": false
   },
   "outputs": [],
   "source": [
    "scrapyData = pd.read_csv('Results/eventData2016.csv',header=None, names=['Day','Booking_date','Event','HolidayIn'])\n",
    "scrapeResult = scrapyData.dropna()\n",
    "#scrapeResult.head()"
   ]
  },
  {
   "cell_type": "code",
   "execution_count": 4,
   "metadata": {
    "collapsed": false
   },
   "outputs": [],
   "source": [
    "pd.options.mode.chained_assignment = None  # default='warn'"
   ]
  },
  {
   "cell_type": "code",
   "execution_count": 5,
   "metadata": {
    "collapsed": false
   },
   "outputs": [],
   "source": [
    "scrapeResult['Booking_date'] =   '2016-' + scrapeResult['Booking_date'] \n",
    "# scrapeResult.head()"
   ]
  },
  {
   "cell_type": "code",
   "execution_count": 6,
   "metadata": {
    "collapsed": false
   },
   "outputs": [],
   "source": [
    "scrapeResult['Booking_date'] = pd.to_datetime(scrapeResult.Booking_date)\n",
    "# scrapeResult.head()\n"
   ]
  },
  {
   "cell_type": "code",
   "execution_count": 7,
   "metadata": {
    "collapsed": true
   },
   "outputs": [],
   "source": [
    "del scrapeResult['HolidayIn']\n",
    "del scrapeResult['Day']\n",
    "# scrapeResult.head()"
   ]
  },
  {
   "cell_type": "code",
   "execution_count": 8,
   "metadata": {
    "collapsed": false
   },
   "outputs": [],
   "source": [
    "newResults = data[(data.booking_status == 'COMPLETED') | (data.booking_status == 'CONFIRMED')]\n",
    "# newResults.head()"
   ]
  },
  {
   "cell_type": "code",
   "execution_count": 9,
   "metadata": {
    "collapsed": false
   },
   "outputs": [],
   "source": [
    "newResults = newResults[(newResults.Booking_date >= '2016-01-01') & (newResults.Booking_date <= '2016-12-31')]\n",
    "# newResults.head()"
   ]
  },
  {
   "cell_type": "code",
   "execution_count": 10,
   "metadata": {
    "collapsed": false
   },
   "outputs": [],
   "source": [
    "newResults['Booking_date'] = newResults['Booking_date'].str.extract('(....-..-..)', expand=True)\n",
    "# newResults['Booking_date'].head()"
   ]
  },
  {
   "cell_type": "code",
   "execution_count": 11,
   "metadata": {
    "collapsed": false
   },
   "outputs": [],
   "source": [
    "newResults['Booking_date'] = pd.to_datetime(newResults.Booking_date)\n"
   ]
  },
  {
   "cell_type": "code",
   "execution_count": 12,
   "metadata": {
    "collapsed": true
   },
   "outputs": [],
   "source": [
    "del newResults['channel']\n",
    "del newResults['room_name']\n",
    "del newResults['room_id']\n",
    "# newResults.head()"
   ]
  },
  {
   "cell_type": "code",
   "execution_count": 13,
   "metadata": {
    "collapsed": false
   },
   "outputs": [],
   "source": [
    "res = pd.merge(left=newResults, left_on='Booking_date',right=scrapeResult, right_on='Booking_date')"
   ]
  },
  {
   "cell_type": "code",
   "execution_count": 14,
   "metadata": {
    "collapsed": false
   },
   "outputs": [],
   "source": [
    "res = res.sort_values(by = 'Booking_date', ascending=True)\n",
    "res1 = res.drop_duplicates()\n",
    "res1 = res1.reset_index()\n",
    "del res1['index']\n",
    "# res1.head()"
   ]
  },
  {
   "cell_type": "code",
   "execution_count": 15,
   "metadata": {
    "collapsed": false
   },
   "outputs": [],
   "source": [
    "res1['totalRevenue'] = res1.groupby(['property_id','Booking_date'])['room_rate'].transform('sum')\n",
    "res2 = res1.drop_duplicates()\n",
    "# res2.head()"
   ]
  },
  {
   "cell_type": "code",
   "execution_count": 16,
   "metadata": {
    "collapsed": false
   },
   "outputs": [],
   "source": [
    "res1['room_count'] = res1.groupby(['property_id','Booking_date'])['room_rate'].transform('count')\n",
    "res3 = res1\n",
    "# res3.head()"
   ]
  },
  {
   "cell_type": "code",
   "execution_count": 17,
   "metadata": {
    "collapsed": false
   },
   "outputs": [],
   "source": [
    "res3['ADR'] = res3.apply(lambda res3: (res3['totalRevenue'] / res3['room_count'] ) , axis=1)\n",
    "# res3.head()"
   ]
  },
  {
   "cell_type": "code",
   "execution_count": 18,
   "metadata": {
    "collapsed": false
   },
   "outputs": [],
   "source": [
    "del res3['room_rate']\n",
    "del res3['booking_status']\n",
    "res3 = res3.drop_duplicates()\n",
    "# res3"
   ]
  },
  {
   "cell_type": "code",
   "execution_count": null,
   "metadata": {
    "collapsed": false
   },
   "outputs": [],
   "source": [
    "temp = res3['property_id'].unique()\n",
    "type(temp)"
   ]
  },
  {
   "cell_type": "code",
   "execution_count": null,
   "metadata": {
    "collapsed": false
   },
   "outputs": [],
   "source": [
    "for i in range(len(temp)):\n",
    "    property_id = res3[(res3.property_id == temp[i])]\n",
    "    property_id.to_excel('Results/GroupByPropertyID/2016/'+ temp[i] +'.xlsx')"
   ]
  },
  {
   "cell_type": "code",
   "execution_count": 19,
   "metadata": {
    "collapsed": false
   },
   "outputs": [
    {
     "data": {
      "text/html": [
       "\n",
       "    <div class=\"bk-root\">\n",
       "        <a href=\"http://bokeh.pydata.org\" target=\"_blank\" class=\"bk-logo bk-logo-small bk-logo-notebook\"></a>\n",
       "        <span id=\"1151e53b-5245-48a4-8182-12aa5541123e\">Loading BokehJS ...</span>\n",
       "    </div>"
      ]
     },
     "metadata": {},
     "output_type": "display_data"
    },
    {
     "data": {
      "application/javascript": [
       "\n",
       "(function(global) {\n",
       "  function now() {\n",
       "    return new Date();\n",
       "  }\n",
       "\n",
       "  var force = \"1\";\n",
       "\n",
       "  if (typeof (window._bokeh_onload_callbacks) === \"undefined\" || force !== \"\") {\n",
       "    window._bokeh_onload_callbacks = [];\n",
       "    window._bokeh_is_loading = undefined;\n",
       "  }\n",
       "\n",
       "\n",
       "  \n",
       "  if (typeof (window._bokeh_timeout) === \"undefined\" || force !== \"\") {\n",
       "    window._bokeh_timeout = Date.now() + 5000;\n",
       "    window._bokeh_failed_load = false;\n",
       "  }\n",
       "\n",
       "  var NB_LOAD_WARNING = {'data': {'text/html':\n",
       "     \"<div style='background-color: #fdd'>\\n\"+\n",
       "     \"<p>\\n\"+\n",
       "     \"BokehJS does not appear to have successfully loaded. If loading BokehJS from CDN, this \\n\"+\n",
       "     \"may be due to a slow or bad network connection. Possible fixes:\\n\"+\n",
       "     \"</p>\\n\"+\n",
       "     \"<ul>\\n\"+\n",
       "     \"<li>re-rerun `output_notebook()` to attempt to load from CDN again, or</li>\\n\"+\n",
       "     \"<li>use INLINE resources instead, as so:</li>\\n\"+\n",
       "     \"</ul>\\n\"+\n",
       "     \"<code>\\n\"+\n",
       "     \"from bokeh.resources import INLINE\\n\"+\n",
       "     \"output_notebook(resources=INLINE)\\n\"+\n",
       "     \"</code>\\n\"+\n",
       "     \"</div>\"}};\n",
       "\n",
       "  function display_loaded() {\n",
       "    if (window.Bokeh !== undefined) {\n",
       "      Bokeh.$(\"#1151e53b-5245-48a4-8182-12aa5541123e\").text(\"BokehJS successfully loaded.\");\n",
       "    } else if (Date.now() < window._bokeh_timeout) {\n",
       "      setTimeout(display_loaded, 100)\n",
       "    }\n",
       "  }\n",
       "\n",
       "  function run_callbacks() {\n",
       "    window._bokeh_onload_callbacks.forEach(function(callback) { callback() });\n",
       "    delete window._bokeh_onload_callbacks\n",
       "    console.info(\"Bokeh: all callbacks have finished\");\n",
       "  }\n",
       "\n",
       "  function load_libs(js_urls, callback) {\n",
       "    window._bokeh_onload_callbacks.push(callback);\n",
       "    if (window._bokeh_is_loading > 0) {\n",
       "      console.log(\"Bokeh: BokehJS is being loaded, scheduling callback at\", now());\n",
       "      return null;\n",
       "    }\n",
       "    if (js_urls == null || js_urls.length === 0) {\n",
       "      run_callbacks();\n",
       "      return null;\n",
       "    }\n",
       "    console.log(\"Bokeh: BokehJS not loaded, scheduling load and callback at\", now());\n",
       "    window._bokeh_is_loading = js_urls.length;\n",
       "    for (var i = 0; i < js_urls.length; i++) {\n",
       "      var url = js_urls[i];\n",
       "      var s = document.createElement('script');\n",
       "      s.src = url;\n",
       "      s.async = false;\n",
       "      s.onreadystatechange = s.onload = function() {\n",
       "        window._bokeh_is_loading--;\n",
       "        if (window._bokeh_is_loading === 0) {\n",
       "          console.log(\"Bokeh: all BokehJS libraries loaded\");\n",
       "          run_callbacks()\n",
       "        }\n",
       "      };\n",
       "      s.onerror = function() {\n",
       "        console.warn(\"failed to load library \" + url);\n",
       "      };\n",
       "      console.log(\"Bokeh: injecting script tag for BokehJS library: \", url);\n",
       "      document.getElementsByTagName(\"head\")[0].appendChild(s);\n",
       "    }\n",
       "  };var element = document.getElementById(\"1151e53b-5245-48a4-8182-12aa5541123e\");\n",
       "  if (element == null) {\n",
       "    console.log(\"Bokeh: ERROR: autoload.js configured with elementid '1151e53b-5245-48a4-8182-12aa5541123e' but no matching script tag was found. \")\n",
       "    return false;\n",
       "  }\n",
       "\n",
       "  var js_urls = ['https://cdn.pydata.org/bokeh/release/bokeh-0.12.2.min.js', 'https://cdn.pydata.org/bokeh/release/bokeh-widgets-0.12.2.min.js', 'https://cdn.pydata.org/bokeh/release/bokeh-compiler-0.12.2.min.js'];\n",
       "\n",
       "  var inline_js = [\n",
       "    function(Bokeh) {\n",
       "      Bokeh.set_log_level(\"info\");\n",
       "    },\n",
       "    \n",
       "    function(Bokeh) {\n",
       "      \n",
       "      Bokeh.$(\"#1151e53b-5245-48a4-8182-12aa5541123e\").text(\"BokehJS is loading...\");\n",
       "    },\n",
       "    function(Bokeh) {\n",
       "      console.log(\"Bokeh: injecting CSS: https://cdn.pydata.org/bokeh/release/bokeh-0.12.2.min.css\");\n",
       "      Bokeh.embed.inject_css(\"https://cdn.pydata.org/bokeh/release/bokeh-0.12.2.min.css\");\n",
       "      console.log(\"Bokeh: injecting CSS: https://cdn.pydata.org/bokeh/release/bokeh-widgets-0.12.2.min.css\");\n",
       "      Bokeh.embed.inject_css(\"https://cdn.pydata.org/bokeh/release/bokeh-widgets-0.12.2.min.css\");\n",
       "    }\n",
       "  ];\n",
       "\n",
       "  function run_inline_js() {\n",
       "    \n",
       "    if ((window.Bokeh !== undefined) || (force === \"1\")) {\n",
       "      for (var i = 0; i < inline_js.length; i++) {\n",
       "        inline_js[i](window.Bokeh);\n",
       "      }if (force === \"1\") {\n",
       "        display_loaded();\n",
       "      }} else if (Date.now() < window._bokeh_timeout) {\n",
       "      setTimeout(run_inline_js, 100);\n",
       "    } else if (!window._bokeh_failed_load) {\n",
       "      console.log(\"Bokeh: BokehJS failed to load within specified timeout.\");\n",
       "      window._bokeh_failed_load = true;\n",
       "    } else if (!force) {\n",
       "      var cell = $(\"#1151e53b-5245-48a4-8182-12aa5541123e\").parents('.cell').data().cell;\n",
       "      cell.output_area.append_execute_result(NB_LOAD_WARNING)\n",
       "    }\n",
       "\n",
       "  }\n",
       "\n",
       "  if (window._bokeh_is_loading === 0) {\n",
       "    console.log(\"Bokeh: BokehJS loaded, going straight to plotting\");\n",
       "    run_inline_js();\n",
       "  } else {\n",
       "    load_libs(js_urls, function() {\n",
       "      console.log(\"Bokeh: BokehJS plotting callback run at\", now());\n",
       "      run_inline_js();\n",
       "    });\n",
       "  }\n",
       "}(this));"
      ]
     },
     "metadata": {},
     "output_type": "display_data"
    }
   ],
   "source": [
    "# Our numerical workhorses\n",
    "import numpy as np\n",
    "import pandas as pd\n",
    "\n",
    "# Import Bokeh modules for interactive plotting\n",
    "import bokeh.charts\n",
    "import bokeh.charts.utils\n",
    "import bokeh.io\n",
    "import bokeh.models\n",
    "import bokeh.palettes\n",
    "import bokeh.plotting\n",
    "\n",
    "# Display graphics in this notebook\n",
    "bokeh.io.output_notebook()"
   ]
  },
  {
   "cell_type": "code",
   "execution_count": 20,
   "metadata": {
    "collapsed": true
   },
   "outputs": [],
   "source": [
    "import bokeh.plotting as plt\n",
    "from bokeh.plotting import figure, output_file, show, ColumnDataSource\n",
    "from bokeh.models import HoverTool\n",
    "from bokeh.models.formatters import DatetimeTickFormatter\n"
   ]
  },
  {
   "cell_type": "code",
   "execution_count": 26,
   "metadata": {
    "collapsed": true
   },
   "outputs": [],
   "source": [
    "property_id_BB = pd.read_excel('Results/GroupByPropertyID/2016/BB.xlsx')\n",
    "property_id_BB = property_id_BB.reset_index()\n",
    "property_id_BB = property_id_BB.sort_values(by = 'Booking_date', ascending=True)\n",
    "property_id_BB1 = property_id_BB.values.T.tolist()"
   ]
  },
  {
   "cell_type": "code",
   "execution_count": 22,
   "metadata": {
    "collapsed": false
   },
   "outputs": [
    {
     "data": {
      "text/plain": [
       "ADR    29666.701214\n",
       "dtype: float64"
      ]
     },
     "execution_count": 22,
     "metadata": {},
     "output_type": "execute_result"
    }
   ],
   "source": [
    "property_id_BB[['ADR']].mean()"
   ]
  },
  {
   "cell_type": "code",
   "execution_count": 23,
   "metadata": {
    "collapsed": false
   },
   "outputs": [
    {
     "data": {
      "text/plain": [
       "totalRevenue    191115.902688\n",
       "dtype: float64"
      ]
     },
     "execution_count": 23,
     "metadata": {},
     "output_type": "execute_result"
    }
   ],
   "source": [
    "property_id_BB[['totalRevenue']].mean()"
   ]
  },
  {
   "cell_type": "code",
   "execution_count": 27,
   "metadata": {
    "collapsed": false
   },
   "outputs": [
    {
     "data": {
      "text/plain": [
       "totalRevenue    17773778.95\n",
       "dtype: float64"
      ]
     },
     "execution_count": 27,
     "metadata": {},
     "output_type": "execute_result"
    }
   ],
   "source": [
    "property_id_BB[['totalRevenue']].sum()"
   ]
  },
  {
   "cell_type": "code",
   "execution_count": 24,
   "metadata": {
    "collapsed": false
   },
   "outputs": [
    {
     "data": {
      "text/html": [
       "\n",
       "\n",
       "    <div class=\"bk-root\">\n",
       "        <div class=\"plotdiv\" id=\"a8dcb118-b86c-477b-8124-8fb22948c0f0\"></div>\n",
       "    </div>\n",
       "<script type=\"text/javascript\">\n",
       "  \n",
       "  (function(global) {\n",
       "    function now() {\n",
       "      return new Date();\n",
       "    }\n",
       "  \n",
       "    var force = \"\";\n",
       "  \n",
       "    if (typeof (window._bokeh_onload_callbacks) === \"undefined\" || force !== \"\") {\n",
       "      window._bokeh_onload_callbacks = [];\n",
       "      window._bokeh_is_loading = undefined;\n",
       "    }\n",
       "  \n",
       "  \n",
       "    \n",
       "    if (typeof (window._bokeh_timeout) === \"undefined\" || force !== \"\") {\n",
       "      window._bokeh_timeout = Date.now() + 0;\n",
       "      window._bokeh_failed_load = false;\n",
       "    }\n",
       "  \n",
       "    var NB_LOAD_WARNING = {'data': {'text/html':\n",
       "       \"<div style='background-color: #fdd'>\\n\"+\n",
       "       \"<p>\\n\"+\n",
       "       \"BokehJS does not appear to have successfully loaded. If loading BokehJS from CDN, this \\n\"+\n",
       "       \"may be due to a slow or bad network connection. Possible fixes:\\n\"+\n",
       "       \"</p>\\n\"+\n",
       "       \"<ul>\\n\"+\n",
       "       \"<li>re-rerun `output_notebook()` to attempt to load from CDN again, or</li>\\n\"+\n",
       "       \"<li>use INLINE resources instead, as so:</li>\\n\"+\n",
       "       \"</ul>\\n\"+\n",
       "       \"<code>\\n\"+\n",
       "       \"from bokeh.resources import INLINE\\n\"+\n",
       "       \"output_notebook(resources=INLINE)\\n\"+\n",
       "       \"</code>\\n\"+\n",
       "       \"</div>\"}};\n",
       "  \n",
       "    function display_loaded() {\n",
       "      if (window.Bokeh !== undefined) {\n",
       "        Bokeh.$(\"#a8dcb118-b86c-477b-8124-8fb22948c0f0\").text(\"BokehJS successfully loaded.\");\n",
       "      } else if (Date.now() < window._bokeh_timeout) {\n",
       "        setTimeout(display_loaded, 100)\n",
       "      }\n",
       "    }\n",
       "  \n",
       "    function run_callbacks() {\n",
       "      window._bokeh_onload_callbacks.forEach(function(callback) { callback() });\n",
       "      delete window._bokeh_onload_callbacks\n",
       "      console.info(\"Bokeh: all callbacks have finished\");\n",
       "    }\n",
       "  \n",
       "    function load_libs(js_urls, callback) {\n",
       "      window._bokeh_onload_callbacks.push(callback);\n",
       "      if (window._bokeh_is_loading > 0) {\n",
       "        console.log(\"Bokeh: BokehJS is being loaded, scheduling callback at\", now());\n",
       "        return null;\n",
       "      }\n",
       "      if (js_urls == null || js_urls.length === 0) {\n",
       "        run_callbacks();\n",
       "        return null;\n",
       "      }\n",
       "      console.log(\"Bokeh: BokehJS not loaded, scheduling load and callback at\", now());\n",
       "      window._bokeh_is_loading = js_urls.length;\n",
       "      for (var i = 0; i < js_urls.length; i++) {\n",
       "        var url = js_urls[i];\n",
       "        var s = document.createElement('script');\n",
       "        s.src = url;\n",
       "        s.async = false;\n",
       "        s.onreadystatechange = s.onload = function() {\n",
       "          window._bokeh_is_loading--;\n",
       "          if (window._bokeh_is_loading === 0) {\n",
       "            console.log(\"Bokeh: all BokehJS libraries loaded\");\n",
       "            run_callbacks()\n",
       "          }\n",
       "        };\n",
       "        s.onerror = function() {\n",
       "          console.warn(\"failed to load library \" + url);\n",
       "        };\n",
       "        console.log(\"Bokeh: injecting script tag for BokehJS library: \", url);\n",
       "        document.getElementsByTagName(\"head\")[0].appendChild(s);\n",
       "      }\n",
       "    };var element = document.getElementById(\"a8dcb118-b86c-477b-8124-8fb22948c0f0\");\n",
       "    if (element == null) {\n",
       "      console.log(\"Bokeh: ERROR: autoload.js configured with elementid 'a8dcb118-b86c-477b-8124-8fb22948c0f0' but no matching script tag was found. \")\n",
       "      return false;\n",
       "    }\n",
       "  \n",
       "    var js_urls = [];\n",
       "  \n",
       "    var inline_js = [\n",
       "      function(Bokeh) {\n",
       "        Bokeh.$(function() {\n",
       "            var docs_json = {\"cd292ac9-a8a7-48f2-bdf4-00ffe5f4e054\":{\"roots\":{\"references\":[{\"attributes\":{\"callback\":null,\"column_names\":[\"date\",\"y\",\"x\",\"desc\"],\"data\":{\"date\":[\"2016-01-02\",\"2016-01-12\",\"2016-01-14\",\"2016-01-15\",\"2016-01-16\",\"2016-01-17\",\"2016-01-25\",\"2016-01-26\",\"2016-01-28\",\"2016-01-31\",\"2016-02-02\",\"2016-02-09\",\"2016-02-12\",\"2016-02-13\",\"2016-02-19\",\"2016-02-22\",\"2016-03-04\",\"2016-03-05\",\"2016-03-07\",\"2016-03-09\",\"2016-03-22\",\"2016-03-23\",\"2016-03-25\",\"2016-04-01\",\"2016-04-05\",\"2016-04-08\",\"2016-04-14\",\"2016-04-15\",\"2016-04-19\",\"2016-04-20\",\"2016-04-21\",\"2016-05-01\",\"2016-05-08\",\"2016-05-09\",\"2016-05-16\",\"2016-05-21\",\"2016-05-25\",\"2016-06-07\",\"2016-06-08\",\"2016-06-14\",\"2016-06-15\",\"2016-06-20\",\"2016-07-01\",\"2016-07-06\",\"2016-07-07\",\"2016-07-08\",\"2016-07-12\",\"2016-07-26\",\"2016-07-31\",\"2016-08-02\",\"2016-08-17\",\"2016-08-18\",\"2016-08-24\",\"2016-08-25\",\"2016-09-02\",\"2016-09-03\",\"2016-09-04\",\"2016-09-05\",\"2016-09-06\",\"2016-09-10\",\"2016-09-12\",\"2016-09-13\",\"2016-09-14\",\"2016-09-15\",\"2016-09-16\",\"2016-09-21\",\"2016-09-23\",\"2016-09-28\",\"2016-09-30\",\"2016-10-01\",\"2016-10-08\",\"2016-10-09\",\"2016-10-10\",\"2016-10-12\",\"2016-10-13\",\"2016-10-14\",\"2016-10-15\",\"2016-10-16\",\"2016-10-17\",\"2016-10-29\",\"2016-10-31\",\"2016-11-01\",\"2016-11-06\",\"2016-11-07\",\"2016-11-14\",\"2016-11-17\",\"2016-12-03\",\"2016-12-04\",\"2016-12-06\",\"2016-12-13\",\"2016-12-19\",\"2016-12-25\",\"2016-12-26\"],\"desc\":[\"Mannam Jayanthi\",\"Birthday of Swami Vivekananda\",\"Pongal\",\"Sankranti\",\"Guru Gobind Singh Jayanti\",\"Uzhavar Tirunal\",\"Statehood Day\",\"Republic Day\",\"Birthday of Lala Lajpat Rai\",\"Me-dam-me-phi\",\"Public Holiday\",\"Losar\",\"Vasant Panchami\",\"Sree Panchami\",\"Chhatrapati Shivaji Maharaj Jayanti\",\"Guru Ravidas Birthday\",\"Maharshi Dayanand Saraswati Jayanti\",\"Panchayati Raj Diwas\",\"Maha Shivratri\",\"Solar Eclipse\",\"Bihar Divas\",\"Doljatra\",\"Good Friday\",\"Odisha Day\",\"Babu Jagjivan Ram Birthday\",\"Ugadi\",\"Tamil New Year\",\"Ram Navami\",\"Mahavir Jayanti\",\"Garia Puja\",\"Hazrat Alis Birthday\",\"May Day\",\"Birthday of Rabindra Nath Tagore\",\"Parashurama Jayanti\",\"Public Holiday\",\"Buddha Purnima\",\"Birthday of Kazi Nazrul Islam\",\"Maharana Pratap Jayanti\",\"Guru Arjun Dev Martyrdom day\",\"Pahili Raja\",\"Raja Sankranti\",\"Sant Guru Kabir Jayanti\",\"Jumat-ul-Wida\",\"Idul Fitr\",\"Ramzan\",\"Ramzan\",\"Kharchi Puja\",\"Ker Puja\",\"Martyrdom Day of Shaheed Udham Singh\",\"Karkkadaka Vavu\",\"Parsi New Year\",\"Raksha Bandhan\",\"Sreekrishna Jayanthi\",\"Janmashtami\",\"Parkash Utsav Sri Guru Granth Sahib Ji\",\"Tithi of Shrimanta Shankar Dev\",\"Teej\",\"Ganesh Chaturthi\",\"Ganesh Chaturthi Holiday\",\"Birthday of Baba Sri Chand Ji\",\"Idul Juha\",\"First Onam\",\"Thiruvonam\",\"Third Onam\",\"Sree Narayana Guru Jayanti\",\"Sree Narayana Guru Samadhi\",\"Haryana's Heroes' Martyrdom Day\",\"Birthday of S. Bhagat Singh Ji\",\"Mahalaya\",\"Maharaja Agrasen Jayanati\",\"Panchami\",\"Durgastami\",\"Ayudha Puja\",\"Muharram (10th Day)\",\"Durga Puja Holiday\",\"Durga Puja Holiday\",\"Maharishi Valmiki Birthday\",\"Maharishi Valmiki Birthday\",\"Parkash Gurpurab of Sri Guru Ram Dass Ji\",\"Deepavali\",\"Deepavali\",\"Bhai Bij\",\"Chhath Puja\",\"Chhath Puja\",\"Guru Nanak Birthday\",\"Kanakadasa Jayanthi\",\"World Disabled Day\",\"Martyrdom Day of Sri Guru Teg Bahadur Ji\",\"Public Holiday\",\"Id-e-Milad\",\"Goa Liberation Day\",\"Christmas Day\",\"Shaheed Udham Singh's Birthday\"],\"x\":[1451692800000.0,1452556800000.0,1452729600000.0,1452816000000.0,1452902400000.0,1452988800000.0,1453680000000.0,1453766400000.0,1453939200000.0,1454198400000.0,1454371200000.0,1454976000000.0,1455235200000.0,1455321600000.0,1455840000000.0,1456099200000.0,1457049600000.0,1457136000000.0,1457308800000.0,1457481600000.0,1458604800000.0,1458691200000.0,1458864000000.0,1459468800000.0,1459814400000.0,1460073600000.0,1460592000000.0,1460678400000.0,1461024000000.0,1461110400000.0,1461196800000.0,1462060800000.0,1462665600000.0,1462752000000.0,1463356800000.0,1463788800000.0,1464134400000.0,1465257600000.0,1465344000000.0,1465862400000.0,1465948800000.0,1466380800000.0,1467331200000.0,1467763200000.0,1467849600000.0,1467936000000.0,1468281600000.0,1469491200000.0,1469923200000.0,1470096000000.0,1471392000000.0,1471478400000.0,1471996800000.0,1472083200000.0,1472774400000.0,1472860800000.0,1472947200000.0,1473033600000.0,1473120000000.0,1473465600000.0,1473638400000.0,1473724800000.0,1473811200000.0,1473897600000.0,1473984000000.0,1474416000000.0,1474588800000.0,1475020800000.0,1475193600000.0,1475280000000.0,1475884800000.0,1475971200000.0,1476057600000.0,1476230400000.0,1476316800000.0,1476403200000.0,1476489600000.0,1476576000000.0,1476662400000.0,1477699200000.0,1477872000000.0,1477958400000.0,1478390400000.0,1478476800000.0,1479081600000.0,1479340800000.0,1480723200000.0,1480809600000.0,1480982400000.0,1481587200000.0,1482105600000.0,1482624000000.0,1482710400000.0],\"y\":[176125.0,300531.0,174096.0,96000.0,159763.0,34300.0,152225.0,68100.0,184531.5,25400.0,247746.0,64893.0,197555.0,114656.0,577723.64,67440.0,324596.25,82340.0,149900.0,91470.0,384735.0,159057.5,82500.0,165442.5,248659.52,77024.0,149319.02,204141.0,328816.26,275550.0,53961.5,39414.0,155300.0,230608.75,333745.0,123565.0,9000.0,199412.5,271754.0,97005.0,314495.0,182911.94,323452.5,143505.0,331857.0,43740.0,37350.0,139887.5,159430.0,280495.0,296635.0,190310.0,149650.0,286891.25,351450.0,248874.26,10000.0,194155.0,383948.01,73225.0,138552.5,293228.52,114554.0,188265.0,78971.5,105150.0,275577.5,310237.5,216635.0,67775.0,80190.0,60805.0,162743.52,341535.0,287560.25,269456.0,226982.0,45577.5,332383.0,125300.0,169747.5,374570.5,0.0,196835.0,428894.5,273150.0,346413.26,61400.0,533510.0,467010.0,102505.0,16350.0,61250.0]}},\"id\":\"828a0158-a570-4534-bc9c-64dd82c6f422\",\"type\":\"ColumnDataSource\"},{\"attributes\":{\"plot\":{\"id\":\"d29589d5-3612-4b6f-bdf6-449dbd2c092d\",\"subtype\":\"Figure\",\"type\":\"Plot\"},\"ticker\":{\"id\":\"de5f8e1a-9acd-438e-b6f6-81e9e0a479e5\",\"type\":\"DatetimeTicker\"}},\"id\":\"a00a00be-cb55-4563-85a7-bbaea93d869f\",\"type\":\"Grid\"},{\"attributes\":{\"active_drag\":\"auto\",\"active_scroll\":\"auto\",\"active_tap\":\"auto\",\"tools\":[{\"id\":\"da0d8e8e-556f-4093-955f-eb9494b32919\",\"type\":\"HoverTool\"}]},\"id\":\"3cdb4142-d473-4602-885f-662104b1fdd0\",\"type\":\"Toolbar\"},{\"attributes\":{\"line_color\":{\"value\":\"#1f77b4\"},\"line_width\":{\"value\":2},\"x\":{\"field\":\"x\"},\"y\":{\"field\":\"y\"}},\"id\":\"5734119a-8b44-42c4-8ddd-d2bf96faf24e\",\"type\":\"Line\"},{\"attributes\":{\"use_scientific\":false},\"id\":\"5b2345ac-0c8c-426a-a052-c44a39f62d77\",\"type\":\"BasicTickFormatter\"},{\"attributes\":{\"months\":[0,2,4,6,8,10]},\"id\":\"ff977550-d744-41da-80e0-b70390399278\",\"type\":\"MonthsTicker\"},{\"attributes\":{\"callback\":null},\"id\":\"ab357ca9-a4b3-4bf6-b14c-7aaeef7f2631\",\"type\":\"DataRange1d\"},{\"attributes\":{},\"id\":\"540e2bfe-300f-4daa-b978-f05c4cd6067d\",\"type\":\"YearsTicker\"},{\"attributes\":{\"dimension\":1,\"plot\":{\"id\":\"d29589d5-3612-4b6f-bdf6-449dbd2c092d\",\"subtype\":\"Figure\",\"type\":\"Plot\"},\"ticker\":{\"id\":\"b4abf85e-732c-475a-af4e-c5481b560d12\",\"type\":\"BasicTicker\"}},\"id\":\"d507309c-c2f9-4ed8-a531-06a591ef1c4e\",\"type\":\"Grid\"},{\"attributes\":{\"base\":24,\"mantissas\":[1,2,4,6,8,12],\"max_interval\":43200000.0,\"min_interval\":3600000.0,\"num_minor_ticks\":0},\"id\":\"75e4bca0-14ef-4a21-83e6-dfaca7880a7f\",\"type\":\"AdaptiveTicker\"},{\"attributes\":{\"months\":[0,1,2,3,4,5,6,7,8,9,10,11]},\"id\":\"74ca1029-6435-435f-8f53-96f0d4ea77b5\",\"type\":\"MonthsTicker\"},{\"attributes\":{\"axis_label\":\"Total Revenue\",\"formatter\":{\"id\":\"5b2345ac-0c8c-426a-a052-c44a39f62d77\",\"type\":\"BasicTickFormatter\"},\"plot\":{\"id\":\"d29589d5-3612-4b6f-bdf6-449dbd2c092d\",\"subtype\":\"Figure\",\"type\":\"Plot\"},\"ticker\":{\"id\":\"b4abf85e-732c-475a-af4e-c5481b560d12\",\"type\":\"BasicTicker\"}},\"id\":\"a6f105ab-7001-44e8-aac9-752fa9c64882\",\"type\":\"LinearAxis\"},{\"attributes\":{\"days\":[1,4,7,10,13,16,19,22,25,28]},\"id\":\"15379e68-c98a-463a-b1ee-903d658629c2\",\"type\":\"DaysTicker\"},{\"attributes\":{\"callback\":null,\"plot\":{\"id\":\"d29589d5-3612-4b6f-bdf6-449dbd2c092d\",\"subtype\":\"Figure\",\"type\":\"Plot\"},\"tooltips\":[[\"Date\",\"@date\"],[\"Event\",\"@desc\"],[\"Total Revenue\",\"@y{1.11}\"]]},\"id\":\"da0d8e8e-556f-4093-955f-eb9494b32919\",\"type\":\"HoverTool\"},{\"attributes\":{\"line_alpha\":{\"value\":0.1},\"line_color\":{\"value\":\"#1f77b4\"},\"line_width\":{\"value\":2},\"x\":{\"field\":\"x\"},\"y\":{\"field\":\"y\"}},\"id\":\"1de03c6d-8763-4ce3-9c9f-ab52ccd41703\",\"type\":\"Line\"},{\"attributes\":{\"days\":[1,2,3,4,5,6,7,8,9,10,11,12,13,14,15,16,17,18,19,20,21,22,23,24,25,26,27,28,29,30,31]},\"id\":\"bc0e0c9c-d485-462d-b71b-60d9c61ce76f\",\"type\":\"DaysTicker\"},{\"attributes\":{\"below\":[{\"id\":\"d2547140-6369-43d6-9789-e474b2e97495\",\"type\":\"DatetimeAxis\"}],\"left\":[{\"id\":\"a6f105ab-7001-44e8-aac9-752fa9c64882\",\"type\":\"LinearAxis\"}],\"plot_height\":500,\"plot_width\":800,\"renderers\":[{\"id\":\"d2547140-6369-43d6-9789-e474b2e97495\",\"type\":\"DatetimeAxis\"},{\"id\":\"a00a00be-cb55-4563-85a7-bbaea93d869f\",\"type\":\"Grid\"},{\"id\":\"a6f105ab-7001-44e8-aac9-752fa9c64882\",\"type\":\"LinearAxis\"},{\"id\":\"d507309c-c2f9-4ed8-a531-06a591ef1c4e\",\"type\":\"Grid\"},{\"id\":\"50fb7535-a18e-4f63-9e3b-433f8ebc8dc5\",\"type\":\"GlyphRenderer\"}],\"title\":{\"id\":\"64bde0a3-56fa-4d12-a38b-725dc1ddf693\",\"type\":\"Title\"},\"tool_events\":{\"id\":\"722fa285-b0b5-4cdf-9995-f7a5b40e24ef\",\"type\":\"ToolEvents\"},\"toolbar\":{\"id\":\"3cdb4142-d473-4602-885f-662104b1fdd0\",\"type\":\"Toolbar\"},\"x_range\":{\"id\":\"dfa86110-2fc5-4076-a909-719cbf150d85\",\"type\":\"DataRange1d\"},\"y_range\":{\"id\":\"ab357ca9-a4b3-4bf6-b14c-7aaeef7f2631\",\"type\":\"DataRange1d\"}},\"id\":\"d29589d5-3612-4b6f-bdf6-449dbd2c092d\",\"subtype\":\"Figure\",\"type\":\"Plot\"},{\"attributes\":{},\"id\":\"722fa285-b0b5-4cdf-9995-f7a5b40e24ef\",\"type\":\"ToolEvents\"},{\"attributes\":{\"base\":60,\"mantissas\":[1,2,5,10,15,20,30],\"max_interval\":1800000.0,\"min_interval\":1000.0,\"num_minor_ticks\":0},\"id\":\"0c96e0b9-9a98-43fe-b4d5-403220b237ba\",\"type\":\"AdaptiveTicker\"},{\"attributes\":{\"max_interval\":500.0,\"num_minor_ticks\":0},\"id\":\"f723f76e-c5e3-49ec-bc43-a2d10e2c7f3f\",\"type\":\"AdaptiveTicker\"},{\"attributes\":{\"plot\":null,\"text\":\"Graph of BookingDate vs TotalRevenue for BB (hover to view events)\"},\"id\":\"64bde0a3-56fa-4d12-a38b-725dc1ddf693\",\"type\":\"Title\"},{\"attributes\":{\"days\":[1,8,15,22]},\"id\":\"9c818b18-3fdf-4733-99a9-2d788939f76c\",\"type\":\"DaysTicker\"},{\"attributes\":{\"axis_label\":\"Booking Date\",\"formatter\":{\"id\":\"5c409639-936b-452c-861d-55023f25e681\",\"type\":\"DatetimeTickFormatter\"},\"plot\":{\"id\":\"d29589d5-3612-4b6f-bdf6-449dbd2c092d\",\"subtype\":\"Figure\",\"type\":\"Plot\"},\"ticker\":{\"id\":\"de5f8e1a-9acd-438e-b6f6-81e9e0a479e5\",\"type\":\"DatetimeTicker\"}},\"id\":\"d2547140-6369-43d6-9789-e474b2e97495\",\"type\":\"DatetimeAxis\"},{\"attributes\":{\"num_minor_ticks\":5},\"id\":\"de5f8e1a-9acd-438e-b6f6-81e9e0a479e5\",\"type\":\"DatetimeTicker\"},{\"attributes\":{},\"id\":\"5c409639-936b-452c-861d-55023f25e681\",\"type\":\"DatetimeTickFormatter\"},{\"attributes\":{\"months\":[0,6]},\"id\":\"bab20e14-4cbc-4781-86cb-9b5c5be2381c\",\"type\":\"MonthsTicker\"},{\"attributes\":{},\"id\":\"b4abf85e-732c-475a-af4e-c5481b560d12\",\"type\":\"BasicTicker\"},{\"attributes\":{\"callback\":null},\"id\":\"dfa86110-2fc5-4076-a909-719cbf150d85\",\"type\":\"DataRange1d\"},{\"attributes\":{\"days\":[1,15]},\"id\":\"08d94051-effd-4179-a340-e8a8c5511a26\",\"type\":\"DaysTicker\"},{\"attributes\":{\"data_source\":{\"id\":\"828a0158-a570-4534-bc9c-64dd82c6f422\",\"type\":\"ColumnDataSource\"},\"glyph\":{\"id\":\"5734119a-8b44-42c4-8ddd-d2bf96faf24e\",\"type\":\"Line\"},\"hover_glyph\":null,\"nonselection_glyph\":{\"id\":\"1de03c6d-8763-4ce3-9c9f-ab52ccd41703\",\"type\":\"Line\"},\"selection_glyph\":null},\"id\":\"50fb7535-a18e-4f63-9e3b-433f8ebc8dc5\",\"type\":\"GlyphRenderer\"},{\"attributes\":{\"months\":[0,4,8]},\"id\":\"f42ace4c-c57e-4cc4-aa32-be2fb046aacc\",\"type\":\"MonthsTicker\"}],\"root_ids\":[\"d29589d5-3612-4b6f-bdf6-449dbd2c092d\"]},\"title\":\"Bokeh Application\",\"version\":\"0.12.2\"}};\n",
       "            var render_items = [{\"docid\":\"cd292ac9-a8a7-48f2-bdf4-00ffe5f4e054\",\"elementid\":\"a8dcb118-b86c-477b-8124-8fb22948c0f0\",\"modelid\":\"d29589d5-3612-4b6f-bdf6-449dbd2c092d\"}];\n",
       "            \n",
       "            Bokeh.embed.embed_items(docs_json, render_items);\n",
       "        });\n",
       "      },\n",
       "      function(Bokeh) {\n",
       "      }\n",
       "    ];\n",
       "  \n",
       "    function run_inline_js() {\n",
       "      \n",
       "      if ((window.Bokeh !== undefined) || (force === \"1\")) {\n",
       "        for (var i = 0; i < inline_js.length; i++) {\n",
       "          inline_js[i](window.Bokeh);\n",
       "        }if (force === \"1\") {\n",
       "          display_loaded();\n",
       "        }} else if (Date.now() < window._bokeh_timeout) {\n",
       "        setTimeout(run_inline_js, 100);\n",
       "      } else if (!window._bokeh_failed_load) {\n",
       "        console.log(\"Bokeh: BokehJS failed to load within specified timeout.\");\n",
       "        window._bokeh_failed_load = true;\n",
       "      } else if (!force) {\n",
       "        var cell = $(\"#a8dcb118-b86c-477b-8124-8fb22948c0f0\").parents('.cell').data().cell;\n",
       "        cell.output_area.append_execute_result(NB_LOAD_WARNING)\n",
       "      }\n",
       "  \n",
       "    }\n",
       "  \n",
       "    if (window._bokeh_is_loading === 0) {\n",
       "      console.log(\"Bokeh: BokehJS loaded, going straight to plotting\");\n",
       "      run_inline_js();\n",
       "    } else {\n",
       "      load_libs(js_urls, function() {\n",
       "        console.log(\"Bokeh: BokehJS plotting callback run at\", now());\n",
       "        run_inline_js();\n",
       "      });\n",
       "    }\n",
       "  }(this));\n",
       "</script>"
      ]
     },
     "metadata": {},
     "output_type": "display_data"
    }
   ],
   "source": [
    "source = ColumnDataSource(\n",
    "        data=dict(\n",
    "            x=property_id_BB1[1],\n",
    "            y=property_id_BB1[4],\n",
    "            desc=property_id_BB1[3],\n",
    "            date=[x.strftime(\"%Y-%m-%d\") for x in property_id_BB['Booking_date']]\n",
    "        )\n",
    "    )\n",
    "\n",
    "hover = HoverTool(\n",
    "        tooltips=[\n",
    "            (\"Date\",\"@date\"),\n",
    "            (\"Event\", \"@desc\"),\n",
    "            (\"Total Revenue\",\"@y{1.11}\")\n",
    "        ]\n",
    "    )\n",
    "\n",
    "p = plt.figure(x_axis_type=\"datetime\",width=800, height=500, tools=[hover],\n",
    "           title=\"Graph of BookingDate vs TotalRevenue for BB (hover to view events)\",x_axis_label = \"Booking Date\",\n",
    "               y_axis_label = \"Total Revenue\")\n",
    "p.left[0].formatter.use_scientific = False\n",
    "p.line('x', 'y', line_width=2, source=source)   \n",
    "show(p)"
   ]
  },
  {
   "cell_type": "code",
   "execution_count": 25,
   "metadata": {
    "collapsed": false
   },
   "outputs": [
    {
     "data": {
      "text/html": [
       "\n",
       "\n",
       "    <div class=\"bk-root\">\n",
       "        <div class=\"plotdiv\" id=\"34586cdf-78cd-4f21-b3fd-df8eafa9ec69\"></div>\n",
       "    </div>\n",
       "<script type=\"text/javascript\">\n",
       "  \n",
       "  (function(global) {\n",
       "    function now() {\n",
       "      return new Date();\n",
       "    }\n",
       "  \n",
       "    var force = \"\";\n",
       "  \n",
       "    if (typeof (window._bokeh_onload_callbacks) === \"undefined\" || force !== \"\") {\n",
       "      window._bokeh_onload_callbacks = [];\n",
       "      window._bokeh_is_loading = undefined;\n",
       "    }\n",
       "  \n",
       "  \n",
       "    \n",
       "    if (typeof (window._bokeh_timeout) === \"undefined\" || force !== \"\") {\n",
       "      window._bokeh_timeout = Date.now() + 0;\n",
       "      window._bokeh_failed_load = false;\n",
       "    }\n",
       "  \n",
       "    var NB_LOAD_WARNING = {'data': {'text/html':\n",
       "       \"<div style='background-color: #fdd'>\\n\"+\n",
       "       \"<p>\\n\"+\n",
       "       \"BokehJS does not appear to have successfully loaded. If loading BokehJS from CDN, this \\n\"+\n",
       "       \"may be due to a slow or bad network connection. Possible fixes:\\n\"+\n",
       "       \"</p>\\n\"+\n",
       "       \"<ul>\\n\"+\n",
       "       \"<li>re-rerun `output_notebook()` to attempt to load from CDN again, or</li>\\n\"+\n",
       "       \"<li>use INLINE resources instead, as so:</li>\\n\"+\n",
       "       \"</ul>\\n\"+\n",
       "       \"<code>\\n\"+\n",
       "       \"from bokeh.resources import INLINE\\n\"+\n",
       "       \"output_notebook(resources=INLINE)\\n\"+\n",
       "       \"</code>\\n\"+\n",
       "       \"</div>\"}};\n",
       "  \n",
       "    function display_loaded() {\n",
       "      if (window.Bokeh !== undefined) {\n",
       "        Bokeh.$(\"#34586cdf-78cd-4f21-b3fd-df8eafa9ec69\").text(\"BokehJS successfully loaded.\");\n",
       "      } else if (Date.now() < window._bokeh_timeout) {\n",
       "        setTimeout(display_loaded, 100)\n",
       "      }\n",
       "    }\n",
       "  \n",
       "    function run_callbacks() {\n",
       "      window._bokeh_onload_callbacks.forEach(function(callback) { callback() });\n",
       "      delete window._bokeh_onload_callbacks\n",
       "      console.info(\"Bokeh: all callbacks have finished\");\n",
       "    }\n",
       "  \n",
       "    function load_libs(js_urls, callback) {\n",
       "      window._bokeh_onload_callbacks.push(callback);\n",
       "      if (window._bokeh_is_loading > 0) {\n",
       "        console.log(\"Bokeh: BokehJS is being loaded, scheduling callback at\", now());\n",
       "        return null;\n",
       "      }\n",
       "      if (js_urls == null || js_urls.length === 0) {\n",
       "        run_callbacks();\n",
       "        return null;\n",
       "      }\n",
       "      console.log(\"Bokeh: BokehJS not loaded, scheduling load and callback at\", now());\n",
       "      window._bokeh_is_loading = js_urls.length;\n",
       "      for (var i = 0; i < js_urls.length; i++) {\n",
       "        var url = js_urls[i];\n",
       "        var s = document.createElement('script');\n",
       "        s.src = url;\n",
       "        s.async = false;\n",
       "        s.onreadystatechange = s.onload = function() {\n",
       "          window._bokeh_is_loading--;\n",
       "          if (window._bokeh_is_loading === 0) {\n",
       "            console.log(\"Bokeh: all BokehJS libraries loaded\");\n",
       "            run_callbacks()\n",
       "          }\n",
       "        };\n",
       "        s.onerror = function() {\n",
       "          console.warn(\"failed to load library \" + url);\n",
       "        };\n",
       "        console.log(\"Bokeh: injecting script tag for BokehJS library: \", url);\n",
       "        document.getElementsByTagName(\"head\")[0].appendChild(s);\n",
       "      }\n",
       "    };var element = document.getElementById(\"34586cdf-78cd-4f21-b3fd-df8eafa9ec69\");\n",
       "    if (element == null) {\n",
       "      console.log(\"Bokeh: ERROR: autoload.js configured with elementid '34586cdf-78cd-4f21-b3fd-df8eafa9ec69' but no matching script tag was found. \")\n",
       "      return false;\n",
       "    }\n",
       "  \n",
       "    var js_urls = [];\n",
       "  \n",
       "    var inline_js = [\n",
       "      function(Bokeh) {\n",
       "        Bokeh.$(function() {\n",
       "            var docs_json = {\"f6051fff-660d-46c3-b4c5-9ba9221a6ba8\":{\"roots\":{\"references\":[{\"attributes\":{\"line_alpha\":{\"value\":0.1},\"line_color\":{\"value\":\"#1f77b4\"},\"line_width\":{\"value\":2},\"x\":{\"field\":\"x\"},\"y\":{\"field\":\"y\"}},\"id\":\"516b484c-f93a-4738-9b6e-6eba93518ef5\",\"type\":\"Line\"},{\"attributes\":{\"months\":[0,4,8]},\"id\":\"114507d3-a271-46ec-bf3c-657a690cf111\",\"type\":\"MonthsTicker\"},{\"attributes\":{\"months\":[0,2,4,6,8,10]},\"id\":\"d31e4883-0a55-49f1-b4b9-a255bbe1093d\",\"type\":\"MonthsTicker\"},{\"attributes\":{\"callback\":null},\"id\":\"9fa1ed50-2d83-4782-97fd-2d4f811daffe\",\"type\":\"DataRange1d\"},{\"attributes\":{\"months\":[0,6]},\"id\":\"52400a23-3480-461d-ba32-7bbe57907c53\",\"type\":\"MonthsTicker\"},{\"attributes\":{},\"id\":\"eb59ed76-04bb-4688-9120-443eadd83c52\",\"type\":\"BasicTicker\"},{\"attributes\":{\"axis_label\":\"ADR\",\"formatter\":{\"id\":\"0f34f1ab-2ac6-429c-8186-53bdb1573c07\",\"type\":\"BasicTickFormatter\"},\"plot\":{\"id\":\"79f3cf2d-7066-4386-bb79-f00cab1a31b9\",\"subtype\":\"Figure\",\"type\":\"Plot\"},\"ticker\":{\"id\":\"eb59ed76-04bb-4688-9120-443eadd83c52\",\"type\":\"BasicTicker\"}},\"id\":\"d4487db8-1c3c-418a-954c-edafe3934192\",\"type\":\"LinearAxis\"},{\"attributes\":{\"plot\":null,\"text\":\"Graph of Booking Date vs ADR for BB (hover to view events)\"},\"id\":\"af75bed7-aade-47a2-95ba-15ddc9764777\",\"type\":\"Title\"},{\"attributes\":{\"days\":[1,8,15,22]},\"id\":\"2b0c18fc-c8ff-4eed-975c-0f2ef314a049\",\"type\":\"DaysTicker\"},{\"attributes\":{\"callback\":null,\"plot\":{\"id\":\"79f3cf2d-7066-4386-bb79-f00cab1a31b9\",\"subtype\":\"Figure\",\"type\":\"Plot\"},\"tooltips\":[[\"Date\",\"@date\"],[\"Event\",\"@desc\"],[\"ADR\",\"@y{1.11}\"]]},\"id\":\"82c8aaa8-f80d-4455-a3aa-f4840537ee9b\",\"type\":\"HoverTool\"},{\"attributes\":{\"days\":[1,15]},\"id\":\"a213aa01-b51b-45ea-a398-8f0a2dc3f74f\",\"type\":\"DaysTicker\"},{\"attributes\":{\"num_minor_ticks\":5},\"id\":\"09b33fdb-c151-4eff-8ea5-2a06b11a836a\",\"type\":\"DatetimeTicker\"},{\"attributes\":{\"data_source\":{\"id\":\"f16c7187-f5b5-4bb8-b9d6-43be45cb0c91\",\"type\":\"ColumnDataSource\"},\"glyph\":{\"id\":\"968533e8-ee22-4bf0-b3a1-56667a5ee0fe\",\"type\":\"Line\"},\"hover_glyph\":null,\"nonselection_glyph\":{\"id\":\"516b484c-f93a-4738-9b6e-6eba93518ef5\",\"type\":\"Line\"},\"selection_glyph\":null},\"id\":\"9d48b254-cf37-4782-b24e-dd19af558a1f\",\"type\":\"GlyphRenderer\"},{\"attributes\":{},\"id\":\"7e42cc14-9865-4308-a79b-c9aab31a70ba\",\"type\":\"DatetimeTickFormatter\"},{\"attributes\":{},\"id\":\"b9a6265f-dedd-4809-8888-83bbea0c698e\",\"type\":\"YearsTicker\"},{\"attributes\":{\"base\":60,\"mantissas\":[1,2,5,10,15,20,30],\"max_interval\":1800000.0,\"min_interval\":1000.0,\"num_minor_ticks\":0},\"id\":\"7eb6da44-a48c-4d9f-b426-fa5509c85ff9\",\"type\":\"AdaptiveTicker\"},{\"attributes\":{\"axis_label\":\"Booking Date\",\"formatter\":{\"id\":\"7e42cc14-9865-4308-a79b-c9aab31a70ba\",\"type\":\"DatetimeTickFormatter\"},\"plot\":{\"id\":\"79f3cf2d-7066-4386-bb79-f00cab1a31b9\",\"subtype\":\"Figure\",\"type\":\"Plot\"},\"ticker\":{\"id\":\"09b33fdb-c151-4eff-8ea5-2a06b11a836a\",\"type\":\"DatetimeTicker\"}},\"id\":\"a31f1a9c-240f-4d3f-9b47-97b18ba4f03f\",\"type\":\"DatetimeAxis\"},{\"attributes\":{\"line_color\":{\"value\":\"#1f77b4\"},\"line_width\":{\"value\":2},\"x\":{\"field\":\"x\"},\"y\":{\"field\":\"y\"}},\"id\":\"968533e8-ee22-4bf0-b3a1-56667a5ee0fe\",\"type\":\"Line\"},{\"attributes\":{\"max_interval\":500.0,\"num_minor_ticks\":0},\"id\":\"26f16a2e-59f5-4a49-8ff5-23ea8fe87cfa\",\"type\":\"AdaptiveTicker\"},{\"attributes\":{\"callback\":null},\"id\":\"aaa61fe5-a8bb-4a3c-99b2-d362c023da28\",\"type\":\"DataRange1d\"},{\"attributes\":{\"below\":[{\"id\":\"a31f1a9c-240f-4d3f-9b47-97b18ba4f03f\",\"type\":\"DatetimeAxis\"}],\"left\":[{\"id\":\"d4487db8-1c3c-418a-954c-edafe3934192\",\"type\":\"LinearAxis\"}],\"plot_height\":500,\"plot_width\":800,\"renderers\":[{\"id\":\"a31f1a9c-240f-4d3f-9b47-97b18ba4f03f\",\"type\":\"DatetimeAxis\"},{\"id\":\"4a695590-383a-42cd-ab9a-7d71b3819edd\",\"type\":\"Grid\"},{\"id\":\"d4487db8-1c3c-418a-954c-edafe3934192\",\"type\":\"LinearAxis\"},{\"id\":\"82c3f36d-59b1-4121-902b-1a42302b3ad7\",\"type\":\"Grid\"},{\"id\":\"9d48b254-cf37-4782-b24e-dd19af558a1f\",\"type\":\"GlyphRenderer\"}],\"title\":{\"id\":\"af75bed7-aade-47a2-95ba-15ddc9764777\",\"type\":\"Title\"},\"tool_events\":{\"id\":\"255af928-0919-411f-b795-9e5912b8921c\",\"type\":\"ToolEvents\"},\"toolbar\":{\"id\":\"23d7c52a-41d9-4947-824b-f7a59b350837\",\"type\":\"Toolbar\"},\"x_range\":{\"id\":\"aaa61fe5-a8bb-4a3c-99b2-d362c023da28\",\"type\":\"DataRange1d\"},\"y_range\":{\"id\":\"9fa1ed50-2d83-4782-97fd-2d4f811daffe\",\"type\":\"DataRange1d\"}},\"id\":\"79f3cf2d-7066-4386-bb79-f00cab1a31b9\",\"subtype\":\"Figure\",\"type\":\"Plot\"},{\"attributes\":{},\"id\":\"255af928-0919-411f-b795-9e5912b8921c\",\"type\":\"ToolEvents\"},{\"attributes\":{\"active_drag\":\"auto\",\"active_scroll\":\"auto\",\"active_tap\":\"auto\",\"tools\":[{\"id\":\"82c8aaa8-f80d-4455-a3aa-f4840537ee9b\",\"type\":\"HoverTool\"}]},\"id\":\"23d7c52a-41d9-4947-824b-f7a59b350837\",\"type\":\"Toolbar\"},{\"attributes\":{\"callback\":null,\"column_names\":[\"date\",\"y\",\"x\",\"desc\"],\"data\":{\"date\":[\"2016-01-02\",\"2016-01-12\",\"2016-01-14\",\"2016-01-15\",\"2016-01-16\",\"2016-01-17\",\"2016-01-25\",\"2016-01-26\",\"2016-01-28\",\"2016-01-31\",\"2016-02-02\",\"2016-02-09\",\"2016-02-12\",\"2016-02-13\",\"2016-02-19\",\"2016-02-22\",\"2016-03-04\",\"2016-03-05\",\"2016-03-07\",\"2016-03-09\",\"2016-03-22\",\"2016-03-23\",\"2016-03-25\",\"2016-04-01\",\"2016-04-05\",\"2016-04-08\",\"2016-04-14\",\"2016-04-15\",\"2016-04-19\",\"2016-04-20\",\"2016-04-21\",\"2016-05-01\",\"2016-05-08\",\"2016-05-09\",\"2016-05-16\",\"2016-05-21\",\"2016-05-25\",\"2016-06-07\",\"2016-06-08\",\"2016-06-14\",\"2016-06-15\",\"2016-06-20\",\"2016-07-01\",\"2016-07-06\",\"2016-07-07\",\"2016-07-08\",\"2016-07-12\",\"2016-07-26\",\"2016-07-31\",\"2016-08-02\",\"2016-08-17\",\"2016-08-18\",\"2016-08-24\",\"2016-08-25\",\"2016-09-02\",\"2016-09-03\",\"2016-09-04\",\"2016-09-05\",\"2016-09-06\",\"2016-09-10\",\"2016-09-12\",\"2016-09-13\",\"2016-09-14\",\"2016-09-15\",\"2016-09-16\",\"2016-09-21\",\"2016-09-23\",\"2016-09-28\",\"2016-09-30\",\"2016-10-01\",\"2016-10-08\",\"2016-10-09\",\"2016-10-10\",\"2016-10-12\",\"2016-10-13\",\"2016-10-14\",\"2016-10-15\",\"2016-10-16\",\"2016-10-17\",\"2016-10-29\",\"2016-10-31\",\"2016-11-01\",\"2016-11-06\",\"2016-11-07\",\"2016-11-14\",\"2016-11-17\",\"2016-12-03\",\"2016-12-04\",\"2016-12-06\",\"2016-12-13\",\"2016-12-19\",\"2016-12-25\",\"2016-12-26\"],\"desc\":[\"Mannam Jayanthi\",\"Birthday of Swami Vivekananda\",\"Pongal\",\"Sankranti\",\"Guru Gobind Singh Jayanti\",\"Uzhavar Tirunal\",\"Statehood Day\",\"Republic Day\",\"Birthday of Lala Lajpat Rai\",\"Me-dam-me-phi\",\"Public Holiday\",\"Losar\",\"Vasant Panchami\",\"Sree Panchami\",\"Chhatrapati Shivaji Maharaj Jayanti\",\"Guru Ravidas Birthday\",\"Maharshi Dayanand Saraswati Jayanti\",\"Panchayati Raj Diwas\",\"Maha Shivratri\",\"Solar Eclipse\",\"Bihar Divas\",\"Doljatra\",\"Good Friday\",\"Odisha Day\",\"Babu Jagjivan Ram Birthday\",\"Ugadi\",\"Tamil New Year\",\"Ram Navami\",\"Mahavir Jayanti\",\"Garia Puja\",\"Hazrat Alis Birthday\",\"May Day\",\"Birthday of Rabindra Nath Tagore\",\"Parashurama Jayanti\",\"Public Holiday\",\"Buddha Purnima\",\"Birthday of Kazi Nazrul Islam\",\"Maharana Pratap Jayanti\",\"Guru Arjun Dev Martyrdom day\",\"Pahili Raja\",\"Raja Sankranti\",\"Sant Guru Kabir Jayanti\",\"Jumat-ul-Wida\",\"Idul Fitr\",\"Ramzan\",\"Ramzan\",\"Kharchi Puja\",\"Ker Puja\",\"Martyrdom Day of Shaheed Udham Singh\",\"Karkkadaka Vavu\",\"Parsi New Year\",\"Raksha Bandhan\",\"Sreekrishna Jayanthi\",\"Janmashtami\",\"Parkash Utsav Sri Guru Granth Sahib Ji\",\"Tithi of Shrimanta Shankar Dev\",\"Teej\",\"Ganesh Chaturthi\",\"Ganesh Chaturthi Holiday\",\"Birthday of Baba Sri Chand Ji\",\"Idul Juha\",\"First Onam\",\"Thiruvonam\",\"Third Onam\",\"Sree Narayana Guru Jayanti\",\"Sree Narayana Guru Samadhi\",\"Haryana's Heroes' Martyrdom Day\",\"Birthday of S. Bhagat Singh Ji\",\"Mahalaya\",\"Maharaja Agrasen Jayanati\",\"Panchami\",\"Durgastami\",\"Ayudha Puja\",\"Muharram (10th Day)\",\"Durga Puja Holiday\",\"Durga Puja Holiday\",\"Maharishi Valmiki Birthday\",\"Maharishi Valmiki Birthday\",\"Parkash Gurpurab of Sri Guru Ram Dass Ji\",\"Deepavali\",\"Deepavali\",\"Bhai Bij\",\"Chhath Puja\",\"Chhath Puja\",\"Guru Nanak Birthday\",\"Kanakadasa Jayanthi\",\"World Disabled Day\",\"Martyrdom Day of Sri Guru Teg Bahadur Ji\",\"Public Holiday\",\"Id-e-Milad\",\"Goa Liberation Day\",\"Christmas Day\",\"Shaheed Udham Singh's Birthday\"],\"x\":[1451692800000.0,1452556800000.0,1452729600000.0,1452816000000.0,1452902400000.0,1452988800000.0,1453680000000.0,1453766400000.0,1453939200000.0,1454198400000.0,1454371200000.0,1454976000000.0,1455235200000.0,1455321600000.0,1455840000000.0,1456099200000.0,1457049600000.0,1457136000000.0,1457308800000.0,1457481600000.0,1458604800000.0,1458691200000.0,1458864000000.0,1459468800000.0,1459814400000.0,1460073600000.0,1460592000000.0,1460678400000.0,1461024000000.0,1461110400000.0,1461196800000.0,1462060800000.0,1462665600000.0,1462752000000.0,1463356800000.0,1463788800000.0,1464134400000.0,1465257600000.0,1465344000000.0,1465862400000.0,1465948800000.0,1466380800000.0,1467331200000.0,1467763200000.0,1467849600000.0,1467936000000.0,1468281600000.0,1469491200000.0,1469923200000.0,1470096000000.0,1471392000000.0,1471478400000.0,1471996800000.0,1472083200000.0,1472774400000.0,1472860800000.0,1472947200000.0,1473033600000.0,1473120000000.0,1473465600000.0,1473638400000.0,1473724800000.0,1473811200000.0,1473897600000.0,1473984000000.0,1474416000000.0,1474588800000.0,1475020800000.0,1475193600000.0,1475280000000.0,1475884800000.0,1475971200000.0,1476057600000.0,1476230400000.0,1476316800000.0,1476403200000.0,1476489600000.0,1476576000000.0,1476662400000.0,1477699200000.0,1477872000000.0,1477958400000.0,1478390400000.0,1478476800000.0,1479081600000.0,1479340800000.0,1480723200000.0,1480809600000.0,1480982400000.0,1481587200000.0,1482105600000.0,1482624000000.0,1482710400000.0],\"y\":[58708.33333333334,37566.375,34819.2,32000.0,26627.16666666667,17150.0,25370.83333333333,34050.0,26361.64285714286,25400.0,49549.2,32446.5,32925.83333333334,38218.66666666666,48143.63666666667,16860.0,40574.53125,41170.0,29980.0,18294.0,32061.25,31811.5,20625.0,41360.625,31082.44,25674.66666666667,18664.8775,29163.0,32881.626,45925.0,10792.3,13138.0,51766.66666666666,23060.875,37082.77777777778,17652.14285714286,4500.0,19941.25,18116.93333333333,16167.5,24191.92307692308,16628.35818181818,23103.75,35876.25,22123.8,21870.0,9337.5,23314.58333333333,39857.5,17530.9375,29663.5,21145.55555555555,21378.57142857143,28689.125,23430.0,35553.46571428572,10000.0,27736.42857142857,29534.46230769231,24408.33333333333,23092.08333333333,29322.852,19092.33333333333,31377.5,39485.75,35050.0,30619.72222222222,34470.83333333334,27079.375,33887.5,40095.0,20268.33333333333,23249.07428571428,37948.33333333334,35945.03125,38493.71428571428,37830.33333333334,22788.75,47483.28571428572,31325.0,33949.5,37457.05,0.0,39367.0,53611.8125,34143.75,34641.326,61400.0,48500.90909090909,46701.0,20501.0,16350.0,20416.66666666667]}},\"id\":\"f16c7187-f5b5-4bb8-b9d6-43be45cb0c91\",\"type\":\"ColumnDataSource\"},{\"attributes\":{\"dimension\":1,\"plot\":{\"id\":\"79f3cf2d-7066-4386-bb79-f00cab1a31b9\",\"subtype\":\"Figure\",\"type\":\"Plot\"},\"ticker\":{\"id\":\"eb59ed76-04bb-4688-9120-443eadd83c52\",\"type\":\"BasicTicker\"}},\"id\":\"82c3f36d-59b1-4121-902b-1a42302b3ad7\",\"type\":\"Grid\"},{\"attributes\":{\"use_scientific\":false},\"id\":\"0f34f1ab-2ac6-429c-8186-53bdb1573c07\",\"type\":\"BasicTickFormatter\"},{\"attributes\":{\"plot\":{\"id\":\"79f3cf2d-7066-4386-bb79-f00cab1a31b9\",\"subtype\":\"Figure\",\"type\":\"Plot\"},\"ticker\":{\"id\":\"09b33fdb-c151-4eff-8ea5-2a06b11a836a\",\"type\":\"DatetimeTicker\"}},\"id\":\"4a695590-383a-42cd-ab9a-7d71b3819edd\",\"type\":\"Grid\"},{\"attributes\":{\"base\":24,\"mantissas\":[1,2,4,6,8,12],\"max_interval\":43200000.0,\"min_interval\":3600000.0,\"num_minor_ticks\":0},\"id\":\"b57ea837-dcf4-4afa-8011-7a42cf636d7a\",\"type\":\"AdaptiveTicker\"},{\"attributes\":{\"months\":[0,1,2,3,4,5,6,7,8,9,10,11]},\"id\":\"a0625dad-6905-40f5-bff0-ff5f1f1644b7\",\"type\":\"MonthsTicker\"},{\"attributes\":{\"days\":[1,4,7,10,13,16,19,22,25,28]},\"id\":\"0df3c799-ba95-4191-b827-cd4f9979d77f\",\"type\":\"DaysTicker\"},{\"attributes\":{\"days\":[1,2,3,4,5,6,7,8,9,10,11,12,13,14,15,16,17,18,19,20,21,22,23,24,25,26,27,28,29,30,31]},\"id\":\"18c4a49c-c2cc-43d3-8e6a-fc26a4d88040\",\"type\":\"DaysTicker\"}],\"root_ids\":[\"79f3cf2d-7066-4386-bb79-f00cab1a31b9\"]},\"title\":\"Bokeh Application\",\"version\":\"0.12.2\"}};\n",
       "            var render_items = [{\"docid\":\"f6051fff-660d-46c3-b4c5-9ba9221a6ba8\",\"elementid\":\"34586cdf-78cd-4f21-b3fd-df8eafa9ec69\",\"modelid\":\"79f3cf2d-7066-4386-bb79-f00cab1a31b9\"}];\n",
       "            \n",
       "            Bokeh.embed.embed_items(docs_json, render_items);\n",
       "        });\n",
       "      },\n",
       "      function(Bokeh) {\n",
       "      }\n",
       "    ];\n",
       "  \n",
       "    function run_inline_js() {\n",
       "      \n",
       "      if ((window.Bokeh !== undefined) || (force === \"1\")) {\n",
       "        for (var i = 0; i < inline_js.length; i++) {\n",
       "          inline_js[i](window.Bokeh);\n",
       "        }if (force === \"1\") {\n",
       "          display_loaded();\n",
       "        }} else if (Date.now() < window._bokeh_timeout) {\n",
       "        setTimeout(run_inline_js, 100);\n",
       "      } else if (!window._bokeh_failed_load) {\n",
       "        console.log(\"Bokeh: BokehJS failed to load within specified timeout.\");\n",
       "        window._bokeh_failed_load = true;\n",
       "      } else if (!force) {\n",
       "        var cell = $(\"#34586cdf-78cd-4f21-b3fd-df8eafa9ec69\").parents('.cell').data().cell;\n",
       "        cell.output_area.append_execute_result(NB_LOAD_WARNING)\n",
       "      }\n",
       "  \n",
       "    }\n",
       "  \n",
       "    if (window._bokeh_is_loading === 0) {\n",
       "      console.log(\"Bokeh: BokehJS loaded, going straight to plotting\");\n",
       "      run_inline_js();\n",
       "    } else {\n",
       "      load_libs(js_urls, function() {\n",
       "        console.log(\"Bokeh: BokehJS plotting callback run at\", now());\n",
       "        run_inline_js();\n",
       "      });\n",
       "    }\n",
       "  }(this));\n",
       "</script>"
      ]
     },
     "metadata": {},
     "output_type": "display_data"
    }
   ],
   "source": [
    "source = ColumnDataSource(\n",
    "        data=dict(\n",
    "            x=property_id_BB1[1],\n",
    "            y=property_id_BB1[6],\n",
    "            desc=property_id_BB1[3],\n",
    "            date=[x.strftime(\"%Y-%m-%d\") for x in property_id_BB['Booking_date']]\n",
    "        )\n",
    "    )\n",
    "\n",
    "hover = HoverTool(\n",
    "        tooltips=[\n",
    "            (\"Date\",\"@date\"),\n",
    "            (\"Event\", \"@desc\"),\n",
    "            (\"ADR\",\"@y{1.11}\")\n",
    "        ]\n",
    "    )\n",
    "\n",
    "p = plt.figure(x_axis_type=\"datetime\",width=800, height=500, tools=[hover],\n",
    "           title=\"Graph of Booking Date vs ADR for BB (hover to view events)\",x_axis_label = \"Booking Date\",\n",
    "               y_axis_label = \"ADR\")\n",
    "p.left[0].formatter.use_scientific = False\n",
    "p.line('x', 'y', line_width=2, source=source)   \n",
    "show(p)"
   ]
  },
  {
   "cell_type": "code",
   "execution_count": null,
   "metadata": {
    "collapsed": true
   },
   "outputs": [],
   "source": []
  },
  {
   "cell_type": "code",
   "execution_count": null,
   "metadata": {
    "collapsed": true
   },
   "outputs": [],
   "source": [
    "property_id_BG = pd.read_excel('Results/GroupByPropertyID/2016/BG.xlsx')\n",
    "property_id_BG = property_id_BG.reset_index()\n",
    "property_id_BG = property_id_BG.sort_values(by = 'Booking_date', ascending=True)\n",
    "property_id_BG1 = property_id_BG.values.T.tolist()"
   ]
  },
  {
   "cell_type": "code",
   "execution_count": null,
   "metadata": {
    "collapsed": false
   },
   "outputs": [],
   "source": [
    "source = ColumnDataSource(\n",
    "        data=dict(\n",
    "            x=property_id_BG1[1],\n",
    "            y=property_id_BG1[4],\n",
    "            desc=property_id_BG1[3],\n",
    "            date=[x.strftime(\"%Y-%m-%d\") for x in property_id_BG['Booking_date']]\n",
    "        )\n",
    "    )\n",
    "\n",
    "hover = HoverTool(\n",
    "        tooltips=[\n",
    "            (\"Date\",\"@date\"),\n",
    "            (\"Event\", \"@desc\"),\n",
    "            (\"Total Revenue\",\"@y{1.11}\")\n",
    "        ]\n",
    "    )\n",
    "\n",
    "p = plt.figure(x_axis_type=\"datetime\",width=800, height=500, tools=[hover],\n",
    "           title=\"Graph of BookingDate vs TotalRevenue for BG (hover to view events)\",x_axis_label = \"Booking Date\",\n",
    "               y_axis_label = \"Total Revenue\")\n",
    "p.left[0].formatter.use_scientific = False\n",
    "p.line('x', 'y', line_width=2, source=source)   \n",
    "show(p)\n"
   ]
  },
  {
   "cell_type": "code",
   "execution_count": null,
   "metadata": {
    "collapsed": false
   },
   "outputs": [],
   "source": [
    "source = ColumnDataSource(\n",
    "        data=dict(\n",
    "            x=property_id_BG1[1],\n",
    "            y=property_id_BG1[6],\n",
    "            desc=property_id_BG1[3],\n",
    "            date=[x.strftime(\"%Y-%m-%d\") for x in property_id_BG['Booking_date']]\n",
    "        )\n",
    "    )\n",
    "\n",
    "hover = HoverTool(\n",
    "        tooltips=[\n",
    "            (\"Date\",\"@date\"),\n",
    "            (\"Event\", \"@desc\"),\n",
    "            (\"ADR\",\"@y{1.11}\")\n",
    "        ]\n",
    "    )\n",
    "\n",
    "p = plt.figure(x_axis_type=\"datetime\",width=800, height=500, tools=[hover],\n",
    "           title=\"Graph of Booking Date vs ADR for BG (hover to view events)\",x_axis_label = \"Booking Date\",\n",
    "               y_axis_label = \"ADR\")\n",
    "p.left[0].formatter.use_scientific = False\n",
    "p.line('x', 'y', line_width=2, source=source)   \n",
    "show(p)\n"
   ]
  },
  {
   "cell_type": "code",
   "execution_count": null,
   "metadata": {
    "collapsed": true
   },
   "outputs": [],
   "source": []
  },
  {
   "cell_type": "code",
   "execution_count": null,
   "metadata": {
    "collapsed": true
   },
   "outputs": [],
   "source": [
    "property_id_CH = pd.read_excel('Results/GroupByPropertyID/2016/CH.xlsx')\n",
    "property_id_CH = property_id_CH.reset_index()\n",
    "property_id_CH = property_id_CH.sort_values(by = 'Booking_date', ascending=True)\n",
    "property_id_CH1 = property_id_CH.values.T.tolist()"
   ]
  },
  {
   "cell_type": "code",
   "execution_count": null,
   "metadata": {
    "collapsed": false
   },
   "outputs": [],
   "source": [
    "source = ColumnDataSource(\n",
    "        data=dict(\n",
    "            x=property_id_CH1[1],\n",
    "            y=property_id_CH1[4],\n",
    "            desc=property_id_CH1[3],\n",
    "            date=[x.strftime(\"%Y-%m-%d\") for x in property_id_CH['Booking_date']]\n",
    "        )\n",
    "    )\n",
    "\n",
    "hover = HoverTool(\n",
    "        tooltips=[\n",
    "            (\"Date\",\"@date\"),\n",
    "            (\"Event\", \"@desc\"),\n",
    "            (\"Total Revenue\",\"@y{1.11}\")\n",
    "        ]\n",
    "    )\n",
    "\n",
    "p = plt.figure(x_axis_type=\"datetime\",width=800, height=500, tools=[hover],\n",
    "           title=\"Graph of BookingDate vs TotalRevenue for CH (hover to view events)\",x_axis_label = \"Booking Date\",\n",
    "               y_axis_label = \"Total Revenue\")\n",
    "p.left[0].formatter.use_scientific = False\n",
    "p.line('x', 'y', line_width=2, source=source)   \n",
    "show(p)\n"
   ]
  },
  {
   "cell_type": "code",
   "execution_count": null,
   "metadata": {
    "collapsed": false
   },
   "outputs": [],
   "source": [
    "source = ColumnDataSource(\n",
    "        data=dict(\n",
    "            x=property_id_CH1[1],\n",
    "            y=property_id_CH1[6],\n",
    "            desc=property_id_CH1[3],\n",
    "            date=[x.strftime(\"%Y-%m-%d\") for x in property_id_CH['Booking_date']]\n",
    "        )\n",
    "    )\n",
    "\n",
    "hover = HoverTool(\n",
    "        tooltips=[\n",
    "            (\"Date\",\"@date\"),\n",
    "            (\"Event\", \"@desc\"),\n",
    "            (\"ADR\",\"@y{1.11}\")\n",
    "        ]\n",
    "    )\n",
    "\n",
    "p = plt.figure(x_axis_type=\"datetime\",width=800, height=500, tools=[hover],\n",
    "           title=\"Graph of Booking Date vs ADR for CH (hover to view events)\",x_axis_label = \"Booking Date\",\n",
    "               y_axis_label = \"ADR\")\n",
    "p.left[0].formatter.use_scientific = False\n",
    "p.line('x', 'y', line_width=2, source=source)   \n",
    "show(p)\n"
   ]
  },
  {
   "cell_type": "code",
   "execution_count": null,
   "metadata": {
    "collapsed": true
   },
   "outputs": [],
   "source": []
  },
  {
   "cell_type": "code",
   "execution_count": null,
   "metadata": {
    "collapsed": true
   },
   "outputs": [],
   "source": [
    "property_id_CL = pd.read_excel('Results/GroupByPropertyID/2016/CL.xlsx')\n",
    "property_id_CL = property_id_CL.reset_index()\n",
    "property_id_CL = property_id_CL.sort_values(by = 'Booking_date', ascending=True)\n",
    "property_id_CL1 = property_id_CL.values.T.tolist()\n"
   ]
  },
  {
   "cell_type": "code",
   "execution_count": null,
   "metadata": {
    "collapsed": false
   },
   "outputs": [],
   "source": [
    "source = ColumnDataSource(\n",
    "        data=dict(\n",
    "            x=property_id_CL1[1],\n",
    "            y=property_id_CL1[4],\n",
    "            desc=property_id_CL1[3],\n",
    "            date=[x.strftime(\"%Y-%m-%d\") for x in property_id_CL['Booking_date']]\n",
    "        )\n",
    "    )\n",
    "\n",
    "hover = HoverTool(\n",
    "        tooltips=[\n",
    "            (\"Date\",\"@date\"),\n",
    "            (\"Event\", \"@desc\"),\n",
    "            (\"Total Revenue\",\"@y{1.11}\")\n",
    "        ]\n",
    "    )\n",
    "\n",
    "p = plt.figure(x_axis_type=\"datetime\",width=800, height=500, tools=[hover],\n",
    "           title=\"Graph of BookingDate vs TotalRevenue for CL (hover to view events)\",x_axis_label = \"Booking Date\",\n",
    "               y_axis_label = \"Total Revenue\")\n",
    "p.left[0].formatter.use_scientific = False\n",
    "p.line('x', 'y', line_width=2, source=source)   \n",
    "show(p)\n"
   ]
  },
  {
   "cell_type": "code",
   "execution_count": null,
   "metadata": {
    "collapsed": false
   },
   "outputs": [],
   "source": [
    "source = ColumnDataSource(\n",
    "        data=dict(\n",
    "            x=property_id_CL1[1],\n",
    "            y=property_id_CL1[6],\n",
    "            desc=property_id_CL1[3],\n",
    "            date=[x.strftime(\"%Y-%m-%d\") for x in property_id_CL['Booking_date']]\n",
    "        )\n",
    "    )\n",
    "\n",
    "hover = HoverTool(\n",
    "        tooltips=[\n",
    "            (\"Date\",\"@date\"),\n",
    "            (\"Event\", \"@desc\"),\n",
    "            (\"ADR\",\"@y{1.11}\")\n",
    "        ]\n",
    "    )\n",
    "\n",
    "p = plt.figure(x_axis_type=\"datetime\",width=800, height=500, tools=[hover],\n",
    "           title=\"Graph of Booking Date vs ADR for CL (hover to view events)\",x_axis_label = \"Booking Date\",\n",
    "               y_axis_label = \"ADR\")\n",
    "p.left[0].formatter.use_scientific = False\n",
    "p.line('x', 'y', line_width=2, source=source)   \n",
    "show(p)\n"
   ]
  },
  {
   "cell_type": "code",
   "execution_count": null,
   "metadata": {
    "collapsed": true
   },
   "outputs": [],
   "source": []
  },
  {
   "cell_type": "code",
   "execution_count": null,
   "metadata": {
    "collapsed": true
   },
   "outputs": [],
   "source": [
    "property_id_EB = pd.read_excel('Results/GroupByPropertyID/2016/EB.xlsx')\n",
    "property_id_EB = property_id_EB.reset_index()\n",
    "property_id_EB = property_id_EB.sort_values(by = 'Booking_date', ascending=True)\n",
    "property_id_EB1 = property_id_EB.values.T.tolist()\n"
   ]
  },
  {
   "cell_type": "code",
   "execution_count": null,
   "metadata": {
    "collapsed": false
   },
   "outputs": [],
   "source": [
    "source = ColumnDataSource(\n",
    "        data=dict(\n",
    "            x=property_id_EB1[1],\n",
    "            y=property_id_EB1[4],\n",
    "            desc=property_id_EB1[3],\n",
    "            date=[x.strftime(\"%Y-%m-%d\") for x in property_id_EB['Booking_date']]\n",
    "        )\n",
    "    )\n",
    "\n",
    "hover = HoverTool(\n",
    "        tooltips=[\n",
    "            (\"Date\",\"@date\"),\n",
    "            (\"Event\", \"@desc\"),\n",
    "            (\"Total Revenue\",\"@y{1.11}\")\n",
    "        ]\n",
    "    )\n",
    "\n",
    "p = plt.figure(x_axis_type=\"datetime\",width=800, height=500, tools=[hover],\n",
    "           title=\"Graph of BookingDate vs TotalRevenue for EB (hover to view events)\",x_axis_label = \"Booking Date\",\n",
    "               y_axis_label = \"Total Revenue\")\n",
    "p.left[0].formatter.use_scientific = False\n",
    "p.line('x', 'y', line_width=2, source=source)   \n",
    "show(p)\n"
   ]
  },
  {
   "cell_type": "code",
   "execution_count": null,
   "metadata": {
    "collapsed": false
   },
   "outputs": [],
   "source": [
    "source = ColumnDataSource(\n",
    "        data=dict(\n",
    "            x=property_id_EB1[1],\n",
    "            y=property_id_EB1[6],\n",
    "            desc=property_id_EB1[3],\n",
    "            date=[x.strftime(\"%Y-%m-%d\") for x in property_id_EB['Booking_date']]\n",
    "        )\n",
    "    )\n",
    "\n",
    "hover = HoverTool(\n",
    "        tooltips=[\n",
    "            (\"Date\",\"@date\"),\n",
    "            (\"Event\", \"@desc\"),\n",
    "            (\"ADR\",\"@y{1.11}\")\n",
    "        ]\n",
    "    )\n",
    "\n",
    "p = plt.figure(x_axis_type=\"datetime\",width=800, height=500, tools=[hover],\n",
    "           title=\"Graph of Booking Date vs ADR for EB (hover to view events)\",x_axis_label = \"Booking Date\",\n",
    "               y_axis_label = \"ADR\")\n",
    "p.left[0].formatter.use_scientific = False\n",
    "p.line('x', 'y', line_width=2, source=source)   \n",
    "show(p)\n"
   ]
  },
  {
   "cell_type": "code",
   "execution_count": null,
   "metadata": {
    "collapsed": true
   },
   "outputs": [],
   "source": []
  },
  {
   "cell_type": "code",
   "execution_count": null,
   "metadata": {
    "collapsed": true
   },
   "outputs": [],
   "source": [
    "property_id_KK = pd.read_excel('Results/GroupByPropertyID/2016/KK.xlsx')\n",
    "property_id_KK = property_id_KK.reset_index()\n",
    "property_id_KK = property_id_KK.sort_values(by = 'Booking_date', ascending=True)\n",
    "property_id_KK1 = property_id_KK.values.T.tolist()\n"
   ]
  },
  {
   "cell_type": "code",
   "execution_count": null,
   "metadata": {
    "collapsed": false
   },
   "outputs": [],
   "source": [
    "source = ColumnDataSource(\n",
    "        data=dict(\n",
    "            x=property_id_KK1[1],\n",
    "            y=property_id_KK1[4],\n",
    "            desc=property_id_KK1[3],\n",
    "            date=[x.strftime(\"%Y-%m-%d\") for x in property_id_KK['Booking_date']]\n",
    "        )\n",
    "    )\n",
    "\n",
    "hover = HoverTool(\n",
    "        tooltips=[\n",
    "            (\"Date\",\"@date\"),\n",
    "            (\"Event\", \"@desc\"),\n",
    "            (\"Total Revenue\",\"@y{1.11}\")\n",
    "        ]\n",
    "    )\n",
    "\n",
    "p = plt.figure(x_axis_type=\"datetime\",width=800, height=500, tools=[hover],\n",
    "           title=\"Graph of BookingDate vs TotalRevenue for KK (hover to view events)\",x_axis_label = \"Booking Date\",\n",
    "               y_axis_label = \"Total Revenue\")\n",
    "p.left[0].formatter.use_scientific = False\n",
    "p.line('x', 'y', line_width=2, source=source)   \n",
    "show(p)\n"
   ]
  },
  {
   "cell_type": "code",
   "execution_count": null,
   "metadata": {
    "collapsed": false
   },
   "outputs": [],
   "source": [
    "source = ColumnDataSource(\n",
    "        data=dict(\n",
    "            x=property_id_KK1[1],\n",
    "            y=property_id_KK1[6],\n",
    "            desc=property_id_KK1[3],\n",
    "            date=[x.strftime(\"%Y-%m-%d\") for x in property_id_KK['Booking_date']]\n",
    "        )\n",
    "    )\n",
    "\n",
    "hover = HoverTool(\n",
    "        tooltips=[\n",
    "            (\"Date\",\"@date\"),\n",
    "            (\"Event\", \"@desc\"),\n",
    "            (\"ADR\",\"@y{1.11}\")\n",
    "        ]\n",
    "    )\n",
    "\n",
    "p = plt.figure(x_axis_type=\"datetime\",width=800, height=500, tools=[hover],\n",
    "           title=\"Graph of Booking Date vs ADR for KK (hover to view events)\",x_axis_label = \"Booking Date\",\n",
    "               y_axis_label = \"ADR\")\n",
    "p.left[0].formatter.use_scientific = False\n",
    "p.line('x', 'y', line_width=2, source=source)   \n",
    "show(p)\n"
   ]
  },
  {
   "cell_type": "code",
   "execution_count": null,
   "metadata": {
    "collapsed": true
   },
   "outputs": [],
   "source": []
  },
  {
   "cell_type": "code",
   "execution_count": null,
   "metadata": {
    "collapsed": true
   },
   "outputs": [],
   "source": [
    "property_id_KR = pd.read_excel('Results/GroupByPropertyID/2016/KR.xlsx')\n",
    "property_id_KR = property_id_KR.reset_index()\n",
    "property_id_KR = property_id_KR.sort_values(by = 'Booking_date', ascending=True)\n",
    "property_id_KR1 = property_id_KR.values.T.tolist()\n"
   ]
  },
  {
   "cell_type": "code",
   "execution_count": null,
   "metadata": {
    "collapsed": false
   },
   "outputs": [],
   "source": [
    "source = ColumnDataSource(\n",
    "        data=dict(\n",
    "            x=property_id_KR1[1],\n",
    "            y=property_id_KR1[4],\n",
    "            desc=property_id_KR1[3],\n",
    "            date=[x.strftime(\"%Y-%m-%d\") for x in property_id_KR['Booking_date']]\n",
    "        )\n",
    "    )\n",
    "\n",
    "hover = HoverTool(\n",
    "        tooltips=[\n",
    "            (\"Date\",\"@date\"),\n",
    "            (\"Event\", \"@desc\"),\n",
    "            (\"Total Revenue\",\"@y{1.11}\")\n",
    "        ]\n",
    "    )\n",
    "\n",
    "p = plt.figure(x_axis_type=\"datetime\",width=800, height=500, tools=[hover],\n",
    "           title=\"Graph of BookingDate vs TotalRevenue for KR (hover to view events)\",x_axis_label = \"Booking Date\",\n",
    "               y_axis_label = \"Total Revenue\")\n",
    "p.left[0].formatter.use_scientific = False\n",
    "p.line('x', 'y', line_width=2, source=source)   \n",
    "show(p)\n"
   ]
  },
  {
   "cell_type": "code",
   "execution_count": null,
   "metadata": {
    "collapsed": false
   },
   "outputs": [],
   "source": [
    "source = ColumnDataSource(\n",
    "        data=dict(\n",
    "            x=property_id_KR1[1],\n",
    "            y=property_id_KR1[6],\n",
    "            desc=property_id_KR1[3],\n",
    "            date=[x.strftime(\"%Y-%m-%d\") for x in property_id_KR['Booking_date']]\n",
    "        )\n",
    "    )\n",
    "\n",
    "hover = HoverTool(\n",
    "        tooltips=[\n",
    "            (\"Date\",\"@date\"),\n",
    "            (\"Event\", \"@desc\"),\n",
    "            (\"ADR\",\"@y{1.11}\")\n",
    "        ]\n",
    "    )\n",
    "\n",
    "p = plt.figure(x_axis_type=\"datetime\",width=800, height=500, tools=[hover],\n",
    "           title=\"Graph of Booking Date vs ADR for KR (hover to view events)\",x_axis_label = \"Booking Date\",\n",
    "               y_axis_label = \"ADR\")\n",
    "p.left[0].formatter.use_scientific = False\n",
    "p.line('x', 'y', line_width=2, source=source)   \n",
    "show(p)\n"
   ]
  },
  {
   "cell_type": "code",
   "execution_count": null,
   "metadata": {
    "collapsed": true
   },
   "outputs": [],
   "source": []
  },
  {
   "cell_type": "code",
   "execution_count": null,
   "metadata": {
    "collapsed": true
   },
   "outputs": [],
   "source": [
    "property_id_MB = pd.read_excel('Results/GroupByPropertyID/2016/MB.xlsx')\n",
    "property_id_MB = property_id_MB.reset_index()\n",
    "property_id_MB = property_id_MB.sort_values(by = 'Booking_date', ascending=True)\n",
    "property_id_MB1 = property_id_MB.values.T.tolist()\n"
   ]
  },
  {
   "cell_type": "code",
   "execution_count": null,
   "metadata": {
    "collapsed": false
   },
   "outputs": [],
   "source": [
    "source = ColumnDataSource(\n",
    "        data=dict(\n",
    "            x=property_id_MB1[1],\n",
    "            y=property_id_MB1[4],\n",
    "            desc=property_id_MB1[3],\n",
    "            date=[x.strftime(\"%Y-%m-%d\") for x in property_id_MB['Booking_date']]\n",
    "        )\n",
    "    )\n",
    "\n",
    "hover = HoverTool(\n",
    "        tooltips=[\n",
    "            (\"Date\",\"@date\"),\n",
    "            (\"Event\", \"@desc\"),\n",
    "            (\"Total Revenue\",\"@y{1.11}\")\n",
    "        ]\n",
    "    )\n",
    "\n",
    "p = plt.figure(x_axis_type=\"datetime\",width=800, height=500, tools=[hover],\n",
    "           title=\"Graph of BookingDate vs TotalRevenue for MB (hover to view events)\",x_axis_label = \"Booking Date\",\n",
    "               y_axis_label = \"Total Revenue\")\n",
    "p.left[0].formatter.use_scientific = False\n",
    "p.line('x', 'y', line_width=2, source=source)   \n",
    "show(p)\n"
   ]
  },
  {
   "cell_type": "code",
   "execution_count": null,
   "metadata": {
    "collapsed": false
   },
   "outputs": [],
   "source": [
    "source = ColumnDataSource(\n",
    "        data=dict(\n",
    "            x=property_id_MB1[1],\n",
    "            y=property_id_MB1[6],\n",
    "            desc=property_id_MB1[3],\n",
    "            date=[x.strftime(\"%Y-%m-%d\") for x in property_id_MB['Booking_date']]\n",
    "        )\n",
    "    )\n",
    "\n",
    "hover = HoverTool(\n",
    "        tooltips=[\n",
    "            (\"Date\",\"@date\"),\n",
    "            (\"Event\", \"@desc\"),\n",
    "            (\"ADR\",\"@y{1.11}\")\n",
    "        ]\n",
    "    )\n",
    "\n",
    "p = plt.figure(x_axis_type=\"datetime\",width=800, height=500, tools=[hover],\n",
    "           title=\"Graph of Booking Date vs ADR for MB (hover to view events)\",x_axis_label = \"Booking Date\",\n",
    "               y_axis_label = \"ADR\")\n",
    "p.left[0].formatter.use_scientific = False\n",
    "p.line('x', 'y', line_width=2, source=source)   \n",
    "show(p)\n"
   ]
  },
  {
   "cell_type": "code",
   "execution_count": null,
   "metadata": {
    "collapsed": true
   },
   "outputs": [],
   "source": []
  },
  {
   "cell_type": "code",
   "execution_count": null,
   "metadata": {
    "collapsed": true
   },
   "outputs": [],
   "source": [
    "property_id_MM = pd.read_excel('Results/GroupByPropertyID/2016/MM.xlsx')\n",
    "property_id_MM = property_id_MM.reset_index()\n",
    "property_id_MM = property_id_MM.sort_values(by = 'Booking_date', ascending=True)\n",
    "property_id_MM1 = property_id_MM.values.T.tolist()\n"
   ]
  },
  {
   "cell_type": "code",
   "execution_count": null,
   "metadata": {
    "collapsed": false
   },
   "outputs": [],
   "source": [
    "source = ColumnDataSource(\n",
    "        data=dict(\n",
    "            x=property_id_MM1[1],\n",
    "            y=property_id_MM1[4],\n",
    "            desc=property_id_MM1[3],\n",
    "            date=[x.strftime(\"%Y-%m-%d\") for x in property_id_MM['Booking_date']]\n",
    "        )\n",
    "    )\n",
    "\n",
    "hover = HoverTool(\n",
    "        tooltips=[\n",
    "            (\"Date\",\"@date\"),\n",
    "            (\"Event\", \"@desc\"),\n",
    "            (\"Total Revenue\",\"@y{1.11}\")\n",
    "        ]\n",
    "    )\n",
    "\n",
    "p = plt.figure(x_axis_type=\"datetime\",width=800, height=500, tools=[hover],\n",
    "           title=\"Graph of BookingDate vs TotalRevenue for MM (hover to view events)\",x_axis_label = \"Booking Date\",\n",
    "               y_axis_label = \"Total Revenue\")\n",
    "p.left[0].formatter.use_scientific = False\n",
    "p.line('x', 'y', line_width=2, source=source)   \n",
    "show(p)\n"
   ]
  },
  {
   "cell_type": "code",
   "execution_count": null,
   "metadata": {
    "collapsed": false
   },
   "outputs": [],
   "source": [
    "source = ColumnDataSource(\n",
    "        data=dict(\n",
    "            x=property_id_MM1[1],\n",
    "            y=property_id_MM1[6],\n",
    "            desc=property_id_MM1[3],\n",
    "            date=[x.strftime(\"%Y-%m-%d\") for x in property_id_MM['Booking_date']]\n",
    "        )\n",
    "    )\n",
    "\n",
    "hover = HoverTool(\n",
    "        tooltips=[\n",
    "            (\"Date\",\"@date\"),\n",
    "            (\"Event\", \"@desc\"),\n",
    "            (\"ADR\",\"@y{1.11}\")\n",
    "        ]\n",
    "    )\n",
    "\n",
    "p = plt.figure(x_axis_type=\"datetime\",width=800, height=500, tools=[hover],\n",
    "           title=\"Graph of Booking Date vs ADR for MM (hover to view events)\",x_axis_label = \"Booking Date\",\n",
    "               y_axis_label = \"ADR\")\n",
    "p.left[0].formatter.use_scientific = False\n",
    "p.line('x', 'y', line_width=2, source=source)   \n",
    "show(p)\n"
   ]
  },
  {
   "cell_type": "code",
   "execution_count": null,
   "metadata": {
    "collapsed": true
   },
   "outputs": [],
   "source": []
  },
  {
   "cell_type": "code",
   "execution_count": null,
   "metadata": {
    "collapsed": true
   },
   "outputs": [],
   "source": [
    "property_id_MP = pd.read_excel('Results/GroupByPropertyID/2016/MP.xlsx')\n",
    "property_id_MP = property_id_MP.reset_index()\n",
    "property_id_MP = property_id_MP.sort_values(by = 'Booking_date', ascending=True)\n",
    "property_id_MP1 = property_id_MP.values.T.tolist()\n"
   ]
  },
  {
   "cell_type": "code",
   "execution_count": null,
   "metadata": {
    "collapsed": false
   },
   "outputs": [],
   "source": [
    "source = ColumnDataSource(\n",
    "        data=dict(\n",
    "            x=property_id_MP1[1],\n",
    "            y=property_id_MP1[4],\n",
    "            desc=property_id_MP1[3],\n",
    "            date=[x.strftime(\"%Y-%m-%d\") for x in property_id_MP['Booking_date']]\n",
    "        )\n",
    "    )\n",
    "\n",
    "hover = HoverTool(\n",
    "        tooltips=[\n",
    "            (\"Date\",\"@date\"),\n",
    "            (\"Event\", \"@desc\"),\n",
    "            (\"Total Revenue\",\"@y{1.11}\")\n",
    "        ]\n",
    "    )\n",
    "\n",
    "p = plt.figure(x_axis_type=\"datetime\",width=800, height=500, tools=[hover],\n",
    "           title=\"Graph of BookingDate vs TotalRevenue for MP (hover to view events)\",x_axis_label = \"Booking Date\",\n",
    "               y_axis_label = \"Total Revenue\")\n",
    "p.left[0].formatter.use_scientific = False\n",
    "p.line('x', 'y', line_width=2, source=source)   \n",
    "show(p)\n"
   ]
  },
  {
   "cell_type": "code",
   "execution_count": null,
   "metadata": {
    "collapsed": false
   },
   "outputs": [],
   "source": [
    "source = ColumnDataSource(\n",
    "        data=dict(\n",
    "            x=property_id_MP1[1],\n",
    "            y=property_id_MP1[6],\n",
    "            desc=property_id_MP1[3],\n",
    "            date=[x.strftime(\"%Y-%m-%d\") for x in property_id_MP['Booking_date']]\n",
    "        )\n",
    "    )\n",
    "\n",
    "hover = HoverTool(\n",
    "        tooltips=[\n",
    "            (\"Date\",\"@date\"),\n",
    "            (\"Event\", \"@desc\"),\n",
    "            (\"ADR\",\"@y{1.11}\")\n",
    "        ]\n",
    "    )\n",
    "\n",
    "p = plt.figure(x_axis_type=\"datetime\",width=800, height=500, tools=[hover],\n",
    "           title=\"Graph of Booking Date vs ADR for MP (hover to view events)\",x_axis_label = \"Booking Date\",\n",
    "               y_axis_label = \"ADR\")\n",
    "p.left[0].formatter.use_scientific = False\n",
    "p.line('x', 'y', line_width=2, source=source)   \n",
    "show(p)\n"
   ]
  },
  {
   "cell_type": "code",
   "execution_count": null,
   "metadata": {
    "collapsed": true
   },
   "outputs": [],
   "source": []
  },
  {
   "cell_type": "code",
   "execution_count": null,
   "metadata": {
    "collapsed": true
   },
   "outputs": [],
   "source": [
    "property_id_SC = pd.read_excel('Results/GroupByPropertyID/2016/SC.xlsx')\n",
    "property_id_SC = property_id_SC.reset_index()\n",
    "property_id_SC = property_id_SC.sort_values(by = 'Booking_date', ascending=True)\n",
    "property_id_SC1 = property_id_SC.values.T.tolist()\n"
   ]
  },
  {
   "cell_type": "code",
   "execution_count": null,
   "metadata": {
    "collapsed": false
   },
   "outputs": [],
   "source": [
    "source = ColumnDataSource(\n",
    "        data=dict(\n",
    "            x=property_id_SC1[1],\n",
    "            y=property_id_SC1[4],\n",
    "            desc=property_id_SC1[3],\n",
    "            date=[x.strftime(\"%Y-%m-%d\") for x in property_id_SC['Booking_date']]\n",
    "        )\n",
    "    )\n",
    "\n",
    "hover = HoverTool(\n",
    "        tooltips=[\n",
    "            (\"Date\",\"@date\"),\n",
    "            (\"Event\", \"@desc\"),\n",
    "            (\"Total Revenue\",\"@y{1.11}\")\n",
    "        ]\n",
    "    )\n",
    "\n",
    "p = plt.figure(x_axis_type=\"datetime\",width=800, height=500, tools=[hover],\n",
    "           title=\"Graph of BookingDate vs TotalRevenue for SC (hover to view events)\",x_axis_label = \"Booking Date\",\n",
    "               y_axis_label = \"Total Revenue\")\n",
    "p.left[0].formatter.use_scientific = False\n",
    "p.line('x', 'y', line_width=2, source=source)   \n",
    "show(p)\n"
   ]
  },
  {
   "cell_type": "code",
   "execution_count": null,
   "metadata": {
    "collapsed": false
   },
   "outputs": [],
   "source": [
    "source = ColumnDataSource(\n",
    "        data=dict(\n",
    "            x=property_id_SC1[1],\n",
    "            y=property_id_SC1[6],\n",
    "            desc=property_id_SC1[3],\n",
    "            date=[x.strftime(\"%Y-%m-%d\") for x in property_id_SC['Booking_date']]\n",
    "        )\n",
    "    )\n",
    "\n",
    "hover = HoverTool(\n",
    "        tooltips=[\n",
    "            (\"Date\",\"@date\"),\n",
    "            (\"Event\", \"@desc\"),\n",
    "            (\"ADR\",\"@y{1.11}\")\n",
    "        ]\n",
    "    )\n",
    "\n",
    "p = plt.figure(x_axis_type=\"datetime\",width=800, height=500, tools=[hover],\n",
    "           title=\"Graph of Booking Date vs ADR for SC (hover to view events)\",x_axis_label = \"Booking Date\",\n",
    "               y_axis_label = \"ADR\")\n",
    "p.left[0].formatter.use_scientific = False\n",
    "p.line('x', 'y', line_width=2, source=source)   \n",
    "show(p)\n"
   ]
  },
  {
   "cell_type": "code",
   "execution_count": null,
   "metadata": {
    "collapsed": true
   },
   "outputs": [],
   "source": []
  },
  {
   "cell_type": "code",
   "execution_count": null,
   "metadata": {
    "collapsed": true
   },
   "outputs": [],
   "source": [
    "property_id_SS = pd.read_excel('Results/GroupByPropertyID/2016/SS.xlsx')\n",
    "property_id_SS = property_id_SS.reset_index()\n",
    "property_id_SS = property_id_SS.sort_values(by = 'Booking_date', ascending=True)\n",
    "property_id_SS1 = property_id_SS.values.T.tolist()\n"
   ]
  },
  {
   "cell_type": "code",
   "execution_count": null,
   "metadata": {
    "collapsed": false
   },
   "outputs": [],
   "source": [
    "source = ColumnDataSource(\n",
    "        data=dict(\n",
    "            x=property_id_SS1[1],\n",
    "            y=property_id_SS1[4],\n",
    "            desc=property_id_SS1[3],\n",
    "            date=[x.strftime(\"%Y-%m-%d\") for x in property_id_SS['Booking_date']]\n",
    "        )\n",
    "    )\n",
    "\n",
    "hover = HoverTool(\n",
    "        tooltips=[\n",
    "            (\"Date\",\"@date\"),\n",
    "            (\"Event\", \"@desc\"),\n",
    "            (\"Total Revenue\",\"@y{1.11}\")\n",
    "        ]\n",
    "    )\n",
    "\n",
    "p = plt.figure(x_axis_type=\"datetime\",width=800, height=500, tools=[hover],\n",
    "           title=\"Graph of BookingDate vs TotalRevenue for SS (hover to view events)\",x_axis_label = \"Booking Date\",\n",
    "               y_axis_label = \"Total Revenue\")\n",
    "p.left[0].formatter.use_scientific = False\n",
    "p.line('x', 'y', line_width=2, source=source)   \n",
    "show(p)\n"
   ]
  },
  {
   "cell_type": "code",
   "execution_count": null,
   "metadata": {
    "collapsed": false
   },
   "outputs": [],
   "source": [
    "source = ColumnDataSource(\n",
    "        data=dict(\n",
    "            x=property_id_SS1[1],\n",
    "            y=property_id_SS1[6],\n",
    "            desc=property_id_SS1[3],\n",
    "            date=[x.strftime(\"%Y-%m-%d\") for x in property_id_SS['Booking_date']]\n",
    "        )\n",
    "    )\n",
    "\n",
    "hover = HoverTool(\n",
    "        tooltips=[\n",
    "            (\"Date\",\"@date\"),\n",
    "            (\"Event\", \"@desc\"),\n",
    "            (\"ADR\",\"@y{1.11}\")\n",
    "        ]\n",
    "    )\n",
    "\n",
    "p = plt.figure(x_axis_type=\"datetime\",width=800, height=500, tools=[hover],\n",
    "           title=\"Graph of Booking Date vs ADR for SS (hover to view events)\",x_axis_label = \"Booking Date\",\n",
    "               y_axis_label = \"ADR\")\n",
    "p.left[0].formatter.use_scientific = False\n",
    "p.line('x', 'y', line_width=2, source=source)   \n",
    "show(p)\n"
   ]
  },
  {
   "cell_type": "code",
   "execution_count": null,
   "metadata": {
    "collapsed": true
   },
   "outputs": [],
   "source": []
  },
  {
   "cell_type": "code",
   "execution_count": null,
   "metadata": {
    "collapsed": true
   },
   "outputs": [],
   "source": [
    "property_id_SV = pd.read_excel('Results/GroupByPropertyID/2016/SV.xlsx')\n",
    "property_id_SV = property_id_SV.reset_index()\n",
    "property_id_SV = property_id_SV.sort_values(by = 'Booking_date', ascending=True)\n",
    "property_id_SV1 = property_id_SV.values.T.tolist()\n"
   ]
  },
  {
   "cell_type": "code",
   "execution_count": null,
   "metadata": {
    "collapsed": false
   },
   "outputs": [],
   "source": [
    "source = ColumnDataSource(\n",
    "        data=dict(\n",
    "            x=property_id_SV1[1],\n",
    "            y=property_id_SV1[4],\n",
    "            desc=property_id_SV1[3],\n",
    "            date=[x.strftime(\"%Y-%m-%d\") for x in property_id_SV['Booking_date']]\n",
    "        )\n",
    "    )\n",
    "\n",
    "hover = HoverTool(\n",
    "        tooltips=[\n",
    "            (\"Date\",\"@date\"),\n",
    "            (\"Event\", \"@desc\"),\n",
    "            (\"Total Revenue\",\"@y{1.11}\")\n",
    "        ]\n",
    "    )\n",
    "\n",
    "p = plt.figure(x_axis_type=\"datetime\",width=800, height=500, tools=[hover],\n",
    "           title=\"Graph of BookingDate vs TotalRevenue for SV (hover to view events)\",x_axis_label = \"Booking Date\",\n",
    "               y_axis_label = \"Total Revenue\")\n",
    "p.left[0].formatter.use_scientific = False\n",
    "p.line('x', 'y', line_width=2, source=source)   \n",
    "show(p)\n"
   ]
  },
  {
   "cell_type": "code",
   "execution_count": null,
   "metadata": {
    "collapsed": false
   },
   "outputs": [],
   "source": [
    "source = ColumnDataSource(\n",
    "        data=dict(\n",
    "            x=property_id_SV1[1],\n",
    "            y=property_id_SV1[6],\n",
    "            desc=property_id_SV1[3],\n",
    "            date=[x.strftime(\"%Y-%m-%d\") for x in property_id_SV['Booking_date']]\n",
    "        )\n",
    "    )\n",
    "\n",
    "hover = HoverTool(\n",
    "        tooltips=[\n",
    "            (\"Date\",\"@date\"),\n",
    "            (\"Event\", \"@desc\"),\n",
    "            (\"ADR\",\"@y{1.11}\")\n",
    "        ]\n",
    "    )\n",
    "\n",
    "p = plt.figure(x_axis_type=\"datetime\",width=800, height=500, tools=[hover],\n",
    "           title=\"Graph of Booking Date vs ADR for SV (hover to view events)\",x_axis_label = \"Booking Date\",\n",
    "               y_axis_label = \"ADR\")\n",
    "p.left[0].formatter.use_scientific = False\n",
    "p.line('x', 'y', line_width=2, source=source)   \n",
    "show(p)\n"
   ]
  },
  {
   "cell_type": "code",
   "execution_count": null,
   "metadata": {
    "collapsed": true
   },
   "outputs": [],
   "source": []
  },
  {
   "cell_type": "code",
   "execution_count": null,
   "metadata": {
    "collapsed": true
   },
   "outputs": [],
   "source": [
    "property_id_VM = pd.read_excel('Results/GroupByPropertyID/2016/VM.xlsx')\n",
    "property_id_VM = property_id_VM.reset_index()\n",
    "property_id_VM = property_id_VM.sort_values(by = 'Booking_date', ascending=True)\n",
    "property_id_VM1 = property_id_VM.values.T.tolist()\n"
   ]
  },
  {
   "cell_type": "code",
   "execution_count": null,
   "metadata": {
    "collapsed": false
   },
   "outputs": [],
   "source": [
    "source = ColumnDataSource(\n",
    "        data=dict(\n",
    "            x=property_id_VM1[1],\n",
    "            y=property_id_VM1[4],\n",
    "            desc=property_id_VM1[3],\n",
    "            date=[x.strftime(\"%Y-%m-%d\") for x in property_id_VM['Booking_date']]\n",
    "        )\n",
    "    )\n",
    "\n",
    "hover = HoverTool(\n",
    "        tooltips=[\n",
    "            (\"Date\",\"@date\"),\n",
    "            (\"Event\", \"@desc\"),\n",
    "            (\"Total Revenue\",\"@y{1.11}\")\n",
    "        ]\n",
    "    )\n",
    "\n",
    "p = plt.figure(x_axis_type=\"datetime\",width=800, height=500, tools=[hover],\n",
    "           title=\"Graph of BookingDate vs TotalRevenue for VM (hover to view events)\",x_axis_label = \"Booking Date\",\n",
    "               y_axis_label = \"Total Revenue\")\n",
    "p.left[0].formatter.use_scientific = False\n",
    "p.line('x', 'y', line_width=2, source=source)   \n",
    "show(p)\n"
   ]
  },
  {
   "cell_type": "code",
   "execution_count": null,
   "metadata": {
    "collapsed": false
   },
   "outputs": [],
   "source": [
    "source = ColumnDataSource(\n",
    "        data=dict(\n",
    "            x=property_id_VM1[1],\n",
    "            y=property_id_VM1[6],\n",
    "            desc=property_id_VM1[3],\n",
    "            date=[x.strftime(\"%Y-%m-%d\") for x in property_id_VM['Booking_date']]\n",
    "        )\n",
    "    )\n",
    "\n",
    "hover = HoverTool(\n",
    "        tooltips=[\n",
    "            (\"Date\",\"@date\"),\n",
    "            (\"Event\", \"@desc\"),\n",
    "            (\"ADR\",\"@y{1.11}\")\n",
    "        ]\n",
    "    )\n",
    "\n",
    "p = plt.figure(x_axis_type=\"datetime\",width=800, height=500, tools=[hover],\n",
    "           title=\"Graph of Booking Date vs ADR for VM (hover to view events)\",x_axis_label = \"Booking Date\",\n",
    "               y_axis_label = \"ADR\")\n",
    "p.left[0].formatter.use_scientific = False\n",
    "p.line('x', 'y', line_width=2, source=source)   \n",
    "show(p)\n"
   ]
  },
  {
   "cell_type": "code",
   "execution_count": null,
   "metadata": {
    "collapsed": true
   },
   "outputs": [],
   "source": []
  },
  {
   "cell_type": "code",
   "execution_count": null,
   "metadata": {
    "collapsed": true
   },
   "outputs": [],
   "source": [
    "property_id_VV = pd.read_excel('Results/GroupByPropertyID/2016/VV.xlsx')\n",
    "property_id_VV = property_id_VV.reset_index()\n",
    "property_id_VV = property_id_VV.sort_values(by = 'Booking_date', ascending=True)\n",
    "property_id_VV1 = property_id_VV.values.T.tolist()\n"
   ]
  },
  {
   "cell_type": "code",
   "execution_count": null,
   "metadata": {
    "collapsed": false
   },
   "outputs": [],
   "source": [
    "source = ColumnDataSource(\n",
    "        data=dict(\n",
    "            x=property_id_VV1[1],\n",
    "            y=property_id_VV1[4],\n",
    "            desc=property_id_VV1[3],\n",
    "            date=[x.strftime(\"%Y-%m-%d\") for x in property_id_VV['Booking_date']]\n",
    "        )\n",
    "    )\n",
    "\n",
    "hover = HoverTool(\n",
    "        tooltips=[\n",
    "            (\"Date\",\"@date\"),\n",
    "            (\"Event\", \"@desc\"),\n",
    "            (\"Total Revenue\",\"@y{1.11}\")\n",
    "        ]\n",
    "    )\n",
    "\n",
    "p = plt.figure(x_axis_type=\"datetime\",width=800, height=500, tools=[hover],\n",
    "           title=\"Graph of BookingDate vs TotalRevenue for VV (hover to view events)\",x_axis_label = \"Booking Date\",\n",
    "               y_axis_label = \"Total Revenue\")\n",
    "p.left[0].formatter.use_scientific = False\n",
    "p.line('x', 'y', line_width=2, source=source)   \n",
    "show(p)\n"
   ]
  },
  {
   "cell_type": "code",
   "execution_count": null,
   "metadata": {
    "collapsed": false
   },
   "outputs": [],
   "source": [
    "source = ColumnDataSource(\n",
    "        data=dict(\n",
    "            x=property_id_VV1[1],\n",
    "            y=property_id_VV1[6],\n",
    "            desc=property_id_VV1[3],\n",
    "            date=[x.strftime(\"%Y-%m-%d\") for x in property_id_VV['Booking_date']]\n",
    "        )\n",
    "    )\n",
    "\n",
    "hover = HoverTool(\n",
    "        tooltips=[\n",
    "            (\"Date\",\"@date\"),\n",
    "            (\"Event\", \"@desc\"),\n",
    "            (\"ADR\",\"@y{1.11}\")\n",
    "        ]\n",
    "    )\n",
    "\n",
    "p = plt.figure(x_axis_type=\"datetime\",width=800, height=500, tools=[hover],\n",
    "           title=\"Graph of Booking Date vs ADR for VV (hover to view events)\",x_axis_label = \"Booking Date\",\n",
    "               y_axis_label = \"ADR\")\n",
    "p.left[0].formatter.use_scientific = False\n",
    "p.line('x', 'y', line_width=2, source=source)   \n",
    "show(p)\n"
   ]
  },
  {
   "cell_type": "code",
   "execution_count": null,
   "metadata": {
    "collapsed": true
   },
   "outputs": [],
   "source": []
  },
  {
   "cell_type": "code",
   "execution_count": null,
   "metadata": {
    "collapsed": true
   },
   "outputs": [],
   "source": [
    "property_id_WW = pd.read_excel('Results/GroupByPropertyID/2016/WW.xlsx')\n",
    "property_id_WW = property_id_WW.reset_index()\n",
    "property_id_WW = property_id_WW.sort_values(by = 'Booking_date', ascending=True)\n",
    "property_id_WW1 = property_id_WW.values.T.tolist()\n"
   ]
  },
  {
   "cell_type": "code",
   "execution_count": null,
   "metadata": {
    "collapsed": false
   },
   "outputs": [],
   "source": [
    "source = ColumnDataSource(\n",
    "        data=dict(\n",
    "            x=property_id_WW1[1],\n",
    "            y=property_id_WW1[4],\n",
    "            desc=property_id_WW1[3],\n",
    "            date=[x.strftime(\"%Y-%m-%d\") for x in property_id_WW['Booking_date']]\n",
    "        )\n",
    "    )\n",
    "\n",
    "hover = HoverTool(\n",
    "        tooltips=[\n",
    "            (\"Date\",\"@date\"),\n",
    "            (\"Event\", \"@desc\"),\n",
    "            (\"Total Revenue\",\"@y{1.11}\")\n",
    "        ]\n",
    "    )\n",
    "\n",
    "p = plt.figure(x_axis_type=\"datetime\",width=800, height=500, tools=[hover],\n",
    "           title=\"Graph of BookingDate vs TotalRevenue for WW (hover to view events)\",x_axis_label = \"Booking Date\",\n",
    "               y_axis_label = \"Total Revenue\")\n",
    "p.left[0].formatter.use_scientific = False\n",
    "p.line('x', 'y', line_width=2, source=source)   \n",
    "show(p)\n"
   ]
  },
  {
   "cell_type": "code",
   "execution_count": null,
   "metadata": {
    "collapsed": false
   },
   "outputs": [],
   "source": [
    "source = ColumnDataSource(\n",
    "        data=dict(\n",
    "            x=property_id_WW1[1],\n",
    "            y=property_id_WW1[6],\n",
    "            desc=property_id_WW1[3],\n",
    "            date=[x.strftime(\"%Y-%m-%d\") for x in property_id_WW['Booking_date']]\n",
    "        )\n",
    "    )\n",
    "\n",
    "hover = HoverTool(\n",
    "        tooltips=[\n",
    "            (\"Date\",\"@date\"),\n",
    "            (\"Event\", \"@desc\"),\n",
    "            (\"ADR\",\"@y{1.11}\")\n",
    "        ]\n",
    "    )\n",
    "\n",
    "p = plt.figure(x_axis_type=\"datetime\",width=800, height=500, tools=[hover],\n",
    "           title=\"Graph of Booking Date vs ADR for WW (hover to view events)\",x_axis_label = \"Booking Date\",\n",
    "               y_axis_label = \"ADR\")\n",
    "p.left[0].formatter.use_scientific = False\n",
    "p.line('x', 'y', line_width=2, source=source)   \n",
    "show(p)\n"
   ]
  },
  {
   "cell_type": "code",
   "execution_count": null,
   "metadata": {
    "collapsed": true
   },
   "outputs": [],
   "source": []
  }
 ],
 "metadata": {
  "anaconda-cloud": {},
  "kernelspec": {
   "display_name": "Python [default]",
   "language": "python",
   "name": "python3"
  },
  "language_info": {
   "codemirror_mode": {
    "name": "ipython",
    "version": 3
   },
   "file_extension": ".py",
   "mimetype": "text/x-python",
   "name": "python",
   "nbconvert_exporter": "python",
   "pygments_lexer": "ipython3",
   "version": "3.5.2"
  }
 },
 "nbformat": 4,
 "nbformat_minor": 1
}
