{
 "cells": [
  {
   "cell_type": "code",
   "execution_count": 1,
   "metadata": {
    "collapsed": false
   },
   "outputs": [],
   "source": [
    "import pandas as pd\n",
    "import numpy as np\n",
    "\n",
    "data = pd.read_csv('Results/RequiredDataSet.csv',header=None, names=['Booking_date','channel','property_id','room_name','room_id','check_in','check_out','room_rate','booking_status'])\n",
    "#data.head()\n"
   ]
  },
  {
   "cell_type": "code",
   "execution_count": 2,
   "metadata": {
    "collapsed": false
   },
   "outputs": [],
   "source": [
    "data = data.filter(['Booking_date','property_id','room_rate','booking_status'], axis=1)"
   ]
  },
  {
   "cell_type": "code",
   "execution_count": 3,
   "metadata": {
    "collapsed": true
   },
   "outputs": [],
   "source": [
    "scrapyData = pd.read_csv('Results/eventData2015.csv',header=None, names=['Day','Booking_date','Event','HolidayIn'])\n",
    "scrapeResult = scrapyData.dropna()\n",
    "#scrapeResult.head()"
   ]
  },
  {
   "cell_type": "code",
   "execution_count": 4,
   "metadata": {
    "collapsed": false
   },
   "outputs": [],
   "source": [
    "pd.options.mode.chained_assignment = None "
   ]
  },
  {
   "cell_type": "code",
   "execution_count": 5,
   "metadata": {
    "collapsed": false,
    "scrolled": true
   },
   "outputs": [],
   "source": [
    "scrapeResult['Booking_date'] =   '2015-' + scrapeResult['Booking_date'] \n",
    "#scrapeResult.head()"
   ]
  },
  {
   "cell_type": "code",
   "execution_count": 6,
   "metadata": {
    "collapsed": false
   },
   "outputs": [],
   "source": [
    "scrapeResult['Booking_date'] = pd.to_datetime(scrapeResult.Booking_date)\n",
    "#scrapeResult.head()"
   ]
  },
  {
   "cell_type": "code",
   "execution_count": 7,
   "metadata": {
    "collapsed": true
   },
   "outputs": [],
   "source": [
    "del scrapeResult['HolidayIn']\n",
    "del scrapeResult['Day']\n",
    "# scrapeResult.head()"
   ]
  },
  {
   "cell_type": "code",
   "execution_count": 8,
   "metadata": {
    "collapsed": false
   },
   "outputs": [],
   "source": [
    "newResults = data[(data.booking_status == 'COMPLETED') | (data.booking_status == 'CONFIRMED')]\n",
    "# newResults.head()"
   ]
  },
  {
   "cell_type": "code",
   "execution_count": 9,
   "metadata": {
    "collapsed": false
   },
   "outputs": [],
   "source": [
    "newResults = newResults[(newResults.Booking_date >= '2015-01-01') & (newResults.Booking_date <= '2015-12-31')]\n",
    "# newResults.head()"
   ]
  },
  {
   "cell_type": "code",
   "execution_count": 10,
   "metadata": {
    "collapsed": false
   },
   "outputs": [],
   "source": [
    "newResults['Booking_date'] = newResults['Booking_date'].str.extract('(....-..-..)', expand=True)\n",
    "# newResults['Booking_date'].head()"
   ]
  },
  {
   "cell_type": "code",
   "execution_count": 11,
   "metadata": {
    "collapsed": false
   },
   "outputs": [],
   "source": [
    "newResults['Booking_date'] = pd.to_datetime(newResults.Booking_date)"
   ]
  },
  {
   "cell_type": "code",
   "execution_count": 12,
   "metadata": {
    "collapsed": false
   },
   "outputs": [],
   "source": [
    "res = pd.merge(left=newResults, left_on='Booking_date',right=scrapeResult, right_on='Booking_date')"
   ]
  },
  {
   "cell_type": "code",
   "execution_count": 13,
   "metadata": {
    "collapsed": false
   },
   "outputs": [
    {
     "data": {
      "text/html": [
       "<div>\n",
       "<table border=\"1\" class=\"dataframe\">\n",
       "  <thead>\n",
       "    <tr style=\"text-align: right;\">\n",
       "      <th></th>\n",
       "      <th>Booking_date</th>\n",
       "      <th>property_id</th>\n",
       "      <th>room_rate</th>\n",
       "      <th>booking_status</th>\n",
       "      <th>Event</th>\n",
       "    </tr>\n",
       "  </thead>\n",
       "  <tbody>\n",
       "    <tr>\n",
       "      <th>0</th>\n",
       "      <td>2015-01-01</td>\n",
       "      <td>CH</td>\n",
       "      <td>4000.0</td>\n",
       "      <td>COMPLETED</td>\n",
       "      <td>New Years Day</td>\n",
       "    </tr>\n",
       "    <tr>\n",
       "      <th>1</th>\n",
       "      <td>2015-01-01</td>\n",
       "      <td>SV</td>\n",
       "      <td>16500.0</td>\n",
       "      <td>COMPLETED</td>\n",
       "      <td>New Years Day</td>\n",
       "    </tr>\n",
       "    <tr>\n",
       "      <th>2</th>\n",
       "      <td>2015-01-01</td>\n",
       "      <td>CL</td>\n",
       "      <td>16349.0</td>\n",
       "      <td>COMPLETED</td>\n",
       "      <td>New Years Day</td>\n",
       "    </tr>\n",
       "    <tr>\n",
       "      <th>3</th>\n",
       "      <td>2015-01-01</td>\n",
       "      <td>MB</td>\n",
       "      <td>48270.0</td>\n",
       "      <td>COMPLETED</td>\n",
       "      <td>New Years Day</td>\n",
       "    </tr>\n",
       "    <tr>\n",
       "      <th>4</th>\n",
       "      <td>2015-01-01</td>\n",
       "      <td>BB</td>\n",
       "      <td>39000.0</td>\n",
       "      <td>COMPLETED</td>\n",
       "      <td>New Years Day</td>\n",
       "    </tr>\n",
       "  </tbody>\n",
       "</table>\n",
       "</div>"
      ],
      "text/plain": [
       "  Booking_date property_id  room_rate booking_status          Event\n",
       "0   2015-01-01          CH     4000.0      COMPLETED  New Years Day\n",
       "1   2015-01-01          SV    16500.0      COMPLETED  New Years Day\n",
       "2   2015-01-01          CL    16349.0      COMPLETED  New Years Day\n",
       "3   2015-01-01          MB    48270.0      COMPLETED  New Years Day\n",
       "4   2015-01-01          BB    39000.0      COMPLETED  New Years Day"
      ]
     },
     "execution_count": 13,
     "metadata": {},
     "output_type": "execute_result"
    }
   ],
   "source": [
    "res = res.sort_values(by = 'Booking_date', ascending=True)\n",
    "# res1 = res.drop_duplicates()\n",
    "res1 = res.reset_index()\n",
    "del res1['index']\n",
    "res1.head()"
   ]
  },
  {
   "cell_type": "code",
   "execution_count": 14,
   "metadata": {
    "collapsed": false
   },
   "outputs": [
    {
     "data": {
      "text/html": [
       "<div>\n",
       "<table border=\"1\" class=\"dataframe\">\n",
       "  <thead>\n",
       "    <tr style=\"text-align: right;\">\n",
       "      <th></th>\n",
       "      <th>Booking_date</th>\n",
       "      <th>property_id</th>\n",
       "      <th>room_rate</th>\n",
       "      <th>booking_status</th>\n",
       "      <th>Event</th>\n",
       "      <th>totalRevenue</th>\n",
       "    </tr>\n",
       "  </thead>\n",
       "  <tbody>\n",
       "    <tr>\n",
       "      <th>0</th>\n",
       "      <td>2015-01-01</td>\n",
       "      <td>CH</td>\n",
       "      <td>4000.0</td>\n",
       "      <td>COMPLETED</td>\n",
       "      <td>New Years Day</td>\n",
       "      <td>61900.0</td>\n",
       "    </tr>\n",
       "    <tr>\n",
       "      <th>1</th>\n",
       "      <td>2015-01-01</td>\n",
       "      <td>SV</td>\n",
       "      <td>16500.0</td>\n",
       "      <td>COMPLETED</td>\n",
       "      <td>New Years Day</td>\n",
       "      <td>189266.0</td>\n",
       "    </tr>\n",
       "    <tr>\n",
       "      <th>2</th>\n",
       "      <td>2015-01-01</td>\n",
       "      <td>CL</td>\n",
       "      <td>16349.0</td>\n",
       "      <td>COMPLETED</td>\n",
       "      <td>New Years Day</td>\n",
       "      <td>182999.0</td>\n",
       "    </tr>\n",
       "    <tr>\n",
       "      <th>3</th>\n",
       "      <td>2015-01-01</td>\n",
       "      <td>MB</td>\n",
       "      <td>48270.0</td>\n",
       "      <td>COMPLETED</td>\n",
       "      <td>New Years Day</td>\n",
       "      <td>287280.0</td>\n",
       "    </tr>\n",
       "    <tr>\n",
       "      <th>4</th>\n",
       "      <td>2015-01-01</td>\n",
       "      <td>BB</td>\n",
       "      <td>39000.0</td>\n",
       "      <td>COMPLETED</td>\n",
       "      <td>New Years Day</td>\n",
       "      <td>76050.0</td>\n",
       "    </tr>\n",
       "  </tbody>\n",
       "</table>\n",
       "</div>"
      ],
      "text/plain": [
       "  Booking_date property_id  room_rate booking_status          Event  \\\n",
       "0   2015-01-01          CH     4000.0      COMPLETED  New Years Day   \n",
       "1   2015-01-01          SV    16500.0      COMPLETED  New Years Day   \n",
       "2   2015-01-01          CL    16349.0      COMPLETED  New Years Day   \n",
       "3   2015-01-01          MB    48270.0      COMPLETED  New Years Day   \n",
       "4   2015-01-01          BB    39000.0      COMPLETED  New Years Day   \n",
       "\n",
       "   totalRevenue  \n",
       "0       61900.0  \n",
       "1      189266.0  \n",
       "2      182999.0  \n",
       "3      287280.0  \n",
       "4       76050.0  "
      ]
     },
     "execution_count": 14,
     "metadata": {},
     "output_type": "execute_result"
    }
   ],
   "source": [
    "res1['totalRevenue'] = res1.groupby(['property_id','Booking_date'])['room_rate'].transform('sum')\n",
    "res2 = res1.drop_duplicates()\n",
    "res2.head()"
   ]
  },
  {
   "cell_type": "code",
   "execution_count": 15,
   "metadata": {
    "collapsed": false
   },
   "outputs": [
    {
     "data": {
      "text/html": [
       "<div>\n",
       "<table border=\"1\" class=\"dataframe\">\n",
       "  <thead>\n",
       "    <tr style=\"text-align: right;\">\n",
       "      <th></th>\n",
       "      <th>Booking_date</th>\n",
       "      <th>property_id</th>\n",
       "      <th>room_rate</th>\n",
       "      <th>booking_status</th>\n",
       "      <th>Event</th>\n",
       "      <th>totalRevenue</th>\n",
       "      <th>room_count</th>\n",
       "    </tr>\n",
       "  </thead>\n",
       "  <tbody>\n",
       "    <tr>\n",
       "      <th>0</th>\n",
       "      <td>2015-01-01</td>\n",
       "      <td>CH</td>\n",
       "      <td>4000.0</td>\n",
       "      <td>COMPLETED</td>\n",
       "      <td>New Years Day</td>\n",
       "      <td>61900.0</td>\n",
       "      <td>10</td>\n",
       "    </tr>\n",
       "    <tr>\n",
       "      <th>1</th>\n",
       "      <td>2015-01-01</td>\n",
       "      <td>SV</td>\n",
       "      <td>16500.0</td>\n",
       "      <td>COMPLETED</td>\n",
       "      <td>New Years Day</td>\n",
       "      <td>189266.0</td>\n",
       "      <td>14</td>\n",
       "    </tr>\n",
       "    <tr>\n",
       "      <th>2</th>\n",
       "      <td>2015-01-01</td>\n",
       "      <td>CL</td>\n",
       "      <td>16349.0</td>\n",
       "      <td>COMPLETED</td>\n",
       "      <td>New Years Day</td>\n",
       "      <td>182999.0</td>\n",
       "      <td>5</td>\n",
       "    </tr>\n",
       "    <tr>\n",
       "      <th>3</th>\n",
       "      <td>2015-01-01</td>\n",
       "      <td>MB</td>\n",
       "      <td>48270.0</td>\n",
       "      <td>COMPLETED</td>\n",
       "      <td>New Years Day</td>\n",
       "      <td>287280.0</td>\n",
       "      <td>4</td>\n",
       "    </tr>\n",
       "    <tr>\n",
       "      <th>4</th>\n",
       "      <td>2015-01-01</td>\n",
       "      <td>BB</td>\n",
       "      <td>39000.0</td>\n",
       "      <td>COMPLETED</td>\n",
       "      <td>New Years Day</td>\n",
       "      <td>76050.0</td>\n",
       "      <td>6</td>\n",
       "    </tr>\n",
       "  </tbody>\n",
       "</table>\n",
       "</div>"
      ],
      "text/plain": [
       "  Booking_date property_id  room_rate booking_status          Event  \\\n",
       "0   2015-01-01          CH     4000.0      COMPLETED  New Years Day   \n",
       "1   2015-01-01          SV    16500.0      COMPLETED  New Years Day   \n",
       "2   2015-01-01          CL    16349.0      COMPLETED  New Years Day   \n",
       "3   2015-01-01          MB    48270.0      COMPLETED  New Years Day   \n",
       "4   2015-01-01          BB    39000.0      COMPLETED  New Years Day   \n",
       "\n",
       "   totalRevenue  room_count  \n",
       "0       61900.0          10  \n",
       "1      189266.0          14  \n",
       "2      182999.0           5  \n",
       "3      287280.0           4  \n",
       "4       76050.0           6  "
      ]
     },
     "execution_count": 15,
     "metadata": {},
     "output_type": "execute_result"
    }
   ],
   "source": [
    "res1['room_count'] = res1.groupby(['property_id','Booking_date'])['room_rate'].transform('count')\n",
    "res3 = res1\n",
    "res3.head()"
   ]
  },
  {
   "cell_type": "code",
   "execution_count": 16,
   "metadata": {
    "collapsed": false
   },
   "outputs": [
    {
     "data": {
      "text/html": [
       "<div>\n",
       "<table border=\"1\" class=\"dataframe\">\n",
       "  <thead>\n",
       "    <tr style=\"text-align: right;\">\n",
       "      <th></th>\n",
       "      <th>Booking_date</th>\n",
       "      <th>property_id</th>\n",
       "      <th>room_rate</th>\n",
       "      <th>booking_status</th>\n",
       "      <th>Event</th>\n",
       "      <th>totalRevenue</th>\n",
       "      <th>room_count</th>\n",
       "      <th>ADR</th>\n",
       "    </tr>\n",
       "  </thead>\n",
       "  <tbody>\n",
       "    <tr>\n",
       "      <th>0</th>\n",
       "      <td>2015-01-01</td>\n",
       "      <td>CH</td>\n",
       "      <td>4000.0</td>\n",
       "      <td>COMPLETED</td>\n",
       "      <td>New Years Day</td>\n",
       "      <td>61900.0</td>\n",
       "      <td>10</td>\n",
       "      <td>6190.0</td>\n",
       "    </tr>\n",
       "    <tr>\n",
       "      <th>1</th>\n",
       "      <td>2015-01-01</td>\n",
       "      <td>SV</td>\n",
       "      <td>16500.0</td>\n",
       "      <td>COMPLETED</td>\n",
       "      <td>New Years Day</td>\n",
       "      <td>189266.0</td>\n",
       "      <td>14</td>\n",
       "      <td>13519.0</td>\n",
       "    </tr>\n",
       "    <tr>\n",
       "      <th>2</th>\n",
       "      <td>2015-01-01</td>\n",
       "      <td>CL</td>\n",
       "      <td>16349.0</td>\n",
       "      <td>COMPLETED</td>\n",
       "      <td>New Years Day</td>\n",
       "      <td>182999.0</td>\n",
       "      <td>5</td>\n",
       "      <td>36599.8</td>\n",
       "    </tr>\n",
       "    <tr>\n",
       "      <th>3</th>\n",
       "      <td>2015-01-01</td>\n",
       "      <td>MB</td>\n",
       "      <td>48270.0</td>\n",
       "      <td>COMPLETED</td>\n",
       "      <td>New Years Day</td>\n",
       "      <td>287280.0</td>\n",
       "      <td>4</td>\n",
       "      <td>71820.0</td>\n",
       "    </tr>\n",
       "    <tr>\n",
       "      <th>4</th>\n",
       "      <td>2015-01-01</td>\n",
       "      <td>BB</td>\n",
       "      <td>39000.0</td>\n",
       "      <td>COMPLETED</td>\n",
       "      <td>New Years Day</td>\n",
       "      <td>76050.0</td>\n",
       "      <td>6</td>\n",
       "      <td>12675.0</td>\n",
       "    </tr>\n",
       "  </tbody>\n",
       "</table>\n",
       "</div>"
      ],
      "text/plain": [
       "  Booking_date property_id  room_rate booking_status          Event  \\\n",
       "0   2015-01-01          CH     4000.0      COMPLETED  New Years Day   \n",
       "1   2015-01-01          SV    16500.0      COMPLETED  New Years Day   \n",
       "2   2015-01-01          CL    16349.0      COMPLETED  New Years Day   \n",
       "3   2015-01-01          MB    48270.0      COMPLETED  New Years Day   \n",
       "4   2015-01-01          BB    39000.0      COMPLETED  New Years Day   \n",
       "\n",
       "   totalRevenue  room_count      ADR  \n",
       "0       61900.0          10   6190.0  \n",
       "1      189266.0          14  13519.0  \n",
       "2      182999.0           5  36599.8  \n",
       "3      287280.0           4  71820.0  \n",
       "4       76050.0           6  12675.0  "
      ]
     },
     "execution_count": 16,
     "metadata": {},
     "output_type": "execute_result"
    }
   ],
   "source": [
    "res3['ADR'] = res3.apply(lambda res3: (res3['totalRevenue'] / res3['room_count'] ) , axis=1)\n",
    "res3.head()"
   ]
  },
  {
   "cell_type": "code",
   "execution_count": 17,
   "metadata": {
    "collapsed": false
   },
   "outputs": [],
   "source": [
    "del res3['room_rate']\n",
    "del res3['booking_status']\n",
    "res3 = res3.drop_duplicates()\n",
    "# res3"
   ]
  },
  {
   "cell_type": "code",
   "execution_count": 18,
   "metadata": {
    "collapsed": false
   },
   "outputs": [
    {
     "data": {
      "text/plain": [
       "numpy.ndarray"
      ]
     },
     "execution_count": 18,
     "metadata": {},
     "output_type": "execute_result"
    }
   ],
   "source": [
    "temp = res3['property_id'].unique()\n",
    "type(temp)"
   ]
  },
  {
   "cell_type": "code",
   "execution_count": null,
   "metadata": {
    "collapsed": false
   },
   "outputs": [],
   "source": [
    "for i in range(len(temp)):\n",
    "    property_id = res3[(res3.property_id == temp[i])]\n",
    "    property_id.to_excel('Results/GroupByPropertyID/2015/'+ temp[i] +'.xlsx')"
   ]
  },
  {
   "cell_type": "code",
   "execution_count": 19,
   "metadata": {
    "collapsed": false
   },
   "outputs": [
    {
     "data": {
      "text/html": [
       "\n",
       "    <div class=\"bk-root\">\n",
       "        <a href=\"http://bokeh.pydata.org\" target=\"_blank\" class=\"bk-logo bk-logo-small bk-logo-notebook\"></a>\n",
       "        <span id=\"5d32c22d-694c-405e-9f78-6ccff1c9a5f1\">Loading BokehJS ...</span>\n",
       "    </div>"
      ]
     },
     "metadata": {},
     "output_type": "display_data"
    },
    {
     "data": {
      "application/javascript": [
       "\n",
       "(function(global) {\n",
       "  function now() {\n",
       "    return new Date();\n",
       "  }\n",
       "\n",
       "  var force = \"1\";\n",
       "\n",
       "  if (typeof (window._bokeh_onload_callbacks) === \"undefined\" || force !== \"\") {\n",
       "    window._bokeh_onload_callbacks = [];\n",
       "    window._bokeh_is_loading = undefined;\n",
       "  }\n",
       "\n",
       "\n",
       "  \n",
       "  if (typeof (window._bokeh_timeout) === \"undefined\" || force !== \"\") {\n",
       "    window._bokeh_timeout = Date.now() + 5000;\n",
       "    window._bokeh_failed_load = false;\n",
       "  }\n",
       "\n",
       "  var NB_LOAD_WARNING = {'data': {'text/html':\n",
       "     \"<div style='background-color: #fdd'>\\n\"+\n",
       "     \"<p>\\n\"+\n",
       "     \"BokehJS does not appear to have successfully loaded. If loading BokehJS from CDN, this \\n\"+\n",
       "     \"may be due to a slow or bad network connection. Possible fixes:\\n\"+\n",
       "     \"</p>\\n\"+\n",
       "     \"<ul>\\n\"+\n",
       "     \"<li>re-rerun `output_notebook()` to attempt to load from CDN again, or</li>\\n\"+\n",
       "     \"<li>use INLINE resources instead, as so:</li>\\n\"+\n",
       "     \"</ul>\\n\"+\n",
       "     \"<code>\\n\"+\n",
       "     \"from bokeh.resources import INLINE\\n\"+\n",
       "     \"output_notebook(resources=INLINE)\\n\"+\n",
       "     \"</code>\\n\"+\n",
       "     \"</div>\"}};\n",
       "\n",
       "  function display_loaded() {\n",
       "    if (window.Bokeh !== undefined) {\n",
       "      Bokeh.$(\"#5d32c22d-694c-405e-9f78-6ccff1c9a5f1\").text(\"BokehJS successfully loaded.\");\n",
       "    } else if (Date.now() < window._bokeh_timeout) {\n",
       "      setTimeout(display_loaded, 100)\n",
       "    }\n",
       "  }\n",
       "\n",
       "  function run_callbacks() {\n",
       "    window._bokeh_onload_callbacks.forEach(function(callback) { callback() });\n",
       "    delete window._bokeh_onload_callbacks\n",
       "    console.info(\"Bokeh: all callbacks have finished\");\n",
       "  }\n",
       "\n",
       "  function load_libs(js_urls, callback) {\n",
       "    window._bokeh_onload_callbacks.push(callback);\n",
       "    if (window._bokeh_is_loading > 0) {\n",
       "      console.log(\"Bokeh: BokehJS is being loaded, scheduling callback at\", now());\n",
       "      return null;\n",
       "    }\n",
       "    if (js_urls == null || js_urls.length === 0) {\n",
       "      run_callbacks();\n",
       "      return null;\n",
       "    }\n",
       "    console.log(\"Bokeh: BokehJS not loaded, scheduling load and callback at\", now());\n",
       "    window._bokeh_is_loading = js_urls.length;\n",
       "    for (var i = 0; i < js_urls.length; i++) {\n",
       "      var url = js_urls[i];\n",
       "      var s = document.createElement('script');\n",
       "      s.src = url;\n",
       "      s.async = false;\n",
       "      s.onreadystatechange = s.onload = function() {\n",
       "        window._bokeh_is_loading--;\n",
       "        if (window._bokeh_is_loading === 0) {\n",
       "          console.log(\"Bokeh: all BokehJS libraries loaded\");\n",
       "          run_callbacks()\n",
       "        }\n",
       "      };\n",
       "      s.onerror = function() {\n",
       "        console.warn(\"failed to load library \" + url);\n",
       "      };\n",
       "      console.log(\"Bokeh: injecting script tag for BokehJS library: \", url);\n",
       "      document.getElementsByTagName(\"head\")[0].appendChild(s);\n",
       "    }\n",
       "  };var element = document.getElementById(\"5d32c22d-694c-405e-9f78-6ccff1c9a5f1\");\n",
       "  if (element == null) {\n",
       "    console.log(\"Bokeh: ERROR: autoload.js configured with elementid '5d32c22d-694c-405e-9f78-6ccff1c9a5f1' but no matching script tag was found. \")\n",
       "    return false;\n",
       "  }\n",
       "\n",
       "  var js_urls = ['https://cdn.pydata.org/bokeh/release/bokeh-0.12.2.min.js', 'https://cdn.pydata.org/bokeh/release/bokeh-widgets-0.12.2.min.js', 'https://cdn.pydata.org/bokeh/release/bokeh-compiler-0.12.2.min.js'];\n",
       "\n",
       "  var inline_js = [\n",
       "    function(Bokeh) {\n",
       "      Bokeh.set_log_level(\"info\");\n",
       "    },\n",
       "    \n",
       "    function(Bokeh) {\n",
       "      \n",
       "      Bokeh.$(\"#5d32c22d-694c-405e-9f78-6ccff1c9a5f1\").text(\"BokehJS is loading...\");\n",
       "    },\n",
       "    function(Bokeh) {\n",
       "      console.log(\"Bokeh: injecting CSS: https://cdn.pydata.org/bokeh/release/bokeh-0.12.2.min.css\");\n",
       "      Bokeh.embed.inject_css(\"https://cdn.pydata.org/bokeh/release/bokeh-0.12.2.min.css\");\n",
       "      console.log(\"Bokeh: injecting CSS: https://cdn.pydata.org/bokeh/release/bokeh-widgets-0.12.2.min.css\");\n",
       "      Bokeh.embed.inject_css(\"https://cdn.pydata.org/bokeh/release/bokeh-widgets-0.12.2.min.css\");\n",
       "    }\n",
       "  ];\n",
       "\n",
       "  function run_inline_js() {\n",
       "    \n",
       "    if ((window.Bokeh !== undefined) || (force === \"1\")) {\n",
       "      for (var i = 0; i < inline_js.length; i++) {\n",
       "        inline_js[i](window.Bokeh);\n",
       "      }if (force === \"1\") {\n",
       "        display_loaded();\n",
       "      }} else if (Date.now() < window._bokeh_timeout) {\n",
       "      setTimeout(run_inline_js, 100);\n",
       "    } else if (!window._bokeh_failed_load) {\n",
       "      console.log(\"Bokeh: BokehJS failed to load within specified timeout.\");\n",
       "      window._bokeh_failed_load = true;\n",
       "    } else if (!force) {\n",
       "      var cell = $(\"#5d32c22d-694c-405e-9f78-6ccff1c9a5f1\").parents('.cell').data().cell;\n",
       "      cell.output_area.append_execute_result(NB_LOAD_WARNING)\n",
       "    }\n",
       "\n",
       "  }\n",
       "\n",
       "  if (window._bokeh_is_loading === 0) {\n",
       "    console.log(\"Bokeh: BokehJS loaded, going straight to plotting\");\n",
       "    run_inline_js();\n",
       "  } else {\n",
       "    load_libs(js_urls, function() {\n",
       "      console.log(\"Bokeh: BokehJS plotting callback run at\", now());\n",
       "      run_inline_js();\n",
       "    });\n",
       "  }\n",
       "}(this));"
      ]
     },
     "metadata": {},
     "output_type": "display_data"
    }
   ],
   "source": [
    "# Our numerical workhorses\n",
    "import numpy as np\n",
    "import pandas as pd\n",
    "\n",
    "# Import Bokeh modules for interactive plotting\n",
    "import bokeh.charts\n",
    "import bokeh.charts.utils\n",
    "import bokeh.io\n",
    "import bokeh.models\n",
    "import bokeh.palettes\n",
    "import bokeh.plotting\n",
    "\n",
    "# Display graphics in this notebook\n",
    "bokeh.io.output_notebook()"
   ]
  },
  {
   "cell_type": "code",
   "execution_count": 20,
   "metadata": {
    "collapsed": true
   },
   "outputs": [],
   "source": [
    "import bokeh.plotting as plt\n",
    "from bokeh.plotting import figure, output_file, show, ColumnDataSource\n",
    "from bokeh.models import HoverTool\n",
    "from bokeh.models.formatters import DatetimeTickFormatter\n"
   ]
  },
  {
   "cell_type": "code",
   "execution_count": 21,
   "metadata": {
    "collapsed": true
   },
   "outputs": [],
   "source": [
    "property_id_BB = pd.read_excel('Results/GroupByPropertyID/2015/BB.xlsx')\n",
    "property_id_BB = property_id_BB.reset_index()\n",
    "property_id_BB = property_id_BB.sort_values(by = 'Booking_date', ascending=True)\n",
    "property_id_BB1 = property_id_BB.values.T.tolist()"
   ]
  },
  {
   "cell_type": "code",
   "execution_count": 22,
   "metadata": {
    "collapsed": false
   },
   "outputs": [
    {
     "data": {
      "text/plain": [
       "ADR    28208.167896\n",
       "dtype: float64"
      ]
     },
     "execution_count": 22,
     "metadata": {},
     "output_type": "execute_result"
    }
   ],
   "source": [
    "property_id_BB[['ADR']].mean()"
   ]
  },
  {
   "cell_type": "code",
   "execution_count": 23,
   "metadata": {
    "collapsed": false
   },
   "outputs": [
    {
     "data": {
      "text/plain": [
       "totalRevenue    240068.02988\n",
       "dtype: float64"
      ]
     },
     "execution_count": 23,
     "metadata": {},
     "output_type": "execute_result"
    }
   ],
   "source": [
    "property_id_BB[['totalRevenue']].mean()"
   ]
  },
  {
   "cell_type": "code",
   "execution_count": null,
   "metadata": {
    "collapsed": false
   },
   "outputs": [],
   "source": [
    "property_id_BB[['ADR']].sum()"
   ]
  },
  {
   "cell_type": "code",
   "execution_count": null,
   "metadata": {
    "collapsed": false
   },
   "outputs": [],
   "source": [
    "property_id_BB[['totalRevenue']].sum()"
   ]
  },
  {
   "cell_type": "code",
   "execution_count": null,
   "metadata": {
    "collapsed": true
   },
   "outputs": [],
   "source": [
    "# property_id_BB16 = pd.read_excel('Results/GroupByPropertyID/2016/BB.xlsx')\n",
    "# property_id_BB16 = property_id_BB16.reset_index()\n",
    "# property_id_BB16 = property_id_BB16.sort_values(by = 'Booking_date', ascending=True)\n",
    "# property_id_BB116 = property_id_BB16.values.T.tolist()"
   ]
  },
  {
   "cell_type": "code",
   "execution_count": null,
   "metadata": {
    "collapsed": false
   },
   "outputs": [],
   "source": [
    "# source = ColumnDataSource(\n",
    "#         data=dict(\n",
    "#             x=property_id_BB1[1],\n",
    "#             y=property_id_BB1[4],\n",
    "#             desc=property_id_BB1[3],\n",
    "#             date=[x.strftime(\"%Y-%m-%d\") for x in property_id_BB['Booking_date']]\n",
    "#         )\n",
    "#     )\n",
    "\n",
    "# sourceA = ColumnDataSource(\n",
    "#         data=dict(\n",
    "#             x=property_id_BB116[1],\n",
    "#             y=property_id_BB116[4],\n",
    "#             desc=property_id_BB116[3],\n",
    "#             date=[x.strftime(\"%Y-%m-%d\") for x in property_id_BB16['Booking_date']]\n",
    "#         )\n",
    "#     )\n",
    "\n",
    "# hover = HoverTool(\n",
    "#         tooltips=[\n",
    "#             (\"Date\",\"@date\"),\n",
    "#             (\"Event\", \"@desc\"),\n",
    "#             (\"Total Revenue\",\"@y{1.11}\")\n",
    "#         ]\n",
    "#     )\n",
    "\n",
    "# p = plt.figure(x_axis_type=\"datetime\",width=800, height=500, tools=[hover],\n",
    "#            title=\"Graph of BookingDate vs TotalRevenue for BB (hover to view events)\",x_axis_label = \"Booking Date\",\n",
    "#                y_axis_label = \"Total Revenue\")\n",
    "# p.left[0].formatter.use_scientific = False\n",
    "# p.line('x', 'y', line_width=2, source=source, legend=\"2015\", color=\"red\")   \n",
    "# p.line('x', 'y', line_width=2, source=sourceA, legend=\"2016\", color=\"green\")   \n",
    "# show(p)"
   ]
  },
  {
   "cell_type": "code",
   "execution_count": null,
   "metadata": {
    "collapsed": false
   },
   "outputs": [],
   "source": [
    "# source = ColumnDataSource(\n",
    "#         data=dict(\n",
    "#             x=property_id_BB1[1],\n",
    "#             y=property_id_BB1[6],\n",
    "#             desc=property_id_BB1[3],\n",
    "#             date=[x.strftime(\"%Y-%m-%d\") for x in property_id_BB['Booking_date']]\n",
    "#         )\n",
    "#     )\n",
    "\n",
    "# sourceA = ColumnDataSource(\n",
    "#         data=dict(\n",
    "#             x=property_id_BB116[1],\n",
    "#             y=property_id_BB116[6],\n",
    "#             desc=property_id_BB116[3],\n",
    "#             date=[x.strftime(\"%Y-%m-%d\") for x in property_id_BB16['Booking_date']]\n",
    "#         )\n",
    "#     )\n",
    "\n",
    "# hover = HoverTool(\n",
    "#         tooltips=[\n",
    "#             (\"Date\",\"@date\"),\n",
    "#             (\"Event\", \"@desc\"),\n",
    "#             (\"Total Revenue\",\"@y{1.11}\")\n",
    "#         ]\n",
    "#     )\n",
    "\n",
    "# p = plt.figure(x_axis_type=\"datetime\",width=800, height=500, tools=[hover],\n",
    "#            title=\"Graph of BookingDate vs ADR for BB (hover to view events)\",x_axis_label = \"Booking Date\",\n",
    "#                y_axis_label = \"ADR\")\n",
    "# p.left[0].formatter.use_scientific = False\n",
    "# p.line('x', 'y', line_width=2, source=source, legend=\"2015\", color=\"red\")   \n",
    "# p.line('x', 'y', line_width=2, source=sourceA, legend=\"2016\", color=\"green\")   \n",
    "# show(p)"
   ]
  },
  {
   "cell_type": "code",
   "execution_count": 24,
   "metadata": {
    "collapsed": false
   },
   "outputs": [
    {
     "data": {
      "text/html": [
       "\n",
       "\n",
       "    <div class=\"bk-root\">\n",
       "        <div class=\"plotdiv\" id=\"cb8fa4fe-570b-4864-9f8c-26908abd44c8\"></div>\n",
       "    </div>\n",
       "<script type=\"text/javascript\">\n",
       "  \n",
       "  (function(global) {\n",
       "    function now() {\n",
       "      return new Date();\n",
       "    }\n",
       "  \n",
       "    var force = \"\";\n",
       "  \n",
       "    if (typeof (window._bokeh_onload_callbacks) === \"undefined\" || force !== \"\") {\n",
       "      window._bokeh_onload_callbacks = [];\n",
       "      window._bokeh_is_loading = undefined;\n",
       "    }\n",
       "  \n",
       "  \n",
       "    \n",
       "    if (typeof (window._bokeh_timeout) === \"undefined\" || force !== \"\") {\n",
       "      window._bokeh_timeout = Date.now() + 0;\n",
       "      window._bokeh_failed_load = false;\n",
       "    }\n",
       "  \n",
       "    var NB_LOAD_WARNING = {'data': {'text/html':\n",
       "       \"<div style='background-color: #fdd'>\\n\"+\n",
       "       \"<p>\\n\"+\n",
       "       \"BokehJS does not appear to have successfully loaded. If loading BokehJS from CDN, this \\n\"+\n",
       "       \"may be due to a slow or bad network connection. Possible fixes:\\n\"+\n",
       "       \"</p>\\n\"+\n",
       "       \"<ul>\\n\"+\n",
       "       \"<li>re-rerun `output_notebook()` to attempt to load from CDN again, or</li>\\n\"+\n",
       "       \"<li>use INLINE resources instead, as so:</li>\\n\"+\n",
       "       \"</ul>\\n\"+\n",
       "       \"<code>\\n\"+\n",
       "       \"from bokeh.resources import INLINE\\n\"+\n",
       "       \"output_notebook(resources=INLINE)\\n\"+\n",
       "       \"</code>\\n\"+\n",
       "       \"</div>\"}};\n",
       "  \n",
       "    function display_loaded() {\n",
       "      if (window.Bokeh !== undefined) {\n",
       "        Bokeh.$(\"#cb8fa4fe-570b-4864-9f8c-26908abd44c8\").text(\"BokehJS successfully loaded.\");\n",
       "      } else if (Date.now() < window._bokeh_timeout) {\n",
       "        setTimeout(display_loaded, 100)\n",
       "      }\n",
       "    }\n",
       "  \n",
       "    function run_callbacks() {\n",
       "      window._bokeh_onload_callbacks.forEach(function(callback) { callback() });\n",
       "      delete window._bokeh_onload_callbacks\n",
       "      console.info(\"Bokeh: all callbacks have finished\");\n",
       "    }\n",
       "  \n",
       "    function load_libs(js_urls, callback) {\n",
       "      window._bokeh_onload_callbacks.push(callback);\n",
       "      if (window._bokeh_is_loading > 0) {\n",
       "        console.log(\"Bokeh: BokehJS is being loaded, scheduling callback at\", now());\n",
       "        return null;\n",
       "      }\n",
       "      if (js_urls == null || js_urls.length === 0) {\n",
       "        run_callbacks();\n",
       "        return null;\n",
       "      }\n",
       "      console.log(\"Bokeh: BokehJS not loaded, scheduling load and callback at\", now());\n",
       "      window._bokeh_is_loading = js_urls.length;\n",
       "      for (var i = 0; i < js_urls.length; i++) {\n",
       "        var url = js_urls[i];\n",
       "        var s = document.createElement('script');\n",
       "        s.src = url;\n",
       "        s.async = false;\n",
       "        s.onreadystatechange = s.onload = function() {\n",
       "          window._bokeh_is_loading--;\n",
       "          if (window._bokeh_is_loading === 0) {\n",
       "            console.log(\"Bokeh: all BokehJS libraries loaded\");\n",
       "            run_callbacks()\n",
       "          }\n",
       "        };\n",
       "        s.onerror = function() {\n",
       "          console.warn(\"failed to load library \" + url);\n",
       "        };\n",
       "        console.log(\"Bokeh: injecting script tag for BokehJS library: \", url);\n",
       "        document.getElementsByTagName(\"head\")[0].appendChild(s);\n",
       "      }\n",
       "    };var element = document.getElementById(\"cb8fa4fe-570b-4864-9f8c-26908abd44c8\");\n",
       "    if (element == null) {\n",
       "      console.log(\"Bokeh: ERROR: autoload.js configured with elementid 'cb8fa4fe-570b-4864-9f8c-26908abd44c8' but no matching script tag was found. \")\n",
       "      return false;\n",
       "    }\n",
       "  \n",
       "    var js_urls = [];\n",
       "  \n",
       "    var inline_js = [\n",
       "      function(Bokeh) {\n",
       "        Bokeh.$(function() {\n",
       "            var docs_json = {\"65eff5c5-0a28-4f07-91fa-c343e7103273\":{\"roots\":{\"references\":[{\"attributes\":{\"months\":[0,1,2,3,4,5,6,7,8,9,10,11]},\"id\":\"e2e67e41-ad1e-437c-9e19-05b28060d926\",\"type\":\"MonthsTicker\"},{\"attributes\":{\"dimension\":1,\"plot\":{\"id\":\"6daff766-9d8e-4fda-ac49-5c74064dfa70\",\"subtype\":\"Figure\",\"type\":\"Plot\"},\"ticker\":{\"id\":\"084ce72a-3562-4d4a-82f9-0eebe0651ae2\",\"type\":\"BasicTicker\"}},\"id\":\"60c3ce65-4e27-4256-a16c-99379b849736\",\"type\":\"Grid\"},{\"attributes\":{\"days\":[1,15]},\"id\":\"b2b91837-3cec-46f4-ada7-858890673c62\",\"type\":\"DaysTicker\"},{\"attributes\":{\"base\":60,\"mantissas\":[1,2,5,10,15,20,30],\"max_interval\":1800000.0,\"min_interval\":1000.0,\"num_minor_ticks\":0},\"id\":\"268666d7-cbf4-4518-8934-7bfde9233568\",\"type\":\"AdaptiveTicker\"},{\"attributes\":{\"axis_label\":\"Total Revenue\",\"formatter\":{\"id\":\"3f130d14-d4ad-464c-9ba1-b17bf4a444ad\",\"type\":\"BasicTickFormatter\"},\"plot\":{\"id\":\"6daff766-9d8e-4fda-ac49-5c74064dfa70\",\"subtype\":\"Figure\",\"type\":\"Plot\"},\"ticker\":{\"id\":\"084ce72a-3562-4d4a-82f9-0eebe0651ae2\",\"type\":\"BasicTicker\"}},\"id\":\"e9cc4d5e-d640-42dd-bb90-22fe232dc7de\",\"type\":\"LinearAxis\"},{\"attributes\":{},\"id\":\"084ce72a-3562-4d4a-82f9-0eebe0651ae2\",\"type\":\"BasicTicker\"},{\"attributes\":{\"active_drag\":\"auto\",\"active_scroll\":\"auto\",\"active_tap\":\"auto\",\"tools\":[{\"id\":\"8dcd5fae-b0fa-48ac-b913-10965c6ede28\",\"type\":\"HoverTool\"}]},\"id\":\"2d620cfa-9133-4781-976a-135e93c32b8f\",\"type\":\"Toolbar\"},{\"attributes\":{\"months\":[0,6]},\"id\":\"619ee780-d487-481b-a785-3044e731b2e1\",\"type\":\"MonthsTicker\"},{\"attributes\":{\"months\":[0,2,4,6,8,10]},\"id\":\"4f7f46c4-4d41-4949-b755-ace084e65d20\",\"type\":\"MonthsTicker\"},{\"attributes\":{\"days\":[1,4,7,10,13,16,19,22,25,28]},\"id\":\"a9ac67aa-3c32-4eb5-9a17-b641ae0570b8\",\"type\":\"DaysTicker\"},{\"attributes\":{\"plot\":{\"id\":\"6daff766-9d8e-4fda-ac49-5c74064dfa70\",\"subtype\":\"Figure\",\"type\":\"Plot\"},\"ticker\":{\"id\":\"996bb887-3dce-4f6d-abc8-fe75528f013b\",\"type\":\"DatetimeTicker\"}},\"id\":\"5300b904-b56b-4cb6-af75-af1a02216e17\",\"type\":\"Grid\"},{\"attributes\":{},\"id\":\"18e0b063-b980-498e-b4d2-92ad09ae3deb\",\"type\":\"DatetimeTickFormatter\"},{\"attributes\":{},\"id\":\"9a8c75af-2a3c-4539-99b5-91b30e944be1\",\"type\":\"YearsTicker\"},{\"attributes\":{},\"id\":\"0be3902f-a942-4731-9251-21ab3f4f9043\",\"type\":\"ToolEvents\"},{\"attributes\":{\"use_scientific\":false},\"id\":\"3f130d14-d4ad-464c-9ba1-b17bf4a444ad\",\"type\":\"BasicTickFormatter\"},{\"attributes\":{\"data_source\":{\"id\":\"a95937c6-ec60-43cf-9bbd-dbdd36e41ac4\",\"type\":\"ColumnDataSource\"},\"glyph\":{\"id\":\"fd68ae3b-110a-4561-81e1-bc14c08992cb\",\"type\":\"Line\"},\"hover_glyph\":null,\"nonselection_glyph\":{\"id\":\"f98678ed-8bfa-447c-aee0-b7a1c0c94f3f\",\"type\":\"Line\"},\"selection_glyph\":null},\"id\":\"2270a09d-e4ef-45f9-a997-e53a967a1b77\",\"type\":\"GlyphRenderer\"},{\"attributes\":{\"line_alpha\":{\"value\":0.1},\"line_color\":{\"value\":\"#1f77b4\"},\"line_width\":{\"value\":2},\"x\":{\"field\":\"x\"},\"y\":{\"field\":\"y\"}},\"id\":\"f98678ed-8bfa-447c-aee0-b7a1c0c94f3f\",\"type\":\"Line\"},{\"attributes\":{\"callback\":null},\"id\":\"9999ea46-9a09-4386-a80c-e305f7e0588f\",\"type\":\"DataRange1d\"},{\"attributes\":{\"callback\":null,\"column_names\":[\"desc\",\"date\",\"y\",\"x\"],\"data\":{\"date\":[\"2015-01-01\",\"2015-01-03\",\"2015-01-04\",\"2015-01-05\",\"2015-01-12\",\"2015-01-13\",\"2015-01-14\",\"2015-01-15\",\"2015-01-16\",\"2015-01-17\",\"2015-01-21\",\"2015-01-23\",\"2015-01-24\",\"2015-01-25\",\"2015-01-26\",\"2015-01-31\",\"2015-02-03\",\"2015-02-14\",\"2015-02-19\",\"2015-02-27\",\"2015-03-05\",\"2015-03-18\",\"2015-03-21\",\"2015-03-23\",\"2015-03-28\",\"2015-04-01\",\"2015-04-02\",\"2015-04-03\",\"2015-04-14\",\"2015-04-15\",\"2015-04-16\",\"2015-04-17\",\"2015-04-20\",\"2015-05-01\",\"2015-05-03\",\"2015-05-04\",\"2015-05-09\",\"2015-05-20\",\"2015-06-02\",\"2015-06-15\",\"2015-06-16\",\"2015-06-19\",\"2015-07-10\",\"2015-07-18\",\"2015-07-28\",\"2015-07-30\",\"2015-08-17\",\"2015-08-18\",\"2015-08-19\",\"2015-08-27\",\"2015-08-28\",\"2015-08-29\",\"2015-09-05\",\"2015-09-15\",\"2015-09-17\",\"2015-09-18\",\"2015-09-21\",\"2015-09-23\",\"2015-09-24\",\"2015-09-25\",\"2015-10-02\",\"2015-10-12\",\"2015-10-13\",\"2015-10-20\",\"2015-10-21\",\"2015-10-22\",\"2015-10-23\",\"2015-10-24\",\"2015-10-25\",\"2015-10-26\",\"2015-10-27\",\"2015-10-31\",\"2015-11-01\",\"2015-11-10\",\"2015-11-11\",\"2015-11-12\",\"2015-11-16\",\"2015-11-17\",\"2015-11-25\",\"2015-11-28\",\"2015-12-06\",\"2015-12-17\",\"2015-12-24\"],\"desc\":[\"New Years Day\",\"Milad-un-Nabi\",\"Id-e-Milad\",\"Guru Gobind Singh Jayanti\",\"Birthday of Swami Vivekananda\",\"Bhogi\",\"Pongal\",\"Pongal\",\"Thiruvalluvar Day\",\"Uzhavar Tirunal\",\"Sonam Lhochar\",\"Netaji Subhas Chandra Bose Jayanti\",\"Vasant Panchami\",\"Statehood Day\",\"Republic Day\",\"Me-dam-me-phi\",\"Guru Ravidas Birthday\",\"Maharshi Dayanand Saraswati Jayanti\",\"Chhatrapati Shivaji Maharaj Jayanti\",\"Public Holiday\",\"Doljatra\",\"Public Holiday\",\"Ugadi\",\"Shaheedi Diwas of Bhagat Singh, Rajguru & Sukhdev\",\"Ram Navami\",\"Odisha Day\",\"Mahavir Jayanti\",\"Good Friday\",\"Dr Ambedkar Jayanti\",\"Bohag Bihu Holiday\",\"Bohag Bihu Holiday\",\"Public Holiday\",\"Parashurama Jayanti\",\"May Day\",\"Hazrat Alis Birthday\",\"Buddha Purnima\",\"Birthday of Rabindra Nath Tagore\",\"Maharana Pratap Jayanti\",\"Sant Guru Kabir Jayanti\",\"Raja Sankranti\",\"Guru Arjun Dev Martyrdom day\",\"Foundation of Sri Anandpur Sahib\",\"Jumat-ul-Wida\",\"Idul Fitr\",\"Public Holiday\",\"Public Holiday\",\"Teej\",\"Parsi New Year\",\"Public Holiday\",\"First Onam\",\"Thiruvonam\",\"Raksha Bandhan\",\"Janmashtami\",\"Tithi of Shrimanta Shankar Dev\",\"Ganesh Chaturthi\",\"Nuakhai\",\"Sree Narayana Guru Samadhi\",\"Haryana's Heroes' Martyrdom Day\",\"Idul Juha\",\"Idul Juha\",\"Mahatma Gandhi Birthday\",\"Mahalaya\",\"Maharaja Agrasen Jayanati\",\"Public Holiday\",\"Ayudha Puja\",\"Dussehra\",\"Vijaya Dashami\",\"Muharram (10th Day)\",\"Public Holiday\",\"Lakshmi Puja\",\"Maharishi Valmiki Birthday\",\"Public Holiday\",\"Kannada Rajyothsava\",\"Deewali\",\"Deewali\",\"Vishavkarma day\",\"Kartar Singh Sarabha Martyrdom Day\",\"Chhath Puja\",\"Rasa Purnima\",\"Kanakadasa Jayanthi\",\"Dr Ambedkar death anniversary\",\"Public Holiday\",\"Id-e-Milad\"],\"x\":[1420070400000.0,1420243200000.0,1420329600000.0,1420416000000.0,1421020800000.0,1421107200000.0,1421193600000.0,1421280000000.0,1421366400000.0,1421452800000.0,1421798400000.0,1421971200000.0,1422057600000.0,1422144000000.0,1422230400000.0,1422662400000.0,1422921600000.0,1423872000000.0,1424304000000.0,1424995200000.0,1425513600000.0,1426636800000.0,1426896000000.0,1427068800000.0,1427500800000.0,1427846400000.0,1427932800000.0,1428019200000.0,1428969600000.0,1429056000000.0,1429142400000.0,1429228800000.0,1429488000000.0,1430438400000.0,1430611200000.0,1430697600000.0,1431129600000.0,1432080000000.0,1433203200000.0,1434326400000.0,1434412800000.0,1434672000000.0,1436486400000.0,1437177600000.0,1438041600000.0,1438214400000.0,1439769600000.0,1439856000000.0,1439942400000.0,1440633600000.0,1440720000000.0,1440806400000.0,1441411200000.0,1442275200000.0,1442448000000.0,1442534400000.0,1442793600000.0,1442966400000.0,1443052800000.0,1443139200000.0,1443744000000.0,1444608000000.0,1444694400000.0,1445299200000.0,1445385600000.0,1445472000000.0,1445558400000.0,1445644800000.0,1445731200000.0,1445817600000.0,1445904000000.0,1446249600000.0,1446336000000.0,1447113600000.0,1447200000000.0,1447286400000.0,1447632000000.0,1447718400000.0,1448409600000.0,1448668800000.0,1449360000000.0,1450310400000.0,1450915200000.0],\"y\":[76050.0,36900.0,52000.0,92374.5,513100.0,128440.0,283300.0,317435.0,295782.0,156201.0,218811.0,142600.0,55800.0,39000.0,0.0,352772.0,683205.0,61425.0,205807.0,385587.0,317650.0,190707.5,81900.0,291275.0,105435.0,263736.0,652480.0,38000.0,155350.0,21000.0,204956.0,208436.0,317550.0,334050.0,162400.0,251600.0,127450.0,178210.0,80725.0,285427.0,236811.0,67905.0,437203.0,43200.0,715917.0,95025.0,452085.0,441275.0,258065.0,275810.0,24747.0,160313.0,190910.0,438413.98,691123.5,709885.0,233998.0,363745.0,195730.0,119864.0,38000.0,441840.0,215190.0,289930.0,109311.0,709080.0,329625.0,247928.0,63950.0,192990.0,224966.0,264856.0,44850.0,52300.0,148682.0,174916.0,822758.0,314650.0,195185.0,56125.0,80460.0,95250.0,295852.0]}},\"id\":\"a95937c6-ec60-43cf-9bbd-dbdd36e41ac4\",\"type\":\"ColumnDataSource\"},{\"attributes\":{\"days\":[1,2,3,4,5,6,7,8,9,10,11,12,13,14,15,16,17,18,19,20,21,22,23,24,25,26,27,28,29,30,31]},\"id\":\"78ef35f6-a9c2-45dc-8d87-d9380fcea81c\",\"type\":\"DaysTicker\"},{\"attributes\":{\"line_color\":{\"value\":\"#1f77b4\"},\"line_width\":{\"value\":2},\"x\":{\"field\":\"x\"},\"y\":{\"field\":\"y\"}},\"id\":\"fd68ae3b-110a-4561-81e1-bc14c08992cb\",\"type\":\"Line\"},{\"attributes\":{\"plot\":null,\"text\":\"Graph of BookingDate vs TotalRevenue for BB (hover to view events)\"},\"id\":\"f48b399c-f7a1-4509-b769-32938d148fb4\",\"type\":\"Title\"},{\"attributes\":{\"num_minor_ticks\":5},\"id\":\"996bb887-3dce-4f6d-abc8-fe75528f013b\",\"type\":\"DatetimeTicker\"},{\"attributes\":{\"callback\":null,\"plot\":{\"id\":\"6daff766-9d8e-4fda-ac49-5c74064dfa70\",\"subtype\":\"Figure\",\"type\":\"Plot\"},\"tooltips\":[[\"Date\",\"@date\"],[\"Event\",\"@desc\"],[\"Total Revenue\",\"@y{1.11}\"]]},\"id\":\"8dcd5fae-b0fa-48ac-b913-10965c6ede28\",\"type\":\"HoverTool\"},{\"attributes\":{\"callback\":null},\"id\":\"8ac8f02f-13d5-457d-bd55-0ed10eb3e5a6\",\"type\":\"DataRange1d\"},{\"attributes\":{\"months\":[0,4,8]},\"id\":\"1c77cbda-8912-4451-909b-1eca02196871\",\"type\":\"MonthsTicker\"},{\"attributes\":{\"axis_label\":\"Booking Date\",\"formatter\":{\"id\":\"18e0b063-b980-498e-b4d2-92ad09ae3deb\",\"type\":\"DatetimeTickFormatter\"},\"plot\":{\"id\":\"6daff766-9d8e-4fda-ac49-5c74064dfa70\",\"subtype\":\"Figure\",\"type\":\"Plot\"},\"ticker\":{\"id\":\"996bb887-3dce-4f6d-abc8-fe75528f013b\",\"type\":\"DatetimeTicker\"}},\"id\":\"5bad953c-0b08-434b-8278-b59455d9365d\",\"type\":\"DatetimeAxis\"},{\"attributes\":{\"below\":[{\"id\":\"5bad953c-0b08-434b-8278-b59455d9365d\",\"type\":\"DatetimeAxis\"}],\"left\":[{\"id\":\"e9cc4d5e-d640-42dd-bb90-22fe232dc7de\",\"type\":\"LinearAxis\"}],\"plot_height\":500,\"plot_width\":800,\"renderers\":[{\"id\":\"5bad953c-0b08-434b-8278-b59455d9365d\",\"type\":\"DatetimeAxis\"},{\"id\":\"5300b904-b56b-4cb6-af75-af1a02216e17\",\"type\":\"Grid\"},{\"id\":\"e9cc4d5e-d640-42dd-bb90-22fe232dc7de\",\"type\":\"LinearAxis\"},{\"id\":\"60c3ce65-4e27-4256-a16c-99379b849736\",\"type\":\"Grid\"},{\"id\":\"2270a09d-e4ef-45f9-a997-e53a967a1b77\",\"type\":\"GlyphRenderer\"}],\"title\":{\"id\":\"f48b399c-f7a1-4509-b769-32938d148fb4\",\"type\":\"Title\"},\"tool_events\":{\"id\":\"0be3902f-a942-4731-9251-21ab3f4f9043\",\"type\":\"ToolEvents\"},\"toolbar\":{\"id\":\"2d620cfa-9133-4781-976a-135e93c32b8f\",\"type\":\"Toolbar\"},\"x_range\":{\"id\":\"9999ea46-9a09-4386-a80c-e305f7e0588f\",\"type\":\"DataRange1d\"},\"y_range\":{\"id\":\"8ac8f02f-13d5-457d-bd55-0ed10eb3e5a6\",\"type\":\"DataRange1d\"}},\"id\":\"6daff766-9d8e-4fda-ac49-5c74064dfa70\",\"subtype\":\"Figure\",\"type\":\"Plot\"},{\"attributes\":{\"max_interval\":500.0,\"num_minor_ticks\":0},\"id\":\"da8131d6-6a60-4670-844f-aff4fe50c293\",\"type\":\"AdaptiveTicker\"},{\"attributes\":{\"base\":24,\"mantissas\":[1,2,4,6,8,12],\"max_interval\":43200000.0,\"min_interval\":3600000.0,\"num_minor_ticks\":0},\"id\":\"503ce9a2-3a0a-45c2-9fa5-68cbc84a42bc\",\"type\":\"AdaptiveTicker\"},{\"attributes\":{\"days\":[1,8,15,22]},\"id\":\"6c53988f-f3bc-4b47-a51f-399a5f4cb63c\",\"type\":\"DaysTicker\"}],\"root_ids\":[\"6daff766-9d8e-4fda-ac49-5c74064dfa70\"]},\"title\":\"Bokeh Application\",\"version\":\"0.12.2\"}};\n",
       "            var render_items = [{\"docid\":\"65eff5c5-0a28-4f07-91fa-c343e7103273\",\"elementid\":\"cb8fa4fe-570b-4864-9f8c-26908abd44c8\",\"modelid\":\"6daff766-9d8e-4fda-ac49-5c74064dfa70\"}];\n",
       "            \n",
       "            Bokeh.embed.embed_items(docs_json, render_items);\n",
       "        });\n",
       "      },\n",
       "      function(Bokeh) {\n",
       "      }\n",
       "    ];\n",
       "  \n",
       "    function run_inline_js() {\n",
       "      \n",
       "      if ((window.Bokeh !== undefined) || (force === \"1\")) {\n",
       "        for (var i = 0; i < inline_js.length; i++) {\n",
       "          inline_js[i](window.Bokeh);\n",
       "        }if (force === \"1\") {\n",
       "          display_loaded();\n",
       "        }} else if (Date.now() < window._bokeh_timeout) {\n",
       "        setTimeout(run_inline_js, 100);\n",
       "      } else if (!window._bokeh_failed_load) {\n",
       "        console.log(\"Bokeh: BokehJS failed to load within specified timeout.\");\n",
       "        window._bokeh_failed_load = true;\n",
       "      } else if (!force) {\n",
       "        var cell = $(\"#cb8fa4fe-570b-4864-9f8c-26908abd44c8\").parents('.cell').data().cell;\n",
       "        cell.output_area.append_execute_result(NB_LOAD_WARNING)\n",
       "      }\n",
       "  \n",
       "    }\n",
       "  \n",
       "    if (window._bokeh_is_loading === 0) {\n",
       "      console.log(\"Bokeh: BokehJS loaded, going straight to plotting\");\n",
       "      run_inline_js();\n",
       "    } else {\n",
       "      load_libs(js_urls, function() {\n",
       "        console.log(\"Bokeh: BokehJS plotting callback run at\", now());\n",
       "        run_inline_js();\n",
       "      });\n",
       "    }\n",
       "  }(this));\n",
       "</script>"
      ]
     },
     "metadata": {},
     "output_type": "display_data"
    }
   ],
   "source": [
    "source = ColumnDataSource(\n",
    "        data=dict(\n",
    "            x=property_id_BB1[1],\n",
    "            y=property_id_BB1[4],\n",
    "            desc=property_id_BB1[3],\n",
    "            date=[x.strftime(\"%Y-%m-%d\") for x in property_id_BB['Booking_date']]\n",
    "        )\n",
    "    )\n",
    "\n",
    "hover = HoverTool(\n",
    "        tooltips=[\n",
    "            (\"Date\",\"@date\"),\n",
    "            (\"Event\", \"@desc\"),\n",
    "            (\"Total Revenue\",\"@y{1.11}\")\n",
    "        ]\n",
    "    )\n",
    "\n",
    "p = plt.figure(x_axis_type=\"datetime\",width=800, height=500, tools=[hover],\n",
    "           title=\"Graph of BookingDate vs TotalRevenue for BB (hover to view events)\",x_axis_label = \"Booking Date\",\n",
    "               y_axis_label = \"Total Revenue\")\n",
    "p.left[0].formatter.use_scientific = False\n",
    "p.line('x', 'y', line_width=2, source=source)   \n",
    "show(p)"
   ]
  },
  {
   "cell_type": "code",
   "execution_count": 25,
   "metadata": {
    "collapsed": false
   },
   "outputs": [
    {
     "data": {
      "text/html": [
       "\n",
       "\n",
       "    <div class=\"bk-root\">\n",
       "        <div class=\"plotdiv\" id=\"64b687f9-2a7b-465e-823e-5e245dd5ac24\"></div>\n",
       "    </div>\n",
       "<script type=\"text/javascript\">\n",
       "  \n",
       "  (function(global) {\n",
       "    function now() {\n",
       "      return new Date();\n",
       "    }\n",
       "  \n",
       "    var force = \"\";\n",
       "  \n",
       "    if (typeof (window._bokeh_onload_callbacks) === \"undefined\" || force !== \"\") {\n",
       "      window._bokeh_onload_callbacks = [];\n",
       "      window._bokeh_is_loading = undefined;\n",
       "    }\n",
       "  \n",
       "  \n",
       "    \n",
       "    if (typeof (window._bokeh_timeout) === \"undefined\" || force !== \"\") {\n",
       "      window._bokeh_timeout = Date.now() + 0;\n",
       "      window._bokeh_failed_load = false;\n",
       "    }\n",
       "  \n",
       "    var NB_LOAD_WARNING = {'data': {'text/html':\n",
       "       \"<div style='background-color: #fdd'>\\n\"+\n",
       "       \"<p>\\n\"+\n",
       "       \"BokehJS does not appear to have successfully loaded. If loading BokehJS from CDN, this \\n\"+\n",
       "       \"may be due to a slow or bad network connection. Possible fixes:\\n\"+\n",
       "       \"</p>\\n\"+\n",
       "       \"<ul>\\n\"+\n",
       "       \"<li>re-rerun `output_notebook()` to attempt to load from CDN again, or</li>\\n\"+\n",
       "       \"<li>use INLINE resources instead, as so:</li>\\n\"+\n",
       "       \"</ul>\\n\"+\n",
       "       \"<code>\\n\"+\n",
       "       \"from bokeh.resources import INLINE\\n\"+\n",
       "       \"output_notebook(resources=INLINE)\\n\"+\n",
       "       \"</code>\\n\"+\n",
       "       \"</div>\"}};\n",
       "  \n",
       "    function display_loaded() {\n",
       "      if (window.Bokeh !== undefined) {\n",
       "        Bokeh.$(\"#64b687f9-2a7b-465e-823e-5e245dd5ac24\").text(\"BokehJS successfully loaded.\");\n",
       "      } else if (Date.now() < window._bokeh_timeout) {\n",
       "        setTimeout(display_loaded, 100)\n",
       "      }\n",
       "    }\n",
       "  \n",
       "    function run_callbacks() {\n",
       "      window._bokeh_onload_callbacks.forEach(function(callback) { callback() });\n",
       "      delete window._bokeh_onload_callbacks\n",
       "      console.info(\"Bokeh: all callbacks have finished\");\n",
       "    }\n",
       "  \n",
       "    function load_libs(js_urls, callback) {\n",
       "      window._bokeh_onload_callbacks.push(callback);\n",
       "      if (window._bokeh_is_loading > 0) {\n",
       "        console.log(\"Bokeh: BokehJS is being loaded, scheduling callback at\", now());\n",
       "        return null;\n",
       "      }\n",
       "      if (js_urls == null || js_urls.length === 0) {\n",
       "        run_callbacks();\n",
       "        return null;\n",
       "      }\n",
       "      console.log(\"Bokeh: BokehJS not loaded, scheduling load and callback at\", now());\n",
       "      window._bokeh_is_loading = js_urls.length;\n",
       "      for (var i = 0; i < js_urls.length; i++) {\n",
       "        var url = js_urls[i];\n",
       "        var s = document.createElement('script');\n",
       "        s.src = url;\n",
       "        s.async = false;\n",
       "        s.onreadystatechange = s.onload = function() {\n",
       "          window._bokeh_is_loading--;\n",
       "          if (window._bokeh_is_loading === 0) {\n",
       "            console.log(\"Bokeh: all BokehJS libraries loaded\");\n",
       "            run_callbacks()\n",
       "          }\n",
       "        };\n",
       "        s.onerror = function() {\n",
       "          console.warn(\"failed to load library \" + url);\n",
       "        };\n",
       "        console.log(\"Bokeh: injecting script tag for BokehJS library: \", url);\n",
       "        document.getElementsByTagName(\"head\")[0].appendChild(s);\n",
       "      }\n",
       "    };var element = document.getElementById(\"64b687f9-2a7b-465e-823e-5e245dd5ac24\");\n",
       "    if (element == null) {\n",
       "      console.log(\"Bokeh: ERROR: autoload.js configured with elementid '64b687f9-2a7b-465e-823e-5e245dd5ac24' but no matching script tag was found. \")\n",
       "      return false;\n",
       "    }\n",
       "  \n",
       "    var js_urls = [];\n",
       "  \n",
       "    var inline_js = [\n",
       "      function(Bokeh) {\n",
       "        Bokeh.$(function() {\n",
       "            var docs_json = {\"28c7334c-2591-4310-aa2d-55166ed4905b\":{\"roots\":{\"references\":[{\"attributes\":{\"data_source\":{\"id\":\"92ba02d4-774a-408e-9184-01839133d0a0\",\"type\":\"ColumnDataSource\"},\"glyph\":{\"id\":\"0fa9d9e0-fbfc-4580-84fe-928109438d55\",\"type\":\"Line\"},\"hover_glyph\":null,\"nonselection_glyph\":{\"id\":\"ccdc128b-f4cd-416c-9682-439ded7b8854\",\"type\":\"Line\"},\"selection_glyph\":null},\"id\":\"07daea37-4202-4c3e-85d3-e665ce4c8da2\",\"type\":\"GlyphRenderer\"},{\"attributes\":{\"axis_label\":\"Booking Date\",\"formatter\":{\"id\":\"fdcf861b-14eb-429f-9915-47f34419a942\",\"type\":\"DatetimeTickFormatter\"},\"plot\":{\"id\":\"825fc4b2-4a76-47e9-bd93-0f12f9d35268\",\"subtype\":\"Figure\",\"type\":\"Plot\"},\"ticker\":{\"id\":\"0777cf80-fdf5-4a86-ae7a-96e014c5ef79\",\"type\":\"DatetimeTicker\"}},\"id\":\"ca05f713-7c01-4ba1-af8b-5ff40f94caca\",\"type\":\"DatetimeAxis\"},{\"attributes\":{\"line_alpha\":{\"value\":0.1},\"line_color\":{\"value\":\"#1f77b4\"},\"line_width\":{\"value\":2},\"x\":{\"field\":\"x\"},\"y\":{\"field\":\"y\"}},\"id\":\"ccdc128b-f4cd-416c-9682-439ded7b8854\",\"type\":\"Line\"},{\"attributes\":{},\"id\":\"754f30bd-a359-47ab-b84a-58c4c88f5242\",\"type\":\"YearsTicker\"},{\"attributes\":{\"active_drag\":\"auto\",\"active_scroll\":\"auto\",\"active_tap\":\"auto\",\"tools\":[{\"id\":\"affb0a09-0d1f-4315-a2ee-956de729ab83\",\"type\":\"HoverTool\"}]},\"id\":\"3de1460c-6e2c-42ef-8aa3-5054e17fca2a\",\"type\":\"Toolbar\"},{\"attributes\":{\"callback\":null},\"id\":\"68d5ad37-6aa1-4fe3-8368-0a294aeb1b1d\",\"type\":\"DataRange1d\"},{\"attributes\":{\"plot\":null,\"text\":\"Graph of Booking Date vs ADR for BB (hover to view events)\"},\"id\":\"967d3fb3-b631-41f7-be8c-fc961530c289\",\"type\":\"Title\"},{\"attributes\":{\"days\":[1,4,7,10,13,16,19,22,25,28]},\"id\":\"1e92fbe8-702b-4b86-bc4e-ad9f09b5ea58\",\"type\":\"DaysTicker\"},{\"attributes\":{\"num_minor_ticks\":5},\"id\":\"0777cf80-fdf5-4a86-ae7a-96e014c5ef79\",\"type\":\"DatetimeTicker\"},{\"attributes\":{},\"id\":\"ae4cb913-5547-41b8-819c-ea0ec32e23c2\",\"type\":\"BasicTicker\"},{\"attributes\":{\"days\":[1,8,15,22]},\"id\":\"8f32cab1-a141-4577-ab3c-fee42f18d366\",\"type\":\"DaysTicker\"},{\"attributes\":{\"dimension\":1,\"plot\":{\"id\":\"825fc4b2-4a76-47e9-bd93-0f12f9d35268\",\"subtype\":\"Figure\",\"type\":\"Plot\"},\"ticker\":{\"id\":\"ae4cb913-5547-41b8-819c-ea0ec32e23c2\",\"type\":\"BasicTicker\"}},\"id\":\"a0d1ef93-61ce-4e3f-b701-faf1679859bb\",\"type\":\"Grid\"},{\"attributes\":{\"callback\":null,\"plot\":{\"id\":\"825fc4b2-4a76-47e9-bd93-0f12f9d35268\",\"subtype\":\"Figure\",\"type\":\"Plot\"},\"tooltips\":[[\"Date\",\"@date\"],[\"Event\",\"@desc\"],[\"ADR\",\"@y{1.11}\"]]},\"id\":\"affb0a09-0d1f-4315-a2ee-956de729ab83\",\"type\":\"HoverTool\"},{\"attributes\":{\"below\":[{\"id\":\"ca05f713-7c01-4ba1-af8b-5ff40f94caca\",\"type\":\"DatetimeAxis\"}],\"left\":[{\"id\":\"7afe0b96-58f1-4391-b318-add956938298\",\"type\":\"LinearAxis\"}],\"plot_height\":500,\"plot_width\":800,\"renderers\":[{\"id\":\"ca05f713-7c01-4ba1-af8b-5ff40f94caca\",\"type\":\"DatetimeAxis\"},{\"id\":\"ac7e7858-2f84-4da5-9a6e-6eed98506350\",\"type\":\"Grid\"},{\"id\":\"7afe0b96-58f1-4391-b318-add956938298\",\"type\":\"LinearAxis\"},{\"id\":\"a0d1ef93-61ce-4e3f-b701-faf1679859bb\",\"type\":\"Grid\"},{\"id\":\"07daea37-4202-4c3e-85d3-e665ce4c8da2\",\"type\":\"GlyphRenderer\"}],\"title\":{\"id\":\"967d3fb3-b631-41f7-be8c-fc961530c289\",\"type\":\"Title\"},\"tool_events\":{\"id\":\"69f8ccef-0808-445c-8786-b785bb061ec4\",\"type\":\"ToolEvents\"},\"toolbar\":{\"id\":\"3de1460c-6e2c-42ef-8aa3-5054e17fca2a\",\"type\":\"Toolbar\"},\"x_range\":{\"id\":\"64e055ea-0aae-4655-adb8-63b670a7405c\",\"type\":\"DataRange1d\"},\"y_range\":{\"id\":\"68d5ad37-6aa1-4fe3-8368-0a294aeb1b1d\",\"type\":\"DataRange1d\"}},\"id\":\"825fc4b2-4a76-47e9-bd93-0f12f9d35268\",\"subtype\":\"Figure\",\"type\":\"Plot\"},{\"attributes\":{},\"id\":\"fdcf861b-14eb-429f-9915-47f34419a942\",\"type\":\"DatetimeTickFormatter\"},{\"attributes\":{\"use_scientific\":false},\"id\":\"d58f3b39-4d28-4c86-8640-240a4b838033\",\"type\":\"BasicTickFormatter\"},{\"attributes\":{\"months\":[0,4,8]},\"id\":\"a38205dc-3415-46b3-bfb9-966957a0ed63\",\"type\":\"MonthsTicker\"},{\"attributes\":{\"callback\":null,\"column_names\":[\"desc\",\"date\",\"y\",\"x\"],\"data\":{\"date\":[\"2015-01-01\",\"2015-01-03\",\"2015-01-04\",\"2015-01-05\",\"2015-01-12\",\"2015-01-13\",\"2015-01-14\",\"2015-01-15\",\"2015-01-16\",\"2015-01-17\",\"2015-01-21\",\"2015-01-23\",\"2015-01-24\",\"2015-01-25\",\"2015-01-26\",\"2015-01-31\",\"2015-02-03\",\"2015-02-14\",\"2015-02-19\",\"2015-02-27\",\"2015-03-05\",\"2015-03-18\",\"2015-03-21\",\"2015-03-23\",\"2015-03-28\",\"2015-04-01\",\"2015-04-02\",\"2015-04-03\",\"2015-04-14\",\"2015-04-15\",\"2015-04-16\",\"2015-04-17\",\"2015-04-20\",\"2015-05-01\",\"2015-05-03\",\"2015-05-04\",\"2015-05-09\",\"2015-05-20\",\"2015-06-02\",\"2015-06-15\",\"2015-06-16\",\"2015-06-19\",\"2015-07-10\",\"2015-07-18\",\"2015-07-28\",\"2015-07-30\",\"2015-08-17\",\"2015-08-18\",\"2015-08-19\",\"2015-08-27\",\"2015-08-28\",\"2015-08-29\",\"2015-09-05\",\"2015-09-15\",\"2015-09-17\",\"2015-09-18\",\"2015-09-21\",\"2015-09-23\",\"2015-09-24\",\"2015-09-25\",\"2015-10-02\",\"2015-10-12\",\"2015-10-13\",\"2015-10-20\",\"2015-10-21\",\"2015-10-22\",\"2015-10-23\",\"2015-10-24\",\"2015-10-25\",\"2015-10-26\",\"2015-10-27\",\"2015-10-31\",\"2015-11-01\",\"2015-11-10\",\"2015-11-11\",\"2015-11-12\",\"2015-11-16\",\"2015-11-17\",\"2015-11-25\",\"2015-11-28\",\"2015-12-06\",\"2015-12-17\",\"2015-12-24\"],\"desc\":[\"New Years Day\",\"Milad-un-Nabi\",\"Id-e-Milad\",\"Guru Gobind Singh Jayanti\",\"Birthday of Swami Vivekananda\",\"Bhogi\",\"Pongal\",\"Pongal\",\"Thiruvalluvar Day\",\"Uzhavar Tirunal\",\"Sonam Lhochar\",\"Netaji Subhas Chandra Bose Jayanti\",\"Vasant Panchami\",\"Statehood Day\",\"Republic Day\",\"Me-dam-me-phi\",\"Guru Ravidas Birthday\",\"Maharshi Dayanand Saraswati Jayanti\",\"Chhatrapati Shivaji Maharaj Jayanti\",\"Public Holiday\",\"Doljatra\",\"Public Holiday\",\"Ugadi\",\"Shaheedi Diwas of Bhagat Singh, Rajguru & Sukhdev\",\"Ram Navami\",\"Odisha Day\",\"Mahavir Jayanti\",\"Good Friday\",\"Dr Ambedkar Jayanti\",\"Bohag Bihu Holiday\",\"Bohag Bihu Holiday\",\"Public Holiday\",\"Parashurama Jayanti\",\"May Day\",\"Hazrat Alis Birthday\",\"Buddha Purnima\",\"Birthday of Rabindra Nath Tagore\",\"Maharana Pratap Jayanti\",\"Sant Guru Kabir Jayanti\",\"Raja Sankranti\",\"Guru Arjun Dev Martyrdom day\",\"Foundation of Sri Anandpur Sahib\",\"Jumat-ul-Wida\",\"Idul Fitr\",\"Public Holiday\",\"Public Holiday\",\"Teej\",\"Parsi New Year\",\"Public Holiday\",\"First Onam\",\"Thiruvonam\",\"Raksha Bandhan\",\"Janmashtami\",\"Tithi of Shrimanta Shankar Dev\",\"Ganesh Chaturthi\",\"Nuakhai\",\"Sree Narayana Guru Samadhi\",\"Haryana's Heroes' Martyrdom Day\",\"Idul Juha\",\"Idul Juha\",\"Mahatma Gandhi Birthday\",\"Mahalaya\",\"Maharaja Agrasen Jayanati\",\"Public Holiday\",\"Ayudha Puja\",\"Dussehra\",\"Vijaya Dashami\",\"Muharram (10th Day)\",\"Public Holiday\",\"Lakshmi Puja\",\"Maharishi Valmiki Birthday\",\"Public Holiday\",\"Kannada Rajyothsava\",\"Deewali\",\"Deewali\",\"Vishavkarma day\",\"Kartar Singh Sarabha Martyrdom Day\",\"Chhath Puja\",\"Rasa Purnima\",\"Kanakadasa Jayanthi\",\"Dr Ambedkar death anniversary\",\"Public Holiday\",\"Id-e-Milad\"],\"x\":[1420070400000.0,1420243200000.0,1420329600000.0,1420416000000.0,1421020800000.0,1421107200000.0,1421193600000.0,1421280000000.0,1421366400000.0,1421452800000.0,1421798400000.0,1421971200000.0,1422057600000.0,1422144000000.0,1422230400000.0,1422662400000.0,1422921600000.0,1423872000000.0,1424304000000.0,1424995200000.0,1425513600000.0,1426636800000.0,1426896000000.0,1427068800000.0,1427500800000.0,1427846400000.0,1427932800000.0,1428019200000.0,1428969600000.0,1429056000000.0,1429142400000.0,1429228800000.0,1429488000000.0,1430438400000.0,1430611200000.0,1430697600000.0,1431129600000.0,1432080000000.0,1433203200000.0,1434326400000.0,1434412800000.0,1434672000000.0,1436486400000.0,1437177600000.0,1438041600000.0,1438214400000.0,1439769600000.0,1439856000000.0,1439942400000.0,1440633600000.0,1440720000000.0,1440806400000.0,1441411200000.0,1442275200000.0,1442448000000.0,1442534400000.0,1442793600000.0,1442966400000.0,1443052800000.0,1443139200000.0,1443744000000.0,1444608000000.0,1444694400000.0,1445299200000.0,1445385600000.0,1445472000000.0,1445558400000.0,1445644800000.0,1445731200000.0,1445817600000.0,1445904000000.0,1446249600000.0,1446336000000.0,1447113600000.0,1447200000000.0,1447286400000.0,1447632000000.0,1447718400000.0,1448409600000.0,1448668800000.0,1449360000000.0,1450310400000.0,1450915200000.0],\"y\":[12675.0,36900.0,52000.0,46187.25,32068.75,11676.36363636364,35412.5,31743.5,32864.66666666666,52067.0,27351.375,35650.0,18600.0,39000.0,0.0,39196.88888888889,34160.25,30712.5,41161.4,12049.59375,35294.44444444445,27243.92857142857,27300.0,36409.375,26358.75,21978.0,23302.85714285714,19000.0,38837.5,10500.0,29279.42857142857,29776.57142857143,63510.0,25696.15384615385,23200.0,25160.0,18207.14285714286,19801.11111111111,16145.0,25947.90909090909,21528.27272727273,13581.0,21860.15,21600.0,21694.45454545454,15837.5,32291.78571428571,23225.0,21505.41666666667,19700.71428571429,8249.0,26718.83333333333,31818.33333333333,31315.28428571429,34556.175,39438.05555555555,33428.28571428572,36374.5,24466.25,19977.33333333333,9500.0,40167.27272727273,35865.0,28993.0,36437.0,32230.90909090909,41203.125,3305.706666666666,31975.0,32165.0,24996.22222222222,24077.81818181818,22425.0,26150.0,37170.5,29152.66666666667,45708.77777777778,34961.11111111111,27883.57142857143,28062.5,8046.0,47625.0,29585.2]}},\"id\":\"92ba02d4-774a-408e-9184-01839133d0a0\",\"type\":\"ColumnDataSource\"},{\"attributes\":{\"base\":60,\"mantissas\":[1,2,5,10,15,20,30],\"max_interval\":1800000.0,\"min_interval\":1000.0,\"num_minor_ticks\":0},\"id\":\"cab2fa4c-5f0a-442e-8126-bd3a0e163543\",\"type\":\"AdaptiveTicker\"},{\"attributes\":{\"axis_label\":\"ADR\",\"formatter\":{\"id\":\"d58f3b39-4d28-4c86-8640-240a4b838033\",\"type\":\"BasicTickFormatter\"},\"plot\":{\"id\":\"825fc4b2-4a76-47e9-bd93-0f12f9d35268\",\"subtype\":\"Figure\",\"type\":\"Plot\"},\"ticker\":{\"id\":\"ae4cb913-5547-41b8-819c-ea0ec32e23c2\",\"type\":\"BasicTicker\"}},\"id\":\"7afe0b96-58f1-4391-b318-add956938298\",\"type\":\"LinearAxis\"},{\"attributes\":{\"max_interval\":500.0,\"num_minor_ticks\":0},\"id\":\"2cb34b70-f396-45db-b6e0-1406482079f1\",\"type\":\"AdaptiveTicker\"},{\"attributes\":{\"base\":24,\"mantissas\":[1,2,4,6,8,12],\"max_interval\":43200000.0,\"min_interval\":3600000.0,\"num_minor_ticks\":0},\"id\":\"8cb44463-3e87-4a4e-9460-01b52e545ffb\",\"type\":\"AdaptiveTicker\"},{\"attributes\":{\"days\":[1,15]},\"id\":\"20a518e2-9af6-4e45-b877-41f4a8f4b95f\",\"type\":\"DaysTicker\"},{\"attributes\":{\"days\":[1,2,3,4,5,6,7,8,9,10,11,12,13,14,15,16,17,18,19,20,21,22,23,24,25,26,27,28,29,30,31]},\"id\":\"388602ef-3726-4f78-bc94-d8d7b71c97ef\",\"type\":\"DaysTicker\"},{\"attributes\":{\"months\":[0,1,2,3,4,5,6,7,8,9,10,11]},\"id\":\"5f993c3b-9860-4108-b462-f460dd7a0fe8\",\"type\":\"MonthsTicker\"},{\"attributes\":{},\"id\":\"69f8ccef-0808-445c-8786-b785bb061ec4\",\"type\":\"ToolEvents\"},{\"attributes\":{\"months\":[0,6]},\"id\":\"e10343cd-f7aa-462e-a081-efe21b8c6dae\",\"type\":\"MonthsTicker\"},{\"attributes\":{\"months\":[0,2,4,6,8,10]},\"id\":\"98e96a0f-2f61-4dc0-b71d-1cabe7e82733\",\"type\":\"MonthsTicker\"},{\"attributes\":{\"line_color\":{\"value\":\"#1f77b4\"},\"line_width\":{\"value\":2},\"x\":{\"field\":\"x\"},\"y\":{\"field\":\"y\"}},\"id\":\"0fa9d9e0-fbfc-4580-84fe-928109438d55\",\"type\":\"Line\"},{\"attributes\":{\"plot\":{\"id\":\"825fc4b2-4a76-47e9-bd93-0f12f9d35268\",\"subtype\":\"Figure\",\"type\":\"Plot\"},\"ticker\":{\"id\":\"0777cf80-fdf5-4a86-ae7a-96e014c5ef79\",\"type\":\"DatetimeTicker\"}},\"id\":\"ac7e7858-2f84-4da5-9a6e-6eed98506350\",\"type\":\"Grid\"},{\"attributes\":{\"callback\":null},\"id\":\"64e055ea-0aae-4655-adb8-63b670a7405c\",\"type\":\"DataRange1d\"}],\"root_ids\":[\"825fc4b2-4a76-47e9-bd93-0f12f9d35268\"]},\"title\":\"Bokeh Application\",\"version\":\"0.12.2\"}};\n",
       "            var render_items = [{\"docid\":\"28c7334c-2591-4310-aa2d-55166ed4905b\",\"elementid\":\"64b687f9-2a7b-465e-823e-5e245dd5ac24\",\"modelid\":\"825fc4b2-4a76-47e9-bd93-0f12f9d35268\"}];\n",
       "            \n",
       "            Bokeh.embed.embed_items(docs_json, render_items);\n",
       "        });\n",
       "      },\n",
       "      function(Bokeh) {\n",
       "      }\n",
       "    ];\n",
       "  \n",
       "    function run_inline_js() {\n",
       "      \n",
       "      if ((window.Bokeh !== undefined) || (force === \"1\")) {\n",
       "        for (var i = 0; i < inline_js.length; i++) {\n",
       "          inline_js[i](window.Bokeh);\n",
       "        }if (force === \"1\") {\n",
       "          display_loaded();\n",
       "        }} else if (Date.now() < window._bokeh_timeout) {\n",
       "        setTimeout(run_inline_js, 100);\n",
       "      } else if (!window._bokeh_failed_load) {\n",
       "        console.log(\"Bokeh: BokehJS failed to load within specified timeout.\");\n",
       "        window._bokeh_failed_load = true;\n",
       "      } else if (!force) {\n",
       "        var cell = $(\"#64b687f9-2a7b-465e-823e-5e245dd5ac24\").parents('.cell').data().cell;\n",
       "        cell.output_area.append_execute_result(NB_LOAD_WARNING)\n",
       "      }\n",
       "  \n",
       "    }\n",
       "  \n",
       "    if (window._bokeh_is_loading === 0) {\n",
       "      console.log(\"Bokeh: BokehJS loaded, going straight to plotting\");\n",
       "      run_inline_js();\n",
       "    } else {\n",
       "      load_libs(js_urls, function() {\n",
       "        console.log(\"Bokeh: BokehJS plotting callback run at\", now());\n",
       "        run_inline_js();\n",
       "      });\n",
       "    }\n",
       "  }(this));\n",
       "</script>"
      ]
     },
     "metadata": {},
     "output_type": "display_data"
    }
   ],
   "source": [
    "source = ColumnDataSource(\n",
    "        data=dict(\n",
    "            x=property_id_BB1[1],\n",
    "            y=property_id_BB1[6],\n",
    "            desc=property_id_BB1[3],\n",
    "            date=[x.strftime(\"%Y-%m-%d\") for x in property_id_BB['Booking_date']]\n",
    "        )\n",
    "    )\n",
    "\n",
    "hover = HoverTool(\n",
    "        tooltips=[\n",
    "            (\"Date\",\"@date\"),\n",
    "            (\"Event\", \"@desc\"),\n",
    "            (\"ADR\",\"@y{1.11}\")\n",
    "        ]\n",
    "    )\n",
    "\n",
    "p = plt.figure(x_axis_type=\"datetime\",width=800, height=500, tools=[hover],\n",
    "           title=\"Graph of Booking Date vs ADR for BB (hover to view events)\",x_axis_label = \"Booking Date\",\n",
    "               y_axis_label = \"ADR\")\n",
    "p.left[0].formatter.use_scientific = False\n",
    "p.line('x', 'y', line_width=2, source=source)   \n",
    "show(p)"
   ]
  },
  {
   "cell_type": "code",
   "execution_count": null,
   "metadata": {
    "collapsed": true
   },
   "outputs": [],
   "source": []
  },
  {
   "cell_type": "code",
   "execution_count": null,
   "metadata": {
    "collapsed": true
   },
   "outputs": [],
   "source": [
    "property_id_BG = pd.read_excel('Results/GroupByPropertyID/2015/BG.xlsx')\n",
    "property_id_BG = property_id_BG.reset_index()\n",
    "property_id_BG = property_id_BG.sort_values(by = 'Booking_date', ascending=True)\n",
    "property_id_BG1 = property_id_BG.values.T.tolist()"
   ]
  },
  {
   "cell_type": "code",
   "execution_count": null,
   "metadata": {
    "collapsed": false
   },
   "outputs": [],
   "source": [
    "source = ColumnDataSource(\n",
    "        data=dict(\n",
    "            x=property_id_BG1[1],\n",
    "            y=property_id_BG1[4],\n",
    "            desc=property_id_BG1[3],\n",
    "            date=[x.strftime(\"%Y-%m-%d\") for x in property_id_BG['Booking_date']]\n",
    "        )\n",
    "    )\n",
    "\n",
    "hover = HoverTool(\n",
    "        tooltips=[\n",
    "            (\"Date\",\"@date\"),\n",
    "            (\"Event\", \"@desc\"),\n",
    "            (\"Total Revenue\",\"@y{1.11}\")\n",
    "        ]\n",
    "    )\n",
    "\n",
    "p = plt.figure(x_axis_type=\"datetime\",width=800, height=500, tools=[hover],\n",
    "           title=\"Graph of BookingDate vs TotalRevenue for BG (hover to view events)\",x_axis_label = \"Booking Date\",\n",
    "               y_axis_label = \"Total Revenue\")\n",
    "p.left[0].formatter.use_scientific = False\n",
    "p.line('x', 'y', line_width=2, source=source)   \n",
    "show(p)\n"
   ]
  },
  {
   "cell_type": "code",
   "execution_count": null,
   "metadata": {
    "collapsed": false
   },
   "outputs": [],
   "source": [
    "source = ColumnDataSource(\n",
    "        data=dict(\n",
    "            x=property_id_BG1[1],\n",
    "            y=property_id_BG1[6],\n",
    "            desc=property_id_BG1[3],\n",
    "            date=[x.strftime(\"%Y-%m-%d\") for x in property_id_BG['Booking_date']]\n",
    "        )\n",
    "    )\n",
    "\n",
    "hover = HoverTool(\n",
    "        tooltips=[\n",
    "            (\"Date\",\"@date\"),\n",
    "            (\"Event\", \"@desc\"),\n",
    "            (\"ADR\",\"@y{1.11}\")\n",
    "        ]\n",
    "    )\n",
    "\n",
    "p = plt.figure(x_axis_type=\"datetime\",width=800, height=500, tools=[hover],\n",
    "           title=\"Graph of Booking Date vs ADR for BG (hover to view events)\",x_axis_label = \"Booking Date\",\n",
    "               y_axis_label = \"ADR\")\n",
    "p.left[0].formatter.use_scientific = False\n",
    "p.line('x', 'y', line_width=2, source=source)   \n",
    "show(p)\n"
   ]
  },
  {
   "cell_type": "code",
   "execution_count": null,
   "metadata": {
    "collapsed": true
   },
   "outputs": [],
   "source": []
  },
  {
   "cell_type": "code",
   "execution_count": null,
   "metadata": {
    "collapsed": true
   },
   "outputs": [],
   "source": [
    "property_id_CH = pd.read_excel('Results/GroupByPropertyID/2015/CH.xlsx')\n",
    "property_id_CH = property_id_CH.reset_index()\n",
    "property_id_CH = property_id_CH.sort_values(by = 'Booking_date', ascending=True)\n",
    "property_id_CH1 = property_id_CH.values.T.tolist()"
   ]
  },
  {
   "cell_type": "code",
   "execution_count": null,
   "metadata": {
    "collapsed": false
   },
   "outputs": [],
   "source": [
    "source = ColumnDataSource(\n",
    "        data=dict(\n",
    "            x=property_id_CH1[1],\n",
    "            y=property_id_CH1[4],\n",
    "            desc=property_id_CH1[3],\n",
    "            date=[x.strftime(\"%Y-%m-%d\") for x in property_id_CH['Booking_date']]\n",
    "        )\n",
    "    )\n",
    "\n",
    "hover = HoverTool(\n",
    "        tooltips=[\n",
    "            (\"Date\",\"@date\"),\n",
    "            (\"Event\", \"@desc\"),\n",
    "            (\"Total Revenue\",\"@y{1.11}\")\n",
    "        ]\n",
    "    )\n",
    "\n",
    "p = plt.figure(x_axis_type=\"datetime\",width=800, height=500, tools=[hover],\n",
    "           title=\"Graph of BookingDate vs TotalRevenue for CH (hover to view events)\",x_axis_label = \"Booking Date\",\n",
    "               y_axis_label = \"Total Revenue\")\n",
    "p.left[0].formatter.use_scientific = False\n",
    "p.line('x', 'y', line_width=2, source=source)   \n",
    "show(p)\n"
   ]
  },
  {
   "cell_type": "code",
   "execution_count": null,
   "metadata": {
    "collapsed": false
   },
   "outputs": [],
   "source": [
    "source = ColumnDataSource(\n",
    "        data=dict(\n",
    "            x=property_id_CH1[1],\n",
    "            y=property_id_CH1[6],\n",
    "            desc=property_id_CH1[3],\n",
    "            date=[x.strftime(\"%Y-%m-%d\") for x in property_id_CH['Booking_date']]\n",
    "        )\n",
    "    )\n",
    "\n",
    "hover = HoverTool(\n",
    "        tooltips=[\n",
    "            (\"Date\",\"@date\"),\n",
    "            (\"Event\", \"@desc\"),\n",
    "            (\"ADR\",\"@y{1.11}\")\n",
    "        ]\n",
    "    )\n",
    "\n",
    "p = plt.figure(x_axis_type=\"datetime\",width=800, height=500, tools=[hover],\n",
    "           title=\"Graph of Booking Date vs ADR for CH (hover to view events)\",x_axis_label = \"Booking Date\",\n",
    "               y_axis_label = \"ADR\")\n",
    "p.left[0].formatter.use_scientific = False\n",
    "p.line('x', 'y', line_width=2, source=source)   \n",
    "show(p)\n"
   ]
  },
  {
   "cell_type": "code",
   "execution_count": null,
   "metadata": {
    "collapsed": true
   },
   "outputs": [],
   "source": []
  },
  {
   "cell_type": "code",
   "execution_count": null,
   "metadata": {
    "collapsed": true
   },
   "outputs": [],
   "source": [
    "property_id_CL = pd.read_excel('Results/GroupByPropertyID/2015/CL.xlsx')\n",
    "property_id_CL = property_id_CL.reset_index()\n",
    "property_id_CL = property_id_CL.sort_values(by = 'Booking_date', ascending=True)\n",
    "property_id_CL1 = property_id_CL.values.T.tolist()\n"
   ]
  },
  {
   "cell_type": "code",
   "execution_count": null,
   "metadata": {
    "collapsed": false
   },
   "outputs": [],
   "source": [
    "source = ColumnDataSource(\n",
    "        data=dict(\n",
    "            x=property_id_CL1[1],\n",
    "            y=property_id_CL1[4],\n",
    "            desc=property_id_CL1[3],\n",
    "            date=[x.strftime(\"%Y-%m-%d\") for x in property_id_CL['Booking_date']]\n",
    "        )\n",
    "    )\n",
    "\n",
    "hover = HoverTool(\n",
    "        tooltips=[\n",
    "            (\"Date\",\"@date\"),\n",
    "            (\"Event\", \"@desc\"),\n",
    "            (\"Total Revenue\",\"@y{1.11}\")\n",
    "        ]\n",
    "    )\n",
    "\n",
    "p = plt.figure(x_axis_type=\"datetime\",width=800, height=500, tools=[hover],\n",
    "           title=\"Graph of BookingDate vs TotalRevenue for CL (hover to view events)\",x_axis_label = \"Booking Date\",\n",
    "               y_axis_label = \"Total Revenue\")\n",
    "p.left[0].formatter.use_scientific = False\n",
    "p.line('x', 'y', line_width=2, source=source)   \n",
    "show(p)\n"
   ]
  },
  {
   "cell_type": "code",
   "execution_count": null,
   "metadata": {
    "collapsed": false
   },
   "outputs": [],
   "source": [
    "source = ColumnDataSource(\n",
    "        data=dict(\n",
    "            x=property_id_CL1[1],\n",
    "            y=property_id_CL1[6],\n",
    "            desc=property_id_CL1[3],\n",
    "            date=[x.strftime(\"%Y-%m-%d\") for x in property_id_CL['Booking_date']]\n",
    "        )\n",
    "    )\n",
    "\n",
    "hover = HoverTool(\n",
    "        tooltips=[\n",
    "            (\"Date\",\"@date\"),\n",
    "            (\"Event\", \"@desc\"),\n",
    "            (\"ADR\",\"@y{1.11}\")\n",
    "        ]\n",
    "    )\n",
    "\n",
    "p = plt.figure(x_axis_type=\"datetime\",width=800, height=500, tools=[hover],\n",
    "           title=\"Graph of Booking Date vs ADR for CL (hover to view events)\",x_axis_label = \"Booking Date\",\n",
    "               y_axis_label = \"ADR\")\n",
    "p.left[0].formatter.use_scientific = False\n",
    "p.line('x', 'y', line_width=2, source=source)   \n",
    "show(p)\n"
   ]
  },
  {
   "cell_type": "code",
   "execution_count": null,
   "metadata": {
    "collapsed": true
   },
   "outputs": [],
   "source": []
  },
  {
   "cell_type": "code",
   "execution_count": null,
   "metadata": {
    "collapsed": true
   },
   "outputs": [],
   "source": [
    "property_id_CP = pd.read_excel('Results/GroupByPropertyID/2015/CP.xlsx')\n",
    "property_id_CP = property_id_CP.reset_index()\n",
    "property_id_CP = property_id_CP.sort_values(by = 'Booking_date', ascending=True)\n",
    "property_id_CP1 = property_id_CP.values.T.tolist()\n"
   ]
  },
  {
   "cell_type": "code",
   "execution_count": null,
   "metadata": {
    "collapsed": false
   },
   "outputs": [],
   "source": [
    "source = ColumnDataSource(\n",
    "        data=dict(\n",
    "            x=property_id_CP1[1],\n",
    "            y=property_id_CP1[4],\n",
    "            desc=property_id_CP1[3],\n",
    "            date=[x.strftime(\"%Y-%m-%d\") for x in property_id_CP['Booking_date']]\n",
    "        )\n",
    "    )\n",
    "\n",
    "hover = HoverTool(\n",
    "        tooltips=[\n",
    "            (\"Date\",\"@date\"),\n",
    "            (\"Event\", \"@desc\"),\n",
    "            (\"Total Revenue\",\"@y{1.11}\")\n",
    "        ]\n",
    "    )\n",
    "\n",
    "p = plt.figure(x_axis_type=\"datetime\",width=800, height=500, tools=[hover],\n",
    "           title=\"Graph of BookingDate vs TotalRevenue for CP (hover to view events)\",x_axis_label = \"Booking Date\",\n",
    "               y_axis_label = \"Total Revenue\")\n",
    "p.left[0].formatter.use_scientific = False\n",
    "p.line('x', 'y', line_width=2, source=source)   \n",
    "show(p)\n"
   ]
  },
  {
   "cell_type": "code",
   "execution_count": null,
   "metadata": {
    "collapsed": true
   },
   "outputs": [],
   "source": []
  },
  {
   "cell_type": "code",
   "execution_count": null,
   "metadata": {
    "collapsed": true
   },
   "outputs": [],
   "source": [
    "property_id_EB = pd.read_excel('Results/GroupByPropertyID/2015/EB.xlsx')\n",
    "property_id_EB = property_id_EB.reset_index()\n",
    "property_id_EB = property_id_EB.sort_values(by = 'Booking_date', ascending=True)\n",
    "property_id_EB1 = property_id_EB.values.T.tolist()\n"
   ]
  },
  {
   "cell_type": "code",
   "execution_count": null,
   "metadata": {
    "collapsed": false
   },
   "outputs": [],
   "source": [
    "source = ColumnDataSource(\n",
    "        data=dict(\n",
    "            x=property_id_EB1[1],\n",
    "            y=property_id_EB1[4],\n",
    "            desc=property_id_EB1[3],\n",
    "            date=[x.strftime(\"%Y-%m-%d\") for x in property_id_EB['Booking_date']]\n",
    "        )\n",
    "    )\n",
    "\n",
    "hover = HoverTool(\n",
    "        tooltips=[\n",
    "            (\"Date\",\"@date\"),\n",
    "            (\"Event\", \"@desc\"),\n",
    "            (\"Total Revenue\",\"@y{1.11}\")\n",
    "        ]\n",
    "    )\n",
    "\n",
    "p = plt.figure(x_axis_type=\"datetime\",width=800, height=500, tools=[hover],\n",
    "           title=\"Graph of BookingDate vs TotalRevenue for EB (hover to view events)\",x_axis_label = \"Booking Date\",\n",
    "               y_axis_label = \"Total Revenue\")\n",
    "p.left[0].formatter.use_scientific = False\n",
    "p.line('x', 'y', line_width=2, source=source)   \n",
    "show(p)\n"
   ]
  },
  {
   "cell_type": "code",
   "execution_count": null,
   "metadata": {
    "collapsed": false
   },
   "outputs": [],
   "source": [
    "source = ColumnDataSource(\n",
    "        data=dict(\n",
    "            x=property_id_EB1[1],\n",
    "            y=property_id_EB1[6],\n",
    "            desc=property_id_EB1[3],\n",
    "            date=[x.strftime(\"%Y-%m-%d\") for x in property_id_EB['Booking_date']]\n",
    "        )\n",
    "    )\n",
    "\n",
    "hover = HoverTool(\n",
    "        tooltips=[\n",
    "            (\"Date\",\"@date\"),\n",
    "            (\"Event\", \"@desc\"),\n",
    "            (\"ADR\",\"@y{1.11}\")\n",
    "        ]\n",
    "    )\n",
    "\n",
    "p = plt.figure(x_axis_type=\"datetime\",width=800, height=500, tools=[hover],\n",
    "           title=\"Graph of Booking Date vs ADR for EB (hover to view events)\",x_axis_label = \"Booking Date\",\n",
    "               y_axis_label = \"ADR\")\n",
    "p.left[0].formatter.use_scientific = False\n",
    "p.line('x', 'y', line_width=2, source=source)   \n",
    "show(p)\n"
   ]
  },
  {
   "cell_type": "code",
   "execution_count": null,
   "metadata": {
    "collapsed": true
   },
   "outputs": [],
   "source": []
  },
  {
   "cell_type": "code",
   "execution_count": null,
   "metadata": {
    "collapsed": true
   },
   "outputs": [],
   "source": [
    "property_id_KK = pd.read_excel('Results/GroupByPropertyID/2015/KK.xlsx')\n",
    "property_id_KK = property_id_KK.reset_index()\n",
    "property_id_KK = property_id_KK.sort_values(by = 'Booking_date', ascending=True)\n",
    "property_id_KK1 = property_id_KK.values.T.tolist()\n"
   ]
  },
  {
   "cell_type": "code",
   "execution_count": null,
   "metadata": {
    "collapsed": false
   },
   "outputs": [],
   "source": [
    "source = ColumnDataSource(\n",
    "        data=dict(\n",
    "            x=property_id_KK1[1],\n",
    "            y=property_id_KK1[4],\n",
    "            desc=property_id_KK1[3],\n",
    "            date=[x.strftime(\"%Y-%m-%d\") for x in property_id_KK['Booking_date']]\n",
    "        )\n",
    "    )\n",
    "\n",
    "hover = HoverTool(\n",
    "        tooltips=[\n",
    "            (\"Date\",\"@date\"),\n",
    "            (\"Event\", \"@desc\"),\n",
    "            (\"Total Revenue\",\"@y{1.11}\")\n",
    "        ]\n",
    "    )\n",
    "\n",
    "p = plt.figure(x_axis_type=\"datetime\",width=800, height=500, tools=[hover],\n",
    "           title=\"Graph of BookingDate vs TotalRevenue for KK (hover to view events)\",x_axis_label = \"Booking Date\",\n",
    "               y_axis_label = \"Total Revenue\")\n",
    "p.left[0].formatter.use_scientific = False\n",
    "p.line('x', 'y', line_width=2, source=source)   \n",
    "show(p)\n"
   ]
  },
  {
   "cell_type": "code",
   "execution_count": null,
   "metadata": {
    "collapsed": false
   },
   "outputs": [],
   "source": [
    "source = ColumnDataSource(\n",
    "        data=dict(\n",
    "            x=property_id_KK1[1],\n",
    "            y=property_id_KK1[6],\n",
    "            desc=property_id_KK1[3],\n",
    "            date=[x.strftime(\"%Y-%m-%d\") for x in property_id_KK['Booking_date']]\n",
    "        )\n",
    "    )\n",
    "\n",
    "hover = HoverTool(\n",
    "        tooltips=[\n",
    "            (\"Date\",\"@date\"),\n",
    "            (\"Event\", \"@desc\"),\n",
    "            (\"ADR\",\"@y{1.11}\")\n",
    "        ]\n",
    "    )\n",
    "\n",
    "p = plt.figure(x_axis_type=\"datetime\",width=800, height=500, tools=[hover],\n",
    "           title=\"Graph of Booking Date vs ADR for KK (hover to view events)\",x_axis_label = \"Booking Date\",\n",
    "               y_axis_label = \"ADR\")\n",
    "p.left[0].formatter.use_scientific = False\n",
    "p.line('x', 'y', line_width=2, source=source)   \n",
    "show(p)\n"
   ]
  },
  {
   "cell_type": "code",
   "execution_count": null,
   "metadata": {
    "collapsed": true
   },
   "outputs": [],
   "source": []
  },
  {
   "cell_type": "code",
   "execution_count": null,
   "metadata": {
    "collapsed": true
   },
   "outputs": [],
   "source": [
    "property_id_KR = pd.read_excel('Results/GroupByPropertyID/2015/KR.xlsx')\n",
    "property_id_KR = property_id_KR.reset_index()\n",
    "property_id_KR = property_id_KR.sort_values(by = 'Booking_date', ascending=True)\n",
    "property_id_KR1 = property_id_KR.values.T.tolist()\n"
   ]
  },
  {
   "cell_type": "code",
   "execution_count": null,
   "metadata": {
    "collapsed": false
   },
   "outputs": [],
   "source": [
    "source = ColumnDataSource(\n",
    "        data=dict(\n",
    "            x=property_id_KR1[1],\n",
    "            y=property_id_KR1[4],\n",
    "            desc=property_id_KR1[3],\n",
    "            date=[x.strftime(\"%Y-%m-%d\") for x in property_id_KR['Booking_date']]\n",
    "        )\n",
    "    )\n",
    "\n",
    "hover = HoverTool(\n",
    "        tooltips=[\n",
    "            (\"Date\",\"@date\"),\n",
    "            (\"Event\", \"@desc\"),\n",
    "            (\"Total Revenue\",\"@y{1.11}\")\n",
    "        ]\n",
    "    )\n",
    "\n",
    "p = plt.figure(x_axis_type=\"datetime\",width=800, height=500, tools=[hover],\n",
    "           title=\"Graph of BookingDate vs TotalRevenue for KR (hover to view events)\",x_axis_label = \"Booking Date\",\n",
    "               y_axis_label = \"Total Revenue\")\n",
    "p.left[0].formatter.use_scientific = False\n",
    "p.line('x', 'y', line_width=2, source=source)   \n",
    "show(p)\n"
   ]
  },
  {
   "cell_type": "code",
   "execution_count": null,
   "metadata": {
    "collapsed": false
   },
   "outputs": [],
   "source": [
    "source = ColumnDataSource(\n",
    "        data=dict(\n",
    "            x=property_id_KR1[1],\n",
    "            y=property_id_KR1[6],\n",
    "            desc=property_id_KR1[3],\n",
    "            date=[x.strftime(\"%Y-%m-%d\") for x in property_id_KR['Booking_date']]\n",
    "        )\n",
    "    )\n",
    "\n",
    "hover = HoverTool(\n",
    "        tooltips=[\n",
    "            (\"Date\",\"@date\"),\n",
    "            (\"Event\", \"@desc\"),\n",
    "            (\"ADR\",\"@y{1.11}\")\n",
    "        ]\n",
    "    )\n",
    "\n",
    "p = plt.figure(x_axis_type=\"datetime\",width=800, height=500, tools=[hover],\n",
    "           title=\"Graph of Booking Date vs ADR for KR (hover to view events)\",x_axis_label = \"Booking Date\",\n",
    "               y_axis_label = \"ADR\")\n",
    "p.left[0].formatter.use_scientific = False\n",
    "p.line('x', 'y', line_width=2, source=source)   \n",
    "show(p)\n"
   ]
  },
  {
   "cell_type": "code",
   "execution_count": null,
   "metadata": {
    "collapsed": true
   },
   "outputs": [],
   "source": []
  },
  {
   "cell_type": "code",
   "execution_count": null,
   "metadata": {
    "collapsed": true
   },
   "outputs": [],
   "source": [
    "property_id_MB = pd.read_excel('Results/GroupByPropertyID/2015/MB.xlsx')\n",
    "property_id_MB = property_id_MB.reset_index()\n",
    "property_id_MB = property_id_MB.sort_values(by = 'Booking_date', ascending=True)\n",
    "property_id_MB1 = property_id_MB.values.T.tolist()\n"
   ]
  },
  {
   "cell_type": "code",
   "execution_count": null,
   "metadata": {
    "collapsed": false
   },
   "outputs": [],
   "source": [
    "source = ColumnDataSource(\n",
    "        data=dict(\n",
    "            x=property_id_MB1[1],\n",
    "            y=property_id_MB1[4],\n",
    "            desc=property_id_MB1[3],\n",
    "            date=[x.strftime(\"%Y-%m-%d\") for x in property_id_MB['Booking_date']]\n",
    "        )\n",
    "    )\n",
    "\n",
    "hover = HoverTool(\n",
    "        tooltips=[\n",
    "            (\"Date\",\"@date\"),\n",
    "            (\"Event\", \"@desc\"),\n",
    "            (\"Total Revenue\",\"@y{1.11}\")\n",
    "        ]\n",
    "    )\n",
    "\n",
    "p = plt.figure(x_axis_type=\"datetime\",width=800, height=500, tools=[hover],\n",
    "           title=\"Graph of BookingDate vs TotalRevenue for MB (hover to view events)\",x_axis_label = \"Booking Date\",\n",
    "               y_axis_label = \"Total Revenue\")\n",
    "p.left[0].formatter.use_scientific = False\n",
    "p.line('x', 'y', line_width=2, source=source)   \n",
    "show(p)\n"
   ]
  },
  {
   "cell_type": "code",
   "execution_count": null,
   "metadata": {
    "collapsed": false
   },
   "outputs": [],
   "source": [
    "source = ColumnDataSource(\n",
    "        data=dict(\n",
    "            x=property_id_MB1[1],\n",
    "            y=property_id_MB1[6],\n",
    "            desc=property_id_MB1[3],\n",
    "            date=[x.strftime(\"%Y-%m-%d\") for x in property_id_MB['Booking_date']]\n",
    "        )\n",
    "    )\n",
    "\n",
    "hover = HoverTool(\n",
    "        tooltips=[\n",
    "            (\"Date\",\"@date\"),\n",
    "            (\"Event\", \"@desc\"),\n",
    "            (\"ADR\",\"@y{1.11}\")\n",
    "        ]\n",
    "    )\n",
    "\n",
    "p = plt.figure(x_axis_type=\"datetime\",width=800, height=500, tools=[hover],\n",
    "           title=\"Graph of Booking Date vs ADR for MB (hover to view events)\",x_axis_label = \"Booking Date\",\n",
    "               y_axis_label = \"ADR\")\n",
    "p.left[0].formatter.use_scientific = False\n",
    "p.line('x', 'y', line_width=2, source=source)   \n",
    "show(p)\n"
   ]
  },
  {
   "cell_type": "code",
   "execution_count": null,
   "metadata": {
    "collapsed": true
   },
   "outputs": [],
   "source": []
  },
  {
   "cell_type": "code",
   "execution_count": null,
   "metadata": {
    "collapsed": true
   },
   "outputs": [],
   "source": [
    "property_id_MM = pd.read_excel('Results/GroupByPropertyID/2015/MM.xlsx')\n",
    "property_id_MM = property_id_MM.reset_index()\n",
    "property_id_MM = property_id_MM.sort_values(by = 'Booking_date', ascending=True)\n",
    "property_id_MM1 = property_id_MM.values.T.tolist()\n"
   ]
  },
  {
   "cell_type": "code",
   "execution_count": null,
   "metadata": {
    "collapsed": false
   },
   "outputs": [],
   "source": [
    "source = ColumnDataSource(\n",
    "        data=dict(\n",
    "            x=property_id_MM1[1],\n",
    "            y=property_id_MM1[4],\n",
    "            desc=property_id_MM1[3],\n",
    "            date=[x.strftime(\"%Y-%m-%d\") for x in property_id_MM['Booking_date']]\n",
    "        )\n",
    "    )\n",
    "\n",
    "hover = HoverTool(\n",
    "        tooltips=[\n",
    "            (\"Date\",\"@date\"),\n",
    "            (\"Event\", \"@desc\"),\n",
    "            (\"Total Revenue\",\"@y{1.11}\")\n",
    "        ]\n",
    "    )\n",
    "\n",
    "p = plt.figure(x_axis_type=\"datetime\",width=800, height=500, tools=[hover],\n",
    "           title=\"Graph of BookingDate vs TotalRevenue for MM (hover to view events)\",x_axis_label = \"Booking Date\",\n",
    "               y_axis_label = \"Total Revenue\")\n",
    "p.left[0].formatter.use_scientific = False\n",
    "p.line('x', 'y', line_width=2, source=source)   \n",
    "show(p)\n"
   ]
  },
  {
   "cell_type": "code",
   "execution_count": null,
   "metadata": {
    "collapsed": false
   },
   "outputs": [],
   "source": [
    "source = ColumnDataSource(\n",
    "        data=dict(\n",
    "            x=property_id_MM1[1],\n",
    "            y=property_id_MM1[6],\n",
    "            desc=property_id_MM1[3],\n",
    "            date=[x.strftime(\"%Y-%m-%d\") for x in property_id_MM['Booking_date']]\n",
    "        )\n",
    "    )\n",
    "\n",
    "hover = HoverTool(\n",
    "        tooltips=[\n",
    "            (\"Date\",\"@date\"),\n",
    "            (\"Event\", \"@desc\"),\n",
    "            (\"ADR\",\"@y{1.11}\")\n",
    "        ]\n",
    "    )\n",
    "\n",
    "p = plt.figure(x_axis_type=\"datetime\",width=800, height=500, tools=[hover],\n",
    "           title=\"Graph of Booking Date vs ADR for MM (hover to view events)\",x_axis_label = \"Booking Date\",\n",
    "               y_axis_label = \"ADR\")\n",
    "p.left[0].formatter.use_scientific = False\n",
    "p.line('x', 'y', line_width=2, source=source)   \n",
    "show(p)\n"
   ]
  },
  {
   "cell_type": "code",
   "execution_count": null,
   "metadata": {
    "collapsed": true
   },
   "outputs": [],
   "source": []
  },
  {
   "cell_type": "code",
   "execution_count": null,
   "metadata": {
    "collapsed": true
   },
   "outputs": [],
   "source": [
    "property_id_MP = pd.read_excel('Results/GroupByPropertyID/2015/MP.xlsx')\n",
    "property_id_MP = property_id_MP.reset_index()\n",
    "property_id_MP = property_id_MP.sort_values(by = 'Booking_date', ascending=True)\n",
    "property_id_MP1 = property_id_MP.values.T.tolist()\n"
   ]
  },
  {
   "cell_type": "code",
   "execution_count": null,
   "metadata": {
    "collapsed": false
   },
   "outputs": [],
   "source": [
    "source = ColumnDataSource(\n",
    "        data=dict(\n",
    "            x=property_id_MP1[1],\n",
    "            y=property_id_MP1[4],\n",
    "            desc=property_id_MP1[3],\n",
    "            date=[x.strftime(\"%Y-%m-%d\") for x in property_id_MP['Booking_date']]\n",
    "        )\n",
    "    )\n",
    "\n",
    "hover = HoverTool(\n",
    "        tooltips=[\n",
    "            (\"Date\",\"@date\"),\n",
    "            (\"Event\", \"@desc\"),\n",
    "            (\"Total Revenue\",\"@y{1.11}\")\n",
    "        ]\n",
    "    )\n",
    "\n",
    "p = plt.figure(x_axis_type=\"datetime\",width=800, height=500, tools=[hover],\n",
    "           title=\"Graph of BookingDate vs TotalRevenue for MP (hover to view events)\",x_axis_label = \"Booking Date\",\n",
    "               y_axis_label = \"Total Revenue\")\n",
    "p.left[0].formatter.use_scientific = False\n",
    "p.line('x', 'y', line_width=2, source=source)   \n",
    "show(p)\n"
   ]
  },
  {
   "cell_type": "code",
   "execution_count": null,
   "metadata": {
    "collapsed": false
   },
   "outputs": [],
   "source": [
    "source = ColumnDataSource(\n",
    "        data=dict(\n",
    "            x=property_id_MP1[1],\n",
    "            y=property_id_MP1[6],\n",
    "            desc=property_id_MP1[3],\n",
    "            date=[x.strftime(\"%Y-%m-%d\") for x in property_id_MP['Booking_date']]\n",
    "        )\n",
    "    )\n",
    "\n",
    "hover = HoverTool(\n",
    "        tooltips=[\n",
    "            (\"Date\",\"@date\"),\n",
    "            (\"Event\", \"@desc\"),\n",
    "            (\"ADR\",\"@y{1.11}\")\n",
    "        ]\n",
    "    )\n",
    "\n",
    "p = plt.figure(x_axis_type=\"datetime\",width=800, height=500, tools=[hover],\n",
    "           title=\"Graph of Booking Date vs ADR for MP (hover to view events)\",x_axis_label = \"Booking Date\",\n",
    "               y_axis_label = \"ADR\")\n",
    "p.left[0].formatter.use_scientific = False\n",
    "p.line('x', 'y', line_width=2, source=source)   \n",
    "show(p)\n"
   ]
  },
  {
   "cell_type": "code",
   "execution_count": null,
   "metadata": {
    "collapsed": true
   },
   "outputs": [],
   "source": []
  },
  {
   "cell_type": "code",
   "execution_count": null,
   "metadata": {
    "collapsed": true
   },
   "outputs": [],
   "source": [
    "property_id_SC = pd.read_excel('Results/GroupByPropertyID/2015/SC.xlsx')\n",
    "property_id_SC = property_id_SC.reset_index()\n",
    "property_id_SC = property_id_SC.sort_values(by = 'Booking_date', ascending=True)\n",
    "property_id_SC1 = property_id_SC.values.T.tolist()\n"
   ]
  },
  {
   "cell_type": "code",
   "execution_count": null,
   "metadata": {
    "collapsed": false
   },
   "outputs": [],
   "source": [
    "source = ColumnDataSource(\n",
    "        data=dict(\n",
    "            x=property_id_SC1[1],\n",
    "            y=property_id_SC1[4],\n",
    "            desc=property_id_SC1[3],\n",
    "            date=[x.strftime(\"%Y-%m-%d\") for x in property_id_SC['Booking_date']]\n",
    "        )\n",
    "    )\n",
    "\n",
    "hover = HoverTool(\n",
    "        tooltips=[\n",
    "            (\"Date\",\"@date\"),\n",
    "            (\"Event\", \"@desc\"),\n",
    "            (\"Total Revenue\",\"@y{1.11}\")\n",
    "        ]\n",
    "    )\n",
    "\n",
    "p = plt.figure(x_axis_type=\"datetime\",width=800, height=500, tools=[hover],\n",
    "           title=\"Graph of BookingDate vs TotalRevenue for SC (hover to view events)\",x_axis_label = \"Booking Date\",\n",
    "               y_axis_label = \"Total Revenue\")\n",
    "p.left[0].formatter.use_scientific = False\n",
    "p.line('x', 'y', line_width=2, source=source)   \n",
    "show(p)\n"
   ]
  },
  {
   "cell_type": "code",
   "execution_count": null,
   "metadata": {
    "collapsed": false
   },
   "outputs": [],
   "source": [
    "source = ColumnDataSource(\n",
    "        data=dict(\n",
    "            x=property_id_SC1[1],\n",
    "            y=property_id_SC1[6],\n",
    "            desc=property_id_SC1[3],\n",
    "            date=[x.strftime(\"%Y-%m-%d\") for x in property_id_SC['Booking_date']]\n",
    "        )\n",
    "    )\n",
    "\n",
    "hover = HoverTool(\n",
    "        tooltips=[\n",
    "            (\"Date\",\"@date\"),\n",
    "            (\"Event\", \"@desc\"),\n",
    "            (\"ADR\",\"@y{1.11}\")\n",
    "        ]\n",
    "    )\n",
    "\n",
    "p = plt.figure(x_axis_type=\"datetime\",width=800, height=500, tools=[hover],\n",
    "           title=\"Graph of Booking Date vs ADR for SC (hover to view events)\",x_axis_label = \"Booking Date\",\n",
    "               y_axis_label = \"ADR\")\n",
    "p.left[0].formatter.use_scientific = False\n",
    "p.line('x', 'y', line_width=2, source=source)   \n",
    "show(p)\n"
   ]
  },
  {
   "cell_type": "code",
   "execution_count": null,
   "metadata": {
    "collapsed": true
   },
   "outputs": [],
   "source": []
  },
  {
   "cell_type": "code",
   "execution_count": null,
   "metadata": {
    "collapsed": true
   },
   "outputs": [],
   "source": [
    "property_id_SS = pd.read_excel('Results/GroupByPropertyID/2015/SS.xlsx')\n",
    "property_id_SS = property_id_SS.reset_index()\n",
    "property_id_SS = property_id_SS.sort_values(by = 'Booking_date', ascending=True)\n",
    "property_id_SS1 = property_id_SS.values.T.tolist()\n"
   ]
  },
  {
   "cell_type": "code",
   "execution_count": null,
   "metadata": {
    "collapsed": false
   },
   "outputs": [],
   "source": [
    "source = ColumnDataSource(\n",
    "        data=dict(\n",
    "            x=property_id_SS1[1],\n",
    "            y=property_id_SS1[4],\n",
    "            desc=property_id_SS1[3],\n",
    "            date=[x.strftime(\"%Y-%m-%d\") for x in property_id_SS['Booking_date']]\n",
    "        )\n",
    "    )\n",
    "\n",
    "hover = HoverTool(\n",
    "        tooltips=[\n",
    "            (\"Date\",\"@date\"),\n",
    "            (\"Event\", \"@desc\"),\n",
    "            (\"Total Revenue\",\"@y{1.11}\")\n",
    "        ]\n",
    "    )\n",
    "\n",
    "p = plt.figure(x_axis_type=\"datetime\",width=800, height=500, tools=[hover],\n",
    "           title=\"Graph of BookingDate vs TotalRevenue for SS (hover to view events)\",x_axis_label = \"Booking Date\",\n",
    "               y_axis_label = \"Total Revenue\")\n",
    "p.left[0].formatter.use_scientific = False\n",
    "p.line('x', 'y', line_width=2, source=source)   \n",
    "show(p)\n"
   ]
  },
  {
   "cell_type": "code",
   "execution_count": null,
   "metadata": {
    "collapsed": false
   },
   "outputs": [],
   "source": [
    "source = ColumnDataSource(\n",
    "        data=dict(\n",
    "            x=property_id_SS1[1],\n",
    "            y=property_id_SS1[6],\n",
    "            desc=property_id_SS1[3],\n",
    "            date=[x.strftime(\"%Y-%m-%d\") for x in property_id_SS['Booking_date']]\n",
    "        )\n",
    "    )\n",
    "\n",
    "hover = HoverTool(\n",
    "        tooltips=[\n",
    "            (\"Date\",\"@date\"),\n",
    "            (\"Event\", \"@desc\"),\n",
    "            (\"ADR\",\"@y{1.11}\")\n",
    "        ]\n",
    "    )\n",
    "\n",
    "p = plt.figure(x_axis_type=\"datetime\",width=800, height=500, tools=[hover],\n",
    "           title=\"Graph of Booking Date vs ADR for SS (hover to view events)\",x_axis_label = \"Booking Date\",\n",
    "               y_axis_label = \"ADR\")\n",
    "p.left[0].formatter.use_scientific = False\n",
    "p.line('x', 'y', line_width=2, source=source)   \n",
    "show(p)\n"
   ]
  },
  {
   "cell_type": "code",
   "execution_count": null,
   "metadata": {
    "collapsed": true
   },
   "outputs": [],
   "source": []
  },
  {
   "cell_type": "code",
   "execution_count": null,
   "metadata": {
    "collapsed": true
   },
   "outputs": [],
   "source": [
    "property_id_SV = pd.read_excel('Results/GroupByPropertyID/2015/SV.xlsx')\n",
    "property_id_SV = property_id_SV.reset_index()\n",
    "property_id_SV = property_id_SV.sort_values(by = 'Booking_date', ascending=True)\n",
    "property_id_SV1 = property_id_SV.values.T.tolist()\n"
   ]
  },
  {
   "cell_type": "code",
   "execution_count": null,
   "metadata": {
    "collapsed": false
   },
   "outputs": [],
   "source": [
    "source = ColumnDataSource(\n",
    "        data=dict(\n",
    "            x=property_id_SV1[1],\n",
    "            y=property_id_SV1[4],\n",
    "            desc=property_id_SV1[3],\n",
    "            date=[x.strftime(\"%Y-%m-%d\") for x in property_id_SV['Booking_date']]\n",
    "        )\n",
    "    )\n",
    "\n",
    "hover = HoverTool(\n",
    "        tooltips=[\n",
    "            (\"Date\",\"@date\"),\n",
    "            (\"Event\", \"@desc\"),\n",
    "            (\"Total Revenue\",\"@y{1.11}\")\n",
    "        ]\n",
    "    )\n",
    "\n",
    "p = plt.figure(x_axis_type=\"datetime\",width=800, height=500, tools=[hover],\n",
    "           title=\"Graph of BookingDate vs TotalRevenue for SV (hover to view events)\",x_axis_label = \"Booking Date\",\n",
    "               y_axis_label = \"Total Revenue\")\n",
    "p.left[0].formatter.use_scientific = False\n",
    "p.line('x', 'y', line_width=2, source=source)   \n",
    "show(p)\n"
   ]
  },
  {
   "cell_type": "code",
   "execution_count": null,
   "metadata": {
    "collapsed": false
   },
   "outputs": [],
   "source": [
    "source = ColumnDataSource(\n",
    "        data=dict(\n",
    "            x=property_id_SV1[1],\n",
    "            y=property_id_SV1[6],\n",
    "            desc=property_id_SV1[3],\n",
    "            date=[x.strftime(\"%Y-%m-%d\") for x in property_id_SV['Booking_date']]\n",
    "        )\n",
    "    )\n",
    "\n",
    "hover = HoverTool(\n",
    "        tooltips=[\n",
    "            (\"Date\",\"@date\"),\n",
    "            (\"Event\", \"@desc\"),\n",
    "            (\"ADR\",\"@y{1.11}\")\n",
    "        ]\n",
    "    )\n",
    "\n",
    "p = plt.figure(x_axis_type=\"datetime\",width=800, height=500, tools=[hover],\n",
    "           title=\"Graph of Booking Date vs ADR for SV (hover to view events)\",x_axis_label = \"Booking Date\",\n",
    "               y_axis_label = \"ADR\")\n",
    "p.left[0].formatter.use_scientific = False\n",
    "p.line('x', 'y', line_width=2, source=source)   \n",
    "show(p)\n"
   ]
  },
  {
   "cell_type": "code",
   "execution_count": null,
   "metadata": {
    "collapsed": true
   },
   "outputs": [],
   "source": []
  },
  {
   "cell_type": "code",
   "execution_count": null,
   "metadata": {
    "collapsed": true
   },
   "outputs": [],
   "source": [
    "property_id_VM = pd.read_excel('Results/GroupByPropertyID/2015/VM.xlsx')\n",
    "property_id_VM = property_id_VM.reset_index()\n",
    "property_id_VM = property_id_VM.sort_values(by = 'Booking_date', ascending=True)\n",
    "property_id_VM1 = property_id_VM.values.T.tolist()\n"
   ]
  },
  {
   "cell_type": "code",
   "execution_count": null,
   "metadata": {
    "collapsed": false
   },
   "outputs": [],
   "source": [
    "source = ColumnDataSource(\n",
    "        data=dict(\n",
    "            x=property_id_VM1[1],\n",
    "            y=property_id_VM1[4],\n",
    "            desc=property_id_VM1[3],\n",
    "            date=[x.strftime(\"%Y-%m-%d\") for x in property_id_VM['Booking_date']]\n",
    "        )\n",
    "    )\n",
    "\n",
    "hover = HoverTool(\n",
    "        tooltips=[\n",
    "            (\"Date\",\"@date\"),\n",
    "            (\"Event\", \"@desc\"),\n",
    "            (\"Total Revenue\",\"@y{1.11}\")\n",
    "        ]\n",
    "    )\n",
    "\n",
    "p = plt.figure(x_axis_type=\"datetime\",width=800, height=500, tools=[hover],\n",
    "           title=\"Graph of BookingDate vs TotalRevenue for VM (hover to view events)\",x_axis_label = \"Booking Date\",\n",
    "               y_axis_label = \"Total Revenue\")\n",
    "p.left[0].formatter.use_scientific = False\n",
    "p.line('x', 'y', line_width=2, source=source)   \n",
    "show(p)\n"
   ]
  },
  {
   "cell_type": "code",
   "execution_count": null,
   "metadata": {
    "collapsed": false
   },
   "outputs": [],
   "source": [
    "source = ColumnDataSource(\n",
    "        data=dict(\n",
    "            x=property_id_VM1[1],\n",
    "            y=property_id_VM1[6],\n",
    "            desc=property_id_VM1[3],\n",
    "            date=[x.strftime(\"%Y-%m-%d\") for x in property_id_VM['Booking_date']]\n",
    "        )\n",
    "    )\n",
    "\n",
    "hover = HoverTool(\n",
    "        tooltips=[\n",
    "            (\"Date\",\"@date\"),\n",
    "            (\"Event\", \"@desc\"),\n",
    "            (\"ADR\",\"@y{1.11}\")\n",
    "        ]\n",
    "    )\n",
    "\n",
    "p = plt.figure(x_axis_type=\"datetime\",width=800, height=500, tools=[hover],\n",
    "           title=\"Graph of Booking Date vs ADR for VM (hover to view events)\",x_axis_label = \"Booking Date\",\n",
    "               y_axis_label = \"ADR\")\n",
    "p.left[0].formatter.use_scientific = False\n",
    "p.line('x', 'y', line_width=2, source=source)   \n",
    "show(p)\n"
   ]
  },
  {
   "cell_type": "code",
   "execution_count": null,
   "metadata": {
    "collapsed": true
   },
   "outputs": [],
   "source": []
  },
  {
   "cell_type": "code",
   "execution_count": null,
   "metadata": {
    "collapsed": true
   },
   "outputs": [],
   "source": [
    "property_id_VV = pd.read_excel('Results/GroupByPropertyID/2015/VV.xlsx')\n",
    "property_id_VV = property_id_VV.reset_index()\n",
    "property_id_VV = property_id_VV.sort_values(by = 'Booking_date', ascending=True)\n",
    "property_id_VV1 = property_id_VV.values.T.tolist()\n"
   ]
  },
  {
   "cell_type": "code",
   "execution_count": null,
   "metadata": {
    "collapsed": false
   },
   "outputs": [],
   "source": [
    "source = ColumnDataSource(\n",
    "        data=dict(\n",
    "            x=property_id_VV1[1],\n",
    "            y=property_id_VV1[4],\n",
    "            desc=property_id_VV1[3],\n",
    "            date=[x.strftime(\"%Y-%m-%d\") for x in property_id_VV['Booking_date']]\n",
    "        )\n",
    "    )\n",
    "\n",
    "hover = HoverTool(\n",
    "        tooltips=[\n",
    "            (\"Date\",\"@date\"),\n",
    "            (\"Event\", \"@desc\"),\n",
    "            (\"Total Revenue\",\"@y{1.11}\")\n",
    "        ]\n",
    "    )\n",
    "\n",
    "p = plt.figure(x_axis_type=\"datetime\",width=800, height=500, tools=[hover],\n",
    "           title=\"Graph of BookingDate vs TotalRevenue for VV (hover to view events)\",x_axis_label = \"Booking Date\",\n",
    "               y_axis_label = \"Total Revenue\")\n",
    "p.left[0].formatter.use_scientific = False\n",
    "p.line('x', 'y', line_width=2, source=source)   \n",
    "show(p)\n"
   ]
  },
  {
   "cell_type": "code",
   "execution_count": null,
   "metadata": {
    "collapsed": false
   },
   "outputs": [],
   "source": [
    "source = ColumnDataSource(\n",
    "        data=dict(\n",
    "            x=property_id_VV1[1],\n",
    "            y=property_id_VV1[6],\n",
    "            desc=property_id_VV1[3],\n",
    "            date=[x.strftime(\"%Y-%m-%d\") for x in property_id_VV['Booking_date']]\n",
    "        )\n",
    "    )\n",
    "\n",
    "hover = HoverTool(\n",
    "        tooltips=[\n",
    "            (\"Date\",\"@date\"),\n",
    "            (\"Event\", \"@desc\"),\n",
    "            (\"ADR\",\"@y{1.11}\")\n",
    "        ]\n",
    "    )\n",
    "\n",
    "p = plt.figure(x_axis_type=\"datetime\",width=800, height=500, tools=[hover],\n",
    "           title=\"Graph of Booking Date vs ADR for VV (hover to view events)\",x_axis_label = \"Booking Date\",\n",
    "               y_axis_label = \"ADR\")\n",
    "p.left[0].formatter.use_scientific = False\n",
    "p.line('x', 'y', line_width=2, source=source)   \n",
    "show(p)\n"
   ]
  },
  {
   "cell_type": "code",
   "execution_count": null,
   "metadata": {
    "collapsed": true
   },
   "outputs": [],
   "source": []
  }
 ],
 "metadata": {
  "anaconda-cloud": {},
  "kernelspec": {
   "display_name": "Python [default]",
   "language": "python",
   "name": "python3"
  },
  "language_info": {
   "codemirror_mode": {
    "name": "ipython",
    "version": 3
   },
   "file_extension": ".py",
   "mimetype": "text/x-python",
   "name": "python",
   "nbconvert_exporter": "python",
   "pygments_lexer": "ipython3",
   "version": "3.5.2"
  }
 },
 "nbformat": 4,
 "nbformat_minor": 1
}
