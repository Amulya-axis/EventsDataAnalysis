{
 "cells": [
  {
   "cell_type": "code",
   "execution_count": 1,
   "metadata": {
    "collapsed": false
   },
   "outputs": [],
   "source": [
    "import pandas as pd\n",
    "import numpy as np\n",
    "\n",
    "data = pd.read_csv('Results/RequiredDataSet.csv',header=None, names=['booking_date','channel','property_id','room_name','room_id','check_in','check_out','room_rate','booking_status'])\n",
    "# data.head()\n"
   ]
  },
  {
   "cell_type": "code",
   "execution_count": 2,
   "metadata": {
    "collapsed": false
   },
   "outputs": [],
   "source": [
    "Results = pd.read_excel('Results/DataSetWithStayDate.xlsx')\n",
    "del Results['Old_Room_rate']\n",
    "# Results.head()"
   ]
  },
  {
   "cell_type": "code",
   "execution_count": 3,
   "metadata": {
    "collapsed": true
   },
   "outputs": [],
   "source": [
    "scrapyData = pd.read_csv('Results/eventData2015.csv',header=None, names=['Day','Date','Event','HolidayIn'])\n",
    "scrapeResult = scrapyData.dropna()\n",
    "# scrapeResult.head()"
   ]
  },
  {
   "cell_type": "code",
   "execution_count": 4,
   "metadata": {
    "collapsed": true
   },
   "outputs": [],
   "source": [
    "# to avoid \"SettingWithCopyWarning\"\n",
    "pd.options.mode.chained_assignment = None  # default='warn'"
   ]
  },
  {
   "cell_type": "code",
   "execution_count": 5,
   "metadata": {
    "collapsed": false
   },
   "outputs": [],
   "source": [
    "scrapeResult['Date'] =   '2015-' + scrapeResult['Date'] \n",
    "# scrapeResult.head()"
   ]
  },
  {
   "cell_type": "code",
   "execution_count": 6,
   "metadata": {
    "collapsed": false
   },
   "outputs": [],
   "source": [
    "scrapeResult['Date'] = pd.to_datetime(scrapeResult.Date)\n",
    "# scrapeResult.head()"
   ]
  },
  {
   "cell_type": "code",
   "execution_count": 7,
   "metadata": {
    "collapsed": true
   },
   "outputs": [],
   "source": [
    "del scrapeResult['HolidayIn']\n",
    "del scrapeResult['Day']\n",
    "# scrapeResult.head()"
   ]
  },
  {
   "cell_type": "code",
   "execution_count": 8,
   "metadata": {
    "collapsed": false
   },
   "outputs": [],
   "source": [
    "newResults = Results.filter(['Property_id','Stay_date','Booking_status','Room_rate'], axis=1)\n",
    "# newResults.head()"
   ]
  },
  {
   "cell_type": "code",
   "execution_count": 9,
   "metadata": {
    "collapsed": false
   },
   "outputs": [],
   "source": [
    "newResults = newResults[(newResults.Booking_status == 'COMPLETED') | (newResults.Booking_status == 'CONFIRMED')]\n",
    "# newResults"
   ]
  },
  {
   "cell_type": "code",
   "execution_count": 10,
   "metadata": {
    "collapsed": false
   },
   "outputs": [],
   "source": [
    "newResults = newResults[(newResults.Stay_date >= '2015-01-01') & (newResults.Stay_date <= '2015-12-31')]\n",
    "# newResults.head()"
   ]
  },
  {
   "cell_type": "code",
   "execution_count": 11,
   "metadata": {
    "collapsed": false
   },
   "outputs": [],
   "source": [
    "newResults['Stay_date'] = pd.to_datetime(newResults.Stay_date)\n",
    "# newResults.head()"
   ]
  },
  {
   "cell_type": "code",
   "execution_count": 12,
   "metadata": {
    "collapsed": true
   },
   "outputs": [],
   "source": [
    "res = pd.merge(left=newResults, left_on='Stay_date',right=scrapeResult, right_on='Date')\n",
    "res1 = res.drop_duplicates()\n",
    "res1 = res1.reset_index()\n",
    "del res1['index']\n",
    "del res1['Date']\n",
    "# res1.head()"
   ]
  },
  {
   "cell_type": "code",
   "execution_count": 13,
   "metadata": {
    "collapsed": false
   },
   "outputs": [],
   "source": [
    "res1['room_count'] = res1.groupby(['Property_id','Stay_date'])['Room_rate'].transform('count')\n",
    "res2 = res1.drop_duplicates()\n",
    "# res2"
   ]
  },
  {
   "cell_type": "code",
   "execution_count": 14,
   "metadata": {
    "collapsed": false
   },
   "outputs": [],
   "source": [
    "res2['totalRevenue'] = res2.groupby(['Property_id','Stay_date'])['Room_rate'].transform('sum')\n",
    "res3 = res2.drop_duplicates()\n",
    "# res3.head()"
   ]
  },
  {
   "cell_type": "code",
   "execution_count": 15,
   "metadata": {
    "collapsed": false
   },
   "outputs": [],
   "source": [
    "res3['ADR'] = res3.apply(lambda res3: (res3['totalRevenue'] / res3['room_count'] ) , axis=1)\n",
    "res4 =res3\n",
    "# res4.head()"
   ]
  },
  {
   "cell_type": "code",
   "execution_count": 16,
   "metadata": {
    "collapsed": false
   },
   "outputs": [],
   "source": [
    "# len(res4[res4.channel==\"OTA\"])\n",
    "del res4['Booking_status']\n",
    "del res4['Room_rate']\n",
    "res5 = res4.drop_duplicates()\n",
    "# res5"
   ]
  },
  {
   "cell_type": "code",
   "execution_count": 17,
   "metadata": {
    "collapsed": false
   },
   "outputs": [
    {
     "data": {
      "text/plain": [
       "numpy.ndarray"
      ]
     },
     "execution_count": 17,
     "metadata": {},
     "output_type": "execute_result"
    }
   ],
   "source": [
    "temp = res5['Property_id'].unique()\n",
    "type(temp)"
   ]
  },
  {
   "cell_type": "code",
   "execution_count": null,
   "metadata": {
    "collapsed": false
   },
   "outputs": [],
   "source": [
    "for i in range(len(temp)):\n",
    "    property_id = res5[(res5.Property_id == temp[i])]\n",
    "    property_id.to_excel('Results/GroupByPropertyID/2015/'+ temp[i] +'.xlsx')"
   ]
  },
  {
   "cell_type": "code",
   "execution_count": null,
   "metadata": {
    "collapsed": true
   },
   "outputs": [],
   "source": [
    "#graph plotting"
   ]
  },
  {
   "cell_type": "code",
   "execution_count": 18,
   "metadata": {
    "collapsed": false
   },
   "outputs": [
    {
     "data": {
      "text/html": [
       "\n",
       "    <div class=\"bk-root\">\n",
       "        <a href=\"http://bokeh.pydata.org\" target=\"_blank\" class=\"bk-logo bk-logo-small bk-logo-notebook\"></a>\n",
       "        <span id=\"a140925e-e419-4238-a43e-7fdb7d7b3cfc\">Loading BokehJS ...</span>\n",
       "    </div>"
      ]
     },
     "metadata": {},
     "output_type": "display_data"
    },
    {
     "data": {
      "application/javascript": [
       "\n",
       "(function(global) {\n",
       "  function now() {\n",
       "    return new Date();\n",
       "  }\n",
       "\n",
       "  var force = \"1\";\n",
       "\n",
       "  if (typeof (window._bokeh_onload_callbacks) === \"undefined\" || force !== \"\") {\n",
       "    window._bokeh_onload_callbacks = [];\n",
       "    window._bokeh_is_loading = undefined;\n",
       "  }\n",
       "\n",
       "\n",
       "  \n",
       "  if (typeof (window._bokeh_timeout) === \"undefined\" || force !== \"\") {\n",
       "    window._bokeh_timeout = Date.now() + 5000;\n",
       "    window._bokeh_failed_load = false;\n",
       "  }\n",
       "\n",
       "  var NB_LOAD_WARNING = {'data': {'text/html':\n",
       "     \"<div style='background-color: #fdd'>\\n\"+\n",
       "     \"<p>\\n\"+\n",
       "     \"BokehJS does not appear to have successfully loaded. If loading BokehJS from CDN, this \\n\"+\n",
       "     \"may be due to a slow or bad network connection. Possible fixes:\\n\"+\n",
       "     \"</p>\\n\"+\n",
       "     \"<ul>\\n\"+\n",
       "     \"<li>re-rerun `output_notebook()` to attempt to load from CDN again, or</li>\\n\"+\n",
       "     \"<li>use INLINE resources instead, as so:</li>\\n\"+\n",
       "     \"</ul>\\n\"+\n",
       "     \"<code>\\n\"+\n",
       "     \"from bokeh.resources import INLINE\\n\"+\n",
       "     \"output_notebook(resources=INLINE)\\n\"+\n",
       "     \"</code>\\n\"+\n",
       "     \"</div>\"}};\n",
       "\n",
       "  function display_loaded() {\n",
       "    if (window.Bokeh !== undefined) {\n",
       "      Bokeh.$(\"#a140925e-e419-4238-a43e-7fdb7d7b3cfc\").text(\"BokehJS successfully loaded.\");\n",
       "    } else if (Date.now() < window._bokeh_timeout) {\n",
       "      setTimeout(display_loaded, 100)\n",
       "    }\n",
       "  }\n",
       "\n",
       "  function run_callbacks() {\n",
       "    window._bokeh_onload_callbacks.forEach(function(callback) { callback() });\n",
       "    delete window._bokeh_onload_callbacks\n",
       "    console.info(\"Bokeh: all callbacks have finished\");\n",
       "  }\n",
       "\n",
       "  function load_libs(js_urls, callback) {\n",
       "    window._bokeh_onload_callbacks.push(callback);\n",
       "    if (window._bokeh_is_loading > 0) {\n",
       "      console.log(\"Bokeh: BokehJS is being loaded, scheduling callback at\", now());\n",
       "      return null;\n",
       "    }\n",
       "    if (js_urls == null || js_urls.length === 0) {\n",
       "      run_callbacks();\n",
       "      return null;\n",
       "    }\n",
       "    console.log(\"Bokeh: BokehJS not loaded, scheduling load and callback at\", now());\n",
       "    window._bokeh_is_loading = js_urls.length;\n",
       "    for (var i = 0; i < js_urls.length; i++) {\n",
       "      var url = js_urls[i];\n",
       "      var s = document.createElement('script');\n",
       "      s.src = url;\n",
       "      s.async = false;\n",
       "      s.onreadystatechange = s.onload = function() {\n",
       "        window._bokeh_is_loading--;\n",
       "        if (window._bokeh_is_loading === 0) {\n",
       "          console.log(\"Bokeh: all BokehJS libraries loaded\");\n",
       "          run_callbacks()\n",
       "        }\n",
       "      };\n",
       "      s.onerror = function() {\n",
       "        console.warn(\"failed to load library \" + url);\n",
       "      };\n",
       "      console.log(\"Bokeh: injecting script tag for BokehJS library: \", url);\n",
       "      document.getElementsByTagName(\"head\")[0].appendChild(s);\n",
       "    }\n",
       "  };var element = document.getElementById(\"a140925e-e419-4238-a43e-7fdb7d7b3cfc\");\n",
       "  if (element == null) {\n",
       "    console.log(\"Bokeh: ERROR: autoload.js configured with elementid 'a140925e-e419-4238-a43e-7fdb7d7b3cfc' but no matching script tag was found. \")\n",
       "    return false;\n",
       "  }\n",
       "\n",
       "  var js_urls = ['https://cdn.pydata.org/bokeh/release/bokeh-0.12.2.min.js', 'https://cdn.pydata.org/bokeh/release/bokeh-widgets-0.12.2.min.js', 'https://cdn.pydata.org/bokeh/release/bokeh-compiler-0.12.2.min.js'];\n",
       "\n",
       "  var inline_js = [\n",
       "    function(Bokeh) {\n",
       "      Bokeh.set_log_level(\"info\");\n",
       "    },\n",
       "    \n",
       "    function(Bokeh) {\n",
       "      \n",
       "      Bokeh.$(\"#a140925e-e419-4238-a43e-7fdb7d7b3cfc\").text(\"BokehJS is loading...\");\n",
       "    },\n",
       "    function(Bokeh) {\n",
       "      console.log(\"Bokeh: injecting CSS: https://cdn.pydata.org/bokeh/release/bokeh-0.12.2.min.css\");\n",
       "      Bokeh.embed.inject_css(\"https://cdn.pydata.org/bokeh/release/bokeh-0.12.2.min.css\");\n",
       "      console.log(\"Bokeh: injecting CSS: https://cdn.pydata.org/bokeh/release/bokeh-widgets-0.12.2.min.css\");\n",
       "      Bokeh.embed.inject_css(\"https://cdn.pydata.org/bokeh/release/bokeh-widgets-0.12.2.min.css\");\n",
       "    }\n",
       "  ];\n",
       "\n",
       "  function run_inline_js() {\n",
       "    \n",
       "    if ((window.Bokeh !== undefined) || (force === \"1\")) {\n",
       "      for (var i = 0; i < inline_js.length; i++) {\n",
       "        inline_js[i](window.Bokeh);\n",
       "      }if (force === \"1\") {\n",
       "        display_loaded();\n",
       "      }} else if (Date.now() < window._bokeh_timeout) {\n",
       "      setTimeout(run_inline_js, 100);\n",
       "    } else if (!window._bokeh_failed_load) {\n",
       "      console.log(\"Bokeh: BokehJS failed to load within specified timeout.\");\n",
       "      window._bokeh_failed_load = true;\n",
       "    } else if (!force) {\n",
       "      var cell = $(\"#a140925e-e419-4238-a43e-7fdb7d7b3cfc\").parents('.cell').data().cell;\n",
       "      cell.output_area.append_execute_result(NB_LOAD_WARNING)\n",
       "    }\n",
       "\n",
       "  }\n",
       "\n",
       "  if (window._bokeh_is_loading === 0) {\n",
       "    console.log(\"Bokeh: BokehJS loaded, going straight to plotting\");\n",
       "    run_inline_js();\n",
       "  } else {\n",
       "    load_libs(js_urls, function() {\n",
       "      console.log(\"Bokeh: BokehJS plotting callback run at\", now());\n",
       "      run_inline_js();\n",
       "    });\n",
       "  }\n",
       "}(this));"
      ]
     },
     "metadata": {},
     "output_type": "display_data"
    }
   ],
   "source": [
    "# Our numerical workhorses\n",
    "import numpy as np\n",
    "import pandas as pd\n",
    "\n",
    "# Import Bokeh modules for interactive plotting\n",
    "import bokeh.charts\n",
    "import bokeh.charts.utils\n",
    "import bokeh.io\n",
    "import bokeh.models\n",
    "import bokeh.palettes\n",
    "import bokeh.plotting\n",
    "\n",
    "# Display graphics in this notebook\n",
    "bokeh.io.output_notebook()"
   ]
  },
  {
   "cell_type": "code",
   "execution_count": 19,
   "metadata": {
    "collapsed": true
   },
   "outputs": [],
   "source": [
    "import bokeh.plotting as plt\n",
    "from bokeh.plotting import figure, output_file, show, ColumnDataSource\n",
    "from bokeh.models import HoverTool\n",
    "from bokeh.models.formatters import DatetimeTickFormatter"
   ]
  },
  {
   "cell_type": "code",
   "execution_count": 25,
   "metadata": {
    "collapsed": false
   },
   "outputs": [],
   "source": [
    "property_id_BB = pd.read_excel('Results/GroupByPropertyID/2015/BB.xlsx')\n",
    "property_id_BB = property_id_BB.reset_index()\n",
    "property_id_BB = property_id_BB.sort_values(by = 'Stay_date', ascending=True)\n",
    "property_id_BB1 = property_id_BB.values.T.tolist()"
   ]
  },
  {
   "cell_type": "code",
   "execution_count": 21,
   "metadata": {
    "collapsed": false
   },
   "outputs": [
    {
     "data": {
      "text/plain": [
       "ADR    15001.756725\n",
       "dtype: float64"
      ]
     },
     "execution_count": 21,
     "metadata": {},
     "output_type": "execute_result"
    }
   ],
   "source": [
    "property_id_BB[['ADR']].mean()"
   ]
  },
  {
   "cell_type": "code",
   "execution_count": 22,
   "metadata": {
    "collapsed": false
   },
   "outputs": [
    {
     "data": {
      "text/plain": [
       "totalRevenue    127449.844023\n",
       "dtype: float64"
      ]
     },
     "execution_count": 22,
     "metadata": {},
     "output_type": "execute_result"
    }
   ],
   "source": [
    "property_id_BB[['totalRevenue']].mean()"
   ]
  },
  {
   "cell_type": "code",
   "execution_count": 26,
   "metadata": {
    "collapsed": false
   },
   "outputs": [
    {
     "data": {
      "text/plain": [
       "totalRevenue    11088136.43\n",
       "dtype: float64"
      ]
     },
     "execution_count": 26,
     "metadata": {},
     "output_type": "execute_result"
    }
   ],
   "source": [
    "property_id_BB[['totalRevenue']].sum()"
   ]
  },
  {
   "cell_type": "code",
   "execution_count": 23,
   "metadata": {
    "collapsed": false
   },
   "outputs": [
    {
     "data": {
      "text/html": [
       "\n",
       "\n",
       "    <div class=\"bk-root\">\n",
       "        <div class=\"plotdiv\" id=\"c87e70bd-33eb-4e47-866f-0e04239ccfac\"></div>\n",
       "    </div>\n",
       "<script type=\"text/javascript\">\n",
       "  \n",
       "  (function(global) {\n",
       "    function now() {\n",
       "      return new Date();\n",
       "    }\n",
       "  \n",
       "    var force = \"\";\n",
       "  \n",
       "    if (typeof (window._bokeh_onload_callbacks) === \"undefined\" || force !== \"\") {\n",
       "      window._bokeh_onload_callbacks = [];\n",
       "      window._bokeh_is_loading = undefined;\n",
       "    }\n",
       "  \n",
       "  \n",
       "    \n",
       "    if (typeof (window._bokeh_timeout) === \"undefined\" || force !== \"\") {\n",
       "      window._bokeh_timeout = Date.now() + 0;\n",
       "      window._bokeh_failed_load = false;\n",
       "    }\n",
       "  \n",
       "    var NB_LOAD_WARNING = {'data': {'text/html':\n",
       "       \"<div style='background-color: #fdd'>\\n\"+\n",
       "       \"<p>\\n\"+\n",
       "       \"BokehJS does not appear to have successfully loaded. If loading BokehJS from CDN, this \\n\"+\n",
       "       \"may be due to a slow or bad network connection. Possible fixes:\\n\"+\n",
       "       \"</p>\\n\"+\n",
       "       \"<ul>\\n\"+\n",
       "       \"<li>re-rerun `output_notebook()` to attempt to load from CDN again, or</li>\\n\"+\n",
       "       \"<li>use INLINE resources instead, as so:</li>\\n\"+\n",
       "       \"</ul>\\n\"+\n",
       "       \"<code>\\n\"+\n",
       "       \"from bokeh.resources import INLINE\\n\"+\n",
       "       \"output_notebook(resources=INLINE)\\n\"+\n",
       "       \"</code>\\n\"+\n",
       "       \"</div>\"}};\n",
       "  \n",
       "    function display_loaded() {\n",
       "      if (window.Bokeh !== undefined) {\n",
       "        Bokeh.$(\"#c87e70bd-33eb-4e47-866f-0e04239ccfac\").text(\"BokehJS successfully loaded.\");\n",
       "      } else if (Date.now() < window._bokeh_timeout) {\n",
       "        setTimeout(display_loaded, 100)\n",
       "      }\n",
       "    }\n",
       "  \n",
       "    function run_callbacks() {\n",
       "      window._bokeh_onload_callbacks.forEach(function(callback) { callback() });\n",
       "      delete window._bokeh_onload_callbacks\n",
       "      console.info(\"Bokeh: all callbacks have finished\");\n",
       "    }\n",
       "  \n",
       "    function load_libs(js_urls, callback) {\n",
       "      window._bokeh_onload_callbacks.push(callback);\n",
       "      if (window._bokeh_is_loading > 0) {\n",
       "        console.log(\"Bokeh: BokehJS is being loaded, scheduling callback at\", now());\n",
       "        return null;\n",
       "      }\n",
       "      if (js_urls == null || js_urls.length === 0) {\n",
       "        run_callbacks();\n",
       "        return null;\n",
       "      }\n",
       "      console.log(\"Bokeh: BokehJS not loaded, scheduling load and callback at\", now());\n",
       "      window._bokeh_is_loading = js_urls.length;\n",
       "      for (var i = 0; i < js_urls.length; i++) {\n",
       "        var url = js_urls[i];\n",
       "        var s = document.createElement('script');\n",
       "        s.src = url;\n",
       "        s.async = false;\n",
       "        s.onreadystatechange = s.onload = function() {\n",
       "          window._bokeh_is_loading--;\n",
       "          if (window._bokeh_is_loading === 0) {\n",
       "            console.log(\"Bokeh: all BokehJS libraries loaded\");\n",
       "            run_callbacks()\n",
       "          }\n",
       "        };\n",
       "        s.onerror = function() {\n",
       "          console.warn(\"failed to load library \" + url);\n",
       "        };\n",
       "        console.log(\"Bokeh: injecting script tag for BokehJS library: \", url);\n",
       "        document.getElementsByTagName(\"head\")[0].appendChild(s);\n",
       "      }\n",
       "    };var element = document.getElementById(\"c87e70bd-33eb-4e47-866f-0e04239ccfac\");\n",
       "    if (element == null) {\n",
       "      console.log(\"Bokeh: ERROR: autoload.js configured with elementid 'c87e70bd-33eb-4e47-866f-0e04239ccfac' but no matching script tag was found. \")\n",
       "      return false;\n",
       "    }\n",
       "  \n",
       "    var js_urls = [];\n",
       "  \n",
       "    var inline_js = [\n",
       "      function(Bokeh) {\n",
       "        Bokeh.$(function() {\n",
       "            var docs_json = {\"faf275aa-3be5-4fad-9280-6a579fb19a6d\":{\"roots\":{\"references\":[{\"attributes\":{\"days\":[1,4,7,10,13,16,19,22,25,28]},\"id\":\"ead3f891-abac-43bf-b0c9-6bb010b4af7d\",\"type\":\"DaysTicker\"},{\"attributes\":{\"data_source\":{\"id\":\"1f40aff6-19b4-41ba-a469-ab4e5b638e41\",\"type\":\"ColumnDataSource\"},\"glyph\":{\"id\":\"53777c77-c34c-4b43-8595-0bf2cb4e02a5\",\"type\":\"Line\"},\"hover_glyph\":null,\"nonselection_glyph\":{\"id\":\"9e40cc12-15d9-41c2-a836-9693f6adaaa9\",\"type\":\"Line\"},\"selection_glyph\":null},\"id\":\"bdfd3751-2c98-4912-9189-d0471ca48928\",\"type\":\"GlyphRenderer\"},{\"attributes\":{\"active_drag\":\"auto\",\"active_scroll\":\"auto\",\"active_tap\":\"auto\",\"tools\":[{\"id\":\"50dfe3da-1fa0-4318-ac38-d1e195b4005e\",\"type\":\"HoverTool\"}]},\"id\":\"253c9e98-f145-4331-bb31-7b1096ccbdcc\",\"type\":\"Toolbar\"},{\"attributes\":{},\"id\":\"4fcd2735-2422-494b-bb22-ad42b5f776aa\",\"type\":\"DatetimeTickFormatter\"},{\"attributes\":{\"months\":[0,6]},\"id\":\"3f7da3ab-ad77-44de-b206-0d762579408b\",\"type\":\"MonthsTicker\"},{\"attributes\":{\"num_minor_ticks\":5},\"id\":\"36f393d8-73bc-4518-b8c0-23e28a0e27f2\",\"type\":\"DatetimeTicker\"},{\"attributes\":{\"base\":60,\"mantissas\":[1,2,5,10,15,20,30],\"max_interval\":1800000.0,\"min_interval\":1000.0,\"num_minor_ticks\":0},\"id\":\"b234bacb-6239-4683-aa63-75e9bac4bbe7\",\"type\":\"AdaptiveTicker\"},{\"attributes\":{},\"id\":\"1ad6765a-5ed4-4e4a-899b-e76225bac1ea\",\"type\":\"BasicTicker\"},{\"attributes\":{\"base\":24,\"mantissas\":[1,2,4,6,8,12],\"max_interval\":43200000.0,\"min_interval\":3600000.0,\"num_minor_ticks\":0},\"id\":\"620818e6-6f04-4575-a0b9-7105d03c2714\",\"type\":\"AdaptiveTicker\"},{\"attributes\":{\"below\":[{\"id\":\"cd3036fa-0b5d-4c8b-8386-c24b42c15a8e\",\"type\":\"DatetimeAxis\"}],\"left\":[{\"id\":\"07d98c38-46d3-4a3e-8339-2b413667f661\",\"type\":\"LinearAxis\"}],\"plot_height\":500,\"plot_width\":800,\"renderers\":[{\"id\":\"cd3036fa-0b5d-4c8b-8386-c24b42c15a8e\",\"type\":\"DatetimeAxis\"},{\"id\":\"e70f6566-bddd-4e13-a8cb-f33349f62638\",\"type\":\"Grid\"},{\"id\":\"07d98c38-46d3-4a3e-8339-2b413667f661\",\"type\":\"LinearAxis\"},{\"id\":\"7e07872a-4882-4305-9a1e-9d7b69172e11\",\"type\":\"Grid\"},{\"id\":\"bdfd3751-2c98-4912-9189-d0471ca48928\",\"type\":\"GlyphRenderer\"}],\"title\":{\"id\":\"5524c2f9-36cb-4034-9614-8b547567b794\",\"type\":\"Title\"},\"tool_events\":{\"id\":\"6e9e3e9a-ea23-4bac-b57f-d90a4e5160ef\",\"type\":\"ToolEvents\"},\"toolbar\":{\"id\":\"253c9e98-f145-4331-bb31-7b1096ccbdcc\",\"type\":\"Toolbar\"},\"x_range\":{\"id\":\"a52fb03e-b989-4c56-abf3-318104a98cfe\",\"type\":\"DataRange1d\"},\"y_range\":{\"id\":\"4d00ee13-951f-4cc0-a384-12457d2572c6\",\"type\":\"DataRange1d\"}},\"id\":\"6174f290-4cb2-4048-91f9-099ea46bac9b\",\"subtype\":\"Figure\",\"type\":\"Plot\"},{\"attributes\":{\"use_scientific\":false},\"id\":\"dc5dc5a7-d30e-4481-b542-90a9fa652eb5\",\"type\":\"BasicTickFormatter\"},{\"attributes\":{},\"id\":\"b36978d9-55c7-4190-861f-0277f5a26ded\",\"type\":\"YearsTicker\"},{\"attributes\":{\"months\":[0,2,4,6,8,10]},\"id\":\"e77b0e9b-b7c8-43e2-b70a-0ff977ef2f3d\",\"type\":\"MonthsTicker\"},{\"attributes\":{\"months\":[0,1,2,3,4,5,6,7,8,9,10,11]},\"id\":\"34f76675-f49f-4ceb-beef-ca73486ab6b1\",\"type\":\"MonthsTicker\"},{\"attributes\":{\"line_alpha\":{\"value\":0.1},\"line_color\":{\"value\":\"#1f77b4\"},\"line_width\":{\"value\":2},\"x\":{\"field\":\"x\"},\"y\":{\"field\":\"y\"}},\"id\":\"9e40cc12-15d9-41c2-a836-9693f6adaaa9\",\"type\":\"Line\"},{\"attributes\":{\"plot\":null,\"text\":\"Graph of StayDate vs TotalRevenue for BB (hover to view events)\"},\"id\":\"5524c2f9-36cb-4034-9614-8b547567b794\",\"type\":\"Title\"},{\"attributes\":{\"axis_label\":\"Total Revenue\",\"formatter\":{\"id\":\"dc5dc5a7-d30e-4481-b542-90a9fa652eb5\",\"type\":\"BasicTickFormatter\"},\"plot\":{\"id\":\"6174f290-4cb2-4048-91f9-099ea46bac9b\",\"subtype\":\"Figure\",\"type\":\"Plot\"},\"ticker\":{\"id\":\"1ad6765a-5ed4-4e4a-899b-e76225bac1ea\",\"type\":\"BasicTicker\"}},\"id\":\"07d98c38-46d3-4a3e-8339-2b413667f661\",\"type\":\"LinearAxis\"},{\"attributes\":{\"days\":[1,2,3,4,5,6,7,8,9,10,11,12,13,14,15,16,17,18,19,20,21,22,23,24,25,26,27,28,29,30,31]},\"id\":\"fde6e21f-a3a9-49f0-b85d-78f1d242cf07\",\"type\":\"DaysTicker\"},{\"attributes\":{\"plot\":{\"id\":\"6174f290-4cb2-4048-91f9-099ea46bac9b\",\"subtype\":\"Figure\",\"type\":\"Plot\"},\"ticker\":{\"id\":\"36f393d8-73bc-4518-b8c0-23e28a0e27f2\",\"type\":\"DatetimeTicker\"}},\"id\":\"e70f6566-bddd-4e13-a8cb-f33349f62638\",\"type\":\"Grid\"},{\"attributes\":{\"line_color\":{\"value\":\"#1f77b4\"},\"line_width\":{\"value\":2},\"x\":{\"field\":\"x\"},\"y\":{\"field\":\"y\"}},\"id\":\"53777c77-c34c-4b43-8595-0bf2cb4e02a5\",\"type\":\"Line\"},{\"attributes\":{\"days\":[1,15]},\"id\":\"9bc52a80-1102-478e-8c90-5d5bfc304329\",\"type\":\"DaysTicker\"},{\"attributes\":{\"callback\":null},\"id\":\"a52fb03e-b989-4c56-abf3-318104a98cfe\",\"type\":\"DataRange1d\"},{\"attributes\":{\"callback\":null,\"column_names\":[\"y\",\"x\",\"desc\",\"date\"],\"data\":{\"date\":[\"2015-01-01\",\"2015-01-03\",\"2015-01-04\",\"2015-01-05\",\"2015-01-12\",\"2015-01-13\",\"2015-01-14\",\"2015-01-15\",\"2015-01-16\",\"2015-01-17\",\"2015-01-21\",\"2015-01-23\",\"2015-01-24\",\"2015-01-25\",\"2015-01-26\",\"2015-01-31\",\"2015-02-03\",\"2015-02-14\",\"2015-02-19\",\"2015-02-27\",\"2015-03-05\",\"2015-03-18\",\"2015-03-21\",\"2015-03-23\",\"2015-03-28\",\"2015-04-01\",\"2015-04-02\",\"2015-04-03\",\"2015-04-05\",\"2015-04-14\",\"2015-04-15\",\"2015-04-16\",\"2015-04-17\",\"2015-04-20\",\"2015-05-01\",\"2015-05-03\",\"2015-05-04\",\"2015-05-09\",\"2015-05-20\",\"2015-06-02\",\"2015-06-15\",\"2015-06-16\",\"2015-06-19\",\"2015-07-10\",\"2015-07-18\",\"2015-07-28\",\"2015-07-30\",\"2015-08-17\",\"2015-08-18\",\"2015-08-19\",\"2015-08-27\",\"2015-08-28\",\"2015-08-29\",\"2015-09-05\",\"2015-09-15\",\"2015-09-17\",\"2015-09-18\",\"2015-09-21\",\"2015-09-23\",\"2015-09-24\",\"2015-09-25\",\"2015-10-02\",\"2015-10-12\",\"2015-10-13\",\"2015-10-18\",\"2015-10-20\",\"2015-10-21\",\"2015-10-22\",\"2015-10-23\",\"2015-10-24\",\"2015-10-25\",\"2015-10-26\",\"2015-10-27\",\"2015-10-31\",\"2015-11-01\",\"2015-11-10\",\"2015-11-11\",\"2015-11-12\",\"2015-11-16\",\"2015-11-17\",\"2015-11-25\",\"2015-11-28\",\"2015-12-06\",\"2015-12-17\",\"2015-12-24\",\"2015-12-25\",\"2015-12-26\"],\"desc\":[\"New Years Day\",\"Milad-un-Nabi\",\"Id-e-Milad\",\"Guru Gobind Singh Jayanti\",\"Birthday of Swami Vivekananda\",\"Bhogi\",\"Pongal\",\"Pongal\",\"Thiruvalluvar Day\",\"Uzhavar Tirunal\",\"Sonam Lhochar\",\"Netaji Subhas Chandra Bose Jayanti\",\"Vasant Panchami\",\"Statehood Day\",\"Republic Day\",\"Me-dam-me-phi\",\"Guru Ravidas Birthday\",\"Maharshi Dayanand Saraswati Jayanti\",\"Chhatrapati Shivaji Maharaj Jayanti\",\"Public Holiday\",\"Doljatra\",\"Public Holiday\",\"Ugadi\",\"Shaheedi Diwas of Bhagat Singh, Rajguru & Sukhdev\",\"Ram Navami\",\"Odisha Day\",\"Mahavir Jayanti\",\"Good Friday\",\"Babu Jagjivan Ram Birthday\",\"Dr Ambedkar Jayanti\",\"Bohag Bihu Holiday\",\"Bohag Bihu Holiday\",\"Public Holiday\",\"Parashurama Jayanti\",\"May Day\",\"Hazrat Alis Birthday\",\"Buddha Purnima\",\"Birthday of Rabindra Nath Tagore\",\"Maharana Pratap Jayanti\",\"Sant Guru Kabir Jayanti\",\"Raja Sankranti\",\"Guru Arjun Dev Martyrdom day\",\"Foundation of Sri Anandpur Sahib\",\"Jumat-ul-Wida\",\"Idul Fitr\",\"Public Holiday\",\"Public Holiday\",\"Teej\",\"Parsi New Year\",\"Public Holiday\",\"First Onam\",\"Thiruvonam\",\"Raksha Bandhan\",\"Janmashtami\",\"Tithi of Shrimanta Shankar Dev\",\"Ganesh Chaturthi\",\"Nuakhai\",\"Sree Narayana Guru Samadhi\",\"Haryana's Heroes' Martyrdom Day\",\"Idul Juha\",\"Idul Juha\",\"Mahatma Gandhi Birthday\",\"Mahalaya\",\"Maharaja Agrasen Jayanati\",\"Kati Bihu\",\"Public Holiday\",\"Ayudha Puja\",\"Dussehra\",\"Vijaya Dashami\",\"Muharram (10th Day)\",\"Public Holiday\",\"Lakshmi Puja\",\"Maharishi Valmiki Birthday\",\"Public Holiday\",\"Kannada Rajyothsava\",\"Deewali\",\"Deewali\",\"Vishavkarma day\",\"Kartar Singh Sarabha Martyrdom Day\",\"Chhath Puja\",\"Rasa Purnima\",\"Kanakadasa Jayanthi\",\"Dr Ambedkar death anniversary\",\"Public Holiday\",\"Id-e-Milad\",\"Christmas Day\",\"Shaheed Udham Singh's Birthday\"],\"x\":[1420070400000.0,1420243200000.0,1420329600000.0,1420416000000.0,1421020800000.0,1421107200000.0,1421193600000.0,1421280000000.0,1421366400000.0,1421452800000.0,1421798400000.0,1421971200000.0,1422057600000.0,1422144000000.0,1422230400000.0,1422662400000.0,1422921600000.0,1423872000000.0,1424304000000.0,1424995200000.0,1425513600000.0,1426636800000.0,1426896000000.0,1427068800000.0,1427500800000.0,1427846400000.0,1427932800000.0,1428019200000.0,1428192000000.0,1428969600000.0,1429056000000.0,1429142400000.0,1429228800000.0,1429488000000.0,1430438400000.0,1430611200000.0,1430697600000.0,1431129600000.0,1432080000000.0,1433203200000.0,1434326400000.0,1434412800000.0,1434672000000.0,1436486400000.0,1437177600000.0,1438041600000.0,1438214400000.0,1439769600000.0,1439856000000.0,1439942400000.0,1440633600000.0,1440720000000.0,1440806400000.0,1441411200000.0,1442275200000.0,1442448000000.0,1442534400000.0,1442793600000.0,1442966400000.0,1443052800000.0,1443139200000.0,1443744000000.0,1444608000000.0,1444694400000.0,1445126400000.0,1445299200000.0,1445385600000.0,1445472000000.0,1445558400000.0,1445644800000.0,1445731200000.0,1445817600000.0,1445904000000.0,1446249600000.0,1446336000000.0,1447113600000.0,1447200000000.0,1447286400000.0,1447632000000.0,1447718400000.0,1448409600000.0,1448668800000.0,1449360000000.0,1450310400000.0,1450915200000.0,1451001600000.0,1451088000000.0],\"y\":[226229.66,231317.33,138992.33,172061.39,149895.5,142793.5,174470.5,179444.5,132163.0,149213.0,222724.39,190927.0,199657.0,160067.0,174842.0,207851.3333333333,179374.5,215237.0,293881.0,332126.4966666667,141075.0,142375.0,198569.0,145969.0,142340.0,75047.0,120847.0,99847.0,89497.0,63440.0,48440.0,32790.0,32790.0,61800.0,89025.0,49650.0,40200.0,48330.0,17500.0,42499.0,14450.0,20000.0,27375.0,55072.0,43175.0,40650.0,50400.0,116175.0,53050.0,63665.0,53645.16666666666,50425.16666666666,64900.16666666666,65100.0,66646.0,69960.0,106415.0,60150.0,75660.0,63312.0,93802.0,173551.0,55500.0,27150.0,164900.0,140525.0,167674.3333333333,189144.3333333333,223569.3333333333,152532.0,145967.0,105937.0,81037.0,106425.0,129630.0,157345.5,120108.0,177306.0,181107.0,163650.0,124090.0,229177.0,163809.0,209604.0,289133.0,324952.0,274987.0]}},\"id\":\"1f40aff6-19b4-41ba-a469-ab4e5b638e41\",\"type\":\"ColumnDataSource\"},{\"attributes\":{\"callback\":null},\"id\":\"4d00ee13-951f-4cc0-a384-12457d2572c6\",\"type\":\"DataRange1d\"},{\"attributes\":{\"axis_label\":\"Stay Date\",\"formatter\":{\"id\":\"4fcd2735-2422-494b-bb22-ad42b5f776aa\",\"type\":\"DatetimeTickFormatter\"},\"plot\":{\"id\":\"6174f290-4cb2-4048-91f9-099ea46bac9b\",\"subtype\":\"Figure\",\"type\":\"Plot\"},\"ticker\":{\"id\":\"36f393d8-73bc-4518-b8c0-23e28a0e27f2\",\"type\":\"DatetimeTicker\"}},\"id\":\"cd3036fa-0b5d-4c8b-8386-c24b42c15a8e\",\"type\":\"DatetimeAxis\"},{\"attributes\":{},\"id\":\"6e9e3e9a-ea23-4bac-b57f-d90a4e5160ef\",\"type\":\"ToolEvents\"},{\"attributes\":{\"days\":[1,8,15,22]},\"id\":\"eeaf5057-a9ab-40c7-a846-569e6c69d169\",\"type\":\"DaysTicker\"},{\"attributes\":{\"max_interval\":500.0,\"num_minor_ticks\":0},\"id\":\"d744c6d7-5422-4801-9e18-b22d8b564f8c\",\"type\":\"AdaptiveTicker\"},{\"attributes\":{\"dimension\":1,\"plot\":{\"id\":\"6174f290-4cb2-4048-91f9-099ea46bac9b\",\"subtype\":\"Figure\",\"type\":\"Plot\"},\"ticker\":{\"id\":\"1ad6765a-5ed4-4e4a-899b-e76225bac1ea\",\"type\":\"BasicTicker\"}},\"id\":\"7e07872a-4882-4305-9a1e-9d7b69172e11\",\"type\":\"Grid\"},{\"attributes\":{\"callback\":null,\"plot\":{\"id\":\"6174f290-4cb2-4048-91f9-099ea46bac9b\",\"subtype\":\"Figure\",\"type\":\"Plot\"},\"tooltips\":[[\"Date\",\"@date\"],[\"Event\",\"@desc\"],[\"Total Revenue\",\"@y{1.11}\"]]},\"id\":\"50dfe3da-1fa0-4318-ac38-d1e195b4005e\",\"type\":\"HoverTool\"},{\"attributes\":{\"months\":[0,4,8]},\"id\":\"3b4bbf1d-414c-4d58-946c-7ac372c322db\",\"type\":\"MonthsTicker\"}],\"root_ids\":[\"6174f290-4cb2-4048-91f9-099ea46bac9b\"]},\"title\":\"Bokeh Application\",\"version\":\"0.12.2\"}};\n",
       "            var render_items = [{\"docid\":\"faf275aa-3be5-4fad-9280-6a579fb19a6d\",\"elementid\":\"c87e70bd-33eb-4e47-866f-0e04239ccfac\",\"modelid\":\"6174f290-4cb2-4048-91f9-099ea46bac9b\"}];\n",
       "            \n",
       "            Bokeh.embed.embed_items(docs_json, render_items);\n",
       "        });\n",
       "      },\n",
       "      function(Bokeh) {\n",
       "      }\n",
       "    ];\n",
       "  \n",
       "    function run_inline_js() {\n",
       "      \n",
       "      if ((window.Bokeh !== undefined) || (force === \"1\")) {\n",
       "        for (var i = 0; i < inline_js.length; i++) {\n",
       "          inline_js[i](window.Bokeh);\n",
       "        }if (force === \"1\") {\n",
       "          display_loaded();\n",
       "        }} else if (Date.now() < window._bokeh_timeout) {\n",
       "        setTimeout(run_inline_js, 100);\n",
       "      } else if (!window._bokeh_failed_load) {\n",
       "        console.log(\"Bokeh: BokehJS failed to load within specified timeout.\");\n",
       "        window._bokeh_failed_load = true;\n",
       "      } else if (!force) {\n",
       "        var cell = $(\"#c87e70bd-33eb-4e47-866f-0e04239ccfac\").parents('.cell').data().cell;\n",
       "        cell.output_area.append_execute_result(NB_LOAD_WARNING)\n",
       "      }\n",
       "  \n",
       "    }\n",
       "  \n",
       "    if (window._bokeh_is_loading === 0) {\n",
       "      console.log(\"Bokeh: BokehJS loaded, going straight to plotting\");\n",
       "      run_inline_js();\n",
       "    } else {\n",
       "      load_libs(js_urls, function() {\n",
       "        console.log(\"Bokeh: BokehJS plotting callback run at\", now());\n",
       "        run_inline_js();\n",
       "      });\n",
       "    }\n",
       "  }(this));\n",
       "</script>"
      ]
     },
     "metadata": {},
     "output_type": "display_data"
    }
   ],
   "source": [
    "source = ColumnDataSource(\n",
    "        data=dict(\n",
    "            x=property_id_BB1[2],\n",
    "            y=property_id_BB1[5],\n",
    "            desc=property_id_BB1[3],\n",
    "            date=[x.strftime(\"%Y-%m-%d\") for x in property_id_BB['Stay_date']]\n",
    "        )\n",
    "    )\n",
    "\n",
    "hover = HoverTool(\n",
    "        tooltips=[\n",
    "            (\"Date\",\"@date\"),\n",
    "            (\"Event\", \"@desc\"),\n",
    "            (\"Total Revenue\",\"@y{1.11}\")\n",
    "        ]\n",
    "    )\n",
    "\n",
    "p = plt.figure(x_axis_type=\"datetime\",width=800, height=500, tools=[hover],\n",
    "           title=\"Graph of StayDate vs TotalRevenue for BB (hover to view events)\",x_axis_label = \"Stay Date\",\n",
    "               y_axis_label = \"Total Revenue\")\n",
    "p.left[0].formatter.use_scientific = False\n",
    "p.line('x', 'y', line_width=2, source=source)   \n",
    "show(p)"
   ]
  },
  {
   "cell_type": "code",
   "execution_count": 24,
   "metadata": {
    "collapsed": false
   },
   "outputs": [
    {
     "data": {
      "text/html": [
       "\n",
       "\n",
       "    <div class=\"bk-root\">\n",
       "        <div class=\"plotdiv\" id=\"e0ffe3eb-b243-49b0-aeb4-0fd06d93ddc5\"></div>\n",
       "    </div>\n",
       "<script type=\"text/javascript\">\n",
       "  \n",
       "  (function(global) {\n",
       "    function now() {\n",
       "      return new Date();\n",
       "    }\n",
       "  \n",
       "    var force = \"\";\n",
       "  \n",
       "    if (typeof (window._bokeh_onload_callbacks) === \"undefined\" || force !== \"\") {\n",
       "      window._bokeh_onload_callbacks = [];\n",
       "      window._bokeh_is_loading = undefined;\n",
       "    }\n",
       "  \n",
       "  \n",
       "    \n",
       "    if (typeof (window._bokeh_timeout) === \"undefined\" || force !== \"\") {\n",
       "      window._bokeh_timeout = Date.now() + 0;\n",
       "      window._bokeh_failed_load = false;\n",
       "    }\n",
       "  \n",
       "    var NB_LOAD_WARNING = {'data': {'text/html':\n",
       "       \"<div style='background-color: #fdd'>\\n\"+\n",
       "       \"<p>\\n\"+\n",
       "       \"BokehJS does not appear to have successfully loaded. If loading BokehJS from CDN, this \\n\"+\n",
       "       \"may be due to a slow or bad network connection. Possible fixes:\\n\"+\n",
       "       \"</p>\\n\"+\n",
       "       \"<ul>\\n\"+\n",
       "       \"<li>re-rerun `output_notebook()` to attempt to load from CDN again, or</li>\\n\"+\n",
       "       \"<li>use INLINE resources instead, as so:</li>\\n\"+\n",
       "       \"</ul>\\n\"+\n",
       "       \"<code>\\n\"+\n",
       "       \"from bokeh.resources import INLINE\\n\"+\n",
       "       \"output_notebook(resources=INLINE)\\n\"+\n",
       "       \"</code>\\n\"+\n",
       "       \"</div>\"}};\n",
       "  \n",
       "    function display_loaded() {\n",
       "      if (window.Bokeh !== undefined) {\n",
       "        Bokeh.$(\"#e0ffe3eb-b243-49b0-aeb4-0fd06d93ddc5\").text(\"BokehJS successfully loaded.\");\n",
       "      } else if (Date.now() < window._bokeh_timeout) {\n",
       "        setTimeout(display_loaded, 100)\n",
       "      }\n",
       "    }\n",
       "  \n",
       "    function run_callbacks() {\n",
       "      window._bokeh_onload_callbacks.forEach(function(callback) { callback() });\n",
       "      delete window._bokeh_onload_callbacks\n",
       "      console.info(\"Bokeh: all callbacks have finished\");\n",
       "    }\n",
       "  \n",
       "    function load_libs(js_urls, callback) {\n",
       "      window._bokeh_onload_callbacks.push(callback);\n",
       "      if (window._bokeh_is_loading > 0) {\n",
       "        console.log(\"Bokeh: BokehJS is being loaded, scheduling callback at\", now());\n",
       "        return null;\n",
       "      }\n",
       "      if (js_urls == null || js_urls.length === 0) {\n",
       "        run_callbacks();\n",
       "        return null;\n",
       "      }\n",
       "      console.log(\"Bokeh: BokehJS not loaded, scheduling load and callback at\", now());\n",
       "      window._bokeh_is_loading = js_urls.length;\n",
       "      for (var i = 0; i < js_urls.length; i++) {\n",
       "        var url = js_urls[i];\n",
       "        var s = document.createElement('script');\n",
       "        s.src = url;\n",
       "        s.async = false;\n",
       "        s.onreadystatechange = s.onload = function() {\n",
       "          window._bokeh_is_loading--;\n",
       "          if (window._bokeh_is_loading === 0) {\n",
       "            console.log(\"Bokeh: all BokehJS libraries loaded\");\n",
       "            run_callbacks()\n",
       "          }\n",
       "        };\n",
       "        s.onerror = function() {\n",
       "          console.warn(\"failed to load library \" + url);\n",
       "        };\n",
       "        console.log(\"Bokeh: injecting script tag for BokehJS library: \", url);\n",
       "        document.getElementsByTagName(\"head\")[0].appendChild(s);\n",
       "      }\n",
       "    };var element = document.getElementById(\"e0ffe3eb-b243-49b0-aeb4-0fd06d93ddc5\");\n",
       "    if (element == null) {\n",
       "      console.log(\"Bokeh: ERROR: autoload.js configured with elementid 'e0ffe3eb-b243-49b0-aeb4-0fd06d93ddc5' but no matching script tag was found. \")\n",
       "      return false;\n",
       "    }\n",
       "  \n",
       "    var js_urls = [];\n",
       "  \n",
       "    var inline_js = [\n",
       "      function(Bokeh) {\n",
       "        Bokeh.$(function() {\n",
       "            var docs_json = {\"919ac1a5-9181-4e63-a6fc-7edfa7722e1c\":{\"roots\":{\"references\":[{\"attributes\":{},\"id\":\"125286f7-8a4b-4fd9-88e1-1384246e8ac8\",\"type\":\"BasicTicker\"},{\"attributes\":{\"days\":[1,2,3,4,5,6,7,8,9,10,11,12,13,14,15,16,17,18,19,20,21,22,23,24,25,26,27,28,29,30,31]},\"id\":\"4971f098-8cad-4198-afc3-3f0091600407\",\"type\":\"DaysTicker\"},{\"attributes\":{\"callback\":null},\"id\":\"338611d9-2bac-408d-87d9-731e6dc31d0b\",\"type\":\"DataRange1d\"},{\"attributes\":{\"active_drag\":\"auto\",\"active_scroll\":\"auto\",\"active_tap\":\"auto\",\"tools\":[{\"id\":\"80caadf2-5879-426c-bd90-eb673fa0a051\",\"type\":\"HoverTool\"}]},\"id\":\"57a9ae41-b326-4d73-942a-94cc622c6d3e\",\"type\":\"Toolbar\"},{\"attributes\":{\"months\":[0,4,8]},\"id\":\"0c3c1629-a439-4620-ad76-f88ccd28ee63\",\"type\":\"MonthsTicker\"},{\"attributes\":{\"use_scientific\":false},\"id\":\"d6cc9f12-469c-44b7-85ad-01f36cc1bf61\",\"type\":\"BasicTickFormatter\"},{\"attributes\":{\"base\":24,\"mantissas\":[1,2,4,6,8,12],\"max_interval\":43200000.0,\"min_interval\":3600000.0,\"num_minor_ticks\":0},\"id\":\"c8fbaadd-b71c-4c55-934b-3b95015e4d8f\",\"type\":\"AdaptiveTicker\"},{\"attributes\":{\"plot\":null,\"text\":\"Graph of StayDate vs ADR for BB (hover to view events)\"},\"id\":\"feb28a03-368d-4042-aade-66badf693c3c\",\"type\":\"Title\"},{\"attributes\":{\"below\":[{\"id\":\"a1d3eae2-ba30-4f34-b3b5-9c1bc9f47a17\",\"type\":\"DatetimeAxis\"}],\"left\":[{\"id\":\"2dc36cef-21fa-4d6e-9c40-6a5c60c4e3e4\",\"type\":\"LinearAxis\"}],\"plot_height\":500,\"plot_width\":800,\"renderers\":[{\"id\":\"a1d3eae2-ba30-4f34-b3b5-9c1bc9f47a17\",\"type\":\"DatetimeAxis\"},{\"id\":\"8cfa9421-b252-42a1-a4da-da227c78f6db\",\"type\":\"Grid\"},{\"id\":\"2dc36cef-21fa-4d6e-9c40-6a5c60c4e3e4\",\"type\":\"LinearAxis\"},{\"id\":\"d370188d-0165-4946-ac55-7ba55ac9043b\",\"type\":\"Grid\"},{\"id\":\"9ca43343-947e-465e-8c89-c1e60eed4e46\",\"type\":\"GlyphRenderer\"}],\"title\":{\"id\":\"feb28a03-368d-4042-aade-66badf693c3c\",\"type\":\"Title\"},\"tool_events\":{\"id\":\"d0502dd4-eaee-4ea0-956a-3bb534d9eddd\",\"type\":\"ToolEvents\"},\"toolbar\":{\"id\":\"57a9ae41-b326-4d73-942a-94cc622c6d3e\",\"type\":\"Toolbar\"},\"x_range\":{\"id\":\"80b84233-fb1a-4014-bc13-e320595bfb57\",\"type\":\"DataRange1d\"},\"y_range\":{\"id\":\"338611d9-2bac-408d-87d9-731e6dc31d0b\",\"type\":\"DataRange1d\"}},\"id\":\"cd32b069-6721-49aa-b154-57df3b604619\",\"subtype\":\"Figure\",\"type\":\"Plot\"},{\"attributes\":{\"callback\":null,\"plot\":{\"id\":\"cd32b069-6721-49aa-b154-57df3b604619\",\"subtype\":\"Figure\",\"type\":\"Plot\"},\"tooltips\":[[\"Date\",\"@date\"],[\"Event\",\"@desc\"],[\"ADR\",\"@y{1.11}\"]]},\"id\":\"80caadf2-5879-426c-bd90-eb673fa0a051\",\"type\":\"HoverTool\"},{\"attributes\":{\"plot\":{\"id\":\"cd32b069-6721-49aa-b154-57df3b604619\",\"subtype\":\"Figure\",\"type\":\"Plot\"},\"ticker\":{\"id\":\"d83f01f0-7ecd-46fb-a340-6e58c9826bd8\",\"type\":\"DatetimeTicker\"}},\"id\":\"8cfa9421-b252-42a1-a4da-da227c78f6db\",\"type\":\"Grid\"},{\"attributes\":{},\"id\":\"d0502dd4-eaee-4ea0-956a-3bb534d9eddd\",\"type\":\"ToolEvents\"},{\"attributes\":{\"days\":[1,8,15,22]},\"id\":\"c2bab670-6cba-4dfa-8c3e-cefb7f28304f\",\"type\":\"DaysTicker\"},{\"attributes\":{},\"id\":\"fd6d3258-f281-4073-97e1-4371a2cfc2a0\",\"type\":\"YearsTicker\"},{\"attributes\":{\"days\":[1,4,7,10,13,16,19,22,25,28]},\"id\":\"0fd52078-527a-4669-8eeb-cdd3e51cc338\",\"type\":\"DaysTicker\"},{\"attributes\":{},\"id\":\"20245e97-e48e-49c6-a10b-5544fd2d49bb\",\"type\":\"DatetimeTickFormatter\"},{\"attributes\":{\"dimension\":1,\"plot\":{\"id\":\"cd32b069-6721-49aa-b154-57df3b604619\",\"subtype\":\"Figure\",\"type\":\"Plot\"},\"ticker\":{\"id\":\"125286f7-8a4b-4fd9-88e1-1384246e8ac8\",\"type\":\"BasicTicker\"}},\"id\":\"d370188d-0165-4946-ac55-7ba55ac9043b\",\"type\":\"Grid\"},{\"attributes\":{\"base\":60,\"mantissas\":[1,2,5,10,15,20,30],\"max_interval\":1800000.0,\"min_interval\":1000.0,\"num_minor_ticks\":0},\"id\":\"f893fb82-23c1-4008-93f8-cb97ba310881\",\"type\":\"AdaptiveTicker\"},{\"attributes\":{\"line_color\":{\"value\":\"#1f77b4\"},\"line_width\":{\"value\":2},\"x\":{\"field\":\"x\"},\"y\":{\"field\":\"y\"}},\"id\":\"5571b49f-0c24-481a-bec0-3abcb2e2e8f1\",\"type\":\"Line\"},{\"attributes\":{\"num_minor_ticks\":5},\"id\":\"d83f01f0-7ecd-46fb-a340-6e58c9826bd8\",\"type\":\"DatetimeTicker\"},{\"attributes\":{\"months\":[0,2,4,6,8,10]},\"id\":\"36f3ebf7-60c6-4866-955c-704b538987e5\",\"type\":\"MonthsTicker\"},{\"attributes\":{\"months\":[0,1,2,3,4,5,6,7,8,9,10,11]},\"id\":\"71442a6e-6faf-4fd8-8d8b-741084b0d325\",\"type\":\"MonthsTicker\"},{\"attributes\":{\"callback\":null,\"column_names\":[\"y\",\"x\",\"desc\",\"date\"],\"data\":{\"date\":[\"2015-01-01\",\"2015-01-03\",\"2015-01-04\",\"2015-01-05\",\"2015-01-12\",\"2015-01-13\",\"2015-01-14\",\"2015-01-15\",\"2015-01-16\",\"2015-01-17\",\"2015-01-21\",\"2015-01-23\",\"2015-01-24\",\"2015-01-25\",\"2015-01-26\",\"2015-01-31\",\"2015-02-03\",\"2015-02-14\",\"2015-02-19\",\"2015-02-27\",\"2015-03-05\",\"2015-03-18\",\"2015-03-21\",\"2015-03-23\",\"2015-03-28\",\"2015-04-01\",\"2015-04-02\",\"2015-04-03\",\"2015-04-05\",\"2015-04-14\",\"2015-04-15\",\"2015-04-16\",\"2015-04-17\",\"2015-04-20\",\"2015-05-01\",\"2015-05-03\",\"2015-05-04\",\"2015-05-09\",\"2015-05-20\",\"2015-06-02\",\"2015-06-15\",\"2015-06-16\",\"2015-06-19\",\"2015-07-10\",\"2015-07-18\",\"2015-07-28\",\"2015-07-30\",\"2015-08-17\",\"2015-08-18\",\"2015-08-19\",\"2015-08-27\",\"2015-08-28\",\"2015-08-29\",\"2015-09-05\",\"2015-09-15\",\"2015-09-17\",\"2015-09-18\",\"2015-09-21\",\"2015-09-23\",\"2015-09-24\",\"2015-09-25\",\"2015-10-02\",\"2015-10-12\",\"2015-10-13\",\"2015-10-18\",\"2015-10-20\",\"2015-10-21\",\"2015-10-22\",\"2015-10-23\",\"2015-10-24\",\"2015-10-25\",\"2015-10-26\",\"2015-10-27\",\"2015-10-31\",\"2015-11-01\",\"2015-11-10\",\"2015-11-11\",\"2015-11-12\",\"2015-11-16\",\"2015-11-17\",\"2015-11-25\",\"2015-11-28\",\"2015-12-06\",\"2015-12-17\",\"2015-12-24\",\"2015-12-25\",\"2015-12-26\"],\"desc\":[\"New Years Day\",\"Milad-un-Nabi\",\"Id-e-Milad\",\"Guru Gobind Singh Jayanti\",\"Birthday of Swami Vivekananda\",\"Bhogi\",\"Pongal\",\"Pongal\",\"Thiruvalluvar Day\",\"Uzhavar Tirunal\",\"Sonam Lhochar\",\"Netaji Subhas Chandra Bose Jayanti\",\"Vasant Panchami\",\"Statehood Day\",\"Republic Day\",\"Me-dam-me-phi\",\"Guru Ravidas Birthday\",\"Maharshi Dayanand Saraswati Jayanti\",\"Chhatrapati Shivaji Maharaj Jayanti\",\"Public Holiday\",\"Doljatra\",\"Public Holiday\",\"Ugadi\",\"Shaheedi Diwas of Bhagat Singh, Rajguru & Sukhdev\",\"Ram Navami\",\"Odisha Day\",\"Mahavir Jayanti\",\"Good Friday\",\"Babu Jagjivan Ram Birthday\",\"Dr Ambedkar Jayanti\",\"Bohag Bihu Holiday\",\"Bohag Bihu Holiday\",\"Public Holiday\",\"Parashurama Jayanti\",\"May Day\",\"Hazrat Alis Birthday\",\"Buddha Purnima\",\"Birthday of Rabindra Nath Tagore\",\"Maharana Pratap Jayanti\",\"Sant Guru Kabir Jayanti\",\"Raja Sankranti\",\"Guru Arjun Dev Martyrdom day\",\"Foundation of Sri Anandpur Sahib\",\"Jumat-ul-Wida\",\"Idul Fitr\",\"Public Holiday\",\"Public Holiday\",\"Teej\",\"Parsi New Year\",\"Public Holiday\",\"First Onam\",\"Thiruvonam\",\"Raksha Bandhan\",\"Janmashtami\",\"Tithi of Shrimanta Shankar Dev\",\"Ganesh Chaturthi\",\"Nuakhai\",\"Sree Narayana Guru Samadhi\",\"Haryana's Heroes' Martyrdom Day\",\"Idul Juha\",\"Idul Juha\",\"Mahatma Gandhi Birthday\",\"Mahalaya\",\"Maharaja Agrasen Jayanati\",\"Kati Bihu\",\"Public Holiday\",\"Ayudha Puja\",\"Dussehra\",\"Vijaya Dashami\",\"Muharram (10th Day)\",\"Public Holiday\",\"Lakshmi Puja\",\"Maharishi Valmiki Birthday\",\"Public Holiday\",\"Kannada Rajyothsava\",\"Deewali\",\"Deewali\",\"Vishavkarma day\",\"Kartar Singh Sarabha Martyrdom Day\",\"Chhath Puja\",\"Rasa Purnima\",\"Kanakadasa Jayanthi\",\"Dr Ambedkar death anniversary\",\"Public Holiday\",\"Id-e-Milad\",\"Christmas Day\",\"Shaheed Udham Singh's Birthday\"],\"x\":[1420070400000.0,1420243200000.0,1420329600000.0,1420416000000.0,1421020800000.0,1421107200000.0,1421193600000.0,1421280000000.0,1421366400000.0,1421452800000.0,1421798400000.0,1421971200000.0,1422057600000.0,1422144000000.0,1422230400000.0,1422662400000.0,1422921600000.0,1423872000000.0,1424304000000.0,1424995200000.0,1425513600000.0,1426636800000.0,1426896000000.0,1427068800000.0,1427500800000.0,1427846400000.0,1427932800000.0,1428019200000.0,1428192000000.0,1428969600000.0,1429056000000.0,1429142400000.0,1429228800000.0,1429488000000.0,1430438400000.0,1430611200000.0,1430697600000.0,1431129600000.0,1432080000000.0,1433203200000.0,1434326400000.0,1434412800000.0,1434672000000.0,1436486400000.0,1437177600000.0,1438041600000.0,1438214400000.0,1439769600000.0,1439856000000.0,1439942400000.0,1440633600000.0,1440720000000.0,1440806400000.0,1441411200000.0,1442275200000.0,1442448000000.0,1442534400000.0,1442793600000.0,1442966400000.0,1443052800000.0,1443139200000.0,1443744000000.0,1444608000000.0,1444694400000.0,1445126400000.0,1445299200000.0,1445385600000.0,1445472000000.0,1445558400000.0,1445644800000.0,1445731200000.0,1445817600000.0,1445904000000.0,1446249600000.0,1446336000000.0,1447113600000.0,1447200000000.0,1447286400000.0,1447632000000.0,1447718400000.0,1448409600000.0,1448668800000.0,1449360000000.0,1450310400000.0,1450915200000.0,1451001600000.0,1451088000000.0],\"y\":[20566.33272727273,21028.84818181818,23165.38833333334,21507.67375,21413.64285714286,20399.07142857143,19385.61111111111,19938.27777777778,16520.375,18651.625,20247.67181818182,17357.0,16638.08333333333,16006.7,19426.88888888889,18895.57575757576,19930.5,21523.7,22606.23076923077,19536.85274509804,17634.375,17796.875,15274.53846153846,18246.125,15815.55555555555,15009.4,17263.85714285714,19969.4,17899.4,15860.0,16146.66666666667,8197.5,8197.5,12360.0,8902.5,7092.857142857143,6700.0,9666.0,5833.333333333333,7083.166666666667,4816.666666666667,6666.666666666667,5475.0,9178.666666666666,10793.75,8130.0,8400.0,8298.214285714286,6631.25,7073.888888888889,6705.645833333333,7203.595238095238,7211.12962962963,7233.333333333333,6664.6,7773.333333333333,8185.76923076923,7518.75,7566.0,7034.666666666667,8527.454545454546,13350.07692307692,18500.0,13575.0,20612.5,17565.625,16767.43333333333,18914.43333333333,20324.48484848485,21790.28571428571,18245.875,17656.16666666667,20259.25,21285.0,18518.57142857143,17482.83333333333,20018.0,17730.6,18110.7,18183.33333333333,17727.14285714286,16369.78571428571,18201.0,20960.4,24094.41666666667,23210.85714285714,22915.58333333333]}},\"id\":\"49e54419-0fce-4f96-88c6-f43fadb9a3ef\",\"type\":\"ColumnDataSource\"},{\"attributes\":{\"line_alpha\":{\"value\":0.1},\"line_color\":{\"value\":\"#1f77b4\"},\"line_width\":{\"value\":2},\"x\":{\"field\":\"x\"},\"y\":{\"field\":\"y\"}},\"id\":\"340fad0f-e477-47e0-a5c3-22bdf12af149\",\"type\":\"Line\"},{\"attributes\":{\"days\":[1,15]},\"id\":\"3078a991-f728-4d59-bf9c-6611b1cf6a1b\",\"type\":\"DaysTicker\"},{\"attributes\":{\"max_interval\":500.0,\"num_minor_ticks\":0},\"id\":\"1515fb7b-45bc-45ff-a1a1-e298175eb920\",\"type\":\"AdaptiveTicker\"},{\"attributes\":{\"months\":[0,6]},\"id\":\"dcb320c1-d0b0-41d8-a195-3358bd0a5c72\",\"type\":\"MonthsTicker\"},{\"attributes\":{\"data_source\":{\"id\":\"49e54419-0fce-4f96-88c6-f43fadb9a3ef\",\"type\":\"ColumnDataSource\"},\"glyph\":{\"id\":\"5571b49f-0c24-481a-bec0-3abcb2e2e8f1\",\"type\":\"Line\"},\"hover_glyph\":null,\"nonselection_glyph\":{\"id\":\"340fad0f-e477-47e0-a5c3-22bdf12af149\",\"type\":\"Line\"},\"selection_glyph\":null},\"id\":\"9ca43343-947e-465e-8c89-c1e60eed4e46\",\"type\":\"GlyphRenderer\"},{\"attributes\":{\"axis_label\":\"Stay Date\",\"formatter\":{\"id\":\"20245e97-e48e-49c6-a10b-5544fd2d49bb\",\"type\":\"DatetimeTickFormatter\"},\"plot\":{\"id\":\"cd32b069-6721-49aa-b154-57df3b604619\",\"subtype\":\"Figure\",\"type\":\"Plot\"},\"ticker\":{\"id\":\"d83f01f0-7ecd-46fb-a340-6e58c9826bd8\",\"type\":\"DatetimeTicker\"}},\"id\":\"a1d3eae2-ba30-4f34-b3b5-9c1bc9f47a17\",\"type\":\"DatetimeAxis\"},{\"attributes\":{\"callback\":null},\"id\":\"80b84233-fb1a-4014-bc13-e320595bfb57\",\"type\":\"DataRange1d\"},{\"attributes\":{\"axis_label\":\"ADR\",\"formatter\":{\"id\":\"d6cc9f12-469c-44b7-85ad-01f36cc1bf61\",\"type\":\"BasicTickFormatter\"},\"plot\":{\"id\":\"cd32b069-6721-49aa-b154-57df3b604619\",\"subtype\":\"Figure\",\"type\":\"Plot\"},\"ticker\":{\"id\":\"125286f7-8a4b-4fd9-88e1-1384246e8ac8\",\"type\":\"BasicTicker\"}},\"id\":\"2dc36cef-21fa-4d6e-9c40-6a5c60c4e3e4\",\"type\":\"LinearAxis\"}],\"root_ids\":[\"cd32b069-6721-49aa-b154-57df3b604619\"]},\"title\":\"Bokeh Application\",\"version\":\"0.12.2\"}};\n",
       "            var render_items = [{\"docid\":\"919ac1a5-9181-4e63-a6fc-7edfa7722e1c\",\"elementid\":\"e0ffe3eb-b243-49b0-aeb4-0fd06d93ddc5\",\"modelid\":\"cd32b069-6721-49aa-b154-57df3b604619\"}];\n",
       "            \n",
       "            Bokeh.embed.embed_items(docs_json, render_items);\n",
       "        });\n",
       "      },\n",
       "      function(Bokeh) {\n",
       "      }\n",
       "    ];\n",
       "  \n",
       "    function run_inline_js() {\n",
       "      \n",
       "      if ((window.Bokeh !== undefined) || (force === \"1\")) {\n",
       "        for (var i = 0; i < inline_js.length; i++) {\n",
       "          inline_js[i](window.Bokeh);\n",
       "        }if (force === \"1\") {\n",
       "          display_loaded();\n",
       "        }} else if (Date.now() < window._bokeh_timeout) {\n",
       "        setTimeout(run_inline_js, 100);\n",
       "      } else if (!window._bokeh_failed_load) {\n",
       "        console.log(\"Bokeh: BokehJS failed to load within specified timeout.\");\n",
       "        window._bokeh_failed_load = true;\n",
       "      } else if (!force) {\n",
       "        var cell = $(\"#e0ffe3eb-b243-49b0-aeb4-0fd06d93ddc5\").parents('.cell').data().cell;\n",
       "        cell.output_area.append_execute_result(NB_LOAD_WARNING)\n",
       "      }\n",
       "  \n",
       "    }\n",
       "  \n",
       "    if (window._bokeh_is_loading === 0) {\n",
       "      console.log(\"Bokeh: BokehJS loaded, going straight to plotting\");\n",
       "      run_inline_js();\n",
       "    } else {\n",
       "      load_libs(js_urls, function() {\n",
       "        console.log(\"Bokeh: BokehJS plotting callback run at\", now());\n",
       "        run_inline_js();\n",
       "      });\n",
       "    }\n",
       "  }(this));\n",
       "</script>"
      ]
     },
     "metadata": {},
     "output_type": "display_data"
    }
   ],
   "source": [
    "source = ColumnDataSource(\n",
    "        data=dict(\n",
    "            x=property_id_BB1[2],\n",
    "            y=property_id_BB1[6],\n",
    "            desc=property_id_BB1[3],\n",
    "            date=[x.strftime(\"%Y-%m-%d\") for x in property_id_BB['Stay_date']]\n",
    "        )\n",
    "    )\n",
    "\n",
    "hover = HoverTool(\n",
    "        tooltips=[\n",
    "            (\"Date\",\"@date\"),\n",
    "            (\"Event\", \"@desc\"),\n",
    "            (\"ADR\",\"@y{1.11}\")\n",
    "        ]\n",
    "    )\n",
    "\n",
    "p = plt.figure(x_axis_type=\"datetime\",width=800, height=500, tools=[hover],\n",
    "           title=\"Graph of StayDate vs ADR for BB (hover to view events)\",x_axis_label = \"Stay Date\",\n",
    "               y_axis_label = \"ADR\")\n",
    "p.left[0].formatter.use_scientific = False\n",
    "p.line('x', 'y', line_width=2, source=source)   \n",
    "show(p)"
   ]
  },
  {
   "cell_type": "code",
   "execution_count": null,
   "metadata": {
    "collapsed": true
   },
   "outputs": [],
   "source": [
    "# property_id_BB16 = pd.read_excel('C:/Users/Amulya/Desktop/EventsDataAnalysis/Task2/Results/GroupByPropertyID/2016/BB.xlsx')\n",
    "# property_id_BB16 = property_id_BB16.reset_index()\n",
    "# property_id_BB16 = property_id_BB16.sort_values(by = 'Stay_date', ascending=True)\n",
    "# property_id_BB116 = property_id_BB16.values.T.tolist()"
   ]
  },
  {
   "cell_type": "code",
   "execution_count": null,
   "metadata": {
    "collapsed": false
   },
   "outputs": [],
   "source": [
    "# source = ColumnDataSource(\n",
    "#         data=dict(\n",
    "#             x=property_id_BB1[2],\n",
    "#             y=property_id_BB1[5],\n",
    "#             desc=property_id_BB1[3],\n",
    "#             date=[x.strftime(\"%Y-%m-%d\") for x in property_id_BB['Stay_date']]\n",
    "#         )\n",
    "#     )\n",
    "\n",
    "# sourceB = ColumnDataSource(\n",
    "#         data=dict(\n",
    "#             x=property_id_BB116[2],\n",
    "#             y=property_id_BB116[5],\n",
    "#             desc=property_id_BB116[3],\n",
    "#             date=[x.strftime(\"%Y-%m-%d\") for x in property_id_BB16['Stay_date']]\n",
    "#         )\n",
    "#     )\n",
    "\n",
    "# hover = HoverTool(\n",
    "#         tooltips=[\n",
    "#             (\"Date\",\"@date\"),\n",
    "#             (\"Event\", \"@desc\"),\n",
    "#             (\"Total Revenue\",\"@y{1.11}\")\n",
    "#         ]\n",
    "#     )\n",
    "\n",
    "# p = plt.figure(x_axis_type=\"datetime\",width=800, height=500, tools=[hover],\n",
    "#            title=\"Graph of StayDate vs TotalRevenue for BB (hover to view events)\",x_axis_label = \"Stay Date\",\n",
    "#                y_axis_label = \"Total Revenue\")\n",
    "# p.left[0].formatter.use_scientific = False\n",
    "# p.line('x', 'y', line_width=2, source=source, color =\"blue\", legend=\"2015\") \n",
    "# p.line('x', 'y', line_width=2, source=sourceB,color =\"green\", legend=\"2016\") \n",
    "# show(p)"
   ]
  },
  {
   "cell_type": "code",
   "execution_count": null,
   "metadata": {
    "collapsed": false
   },
   "outputs": [],
   "source": [
    "# source = ColumnDataSource(\n",
    "#         data=dict(\n",
    "#             x=property_id_BB1[2],\n",
    "#             y=property_id_BB1[6],\n",
    "#             desc=property_id_BB1[3],\n",
    "#             date=[x.strftime(\"%Y-%m-%d\") for x in property_id_BB['Stay_date']]\n",
    "#         )\n",
    "#     )\n",
    "\n",
    "# sourceA = ColumnDataSource(\n",
    "#         data=dict(\n",
    "#             x=property_id_BB116[2],\n",
    "#             y=property_id_BB116[6],\n",
    "#             desc=property_id_BB116[3],\n",
    "#             date=[x.strftime(\"%Y-%m-%d\") for x in property_id_BB16['Stay_date']]\n",
    "#         )\n",
    "#     )\n",
    "\n",
    "\n",
    "# hover = HoverTool(\n",
    "#         tooltips=[\n",
    "#             (\"Date\",\"@date\"),\n",
    "#             (\"Event\", \"@desc\"),\n",
    "#             (\"ADR\",\"@y{1.11}\")\n",
    "#         ]\n",
    "#     )\n",
    "\n",
    "# p = plt.figure(x_axis_type=\"datetime\",width=800, height=500, tools=[hover],\n",
    "#            title=\"Graph of StayDate vs ADR for BB (hover to view events)\",x_axis_label = \"Stay Date\",\n",
    "#                y_axis_label = \"ADR\")\n",
    "# p.left[0].formatter.use_scientific = False\n",
    "# p.line('x', 'y', line_width=2, source=source,color =\"blue\", legend=\"2015\") \n",
    "# p.line('x', 'y', line_width=2, source=sourceA,color =\"green\", legend=\"2016\") \n",
    "# show(p)"
   ]
  },
  {
   "cell_type": "code",
   "execution_count": null,
   "metadata": {
    "collapsed": true
   },
   "outputs": [],
   "source": []
  },
  {
   "cell_type": "code",
   "execution_count": null,
   "metadata": {
    "collapsed": true
   },
   "outputs": [],
   "source": [
    "property_id_BG = pd.read_excel('Results/GroupByPropertyID/2015/BG.xlsx')\n",
    "property_id_BG = property_id_BG.reset_index()\n",
    "property_id_BG = property_id_BG.sort_values(by = 'Stay_date', ascending=True)\n",
    "property_id_BG1 = property_id_BG.values.T.tolist()"
   ]
  },
  {
   "cell_type": "code",
   "execution_count": null,
   "metadata": {
    "collapsed": false
   },
   "outputs": [],
   "source": [
    "source = ColumnDataSource(\n",
    "        data=dict(\n",
    "            x=property_id_BG1[2],\n",
    "            y=property_id_BG1[5],\n",
    "            desc=property_id_BG1[3],\n",
    "            date=[x.strftime(\"%Y-%m-%d\") for x in property_id_BG['Stay_date']]\n",
    "        )\n",
    "    )\n",
    "\n",
    "hover = HoverTool(\n",
    "        tooltips=[\n",
    "            (\"Date\",\"@date\"),\n",
    "            (\"Event\", \"@desc\"),\n",
    "            (\"Total Revenue\",\"@y{1.11}\")\n",
    "        ]\n",
    "    )\n",
    "\n",
    "p = plt.figure(x_axis_type=\"datetime\",width=800, height=500, tools=[hover],\n",
    "           title=\"Graph of StayDate vs TotalRevenue for BG (hover to view events)\",x_axis_label = \"Stay Date\",\n",
    "               y_axis_label = \"Total Revenue\")\n",
    "p.left[0].formatter.use_scientific = False\n",
    "p.line('x', 'y', line_width=2, source=source)   \n",
    "show(p)"
   ]
  },
  {
   "cell_type": "code",
   "execution_count": null,
   "metadata": {
    "collapsed": false
   },
   "outputs": [],
   "source": [
    "source = ColumnDataSource(\n",
    "        data=dict(\n",
    "            x=property_id_BG1[2],\n",
    "            y=property_id_BG1[6],\n",
    "            desc=property_id_BG1[3],\n",
    "            date=[x.strftime(\"%Y-%m-%d\") for x in property_id_BG['Stay_date']]\n",
    "        )\n",
    "    )\n",
    "\n",
    "hover = HoverTool(\n",
    "        tooltips=[\n",
    "            (\"Date\",\"@date\"),\n",
    "            (\"Event\", \"@desc\"),\n",
    "            (\"ADR\",\"@y{1.11}\")\n",
    "        ]\n",
    "    )\n",
    "\n",
    "p = plt.figure(x_axis_type=\"datetime\",width=800, height=500, tools=[hover],\n",
    "           title=\"Graph of StayDate vs ADR for BG (hover to view events)\",x_axis_label = \"Stay Date\",\n",
    "               y_axis_label = \"ADR\")\n",
    "p.left[0].formatter.use_scientific = False\n",
    "p.line('x', 'y', line_width=2, source=source)   \n",
    "show(p)"
   ]
  },
  {
   "cell_type": "code",
   "execution_count": null,
   "metadata": {
    "collapsed": true
   },
   "outputs": [],
   "source": []
  },
  {
   "cell_type": "code",
   "execution_count": null,
   "metadata": {
    "collapsed": true
   },
   "outputs": [],
   "source": [
    "property_id_CH = pd.read_excel('Results/GroupByPropertyID/2015/CH.xlsx')\n",
    "property_id_CH = property_id_CH.reset_index()\n",
    "property_id_CH = property_id_CH.sort_values(by = 'Stay_date', ascending=True)\n",
    "property_id_CH1 = property_id_CH.values.T.tolist()"
   ]
  },
  {
   "cell_type": "code",
   "execution_count": null,
   "metadata": {
    "collapsed": false
   },
   "outputs": [],
   "source": [
    "source = ColumnDataSource(\n",
    "        data=dict(\n",
    "            x=property_id_CH1[2],\n",
    "            y=property_id_CH1[5],\n",
    "            desc=property_id_CH1[3],\n",
    "            date=[x.strftime(\"%Y-%m-%d\") for x in property_id_CH['Stay_date']]\n",
    "        )\n",
    "    )\n",
    "\n",
    "hover = HoverTool(\n",
    "        tooltips=[\n",
    "            (\"Date\",\"@date\"),\n",
    "            (\"Event\", \"@desc\"),\n",
    "            (\"Total Revenue\",\"@y{1.11}\")\n",
    "        ]\n",
    "    )\n",
    "\n",
    "p = plt.figure(x_axis_type=\"datetime\",width=800, height=500, tools=[hover],\n",
    "           title=\"Graph of StayDate vs TotalRevenue for CH (hover to view events)\",x_axis_label = \"Stay Date\",\n",
    "               y_axis_label = \"Total Revenue\")\n",
    "p.left[0].formatter.use_scientific = False\n",
    "p.line('x', 'y', line_width=2, source=source)   \n",
    "show(p)"
   ]
  },
  {
   "cell_type": "code",
   "execution_count": null,
   "metadata": {
    "collapsed": false
   },
   "outputs": [],
   "source": [
    "source = ColumnDataSource(\n",
    "        data=dict(\n",
    "            x=property_id_CH1[2],\n",
    "            y=property_id_CH1[6],\n",
    "            desc=property_id_CH1[3],\n",
    "            date=[x.strftime(\"%Y-%m-%d\") for x in property_id_CH['Stay_date']]\n",
    "        )\n",
    "    )\n",
    "\n",
    "hover = HoverTool(\n",
    "        tooltips=[\n",
    "            (\"Date\",\"@date\"),\n",
    "            (\"Event\", \"@desc\"),\n",
    "            (\"ADR\",\"@y{1.11}\")\n",
    "        ]\n",
    "    )\n",
    "\n",
    "p = plt.figure(x_axis_type=\"datetime\",width=800, height=500, tools=[hover],\n",
    "           title=\"Graph of StayDate vs ADR for CH (hover to view events)\",x_axis_label = \"Stay Date\",\n",
    "               y_axis_label = \"ADR\")\n",
    "p.left[0].formatter.use_scientific = False\n",
    "p.line('x', 'y', line_width=2, source=source)   \n",
    "show(p)"
   ]
  },
  {
   "cell_type": "code",
   "execution_count": null,
   "metadata": {
    "collapsed": true
   },
   "outputs": [],
   "source": []
  },
  {
   "cell_type": "code",
   "execution_count": null,
   "metadata": {
    "collapsed": true
   },
   "outputs": [],
   "source": [
    "property_id_CL = pd.read_excel('Results/GroupByPropertyID/2015/CL.xlsx')\n",
    "property_id_CL = property_id_CL.reset_index()\n",
    "property_id_CL = property_id_CL.sort_values(by = 'Stay_date', ascending=True)\n",
    "property_id_CL1 = property_id_CL.values.T.tolist()"
   ]
  },
  {
   "cell_type": "code",
   "execution_count": null,
   "metadata": {
    "collapsed": false
   },
   "outputs": [],
   "source": [
    "source = ColumnDataSource(\n",
    "        data=dict(\n",
    "            x=property_id_CL1[2],\n",
    "            y=property_id_CL1[5],\n",
    "            desc=property_id_CL1[3],\n",
    "            date=[x.strftime(\"%Y-%m-%d\") for x in property_id_CL['Stay_date']]\n",
    "        )\n",
    "    )\n",
    "\n",
    "hover = HoverTool(\n",
    "        tooltips=[\n",
    "            (\"Date\",\"@date\"),\n",
    "            (\"Event\", \"@desc\"),\n",
    "            (\"Total Revenue\",\"@y{1.11}\")\n",
    "        ]\n",
    "    )\n",
    "\n",
    "p = plt.figure(x_axis_type=\"datetime\",width=800, height=500, tools=[hover],\n",
    "           title=\"Graph of StayDate vs TotalRevenue for CL (hover to view events)\",x_axis_label = \"Stay Date\",\n",
    "               y_axis_label = \"Total Revenue\")\n",
    "p.left[0].formatter.use_scientific = False\n",
    "p.line('x', 'y', line_width=2, source=source)   \n",
    "show(p)"
   ]
  },
  {
   "cell_type": "code",
   "execution_count": null,
   "metadata": {
    "collapsed": false
   },
   "outputs": [],
   "source": [
    "source = ColumnDataSource(\n",
    "        data=dict(\n",
    "            x=property_id_CL1[2],\n",
    "            y=property_id_CL1[6],\n",
    "            desc=property_id_CL1[3],\n",
    "            date=[x.strftime(\"%Y-%m-%d\") for x in property_id_CL['Stay_date']]\n",
    "        )\n",
    "    )\n",
    "\n",
    "hover = HoverTool(\n",
    "        tooltips=[\n",
    "            (\"Date\",\"@date\"),\n",
    "            (\"Event\", \"@desc\"),\n",
    "            (\"ADR\",\"@y{1.11}\")\n",
    "        ]\n",
    "    )\n",
    "\n",
    "p = plt.figure(x_axis_type=\"datetime\",width=800, height=500, tools=[hover],\n",
    "           title=\"Graph of StayDate vs ADR for CL (hover to view events)\",x_axis_label = \"Stay Date\",\n",
    "               y_axis_label = \"ADR\")\n",
    "p.left[0].formatter.use_scientific = False\n",
    "p.line('x', 'y', line_width=2, source=source)   \n",
    "show(p)"
   ]
  },
  {
   "cell_type": "code",
   "execution_count": null,
   "metadata": {
    "collapsed": true
   },
   "outputs": [],
   "source": []
  },
  {
   "cell_type": "code",
   "execution_count": null,
   "metadata": {
    "collapsed": true
   },
   "outputs": [],
   "source": [
    "property_id_CP = pd.read_excel('Results/GroupByPropertyID/2015/CP.xlsx')\n",
    "property_id_CP = property_id_CP.reset_index()\n",
    "property_id_CP = property_id_CP.sort_values(by = 'Stay_date', ascending=True)\n",
    "property_id_CP1 = property_id_CP.values.T.tolist()"
   ]
  },
  {
   "cell_type": "code",
   "execution_count": null,
   "metadata": {
    "collapsed": false
   },
   "outputs": [],
   "source": [
    "source = ColumnDataSource(\n",
    "        data=dict(\n",
    "            x=property_id_CP1[2],\n",
    "            y=property_id_CP1[5],\n",
    "            desc=property_id_CP1[3],\n",
    "            date=[x.strftime(\"%Y-%m-%d\") for x in property_id_CP['Stay_date']]\n",
    "        )\n",
    "    )\n",
    "\n",
    "hover = HoverTool(\n",
    "        tooltips=[\n",
    "            (\"Date\",\"@date\"),\n",
    "            (\"Event\", \"@desc\"),\n",
    "            (\"Total Revenue\",\"@y{1.11}\")\n",
    "        ]\n",
    "    )\n",
    "\n",
    "p = plt.figure(x_axis_type=\"datetime\",width=800, height=500, tools=[hover],\n",
    "           title=\"Graph of StayDate vs TotalRevenue for CP (hover to view events)\",x_axis_label = \"Stay Date\",\n",
    "               y_axis_label = \"Total Revenue\")\n",
    "p.left[0].formatter.use_scientific = False\n",
    "p.line('x', 'y', line_width=2, source=source)   \n",
    "show(p)"
   ]
  },
  {
   "cell_type": "code",
   "execution_count": null,
   "metadata": {
    "collapsed": false
   },
   "outputs": [],
   "source": [
    "source = ColumnDataSource(\n",
    "        data=dict(\n",
    "            x=property_id_CP1[2],\n",
    "            y=property_id_CP1[6],\n",
    "            desc=property_id_CP1[3],\n",
    "            date=[x.strftime(\"%Y-%m-%d\") for x in property_id_CP['Stay_date']]\n",
    "        )\n",
    "    )\n",
    "\n",
    "hover = HoverTool(\n",
    "        tooltips=[\n",
    "            (\"Date\",\"@date\"),\n",
    "            (\"Event\", \"@desc\"),\n",
    "            (\"ADR\",\"@y{1.11}\")\n",
    "        ]\n",
    "    )\n",
    "\n",
    "p = plt.figure(x_axis_type=\"datetime\",width=800, height=500, tools=[hover],\n",
    "           title=\"Graph of StayDate vs ADR for CP (hover to view events)\",x_axis_label = \"Stay Date\",\n",
    "               y_axis_label = \"ADR\")\n",
    "p.left[0].formatter.use_scientific = False\n",
    "p.line('x', 'y', line_width=2, source=source)   \n",
    "show(p)"
   ]
  },
  {
   "cell_type": "code",
   "execution_count": null,
   "metadata": {
    "collapsed": true
   },
   "outputs": [],
   "source": []
  },
  {
   "cell_type": "code",
   "execution_count": null,
   "metadata": {
    "collapsed": true
   },
   "outputs": [],
   "source": [
    "property_id_EB = pd.read_excel('Results/GroupByPropertyID/2015/EB.xlsx')\n",
    "property_id_EB = property_id_EB.reset_index()\n",
    "property_id_EB = property_id_EB.sort_values(by = 'Stay_date', ascending=True)\n",
    "property_id_EB1 = property_id_EB.values.T.tolist()"
   ]
  },
  {
   "cell_type": "code",
   "execution_count": null,
   "metadata": {
    "collapsed": false
   },
   "outputs": [],
   "source": [
    "source = ColumnDataSource(\n",
    "        data=dict(\n",
    "            x=property_id_EB1[2],\n",
    "            y=property_id_EB1[5],\n",
    "            desc=property_id_EB1[3],\n",
    "            date=[x.strftime(\"%Y-%m-%d\") for x in property_id_EB['Stay_date']]\n",
    "        )\n",
    "    )\n",
    "\n",
    "hover = HoverTool(\n",
    "        tooltips=[\n",
    "            (\"Date\",\"@date\"),\n",
    "            (\"Event\", \"@desc\"),\n",
    "            (\"Total Revenue\",\"@y{1.11}\")\n",
    "        ]\n",
    "    )\n",
    "\n",
    "p = plt.figure(x_axis_type=\"datetime\",width=800, height=500, tools=[hover],\n",
    "           title=\"Graph of StayDate vs TotalRevenue for EB (hover to view events)\",x_axis_label = \"Stay Date\",\n",
    "               y_axis_label = \"Total Revenue\")\n",
    "p.left[0].formatter.use_scientific = False\n",
    "p.line('x', 'y', line_width=2, source=source)   \n",
    "show(p)"
   ]
  },
  {
   "cell_type": "code",
   "execution_count": null,
   "metadata": {
    "collapsed": false
   },
   "outputs": [],
   "source": [
    "source = ColumnDataSource(\n",
    "        data=dict(\n",
    "            x=property_id_EB1[2],\n",
    "            y=property_id_EB1[6],\n",
    "            desc=property_id_EB1[3],\n",
    "            date=[x.strftime(\"%Y-%m-%d\") for x in property_id_EB['Stay_date']]\n",
    "        )\n",
    "    )\n",
    "\n",
    "hover = HoverTool(\n",
    "        tooltips=[\n",
    "            (\"Date\",\"@date\"),\n",
    "            (\"Event\", \"@desc\"),\n",
    "            (\"ADR\",\"@y{1.11}\")\n",
    "        ]\n",
    "    )\n",
    "\n",
    "p = plt.figure(x_axis_type=\"datetime\",width=800, height=500, tools=[hover],\n",
    "           title=\"Graph of StayDate vs ADR for EB (hover to view events)\",x_axis_label = \"Stay Date\",\n",
    "               y_axis_label = \"ADR\")\n",
    "p.left[0].formatter.use_scientific = False\n",
    "p.line('x', 'y', line_width=2, source=source)   \n",
    "show(p)"
   ]
  },
  {
   "cell_type": "code",
   "execution_count": null,
   "metadata": {
    "collapsed": true
   },
   "outputs": [],
   "source": []
  },
  {
   "cell_type": "code",
   "execution_count": null,
   "metadata": {
    "collapsed": true
   },
   "outputs": [],
   "source": [
    "property_id_KK = pd.read_excel('Results/GroupByPropertyID/2015/KK.xlsx')\n",
    "property_id_KK = property_id_KK.reset_index()\n",
    "property_id_KK = property_id_KK.sort_values(by = 'Stay_date', ascending=True)\n",
    "property_id_KK1 = property_id_KK.values.T.tolist()"
   ]
  },
  {
   "cell_type": "code",
   "execution_count": null,
   "metadata": {
    "collapsed": false
   },
   "outputs": [],
   "source": [
    "source = ColumnDataSource(\n",
    "        data=dict(\n",
    "            x=property_id_KK1[2],\n",
    "            y=property_id_KK1[5],\n",
    "            desc=property_id_KK1[3],\n",
    "            date=[x.strftime(\"%Y-%m-%d\") for x in property_id_KK['Stay_date']]\n",
    "        )\n",
    "    )\n",
    "\n",
    "hover = HoverTool(\n",
    "        tooltips=[\n",
    "            (\"Date\",\"@date\"),\n",
    "            (\"Event\", \"@desc\"),\n",
    "            (\"Total Revenue\",\"@y{1.11}\")\n",
    "        ]\n",
    "    )\n",
    "\n",
    "p = plt.figure(x_axis_type=\"datetime\",width=800, height=500, tools=[hover],\n",
    "           title=\"Graph of StayDate vs TotalRevenue for KK (hover to view events)\",x_axis_label = \"Stay Date\",\n",
    "               y_axis_label = \"Total Revenue\")\n",
    "p.left[0].formatter.use_scientific = False\n",
    "p.line('x', 'y', line_width=2, source=source)   \n",
    "show(p)"
   ]
  },
  {
   "cell_type": "code",
   "execution_count": null,
   "metadata": {
    "collapsed": false
   },
   "outputs": [],
   "source": [
    "source = ColumnDataSource(\n",
    "        data=dict(\n",
    "            x=property_id_KK1[2],\n",
    "            y=property_id_KK1[6],\n",
    "            desc=property_id_KK1[3],\n",
    "            date=[x.strftime(\"%Y-%m-%d\") for x in property_id_KK['Stay_date']]\n",
    "        )\n",
    "    )\n",
    "\n",
    "hover = HoverTool(\n",
    "        tooltips=[\n",
    "            (\"Date\",\"@date\"),\n",
    "            (\"Event\", \"@desc\"),\n",
    "            (\"ADR\",\"@y{1.11}\")\n",
    "        ]\n",
    "    )\n",
    "\n",
    "p = plt.figure(x_axis_type=\"datetime\",width=800, height=500, tools=[hover],\n",
    "           title=\"Graph of StayDate vs ADR for KK (hover to view events)\",x_axis_label = \"Stay Date\",\n",
    "               y_axis_label = \"ADR\")\n",
    "p.left[0].formatter.use_scientific = False\n",
    "p.line('x', 'y', line_width=2, source=source)   \n",
    "show(p)"
   ]
  },
  {
   "cell_type": "code",
   "execution_count": null,
   "metadata": {
    "collapsed": true
   },
   "outputs": [],
   "source": []
  },
  {
   "cell_type": "code",
   "execution_count": null,
   "metadata": {
    "collapsed": true
   },
   "outputs": [],
   "source": [
    "property_id_KR = pd.read_excel('Results/GroupByPropertyID/2015/KR.xlsx')\n",
    "property_id_KR = property_id_KR.reset_index()\n",
    "property_id_KR = property_id_KR.sort_values(by = 'Stay_date', ascending=True)\n",
    "property_id_KR1 = property_id_KR.values.T.tolist()"
   ]
  },
  {
   "cell_type": "code",
   "execution_count": null,
   "metadata": {
    "collapsed": false
   },
   "outputs": [],
   "source": [
    "source = ColumnDataSource(\n",
    "        data=dict(\n",
    "            x=property_id_KR1[2],\n",
    "            y=property_id_KR1[5],\n",
    "            desc=property_id_KR1[3],\n",
    "            date=[x.strftime(\"%Y-%m-%d\") for x in property_id_KR['Stay_date']]\n",
    "        )\n",
    "    )\n",
    "\n",
    "hover = HoverTool(\n",
    "        tooltips=[\n",
    "            (\"Date\",\"@date\"),\n",
    "            (\"Event\", \"@desc\"),\n",
    "            (\"Total Revenue\",\"@y{1.11}\")\n",
    "        ]\n",
    "    )\n",
    "\n",
    "p = plt.figure(x_axis_type=\"datetime\",width=800, height=500, tools=[hover],\n",
    "           title=\"Graph of StayDate vs TotalRevenue for KR (hover to view events)\",x_axis_label = \"Stay Date\",\n",
    "               y_axis_label = \"Total Revenue\")\n",
    "p.left[0].formatter.use_scientific = False\n",
    "p.line('x', 'y', line_width=2, source=source)   \n",
    "show(p)"
   ]
  },
  {
   "cell_type": "code",
   "execution_count": null,
   "metadata": {
    "collapsed": false
   },
   "outputs": [],
   "source": [
    "source = ColumnDataSource(\n",
    "        data=dict(\n",
    "            x=property_id_KR1[2],\n",
    "            y=property_id_KR1[6],\n",
    "            desc=property_id_KR1[3],\n",
    "            date=[x.strftime(\"%Y-%m-%d\") for x in property_id_KR['Stay_date']]\n",
    "        )\n",
    "    )\n",
    "\n",
    "hover = HoverTool(\n",
    "        tooltips=[\n",
    "            (\"Date\",\"@date\"),\n",
    "            (\"Event\", \"@desc\"),\n",
    "            (\"ADR\",\"@y{1.11}\")\n",
    "        ]\n",
    "    )\n",
    "\n",
    "p = plt.figure(x_axis_type=\"datetime\",width=800, height=500, tools=[hover],\n",
    "           title=\"Graph of StayDate vs ADR for KR (hover to view events)\",x_axis_label = \"Stay Date\",\n",
    "               y_axis_label = \"ADR\")\n",
    "p.left[0].formatter.use_scientific = False\n",
    "p.line('x', 'y', line_width=2, source=source)   \n",
    "show(p)"
   ]
  },
  {
   "cell_type": "code",
   "execution_count": null,
   "metadata": {
    "collapsed": true
   },
   "outputs": [],
   "source": []
  },
  {
   "cell_type": "code",
   "execution_count": null,
   "metadata": {
    "collapsed": true
   },
   "outputs": [],
   "source": [
    "property_id_MB = pd.read_excel('Results/GroupByPropertyID/2015/MB.xlsx')\n",
    "property_id_MB = property_id_MB.reset_index()\n",
    "property_id_MB = property_id_MB.sort_values(by = 'Stay_date', ascending=True)\n",
    "property_id_MB1 = property_id_MB.values.T.tolist()"
   ]
  },
  {
   "cell_type": "code",
   "execution_count": null,
   "metadata": {
    "collapsed": false
   },
   "outputs": [],
   "source": [
    "source = ColumnDataSource(\n",
    "        data=dict(\n",
    "            x=property_id_MB1[2],\n",
    "            y=property_id_MB1[5],\n",
    "            desc=property_id_MB1[3],\n",
    "            date=[x.strftime(\"%Y-%m-%d\") for x in property_id_MB['Stay_date']]\n",
    "        )\n",
    "    )\n",
    "\n",
    "hover = HoverTool(\n",
    "        tooltips=[\n",
    "            (\"Date\",\"@date\"),\n",
    "            (\"Event\", \"@desc\"),\n",
    "            (\"Total Revenue\",\"@y{1.11}\")\n",
    "        ]\n",
    "    )\n",
    "\n",
    "p = plt.figure(x_axis_type=\"datetime\",width=800, height=500, tools=[hover],\n",
    "           title=\"Graph of StayDate vs TotalRevenue for MB (hover to view events)\",x_axis_label = \"Stay Date\",\n",
    "               y_axis_label = \"Total Revenue\")\n",
    "p.left[0].formatter.use_scientific = False\n",
    "p.line('x', 'y', line_width=2, source=source)   \n",
    "show(p)"
   ]
  },
  {
   "cell_type": "code",
   "execution_count": null,
   "metadata": {
    "collapsed": false
   },
   "outputs": [],
   "source": [
    "source = ColumnDataSource(\n",
    "        data=dict(\n",
    "            x=property_id_MB1[2],\n",
    "            y=property_id_MB1[6],\n",
    "            desc=property_id_MB1[3],\n",
    "            date=[x.strftime(\"%Y-%m-%d\") for x in property_id_MB['Stay_date']]\n",
    "        )\n",
    "    )\n",
    "\n",
    "hover = HoverTool(\n",
    "        tooltips=[\n",
    "            (\"Date\",\"@date\"),\n",
    "            (\"Event\", \"@desc\"),\n",
    "            (\"ADR\",\"@y{1.11}\")\n",
    "        ]\n",
    "    )\n",
    "\n",
    "p = plt.figure(x_axis_type=\"datetime\",width=800, height=500, tools=[hover],\n",
    "           title=\"Graph of StayDate vs ADR for MB (hover to view events)\",x_axis_label = \"Stay Date\",\n",
    "               y_axis_label = \"ADR\")\n",
    "p.left[0].formatter.use_scientific = False\n",
    "p.line('x', 'y', line_width=2, source=source)   \n",
    "show(p)"
   ]
  },
  {
   "cell_type": "code",
   "execution_count": null,
   "metadata": {
    "collapsed": true
   },
   "outputs": [],
   "source": []
  },
  {
   "cell_type": "code",
   "execution_count": null,
   "metadata": {
    "collapsed": true
   },
   "outputs": [],
   "source": [
    "property_id_MM = pd.read_excel('Results/GroupByPropertyID/2015/MM.xlsx')\n",
    "property_id_MM = property_id_MM.reset_index()\n",
    "property_id_MM = property_id_MM.sort_values(by = 'Stay_date', ascending=True)\n",
    "property_id_MM1 = property_id_MM.values.T.tolist()"
   ]
  },
  {
   "cell_type": "code",
   "execution_count": null,
   "metadata": {
    "collapsed": false
   },
   "outputs": [],
   "source": [
    "source = ColumnDataSource(\n",
    "        data=dict(\n",
    "            x=property_id_MM1[2],\n",
    "            y=property_id_MM1[5],\n",
    "            desc=property_id_MM1[3],\n",
    "            date=[x.strftime(\"%Y-%m-%d\") for x in property_id_MM['Stay_date']]\n",
    "        )\n",
    "    )\n",
    "\n",
    "hover = HoverTool(\n",
    "        tooltips=[\n",
    "            (\"Date\",\"@date\"),\n",
    "            (\"Event\", \"@desc\"),\n",
    "            (\"Total Revenue\",\"@y{1.11}\")\n",
    "        ]\n",
    "    )\n",
    "\n",
    "p = plt.figure(x_axis_type=\"datetime\",width=800, height=500, tools=[hover],\n",
    "           title=\"Graph of StayDate vs TotalRevenue for MM (hover to view events)\",x_axis_label = \"Stay Date\",\n",
    "               y_axis_label = \"Total Revenue\")\n",
    "p.left[0].formatter.use_scientific = False\n",
    "p.line('x', 'y', line_width=2, source=source)   \n",
    "show(p)"
   ]
  },
  {
   "cell_type": "code",
   "execution_count": null,
   "metadata": {
    "collapsed": false
   },
   "outputs": [],
   "source": [
    "source = ColumnDataSource(\n",
    "        data=dict(\n",
    "            x=property_id_MM1[2],\n",
    "            y=property_id_MM1[6],\n",
    "            desc=property_id_MM1[3],\n",
    "            date=[x.strftime(\"%Y-%m-%d\") for x in property_id_MM['Stay_date']]\n",
    "        )\n",
    "    )\n",
    "\n",
    "hover = HoverTool(\n",
    "        tooltips=[\n",
    "            (\"Date\",\"@date\"),\n",
    "            (\"Event\", \"@desc\"),\n",
    "            (\"ADR\",\"@y{1.11}\")\n",
    "        ]\n",
    "    )\n",
    "\n",
    "p = plt.figure(x_axis_type=\"datetime\",width=800, height=500, tools=[hover],\n",
    "           title=\"Graph of StayDate vs ADR for MM (hover to view events)\",x_axis_label = \"Stay Date\",\n",
    "               y_axis_label = \"ADR\")\n",
    "p.left[0].formatter.use_scientific = False\n",
    "p.line('x', 'y', line_width=2, source=source)   \n",
    "show(p)"
   ]
  },
  {
   "cell_type": "code",
   "execution_count": null,
   "metadata": {
    "collapsed": true
   },
   "outputs": [],
   "source": []
  },
  {
   "cell_type": "code",
   "execution_count": null,
   "metadata": {
    "collapsed": true
   },
   "outputs": [],
   "source": [
    "property_id_SC = pd.read_excel('Results/GroupByPropertyID/2015/SC.xlsx')\n",
    "property_id_SC = property_id_SC.reset_index()\n",
    "property_id_SC = property_id_SC.sort_values(by = 'Stay_date', ascending=True)\n",
    "property_id_SC1 = property_id_SC.values.T.tolist()"
   ]
  },
  {
   "cell_type": "code",
   "execution_count": null,
   "metadata": {
    "collapsed": false
   },
   "outputs": [],
   "source": [
    "source = ColumnDataSource(\n",
    "        data=dict(\n",
    "            x=property_id_SC1[2],\n",
    "            y=property_id_SC1[5],\n",
    "            desc=property_id_SC1[3],\n",
    "            date=[x.strftime(\"%Y-%m-%d\") for x in property_id_SC['Stay_date']]\n",
    "        )\n",
    "    )\n",
    "\n",
    "hover = HoverTool(\n",
    "        tooltips=[\n",
    "            (\"Date\",\"@date\"),\n",
    "            (\"Event\", \"@desc\"),\n",
    "            (\"Total Revenue\",\"@y{1.11}\")\n",
    "        ]\n",
    "    )\n",
    "\n",
    "p = plt.figure(x_axis_type=\"datetime\",width=800, height=500, tools=[hover],\n",
    "           title=\"Graph of StayDate vs TotalRevenue for SC (hover to view events)\",x_axis_label = \"Stay Date\",\n",
    "               y_axis_label = \"Total Revenue\")\n",
    "p.left[0].formatter.use_scientific = False\n",
    "p.line('x', 'y', line_width=2, source=source)   \n",
    "show(p)"
   ]
  },
  {
   "cell_type": "code",
   "execution_count": null,
   "metadata": {
    "collapsed": false
   },
   "outputs": [],
   "source": [
    "source = ColumnDataSource(\n",
    "        data=dict(\n",
    "            x=property_id_SC1[2],\n",
    "            y=property_id_SC1[6],\n",
    "            desc=property_id_SC1[3],\n",
    "            date=[x.strftime(\"%Y-%m-%d\") for x in property_id_SC['Stay_date']]\n",
    "        )\n",
    "    )\n",
    "\n",
    "hover = HoverTool(\n",
    "        tooltips=[\n",
    "            (\"Date\",\"@date\"),\n",
    "            (\"Event\", \"@desc\"),\n",
    "            (\"ADR\",\"@y{1.11}\")\n",
    "        ]\n",
    "    )\n",
    "\n",
    "p = plt.figure(x_axis_type=\"datetime\",width=800, height=500, tools=[hover],\n",
    "           title=\"Graph of StayDate vs ADR for SC (hover to view events)\",x_axis_label = \"Stay Date\",\n",
    "               y_axis_label = \"ADR\")\n",
    "p.left[0].formatter.use_scientific = False\n",
    "p.line('x', 'y', line_width=2, source=source)   \n",
    "show(p)"
   ]
  },
  {
   "cell_type": "code",
   "execution_count": null,
   "metadata": {
    "collapsed": true
   },
   "outputs": [],
   "source": []
  },
  {
   "cell_type": "code",
   "execution_count": null,
   "metadata": {
    "collapsed": true
   },
   "outputs": [],
   "source": [
    "property_id_SS = pd.read_excel('Results/GroupByPropertyID/2015/SS.xlsx')\n",
    "property_id_SS = property_id_SS.reset_index()\n",
    "property_id_SS = property_id_SS.sort_values(by = 'Stay_date', ascending=True)\n",
    "property_id_SS1 = property_id_SS.values.T.tolist()"
   ]
  },
  {
   "cell_type": "code",
   "execution_count": null,
   "metadata": {
    "collapsed": false
   },
   "outputs": [],
   "source": [
    "source = ColumnDataSource(\n",
    "        data=dict(\n",
    "            x=property_id_SS1[2],\n",
    "            y=property_id_SS1[5],\n",
    "            desc=property_id_SS1[3],\n",
    "            date=[x.strftime(\"%Y-%m-%d\") for x in property_id_SS['Stay_date']]\n",
    "        )\n",
    "    )\n",
    "\n",
    "hover = HoverTool(\n",
    "        tooltips=[\n",
    "            (\"Date\",\"@date\"),\n",
    "            (\"Event\", \"@desc\"),\n",
    "            (\"Total Revenue\",\"@y{1.11}\")\n",
    "        ]\n",
    "    )\n",
    "\n",
    "p = plt.figure(x_axis_type=\"datetime\",width=800, height=500, tools=[hover],\n",
    "           title=\"Graph of StayDate vs TotalRevenue for SS (hover to view events)\",x_axis_label = \"Stay Date\",\n",
    "               y_axis_label = \"Total Revenue\")\n",
    "p.left[0].formatter.use_scientific = False\n",
    "p.line('x', 'y', line_width=2, source=source)   \n",
    "show(p)"
   ]
  },
  {
   "cell_type": "code",
   "execution_count": null,
   "metadata": {
    "collapsed": false
   },
   "outputs": [],
   "source": [
    "source = ColumnDataSource(\n",
    "        data=dict(\n",
    "            x=property_id_SS1[2],\n",
    "            y=property_id_SS1[6],\n",
    "            desc=property_id_SS1[3],\n",
    "            date=[x.strftime(\"%Y-%m-%d\") for x in property_id_SS['Stay_date']]\n",
    "        )\n",
    "    )\n",
    "\n",
    "hover = HoverTool(\n",
    "        tooltips=[\n",
    "            (\"Date\",\"@date\"),\n",
    "            (\"Event\", \"@desc\"),\n",
    "            (\"ADR\",\"@y{1.11}\")\n",
    "        ]\n",
    "    )\n",
    "\n",
    "p = plt.figure(x_axis_type=\"datetime\",width=800, height=500, tools=[hover],\n",
    "           title=\"Graph of StayDate vs ADR for SS (hover to view events)\",x_axis_label = \"Stay Date\",\n",
    "               y_axis_label = \"ADR\")\n",
    "p.left[0].formatter.use_scientific = False\n",
    "p.line('x', 'y', line_width=2, source=source)   \n",
    "show(p)"
   ]
  },
  {
   "cell_type": "code",
   "execution_count": null,
   "metadata": {
    "collapsed": true
   },
   "outputs": [],
   "source": []
  },
  {
   "cell_type": "code",
   "execution_count": null,
   "metadata": {
    "collapsed": true
   },
   "outputs": [],
   "source": [
    "property_id_SV = pd.read_excel('Results/GroupByPropertyID/2015/SV.xlsx')\n",
    "property_id_SV = property_id_SV.reset_index()\n",
    "property_id_SV = property_id_SV.sort_values(by = 'Stay_date', ascending=True)\n",
    "property_id_SV1 = property_id_SV.values.T.tolist()"
   ]
  },
  {
   "cell_type": "code",
   "execution_count": null,
   "metadata": {
    "collapsed": false
   },
   "outputs": [],
   "source": [
    "source = ColumnDataSource(\n",
    "        data=dict(\n",
    "            x=property_id_SV1[2],\n",
    "            y=property_id_SV1[5],\n",
    "            desc=property_id_SV1[3],\n",
    "            date=[x.strftime(\"%Y-%m-%d\") for x in property_id_SV['Stay_date']]\n",
    "        )\n",
    "    )\n",
    "\n",
    "hover = HoverTool(\n",
    "        tooltips=[\n",
    "            (\"Date\",\"@date\"),\n",
    "            (\"Event\", \"@desc\"),\n",
    "            (\"Total Revenue\",\"@y{1.11}\")\n",
    "        ]\n",
    "    )\n",
    "\n",
    "p = plt.figure(x_axis_type=\"datetime\",width=800, height=500, tools=[hover],\n",
    "           title=\"Graph of StayDate vs TotalRevenue for SV (hover to view events)\",x_axis_label = \"Stay Date\",\n",
    "               y_axis_label = \"Total Revenue\")\n",
    "p.left[0].formatter.use_scientific = False\n",
    "p.line('x', 'y', line_width=2, source=source)   \n",
    "show(p)"
   ]
  },
  {
   "cell_type": "code",
   "execution_count": null,
   "metadata": {
    "collapsed": false
   },
   "outputs": [],
   "source": [
    "source = ColumnDataSource(\n",
    "        data=dict(\n",
    "            x=property_id_SV1[2],\n",
    "            y=property_id_SV1[6],\n",
    "            desc=property_id_SV1[3],\n",
    "            date=[x.strftime(\"%Y-%m-%d\") for x in property_id_SV['Stay_date']]\n",
    "        )\n",
    "    )\n",
    "\n",
    "hover = HoverTool(\n",
    "        tooltips=[\n",
    "            (\"Date\",\"@date\"),\n",
    "            (\"Event\", \"@desc\"),\n",
    "            (\"ADR\",\"@y{1.11}\")\n",
    "        ]\n",
    "    )\n",
    "\n",
    "p = plt.figure(x_axis_type=\"datetime\",width=800, height=500, tools=[hover],\n",
    "           title=\"Graph of StayDate vs ADR for SV (hover to view events)\",x_axis_label = \"Stay Date\",\n",
    "               y_axis_label = \"ADR\")\n",
    "p.left[0].formatter.use_scientific = False\n",
    "p.line('x', 'y', line_width=2, source=source)   \n",
    "show(p)"
   ]
  },
  {
   "cell_type": "code",
   "execution_count": null,
   "metadata": {
    "collapsed": true
   },
   "outputs": [],
   "source": []
  },
  {
   "cell_type": "code",
   "execution_count": null,
   "metadata": {
    "collapsed": true
   },
   "outputs": [],
   "source": [
    "property_id_VM = pd.read_excel('Results/GroupByPropertyID/2015/VM.xlsx')\n",
    "property_id_VM = property_id_VM.reset_index()\n",
    "property_id_VM = property_id_VM.sort_values(by = 'Stay_date', ascending=True)\n",
    "property_id_VM1 = property_id_VM.values.T.tolist()"
   ]
  },
  {
   "cell_type": "code",
   "execution_count": null,
   "metadata": {
    "collapsed": false
   },
   "outputs": [],
   "source": [
    "source = ColumnDataSource(\n",
    "        data=dict(\n",
    "            x=property_id_VM1[2],\n",
    "            y=property_id_VM1[5],\n",
    "            desc=property_id_VM1[3],\n",
    "            date=[x.strftime(\"%Y-%m-%d\") for x in property_id_VM['Stay_date']]\n",
    "        )\n",
    "    )\n",
    "\n",
    "hover = HoverTool(\n",
    "        tooltips=[\n",
    "            (\"Date\",\"@date\"),\n",
    "            (\"Event\", \"@desc\"),\n",
    "            (\"Total Revenue\",\"@y{1.11}\")\n",
    "        ]\n",
    "    )\n",
    "\n",
    "p = plt.figure(x_axis_type=\"datetime\",width=800, height=500, tools=[hover],\n",
    "           title=\"Graph of StayDate vs TotalRevenue for VM (hover to view events)\",x_axis_label = \"Stay Date\",\n",
    "               y_axis_label = \"Total Revenue\")\n",
    "p.left[0].formatter.use_scientific = False\n",
    "p.line('x', 'y', line_width=2, source=source)   \n",
    "show(p)"
   ]
  },
  {
   "cell_type": "code",
   "execution_count": null,
   "metadata": {
    "collapsed": false
   },
   "outputs": [],
   "source": [
    "source = ColumnDataSource(\n",
    "        data=dict(\n",
    "            x=property_id_VM1[2],\n",
    "            y=property_id_VM1[6],\n",
    "            desc=property_id_VM1[3],\n",
    "            date=[x.strftime(\"%Y-%m-%d\") for x in property_id_VM['Stay_date']]\n",
    "        )\n",
    "    )\n",
    "\n",
    "hover = HoverTool(\n",
    "        tooltips=[\n",
    "            (\"Date\",\"@date\"),\n",
    "            (\"Event\", \"@desc\"),\n",
    "            (\"ADR\",\"@y{1.11}\")\n",
    "        ]\n",
    "    )\n",
    "\n",
    "p = plt.figure(x_axis_type=\"datetime\",width=800, height=500, tools=[hover],\n",
    "           title=\"Graph of StayDate vs ADR for VM (hover to view events)\",x_axis_label = \"Stay Date\",\n",
    "               y_axis_label = \"ADR\")\n",
    "p.left[0].formatter.use_scientific = False\n",
    "p.line('x', 'y', line_width=2, source=source)   \n",
    "show(p)"
   ]
  },
  {
   "cell_type": "code",
   "execution_count": null,
   "metadata": {
    "collapsed": true
   },
   "outputs": [],
   "source": []
  },
  {
   "cell_type": "code",
   "execution_count": null,
   "metadata": {
    "collapsed": true
   },
   "outputs": [],
   "source": [
    "property_id_VV = pd.read_excel('Results/GroupByPropertyID/2015/VV.xlsx')\n",
    "property_id_VV = property_id_VV.reset_index()\n",
    "property_id_VV = property_id_VV.sort_values(by = 'Stay_date', ascending=True)\n",
    "property_id_VV1 = property_id_VV.values.T.tolist()"
   ]
  },
  {
   "cell_type": "code",
   "execution_count": null,
   "metadata": {
    "collapsed": false
   },
   "outputs": [],
   "source": [
    "source = ColumnDataSource(\n",
    "        data=dict(\n",
    "            x=property_id_VV1[2],\n",
    "            y=property_id_VV1[5],\n",
    "            desc=property_id_VV1[3],\n",
    "            date=[x.strftime(\"%Y-%m-%d\") for x in property_id_VV['Stay_date']]\n",
    "        )\n",
    "    )\n",
    "\n",
    "hover = HoverTool(\n",
    "        tooltips=[\n",
    "            (\"Date\",\"@date\"),\n",
    "            (\"Event\", \"@desc\"),\n",
    "            (\"Total Revenue\",\"@y{1.11}\")\n",
    "        ]\n",
    "    )\n",
    "\n",
    "p = plt.figure(x_axis_type=\"datetime\",width=800, height=500, tools=[hover],\n",
    "           title=\"Graph of StayDate vs TotalRevenue for VV (hover to view events)\",x_axis_label = \"Stay Date\",\n",
    "               y_axis_label = \"Total Revenue\")\n",
    "p.left[0].formatter.use_scientific = False\n",
    "p.line('x', 'y', line_width=2, source=source)   \n",
    "show(p)"
   ]
  },
  {
   "cell_type": "code",
   "execution_count": null,
   "metadata": {
    "collapsed": false
   },
   "outputs": [],
   "source": [
    "source = ColumnDataSource(\n",
    "        data=dict(\n",
    "            x=property_id_VV1[2],\n",
    "            y=property_id_VV1[6],\n",
    "            desc=property_id_VV1[3],\n",
    "            date=[x.strftime(\"%Y-%m-%d\") for x in property_id_VV['Stay_date']]\n",
    "        )\n",
    "    )\n",
    "\n",
    "hover = HoverTool(\n",
    "        tooltips=[\n",
    "            (\"Date\",\"@date\"),\n",
    "            (\"Event\", \"@desc\"),\n",
    "            (\"ADR\",\"@y{1.11}\")\n",
    "        ]\n",
    "    )\n",
    "\n",
    "p = plt.figure(x_axis_type=\"datetime\",width=800, height=500, tools=[hover],\n",
    "           title=\"Graph of StayDate vs ADR for VV (hover to view events)\",x_axis_label = \"Stay Date\",\n",
    "               y_axis_label = \"ADR\")\n",
    "p.left[0].formatter.use_scientific = False\n",
    "p.line('x', 'y', line_width=2, source=source)   \n",
    "show(p)"
   ]
  }
 ],
 "metadata": {
  "anaconda-cloud": {},
  "kernelspec": {
   "display_name": "Python [default]",
   "language": "python",
   "name": "python3"
  },
  "language_info": {
   "codemirror_mode": {
    "name": "ipython",
    "version": 3
   },
   "file_extension": ".py",
   "mimetype": "text/x-python",
   "name": "python",
   "nbconvert_exporter": "python",
   "pygments_lexer": "ipython3",
   "version": "3.5.2"
  }
 },
 "nbformat": 4,
 "nbformat_minor": 1
}
