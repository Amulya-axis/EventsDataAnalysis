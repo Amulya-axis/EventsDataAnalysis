{
 "cells": [
  {
   "cell_type": "code",
   "execution_count": 1,
   "metadata": {
    "collapsed": false
   },
   "outputs": [
    {
     "data": {
      "text/html": [
       "<div>\n",
       "<table border=\"1\" class=\"dataframe\">\n",
       "  <thead>\n",
       "    <tr style=\"text-align: right;\">\n",
       "      <th></th>\n",
       "      <th>booking_date</th>\n",
       "      <th>channel</th>\n",
       "      <th>property_id</th>\n",
       "      <th>room_name</th>\n",
       "      <th>room_id</th>\n",
       "      <th>check_in</th>\n",
       "      <th>check_out</th>\n",
       "      <th>room_rate</th>\n",
       "      <th>booking_status</th>\n",
       "    </tr>\n",
       "  </thead>\n",
       "  <tbody>\n",
       "    <tr>\n",
       "      <th>0</th>\n",
       "      <td>2013-06-30T16:35:42+05:30</td>\n",
       "      <td>DIRECT</td>\n",
       "      <td>CH</td>\n",
       "      <td>Superior Room</td>\n",
       "      <td>ST</td>\n",
       "      <td>2013-07-08</td>\n",
       "      <td>2014-04-15</td>\n",
       "      <td>0.0</td>\n",
       "      <td>COMPLETED</td>\n",
       "    </tr>\n",
       "    <tr>\n",
       "      <th>1</th>\n",
       "      <td>2013-02-08T17:06:44+05:30</td>\n",
       "      <td>DIRECT</td>\n",
       "      <td>BB</td>\n",
       "      <td>Standard Sea Facing Room</td>\n",
       "      <td>1F</td>\n",
       "      <td>2014-03-01</td>\n",
       "      <td>2014-04-30</td>\n",
       "      <td>0.0</td>\n",
       "      <td>CANCELLED</td>\n",
       "    </tr>\n",
       "    <tr>\n",
       "      <th>2</th>\n",
       "      <td>2013-02-08T17:06:44+05:30</td>\n",
       "      <td>DIRECT</td>\n",
       "      <td>BB</td>\n",
       "      <td>Standard Sea Facing Room</td>\n",
       "      <td>1F</td>\n",
       "      <td>2014-03-01</td>\n",
       "      <td>2014-04-30</td>\n",
       "      <td>0.0</td>\n",
       "      <td>CANCELLED</td>\n",
       "    </tr>\n",
       "    <tr>\n",
       "      <th>3</th>\n",
       "      <td>2013-02-08T17:06:44+05:30</td>\n",
       "      <td>DIRECT</td>\n",
       "      <td>BB</td>\n",
       "      <td>Standard Sea Facing Room</td>\n",
       "      <td>1F</td>\n",
       "      <td>2014-03-01</td>\n",
       "      <td>2014-04-30</td>\n",
       "      <td>0.0</td>\n",
       "      <td>CANCELLED</td>\n",
       "    </tr>\n",
       "    <tr>\n",
       "      <th>4</th>\n",
       "      <td>2013-02-08T17:06:44+05:30</td>\n",
       "      <td>DIRECT</td>\n",
       "      <td>BB</td>\n",
       "      <td>Standard Sea Facing Room</td>\n",
       "      <td>1F</td>\n",
       "      <td>2014-03-01</td>\n",
       "      <td>2014-04-30</td>\n",
       "      <td>0.0</td>\n",
       "      <td>CANCELLED</td>\n",
       "    </tr>\n",
       "  </tbody>\n",
       "</table>\n",
       "</div>"
      ],
      "text/plain": [
       "                booking_date channel property_id                 room_name  \\\n",
       "0  2013-06-30T16:35:42+05:30  DIRECT          CH             Superior Room   \n",
       "1  2013-02-08T17:06:44+05:30  DIRECT          BB  Standard Sea Facing Room   \n",
       "2  2013-02-08T17:06:44+05:30  DIRECT          BB  Standard Sea Facing Room   \n",
       "3  2013-02-08T17:06:44+05:30  DIRECT          BB  Standard Sea Facing Room   \n",
       "4  2013-02-08T17:06:44+05:30  DIRECT          BB  Standard Sea Facing Room   \n",
       "\n",
       "  room_id    check_in   check_out  room_rate booking_status  \n",
       "0      ST  2013-07-08  2014-04-15        0.0      COMPLETED  \n",
       "1      1F  2014-03-01  2014-04-30        0.0      CANCELLED  \n",
       "2      1F  2014-03-01  2014-04-30        0.0      CANCELLED  \n",
       "3      1F  2014-03-01  2014-04-30        0.0      CANCELLED  \n",
       "4      1F  2014-03-01  2014-04-30        0.0      CANCELLED  "
      ]
     },
     "execution_count": 1,
     "metadata": {},
     "output_type": "execute_result"
    }
   ],
   "source": [
    "import pandas as pd\n",
    "import numpy as np\n",
    "\n",
    "data = pd.read_csv('/Users/Amulya/Desktop/EventsDataAnalysis/Task2/Results/RequiredDataSet.csv',header=None, names=['booking_date','channel','property_id','room_name','room_id','check_in','check_out','room_rate','booking_status'])\n",
    "data.head()\n"
   ]
  },
  {
   "cell_type": "code",
   "execution_count": 2,
   "metadata": {
    "collapsed": false
   },
   "outputs": [
    {
     "data": {
      "text/plain": [
       "array(['COMPLETED', 'CANCELLED', 'WAITLISTED', 'CONFIRMED'], dtype=object)"
      ]
     },
     "execution_count": 2,
     "metadata": {},
     "output_type": "execute_result"
    }
   ],
   "source": [
    "dat1 = data['booking_status'].unique()\n",
    "dat1"
   ]
  },
  {
   "cell_type": "code",
   "execution_count": 3,
   "metadata": {
    "collapsed": false
   },
   "outputs": [
    {
     "data": {
      "text/plain": [
       "['DIRECT', 'TRAVEL AGENTS', 'CORPORATES', 'OTA']"
      ]
     },
     "execution_count": 3,
     "metadata": {},
     "output_type": "execute_result"
    }
   ],
   "source": [
    "channelList = data['channel'].unique().tolist()\n",
    "channelList "
   ]
  },
  {
   "cell_type": "code",
   "execution_count": 4,
   "metadata": {
    "collapsed": false
   },
   "outputs": [],
   "source": [
    "# res=[]\n",
    "# final=[]\n",
    "# for i in range(len(data)):\n",
    "#     res.append(pd.date_range(data.iloc[i][5] , data.iloc[i][6]))\n",
    "#     final.append(res[i][:-1])\n",
    "    "
   ]
  },
  {
   "cell_type": "code",
   "execution_count": 5,
   "metadata": {
    "collapsed": true
   },
   "outputs": [],
   "source": [
    "# stay = [item for sublist in final for item in sublist]"
   ]
  },
  {
   "cell_type": "code",
   "execution_count": 6,
   "metadata": {
    "collapsed": false
   },
   "outputs": [],
   "source": [
    "# Results = pd.DataFrame(index=np.arange(0, 0),columns=('Booking_date','Booking_status' ,'Channel','Check_in' ,'Check_out', 'Property_id', 'Room_details','Room_name','Room_rate'))\n",
    "# for i in range(len(final)):\n",
    "#     Results=Results.append([data.iloc[i]]*len(final[i]), ignore_index=True)\n"
   ]
  },
  {
   "cell_type": "code",
   "execution_count": 7,
   "metadata": {
    "collapsed": false
   },
   "outputs": [],
   "source": [
    "#Results['Stay_date'] = stay"
   ]
  },
  {
   "cell_type": "code",
   "execution_count": null,
   "metadata": {
    "collapsed": true
   },
   "outputs": [],
   "source": [
    "# Results.to_excel('/Users/Amulya/Desktop/EventsDataAnalysis/Task2/Results/DataSetWithStayDate.xlsx')"
   ]
  },
  {
   "cell_type": "code",
   "execution_count": null,
   "metadata": {
    "collapsed": false
   },
   "outputs": [],
   "source": [
    "Results = pd.read_excel('/Users/Amulya/Desktop/EventsDataAnalysis/Task2/Results/DataSetWithStayDate.xlsx')"
   ]
  },
  {
   "cell_type": "code",
   "execution_count": null,
   "metadata": {
    "collapsed": false
   },
   "outputs": [],
   "source": [
    "Results.head()"
   ]
  },
  {
   "cell_type": "code",
   "execution_count": null,
   "metadata": {
    "collapsed": true
   },
   "outputs": [],
   "source": [
    "scrapyData = pd.read_csv('/Users/Amulya/Desktop/EventsDataAnalysis/Task2/Results/eventData2015.csv',header=None, names=['Day','Date','Event','HolidayIn'])"
   ]
  },
  {
   "cell_type": "code",
   "execution_count": null,
   "metadata": {
    "collapsed": false
   },
   "outputs": [],
   "source": [
    "scrapeResult = scrapyData.dropna()\n"
   ]
  },
  {
   "cell_type": "code",
   "execution_count": null,
   "metadata": {
    "collapsed": false
   },
   "outputs": [],
   "source": [
    "scrapeResult.head()"
   ]
  },
  {
   "cell_type": "code",
   "execution_count": null,
   "metadata": {
    "collapsed": false
   },
   "outputs": [],
   "source": [
    "scrapeResult['Date'] =   '2015-' + scrapeResult['Date'] "
   ]
  },
  {
   "cell_type": "code",
   "execution_count": null,
   "metadata": {
    "collapsed": false
   },
   "outputs": [],
   "source": [
    "scrapeResult.head()"
   ]
  },
  {
   "cell_type": "code",
   "execution_count": null,
   "metadata": {
    "collapsed": false
   },
   "outputs": [],
   "source": [
    "scrapeResult['Date'] = pd.to_datetime(scrapeResult.Date)\n",
    "#pd.to_datetime('02/Jan/2015:08:07:32', format='%d/%b/%Y:%H:%M:%S')"
   ]
  },
  {
   "cell_type": "code",
   "execution_count": null,
   "metadata": {
    "collapsed": false
   },
   "outputs": [],
   "source": [
    "scrapeResult.head()"
   ]
  },
  {
   "cell_type": "code",
   "execution_count": null,
   "metadata": {
    "collapsed": false,
    "scrolled": true
   },
   "outputs": [],
   "source": [
    "scrapeResult = scrapeResult.drop(scrapeResult.index[[1]])\n",
    "scrapeResult.head()"
   ]
  },
  {
   "cell_type": "code",
   "execution_count": null,
   "metadata": {
    "collapsed": false
   },
   "outputs": [],
   "source": [
    "scrapeResult = scrapeResult.reset_index()\n",
    "scrapeResult.head()"
   ]
  },
  {
   "cell_type": "code",
   "execution_count": null,
   "metadata": {
    "collapsed": false
   },
   "outputs": [],
   "source": [
    "del scrapeResult['index']\n",
    "scrapeResult.head()"
   ]
  },
  {
   "cell_type": "code",
   "execution_count": null,
   "metadata": {
    "collapsed": true
   },
   "outputs": [],
   "source": [
    "del scrapeResult['HolidayIn']"
   ]
  },
  {
   "cell_type": "code",
   "execution_count": null,
   "metadata": {
    "collapsed": false
   },
   "outputs": [],
   "source": [
    "scrapeResult.head()"
   ]
  },
  {
   "cell_type": "code",
   "execution_count": null,
   "metadata": {
    "collapsed": false
   },
   "outputs": [],
   "source": [
    "newResults = Results.filter(['Property_id','Stay_date','Booking_status','Room_name','Room_details','Room_rate','Channel'], axis=1)\n",
    "newResults.head()"
   ]
  },
  {
   "cell_type": "code",
   "execution_count": null,
   "metadata": {
    "collapsed": false
   },
   "outputs": [],
   "source": [
    "newResults = newResults[(newResults.Booking_status == 'COMPLETED') | (newResults.Booking_status == 'CONFIRMED')]\n",
    "newResults.head()"
   ]
  },
  {
   "cell_type": "code",
   "execution_count": null,
   "metadata": {
    "collapsed": false
   },
   "outputs": [],
   "source": [
    "newResults = newResults[(newResults.Stay_date >= '2015-01-01') & (newResults.Stay_date <= '2015-12-31')]\n",
    "newResults.head()"
   ]
  },
  {
   "cell_type": "code",
   "execution_count": null,
   "metadata": {
    "collapsed": false
   },
   "outputs": [],
   "source": [
    "newResults['Stay_date'] = pd.to_datetime(newResults.Stay_date)"
   ]
  },
  {
   "cell_type": "code",
   "execution_count": null,
   "metadata": {
    "collapsed": false
   },
   "outputs": [],
   "source": [
    "newResults.head()"
   ]
  },
  {
   "cell_type": "code",
   "execution_count": null,
   "metadata": {
    "collapsed": false
   },
   "outputs": [],
   "source": [
    "scrapeResult.head()"
   ]
  },
  {
   "cell_type": "code",
   "execution_count": null,
   "metadata": {
    "collapsed": true
   },
   "outputs": [],
   "source": [
    "del scrapeResult['Day']"
   ]
  },
  {
   "cell_type": "code",
   "execution_count": null,
   "metadata": {
    "collapsed": false
   },
   "outputs": [],
   "source": [
    "scrapeResult.head()\n"
   ]
  },
  {
   "cell_type": "code",
   "execution_count": null,
   "metadata": {
    "collapsed": true
   },
   "outputs": [],
   "source": [
    "res = pd.merge(left=newResults, left_on='Stay_date',right=scrapeResult, right_on='Date')"
   ]
  },
  {
   "cell_type": "code",
   "execution_count": null,
   "metadata": {
    "collapsed": false
   },
   "outputs": [],
   "source": [
    "res.head()"
   ]
  },
  {
   "cell_type": "code",
   "execution_count": null,
   "metadata": {
    "collapsed": false
   },
   "outputs": [],
   "source": [
    "res1 = res.drop_duplicates()"
   ]
  },
  {
   "cell_type": "code",
   "execution_count": null,
   "metadata": {
    "collapsed": false
   },
   "outputs": [],
   "source": [
    "res1.head()"
   ]
  },
  {
   "cell_type": "code",
   "execution_count": null,
   "metadata": {
    "collapsed": false
   },
   "outputs": [],
   "source": [
    "res1 = res1.reset_index()"
   ]
  },
  {
   "cell_type": "code",
   "execution_count": null,
   "metadata": {
    "collapsed": false
   },
   "outputs": [],
   "source": [
    "res1.head()"
   ]
  },
  {
   "cell_type": "code",
   "execution_count": null,
   "metadata": {
    "collapsed": true
   },
   "outputs": [],
   "source": [
    "del res1['index']"
   ]
  },
  {
   "cell_type": "code",
   "execution_count": null,
   "metadata": {
    "collapsed": false
   },
   "outputs": [],
   "source": [
    "res1.head()"
   ]
  },
  {
   "cell_type": "code",
   "execution_count": null,
   "metadata": {
    "collapsed": true
   },
   "outputs": [],
   "source": [
    "del res1['Date']"
   ]
  },
  {
   "cell_type": "code",
   "execution_count": null,
   "metadata": {
    "collapsed": false
   },
   "outputs": [],
   "source": [
    "\n",
    "res1.head()"
   ]
  },
  {
   "cell_type": "code",
   "execution_count": null,
   "metadata": {
    "collapsed": false
   },
   "outputs": [],
   "source": [
    "res1['room_count'] = res1.groupby(['Property_id','Stay_date','Room_details'])['Room_rate'].transform('count')\n",
    "\n",
    "res2 = res1.drop_duplicates()\n",
    "res2"
   ]
  },
  {
   "cell_type": "code",
   "execution_count": null,
   "metadata": {
    "collapsed": false
   },
   "outputs": [],
   "source": [
    "\n",
    "res2['totalRevenue'] = res2.groupby(['Property_id','Stay_date'])['Room_rate'].transform('sum')\n",
    "res3 = res2.drop_duplicates()\n",
    "res3"
   ]
  },
  {
   "cell_type": "code",
   "execution_count": null,
   "metadata": {
    "collapsed": true
   },
   "outputs": [],
   "source": [
    "res3['ADR'] = res3.apply(lambda res3: (res3['totalRevenue'] / res3['room_count'] ) , axis=1)"
   ]
  },
  {
   "cell_type": "code",
   "execution_count": null,
   "metadata": {
    "collapsed": false
   },
   "outputs": [],
   "source": [
    "res4 =res3\n",
    "res4"
   ]
  },
  {
   "cell_type": "code",
   "execution_count": null,
   "metadata": {
    "collapsed": false
   },
   "outputs": [],
   "source": [
    "\n",
    "res4['directChannelCount'] = res4.groupby(['Channel','Stay_date'])['Channel'].transform(lambda res4: res4[res4.str.contains('DIRECT')].count())"
   ]
  },
  {
   "cell_type": "code",
   "execution_count": null,
   "metadata": {
    "collapsed": false
   },
   "outputs": [],
   "source": [
    "res4"
   ]
  },
  {
   "cell_type": "code",
   "execution_count": null,
   "metadata": {
    "collapsed": true
   },
   "outputs": [],
   "source": [
    "res4['travelAgentsChannelCount'] = res4.groupby(['Channel','Stay_date'])['Channel'].transform(lambda res4: res4[res4.str.contains('TRAVEL AGENTS')].count())"
   ]
  },
  {
   "cell_type": "code",
   "execution_count": null,
   "metadata": {
    "collapsed": false
   },
   "outputs": [],
   "source": [
    "res4"
   ]
  },
  {
   "cell_type": "code",
   "execution_count": null,
   "metadata": {
    "collapsed": true
   },
   "outputs": [],
   "source": [
    "res4['corporatesChannelCount'] = res4.groupby(['Channel','Stay_date'])['Channel'].transform(lambda res4: res4[res4.str.contains('CORPORATES')].count())"
   ]
  },
  {
   "cell_type": "code",
   "execution_count": null,
   "metadata": {
    "collapsed": false
   },
   "outputs": [],
   "source": [
    "res4"
   ]
  },
  {
   "cell_type": "code",
   "execution_count": null,
   "metadata": {
    "collapsed": true
   },
   "outputs": [],
   "source": [
    "res4['OTAChannelCount'] = res4.groupby(['Channel','Stay_date'])['Channel'].transform(lambda res4: res4[res4.str.contains('OTA')].count())"
   ]
  },
  {
   "cell_type": "code",
   "execution_count": null,
   "metadata": {
    "collapsed": false
   },
   "outputs": [],
   "source": [
    "res4"
   ]
  },
  {
   "cell_type": "code",
   "execution_count": null,
   "metadata": {
    "collapsed": false
   },
   "outputs": [],
   "source": [
    "# len(res4[res4.channel==\"OTA\"])\n",
    "del res4['Booking_status']"
   ]
  },
  {
   "cell_type": "code",
   "execution_count": null,
   "metadata": {
    "collapsed": true
   },
   "outputs": [],
   "source": [
    "del res4['Room_name']"
   ]
  },
  {
   "cell_type": "code",
   "execution_count": null,
   "metadata": {
    "collapsed": true
   },
   "outputs": [],
   "source": [
    "del res4['Room_details']"
   ]
  },
  {
   "cell_type": "code",
   "execution_count": null,
   "metadata": {
    "collapsed": true
   },
   "outputs": [],
   "source": [
    "del res4['Room_rate']"
   ]
  },
  {
   "cell_type": "code",
   "execution_count": null,
   "metadata": {
    "collapsed": false
   },
   "outputs": [],
   "source": [
    "res4"
   ]
  },
  {
   "cell_type": "code",
   "execution_count": null,
   "metadata": {
    "collapsed": false
   },
   "outputs": [],
   "source": [
    "res5 = res4.drop_duplicates()\n",
    "res5"
   ]
  },
  {
   "cell_type": "code",
   "execution_count": null,
   "metadata": {
    "collapsed": false
   },
   "outputs": [],
   "source": [
    "temp = res5['Property_id'].unique()\n",
    "type(temp)"
   ]
  },
  {
   "cell_type": "code",
   "execution_count": null,
   "metadata": {
    "collapsed": false
   },
   "outputs": [],
   "source": [
    "for i in range(len(temp)):\n",
    "    property_id = res5[(res5.Property_id == temp[i])]\n",
    "    property_id.to_excel('C:/Users/Amulya/Desktop/EventsDataAnalysis/Task2/Results/GroupByPropertyID/'+ temp[i] +'.xlsx')"
   ]
  },
  {
   "cell_type": "code",
   "execution_count": null,
   "metadata": {
    "collapsed": false
   },
   "outputs": [],
   "source": [
    "# test = pd.read_excel('C:/Users/Amulya/Desktop/EventsDataAnalysis/Task2/Results/GroupByPropertyID/BB.xlsx')\n",
    "# test = test.reset_index()\n",
    "# test = test.sort(columns = 'Stay_date', ascending=True)\n",
    "# test"
   ]
  },
  {
   "cell_type": "code",
   "execution_count": null,
   "metadata": {
    "collapsed": false
   },
   "outputs": [],
   "source": [
    "# Our numerical workhorses\n",
    "import numpy as np\n",
    "import pandas as pd\n",
    "\n",
    "# Import Bokeh modules for interactive plotting\n",
    "import bokeh.charts\n",
    "import bokeh.charts.utils\n",
    "import bokeh.io\n",
    "import bokeh.models\n",
    "import bokeh.palettes\n",
    "import bokeh.plotting\n",
    "\n",
    "# Display graphics in this notebook\n",
    "bokeh.io.output_notebook()\n"
   ]
  },
  {
   "cell_type": "code",
   "execution_count": null,
   "metadata": {
    "collapsed": false
   },
   "outputs": [],
   "source": [
    "bokeh.__version__"
   ]
  },
  {
   "cell_type": "code",
   "execution_count": null,
   "metadata": {
    "collapsed": true
   },
   "outputs": [],
   "source": [
    "p = bokeh.charts.Line(df_fish2, x='zeit', y='activity', color='firebrick')\n",
    "\n",
    "# Display it\n",
    "bokeh.io.show(p)"
   ]
  },
  {
   "cell_type": "code",
   "execution_count": null,
   "metadata": {
    "collapsed": false
   },
   "outputs": [],
   "source": [
    "read_property_id_bb = pd.read_excel('C:/Users/Amulya/Desktop/EventsDataAnalysis/Task2/Results/GroupByPropertyID/BB.xlsx')\n",
    "BB = bokeh.charts.Line(read_property_id_bb,x='Stay_date', y='totalRevenue',color='firebrick')\n",
    "bokeh.io.show(BB)"
   ]
  },
  {
   "cell_type": "code",
   "execution_count": null,
   "metadata": {
    "collapsed": false
   },
   "outputs": [],
   "source": [
    "from bokeh.charts import Line, show, output_notebook\n",
    "import pandas as pd\n",
    "\n",
    "output_notebook()\n",
    "\n",
    "\n",
    "Results1 = pd.read_excel('C:/Users/Amulya/Desktop/EventsDataAnalysis/Task2/Results/GroupByPropertyID/BB.xlsx')\n",
    "data_df = Results1.filter(['Stay_date'])\n",
    "\n"
   ]
  },
  {
   "cell_type": "code",
   "execution_count": null,
   "metadata": {
    "collapsed": false
   },
   "outputs": [],
   "source": []
  },
  {
   "cell_type": "code",
   "execution_count": null,
   "metadata": {
    "collapsed": false
   },
   "outputs": [],
   "source": [
    "res"
   ]
  },
  {
   "cell_type": "code",
   "execution_count": null,
   "metadata": {
    "collapsed": false
   },
   "outputs": [],
   "source": [
    "# from bokeh.charts import Bar, show, output_notebook\n",
    "# import pandas as pd\n",
    "\n",
    "# output_notebook()\n",
    "\n",
    "\n",
    "# Results1 = pd.read_excel('C:/Users/Amulya/Desktop/EventsDataAnalysis/Task2/Results/GroupByPropertyID/BB.xlsx')\n",
    "# data_df = Results1.filter(['Stay_date','totalRevenue','Event'], axis=1)\n",
    "\n",
    "# output_notebook()\n",
    "\n",
    "# data_dict = { 'numstudents' : [43, 22, 1, \n",
    "#                                2, 54, 9, \n",
    "#                                18, 10, 5,\n",
    "#                                14, 12, 3,\n",
    "#                                15, 11, 1,\n",
    "#                                14, 8, 2],\n",
    "#               'language' : ['Matlab','Matlab','Matlab', \n",
    "#                             'C/C++','C/C++','C/C++', \n",
    "#                             'Java','Java','Java',\n",
    "#                             'HTML/CSS','HTML/CSS','HTML/CSS',\n",
    "#                             'Python','Python','Python',\n",
    "#                             'Javascript','Javascript','Javascript'],\n",
    "#               'skill_level' : ['Beginner','Intermediate','Expert', \n",
    "#                                'Beginner','Intermediate','Expert', \n",
    "#                                'Beginner','Intermediate','Expert',\n",
    "#                                'Beginner','Intermediate','Expert',\n",
    "#                                'Beginner','Intermediate','Expert',\n",
    "#                                'Beginner','Intermediate','Expert']\n",
    "#             }\n",
    "\n",
    "# data_df = pd.DataFrame(data_dict)\n",
    "\n",
    "# p = Bar(data_df, \n",
    "#         values='numstudents', \n",
    "#         label='language', \n",
    "#         stack='skill_level',\n",
    "#         legend='top_right',\n",
    "#         title=\"ECEn 360 Student Self-Reported Programming Skills\",\n",
    "#         tooltips=[('Students:', '@numstudents'), ('Language:', '@language')]\n",
    "#        )\n",
    "# show(p)"
   ]
  },
  {
   "cell_type": "code",
   "execution_count": null,
   "metadata": {
    "collapsed": false
   },
   "outputs": [],
   "source": [
    "from bokeh.charts import Line, show, output_notebook\n",
    "import pandas as pd\n",
    "\n",
    "output_notebook()\n",
    "\n",
    "\n",
    "Results1 = pd.read_excel('C:/Users/Amulya/Desktop/EventsDataAnalysis/Task2/Results/GroupByPropertyID/BB.xlsx')\n",
    "data_df = Results1.filter(['Stay_date','totalRevenue','Event'], axis=1)\n",
    "#read_property_id_bb.plot(kind='line',title='Plot of StayDate vs TotalRevenue for PropertyID BB',x=['Stay_date'], y=['totalRevenue'],color='g',figsize=(10,6),subplots=True) \n",
    "\n",
    "\n",
    "p = Line(data_df, \n",
    "        xlabel='Stay_date', \n",
    "        ylabel='totalRevenue', \n",
    "        #stack='skill_level',\n",
    "        legend='top_right',\n",
    "        title=\"ECEn 360 Student Self-Reported Programming Skills\",\n",
    "        tooltips=[('Event:', '@Event'), ('Date:', '@Stay_date')]\n",
    "       )\n",
    "show(p)"
   ]
  },
  {
   "cell_type": "code",
   "execution_count": null,
   "metadata": {
    "collapsed": true
   },
   "outputs": [],
   "source": []
  },
  {
   "cell_type": "code",
   "execution_count": null,
   "metadata": {
    "collapsed": true
   },
   "outputs": [],
   "source": []
  },
  {
   "cell_type": "code",
   "execution_count": null,
   "metadata": {
    "collapsed": true
   },
   "outputs": [],
   "source": []
  },
  {
   "cell_type": "code",
   "execution_count": null,
   "metadata": {
    "collapsed": true
   },
   "outputs": [],
   "source": []
  },
  {
   "cell_type": "code",
   "execution_count": null,
   "metadata": {
    "collapsed": true
   },
   "outputs": [],
   "source": []
  },
  {
   "cell_type": "code",
   "execution_count": null,
   "metadata": {
    "collapsed": true
   },
   "outputs": [],
   "source": []
  },
  {
   "cell_type": "code",
   "execution_count": null,
   "metadata": {
    "collapsed": false
   },
   "outputs": [],
   "source": [
    "%matplotlib inline\n",
    "read_property_id_bb = pd.read_excel('C:/Users/Amulya/Desktop/EventsDataAnalysis/Task2/Results/GroupByPropertyID/BB.xlsx')\n",
    "read_property_id_bb.plot(kind='line',title='Plot of StayDate vs TotalRevenue for PropertyID BB',x=['Stay_date'], y=['totalRevenue'],color='g',figsize=(10,6),subplots=True) "
   ]
  },
  {
   "cell_type": "code",
   "execution_count": null,
   "metadata": {
    "collapsed": false
   },
   "outputs": [],
   "source": [
    "read_property_id_bb.plot(kind='line',title='Plot of StayDate vs ADR for PropertyID BB' ,x=['Stay_date'], y=['ADR'],color='g',figsize=(10,6),subplots=True)"
   ]
  },
  {
   "cell_type": "code",
   "execution_count": null,
   "metadata": {
    "collapsed": false
   },
   "outputs": [],
   "source": [
    "read_property_id_bg = pd.read_excel('C:/Users/Amulya/Desktop/EventsDataAnalysis/Task2/Results/GroupByPropertyID/BG.xlsx')\n",
    "read_property_id_bg.plot(kind='line',title='Plot of StayDate vs TotalRevenue for PropertyID BG' ,x=['Stay_date'], y=['totalRevenue'],color='g',figsize=(10,6),subplots=True)"
   ]
  },
  {
   "cell_type": "code",
   "execution_count": null,
   "metadata": {
    "collapsed": false
   },
   "outputs": [],
   "source": [
    "read_property_id_bg.plot(kind='line',title='Plot of StayDate vs ADR for PropertyID BG', x=['Stay_date'], y=['ADR'],color='g',figsize=(10,6),subplots=True)"
   ]
  },
  {
   "cell_type": "code",
   "execution_count": null,
   "metadata": {
    "collapsed": false
   },
   "outputs": [],
   "source": [
    "read_property_id_ch = pd.read_excel('C:/Users/Amulya/Desktop/EventsDataAnalysis/Task2/Results/GroupByPropertyID/CH.xlsx')\n",
    "read_property_id_ch.plot(kind='line',title='Plot of StayDate vs TotalRevenue for PropertyID CH', x=['Stay_date'], y=['totalRevenue'],color='g',figsize=(10,6),subplots=True)"
   ]
  },
  {
   "cell_type": "code",
   "execution_count": null,
   "metadata": {
    "collapsed": false
   },
   "outputs": [],
   "source": [
    "read_property_id_ch.plot(kind='line',title='Plot of StayDate vs ADR for PropertyID CH', x=['Stay_date'], y=['ADR'],color='g',figsize=(10,6),subplots=True)"
   ]
  },
  {
   "cell_type": "code",
   "execution_count": null,
   "metadata": {
    "collapsed": false
   },
   "outputs": [],
   "source": [
    "read_property_id_cl = pd.read_excel('C:/Users/Amulya/Desktop/EventsDataAnalysis/Task2/Results/GroupByPropertyID/CL.xlsx')\n",
    "read_property_id_cl.plot(kind='line',title='Plot of StayDate vs TotalRevenue for PropertyID CL', x=['Stay_date'], y=['totalRevenue'],color='g',figsize=(10,6),subplots=True)"
   ]
  },
  {
   "cell_type": "code",
   "execution_count": null,
   "metadata": {
    "collapsed": false
   },
   "outputs": [],
   "source": [
    "read_property_id_cl.plot(kind='line',title='Plot of StayDate vs ADR for PropertyID CL', x=['Stay_date'], y=['ADR'],color='g',figsize=(10,6),subplots=True)"
   ]
  },
  {
   "cell_type": "code",
   "execution_count": null,
   "metadata": {
    "collapsed": false
   },
   "outputs": [],
   "source": [
    "read_property_id_cp = pd.read_excel('C:/Users/Amulya/Desktop/EventsDataAnalysis/Task2/Results/GroupByPropertyID/CP.xlsx')\n",
    "read_property_id_cp.plot(kind='line',title='Plot of StayDate vs TotalRevenue for PropertyID CP', x=['Stay_date'], y=['totalRevenue'],color='g',figsize=(10,6),subplots=True)"
   ]
  },
  {
   "cell_type": "code",
   "execution_count": null,
   "metadata": {
    "collapsed": false
   },
   "outputs": [],
   "source": [
    "read_property_id_cp.plot(kind='line',title='Plot of StayDate vs ADR for PropertyID CP', x=['Stay_date'], y=['ADR'],color='g',figsize=(10,6),subplots=True)"
   ]
  },
  {
   "cell_type": "code",
   "execution_count": null,
   "metadata": {
    "collapsed": false
   },
   "outputs": [],
   "source": [
    "read_property_id_eb = pd.read_excel('C:/Users/Amulya/Desktop/EventsDataAnalysis/Task2/Results/GroupByPropertyID/EB.xlsx')\n",
    "read_property_id_eb.plot(kind='line',title='Plot of StayDate vs TotalRevenue for PropertyID EB', x=['Stay_date'], y=['totalRevenue'],color='g',figsize=(10,6),subplots=True)"
   ]
  },
  {
   "cell_type": "code",
   "execution_count": null,
   "metadata": {
    "collapsed": false
   },
   "outputs": [],
   "source": [
    "read_property_id_eb.plot(kind='line',title='Plot of StayDate vs ADR for PropertyID EB', x=['Stay_date'], y=['totalRevenue'],color='g',figsize=(10,6),subplots=True)"
   ]
  },
  {
   "cell_type": "code",
   "execution_count": null,
   "metadata": {
    "collapsed": false
   },
   "outputs": [],
   "source": [
    "read_property_id_gf = pd.read_excel('C:/Users/Amulya/Desktop/EventsDataAnalysis/Task2/Results/GroupByPropertyID/GF.xlsx')\n",
    "read_property_id_gf.plot(kind='line',title='Plot of StayDate vs TotalRevenue for PropertyID GF', x=['Stay_date'], y=['totalRevenue'],color='g',figsize=(10,6),subplots=True)"
   ]
  },
  {
   "cell_type": "code",
   "execution_count": null,
   "metadata": {
    "collapsed": false
   },
   "outputs": [],
   "source": [
    "read_property_id_kk = pd.read_excel('C:/Users/Amulya/Desktop/EventsDataAnalysis/Task2/Results/GroupByPropertyID/KK.xlsx')\n",
    "read_property_id_kk.plot(kind='line',title='Plot of StayDate vs TotalRevenue for PropertyID KK', x=['Stay_date'], y=['totalRevenue'],color='g',figsize=(10,6),subplots=True)"
   ]
  },
  {
   "cell_type": "code",
   "execution_count": null,
   "metadata": {
    "collapsed": false
   },
   "outputs": [],
   "source": [
    "read_property_id_kk.plot(kind='line',title='Plot of StayDate vs ADR for PropertyID KK', x=['Stay_date'], y=['totalRevenue'],color='g',figsize=(10,6),subplots=True)"
   ]
  },
  {
   "cell_type": "code",
   "execution_count": null,
   "metadata": {
    "collapsed": false
   },
   "outputs": [],
   "source": [
    "read_property_id_kr = pd.read_excel('C:/Users/Amulya/Desktop/EventsDataAnalysis/Task2/Results/GroupByPropertyID/KR.xlsx')\n",
    "read_property_id_kr.plot(kind='line',title='Plot of StayDate vs TotalRevenue for PropertyID KR', x=['Stay_date'], y=['totalRevenue'],color='g',figsize=(10,6),subplots=True)"
   ]
  },
  {
   "cell_type": "code",
   "execution_count": null,
   "metadata": {
    "collapsed": false
   },
   "outputs": [],
   "source": [
    "read_property_id_kr.plot(kind='line',title='Plot of StayDate vs ADR for PropertyID KR', x=['Stay_date'], y=['totalRevenue'],color='g',figsize=(10,6),subplots=True)"
   ]
  },
  {
   "cell_type": "code",
   "execution_count": null,
   "metadata": {
    "collapsed": false
   },
   "outputs": [],
   "source": [
    "read_property_id_mb = pd.read_excel('C:/Users/Amulya/Desktop/EventsDataAnalysis/Task2/Results/GroupByPropertyID/MB.xlsx')\n",
    "read_property_id_mb.plot(kind='line',title='Plot of StayDate vs TotalRevenue for PropertyID MB', x=['Stay_date'], y=['totalRevenue'],color='g',figsize=(10,6),subplots=True)"
   ]
  },
  {
   "cell_type": "code",
   "execution_count": null,
   "metadata": {
    "collapsed": false
   },
   "outputs": [],
   "source": [
    "read_property_id_mb.plot(kind='line', title='Plot of StayDate vs ADR for PropertyID MB',x=['Stay_date'], y=['totalRevenue'],color='g',figsize=(10,6),subplots=True)"
   ]
  },
  {
   "cell_type": "code",
   "execution_count": null,
   "metadata": {
    "collapsed": false
   },
   "outputs": [],
   "source": [
    "read_property_id_mm = pd.read_excel('C:/Users/Amulya/Desktop/EventsDataAnalysis/Task2/Results/GroupByPropertyID/MM.xlsx')\n",
    "read_property_id_mm.plot(kind='line',title='Plot of StayDate vs TotalRevenue for PropertyID MM', x=['Stay_date'], y=['totalRevenue'],color='g',figsize=(10,6),subplots=True)"
   ]
  },
  {
   "cell_type": "code",
   "execution_count": null,
   "metadata": {
    "collapsed": false
   },
   "outputs": [],
   "source": [
    "read_property_id_mm.plot(kind='line',title='Plot of StayDate vs ADR for PropertyID MM', x=['Stay_date'], y=['totalRevenue'],color='g',figsize=(10,6),subplots=True)"
   ]
  },
  {
   "cell_type": "code",
   "execution_count": null,
   "metadata": {
    "collapsed": false
   },
   "outputs": [],
   "source": [
    "read_property_id_sc = pd.read_excel('C:/Users/Amulya/Desktop/EventsDataAnalysis/Task2/Results/GroupByPropertyID/SC.xlsx')\n",
    "read_property_id_sc.plot(kind='line',title='Plot of StayDate vs TotalRevenue for PropertyID SC', x=['Stay_date'], y=['totalRevenue'],color='g',figsize=(10,6),subplots=True)"
   ]
  },
  {
   "cell_type": "code",
   "execution_count": null,
   "metadata": {
    "collapsed": false
   },
   "outputs": [],
   "source": [
    "read_property_id_sc.plot(kind='line',title='Plot of StayDate vs ADR for PropertyID SC', x=['Stay_date'], y=['totalRevenue'],color='g',figsize=(10,6),subplots=True)"
   ]
  },
  {
   "cell_type": "code",
   "execution_count": null,
   "metadata": {
    "collapsed": false
   },
   "outputs": [],
   "source": [
    "read_property_id_ss = pd.read_excel('C:/Users/Amulya/Desktop/EventsDataAnalysis/Task2/Results/GroupByPropertyID/SS.xlsx')\n",
    "read_property_id_ss.plot(kind='line',title='Plot of StayDate vs TotalRevenue for PropertyID SS', x=['Stay_date'], y=['totalRevenue'],color='g',figsize=(10,6),subplots=True)"
   ]
  },
  {
   "cell_type": "code",
   "execution_count": null,
   "metadata": {
    "collapsed": false
   },
   "outputs": [],
   "source": [
    "read_property_id_ss.plot(kind='line',title='Plot of StayDate vs ADR for PropertyID SS', x=['Stay_date'], y=['totalRevenue'],color='g',figsize=(10,6),subplots=True)"
   ]
  },
  {
   "cell_type": "code",
   "execution_count": null,
   "metadata": {
    "collapsed": false
   },
   "outputs": [],
   "source": [
    "read_property_id_sv = pd.read_excel('C:/Users/Amulya/Desktop/EventsDataAnalysis/Task2/Results/GroupByPropertyID/SV.xlsx')\n",
    "read_property_id_sv.plot(kind='line',title='Plot of StayDate vs TotalRevenue for PropertyID SV', x=['Stay_date'], y=['totalRevenue'],color='g',figsize=(10,6),subplots=True)"
   ]
  },
  {
   "cell_type": "code",
   "execution_count": null,
   "metadata": {
    "collapsed": false
   },
   "outputs": [],
   "source": [
    "read_property_id_sv.plot(kind='line',title='Plot of StayDate vs ADR for PropertyID SV', x=['Stay_date'], y=['totalRevenue'],color='g',figsize=(10,6),subplots=True)"
   ]
  },
  {
   "cell_type": "code",
   "execution_count": null,
   "metadata": {
    "collapsed": false
   },
   "outputs": [],
   "source": [
    "read_property_id_vm = pd.read_excel('C:/Users/Amulya/Desktop/EventsDataAnalysis/Task2/Results/GroupByPropertyID/VM.xlsx')\n",
    "read_property_id_vm.plot(kind='line',title='Plot of StayDate vs TotalRevenue for PropertyID VM', x=['Stay_date'], y=['totalRevenue'],color='g',figsize=(10,6),subplots=True)"
   ]
  },
  {
   "cell_type": "code",
   "execution_count": null,
   "metadata": {
    "collapsed": false
   },
   "outputs": [],
   "source": [
    "read_property_id_vm.plot(kind='line', title='Plot of StayDate vs ADR for PropertyID VM',x=['Stay_date'], y=['totalRevenue'],color='g',figsize=(10,6),subplots=True)"
   ]
  },
  {
   "cell_type": "code",
   "execution_count": null,
   "metadata": {
    "collapsed": false
   },
   "outputs": [],
   "source": [
    "read_property_id_vv = pd.read_excel('C:/Users/Amulya/Desktop/EventsDataAnalysis/Task2/Results/GroupByPropertyID/VV.xlsx')\n",
    "read_property_id_vv.plot(kind='line',title='Plot of StayDate vs TotalRevenue for PropertyID VV', x=['Stay_date'], y=['totalRevenue'],color='g',figsize=(10,6),subplots=True)"
   ]
  },
  {
   "cell_type": "code",
   "execution_count": null,
   "metadata": {
    "collapsed": false
   },
   "outputs": [],
   "source": [
    "read_property_id_vv.plot(kind='line',title='Plot of StayDate vs ADR for PropertyID VV', x=['Stay_date'], y=['totalRevenue'],color='g',figsize=(10,6),subplots=True)"
   ]
  },
  {
   "cell_type": "code",
   "execution_count": null,
   "metadata": {
    "collapsed": true
   },
   "outputs": [],
   "source": []
  }
 ],
 "metadata": {
  "anaconda-cloud": {},
  "kernelspec": {
   "display_name": "Python [default]",
   "language": "python",
   "name": "python3"
  },
  "language_info": {
   "codemirror_mode": {
    "name": "ipython",
    "version": 3
   },
   "file_extension": ".py",
   "mimetype": "text/x-python",
   "name": "python",
   "nbconvert_exporter": "python",
   "pygments_lexer": "ipython3",
   "version": "3.5.2"
  }
 },
 "nbformat": 4,
 "nbformat_minor": 1
}
