{
 "cells": [
  {
   "cell_type": "code",
   "execution_count": 1,
   "metadata": {
    "collapsed": false
   },
   "outputs": [],
   "source": [
    "import pandas as pd\n",
    "import numpy as np\n",
    "\n",
    "data = pd.read_csv('Results/RequiredDataSet.csv',header=None, names=['booking_date','channel','property_id','room_name','room_id','check_in','check_out','room_rate','booking_status'])\n",
    "# data.head()\n"
   ]
  },
  {
   "cell_type": "code",
   "execution_count": 2,
   "metadata": {
    "collapsed": false
   },
   "outputs": [],
   "source": [
    "Results = pd.read_excel('Results/DataSetWithStayDate.xlsx')\n",
    "del Results['Old_Room_rate']\n",
    "# Results.head()"
   ]
  },
  {
   "cell_type": "code",
   "execution_count": 63,
   "metadata": {
    "collapsed": true
   },
   "outputs": [],
   "source": [
    "scrapyData = pd.read_csv('Results/eventData2015.csv',header=None, names=['Day','Date','Event','HolidayIn'])\n",
    "scrapeResult = scrapyData.dropna()\n",
    "# scrapeResult.head()"
   ]
  },
  {
   "cell_type": "code",
   "execution_count": 64,
   "metadata": {
    "collapsed": true
   },
   "outputs": [],
   "source": [
    "# to avoid \"SettingWithCopyWarning\"\n",
    "pd.options.mode.chained_assignment = None  # default='warn'"
   ]
  },
  {
   "cell_type": "code",
   "execution_count": 65,
   "metadata": {
    "collapsed": false
   },
   "outputs": [],
   "source": [
    "scrapeResult['Date'] =   '2015-' + scrapeResult['Date'] \n",
    "# scrapeResult.head()"
   ]
  },
  {
   "cell_type": "code",
   "execution_count": 66,
   "metadata": {
    "collapsed": false
   },
   "outputs": [],
   "source": [
    "scrapeResult['Date'] = pd.to_datetime(scrapeResult.Date)\n",
    "# scrapeResult.head()"
   ]
  },
  {
   "cell_type": "code",
   "execution_count": 67,
   "metadata": {
    "collapsed": true
   },
   "outputs": [],
   "source": [
    "del scrapeResult['HolidayIn']\n",
    "del scrapeResult['Day']\n",
    "# scrapeResult.head()"
   ]
  },
  {
   "cell_type": "code",
   "execution_count": 68,
   "metadata": {
    "collapsed": false
   },
   "outputs": [],
   "source": [
    "newResults = Results.filter(['Property_id','Stay_date','Booking_status','Room_rate'], axis=1)\n",
    "# newResults.head()"
   ]
  },
  {
   "cell_type": "code",
   "execution_count": 69,
   "metadata": {
    "collapsed": false
   },
   "outputs": [],
   "source": [
    "newResults = newResults[(newResults.Booking_status == 'COMPLETED') | (newResults.Booking_status == 'CONFIRMED')]\n",
    "# newResults"
   ]
  },
  {
   "cell_type": "code",
   "execution_count": 70,
   "metadata": {
    "collapsed": false
   },
   "outputs": [],
   "source": [
    "newResults = newResults[(newResults.Stay_date >= '2015-01-01') & (newResults.Stay_date <= '2015-12-31')]\n",
    "# newResults.head()"
   ]
  },
  {
   "cell_type": "code",
   "execution_count": 71,
   "metadata": {
    "collapsed": false
   },
   "outputs": [],
   "source": [
    "newResults['Stay_date'] = pd.to_datetime(newResults.Stay_date)\n",
    "# newResults.head()"
   ]
  },
  {
   "cell_type": "code",
   "execution_count": 72,
   "metadata": {
    "collapsed": true
   },
   "outputs": [],
   "source": [
    "res = pd.merge(left=newResults, left_on='Stay_date',right=scrapeResult, right_on='Date')\n",
    "# res1 = res.drop_duplicates()\n",
    "res1 = res.reset_index()\n",
    "del res1['index']\n",
    "del res1['Date']\n",
    "# res1.head()"
   ]
  },
  {
   "cell_type": "code",
   "execution_count": 73,
   "metadata": {
    "collapsed": false
   },
   "outputs": [
    {
     "data": {
      "text/html": [
       "<div>\n",
       "<table border=\"1\" class=\"dataframe\">\n",
       "  <thead>\n",
       "    <tr style=\"text-align: right;\">\n",
       "      <th></th>\n",
       "      <th>Property_id</th>\n",
       "      <th>Stay_date</th>\n",
       "      <th>Booking_status</th>\n",
       "      <th>Room_rate</th>\n",
       "      <th>Event</th>\n",
       "      <th>room_count</th>\n",
       "    </tr>\n",
       "  </thead>\n",
       "  <tbody>\n",
       "    <tr>\n",
       "      <th>0</th>\n",
       "      <td>BB</td>\n",
       "      <td>2015-01-01</td>\n",
       "      <td>COMPLETED</td>\n",
       "      <td>39500.00</td>\n",
       "      <td>New Years Day</td>\n",
       "      <td>26</td>\n",
       "    </tr>\n",
       "    <tr>\n",
       "      <th>2</th>\n",
       "      <td>KR</td>\n",
       "      <td>2015-01-01</td>\n",
       "      <td>COMPLETED</td>\n",
       "      <td>19387.25</td>\n",
       "      <td>New Years Day</td>\n",
       "      <td>12</td>\n",
       "    </tr>\n",
       "    <tr>\n",
       "      <th>3</th>\n",
       "      <td>SS</td>\n",
       "      <td>2015-01-01</td>\n",
       "      <td>COMPLETED</td>\n",
       "      <td>20130.00</td>\n",
       "      <td>New Years Day</td>\n",
       "      <td>23</td>\n",
       "    </tr>\n",
       "    <tr>\n",
       "      <th>4</th>\n",
       "      <td>KK</td>\n",
       "      <td>2015-01-01</td>\n",
       "      <td>COMPLETED</td>\n",
       "      <td>447.35</td>\n",
       "      <td>New Years Day</td>\n",
       "      <td>13</td>\n",
       "    </tr>\n",
       "    <tr>\n",
       "      <th>5</th>\n",
       "      <td>SS</td>\n",
       "      <td>2015-01-01</td>\n",
       "      <td>COMPLETED</td>\n",
       "      <td>31008.66</td>\n",
       "      <td>New Years Day</td>\n",
       "      <td>23</td>\n",
       "    </tr>\n",
       "  </tbody>\n",
       "</table>\n",
       "</div>"
      ],
      "text/plain": [
       "  Property_id  Stay_date Booking_status  Room_rate          Event  room_count\n",
       "0          BB 2015-01-01      COMPLETED   39500.00  New Years Day          26\n",
       "2          KR 2015-01-01      COMPLETED   19387.25  New Years Day          12\n",
       "3          SS 2015-01-01      COMPLETED   20130.00  New Years Day          23\n",
       "4          KK 2015-01-01      COMPLETED     447.35  New Years Day          13\n",
       "5          SS 2015-01-01      COMPLETED   31008.66  New Years Day          23"
      ]
     },
     "execution_count": 73,
     "metadata": {},
     "output_type": "execute_result"
    }
   ],
   "source": [
    "res1['room_count'] = res1.groupby(['Property_id','Stay_date'])['Room_rate'].transform('count')\n",
    "res2 = res1.drop_duplicates()\n",
    "res2.head()"
   ]
  },
  {
   "cell_type": "code",
   "execution_count": 74,
   "metadata": {
    "collapsed": false
   },
   "outputs": [
    {
     "data": {
      "text/html": [
       "<div>\n",
       "<table border=\"1\" class=\"dataframe\">\n",
       "  <thead>\n",
       "    <tr style=\"text-align: right;\">\n",
       "      <th></th>\n",
       "      <th>Property_id</th>\n",
       "      <th>Stay_date</th>\n",
       "      <th>Booking_status</th>\n",
       "      <th>Room_rate</th>\n",
       "      <th>Event</th>\n",
       "      <th>room_count</th>\n",
       "      <th>totalRevenue</th>\n",
       "    </tr>\n",
       "  </thead>\n",
       "  <tbody>\n",
       "    <tr>\n",
       "      <th>0</th>\n",
       "      <td>BB</td>\n",
       "      <td>2015-01-01</td>\n",
       "      <td>COMPLETED</td>\n",
       "      <td>39500.00</td>\n",
       "      <td>New Years Day</td>\n",
       "      <td>26</td>\n",
       "      <td>226229.66</td>\n",
       "    </tr>\n",
       "    <tr>\n",
       "      <th>2</th>\n",
       "      <td>KR</td>\n",
       "      <td>2015-01-01</td>\n",
       "      <td>COMPLETED</td>\n",
       "      <td>19387.25</td>\n",
       "      <td>New Years Day</td>\n",
       "      <td>12</td>\n",
       "      <td>170272.65</td>\n",
       "    </tr>\n",
       "    <tr>\n",
       "      <th>3</th>\n",
       "      <td>SS</td>\n",
       "      <td>2015-01-01</td>\n",
       "      <td>COMPLETED</td>\n",
       "      <td>20130.00</td>\n",
       "      <td>New Years Day</td>\n",
       "      <td>23</td>\n",
       "      <td>293631.32</td>\n",
       "    </tr>\n",
       "    <tr>\n",
       "      <th>4</th>\n",
       "      <td>KK</td>\n",
       "      <td>2015-01-01</td>\n",
       "      <td>COMPLETED</td>\n",
       "      <td>447.35</td>\n",
       "      <td>New Years Day</td>\n",
       "      <td>13</td>\n",
       "      <td>53759.07</td>\n",
       "    </tr>\n",
       "    <tr>\n",
       "      <th>5</th>\n",
       "      <td>SS</td>\n",
       "      <td>2015-01-01</td>\n",
       "      <td>COMPLETED</td>\n",
       "      <td>31008.66</td>\n",
       "      <td>New Years Day</td>\n",
       "      <td>23</td>\n",
       "      <td>293631.32</td>\n",
       "    </tr>\n",
       "  </tbody>\n",
       "</table>\n",
       "</div>"
      ],
      "text/plain": [
       "  Property_id  Stay_date Booking_status  Room_rate          Event  room_count  \\\n",
       "0          BB 2015-01-01      COMPLETED   39500.00  New Years Day          26   \n",
       "2          KR 2015-01-01      COMPLETED   19387.25  New Years Day          12   \n",
       "3          SS 2015-01-01      COMPLETED   20130.00  New Years Day          23   \n",
       "4          KK 2015-01-01      COMPLETED     447.35  New Years Day          13   \n",
       "5          SS 2015-01-01      COMPLETED   31008.66  New Years Day          23   \n",
       "\n",
       "   totalRevenue  \n",
       "0     226229.66  \n",
       "2     170272.65  \n",
       "3     293631.32  \n",
       "4      53759.07  \n",
       "5     293631.32  "
      ]
     },
     "execution_count": 74,
     "metadata": {},
     "output_type": "execute_result"
    }
   ],
   "source": [
    "res2['totalRevenue'] = res2.groupby(['Property_id','Stay_date'])['Room_rate'].transform('sum')\n",
    "res3 = res2.drop_duplicates()\n",
    "res3.head()"
   ]
  },
  {
   "cell_type": "code",
   "execution_count": 75,
   "metadata": {
    "collapsed": false
   },
   "outputs": [
    {
     "data": {
      "text/html": [
       "<div>\n",
       "<table border=\"1\" class=\"dataframe\">\n",
       "  <thead>\n",
       "    <tr style=\"text-align: right;\">\n",
       "      <th></th>\n",
       "      <th>Property_id</th>\n",
       "      <th>Stay_date</th>\n",
       "      <th>Booking_status</th>\n",
       "      <th>Room_rate</th>\n",
       "      <th>Event</th>\n",
       "      <th>room_count</th>\n",
       "      <th>totalRevenue</th>\n",
       "      <th>ADR</th>\n",
       "    </tr>\n",
       "  </thead>\n",
       "  <tbody>\n",
       "    <tr>\n",
       "      <th>0</th>\n",
       "      <td>BB</td>\n",
       "      <td>2015-01-01</td>\n",
       "      <td>COMPLETED</td>\n",
       "      <td>39500.00</td>\n",
       "      <td>New Years Day</td>\n",
       "      <td>26</td>\n",
       "      <td>226229.66</td>\n",
       "      <td>8701.140769</td>\n",
       "    </tr>\n",
       "    <tr>\n",
       "      <th>2</th>\n",
       "      <td>KR</td>\n",
       "      <td>2015-01-01</td>\n",
       "      <td>COMPLETED</td>\n",
       "      <td>19387.25</td>\n",
       "      <td>New Years Day</td>\n",
       "      <td>12</td>\n",
       "      <td>170272.65</td>\n",
       "      <td>14189.387500</td>\n",
       "    </tr>\n",
       "    <tr>\n",
       "      <th>3</th>\n",
       "      <td>SS</td>\n",
       "      <td>2015-01-01</td>\n",
       "      <td>COMPLETED</td>\n",
       "      <td>20130.00</td>\n",
       "      <td>New Years Day</td>\n",
       "      <td>23</td>\n",
       "      <td>293631.32</td>\n",
       "      <td>12766.579130</td>\n",
       "    </tr>\n",
       "    <tr>\n",
       "      <th>4</th>\n",
       "      <td>KK</td>\n",
       "      <td>2015-01-01</td>\n",
       "      <td>COMPLETED</td>\n",
       "      <td>447.35</td>\n",
       "      <td>New Years Day</td>\n",
       "      <td>13</td>\n",
       "      <td>53759.07</td>\n",
       "      <td>4135.313077</td>\n",
       "    </tr>\n",
       "    <tr>\n",
       "      <th>5</th>\n",
       "      <td>SS</td>\n",
       "      <td>2015-01-01</td>\n",
       "      <td>COMPLETED</td>\n",
       "      <td>31008.66</td>\n",
       "      <td>New Years Day</td>\n",
       "      <td>23</td>\n",
       "      <td>293631.32</td>\n",
       "      <td>12766.579130</td>\n",
       "    </tr>\n",
       "  </tbody>\n",
       "</table>\n",
       "</div>"
      ],
      "text/plain": [
       "  Property_id  Stay_date Booking_status  Room_rate          Event  room_count  \\\n",
       "0          BB 2015-01-01      COMPLETED   39500.00  New Years Day          26   \n",
       "2          KR 2015-01-01      COMPLETED   19387.25  New Years Day          12   \n",
       "3          SS 2015-01-01      COMPLETED   20130.00  New Years Day          23   \n",
       "4          KK 2015-01-01      COMPLETED     447.35  New Years Day          13   \n",
       "5          SS 2015-01-01      COMPLETED   31008.66  New Years Day          23   \n",
       "\n",
       "   totalRevenue           ADR  \n",
       "0     226229.66   8701.140769  \n",
       "2     170272.65  14189.387500  \n",
       "3     293631.32  12766.579130  \n",
       "4      53759.07   4135.313077  \n",
       "5     293631.32  12766.579130  "
      ]
     },
     "execution_count": 75,
     "metadata": {},
     "output_type": "execute_result"
    }
   ],
   "source": [
    "res3['ADR'] = res3.apply(lambda res3: (res3['totalRevenue'] / res3['room_count'] ) , axis=1)\n",
    "res4 =res3\n",
    "res4.head()"
   ]
  },
  {
   "cell_type": "code",
   "execution_count": 76,
   "metadata": {
    "collapsed": false
   },
   "outputs": [],
   "source": [
    "# len(res4[res4.channel==\"OTA\"])\n",
    "del res4['Booking_status']\n",
    "del res4['Room_rate']\n",
    "res5 = res4.drop_duplicates()\n",
    "# res5"
   ]
  },
  {
   "cell_type": "code",
   "execution_count": 84,
   "metadata": {
    "collapsed": false
   },
   "outputs": [
    {
     "data": {
      "text/plain": [
       "3"
      ]
     },
     "execution_count": 84,
     "metadata": {},
     "output_type": "execute_result"
    }
   ],
   "source": [
    "min(res5[res5.Property_id == 'BB']['room_count'])"
   ]
  },
  {
   "cell_type": "markdown",
   "metadata": {
    "collapsed": true
   },
   "source": [
    "# graph plotting"
   ]
  },
  {
   "cell_type": "code",
   "execution_count": 85,
   "metadata": {
    "collapsed": false
   },
   "outputs": [],
   "source": [
    "import numpy as np\n",
    "import matplotlib.pyplot as plt\n",
    "from scipy.interpolate import spline\n",
    "\n",
    "property_id_BB = res5[res5.Property_id == 'BB']\n",
    "property_id_BB = property_id_BB.reset_index()\n",
    "property_id_BB = property_id_BB.sort_values(by = 'Stay_date', ascending=True)"
   ]
  },
  {
   "cell_type": "code",
   "execution_count": 95,
   "metadata": {
    "collapsed": false
   },
   "outputs": [
    {
     "data": {
      "text/plain": [
       "735599"
      ]
     },
     "execution_count": 95,
     "metadata": {},
     "output_type": "execute_result"
    }
   ],
   "source": [
    "property_id_BB.loc[0]['Stay_date'].toordinal()"
   ]
  },
  {
   "cell_type": "code",
   "execution_count": 105,
   "metadata": {
    "collapsed": false
   },
   "outputs": [
    {
     "data": {
      "text/plain": [
       "array([ 735599.        ,  735599.71943888,  735600.43887776,\n",
       "        735601.15831663,  735601.87775551,  735602.59719439,\n",
       "        735603.31663327,  735604.03607214,  735604.75551102,\n",
       "        735605.4749499 ,  735606.19438878,  735606.91382766,\n",
       "        735607.63326653,  735608.35270541,  735609.07214429,\n",
       "        735609.79158317,  735610.51102204,  735611.23046092,\n",
       "        735611.9498998 ,  735612.66933868,  735613.38877756,\n",
       "        735614.10821643,  735614.82765531,  735615.54709419,\n",
       "        735616.26653307,  735616.98597194,  735617.70541082,\n",
       "        735618.4248497 ,  735619.14428858,  735619.86372745,\n",
       "        735620.58316633,  735621.30260521,  735622.02204409,\n",
       "        735622.74148297,  735623.46092184,  735624.18036072,\n",
       "        735624.8997996 ,  735625.61923848,  735626.33867735,\n",
       "        735627.05811623,  735627.77755511,  735628.49699399,\n",
       "        735629.21643287,  735629.93587174,  735630.65531062,\n",
       "        735631.3747495 ,  735632.09418838,  735632.81362725,\n",
       "        735633.53306613,  735634.25250501,  735634.97194389,\n",
       "        735635.69138277,  735636.41082164,  735637.13026052,\n",
       "        735637.8496994 ,  735638.56913828,  735639.28857715,\n",
       "        735640.00801603,  735640.72745491,  735641.44689379,\n",
       "        735642.16633267,  735642.88577154,  735643.60521042,\n",
       "        735644.3246493 ,  735645.04408818,  735645.76352705,\n",
       "        735646.48296593,  735647.20240481,  735647.92184369,\n",
       "        735648.64128257,  735649.36072144,  735650.08016032,\n",
       "        735650.7995992 ,  735651.51903808,  735652.23847695,\n",
       "        735652.95791583,  735653.67735471,  735654.39679359,\n",
       "        735655.11623246,  735655.83567134,  735656.55511022,\n",
       "        735657.2745491 ,  735657.99398798,  735658.71342685,\n",
       "        735659.43286573,  735660.15230461,  735660.87174349,\n",
       "        735661.59118236,  735662.31062124,  735663.03006012,\n",
       "        735663.749499  ,  735664.46893788,  735665.18837675,\n",
       "        735665.90781563,  735666.62725451,  735667.34669339,\n",
       "        735668.06613226,  735668.78557114,  735669.50501002,\n",
       "        735670.2244489 ,  735670.94388778,  735671.66332665,\n",
       "        735672.38276553,  735673.10220441,  735673.82164329,\n",
       "        735674.54108216,  735675.26052104,  735675.97995992,\n",
       "        735676.6993988 ,  735677.41883768,  735678.13827655,\n",
       "        735678.85771543,  735679.57715431,  735680.29659319,\n",
       "        735681.01603206,  735681.73547094,  735682.45490982,\n",
       "        735683.1743487 ,  735683.89378758,  735684.61322645,\n",
       "        735685.33266533,  735686.05210421,  735686.77154309,\n",
       "        735687.49098196,  735688.21042084,  735688.92985972,\n",
       "        735689.6492986 ,  735690.36873747,  735691.08817635,\n",
       "        735691.80761523,  735692.52705411,  735693.24649299,\n",
       "        735693.96593186,  735694.68537074,  735695.40480962,\n",
       "        735696.1242485 ,  735696.84368737,  735697.56312625,\n",
       "        735698.28256513,  735699.00200401,  735699.72144289,\n",
       "        735700.44088176,  735701.16032064,  735701.87975952,\n",
       "        735702.5991984 ,  735703.31863727,  735704.03807615,\n",
       "        735704.75751503,  735705.47695391,  735706.19639279,\n",
       "        735706.91583166,  735707.63527054,  735708.35470942,\n",
       "        735709.0741483 ,  735709.79358717,  735710.51302605,\n",
       "        735711.23246493,  735711.95190381,  735712.67134269,\n",
       "        735713.39078156,  735714.11022044,  735714.82965932,\n",
       "        735715.5490982 ,  735716.26853707,  735716.98797595,\n",
       "        735717.70741483,  735718.42685371,  735719.14629259,\n",
       "        735719.86573146,  735720.58517034,  735721.30460922,\n",
       "        735722.0240481 ,  735722.74348697,  735723.46292585,\n",
       "        735724.18236473,  735724.90180361,  735725.62124249,\n",
       "        735726.34068136,  735727.06012024,  735727.77955912,\n",
       "        735728.498998  ,  735729.21843687,  735729.93787575,\n",
       "        735730.65731463,  735731.37675351,  735732.09619238,\n",
       "        735732.81563126,  735733.53507014,  735734.25450902,\n",
       "        735734.9739479 ,  735735.69338677,  735736.41282565,\n",
       "        735737.13226453,  735737.85170341,  735738.57114228,\n",
       "        735739.29058116,  735740.01002004,  735740.72945892,\n",
       "        735741.4488978 ,  735742.16833667,  735742.88777555,\n",
       "        735743.60721443,  735744.32665331,  735745.04609218,\n",
       "        735745.76553106,  735746.48496994,  735747.20440882,\n",
       "        735747.9238477 ,  735748.64328657,  735749.36272545,\n",
       "        735750.08216433,  735750.80160321,  735751.52104208,\n",
       "        735752.24048096,  735752.95991984,  735753.67935872,\n",
       "        735754.3987976 ,  735755.11823647,  735755.83767535,\n",
       "        735756.55711423,  735757.27655311,  735757.99599198,\n",
       "        735758.71543086,  735759.43486974,  735760.15430862,\n",
       "        735760.8737475 ,  735761.59318637,  735762.31262525,\n",
       "        735763.03206413,  735763.75150301,  735764.47094188,\n",
       "        735765.19038076,  735765.90981964,  735766.62925852,\n",
       "        735767.34869739,  735768.06813627,  735768.78757515,\n",
       "        735769.50701403,  735770.22645291,  735770.94589178,\n",
       "        735771.66533066,  735772.38476954,  735773.10420842,\n",
       "        735773.82364729,  735774.54308617,  735775.26252505,\n",
       "        735775.98196393,  735776.70140281,  735777.42084168,\n",
       "        735778.14028056,  735778.85971944,  735779.57915832,\n",
       "        735780.29859719,  735781.01803607,  735781.73747495,\n",
       "        735782.45691383,  735783.17635271,  735783.89579158,\n",
       "        735784.61523046,  735785.33466934,  735786.05410822,\n",
       "        735786.77354709,  735787.49298597,  735788.21242485,\n",
       "        735788.93186373,  735789.65130261,  735790.37074148,\n",
       "        735791.09018036,  735791.80961924,  735792.52905812,\n",
       "        735793.24849699,  735793.96793587,  735794.68737475,\n",
       "        735795.40681363,  735796.1262525 ,  735796.84569138,\n",
       "        735797.56513026,  735798.28456914,  735799.00400802,\n",
       "        735799.72344689,  735800.44288577,  735801.16232465,\n",
       "        735801.88176353,  735802.6012024 ,  735803.32064128,\n",
       "        735804.04008016,  735804.75951904,  735805.47895792,\n",
       "        735806.19839679,  735806.91783567,  735807.63727455,\n",
       "        735808.35671343,  735809.0761523 ,  735809.79559118,\n",
       "        735810.51503006,  735811.23446894,  735811.95390782,\n",
       "        735812.67334669,  735813.39278557,  735814.11222445,\n",
       "        735814.83166333,  735815.5511022 ,  735816.27054108,\n",
       "        735816.98997996,  735817.70941884,  735818.42885772,\n",
       "        735819.14829659,  735819.86773547,  735820.58717435,\n",
       "        735821.30661323,  735822.0260521 ,  735822.74549098,\n",
       "        735823.46492986,  735824.18436874,  735824.90380762,\n",
       "        735825.62324649,  735826.34268537,  735827.06212425,\n",
       "        735827.78156313,  735828.501002  ,  735829.22044088,\n",
       "        735829.93987976,  735830.65931864,  735831.37875751,\n",
       "        735832.09819639,  735832.81763527,  735833.53707415,\n",
       "        735834.25651303,  735834.9759519 ,  735835.69539078,\n",
       "        735836.41482966,  735837.13426854,  735837.85370741,\n",
       "        735838.57314629,  735839.29258517,  735840.01202405,\n",
       "        735840.73146293,  735841.4509018 ,  735842.17034068,\n",
       "        735842.88977956,  735843.60921844,  735844.32865731,\n",
       "        735845.04809619,  735845.76753507,  735846.48697395,\n",
       "        735847.20641283,  735847.9258517 ,  735848.64529058,\n",
       "        735849.36472946,  735850.08416834,  735850.80360721,\n",
       "        735851.52304609,  735852.24248497,  735852.96192385,\n",
       "        735853.68136273,  735854.4008016 ,  735855.12024048,\n",
       "        735855.83967936,  735856.55911824,  735857.27855711,\n",
       "        735857.99799599,  735858.71743487,  735859.43687375,\n",
       "        735860.15631263,  735860.8757515 ,  735861.59519038,\n",
       "        735862.31462926,  735863.03406814,  735863.75350701,\n",
       "        735864.47294589,  735865.19238477,  735865.91182365,\n",
       "        735866.63126253,  735867.3507014 ,  735868.07014028,\n",
       "        735868.78957916,  735869.50901804,  735870.22845691,\n",
       "        735870.94789579,  735871.66733467,  735872.38677355,\n",
       "        735873.10621242,  735873.8256513 ,  735874.54509018,\n",
       "        735875.26452906,  735875.98396794,  735876.70340681,\n",
       "        735877.42284569,  735878.14228457,  735878.86172345,\n",
       "        735879.58116232,  735880.3006012 ,  735881.02004008,\n",
       "        735881.73947896,  735882.45891784,  735883.17835671,\n",
       "        735883.89779559,  735884.61723447,  735885.33667335,\n",
       "        735886.05611222,  735886.7755511 ,  735887.49498998,\n",
       "        735888.21442886,  735888.93386774,  735889.65330661,\n",
       "        735890.37274549,  735891.09218437,  735891.81162325,\n",
       "        735892.53106212,  735893.250501  ,  735893.96993988,\n",
       "        735894.68937876,  735895.40881764,  735896.12825651,\n",
       "        735896.84769539,  735897.56713427,  735898.28657315,\n",
       "        735899.00601202,  735899.7254509 ,  735900.44488978,\n",
       "        735901.16432866,  735901.88376754,  735902.60320641,\n",
       "        735903.32264529,  735904.04208417,  735904.76152305,\n",
       "        735905.48096192,  735906.2004008 ,  735906.91983968,\n",
       "        735907.63927856,  735908.35871743,  735909.07815631,\n",
       "        735909.79759519,  735910.51703407,  735911.23647295,\n",
       "        735911.95591182,  735912.6753507 ,  735913.39478958,\n",
       "        735914.11422846,  735914.83366733,  735915.55310621,\n",
       "        735916.27254509,  735916.99198397,  735917.71142285,\n",
       "        735918.43086172,  735919.1503006 ,  735919.86973948,\n",
       "        735920.58917836,  735921.30861723,  735922.02805611,\n",
       "        735922.74749499,  735923.46693387,  735924.18637275,\n",
       "        735924.90581162,  735925.6252505 ,  735926.34468938,\n",
       "        735927.06412826,  735927.78356713,  735928.50300601,\n",
       "        735929.22244489,  735929.94188377,  735930.66132265,\n",
       "        735931.38076152,  735932.1002004 ,  735932.81963928,\n",
       "        735933.53907816,  735934.25851703,  735934.97795591,\n",
       "        735935.69739479,  735936.41683367,  735937.13627255,\n",
       "        735937.85571142,  735938.5751503 ,  735939.29458918,\n",
       "        735940.01402806,  735940.73346693,  735941.45290581,\n",
       "        735942.17234469,  735942.89178357,  735943.61122244,\n",
       "        735944.33066132,  735945.0501002 ,  735945.76953908,\n",
       "        735946.48897796,  735947.20841683,  735947.92785571,\n",
       "        735948.64729459,  735949.36673347,  735950.08617234,\n",
       "        735950.80561122,  735951.5250501 ,  735952.24448898,\n",
       "        735952.96392786,  735953.68336673,  735954.40280561,\n",
       "        735955.12224449,  735955.84168337,  735956.56112224,\n",
       "        735957.28056112,  735958.        ])"
      ]
     },
     "execution_count": 105,
     "metadata": {},
     "output_type": "execute_result"
    }
   ],
   "source": [
    "x_smooth.reshape(-1)"
   ]
  },
  {
   "cell_type": "code",
   "execution_count": 103,
   "metadata": {
    "collapsed": false
   },
   "outputs": [
    {
     "data": {
      "text/plain": [
       "array([26, 21, 18, 17, 11, 18, 22, 17, 26, 24, 18, 19, 22, 25, 19, 21, 26,\n",
       "       26, 23, 25, 19, 15, 20, 17, 15, 20, 12, 15, 15,  6,  5,  7,  8,  6,\n",
       "       20, 14, 16,  8,  3, 12,  4, 11, 16,  8,  5, 12, 13, 24, 23, 26, 15,\n",
       "       10, 13, 16, 15, 25, 24, 19, 18, 16, 25, 26,  3,  4, 13, 19, 16, 16,\n",
       "       18, 12, 10, 14, 11, 10, 18, 25, 14, 17, 26, 25, 10, 23, 15, 13, 19,\n",
       "       24, 24], dtype=int64)"
      ]
     },
     "execution_count": 103,
     "metadata": {},
     "output_type": "execute_result"
    }
   ],
   "source": [
    "y.reshape(-1)"
   ]
  },
  {
   "cell_type": "code",
   "execution_count": 96,
   "metadata": {
    "collapsed": false
   },
   "outputs": [
    {
     "data": {
      "text/plain": [
       "Timestamp('2015-01-01 00:00:00')"
      ]
     },
     "execution_count": 96,
     "metadata": {},
     "output_type": "execute_result"
    }
   ],
   "source": [
    "property_id_BB.loc[0]['Stay_date']"
   ]
  },
  {
   "cell_type": "code",
   "execution_count": 107,
   "metadata": {
    "collapsed": false,
    "scrolled": false
   },
   "outputs": [
    {
     "name": "stderr",
     "output_type": "stream",
     "text": [
      "C:\\Users\\Amulya\\Anaconda3\\lib\\site-packages\\ipykernel\\__main__.py:10: DeprecationWarning: `spline` is deprecated!\n",
      "spline is deprecated in scipy 0.19.0, use Bspline class instead.\n"
     ]
    },
    {
     "ename": "ValueError",
     "evalue": "object too deep for desired array",
     "output_type": "error",
     "traceback": [
      "\u001b[0;31m---------------------------------------------------------------------------\u001b[0m",
      "\u001b[0;31mValueError\u001b[0m                                Traceback (most recent call last)",
      "\u001b[0;32m<ipython-input-107-3f5f996f3ef3>\u001b[0m in \u001b[0;36m<module>\u001b[0;34m()\u001b[0m\n\u001b[1;32m      8\u001b[0m \u001b[1;31m# xa.min()\u001b[0m\u001b[1;33m\u001b[0m\u001b[1;33m\u001b[0m\u001b[0m\n\u001b[1;32m      9\u001b[0m \u001b[0mx_smooth\u001b[0m \u001b[1;33m=\u001b[0m \u001b[0mnp\u001b[0m\u001b[1;33m.\u001b[0m\u001b[0mlinspace\u001b[0m\u001b[1;33m(\u001b[0m\u001b[0mxa\u001b[0m\u001b[1;33m.\u001b[0m\u001b[0mmin\u001b[0m\u001b[1;33m(\u001b[0m\u001b[1;33m)\u001b[0m\u001b[1;33m,\u001b[0m\u001b[0mxa\u001b[0m\u001b[1;33m.\u001b[0m\u001b[0mmax\u001b[0m\u001b[1;33m(\u001b[0m\u001b[1;33m)\u001b[0m\u001b[1;33m,\u001b[0m \u001b[1;36m500\u001b[0m\u001b[1;33m)\u001b[0m\u001b[1;33m\u001b[0m\u001b[0m\n\u001b[0;32m---> 10\u001b[0;31m \u001b[0my_smooth\u001b[0m \u001b[1;33m=\u001b[0m \u001b[0mspline\u001b[0m\u001b[1;33m(\u001b[0m\u001b[0mx\u001b[0m\u001b[1;33m,\u001b[0m\u001b[0my\u001b[0m\u001b[1;33m,\u001b[0m \u001b[0mx_smooth\u001b[0m\u001b[1;33m)\u001b[0m\u001b[1;33m\u001b[0m\u001b[0m\n\u001b[0m\u001b[1;32m     11\u001b[0m \u001b[1;33m\u001b[0m\u001b[0m\n\u001b[1;32m     12\u001b[0m \u001b[0mplt\u001b[0m\u001b[1;33m.\u001b[0m\u001b[0mplot\u001b[0m\u001b[1;33m(\u001b[0m\u001b[0mx_smooth\u001b[0m\u001b[1;33m,\u001b[0m\u001b[0my_smooth\u001b[0m\u001b[1;33m)\u001b[0m\u001b[1;33m\u001b[0m\u001b[0m\n",
      "\u001b[0;32mC:\\Users\\Amulya\\Anaconda3\\lib\\site-packages\\numpy\\lib\\utils.py\u001b[0m in \u001b[0;36mnewfunc\u001b[0;34m(*args, **kwds)\u001b[0m\n\u001b[1;32m     99\u001b[0m             \u001b[1;34m\"\"\"`arrayrange` is deprecated, use `arange` instead!\"\"\"\u001b[0m\u001b[1;33m\u001b[0m\u001b[0m\n\u001b[1;32m    100\u001b[0m             \u001b[0mwarnings\u001b[0m\u001b[1;33m.\u001b[0m\u001b[0mwarn\u001b[0m\u001b[1;33m(\u001b[0m\u001b[0mdepdoc\u001b[0m\u001b[1;33m,\u001b[0m \u001b[0mDeprecationWarning\u001b[0m\u001b[1;33m,\u001b[0m \u001b[0mstacklevel\u001b[0m\u001b[1;33m=\u001b[0m\u001b[1;36m2\u001b[0m\u001b[1;33m)\u001b[0m\u001b[1;33m\u001b[0m\u001b[0m\n\u001b[0;32m--> 101\u001b[0;31m             \u001b[1;32mreturn\u001b[0m \u001b[0mfunc\u001b[0m\u001b[1;33m(\u001b[0m\u001b[1;33m*\u001b[0m\u001b[0margs\u001b[0m\u001b[1;33m,\u001b[0m \u001b[1;33m**\u001b[0m\u001b[0mkwds\u001b[0m\u001b[1;33m)\u001b[0m\u001b[1;33m\u001b[0m\u001b[0m\n\u001b[0m\u001b[1;32m    102\u001b[0m \u001b[1;33m\u001b[0m\u001b[0m\n\u001b[1;32m    103\u001b[0m         \u001b[0mnewfunc\u001b[0m \u001b[1;33m=\u001b[0m \u001b[0m_set_function_name\u001b[0m\u001b[1;33m(\u001b[0m\u001b[0mnewfunc\u001b[0m\u001b[1;33m,\u001b[0m \u001b[0mold_name\u001b[0m\u001b[1;33m)\u001b[0m\u001b[1;33m\u001b[0m\u001b[0m\n",
      "\u001b[0;32mC:\\Users\\Amulya\\Anaconda3\\lib\\site-packages\\scipy\\interpolate\\interpolate.py\u001b[0m in \u001b[0;36mspline\u001b[0;34m(xk, yk, xnew, order, kind, conds)\u001b[0m\n\u001b[1;32m   2853\u001b[0m \u001b[1;33m\u001b[0m\u001b[0m\n\u001b[1;32m   2854\u001b[0m     \"\"\"\n\u001b[0;32m-> 2855\u001b[0;31m     \u001b[1;32mreturn\u001b[0m \u001b[0mspleval\u001b[0m\u001b[1;33m(\u001b[0m\u001b[0msplmake\u001b[0m\u001b[1;33m(\u001b[0m\u001b[0mxk\u001b[0m\u001b[1;33m,\u001b[0m \u001b[0myk\u001b[0m\u001b[1;33m,\u001b[0m \u001b[0morder\u001b[0m\u001b[1;33m=\u001b[0m\u001b[0morder\u001b[0m\u001b[1;33m,\u001b[0m \u001b[0mkind\u001b[0m\u001b[1;33m=\u001b[0m\u001b[0mkind\u001b[0m\u001b[1;33m,\u001b[0m \u001b[0mconds\u001b[0m\u001b[1;33m=\u001b[0m\u001b[0mconds\u001b[0m\u001b[1;33m)\u001b[0m\u001b[1;33m,\u001b[0m \u001b[0mxnew\u001b[0m\u001b[1;33m)\u001b[0m\u001b[1;33m\u001b[0m\u001b[0m\n\u001b[0m",
      "\u001b[0;32mC:\\Users\\Amulya\\Anaconda3\\lib\\site-packages\\numpy\\lib\\utils.py\u001b[0m in \u001b[0;36mnewfunc\u001b[0;34m(*args, **kwds)\u001b[0m\n\u001b[1;32m     99\u001b[0m             \u001b[1;34m\"\"\"`arrayrange` is deprecated, use `arange` instead!\"\"\"\u001b[0m\u001b[1;33m\u001b[0m\u001b[0m\n\u001b[1;32m    100\u001b[0m             \u001b[0mwarnings\u001b[0m\u001b[1;33m.\u001b[0m\u001b[0mwarn\u001b[0m\u001b[1;33m(\u001b[0m\u001b[0mdepdoc\u001b[0m\u001b[1;33m,\u001b[0m \u001b[0mDeprecationWarning\u001b[0m\u001b[1;33m,\u001b[0m \u001b[0mstacklevel\u001b[0m\u001b[1;33m=\u001b[0m\u001b[1;36m2\u001b[0m\u001b[1;33m)\u001b[0m\u001b[1;33m\u001b[0m\u001b[0m\n\u001b[0;32m--> 101\u001b[0;31m             \u001b[1;32mreturn\u001b[0m \u001b[0mfunc\u001b[0m\u001b[1;33m(\u001b[0m\u001b[1;33m*\u001b[0m\u001b[0margs\u001b[0m\u001b[1;33m,\u001b[0m \u001b[1;33m**\u001b[0m\u001b[0mkwds\u001b[0m\u001b[1;33m)\u001b[0m\u001b[1;33m\u001b[0m\u001b[0m\n\u001b[0m\u001b[1;32m    102\u001b[0m \u001b[1;33m\u001b[0m\u001b[0m\n\u001b[1;32m    103\u001b[0m         \u001b[0mnewfunc\u001b[0m \u001b[1;33m=\u001b[0m \u001b[0m_set_function_name\u001b[0m\u001b[1;33m(\u001b[0m\u001b[0mnewfunc\u001b[0m\u001b[1;33m,\u001b[0m \u001b[0mold_name\u001b[0m\u001b[1;33m)\u001b[0m\u001b[1;33m\u001b[0m\u001b[0m\n",
      "\u001b[0;32mC:\\Users\\Amulya\\Anaconda3\\lib\\site-packages\\scipy\\interpolate\\interpolate.py\u001b[0m in \u001b[0;36msplmake\u001b[0;34m(xk, yk, order, kind, conds)\u001b[0m\n\u001b[1;32m   2762\u001b[0m \u001b[1;33m\u001b[0m\u001b[0m\n\u001b[1;32m   2763\u001b[0m     \u001b[1;31m# the constraint matrix\u001b[0m\u001b[1;33m\u001b[0m\u001b[1;33m\u001b[0m\u001b[0m\n\u001b[0;32m-> 2764\u001b[0;31m     \u001b[0mB\u001b[0m \u001b[1;33m=\u001b[0m \u001b[0m_fitpack\u001b[0m\u001b[1;33m.\u001b[0m\u001b[0m_bsplmat\u001b[0m\u001b[1;33m(\u001b[0m\u001b[0morder\u001b[0m\u001b[1;33m,\u001b[0m \u001b[0mxk\u001b[0m\u001b[1;33m)\u001b[0m\u001b[1;33m\u001b[0m\u001b[0m\n\u001b[0m\u001b[1;32m   2765\u001b[0m     \u001b[0mcoefs\u001b[0m \u001b[1;33m=\u001b[0m \u001b[0mfunc\u001b[0m\u001b[1;33m(\u001b[0m\u001b[0mxk\u001b[0m\u001b[1;33m,\u001b[0m \u001b[0myk\u001b[0m\u001b[1;33m,\u001b[0m \u001b[0morder\u001b[0m\u001b[1;33m,\u001b[0m \u001b[0mconds\u001b[0m\u001b[1;33m,\u001b[0m \u001b[0mB\u001b[0m\u001b[1;33m)\u001b[0m\u001b[1;33m\u001b[0m\u001b[0m\n\u001b[1;32m   2766\u001b[0m     \u001b[1;32mreturn\u001b[0m \u001b[0mxk\u001b[0m\u001b[1;33m,\u001b[0m \u001b[0mcoefs\u001b[0m\u001b[1;33m,\u001b[0m \u001b[0morder\u001b[0m\u001b[1;33m\u001b[0m\u001b[0m\n",
      "\u001b[0;31mValueError\u001b[0m: object too deep for desired array"
     ]
    }
   ],
   "source": [
    "x= property_id_BB['Stay_date'].apply(lambda x: x.toordinal()).reshape(-1, 1)\n",
    "# x = np.array(property_id_BB['Stay_date'])\n",
    "y = property_id_BB['room_count']\n",
    "\n",
    "xa = np.array(x)\n",
    "ya = np.array(y)\n",
    "\n",
    "# xa.min()\n",
    "x_smooth = np.linspace(xa.min(),xa.max(), 500)\n",
    "y_smooth = spline(x.reshape(-1),y.reshape(-1), x_smooth.reshape(-1))\n",
    "\n",
    "plt.plot(x_smooth,y_smooth)\n",
    "plt.show()"
   ]
  },
  {
   "cell_type": "code",
   "execution_count": 43,
   "metadata": {
    "collapsed": false
   },
   "outputs": [
    {
     "name": "stderr",
     "output_type": "stream",
     "text": [
      "C:\\Users\\Amulya\\Anaconda3\\lib\\site-packages\\ipykernel\\__main__.py:12: DeprecationWarning: `spline` is deprecated!\n",
      "spline is deprecated in scipy 0.19.0, use Bspline class instead.\n"
     ]
    },
    {
     "data": {
      "image/png": "[encoded data removed]",
      "text/plain": [
       "<matplotlib.figure.Figure at 0x1819b258c18>"
      ]
     },
     "metadata": {},
     "output_type": "display_data"
    }
   ],
   "source": [
    "property_id_CH = res5[res5.Property_id == 'CH']\n",
    "property_id_CH = property_id_CH.reset_index()\n",
    "property_id_CH = property_id_CH.sort_values(by = 'Stay_date', ascending=True)\n",
    "\n",
    "x= property_id_CH['Stay_date'].apply(lambda x: x.toordinal()).reshape(-1, 1)\n",
    "y = property_id_CH['room_count']\n",
    "\n",
    "xa = np.array(x)\n",
    "ya = np.array(y)\n",
    "\n",
    "x_smooth = np.linspace(xa.min(),xa.max(), 300)\n",
    "y_smooth = spline(x.reshape(-1),y.reshape(-1), x_smooth.reshape(-1))\n",
    "\n",
    "plt.plot(x_smooth,y_smooth)\n",
    "plt.show()"
   ]
  },
  {
   "cell_type": "code",
   "execution_count": null,
   "metadata": {
    "collapsed": false
   },
   "outputs": [],
   "source": []
  },
  {
   "cell_type": "code",
   "execution_count": null,
   "metadata": {
    "collapsed": false
   },
   "outputs": [],
   "source": [
    "property_id_BB = pd.read_excel('Results/GroupByPropertyID/2015/BB.xlsx')\n",
    "property_id_BB = property_id_BB.reset_index()\n",
    "property_id_BB = property_id_BB.sort_values(by = 'Stay_date', ascending=True)\n",
    "property_id_BB1 = property_id_BB.values.T.tolist()"
   ]
  }
 ],
 "metadata": {
  "anaconda-cloud": {},
  "kernelspec": {
   "display_name": "Python [default]",
   "language": "python",
   "name": "python3"
  },
  "language_info": {
   "codemirror_mode": {
    "name": "ipython",
    "version": 3
   },
   "file_extension": ".py",
   "mimetype": "text/x-python",
   "name": "python",
   "nbconvert_exporter": "python",
   "pygments_lexer": "ipython3",
   "version": "3.5.2"
  }
 },
 "nbformat": 4,
 "nbformat_minor": 1
}
