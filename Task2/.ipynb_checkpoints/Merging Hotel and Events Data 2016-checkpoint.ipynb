{
 "cells": [
  {
   "cell_type": "code",
   "execution_count": 1,
   "metadata": {
    "collapsed": false
   },
   "outputs": [],
   "source": [
    "import pandas as pd\n",
    "import numpy as np\n",
    "\n",
    "data = pd.read_csv('Results/RequiredDataSet.csv',header=None, names=['booking_date','channel','property_id','room_name','room_id','check_in','check_out','room_rate','booking_status'])\n",
    "# data.head()"
   ]
  },
  {
   "cell_type": "code",
   "execution_count": null,
   "metadata": {
    "collapsed": false
   },
   "outputs": [],
   "source": [
    "# dat1 = data['booking_status'].unique()\n",
    "# dat1"
   ]
  },
  {
   "cell_type": "code",
   "execution_count": null,
   "metadata": {
    "collapsed": false
   },
   "outputs": [],
   "source": [
    "# channelList = data['channel'].unique().tolist()\n",
    "# channelList "
   ]
  },
  {
   "cell_type": "code",
   "execution_count": 2,
   "metadata": {
    "collapsed": false
   },
   "outputs": [],
   "source": [
    "Results = pd.read_excel('Results/DataSetWithStayDate.xlsx')\n",
    "del Results['Old_Room_rate']\n",
    "# Results.head()"
   ]
  },
  {
   "cell_type": "code",
   "execution_count": 3,
   "metadata": {
    "collapsed": true
   },
   "outputs": [],
   "source": [
    "scrapyData = pd.read_csv('Results/eventData2016.csv',header=None, names=['Day','Date','Event','HolidayIn'])\n",
    "scrapeResult = scrapyData.dropna()\n",
    "# scrapeResult.head()"
   ]
  },
  {
   "cell_type": "code",
   "execution_count": 4,
   "metadata": {
    "collapsed": true
   },
   "outputs": [],
   "source": [
    "# to avoid \"SettingWithCopyWarning\"\n",
    "pd.options.mode.chained_assignment = None  # default='warn'"
   ]
  },
  {
   "cell_type": "code",
   "execution_count": 5,
   "metadata": {
    "collapsed": false
   },
   "outputs": [],
   "source": [
    "scrapeResult['Date'] =   '2016-' + scrapeResult['Date'] \n",
    "# scrapeResult.head()"
   ]
  },
  {
   "cell_type": "code",
   "execution_count": 6,
   "metadata": {
    "collapsed": false
   },
   "outputs": [],
   "source": [
    "scrapeResult['Date'] = pd.to_datetime(scrapeResult.Date)\n",
    "# scrapeResult.head()"
   ]
  },
  {
   "cell_type": "code",
   "execution_count": 7,
   "metadata": {
    "collapsed": true
   },
   "outputs": [],
   "source": [
    "del scrapeResult['HolidayIn']\n",
    "del scrapeResult['Day']\n",
    "# scrapeResult.head()"
   ]
  },
  {
   "cell_type": "code",
   "execution_count": 8,
   "metadata": {
    "collapsed": false
   },
   "outputs": [],
   "source": [
    "newResults = Results.filter(['Property_id','Stay_date','Booking_status','Room_rate'], axis=1)\n",
    "# newResults.head()"
   ]
  },
  {
   "cell_type": "code",
   "execution_count": 9,
   "metadata": {
    "collapsed": false
   },
   "outputs": [],
   "source": [
    "newResults = newResults[(newResults.Booking_status == 'COMPLETED') | (newResults.Booking_status == 'CONFIRMED')]\n",
    "# newResults.head()"
   ]
  },
  {
   "cell_type": "code",
   "execution_count": 10,
   "metadata": {
    "collapsed": false
   },
   "outputs": [],
   "source": [
    "newResults = newResults[(newResults.Stay_date >= '2016-01-01') & (newResults.Stay_date <= '2016-12-31')]\n",
    "# newResults.head()"
   ]
  },
  {
   "cell_type": "code",
   "execution_count": 11,
   "metadata": {
    "collapsed": false
   },
   "outputs": [],
   "source": [
    "newResults['Stay_date'] = pd.to_datetime(newResults.Stay_date)\n",
    "# newResults.head()"
   ]
  },
  {
   "cell_type": "code",
   "execution_count": 12,
   "metadata": {
    "collapsed": true
   },
   "outputs": [],
   "source": [
    "res = pd.merge(left=newResults, left_on='Stay_date',right=scrapeResult, right_on='Date')\n",
    "\n",
    "res1 = res.reset_index()\n",
    "del res1['index']\n",
    "del res1['Date']\n",
    "# res1.head()"
   ]
  },
  {
   "cell_type": "code",
   "execution_count": 24,
   "metadata": {
    "collapsed": false
   },
   "outputs": [
    {
     "data": {
      "text/html": [
       "<div>\n",
       "<table border=\"1\" class=\"dataframe\">\n",
       "  <thead>\n",
       "    <tr style=\"text-align: right;\">\n",
       "      <th></th>\n",
       "      <th>Property_id</th>\n",
       "      <th>Stay_date</th>\n",
       "      <th>Booking_status</th>\n",
       "      <th>Room_rate</th>\n",
       "      <th>Event</th>\n",
       "      <th>room_count</th>\n",
       "    </tr>\n",
       "  </thead>\n",
       "  <tbody>\n",
       "    <tr>\n",
       "      <th>0</th>\n",
       "      <td>CL</td>\n",
       "      <td>2016-07-06</td>\n",
       "      <td>COMPLETED</td>\n",
       "      <td>0.0</td>\n",
       "      <td>Idul Fitr</td>\n",
       "      <td>43</td>\n",
       "    </tr>\n",
       "    <tr>\n",
       "      <th>5</th>\n",
       "      <td>MB</td>\n",
       "      <td>2016-07-06</td>\n",
       "      <td>COMPLETED</td>\n",
       "      <td>0.0</td>\n",
       "      <td>Idul Fitr</td>\n",
       "      <td>24</td>\n",
       "    </tr>\n",
       "    <tr>\n",
       "      <th>20</th>\n",
       "      <td>CH</td>\n",
       "      <td>2016-07-06</td>\n",
       "      <td>COMPLETED</td>\n",
       "      <td>0.0</td>\n",
       "      <td>Idul Fitr</td>\n",
       "      <td>26</td>\n",
       "    </tr>\n",
       "    <tr>\n",
       "      <th>30</th>\n",
       "      <td>CH</td>\n",
       "      <td>2016-07-06</td>\n",
       "      <td>COMPLETED</td>\n",
       "      <td>3500.0</td>\n",
       "      <td>Idul Fitr</td>\n",
       "      <td>26</td>\n",
       "    </tr>\n",
       "    <tr>\n",
       "      <th>32</th>\n",
       "      <td>CH</td>\n",
       "      <td>2016-07-06</td>\n",
       "      <td>COMPLETED</td>\n",
       "      <td>2550.0</td>\n",
       "      <td>Idul Fitr</td>\n",
       "      <td>26</td>\n",
       "    </tr>\n",
       "  </tbody>\n",
       "</table>\n",
       "</div>"
      ],
      "text/plain": [
       "   Property_id  Stay_date Booking_status  Room_rate      Event  room_count\n",
       "0           CL 2016-07-06      COMPLETED        0.0  Idul Fitr          43\n",
       "5           MB 2016-07-06      COMPLETED        0.0  Idul Fitr          24\n",
       "20          CH 2016-07-06      COMPLETED        0.0  Idul Fitr          26\n",
       "30          CH 2016-07-06      COMPLETED     3500.0  Idul Fitr          26\n",
       "32          CH 2016-07-06      COMPLETED     2550.0  Idul Fitr          26"
      ]
     },
     "execution_count": 24,
     "metadata": {},
     "output_type": "execute_result"
    }
   ],
   "source": [
    "res1['room_count'] = res1.groupby(['Property_id','Stay_date'])['Room_rate'].transform('count')\n",
    "res2 = res1.drop_duplicates()\n",
    "res2.head()"
   ]
  },
  {
   "cell_type": "code",
   "execution_count": 19,
   "metadata": {
    "collapsed": false
   },
   "outputs": [
    {
     "data": {
      "text/html": [
       "<div>\n",
       "<table border=\"1\" class=\"dataframe\">\n",
       "  <thead>\n",
       "    <tr style=\"text-align: right;\">\n",
       "      <th></th>\n",
       "      <th>Property_id</th>\n",
       "      <th>Stay_date</th>\n",
       "      <th>Booking_status</th>\n",
       "      <th>Room_rate</th>\n",
       "      <th>Event</th>\n",
       "      <th>room_count</th>\n",
       "      <th>totalRevenue</th>\n",
       "    </tr>\n",
       "  </thead>\n",
       "  <tbody>\n",
       "    <tr>\n",
       "      <th>0</th>\n",
       "      <td>CL</td>\n",
       "      <td>2016-07-06</td>\n",
       "      <td>COMPLETED</td>\n",
       "      <td>0.0</td>\n",
       "      <td>Idul Fitr</td>\n",
       "      <td>43</td>\n",
       "      <td>180326.75</td>\n",
       "    </tr>\n",
       "    <tr>\n",
       "      <th>5</th>\n",
       "      <td>MB</td>\n",
       "      <td>2016-07-06</td>\n",
       "      <td>COMPLETED</td>\n",
       "      <td>0.0</td>\n",
       "      <td>Idul Fitr</td>\n",
       "      <td>24</td>\n",
       "      <td>40720.16</td>\n",
       "    </tr>\n",
       "    <tr>\n",
       "      <th>20</th>\n",
       "      <td>CH</td>\n",
       "      <td>2016-07-06</td>\n",
       "      <td>COMPLETED</td>\n",
       "      <td>0.0</td>\n",
       "      <td>Idul Fitr</td>\n",
       "      <td>26</td>\n",
       "      <td>11596.50</td>\n",
       "    </tr>\n",
       "    <tr>\n",
       "      <th>30</th>\n",
       "      <td>CH</td>\n",
       "      <td>2016-07-06</td>\n",
       "      <td>COMPLETED</td>\n",
       "      <td>3500.0</td>\n",
       "      <td>Idul Fitr</td>\n",
       "      <td>26</td>\n",
       "      <td>11596.50</td>\n",
       "    </tr>\n",
       "    <tr>\n",
       "      <th>32</th>\n",
       "      <td>CH</td>\n",
       "      <td>2016-07-06</td>\n",
       "      <td>COMPLETED</td>\n",
       "      <td>2550.0</td>\n",
       "      <td>Idul Fitr</td>\n",
       "      <td>26</td>\n",
       "      <td>11596.50</td>\n",
       "    </tr>\n",
       "  </tbody>\n",
       "</table>\n",
       "</div>"
      ],
      "text/plain": [
       "   Property_id  Stay_date Booking_status  Room_rate      Event  room_count  \\\n",
       "0           CL 2016-07-06      COMPLETED        0.0  Idul Fitr          43   \n",
       "5           MB 2016-07-06      COMPLETED        0.0  Idul Fitr          24   \n",
       "20          CH 2016-07-06      COMPLETED        0.0  Idul Fitr          26   \n",
       "30          CH 2016-07-06      COMPLETED     3500.0  Idul Fitr          26   \n",
       "32          CH 2016-07-06      COMPLETED     2550.0  Idul Fitr          26   \n",
       "\n",
       "    totalRevenue  \n",
       "0      180326.75  \n",
       "5       40720.16  \n",
       "20      11596.50  \n",
       "30      11596.50  \n",
       "32      11596.50  "
      ]
     },
     "execution_count": 19,
     "metadata": {},
     "output_type": "execute_result"
    }
   ],
   "source": [
    "res2['totalRevenue'] = res2.groupby(['Property_id','Stay_date'])['Room_rate'].transform('sum')\n",
    "res3 = res2.drop_duplicates()\n",
    "res3.head()"
   ]
  },
  {
   "cell_type": "code",
   "execution_count": 20,
   "metadata": {
    "collapsed": false
   },
   "outputs": [
    {
     "data": {
      "text/html": [
       "<div>\n",
       "<table border=\"1\" class=\"dataframe\">\n",
       "  <thead>\n",
       "    <tr style=\"text-align: right;\">\n",
       "      <th></th>\n",
       "      <th>Property_id</th>\n",
       "      <th>Stay_date</th>\n",
       "      <th>Booking_status</th>\n",
       "      <th>Room_rate</th>\n",
       "      <th>Event</th>\n",
       "      <th>room_count</th>\n",
       "      <th>totalRevenue</th>\n",
       "      <th>ADR</th>\n",
       "    </tr>\n",
       "  </thead>\n",
       "  <tbody>\n",
       "    <tr>\n",
       "      <th>0</th>\n",
       "      <td>CL</td>\n",
       "      <td>2016-07-06</td>\n",
       "      <td>COMPLETED</td>\n",
       "      <td>0.0</td>\n",
       "      <td>Idul Fitr</td>\n",
       "      <td>43</td>\n",
       "      <td>180326.75</td>\n",
       "      <td>4193.645349</td>\n",
       "    </tr>\n",
       "    <tr>\n",
       "      <th>5</th>\n",
       "      <td>MB</td>\n",
       "      <td>2016-07-06</td>\n",
       "      <td>COMPLETED</td>\n",
       "      <td>0.0</td>\n",
       "      <td>Idul Fitr</td>\n",
       "      <td>24</td>\n",
       "      <td>40720.16</td>\n",
       "      <td>1696.673333</td>\n",
       "    </tr>\n",
       "    <tr>\n",
       "      <th>20</th>\n",
       "      <td>CH</td>\n",
       "      <td>2016-07-06</td>\n",
       "      <td>COMPLETED</td>\n",
       "      <td>0.0</td>\n",
       "      <td>Idul Fitr</td>\n",
       "      <td>26</td>\n",
       "      <td>11596.50</td>\n",
       "      <td>446.019231</td>\n",
       "    </tr>\n",
       "    <tr>\n",
       "      <th>30</th>\n",
       "      <td>CH</td>\n",
       "      <td>2016-07-06</td>\n",
       "      <td>COMPLETED</td>\n",
       "      <td>3500.0</td>\n",
       "      <td>Idul Fitr</td>\n",
       "      <td>26</td>\n",
       "      <td>11596.50</td>\n",
       "      <td>446.019231</td>\n",
       "    </tr>\n",
       "    <tr>\n",
       "      <th>32</th>\n",
       "      <td>CH</td>\n",
       "      <td>2016-07-06</td>\n",
       "      <td>COMPLETED</td>\n",
       "      <td>2550.0</td>\n",
       "      <td>Idul Fitr</td>\n",
       "      <td>26</td>\n",
       "      <td>11596.50</td>\n",
       "      <td>446.019231</td>\n",
       "    </tr>\n",
       "  </tbody>\n",
       "</table>\n",
       "</div>"
      ],
      "text/plain": [
       "   Property_id  Stay_date Booking_status  Room_rate      Event  room_count  \\\n",
       "0           CL 2016-07-06      COMPLETED        0.0  Idul Fitr          43   \n",
       "5           MB 2016-07-06      COMPLETED        0.0  Idul Fitr          24   \n",
       "20          CH 2016-07-06      COMPLETED        0.0  Idul Fitr          26   \n",
       "30          CH 2016-07-06      COMPLETED     3500.0  Idul Fitr          26   \n",
       "32          CH 2016-07-06      COMPLETED     2550.0  Idul Fitr          26   \n",
       "\n",
       "    totalRevenue          ADR  \n",
       "0      180326.75  4193.645349  \n",
       "5       40720.16  1696.673333  \n",
       "20      11596.50   446.019231  \n",
       "30      11596.50   446.019231  \n",
       "32      11596.50   446.019231  "
      ]
     },
     "execution_count": 20,
     "metadata": {},
     "output_type": "execute_result"
    }
   ],
   "source": [
    "res3['ADR'] = res3.apply(lambda res3: (res3['totalRevenue'] / res3['room_count'] ) , axis=1)\n",
    "res4 =res3\n",
    "res4.head()"
   ]
  },
  {
   "cell_type": "code",
   "execution_count": 16,
   "metadata": {
    "collapsed": false
   },
   "outputs": [],
   "source": [
    "\n",
    "# res4['directChannelCount'] = res4.groupby(['Channel','Stay_date'])['Channel'].transform(lambda res4: res4[res4.str.contains('DIRECT')].count())"
   ]
  },
  {
   "cell_type": "code",
   "execution_count": 29,
   "metadata": {
    "collapsed": false
   },
   "outputs": [],
   "source": [
    "# len(res4[res4.channel==\"OTA\"])\n",
    "del res4['Booking_status']\n",
    "del res4['Room_rate']\n",
    "# res4"
   ]
  },
  {
   "cell_type": "code",
   "execution_count": 30,
   "metadata": {
    "collapsed": false
   },
   "outputs": [],
   "source": [
    "res5 = res4.drop_duplicates()\n",
    "# res5"
   ]
  },
  {
   "cell_type": "code",
   "execution_count": 31,
   "metadata": {
    "collapsed": false
   },
   "outputs": [
    {
     "data": {
      "text/plain": [
       "numpy.ndarray"
      ]
     },
     "execution_count": 31,
     "metadata": {},
     "output_type": "execute_result"
    }
   ],
   "source": [
    "temp = res5['Property_id'].unique()\n",
    "type(temp)"
   ]
  },
  {
   "cell_type": "code",
   "execution_count": 32,
   "metadata": {
    "collapsed": false
   },
   "outputs": [],
   "source": [
    "for i in range(len(temp)):\n",
    "    property_id = res5[(res5.Property_id == temp[i])]\n",
    "    property_id.to_excel('Results/GroupByPropertyID/2016/'+ temp[i] +'.xlsx')"
   ]
  },
  {
   "cell_type": "code",
   "execution_count": null,
   "metadata": {
    "collapsed": true
   },
   "outputs": [],
   "source": [
    "#graph plotting"
   ]
  },
  {
   "cell_type": "code",
   "execution_count": 33,
   "metadata": {
    "collapsed": false
   },
   "outputs": [
    {
     "data": {
      "text/html": [
       "\n",
       "    <div class=\"bk-root\">\n",
       "        <a href=\"http://bokeh.pydata.org\" target=\"_blank\" class=\"bk-logo bk-logo-small bk-logo-notebook\"></a>\n",
       "        <span id=\"ea37d0cb-6624-4f33-9f2e-1917c639cd88\">Loading BokehJS ...</span>\n",
       "    </div>"
      ]
     },
     "metadata": {},
     "output_type": "display_data"
    },
    {
     "data": {
      "application/javascript": [
       "\n",
       "(function(global) {\n",
       "  function now() {\n",
       "    return new Date();\n",
       "  }\n",
       "\n",
       "  var force = \"1\";\n",
       "\n",
       "  if (typeof (window._bokeh_onload_callbacks) === \"undefined\" || force !== \"\") {\n",
       "    window._bokeh_onload_callbacks = [];\n",
       "    window._bokeh_is_loading = undefined;\n",
       "  }\n",
       "\n",
       "\n",
       "  \n",
       "  if (typeof (window._bokeh_timeout) === \"undefined\" || force !== \"\") {\n",
       "    window._bokeh_timeout = Date.now() + 5000;\n",
       "    window._bokeh_failed_load = false;\n",
       "  }\n",
       "\n",
       "  var NB_LOAD_WARNING = {'data': {'text/html':\n",
       "     \"<div style='background-color: #fdd'>\\n\"+\n",
       "     \"<p>\\n\"+\n",
       "     \"BokehJS does not appear to have successfully loaded. If loading BokehJS from CDN, this \\n\"+\n",
       "     \"may be due to a slow or bad network connection. Possible fixes:\\n\"+\n",
       "     \"</p>\\n\"+\n",
       "     \"<ul>\\n\"+\n",
       "     \"<li>re-rerun `output_notebook()` to attempt to load from CDN again, or</li>\\n\"+\n",
       "     \"<li>use INLINE resources instead, as so:</li>\\n\"+\n",
       "     \"</ul>\\n\"+\n",
       "     \"<code>\\n\"+\n",
       "     \"from bokeh.resources import INLINE\\n\"+\n",
       "     \"output_notebook(resources=INLINE)\\n\"+\n",
       "     \"</code>\\n\"+\n",
       "     \"</div>\"}};\n",
       "\n",
       "  function display_loaded() {\n",
       "    if (window.Bokeh !== undefined) {\n",
       "      Bokeh.$(\"#ea37d0cb-6624-4f33-9f2e-1917c639cd88\").text(\"BokehJS successfully loaded.\");\n",
       "    } else if (Date.now() < window._bokeh_timeout) {\n",
       "      setTimeout(display_loaded, 100)\n",
       "    }\n",
       "  }\n",
       "\n",
       "  function run_callbacks() {\n",
       "    window._bokeh_onload_callbacks.forEach(function(callback) { callback() });\n",
       "    delete window._bokeh_onload_callbacks\n",
       "    console.info(\"Bokeh: all callbacks have finished\");\n",
       "  }\n",
       "\n",
       "  function load_libs(js_urls, callback) {\n",
       "    window._bokeh_onload_callbacks.push(callback);\n",
       "    if (window._bokeh_is_loading > 0) {\n",
       "      console.log(\"Bokeh: BokehJS is being loaded, scheduling callback at\", now());\n",
       "      return null;\n",
       "    }\n",
       "    if (js_urls == null || js_urls.length === 0) {\n",
       "      run_callbacks();\n",
       "      return null;\n",
       "    }\n",
       "    console.log(\"Bokeh: BokehJS not loaded, scheduling load and callback at\", now());\n",
       "    window._bokeh_is_loading = js_urls.length;\n",
       "    for (var i = 0; i < js_urls.length; i++) {\n",
       "      var url = js_urls[i];\n",
       "      var s = document.createElement('script');\n",
       "      s.src = url;\n",
       "      s.async = false;\n",
       "      s.onreadystatechange = s.onload = function() {\n",
       "        window._bokeh_is_loading--;\n",
       "        if (window._bokeh_is_loading === 0) {\n",
       "          console.log(\"Bokeh: all BokehJS libraries loaded\");\n",
       "          run_callbacks()\n",
       "        }\n",
       "      };\n",
       "      s.onerror = function() {\n",
       "        console.warn(\"failed to load library \" + url);\n",
       "      };\n",
       "      console.log(\"Bokeh: injecting script tag for BokehJS library: \", url);\n",
       "      document.getElementsByTagName(\"head\")[0].appendChild(s);\n",
       "    }\n",
       "  };var element = document.getElementById(\"ea37d0cb-6624-4f33-9f2e-1917c639cd88\");\n",
       "  if (element == null) {\n",
       "    console.log(\"Bokeh: ERROR: autoload.js configured with elementid 'ea37d0cb-6624-4f33-9f2e-1917c639cd88' but no matching script tag was found. \")\n",
       "    return false;\n",
       "  }\n",
       "\n",
       "  var js_urls = ['https://cdn.pydata.org/bokeh/release/bokeh-0.12.2.min.js', 'https://cdn.pydata.org/bokeh/release/bokeh-widgets-0.12.2.min.js', 'https://cdn.pydata.org/bokeh/release/bokeh-compiler-0.12.2.min.js'];\n",
       "\n",
       "  var inline_js = [\n",
       "    function(Bokeh) {\n",
       "      Bokeh.set_log_level(\"info\");\n",
       "    },\n",
       "    \n",
       "    function(Bokeh) {\n",
       "      \n",
       "      Bokeh.$(\"#ea37d0cb-6624-4f33-9f2e-1917c639cd88\").text(\"BokehJS is loading...\");\n",
       "    },\n",
       "    function(Bokeh) {\n",
       "      console.log(\"Bokeh: injecting CSS: https://cdn.pydata.org/bokeh/release/bokeh-0.12.2.min.css\");\n",
       "      Bokeh.embed.inject_css(\"https://cdn.pydata.org/bokeh/release/bokeh-0.12.2.min.css\");\n",
       "      console.log(\"Bokeh: injecting CSS: https://cdn.pydata.org/bokeh/release/bokeh-widgets-0.12.2.min.css\");\n",
       "      Bokeh.embed.inject_css(\"https://cdn.pydata.org/bokeh/release/bokeh-widgets-0.12.2.min.css\");\n",
       "    }\n",
       "  ];\n",
       "\n",
       "  function run_inline_js() {\n",
       "    \n",
       "    if ((window.Bokeh !== undefined) || (force === \"1\")) {\n",
       "      for (var i = 0; i < inline_js.length; i++) {\n",
       "        inline_js[i](window.Bokeh);\n",
       "      }if (force === \"1\") {\n",
       "        display_loaded();\n",
       "      }} else if (Date.now() < window._bokeh_timeout) {\n",
       "      setTimeout(run_inline_js, 100);\n",
       "    } else if (!window._bokeh_failed_load) {\n",
       "      console.log(\"Bokeh: BokehJS failed to load within specified timeout.\");\n",
       "      window._bokeh_failed_load = true;\n",
       "    } else if (!force) {\n",
       "      var cell = $(\"#ea37d0cb-6624-4f33-9f2e-1917c639cd88\").parents('.cell').data().cell;\n",
       "      cell.output_area.append_execute_result(NB_LOAD_WARNING)\n",
       "    }\n",
       "\n",
       "  }\n",
       "\n",
       "  if (window._bokeh_is_loading === 0) {\n",
       "    console.log(\"Bokeh: BokehJS loaded, going straight to plotting\");\n",
       "    run_inline_js();\n",
       "  } else {\n",
       "    load_libs(js_urls, function() {\n",
       "      console.log(\"Bokeh: BokehJS plotting callback run at\", now());\n",
       "      run_inline_js();\n",
       "    });\n",
       "  }\n",
       "}(this));"
      ]
     },
     "metadata": {},
     "output_type": "display_data"
    }
   ],
   "source": [
    "# Our numerical workhorses\n",
    "import numpy as np\n",
    "import pandas as pd\n",
    "\n",
    "# Import Bokeh modules for interactive plotting\n",
    "import bokeh.charts\n",
    "import bokeh.charts.utils\n",
    "import bokeh.io\n",
    "import bokeh.models\n",
    "import bokeh.palettes\n",
    "import bokeh.plotting\n",
    "\n",
    "# Display graphics in this notebook\n",
    "bokeh.io.output_notebook()"
   ]
  },
  {
   "cell_type": "code",
   "execution_count": 34,
   "metadata": {
    "collapsed": true
   },
   "outputs": [],
   "source": [
    "import bokeh.plotting as plt\n",
    "from bokeh.plotting import figure, output_file, show, ColumnDataSource\n",
    "from bokeh.models import HoverTool\n",
    "from bokeh.models.formatters import DatetimeTickFormatter\n"
   ]
  },
  {
   "cell_type": "code",
   "execution_count": 35,
   "metadata": {
    "collapsed": false
   },
   "outputs": [],
   "source": [
    "property_id_BB = pd.read_excel('Results/GroupByPropertyID/2016/BB.xlsx')\n",
    "property_id_BB = property_id_BB.reset_index()\n",
    "property_id_BB = property_id_BB.sort_values(by = 'Stay_date', ascending=True)\n",
    "property_id_BB1 = property_id_BB.values.T.tolist()"
   ]
  },
  {
   "cell_type": "code",
   "execution_count": 36,
   "metadata": {
    "collapsed": false
   },
   "outputs": [
    {
     "data": {
      "text/plain": [
       "ADR    7779.796724\n",
       "dtype: float64"
      ]
     },
     "execution_count": 36,
     "metadata": {},
     "output_type": "execute_result"
    }
   ],
   "source": [
    "property_id_BB[['ADR']].mean()"
   ]
  },
  {
   "cell_type": "code",
   "execution_count": 37,
   "metadata": {
    "collapsed": false
   },
   "outputs": [
    {
     "data": {
      "text/plain": [
       "totalRevenue    131833.317643\n",
       "dtype: float64"
      ]
     },
     "execution_count": 37,
     "metadata": {},
     "output_type": "execute_result"
    }
   ],
   "source": [
    "property_id_BB[['totalRevenue']].mean()"
   ]
  },
  {
   "cell_type": "code",
   "execution_count": 38,
   "metadata": {
    "collapsed": false
   },
   "outputs": [
    {
     "data": {
      "text/plain": [
       "totalRevenue    1.305150e+07\n",
       "dtype: float64"
      ]
     },
     "execution_count": 38,
     "metadata": {},
     "output_type": "execute_result"
    }
   ],
   "source": [
    "property_id_BB[['totalRevenue']].sum()"
   ]
  },
  {
   "cell_type": "code",
   "execution_count": 39,
   "metadata": {
    "collapsed": false
   },
   "outputs": [
    {
     "data": {
      "text/html": [
       "\n",
       "\n",
       "    <div class=\"bk-root\">\n",
       "        <div class=\"plotdiv\" id=\"d4a11531-02b3-42db-9ea0-3a423b4cb059\"></div>\n",
       "    </div>\n",
       "<script type=\"text/javascript\">\n",
       "  \n",
       "  (function(global) {\n",
       "    function now() {\n",
       "      return new Date();\n",
       "    }\n",
       "  \n",
       "    var force = \"\";\n",
       "  \n",
       "    if (typeof (window._bokeh_onload_callbacks) === \"undefined\" || force !== \"\") {\n",
       "      window._bokeh_onload_callbacks = [];\n",
       "      window._bokeh_is_loading = undefined;\n",
       "    }\n",
       "  \n",
       "  \n",
       "    \n",
       "    if (typeof (window._bokeh_timeout) === \"undefined\" || force !== \"\") {\n",
       "      window._bokeh_timeout = Date.now() + 0;\n",
       "      window._bokeh_failed_load = false;\n",
       "    }\n",
       "  \n",
       "    var NB_LOAD_WARNING = {'data': {'text/html':\n",
       "       \"<div style='background-color: #fdd'>\\n\"+\n",
       "       \"<p>\\n\"+\n",
       "       \"BokehJS does not appear to have successfully loaded. If loading BokehJS from CDN, this \\n\"+\n",
       "       \"may be due to a slow or bad network connection. Possible fixes:\\n\"+\n",
       "       \"</p>\\n\"+\n",
       "       \"<ul>\\n\"+\n",
       "       \"<li>re-rerun `output_notebook()` to attempt to load from CDN again, or</li>\\n\"+\n",
       "       \"<li>use INLINE resources instead, as so:</li>\\n\"+\n",
       "       \"</ul>\\n\"+\n",
       "       \"<code>\\n\"+\n",
       "       \"from bokeh.resources import INLINE\\n\"+\n",
       "       \"output_notebook(resources=INLINE)\\n\"+\n",
       "       \"</code>\\n\"+\n",
       "       \"</div>\"}};\n",
       "  \n",
       "    function display_loaded() {\n",
       "      if (window.Bokeh !== undefined) {\n",
       "        Bokeh.$(\"#d4a11531-02b3-42db-9ea0-3a423b4cb059\").text(\"BokehJS successfully loaded.\");\n",
       "      } else if (Date.now() < window._bokeh_timeout) {\n",
       "        setTimeout(display_loaded, 100)\n",
       "      }\n",
       "    }\n",
       "  \n",
       "    function run_callbacks() {\n",
       "      window._bokeh_onload_callbacks.forEach(function(callback) { callback() });\n",
       "      delete window._bokeh_onload_callbacks\n",
       "      console.info(\"Bokeh: all callbacks have finished\");\n",
       "    }\n",
       "  \n",
       "    function load_libs(js_urls, callback) {\n",
       "      window._bokeh_onload_callbacks.push(callback);\n",
       "      if (window._bokeh_is_loading > 0) {\n",
       "        console.log(\"Bokeh: BokehJS is being loaded, scheduling callback at\", now());\n",
       "        return null;\n",
       "      }\n",
       "      if (js_urls == null || js_urls.length === 0) {\n",
       "        run_callbacks();\n",
       "        return null;\n",
       "      }\n",
       "      console.log(\"Bokeh: BokehJS not loaded, scheduling load and callback at\", now());\n",
       "      window._bokeh_is_loading = js_urls.length;\n",
       "      for (var i = 0; i < js_urls.length; i++) {\n",
       "        var url = js_urls[i];\n",
       "        var s = document.createElement('script');\n",
       "        s.src = url;\n",
       "        s.async = false;\n",
       "        s.onreadystatechange = s.onload = function() {\n",
       "          window._bokeh_is_loading--;\n",
       "          if (window._bokeh_is_loading === 0) {\n",
       "            console.log(\"Bokeh: all BokehJS libraries loaded\");\n",
       "            run_callbacks()\n",
       "          }\n",
       "        };\n",
       "        s.onerror = function() {\n",
       "          console.warn(\"failed to load library \" + url);\n",
       "        };\n",
       "        console.log(\"Bokeh: injecting script tag for BokehJS library: \", url);\n",
       "        document.getElementsByTagName(\"head\")[0].appendChild(s);\n",
       "      }\n",
       "    };var element = document.getElementById(\"d4a11531-02b3-42db-9ea0-3a423b4cb059\");\n",
       "    if (element == null) {\n",
       "      console.log(\"Bokeh: ERROR: autoload.js configured with elementid 'd4a11531-02b3-42db-9ea0-3a423b4cb059' but no matching script tag was found. \")\n",
       "      return false;\n",
       "    }\n",
       "  \n",
       "    var js_urls = [];\n",
       "  \n",
       "    var inline_js = [\n",
       "      function(Bokeh) {\n",
       "        Bokeh.$(function() {\n",
       "            var docs_json = {\"6598dcb9-d8b0-4dec-9004-7f613f8f8809\":{\"roots\":{\"references\":[{\"attributes\":{\"days\":[1,2,3,4,5,6,7,8,9,10,11,12,13,14,15,16,17,18,19,20,21,22,23,24,25,26,27,28,29,30,31]},\"id\":\"594b8dc1-f563-44a3-973b-c0621593d5bf\",\"type\":\"DaysTicker\"},{\"attributes\":{\"axis_label\":\"Stay Date\",\"formatter\":{\"id\":\"5e0c1870-f54e-4aa5-86fd-cf0504c6f349\",\"type\":\"DatetimeTickFormatter\"},\"plot\":{\"id\":\"e2ad8736-40ca-41ca-9de4-22436aed2946\",\"subtype\":\"Figure\",\"type\":\"Plot\"},\"ticker\":{\"id\":\"0dae10d7-e149-489c-8bc4-5d3317452bfb\",\"type\":\"DatetimeTicker\"}},\"id\":\"eb45d230-5db0-4d6d-b71c-55e03723a9eb\",\"type\":\"DatetimeAxis\"},{\"attributes\":{\"days\":[1,15]},\"id\":\"25d6151d-bc33-4220-a56a-10a360fd5c95\",\"type\":\"DaysTicker\"},{\"attributes\":{\"axis_label\":\"Total Revenue\",\"formatter\":{\"id\":\"f9fc2b9d-03cc-4c82-9d79-b98f5c6d3219\",\"type\":\"BasicTickFormatter\"},\"plot\":{\"id\":\"e2ad8736-40ca-41ca-9de4-22436aed2946\",\"subtype\":\"Figure\",\"type\":\"Plot\"},\"ticker\":{\"id\":\"ea90e482-0a80-41eb-a4fd-9a331fbe9b05\",\"type\":\"BasicTicker\"}},\"id\":\"c6b3f5c9-a0bd-4594-8760-a62f8cec2f37\",\"type\":\"LinearAxis\"},{\"attributes\":{\"base\":60,\"mantissas\":[1,2,5,10,15,20,30],\"max_interval\":1800000.0,\"min_interval\":1000.0,\"num_minor_ticks\":0},\"id\":\"17666333-a52b-4a78-9794-e2cc481f28bf\",\"type\":\"AdaptiveTicker\"},{\"attributes\":{\"max_interval\":500.0,\"num_minor_ticks\":0},\"id\":\"c9d20e0a-ac22-4e25-a91b-36cf722daf77\",\"type\":\"AdaptiveTicker\"},{\"attributes\":{\"dimension\":1,\"plot\":{\"id\":\"e2ad8736-40ca-41ca-9de4-22436aed2946\",\"subtype\":\"Figure\",\"type\":\"Plot\"},\"ticker\":{\"id\":\"ea90e482-0a80-41eb-a4fd-9a331fbe9b05\",\"type\":\"BasicTicker\"}},\"id\":\"67c973f0-621f-4e28-aa87-811387285ef9\",\"type\":\"Grid\"},{\"attributes\":{\"months\":[0,4,8]},\"id\":\"e86a0894-431b-4cae-878c-4c98bd362f9e\",\"type\":\"MonthsTicker\"},{\"attributes\":{\"plot\":{\"id\":\"e2ad8736-40ca-41ca-9de4-22436aed2946\",\"subtype\":\"Figure\",\"type\":\"Plot\"},\"ticker\":{\"id\":\"0dae10d7-e149-489c-8bc4-5d3317452bfb\",\"type\":\"DatetimeTicker\"}},\"id\":\"554ab759-2427-49ac-ac32-3a7ea1c547c1\",\"type\":\"Grid\"},{\"attributes\":{},\"id\":\"ea90e482-0a80-41eb-a4fd-9a331fbe9b05\",\"type\":\"BasicTicker\"},{\"attributes\":{\"line_alpha\":{\"value\":0.1},\"line_color\":{\"value\":\"#1f77b4\"},\"line_width\":{\"value\":2},\"x\":{\"field\":\"x\"},\"y\":{\"field\":\"y\"}},\"id\":\"5d41055d-a115-4efc-8ddd-3763754450c0\",\"type\":\"Line\"},{\"attributes\":{\"callback\":null},\"id\":\"299cb7dc-6a61-41fb-894c-8cf372f8fc37\",\"type\":\"DataRange1d\"},{\"attributes\":{\"callback\":null,\"plot\":{\"id\":\"e2ad8736-40ca-41ca-9de4-22436aed2946\",\"subtype\":\"Figure\",\"type\":\"Plot\"},\"tooltips\":[[\"Date\",\"@date\"],[\"Event\",\"@desc\"],[\"Total Revenue\",\"@y{1.11}\"]]},\"id\":\"aaa913f2-30b1-488f-8511-44129a1848bd\",\"type\":\"HoverTool\"},{\"attributes\":{\"plot\":null,\"text\":\"Graph of StayDate vs -TotalRevenue for BB (hover to view events)\"},\"id\":\"18bed50f-171a-4ca8-a0ad-8dc97e285be2\",\"type\":\"Title\"},{\"attributes\":{\"callback\":null,\"column_names\":[\"y\",\"x\",\"date\",\"desc\"],\"data\":{\"date\":[\"2016-01-01\",\"2016-01-02\",\"2016-01-12\",\"2016-01-14\",\"2016-01-15\",\"2016-01-16\",\"2016-01-17\",\"2016-01-23\",\"2016-01-25\",\"2016-01-26\",\"2016-01-28\",\"2016-01-31\",\"2016-02-02\",\"2016-02-09\",\"2016-02-12\",\"2016-02-13\",\"2016-02-19\",\"2016-02-22\",\"2016-03-04\",\"2016-03-05\",\"2016-03-07\",\"2016-03-09\",\"2016-03-22\",\"2016-03-23\",\"2016-03-25\",\"2016-04-01\",\"2016-04-05\",\"2016-04-08\",\"2016-04-13\",\"2016-04-14\",\"2016-04-15\",\"2016-04-19\",\"2016-04-20\",\"2016-04-21\",\"2016-05-01\",\"2016-05-08\",\"2016-05-09\",\"2016-05-16\",\"2016-05-21\",\"2016-05-25\",\"2016-06-07\",\"2016-06-08\",\"2016-06-14\",\"2016-06-15\",\"2016-06-20\",\"2016-07-01\",\"2016-07-06\",\"2016-07-07\",\"2016-07-08\",\"2016-07-12\",\"2016-07-26\",\"2016-07-31\",\"2016-08-02\",\"2016-08-17\",\"2016-08-18\",\"2016-08-24\",\"2016-08-25\",\"2016-09-02\",\"2016-09-03\",\"2016-09-04\",\"2016-09-05\",\"2016-09-06\",\"2016-09-10\",\"2016-09-12\",\"2016-09-13\",\"2016-09-14\",\"2016-09-15\",\"2016-09-16\",\"2016-09-21\",\"2016-09-23\",\"2016-09-28\",\"2016-09-30\",\"2016-10-01\",\"2016-10-02\",\"2016-10-08\",\"2016-10-09\",\"2016-10-10\",\"2016-10-11\",\"2016-10-12\",\"2016-10-13\",\"2016-10-14\",\"2016-10-15\",\"2016-10-16\",\"2016-10-17\",\"2016-10-29\",\"2016-10-30\",\"2016-10-31\",\"2016-11-01\",\"2016-11-06\",\"2016-11-07\",\"2016-11-14\",\"2016-11-17\",\"2016-12-03\",\"2016-12-04\",\"2016-12-06\",\"2016-12-13\",\"2016-12-19\",\"2016-12-25\",\"2016-12-26\"],\"desc\":[\"New Years Day\",\"Mannam Jayanthi\",\"Birthday of Swami Vivekananda\",\"Pongal\",\"Sankranti\",\"Guru Gobind Singh Jayanti\",\"Uzhavar Tirunal\",\"Netaji Subhas Chandra Bose Jayanti\",\"Statehood Day\",\"Republic Day\",\"Birthday of Lala Lajpat Rai\",\"Me-dam-me-phi\",\"Public Holiday\",\"Losar\",\"Vasant Panchami\",\"Sree Panchami\",\"Chhatrapati Shivaji Maharaj Jayanti\",\"Guru Ravidas Birthday\",\"Maharshi Dayanand Saraswati Jayanti\",\"Panchayati Raj Diwas\",\"Maha Shivratri\",\"Solar Eclipse\",\"Bihar Divas\",\"Doljatra\",\"Good Friday\",\"Odisha Day\",\"Babu Jagjivan Ram Birthday\",\"Ugadi\",\"Vaisakhi\",\"Tamil New Year\",\"Ram Navami\",\"Mahavir Jayanti\",\"Garia Puja\",\"Hazrat Alis Birthday\",\"May Day\",\"Birthday of Rabindra Nath Tagore\",\"Parashurama Jayanti\",\"Public Holiday\",\"Buddha Purnima\",\"Birthday of Kazi Nazrul Islam\",\"Maharana Pratap Jayanti\",\"Guru Arjun Dev Martyrdom day\",\"Pahili Raja\",\"Raja Sankranti\",\"Sant Guru Kabir Jayanti\",\"Jumat-ul-Wida\",\"Idul Fitr\",\"Ramzan\",\"Ramzan\",\"Kharchi Puja\",\"Ker Puja\",\"Martyrdom Day of Shaheed Udham Singh\",\"Karkkadaka Vavu\",\"Parsi New Year\",\"Raksha Bandhan\",\"Sreekrishna Jayanthi\",\"Janmashtami\",\"Parkash Utsav Sri Guru Granth Sahib Ji\",\"Tithi of Shrimanta Shankar Dev\",\"Teej\",\"Ganesh Chaturthi\",\"Ganesh Chaturthi Holiday\",\"Birthday of Baba Sri Chand Ji\",\"Idul Juha\",\"First Onam\",\"Thiruvonam\",\"Third Onam\",\"Sree Narayana Guru Jayanti\",\"Sree Narayana Guru Samadhi\",\"Haryana's Heroes' Martyrdom Day\",\"Birthday of S. Bhagat Singh Ji\",\"Mahalaya\",\"Maharaja Agrasen Jayanati\",\"Mahatma Gandhi Birthday\",\"Panchami\",\"Durgastami\",\"Ayudha Puja\",\"Dussehra\",\"Muharram (10th Day)\",\"Durga Puja Holiday\",\"Durga Puja Holiday\",\"Maharishi Valmiki Birthday\",\"Maharishi Valmiki Birthday\",\"Parkash Gurpurab of Sri Guru Ram Dass Ji\",\"Deepavali\",\"Deewali\",\"Deepavali\",\"Bhai Bij\",\"Chhath Puja\",\"Chhath Puja\",\"Guru Nanak Birthday\",\"Kanakadasa Jayanthi\",\"World Disabled Day\",\"Martyrdom Day of Sri Guru Teg Bahadur Ji\",\"Public Holiday\",\"Id-e-Milad\",\"Goa Liberation Day\",\"Christmas Day\",\"Shaheed Udham Singh's Birthday\"],\"x\":[1451606400000.0,1451692800000.0,1452556800000.0,1452729600000.0,1452816000000.0,1452902400000.0,1452988800000.0,1453507200000.0,1453680000000.0,1453766400000.0,1453939200000.0,1454198400000.0,1454371200000.0,1454976000000.0,1455235200000.0,1455321600000.0,1455840000000.0,1456099200000.0,1457049600000.0,1457136000000.0,1457308800000.0,1457481600000.0,1458604800000.0,1458691200000.0,1458864000000.0,1459468800000.0,1459814400000.0,1460073600000.0,1460505600000.0,1460592000000.0,1460678400000.0,1461024000000.0,1461110400000.0,1461196800000.0,1462060800000.0,1462665600000.0,1462752000000.0,1463356800000.0,1463788800000.0,1464134400000.0,1465257600000.0,1465344000000.0,1465862400000.0,1465948800000.0,1466380800000.0,1467331200000.0,1467763200000.0,1467849600000.0,1467936000000.0,1468281600000.0,1469491200000.0,1469923200000.0,1470096000000.0,1471392000000.0,1471478400000.0,1471996800000.0,1472083200000.0,1472774400000.0,1472860800000.0,1472947200000.0,1473033600000.0,1473120000000.0,1473465600000.0,1473638400000.0,1473724800000.0,1473811200000.0,1473897600000.0,1473984000000.0,1474416000000.0,1474588800000.0,1475020800000.0,1475193600000.0,1475280000000.0,1475366400000.0,1475884800000.0,1475971200000.0,1476057600000.0,1476144000000.0,1476230400000.0,1476316800000.0,1476403200000.0,1476489600000.0,1476576000000.0,1476662400000.0,1477699200000.0,1477785600000.0,1477872000000.0,1477958400000.0,1478390400000.0,1478476800000.0,1479081600000.0,1479340800000.0,1480723200000.0,1480809600000.0,1480982400000.0,1481587200000.0,1482105600000.0,1482624000000.0,1482710400000.0],\"y\":[167829.0,228849.0,225492.0,275673.0,260963.0,205178.0,243218.0,249897.0,191574.0,184169.0,183277.0,220808.5,209541.0,219242.0,230741.0,211567.0,181305.0,262658.0,152496.9,217896.9,267143.0,91152.0,295624.0,218994.0,266785.0,106459.0,180685.0,211490.0,52610.0,20475.0,49949.0,106882.0,52304.0,45875.0,99928.6,34960.0,19800.0,29995.0,110578.5,39950.0,8650.0,16450.0,0.0,25839.0,40425.0,79907.5,54525.0,33728.0,81585.0,67215.0,59700.0,100110.0,94465.36,82950.0,105600.0,37575.0,51940.74000000001,89904.64,110512.14,63862.0,72432.0,67705.0,45822.0,57432.5,80235.0,61818.38,82891.48999999999,81582.48999999999,84058.66666666667,72165.0,41713.83,111610.8333333333,93181.83333333333,108731.8333333333,109426.25,69726.25,51040.0,27150.0,110810.0,83010.0,91060.0,47500.0,85262.66,163665.16,203751.51,190221.0,257998.75,222021.25,164126.92,185258.91,125578.75,248951.26,175514.26,152209.005,249800.0,328671.375,301080.5,312123.5,205201.5]}},\"id\":\"0b9431b8-0650-4622-8da8-fb5cc4b5dd37\",\"type\":\"ColumnDataSource\"},{\"attributes\":{\"days\":[1,8,15,22]},\"id\":\"fe18a214-f529-4998-991e-60022ea1fe0d\",\"type\":\"DaysTicker\"},{\"attributes\":{\"below\":[{\"id\":\"eb45d230-5db0-4d6d-b71c-55e03723a9eb\",\"type\":\"DatetimeAxis\"}],\"left\":[{\"id\":\"c6b3f5c9-a0bd-4594-8760-a62f8cec2f37\",\"type\":\"LinearAxis\"}],\"plot_height\":500,\"plot_width\":800,\"renderers\":[{\"id\":\"eb45d230-5db0-4d6d-b71c-55e03723a9eb\",\"type\":\"DatetimeAxis\"},{\"id\":\"554ab759-2427-49ac-ac32-3a7ea1c547c1\",\"type\":\"Grid\"},{\"id\":\"c6b3f5c9-a0bd-4594-8760-a62f8cec2f37\",\"type\":\"LinearAxis\"},{\"id\":\"67c973f0-621f-4e28-aa87-811387285ef9\",\"type\":\"Grid\"},{\"id\":\"1b09f963-6bf6-462c-bfcf-7bfd47042f7c\",\"type\":\"GlyphRenderer\"}],\"title\":{\"id\":\"18bed50f-171a-4ca8-a0ad-8dc97e285be2\",\"type\":\"Title\"},\"tool_events\":{\"id\":\"5c8da460-b7d2-4243-874f-bd20cb015089\",\"type\":\"ToolEvents\"},\"toolbar\":{\"id\":\"066ab083-448e-4f3c-9986-860858f1b02a\",\"type\":\"Toolbar\"},\"x_range\":{\"id\":\"7e903c55-cc98-47d1-8e56-6912df00df42\",\"type\":\"DataRange1d\"},\"y_range\":{\"id\":\"299cb7dc-6a61-41fb-894c-8cf372f8fc37\",\"type\":\"DataRange1d\"}},\"id\":\"e2ad8736-40ca-41ca-9de4-22436aed2946\",\"subtype\":\"Figure\",\"type\":\"Plot\"},{\"attributes\":{\"data_source\":{\"id\":\"0b9431b8-0650-4622-8da8-fb5cc4b5dd37\",\"type\":\"ColumnDataSource\"},\"glyph\":{\"id\":\"c5386afa-3034-4c1b-ba3d-462094b7d6e9\",\"type\":\"Line\"},\"hover_glyph\":null,\"nonselection_glyph\":{\"id\":\"5d41055d-a115-4efc-8ddd-3763754450c0\",\"type\":\"Line\"},\"selection_glyph\":null},\"id\":\"1b09f963-6bf6-462c-bfcf-7bfd47042f7c\",\"type\":\"GlyphRenderer\"},{\"attributes\":{\"num_minor_ticks\":5},\"id\":\"0dae10d7-e149-489c-8bc4-5d3317452bfb\",\"type\":\"DatetimeTicker\"},{\"attributes\":{\"days\":[1,4,7,10,13,16,19,22,25,28]},\"id\":\"da7b7bdf-d944-4835-8c23-eb7219de2d08\",\"type\":\"DaysTicker\"},{\"attributes\":{\"use_scientific\":false},\"id\":\"f9fc2b9d-03cc-4c82-9d79-b98f5c6d3219\",\"type\":\"BasicTickFormatter\"},{\"attributes\":{\"callback\":null},\"id\":\"7e903c55-cc98-47d1-8e56-6912df00df42\",\"type\":\"DataRange1d\"},{\"attributes\":{\"months\":[0,6]},\"id\":\"1f910035-6954-4e3f-8674-58808cee4760\",\"type\":\"MonthsTicker\"},{\"attributes\":{},\"id\":\"5c8da460-b7d2-4243-874f-bd20cb015089\",\"type\":\"ToolEvents\"},{\"attributes\":{},\"id\":\"5e0c1870-f54e-4aa5-86fd-cf0504c6f349\",\"type\":\"DatetimeTickFormatter\"},{\"attributes\":{\"line_color\":{\"value\":\"#1f77b4\"},\"line_width\":{\"value\":2},\"x\":{\"field\":\"x\"},\"y\":{\"field\":\"y\"}},\"id\":\"c5386afa-3034-4c1b-ba3d-462094b7d6e9\",\"type\":\"Line\"},{\"attributes\":{\"base\":24,\"mantissas\":[1,2,4,6,8,12],\"max_interval\":43200000.0,\"min_interval\":3600000.0,\"num_minor_ticks\":0},\"id\":\"c59d1748-aeb0-43cc-b7ac-dd251dcd2d08\",\"type\":\"AdaptiveTicker\"},{\"attributes\":{\"months\":[0,1,2,3,4,5,6,7,8,9,10,11]},\"id\":\"929621fc-3642-4f6d-88b9-f468fac6027f\",\"type\":\"MonthsTicker\"},{\"attributes\":{\"months\":[0,2,4,6,8,10]},\"id\":\"3f49f0df-1ac0-42b0-adfe-183a4ec4216c\",\"type\":\"MonthsTicker\"},{\"attributes\":{},\"id\":\"c9143848-48cc-4a52-b2c5-3753b6a11989\",\"type\":\"YearsTicker\"},{\"attributes\":{\"active_drag\":\"auto\",\"active_scroll\":\"auto\",\"active_tap\":\"auto\",\"tools\":[{\"id\":\"aaa913f2-30b1-488f-8511-44129a1848bd\",\"type\":\"HoverTool\"}]},\"id\":\"066ab083-448e-4f3c-9986-860858f1b02a\",\"type\":\"Toolbar\"}],\"root_ids\":[\"e2ad8736-40ca-41ca-9de4-22436aed2946\"]},\"title\":\"Bokeh Application\",\"version\":\"0.12.2\"}};\n",
       "            var render_items = [{\"docid\":\"6598dcb9-d8b0-4dec-9004-7f613f8f8809\",\"elementid\":\"d4a11531-02b3-42db-9ea0-3a423b4cb059\",\"modelid\":\"e2ad8736-40ca-41ca-9de4-22436aed2946\"}];\n",
       "            \n",
       "            Bokeh.embed.embed_items(docs_json, render_items);\n",
       "        });\n",
       "      },\n",
       "      function(Bokeh) {\n",
       "      }\n",
       "    ];\n",
       "  \n",
       "    function run_inline_js() {\n",
       "      \n",
       "      if ((window.Bokeh !== undefined) || (force === \"1\")) {\n",
       "        for (var i = 0; i < inline_js.length; i++) {\n",
       "          inline_js[i](window.Bokeh);\n",
       "        }if (force === \"1\") {\n",
       "          display_loaded();\n",
       "        }} else if (Date.now() < window._bokeh_timeout) {\n",
       "        setTimeout(run_inline_js, 100);\n",
       "      } else if (!window._bokeh_failed_load) {\n",
       "        console.log(\"Bokeh: BokehJS failed to load within specified timeout.\");\n",
       "        window._bokeh_failed_load = true;\n",
       "      } else if (!force) {\n",
       "        var cell = $(\"#d4a11531-02b3-42db-9ea0-3a423b4cb059\").parents('.cell').data().cell;\n",
       "        cell.output_area.append_execute_result(NB_LOAD_WARNING)\n",
       "      }\n",
       "  \n",
       "    }\n",
       "  \n",
       "    if (window._bokeh_is_loading === 0) {\n",
       "      console.log(\"Bokeh: BokehJS loaded, going straight to plotting\");\n",
       "      run_inline_js();\n",
       "    } else {\n",
       "      load_libs(js_urls, function() {\n",
       "        console.log(\"Bokeh: BokehJS plotting callback run at\", now());\n",
       "        run_inline_js();\n",
       "      });\n",
       "    }\n",
       "  }(this));\n",
       "</script>"
      ]
     },
     "metadata": {},
     "output_type": "display_data"
    }
   ],
   "source": [
    "source = ColumnDataSource(\n",
    "        data=dict(\n",
    "            x=property_id_BB1[2],\n",
    "            y=property_id_BB1[5],\n",
    "            desc=property_id_BB1[3],\n",
    "            date=[x.strftime(\"%Y-%m-%d\") for x in property_id_BB['Stay_date']]\n",
    "        )\n",
    "    )\n",
    "\n",
    "hover = HoverTool(\n",
    "        tooltips=[\n",
    "            (\"Date\",\"@date\"),\n",
    "            (\"Event\", \"@desc\"),\n",
    "            (\"Total Revenue\",\"@y{1.11}\")\n",
    "        ]\n",
    "    )\n",
    "\n",
    "p = plt.figure(x_axis_type=\"datetime\",width=800, height=500, tools=[hover],\n",
    "           title=\"Graph of StayDate vs -TotalRevenue for BB (hover to view events)\",x_axis_label = \"Stay Date\",\n",
    "               y_axis_label = \"Total Revenue\")\n",
    "p.left[0].formatter.use_scientific = False\n",
    "p.line('x', 'y', line_width=2, source=source)   \n",
    "show(p)"
   ]
  },
  {
   "cell_type": "code",
   "execution_count": 40,
   "metadata": {
    "collapsed": false
   },
   "outputs": [
    {
     "data": {
      "text/html": [
       "\n",
       "\n",
       "    <div class=\"bk-root\">\n",
       "        <div class=\"plotdiv\" id=\"c60e5cd0-9b86-4792-ac1d-d400a72cbdcc\"></div>\n",
       "    </div>\n",
       "<script type=\"text/javascript\">\n",
       "  \n",
       "  (function(global) {\n",
       "    function now() {\n",
       "      return new Date();\n",
       "    }\n",
       "  \n",
       "    var force = \"\";\n",
       "  \n",
       "    if (typeof (window._bokeh_onload_callbacks) === \"undefined\" || force !== \"\") {\n",
       "      window._bokeh_onload_callbacks = [];\n",
       "      window._bokeh_is_loading = undefined;\n",
       "    }\n",
       "  \n",
       "  \n",
       "    \n",
       "    if (typeof (window._bokeh_timeout) === \"undefined\" || force !== \"\") {\n",
       "      window._bokeh_timeout = Date.now() + 0;\n",
       "      window._bokeh_failed_load = false;\n",
       "    }\n",
       "  \n",
       "    var NB_LOAD_WARNING = {'data': {'text/html':\n",
       "       \"<div style='background-color: #fdd'>\\n\"+\n",
       "       \"<p>\\n\"+\n",
       "       \"BokehJS does not appear to have successfully loaded. If loading BokehJS from CDN, this \\n\"+\n",
       "       \"may be due to a slow or bad network connection. Possible fixes:\\n\"+\n",
       "       \"</p>\\n\"+\n",
       "       \"<ul>\\n\"+\n",
       "       \"<li>re-rerun `output_notebook()` to attempt to load from CDN again, or</li>\\n\"+\n",
       "       \"<li>use INLINE resources instead, as so:</li>\\n\"+\n",
       "       \"</ul>\\n\"+\n",
       "       \"<code>\\n\"+\n",
       "       \"from bokeh.resources import INLINE\\n\"+\n",
       "       \"output_notebook(resources=INLINE)\\n\"+\n",
       "       \"</code>\\n\"+\n",
       "       \"</div>\"}};\n",
       "  \n",
       "    function display_loaded() {\n",
       "      if (window.Bokeh !== undefined) {\n",
       "        Bokeh.$(\"#c60e5cd0-9b86-4792-ac1d-d400a72cbdcc\").text(\"BokehJS successfully loaded.\");\n",
       "      } else if (Date.now() < window._bokeh_timeout) {\n",
       "        setTimeout(display_loaded, 100)\n",
       "      }\n",
       "    }\n",
       "  \n",
       "    function run_callbacks() {\n",
       "      window._bokeh_onload_callbacks.forEach(function(callback) { callback() });\n",
       "      delete window._bokeh_onload_callbacks\n",
       "      console.info(\"Bokeh: all callbacks have finished\");\n",
       "    }\n",
       "  \n",
       "    function load_libs(js_urls, callback) {\n",
       "      window._bokeh_onload_callbacks.push(callback);\n",
       "      if (window._bokeh_is_loading > 0) {\n",
       "        console.log(\"Bokeh: BokehJS is being loaded, scheduling callback at\", now());\n",
       "        return null;\n",
       "      }\n",
       "      if (js_urls == null || js_urls.length === 0) {\n",
       "        run_callbacks();\n",
       "        return null;\n",
       "      }\n",
       "      console.log(\"Bokeh: BokehJS not loaded, scheduling load and callback at\", now());\n",
       "      window._bokeh_is_loading = js_urls.length;\n",
       "      for (var i = 0; i < js_urls.length; i++) {\n",
       "        var url = js_urls[i];\n",
       "        var s = document.createElement('script');\n",
       "        s.src = url;\n",
       "        s.async = false;\n",
       "        s.onreadystatechange = s.onload = function() {\n",
       "          window._bokeh_is_loading--;\n",
       "          if (window._bokeh_is_loading === 0) {\n",
       "            console.log(\"Bokeh: all BokehJS libraries loaded\");\n",
       "            run_callbacks()\n",
       "          }\n",
       "        };\n",
       "        s.onerror = function() {\n",
       "          console.warn(\"failed to load library \" + url);\n",
       "        };\n",
       "        console.log(\"Bokeh: injecting script tag for BokehJS library: \", url);\n",
       "        document.getElementsByTagName(\"head\")[0].appendChild(s);\n",
       "      }\n",
       "    };var element = document.getElementById(\"c60e5cd0-9b86-4792-ac1d-d400a72cbdcc\");\n",
       "    if (element == null) {\n",
       "      console.log(\"Bokeh: ERROR: autoload.js configured with elementid 'c60e5cd0-9b86-4792-ac1d-d400a72cbdcc' but no matching script tag was found. \")\n",
       "      return false;\n",
       "    }\n",
       "  \n",
       "    var js_urls = [];\n",
       "  \n",
       "    var inline_js = [\n",
       "      function(Bokeh) {\n",
       "        Bokeh.$(function() {\n",
       "            var docs_json = {\"2462d238-a494-435b-839c-dd0fef700e7e\":{\"roots\":{\"references\":[{\"attributes\":{\"line_alpha\":{\"value\":0.1},\"line_color\":{\"value\":\"#1f77b4\"},\"line_width\":{\"value\":2},\"x\":{\"field\":\"x\"},\"y\":{\"field\":\"y\"}},\"id\":\"138d8417-9173-43fb-a8f4-1fc20f2dba2b\",\"type\":\"Line\"},{\"attributes\":{},\"id\":\"cbd1bdef-a835-4b39-8d18-293f651f8787\",\"type\":\"ToolEvents\"},{\"attributes\":{\"months\":[0,1,2,3,4,5,6,7,8,9,10,11]},\"id\":\"5054ddd3-deb1-40e4-8862-1dcd5f53adcc\",\"type\":\"MonthsTicker\"},{\"attributes\":{\"plot\":null,\"text\":\"Graph of StayDate vs ADR for BB (hover to view events)\"},\"id\":\"183ad5bd-e03a-47b2-bd23-2cfd85217a6c\",\"type\":\"Title\"},{\"attributes\":{\"months\":[0,6]},\"id\":\"0aada682-8225-4392-b92b-e192b265578b\",\"type\":\"MonthsTicker\"},{\"attributes\":{\"days\":[1,15]},\"id\":\"3a6729bc-3de3-466e-b0d9-79de1f8f1533\",\"type\":\"DaysTicker\"},{\"attributes\":{\"plot\":{\"id\":\"4b114e2a-a232-42ee-9bc4-37d7c38cedd8\",\"subtype\":\"Figure\",\"type\":\"Plot\"},\"ticker\":{\"id\":\"393845f7-3a24-461f-af93-61f2c73ac370\",\"type\":\"DatetimeTicker\"}},\"id\":\"89ea0187-ea96-4790-8816-91181d7864db\",\"type\":\"Grid\"},{\"attributes\":{\"callback\":null,\"plot\":{\"id\":\"4b114e2a-a232-42ee-9bc4-37d7c38cedd8\",\"subtype\":\"Figure\",\"type\":\"Plot\"},\"tooltips\":[[\"Date\",\"@date\"],[\"Event\",\"@desc\"],[\"ADR\",\"@y{1.11}\"]]},\"id\":\"46850ac8-da93-4d8a-a25d-037529aa9ec1\",\"type\":\"HoverTool\"},{\"attributes\":{\"use_scientific\":false},\"id\":\"7e55e3cf-d04f-41bb-9e17-20584411aa0b\",\"type\":\"BasicTickFormatter\"},{\"attributes\":{\"months\":[0,2,4,6,8,10]},\"id\":\"1c1f1886-ab7e-4ea9-a712-9d644f7b8927\",\"type\":\"MonthsTicker\"},{\"attributes\":{\"axis_label\":\"Stay Date\",\"formatter\":{\"id\":\"be00092b-083c-46c9-95ba-5f3b57b23f29\",\"type\":\"DatetimeTickFormatter\"},\"plot\":{\"id\":\"4b114e2a-a232-42ee-9bc4-37d7c38cedd8\",\"subtype\":\"Figure\",\"type\":\"Plot\"},\"ticker\":{\"id\":\"393845f7-3a24-461f-af93-61f2c73ac370\",\"type\":\"DatetimeTicker\"}},\"id\":\"2f31d8c0-ba6e-4a78-aa0b-2070e9e20cf9\",\"type\":\"DatetimeAxis\"},{\"attributes\":{\"active_drag\":\"auto\",\"active_scroll\":\"auto\",\"active_tap\":\"auto\",\"tools\":[{\"id\":\"46850ac8-da93-4d8a-a25d-037529aa9ec1\",\"type\":\"HoverTool\"}]},\"id\":\"f66815c3-4abd-4654-9de3-274ca4f03114\",\"type\":\"Toolbar\"},{\"attributes\":{},\"id\":\"69d99297-6f09-44a8-8712-df80e7a73288\",\"type\":\"YearsTicker\"},{\"attributes\":{\"days\":[1,4,7,10,13,16,19,22,25,28]},\"id\":\"83448674-297a-442b-8c25-7d783c50a6e9\",\"type\":\"DaysTicker\"},{\"attributes\":{\"callback\":null},\"id\":\"f2fdddb3-9f54-4b23-909a-ddec418dcea7\",\"type\":\"DataRange1d\"},{\"attributes\":{\"dimension\":1,\"plot\":{\"id\":\"4b114e2a-a232-42ee-9bc4-37d7c38cedd8\",\"subtype\":\"Figure\",\"type\":\"Plot\"},\"ticker\":{\"id\":\"244cdc2d-9fd5-4c60-8e4c-44e480e07e6e\",\"type\":\"BasicTicker\"}},\"id\":\"028d5c64-bb58-424e-a30d-736f1bad2dd6\",\"type\":\"Grid\"},{\"attributes\":{\"below\":[{\"id\":\"2f31d8c0-ba6e-4a78-aa0b-2070e9e20cf9\",\"type\":\"DatetimeAxis\"}],\"left\":[{\"id\":\"6513d9ee-ffbe-4ded-a0bd-e136c835cec2\",\"type\":\"LinearAxis\"}],\"plot_height\":500,\"plot_width\":800,\"renderers\":[{\"id\":\"2f31d8c0-ba6e-4a78-aa0b-2070e9e20cf9\",\"type\":\"DatetimeAxis\"},{\"id\":\"89ea0187-ea96-4790-8816-91181d7864db\",\"type\":\"Grid\"},{\"id\":\"6513d9ee-ffbe-4ded-a0bd-e136c835cec2\",\"type\":\"LinearAxis\"},{\"id\":\"028d5c64-bb58-424e-a30d-736f1bad2dd6\",\"type\":\"Grid\"},{\"id\":\"12ea16b7-ea1b-48bc-b5d8-8ba7701d4ff8\",\"type\":\"GlyphRenderer\"}],\"title\":{\"id\":\"183ad5bd-e03a-47b2-bd23-2cfd85217a6c\",\"type\":\"Title\"},\"tool_events\":{\"id\":\"cbd1bdef-a835-4b39-8d18-293f651f8787\",\"type\":\"ToolEvents\"},\"toolbar\":{\"id\":\"f66815c3-4abd-4654-9de3-274ca4f03114\",\"type\":\"Toolbar\"},\"x_range\":{\"id\":\"f2fdddb3-9f54-4b23-909a-ddec418dcea7\",\"type\":\"DataRange1d\"},\"y_range\":{\"id\":\"8c85f48c-3389-4a0d-89d8-58c6f6d5f7bc\",\"type\":\"DataRange1d\"}},\"id\":\"4b114e2a-a232-42ee-9bc4-37d7c38cedd8\",\"subtype\":\"Figure\",\"type\":\"Plot\"},{\"attributes\":{\"base\":60,\"mantissas\":[1,2,5,10,15,20,30],\"max_interval\":1800000.0,\"min_interval\":1000.0,\"num_minor_ticks\":0},\"id\":\"408ed00f-a42e-4a23-9fa9-a551642a8968\",\"type\":\"AdaptiveTicker\"},{\"attributes\":{\"num_minor_ticks\":5},\"id\":\"393845f7-3a24-461f-af93-61f2c73ac370\",\"type\":\"DatetimeTicker\"},{\"attributes\":{},\"id\":\"be00092b-083c-46c9-95ba-5f3b57b23f29\",\"type\":\"DatetimeTickFormatter\"},{\"attributes\":{\"callback\":null,\"column_names\":[\"y\",\"x\",\"date\",\"desc\"],\"data\":{\"date\":[\"2016-01-01\",\"2016-01-02\",\"2016-01-12\",\"2016-01-14\",\"2016-01-15\",\"2016-01-16\",\"2016-01-17\",\"2016-01-23\",\"2016-01-25\",\"2016-01-26\",\"2016-01-28\",\"2016-01-31\",\"2016-02-02\",\"2016-02-09\",\"2016-02-12\",\"2016-02-13\",\"2016-02-19\",\"2016-02-22\",\"2016-03-04\",\"2016-03-05\",\"2016-03-07\",\"2016-03-09\",\"2016-03-22\",\"2016-03-23\",\"2016-03-25\",\"2016-04-01\",\"2016-04-05\",\"2016-04-08\",\"2016-04-13\",\"2016-04-14\",\"2016-04-15\",\"2016-04-19\",\"2016-04-20\",\"2016-04-21\",\"2016-05-01\",\"2016-05-08\",\"2016-05-09\",\"2016-05-16\",\"2016-05-21\",\"2016-05-25\",\"2016-06-07\",\"2016-06-08\",\"2016-06-14\",\"2016-06-15\",\"2016-06-20\",\"2016-07-01\",\"2016-07-06\",\"2016-07-07\",\"2016-07-08\",\"2016-07-12\",\"2016-07-26\",\"2016-07-31\",\"2016-08-02\",\"2016-08-17\",\"2016-08-18\",\"2016-08-24\",\"2016-08-25\",\"2016-09-02\",\"2016-09-03\",\"2016-09-04\",\"2016-09-05\",\"2016-09-06\",\"2016-09-10\",\"2016-09-12\",\"2016-09-13\",\"2016-09-14\",\"2016-09-15\",\"2016-09-16\",\"2016-09-21\",\"2016-09-23\",\"2016-09-28\",\"2016-09-30\",\"2016-10-01\",\"2016-10-02\",\"2016-10-08\",\"2016-10-09\",\"2016-10-10\",\"2016-10-11\",\"2016-10-12\",\"2016-10-13\",\"2016-10-14\",\"2016-10-15\",\"2016-10-16\",\"2016-10-17\",\"2016-10-29\",\"2016-10-30\",\"2016-10-31\",\"2016-11-01\",\"2016-11-06\",\"2016-11-07\",\"2016-11-14\",\"2016-11-17\",\"2016-12-03\",\"2016-12-04\",\"2016-12-06\",\"2016-12-13\",\"2016-12-19\",\"2016-12-25\",\"2016-12-26\"],\"desc\":[\"New Years Day\",\"Mannam Jayanthi\",\"Birthday of Swami Vivekananda\",\"Pongal\",\"Sankranti\",\"Guru Gobind Singh Jayanti\",\"Uzhavar Tirunal\",\"Netaji Subhas Chandra Bose Jayanti\",\"Statehood Day\",\"Republic Day\",\"Birthday of Lala Lajpat Rai\",\"Me-dam-me-phi\",\"Public Holiday\",\"Losar\",\"Vasant Panchami\",\"Sree Panchami\",\"Chhatrapati Shivaji Maharaj Jayanti\",\"Guru Ravidas Birthday\",\"Maharshi Dayanand Saraswati Jayanti\",\"Panchayati Raj Diwas\",\"Maha Shivratri\",\"Solar Eclipse\",\"Bihar Divas\",\"Doljatra\",\"Good Friday\",\"Odisha Day\",\"Babu Jagjivan Ram Birthday\",\"Ugadi\",\"Vaisakhi\",\"Tamil New Year\",\"Ram Navami\",\"Mahavir Jayanti\",\"Garia Puja\",\"Hazrat Alis Birthday\",\"May Day\",\"Birthday of Rabindra Nath Tagore\",\"Parashurama Jayanti\",\"Public Holiday\",\"Buddha Purnima\",\"Birthday of Kazi Nazrul Islam\",\"Maharana Pratap Jayanti\",\"Guru Arjun Dev Martyrdom day\",\"Pahili Raja\",\"Raja Sankranti\",\"Sant Guru Kabir Jayanti\",\"Jumat-ul-Wida\",\"Idul Fitr\",\"Ramzan\",\"Ramzan\",\"Kharchi Puja\",\"Ker Puja\",\"Martyrdom Day of Shaheed Udham Singh\",\"Karkkadaka Vavu\",\"Parsi New Year\",\"Raksha Bandhan\",\"Sreekrishna Jayanthi\",\"Janmashtami\",\"Parkash Utsav Sri Guru Granth Sahib Ji\",\"Tithi of Shrimanta Shankar Dev\",\"Teej\",\"Ganesh Chaturthi\",\"Ganesh Chaturthi Holiday\",\"Birthday of Baba Sri Chand Ji\",\"Idul Juha\",\"First Onam\",\"Thiruvonam\",\"Third Onam\",\"Sree Narayana Guru Jayanti\",\"Sree Narayana Guru Samadhi\",\"Haryana's Heroes' Martyrdom Day\",\"Birthday of S. Bhagat Singh Ji\",\"Mahalaya\",\"Maharaja Agrasen Jayanati\",\"Mahatma Gandhi Birthday\",\"Panchami\",\"Durgastami\",\"Ayudha Puja\",\"Dussehra\",\"Muharram (10th Day)\",\"Durga Puja Holiday\",\"Durga Puja Holiday\",\"Maharishi Valmiki Birthday\",\"Maharishi Valmiki Birthday\",\"Parkash Gurpurab of Sri Guru Ram Dass Ji\",\"Deepavali\",\"Deewali\",\"Deepavali\",\"Bhai Bij\",\"Chhath Puja\",\"Chhath Puja\",\"Guru Nanak Birthday\",\"Kanakadasa Jayanthi\",\"World Disabled Day\",\"Martyrdom Day of Sri Guru Teg Bahadur Ji\",\"Public Holiday\",\"Id-e-Milad\",\"Goa Liberation Day\",\"Christmas Day\",\"Shaheed Udham Singh's Birthday\"],\"x\":[1451606400000.0,1451692800000.0,1452556800000.0,1452729600000.0,1452816000000.0,1452902400000.0,1452988800000.0,1453507200000.0,1453680000000.0,1453766400000.0,1453939200000.0,1454198400000.0,1454371200000.0,1454976000000.0,1455235200000.0,1455321600000.0,1455840000000.0,1456099200000.0,1457049600000.0,1457136000000.0,1457308800000.0,1457481600000.0,1458604800000.0,1458691200000.0,1458864000000.0,1459468800000.0,1459814400000.0,1460073600000.0,1460505600000.0,1460592000000.0,1460678400000.0,1461024000000.0,1461110400000.0,1461196800000.0,1462060800000.0,1462665600000.0,1462752000000.0,1463356800000.0,1463788800000.0,1464134400000.0,1465257600000.0,1465344000000.0,1465862400000.0,1465948800000.0,1466380800000.0,1467331200000.0,1467763200000.0,1467849600000.0,1467936000000.0,1468281600000.0,1469491200000.0,1469923200000.0,1470096000000.0,1471392000000.0,1471478400000.0,1471996800000.0,1472083200000.0,1472774400000.0,1472860800000.0,1472947200000.0,1473033600000.0,1473120000000.0,1473465600000.0,1473638400000.0,1473724800000.0,1473811200000.0,1473897600000.0,1473984000000.0,1474416000000.0,1474588800000.0,1475020800000.0,1475193600000.0,1475280000000.0,1475366400000.0,1475884800000.0,1475971200000.0,1476057600000.0,1476144000000.0,1476230400000.0,1476316800000.0,1476403200000.0,1476489600000.0,1476576000000.0,1476662400000.0,1477699200000.0,1477785600000.0,1477872000000.0,1477958400000.0,1478390400000.0,1478476800000.0,1479081600000.0,1479340800000.0,1480723200000.0,1480809600000.0,1480982400000.0,1481587200000.0,1482105600000.0,1482624000000.0,1482710400000.0],\"y\":[6713.16,9153.96,14093.25,11486.375,11346.21739130435,10798.84210526316,13512.11111111111,16659.8,7982.25,8371.318181818182,9163.85,12988.73529411765,8381.64,10440.09523809524,8874.653846153846,8815.291666666666,10072.5,11419.91304347826,8026.152631578947,9904.404545454545,14060.15789473684,6510.857142857143,14781.2,12882.0,10260.96153846154,9678.09090909091,8604.047619047618,15106.42857142857,7515.714285714285,10237.5,9989.8,15268.85714285714,1937.185185185185,3822.916666666667,8327.383333333333,4994.285714285715,2828.571428571428,3749.375,7898.464285714285,7990.0,8650.0,2056.25,0.0,4306.5,2377.941176470588,4205.657894736843,10905.0,6745.6,9065.0,9602.142857142857,7462.5,4550.454545454545,6747.525714285714,4608.333333333333,5557.894736842105,3415.909090909091,2164.1975,4994.702222222222,4420.4856,3361.157894736842,3449.142857142857,3563.421052631579,1762.384615384615,2297.3,3488.478260869565,3863.64875,5180.718124999999,4293.815263157894,4202.933333333333,3137.608695652174,1738.07625,4292.724358974358,7765.152777777777,5177.706349206349,4973.920454545455,6338.75,8506.666666666666,3878.571428571428,6518.235294117647,5188.125,4792.631578947368,1826.923076923077,10657.8325,6294.813846153846,8858.761304347827,8270.478260869566,15176.39705882353,13876.328125,10257.9325,13232.77928571429,5232.447916666667,12447.563,8775.713,10872.07178571429,13877.77777777778,12641.20673076923,13090.45652173913,12004.75,8550.0625]}},\"id\":\"ec85ec30-0834-4cfe-a0a6-60dd81ddaf96\",\"type\":\"ColumnDataSource\"},{\"attributes\":{\"line_color\":{\"value\":\"#1f77b4\"},\"line_width\":{\"value\":2},\"x\":{\"field\":\"x\"},\"y\":{\"field\":\"y\"}},\"id\":\"da75c158-1c94-472f-afd7-92a3730dee3e\",\"type\":\"Line\"},{\"attributes\":{\"days\":[1,2,3,4,5,6,7,8,9,10,11,12,13,14,15,16,17,18,19,20,21,22,23,24,25,26,27,28,29,30,31]},\"id\":\"b9a9492c-1e0f-4271-9fdc-7037dd5ed2de\",\"type\":\"DaysTicker\"},{\"attributes\":{\"months\":[0,4,8]},\"id\":\"3b2b345d-15cf-4fd5-8713-7d41d9befa24\",\"type\":\"MonthsTicker\"},{\"attributes\":{\"days\":[1,8,15,22]},\"id\":\"987fca19-5c08-4bed-9bec-224ae2e2b99b\",\"type\":\"DaysTicker\"},{\"attributes\":{},\"id\":\"244cdc2d-9fd5-4c60-8e4c-44e480e07e6e\",\"type\":\"BasicTicker\"},{\"attributes\":{\"max_interval\":500.0,\"num_minor_ticks\":0},\"id\":\"0e1ee65d-c861-45ec-9b78-a30d079dbd92\",\"type\":\"AdaptiveTicker\"},{\"attributes\":{\"base\":24,\"mantissas\":[1,2,4,6,8,12],\"max_interval\":43200000.0,\"min_interval\":3600000.0,\"num_minor_ticks\":0},\"id\":\"9d733740-d6dc-4e55-8409-13432a510633\",\"type\":\"AdaptiveTicker\"},{\"attributes\":{\"axis_label\":\"ADR\",\"formatter\":{\"id\":\"7e55e3cf-d04f-41bb-9e17-20584411aa0b\",\"type\":\"BasicTickFormatter\"},\"plot\":{\"id\":\"4b114e2a-a232-42ee-9bc4-37d7c38cedd8\",\"subtype\":\"Figure\",\"type\":\"Plot\"},\"ticker\":{\"id\":\"244cdc2d-9fd5-4c60-8e4c-44e480e07e6e\",\"type\":\"BasicTicker\"}},\"id\":\"6513d9ee-ffbe-4ded-a0bd-e136c835cec2\",\"type\":\"LinearAxis\"},{\"attributes\":{\"data_source\":{\"id\":\"ec85ec30-0834-4cfe-a0a6-60dd81ddaf96\",\"type\":\"ColumnDataSource\"},\"glyph\":{\"id\":\"da75c158-1c94-472f-afd7-92a3730dee3e\",\"type\":\"Line\"},\"hover_glyph\":null,\"nonselection_glyph\":{\"id\":\"138d8417-9173-43fb-a8f4-1fc20f2dba2b\",\"type\":\"Line\"},\"selection_glyph\":null},\"id\":\"12ea16b7-ea1b-48bc-b5d8-8ba7701d4ff8\",\"type\":\"GlyphRenderer\"},{\"attributes\":{\"callback\":null},\"id\":\"8c85f48c-3389-4a0d-89d8-58c6f6d5f7bc\",\"type\":\"DataRange1d\"}],\"root_ids\":[\"4b114e2a-a232-42ee-9bc4-37d7c38cedd8\"]},\"title\":\"Bokeh Application\",\"version\":\"0.12.2\"}};\n",
       "            var render_items = [{\"docid\":\"2462d238-a494-435b-839c-dd0fef700e7e\",\"elementid\":\"c60e5cd0-9b86-4792-ac1d-d400a72cbdcc\",\"modelid\":\"4b114e2a-a232-42ee-9bc4-37d7c38cedd8\"}];\n",
       "            \n",
       "            Bokeh.embed.embed_items(docs_json, render_items);\n",
       "        });\n",
       "      },\n",
       "      function(Bokeh) {\n",
       "      }\n",
       "    ];\n",
       "  \n",
       "    function run_inline_js() {\n",
       "      \n",
       "      if ((window.Bokeh !== undefined) || (force === \"1\")) {\n",
       "        for (var i = 0; i < inline_js.length; i++) {\n",
       "          inline_js[i](window.Bokeh);\n",
       "        }if (force === \"1\") {\n",
       "          display_loaded();\n",
       "        }} else if (Date.now() < window._bokeh_timeout) {\n",
       "        setTimeout(run_inline_js, 100);\n",
       "      } else if (!window._bokeh_failed_load) {\n",
       "        console.log(\"Bokeh: BokehJS failed to load within specified timeout.\");\n",
       "        window._bokeh_failed_load = true;\n",
       "      } else if (!force) {\n",
       "        var cell = $(\"#c60e5cd0-9b86-4792-ac1d-d400a72cbdcc\").parents('.cell').data().cell;\n",
       "        cell.output_area.append_execute_result(NB_LOAD_WARNING)\n",
       "      }\n",
       "  \n",
       "    }\n",
       "  \n",
       "    if (window._bokeh_is_loading === 0) {\n",
       "      console.log(\"Bokeh: BokehJS loaded, going straight to plotting\");\n",
       "      run_inline_js();\n",
       "    } else {\n",
       "      load_libs(js_urls, function() {\n",
       "        console.log(\"Bokeh: BokehJS plotting callback run at\", now());\n",
       "        run_inline_js();\n",
       "      });\n",
       "    }\n",
       "  }(this));\n",
       "</script>"
      ]
     },
     "metadata": {},
     "output_type": "display_data"
    }
   ],
   "source": [
    "source = ColumnDataSource(\n",
    "        data=dict(\n",
    "            x=property_id_BB1[2],\n",
    "            y=property_id_BB1[6],\n",
    "            desc=property_id_BB1[3],\n",
    "            date=[x.strftime(\"%Y-%m-%d\") for x in property_id_BB['Stay_date']]\n",
    "        )\n",
    "    )\n",
    "\n",
    "hover = HoverTool(\n",
    "        tooltips=[\n",
    "            (\"Date\",\"@date\"),\n",
    "            (\"Event\", \"@desc\"),\n",
    "            (\"ADR\",\"@y{1.11}\")\n",
    "        ]\n",
    "    )\n",
    "\n",
    "p = plt.figure(x_axis_type=\"datetime\",width=800, height=500, tools=[hover],\n",
    "           title=\"Graph of StayDate vs ADR for BB (hover to view events)\",x_axis_label = \"Stay Date\",\n",
    "               y_axis_label = \"ADR\")\n",
    "p.left[0].formatter.use_scientific = False\n",
    "p.line('x', 'y', line_width=2, source=source)   \n",
    "show(p)"
   ]
  },
  {
   "cell_type": "code",
   "execution_count": null,
   "metadata": {
    "collapsed": true
   },
   "outputs": [],
   "source": []
  },
  {
   "cell_type": "code",
   "execution_count": null,
   "metadata": {
    "collapsed": true
   },
   "outputs": [],
   "source": [
    "property_id_BG = pd.read_excel('Results/GroupByPropertyID/2016/BG.xlsx')\n",
    "property_id_BG = property_id_BG.reset_index()\n",
    "property_id_BG = property_id_BG.sort_values(by = 'Stay_date', ascending=True)\n",
    "property_id_BG1 = property_id_BG.values.T.tolist()"
   ]
  },
  {
   "cell_type": "code",
   "execution_count": null,
   "metadata": {
    "collapsed": false
   },
   "outputs": [],
   "source": [
    "source = ColumnDataSource(\n",
    "        data=dict(\n",
    "            x=property_id_BG1[2],\n",
    "            y=property_id_BG1[5],\n",
    "            desc=property_id_BG1[3],\n",
    "            date=[x.strftime(\"%Y-%m-%d\") for x in property_id_BG['Stay_date']]\n",
    "        )\n",
    "    )\n",
    "\n",
    "hover = HoverTool(\n",
    "        tooltips=[\n",
    "            (\"Date\",\"@date\"),\n",
    "            (\"Event\", \"@desc\"),\n",
    "            (\"Total Revenue\",\"@y{1.11}\")\n",
    "        ]\n",
    "    )\n",
    "\n",
    "p = plt.figure(x_axis_type=\"datetime\",width=800, height=500, tools=[hover],\n",
    "           title=\"Graph of StayDate vs TotalRevenue for BG (hover to view events)\",x_axis_label = \"Stay Date\",\n",
    "               y_axis_label = \"Total Revenue\")\n",
    "p.left[0].formatter.use_scientific = False\n",
    "p.line('x', 'y', line_width=2, source=source)   \n",
    "show(p)"
   ]
  },
  {
   "cell_type": "code",
   "execution_count": null,
   "metadata": {
    "collapsed": false
   },
   "outputs": [],
   "source": [
    "source = ColumnDataSource(\n",
    "        data=dict(\n",
    "            x=property_id_BG1[2],\n",
    "            y=property_id_BG1[6],\n",
    "            desc=property_id_BG1[3],\n",
    "            date=[x.strftime(\"%Y-%m-%d\") for x in property_id_BG['Stay_date']]\n",
    "        )\n",
    "    )\n",
    "\n",
    "hover = HoverTool(\n",
    "        tooltips=[\n",
    "            (\"Date\",\"@date\"),\n",
    "            (\"Event\", \"@desc\"),\n",
    "            (\"ADR\",\"@y{1.11}\")\n",
    "        ]\n",
    "    )\n",
    "\n",
    "p = plt.figure(x_axis_type=\"datetime\",width=800, height=500, tools=[hover],\n",
    "           title=\"Graph of StayDate vs ADR for BG (hover to view events)\",x_axis_label = \"Stay Date\",\n",
    "               y_axis_label = \"ADR\")\n",
    "p.left[0].formatter.use_scientific = False\n",
    "p.line('x', 'y', line_width=2, source=source)   \n",
    "show(p)"
   ]
  },
  {
   "cell_type": "code",
   "execution_count": null,
   "metadata": {
    "collapsed": true
   },
   "outputs": [],
   "source": []
  },
  {
   "cell_type": "code",
   "execution_count": null,
   "metadata": {
    "collapsed": true
   },
   "outputs": [],
   "source": [
    "property_id_CH = pd.read_excel('Results/GroupByPropertyID/2016/CH.xlsx')\n",
    "property_id_CH = property_id_CH.reset_index()\n",
    "property_id_CH = property_id_CH.sort_values(by = 'Stay_date', ascending=True)\n",
    "property_id_CH1 = property_id_CH.values.T.tolist()"
   ]
  },
  {
   "cell_type": "code",
   "execution_count": null,
   "metadata": {
    "collapsed": false
   },
   "outputs": [],
   "source": [
    "source = ColumnDataSource(\n",
    "        data=dict(\n",
    "            x=property_id_CH1[2],\n",
    "            y=property_id_CH1[5],\n",
    "            desc=property_id_CH1[3],\n",
    "            date=[x.strftime(\"%Y-%m-%d\") for x in property_id_CH['Stay_date']]\n",
    "        )\n",
    "    )\n",
    "\n",
    "hover = HoverTool(\n",
    "        tooltips=[\n",
    "            (\"Date\",\"@date\"),\n",
    "            (\"Event\", \"@desc\"),\n",
    "            (\"Total Revenue\",\"@y{1.11}\")\n",
    "        ]\n",
    "    )\n",
    "\n",
    "p = plt.figure(x_axis_type=\"datetime\",width=800, height=500, tools=[hover],\n",
    "           title=\"Graph of StayDate vs TotalRevenue for CH (hover to view events)\",x_axis_label = \"Stay Date\",\n",
    "               y_axis_label = \"Total Revenue\")\n",
    "p.left[0].formatter.use_scientific = False\n",
    "p.line('x', 'y', line_width=2, source=source)   \n",
    "show(p)"
   ]
  },
  {
   "cell_type": "code",
   "execution_count": null,
   "metadata": {
    "collapsed": false
   },
   "outputs": [],
   "source": [
    "source = ColumnDataSource(\n",
    "        data=dict(\n",
    "            x=property_id_CH1[2],\n",
    "            y=property_id_CH1[6],\n",
    "            desc=property_id_CH1[3],\n",
    "            date=[x.strftime(\"%Y-%m-%d\") for x in property_id_CH['Stay_date']]\n",
    "        )\n",
    "    )\n",
    "\n",
    "hover = HoverTool(\n",
    "        tooltips=[\n",
    "            (\"Date\",\"@date\"),\n",
    "            (\"Event\", \"@desc\"),\n",
    "            (\"ADR\",\"@y{1.11}\")\n",
    "        ]\n",
    "    )\n",
    "\n",
    "p = plt.figure(x_axis_type=\"datetime\",width=800, height=500, tools=[hover],\n",
    "           title=\"Graph of StayDate vs ADR for CH (hover to view events)\",x_axis_label = \"Stay Date\",\n",
    "               y_axis_label = \"ADR\")\n",
    "p.left[0].formatter.use_scientific = False\n",
    "p.line('x', 'y', line_width=2, source=source)   \n",
    "show(p)"
   ]
  },
  {
   "cell_type": "code",
   "execution_count": null,
   "metadata": {
    "collapsed": true
   },
   "outputs": [],
   "source": []
  },
  {
   "cell_type": "code",
   "execution_count": null,
   "metadata": {
    "collapsed": true
   },
   "outputs": [],
   "source": [
    "property_id_CL = pd.read_excel('Results/GroupByPropertyID/2016/CL.xlsx')\n",
    "property_id_CL = property_id_CL.reset_index()\n",
    "property_id_CL = property_id_CL.sort_values(by = 'Stay_date', ascending=True)\n",
    "property_id_CL1 = property_id_CL.values.T.tolist()"
   ]
  },
  {
   "cell_type": "code",
   "execution_count": null,
   "metadata": {
    "collapsed": false
   },
   "outputs": [],
   "source": [
    "source = ColumnDataSource(\n",
    "        data=dict(\n",
    "            x=property_id_CL1[2],\n",
    "            y=property_id_CL1[5],\n",
    "            desc=property_id_CL1[3],\n",
    "            date=[x.strftime(\"%Y-%m-%d\") for x in property_id_CL['Stay_date']]\n",
    "        )\n",
    "    )\n",
    "\n",
    "hover = HoverTool(\n",
    "        tooltips=[\n",
    "            (\"Date\",\"@date\"),\n",
    "            (\"Event\", \"@desc\"),\n",
    "            (\"Total Revenue\",\"@y{1.11}\")\n",
    "        ]\n",
    "    )\n",
    "\n",
    "p = plt.figure(x_axis_type=\"datetime\",width=800, height=500, tools=[hover],\n",
    "           title=\"Graph of StayDate vs TotalRevenue for CL (hover to view events)\",x_axis_label = \"Stay Date\",\n",
    "               y_axis_label = \"Total Revenue\")\n",
    "p.left[0].formatter.use_scientific = False\n",
    "p.line('x', 'y', line_width=2, source=source)   \n",
    "show(p)"
   ]
  },
  {
   "cell_type": "code",
   "execution_count": null,
   "metadata": {
    "collapsed": false
   },
   "outputs": [],
   "source": [
    "source = ColumnDataSource(\n",
    "        data=dict(\n",
    "            x=property_id_CL1[2],\n",
    "            y=property_id_CL1[6],\n",
    "            desc=property_id_CL1[3],\n",
    "            date=[x.strftime(\"%Y-%m-%d\") for x in property_id_CL['Stay_date']]\n",
    "        )\n",
    "    )\n",
    "\n",
    "hover = HoverTool(\n",
    "        tooltips=[\n",
    "            (\"Date\",\"@date\"),\n",
    "            (\"Event\", \"@desc\"),\n",
    "            (\"ADR\",\"@y{1.11}\")\n",
    "        ]\n",
    "    )\n",
    "\n",
    "p = plt.figure(x_axis_type=\"datetime\",width=800, height=500, tools=[hover],\n",
    "           title=\"Graph of StayDate vs ADR for CL (hover to view events)\",x_axis_label = \"Stay Date\",\n",
    "               y_axis_label = \"ADR\")\n",
    "p.left[0].formatter.use_scientific = False\n",
    "p.line('x', 'y', line_width=2, source=source)   \n",
    "show(p)"
   ]
  },
  {
   "cell_type": "code",
   "execution_count": null,
   "metadata": {
    "collapsed": true
   },
   "outputs": [],
   "source": []
  },
  {
   "cell_type": "code",
   "execution_count": null,
   "metadata": {
    "collapsed": true
   },
   "outputs": [],
   "source": [
    "property_id_MP = pd.read_excel('Results/GroupByPropertyID/2016/MP.xlsx')\n",
    "property_id_MP = property_id_MP.reset_index()\n",
    "property_id_MP = property_id_MP.sort_values(by = 'Stay_date', ascending=True)\n",
    "property_id_MP1 = property_id_MP.values.T.tolist()"
   ]
  },
  {
   "cell_type": "code",
   "execution_count": null,
   "metadata": {
    "collapsed": false
   },
   "outputs": [],
   "source": [
    "source = ColumnDataSource(\n",
    "        data=dict(\n",
    "            x=property_id_MP1[2],\n",
    "            y=property_id_MP1[5],\n",
    "            desc=property_id_MP1[3],\n",
    "            date=[x.strftime(\"%Y-%m-%d\") for x in property_id_MP['Stay_date']]\n",
    "        )\n",
    "    )\n",
    "\n",
    "hover = HoverTool(\n",
    "        tooltips=[\n",
    "            (\"Date\",\"@date\"),\n",
    "            (\"Event\", \"@desc\"),\n",
    "            (\"Total Revenue\",\"@y{1.11}\")\n",
    "        ]\n",
    "    )\n",
    "\n",
    "p = plt.figure(x_axis_type=\"datetime\",width=800, height=500, tools=[hover],\n",
    "           title=\"Graph of StayDate vs TotalRevenue for MP (hover to view events)\",x_axis_label = \"Stay Date\",\n",
    "               y_axis_label = \"Total Revenue\")\n",
    "p.left[0].formatter.use_scientific = False\n",
    "p.line('x', 'y', line_width=2, source=source)   \n",
    "show(p)"
   ]
  },
  {
   "cell_type": "code",
   "execution_count": null,
   "metadata": {
    "collapsed": false
   },
   "outputs": [],
   "source": [
    "source = ColumnDataSource(\n",
    "        data=dict(\n",
    "            x=property_id_MP1[2],\n",
    "            y=property_id_MP1[6],\n",
    "            desc=property_id_MP1[3],\n",
    "            date=[x.strftime(\"%Y-%m-%d\") for x in property_id_MP['Stay_date']]\n",
    "        )\n",
    "    )\n",
    "\n",
    "hover = HoverTool(\n",
    "        tooltips=[\n",
    "            (\"Date\",\"@date\"),\n",
    "            (\"Event\", \"@desc\"),\n",
    "            (\"ADR\",\"@y{1.11}\")\n",
    "        ]\n",
    "    )\n",
    "\n",
    "p = plt.figure(x_axis_type=\"datetime\",width=800, height=500, tools=[hover],\n",
    "           title=\"Graph of StayDate vs ADR for MP (hover to view events)\",x_axis_label = \"Stay Date\",\n",
    "               y_axis_label = \"ADR\")\n",
    "p.left[0].formatter.use_scientific = False\n",
    "p.line('x', 'y', line_width=2, source=source)   \n",
    "show(p)"
   ]
  },
  {
   "cell_type": "code",
   "execution_count": null,
   "metadata": {
    "collapsed": true
   },
   "outputs": [],
   "source": []
  },
  {
   "cell_type": "code",
   "execution_count": null,
   "metadata": {
    "collapsed": true
   },
   "outputs": [],
   "source": [
    "property_id_EB = pd.read_excel('Results/GroupByPropertyID/2016/EB.xlsx')\n",
    "property_id_EB = property_id_EB.reset_index()\n",
    "property_id_EB = property_id_EB.sort_values(by = 'Stay_date', ascending=True)\n",
    "property_id_EB1 = property_id_EB.values.T.tolist()"
   ]
  },
  {
   "cell_type": "code",
   "execution_count": null,
   "metadata": {
    "collapsed": false
   },
   "outputs": [],
   "source": [
    "source = ColumnDataSource(\n",
    "        data=dict(\n",
    "            x=property_id_EB1[2],\n",
    "            y=property_id_EB1[5],\n",
    "            desc=property_id_EB1[3],\n",
    "            date=[x.strftime(\"%Y-%m-%d\") for x in property_id_EB['Stay_date']]\n",
    "        )\n",
    "    )\n",
    "\n",
    "hover = HoverTool(\n",
    "        tooltips=[\n",
    "            (\"Date\",\"@date\"),\n",
    "            (\"Event\", \"@desc\"),\n",
    "            (\"Total Revenue\",\"@y{1.11}\")\n",
    "        ]\n",
    "    )\n",
    "\n",
    "p = plt.figure(x_axis_type=\"datetime\",width=800, height=500, tools=[hover],\n",
    "           title=\"Graph of StayDate vs TotalRevenue for EB (hover to view events)\",x_axis_label = \"Stay Date\",\n",
    "               y_axis_label = \"Total Revenue\")\n",
    "p.left[0].formatter.use_scientific = False\n",
    "p.line('x', 'y', line_width=2, source=source)   \n",
    "show(p)"
   ]
  },
  {
   "cell_type": "code",
   "execution_count": null,
   "metadata": {
    "collapsed": false
   },
   "outputs": [],
   "source": [
    "source = ColumnDataSource(\n",
    "        data=dict(\n",
    "            x=property_id_EB1[2],\n",
    "            y=property_id_EB1[6],\n",
    "            desc=property_id_EB1[3],\n",
    "            date=[x.strftime(\"%Y-%m-%d\") for x in property_id_EB['Stay_date']]\n",
    "        )\n",
    "    )\n",
    "\n",
    "hover = HoverTool(\n",
    "        tooltips=[\n",
    "            (\"Date\",\"@date\"),\n",
    "            (\"Event\", \"@desc\"),\n",
    "            (\"ADR\",\"@y{1.11}\")\n",
    "        ]\n",
    "    )\n",
    "\n",
    "p = plt.figure(x_axis_type=\"datetime\",width=800, height=500, tools=[hover],\n",
    "           title=\"Graph of StayDate vs ADR for EB (hover to view events)\",x_axis_label = \"Stay Date\",\n",
    "               y_axis_label = \"ADR\")\n",
    "p.left[0].formatter.use_scientific = False\n",
    "p.line('x', 'y', line_width=2, source=source)   \n",
    "show(p)"
   ]
  },
  {
   "cell_type": "code",
   "execution_count": null,
   "metadata": {
    "collapsed": true
   },
   "outputs": [],
   "source": []
  },
  {
   "cell_type": "code",
   "execution_count": null,
   "metadata": {
    "collapsed": true
   },
   "outputs": [],
   "source": [
    "property_id_KK = pd.read_excel('Results/GroupByPropertyID/2016/KK.xlsx')\n",
    "property_id_KK = property_id_KK.reset_index()\n",
    "property_id_KK = property_id_KK.sort_values(by = 'Stay_date', ascending=True)\n",
    "property_id_KK1 = property_id_KK.values.T.tolist()"
   ]
  },
  {
   "cell_type": "code",
   "execution_count": null,
   "metadata": {
    "collapsed": false
   },
   "outputs": [],
   "source": [
    "source = ColumnDataSource(\n",
    "        data=dict(\n",
    "            x=property_id_KK1[2],\n",
    "            y=property_id_KK1[5],\n",
    "            desc=property_id_KK1[3],\n",
    "            date=[x.strftime(\"%Y-%m-%d\") for x in property_id_KK['Stay_date']]\n",
    "        )\n",
    "    )\n",
    "\n",
    "hover = HoverTool(\n",
    "        tooltips=[\n",
    "            (\"Date\",\"@date\"),\n",
    "            (\"Event\", \"@desc\"),\n",
    "            (\"Total Revenue\",\"@y{1.11}\")\n",
    "        ]\n",
    "    )\n",
    "\n",
    "p = plt.figure(x_axis_type=\"datetime\",width=800, height=500, tools=[hover],\n",
    "           title=\"Graph of StayDate vs TotalRevenue for KK (hover to view events)\",x_axis_label = \"Stay Date\",\n",
    "               y_axis_label = \"Total Revenue\")\n",
    "p.left[0].formatter.use_scientific = False\n",
    "p.line('x', 'y', line_width=2, source=source)   \n",
    "show(p)"
   ]
  },
  {
   "cell_type": "code",
   "execution_count": null,
   "metadata": {
    "collapsed": false
   },
   "outputs": [],
   "source": [
    "source = ColumnDataSource(\n",
    "        data=dict(\n",
    "            x=property_id_KK1[2],\n",
    "            y=property_id_KK1[6],\n",
    "            desc=property_id_KK1[3],\n",
    "            date=[x.strftime(\"%Y-%m-%d\") for x in property_id_KK['Stay_date']]\n",
    "        )\n",
    "    )\n",
    "\n",
    "hover = HoverTool(\n",
    "        tooltips=[\n",
    "            (\"Date\",\"@date\"),\n",
    "            (\"Event\", \"@desc\"),\n",
    "            (\"ADR\",\"@y{1.11}\")\n",
    "        ]\n",
    "    )\n",
    "\n",
    "p = plt.figure(x_axis_type=\"datetime\",width=800, height=500, tools=[hover],\n",
    "           title=\"Graph of StayDate vs ADR for KK (hover to view events)\",x_axis_label = \"Stay Date\",\n",
    "               y_axis_label = \"ADR\")\n",
    "p.left[0].formatter.use_scientific = False\n",
    "p.line('x', 'y', line_width=2, source=source)   \n",
    "show(p)"
   ]
  },
  {
   "cell_type": "code",
   "execution_count": null,
   "metadata": {
    "collapsed": true
   },
   "outputs": [],
   "source": []
  },
  {
   "cell_type": "code",
   "execution_count": null,
   "metadata": {
    "collapsed": true
   },
   "outputs": [],
   "source": [
    "property_id_KR = pd.read_excel('Results/GroupByPropertyID/2016/KR.xlsx')\n",
    "property_id_KR = property_id_KR.reset_index()\n",
    "property_id_KR = property_id_KR.sort_values(by = 'Stay_date', ascending=True)\n",
    "property_id_KR1 = property_id_KR.values.T.tolist()"
   ]
  },
  {
   "cell_type": "code",
   "execution_count": null,
   "metadata": {
    "collapsed": false
   },
   "outputs": [],
   "source": [
    "source = ColumnDataSource(\n",
    "        data=dict(\n",
    "            x=property_id_KR1[2],\n",
    "            y=property_id_KR1[5],\n",
    "            desc=property_id_KR1[3],\n",
    "            date=[x.strftime(\"%Y-%m-%d\") for x in property_id_KR['Stay_date']]\n",
    "        )\n",
    "    )\n",
    "\n",
    "hover = HoverTool(\n",
    "        tooltips=[\n",
    "            (\"Date\",\"@date\"),\n",
    "            (\"Event\", \"@desc\"),\n",
    "            (\"Total Revenue\",\"@y{1.11}\")\n",
    "        ]\n",
    "    )\n",
    "\n",
    "p = plt.figure(x_axis_type=\"datetime\",width=800, height=500, tools=[hover],\n",
    "           title=\"Graph of StayDate vs TotalRevenue for KR (hover to view events)\",x_axis_label = \"Stay Date\",\n",
    "               y_axis_label = \"Total Revenue\")\n",
    "p.left[0].formatter.use_scientific = False\n",
    "p.line('x', 'y', line_width=2, source=source)   \n",
    "show(p)"
   ]
  },
  {
   "cell_type": "code",
   "execution_count": null,
   "metadata": {
    "collapsed": false
   },
   "outputs": [],
   "source": [
    "source = ColumnDataSource(\n",
    "        data=dict(\n",
    "            x=property_id_KR1[2],\n",
    "            y=property_id_KR1[6],\n",
    "            desc=property_id_KR1[3],\n",
    "            date=[x.strftime(\"%Y-%m-%d\") for x in property_id_KR['Stay_date']]\n",
    "        )\n",
    "    )\n",
    "\n",
    "hover = HoverTool(\n",
    "        tooltips=[\n",
    "            (\"Date\",\"@date\"),\n",
    "            (\"Event\", \"@desc\"),\n",
    "            (\"ADR\",\"@y{1.11}\")\n",
    "        ]\n",
    "    )\n",
    "\n",
    "p = plt.figure(x_axis_type=\"datetime\",width=800, height=500, tools=[hover],\n",
    "           title=\"Graph of StayDate vs ADR for KR (hover to view events)\",x_axis_label = \"Stay Date\",\n",
    "               y_axis_label = \"ADR\")\n",
    "p.left[0].formatter.use_scientific = False\n",
    "p.line('x', 'y', line_width=2, source=source)   \n",
    "show(p)"
   ]
  },
  {
   "cell_type": "code",
   "execution_count": null,
   "metadata": {
    "collapsed": true
   },
   "outputs": [],
   "source": []
  },
  {
   "cell_type": "code",
   "execution_count": null,
   "metadata": {
    "collapsed": true
   },
   "outputs": [],
   "source": [
    "property_id_MB = pd.read_excel('Results/GroupByPropertyID/2016/MB.xlsx')\n",
    "property_id_MB = property_id_MB.reset_index()\n",
    "property_id_MB = property_id_MB.sort_values(by = 'Stay_date', ascending=True)\n",
    "property_id_MB1 = property_id_MB.values.T.tolist()"
   ]
  },
  {
   "cell_type": "code",
   "execution_count": null,
   "metadata": {
    "collapsed": false
   },
   "outputs": [],
   "source": [
    "source = ColumnDataSource(\n",
    "        data=dict(\n",
    "            x=property_id_MB1[2],\n",
    "            y=property_id_MB1[5],\n",
    "            desc=property_id_MB1[3],\n",
    "            date=[x.strftime(\"%Y-%m-%d\") for x in property_id_MB['Stay_date']]\n",
    "        )\n",
    "    )\n",
    "\n",
    "hover = HoverTool(\n",
    "        tooltips=[\n",
    "            (\"Date\",\"@date\"),\n",
    "            (\"Event\", \"@desc\"),\n",
    "            (\"Total Revenue\",\"@y{1.11}\")\n",
    "        ]\n",
    "    )\n",
    "\n",
    "p = plt.figure(x_axis_type=\"datetime\",width=800, height=500, tools=[hover],\n",
    "           title=\"Graph of StayDate vs TotalRevenue for MB (hover to view events)\",x_axis_label = \"Stay Date\",\n",
    "               y_axis_label = \"Total Revenue\")\n",
    "p.left[0].formatter.use_scientific = False\n",
    "p.line('x', 'y', line_width=2, source=source)   \n",
    "show(p)"
   ]
  },
  {
   "cell_type": "code",
   "execution_count": null,
   "metadata": {
    "collapsed": false
   },
   "outputs": [],
   "source": [
    "source = ColumnDataSource(\n",
    "        data=dict(\n",
    "            x=property_id_MB1[2],\n",
    "            y=property_id_MB1[6],\n",
    "            desc=property_id_MB1[3],\n",
    "            date=[x.strftime(\"%Y-%m-%d\") for x in property_id_MB['Stay_date']]\n",
    "        )\n",
    "    )\n",
    "\n",
    "hover = HoverTool(\n",
    "        tooltips=[\n",
    "            (\"Date\",\"@date\"),\n",
    "            (\"Event\", \"@desc\"),\n",
    "            (\"ADR\",\"@y{1.11}\")\n",
    "        ]\n",
    "    )\n",
    "\n",
    "p = plt.figure(x_axis_type=\"datetime\",width=800, height=500, tools=[hover],\n",
    "           title=\"Graph of StayDate vs ADR for MB (hover to view events)\",x_axis_label = \"Stay Date\",\n",
    "               y_axis_label = \"ADR\")\n",
    "p.left[0].formatter.use_scientific = False\n",
    "p.line('x', 'y', line_width=2, source=source)   \n",
    "show(p)"
   ]
  },
  {
   "cell_type": "code",
   "execution_count": null,
   "metadata": {
    "collapsed": true
   },
   "outputs": [],
   "source": []
  },
  {
   "cell_type": "code",
   "execution_count": null,
   "metadata": {
    "collapsed": true
   },
   "outputs": [],
   "source": [
    "property_id_MM = pd.read_excel('Results/GroupByPropertyID/2016/MM.xlsx')\n",
    "property_id_MM = property_id_MM.reset_index()\n",
    "property_id_MM = property_id_MM.sort_values(by = 'Stay_date', ascending=True)\n",
    "property_id_MM1 = property_id_MM.values.T.tolist()"
   ]
  },
  {
   "cell_type": "code",
   "execution_count": null,
   "metadata": {
    "collapsed": false
   },
   "outputs": [],
   "source": [
    "source = ColumnDataSource(\n",
    "        data=dict(\n",
    "            x=property_id_MM1[2],\n",
    "            y=property_id_MM1[5],\n",
    "            desc=property_id_MM1[3],\n",
    "            date=[x.strftime(\"%Y-%m-%d\") for x in property_id_MM['Stay_date']]\n",
    "        )\n",
    "    )\n",
    "\n",
    "hover = HoverTool(\n",
    "        tooltips=[\n",
    "            (\"Date\",\"@date\"),\n",
    "            (\"Event\", \"@desc\"),\n",
    "            (\"Total Revenue\",\"@y{1.11}\")\n",
    "        ]\n",
    "    )\n",
    "\n",
    "p = plt.figure(x_axis_type=\"datetime\",width=800, height=500, tools=[hover],\n",
    "           title=\"Graph of StayDate vs TotalRevenue for MM (hover to view events)\",x_axis_label = \"Stay Date\",\n",
    "               y_axis_label = \"Total Revenue\")\n",
    "p.left[0].formatter.use_scientific = False\n",
    "p.line('x', 'y', line_width=2, source=source)   \n",
    "show(p)"
   ]
  },
  {
   "cell_type": "code",
   "execution_count": null,
   "metadata": {
    "collapsed": false
   },
   "outputs": [],
   "source": [
    "source = ColumnDataSource(\n",
    "        data=dict(\n",
    "            x=property_id_MM1[2],\n",
    "            y=property_id_MM1[6],\n",
    "            desc=property_id_MM1[3],\n",
    "            date=[x.strftime(\"%Y-%m-%d\") for x in property_id_MM['Stay_date']]\n",
    "        )\n",
    "    )\n",
    "\n",
    "hover = HoverTool(\n",
    "        tooltips=[\n",
    "            (\"Date\",\"@date\"),\n",
    "            (\"Event\", \"@desc\"),\n",
    "            (\"ADR\",\"@y{1.11}\")\n",
    "        ]\n",
    "    )\n",
    "\n",
    "p = plt.figure(x_axis_type=\"datetime\",width=800, height=500, tools=[hover],\n",
    "           title=\"Graph of StayDate vs ADR for MM (hover to view events)\",x_axis_label = \"Stay Date\",\n",
    "               y_axis_label = \"ADR\")\n",
    "p.left[0].formatter.use_scientific = False\n",
    "p.line('x', 'y', line_width=2, source=source)   \n",
    "show(p)"
   ]
  },
  {
   "cell_type": "code",
   "execution_count": null,
   "metadata": {
    "collapsed": true
   },
   "outputs": [],
   "source": []
  },
  {
   "cell_type": "code",
   "execution_count": null,
   "metadata": {
    "collapsed": true
   },
   "outputs": [],
   "source": [
    "property_id_SC = pd.read_excel('Results/GroupByPropertyID/2016/SC.xlsx')\n",
    "property_id_SC = property_id_SC.reset_index()\n",
    "property_id_SC = property_id_SC.sort_values(by = 'Stay_date', ascending=True)\n",
    "property_id_SC1 = property_id_SC.values.T.tolist()"
   ]
  },
  {
   "cell_type": "code",
   "execution_count": null,
   "metadata": {
    "collapsed": false
   },
   "outputs": [],
   "source": [
    "source = ColumnDataSource(\n",
    "        data=dict(\n",
    "            x=property_id_SC1[2],\n",
    "            y=property_id_SC1[5],\n",
    "            desc=property_id_SC1[3],\n",
    "            date=[x.strftime(\"%Y-%m-%d\") for x in property_id_SC['Stay_date']]\n",
    "        )\n",
    "    )\n",
    "\n",
    "hover = HoverTool(\n",
    "        tooltips=[\n",
    "            (\"Date\",\"@date\"),\n",
    "            (\"Event\", \"@desc\"),\n",
    "            (\"Total Revenue\",\"@y{1.11}\")\n",
    "        ]\n",
    "    )\n",
    "\n",
    "p = plt.figure(x_axis_type=\"datetime\",width=800, height=500, tools=[hover],\n",
    "           title=\"Graph of StayDate vs TotalRevenue for SC (hover to view events)\",x_axis_label = \"Stay Date\",\n",
    "               y_axis_label = \"Total Revenue\")\n",
    "p.left[0].formatter.use_scientific = False\n",
    "p.line('x', 'y', line_width=2, source=source)   \n",
    "show(p)"
   ]
  },
  {
   "cell_type": "code",
   "execution_count": null,
   "metadata": {
    "collapsed": false
   },
   "outputs": [],
   "source": [
    "source = ColumnDataSource(\n",
    "        data=dict(\n",
    "            x=property_id_SC1[2],\n",
    "            y=property_id_SC1[6],\n",
    "            desc=property_id_SC1[3],\n",
    "            date=[x.strftime(\"%Y-%m-%d\") for x in property_id_SC['Stay_date']]\n",
    "        )\n",
    "    )\n",
    "\n",
    "hover = HoverTool(\n",
    "        tooltips=[\n",
    "            (\"Date\",\"@date\"),\n",
    "            (\"Event\", \"@desc\"),\n",
    "            (\"ADR\",\"@y{1.11}\")\n",
    "        ]\n",
    "    )\n",
    "\n",
    "p = plt.figure(x_axis_type=\"datetime\",width=800, height=500, tools=[hover],\n",
    "           title=\"Graph of StayDate vs ADR for SC (hover to view events)\",x_axis_label = \"Stay Date\",\n",
    "               y_axis_label = \"ADR\")\n",
    "p.left[0].formatter.use_scientific = False\n",
    "p.line('x', 'y', line_width=2, source=source)   \n",
    "show(p)"
   ]
  },
  {
   "cell_type": "code",
   "execution_count": null,
   "metadata": {
    "collapsed": true
   },
   "outputs": [],
   "source": []
  },
  {
   "cell_type": "code",
   "execution_count": null,
   "metadata": {
    "collapsed": true
   },
   "outputs": [],
   "source": [
    "property_id_SS = pd.read_excel('Results/GroupByPropertyID/2016/SS.xlsx')\n",
    "property_id_SS = property_id_SS.reset_index()\n",
    "property_id_SS = property_id_SS.sort_values(by = 'Stay_date', ascending=True)\n",
    "property_id_SS1 = property_id_SS.values.T.tolist()"
   ]
  },
  {
   "cell_type": "code",
   "execution_count": null,
   "metadata": {
    "collapsed": false
   },
   "outputs": [],
   "source": [
    "source = ColumnDataSource(\n",
    "        data=dict(\n",
    "            x=property_id_SS1[2],\n",
    "            y=property_id_SS1[5],\n",
    "            desc=property_id_SS1[3],\n",
    "            date=[x.strftime(\"%Y-%m-%d\") for x in property_id_SS['Stay_date']]\n",
    "        )\n",
    "    )\n",
    "\n",
    "hover = HoverTool(\n",
    "        tooltips=[\n",
    "            (\"Date\",\"@date\"),\n",
    "            (\"Event\", \"@desc\"),\n",
    "            (\"Total Revenue\",\"@y{1.11}\")\n",
    "        ]\n",
    "    )\n",
    "\n",
    "p = plt.figure(x_axis_type=\"datetime\",width=800, height=500, tools=[hover],\n",
    "           title=\"Graph of StayDate vs TotalRevenue for SS (hover to view events)\",x_axis_label = \"Stay Date\",\n",
    "               y_axis_label = \"Total Revenue\")\n",
    "p.left[0].formatter.use_scientific = False\n",
    "p.line('x', 'y', line_width=2, source=source)   \n",
    "show(p)"
   ]
  },
  {
   "cell_type": "code",
   "execution_count": null,
   "metadata": {
    "collapsed": false
   },
   "outputs": [],
   "source": [
    "source = ColumnDataSource(\n",
    "        data=dict(\n",
    "            x=property_id_SS1[2],\n",
    "            y=property_id_SS1[6],\n",
    "            desc=property_id_SS1[3],\n",
    "            date=[x.strftime(\"%Y-%m-%d\") for x in property_id_SS['Stay_date']]\n",
    "        )\n",
    "    )\n",
    "\n",
    "hover = HoverTool(\n",
    "        tooltips=[\n",
    "            (\"Date\",\"@date\"),\n",
    "            (\"Event\", \"@desc\"),\n",
    "            (\"ADR\",\"@y{1.11}\")\n",
    "        ]\n",
    "    )\n",
    "\n",
    "p = plt.figure(x_axis_type=\"datetime\",width=800, height=500, tools=[hover],\n",
    "           title=\"Graph of StayDate vs ADR for SS (hover to view events)\",x_axis_label = \"Stay Date\",\n",
    "               y_axis_label = \"ADR\")\n",
    "p.left[0].formatter.use_scientific = False\n",
    "p.line('x', 'y', line_width=2, source=source)   \n",
    "show(p)"
   ]
  },
  {
   "cell_type": "code",
   "execution_count": null,
   "metadata": {
    "collapsed": true
   },
   "outputs": [],
   "source": []
  },
  {
   "cell_type": "code",
   "execution_count": null,
   "metadata": {
    "collapsed": true
   },
   "outputs": [],
   "source": [
    "property_id_SV = pd.read_excel('Results/GroupByPropertyID/2016/SV.xlsx')\n",
    "property_id_SV = property_id_SV.reset_index()\n",
    "property_id_SV = property_id_SV.sort_values(by = 'Stay_date', ascending=True)\n",
    "property_id_SV1 = property_id_SV.values.T.tolist()"
   ]
  },
  {
   "cell_type": "code",
   "execution_count": null,
   "metadata": {
    "collapsed": false
   },
   "outputs": [],
   "source": [
    "source = ColumnDataSource(\n",
    "        data=dict(\n",
    "            x=property_id_SV1[2],\n",
    "            y=property_id_SV1[5],\n",
    "            desc=property_id_SV1[3],\n",
    "            date=[x.strftime(\"%Y-%m-%d\") for x in property_id_SV['Stay_date']]\n",
    "        )\n",
    "    )\n",
    "\n",
    "hover = HoverTool(\n",
    "        tooltips=[\n",
    "            (\"Date\",\"@date\"),\n",
    "            (\"Event\", \"@desc\"),\n",
    "            (\"Total Revenue\",\"@y{1.11}\")\n",
    "        ]\n",
    "    )\n",
    "\n",
    "p = plt.figure(x_axis_type=\"datetime\",width=800, height=500, tools=[hover],\n",
    "           title=\"Graph of StayDate vs TotalRevenue for SV (hover to view events)\",x_axis_label = \"Stay Date\",\n",
    "               y_axis_label = \"Total Revenue\")\n",
    "p.left[0].formatter.use_scientific = False\n",
    "p.line('x', 'y', line_width=2, source=source)   \n",
    "show(p)"
   ]
  },
  {
   "cell_type": "code",
   "execution_count": null,
   "metadata": {
    "collapsed": false
   },
   "outputs": [],
   "source": [
    "source = ColumnDataSource(\n",
    "        data=dict(\n",
    "            x=property_id_SV1[2],\n",
    "            y=property_id_SV1[6],\n",
    "            desc=property_id_SV1[3],\n",
    "            date=[x.strftime(\"%Y-%m-%d\") for x in property_id_SV['Stay_date']]\n",
    "        )\n",
    "    )\n",
    "\n",
    "hover = HoverTool(\n",
    "        tooltips=[\n",
    "            (\"Date\",\"@date\"),\n",
    "            (\"Event\", \"@desc\"),\n",
    "            (\"ADR\",\"@y{1.11}\")\n",
    "        ]\n",
    "    )\n",
    "\n",
    "p = plt.figure(x_axis_type=\"datetime\",width=800, height=500, tools=[hover],\n",
    "           title=\"Graph of StayDate vs ADR for SV (hover to view events)\",x_axis_label = \"Stay Date\",\n",
    "               y_axis_label = \"ADR\")\n",
    "p.left[0].formatter.use_scientific = False\n",
    "p.line('x', 'y', line_width=2, source=source)   \n",
    "show(p)"
   ]
  },
  {
   "cell_type": "code",
   "execution_count": null,
   "metadata": {
    "collapsed": true
   },
   "outputs": [],
   "source": []
  },
  {
   "cell_type": "code",
   "execution_count": null,
   "metadata": {
    "collapsed": true
   },
   "outputs": [],
   "source": [
    "property_id_VM = pd.read_excel('Results/GroupByPropertyID/2016/VM.xlsx')\n",
    "property_id_VM = property_id_VM.reset_index()\n",
    "property_id_VM = property_id_VM.sort_values(by = 'Stay_date', ascending=True)\n",
    "property_id_VM1 = property_id_VM.values.T.tolist()"
   ]
  },
  {
   "cell_type": "code",
   "execution_count": null,
   "metadata": {
    "collapsed": false
   },
   "outputs": [],
   "source": [
    "source = ColumnDataSource(\n",
    "        data=dict(\n",
    "            x=property_id_VM1[2],\n",
    "            y=property_id_VM1[5],\n",
    "            desc=property_id_VM1[3],\n",
    "            date=[x.strftime(\"%Y-%m-%d\") for x in property_id_VM['Stay_date']]\n",
    "        )\n",
    "    )\n",
    "\n",
    "hover = HoverTool(\n",
    "        tooltips=[\n",
    "            (\"Date\",\"@date\"),\n",
    "            (\"Event\", \"@desc\"),\n",
    "            (\"Total Revenue\",\"@y{1.11}\")\n",
    "        ]\n",
    "    )\n",
    "\n",
    "p = plt.figure(x_axis_type=\"datetime\",width=800, height=500, tools=[hover],\n",
    "           title=\"Graph of StayDate vs TotalRevenue for VM (hover to view events)\",x_axis_label = \"Stay Date\",\n",
    "               y_axis_label = \"Total Revenue\")\n",
    "p.left[0].formatter.use_scientific = False\n",
    "p.line('x', 'y', line_width=2, source=source)   \n",
    "show(p)"
   ]
  },
  {
   "cell_type": "code",
   "execution_count": null,
   "metadata": {
    "collapsed": false
   },
   "outputs": [],
   "source": [
    "source = ColumnDataSource(\n",
    "        data=dict(\n",
    "            x=property_id_VM1[2],\n",
    "            y=property_id_VM1[6],\n",
    "            desc=property_id_VM1[3],\n",
    "            date=[x.strftime(\"%Y-%m-%d\") for x in property_id_VM['Stay_date']]\n",
    "        )\n",
    "    )\n",
    "\n",
    "hover = HoverTool(\n",
    "        tooltips=[\n",
    "            (\"Date\",\"@date\"),\n",
    "            (\"Event\", \"@desc\"),\n",
    "            (\"ADR\",\"@y{1.11}\")\n",
    "        ]\n",
    "    )\n",
    "\n",
    "p = plt.figure(x_axis_type=\"datetime\",width=800, height=500, tools=[hover],\n",
    "           title=\"Graph of StayDate vs ADR for VM (hover to view events)\",x_axis_label = \"Stay Date\",\n",
    "               y_axis_label = \"ADR\")\n",
    "p.left[0].formatter.use_scientific = False\n",
    "p.line('x', 'y', line_width=2, source=source)   \n",
    "show(p)"
   ]
  },
  {
   "cell_type": "code",
   "execution_count": null,
   "metadata": {
    "collapsed": true
   },
   "outputs": [],
   "source": []
  },
  {
   "cell_type": "code",
   "execution_count": null,
   "metadata": {
    "collapsed": true
   },
   "outputs": [],
   "source": [
    "property_id_VV = pd.read_excel('Results/GroupByPropertyID/2016/VV.xlsx')\n",
    "property_id_VV = property_id_VV.reset_index()\n",
    "property_id_VV = property_id_VV.sort_values(by = 'Stay_date', ascending=True)\n",
    "property_id_VV1 = property_id_VV.values.T.tolist()"
   ]
  },
  {
   "cell_type": "code",
   "execution_count": null,
   "metadata": {
    "collapsed": false
   },
   "outputs": [],
   "source": [
    "source = ColumnDataSource(\n",
    "        data=dict(\n",
    "            x=property_id_VV1[2],\n",
    "            y=property_id_VV1[5],\n",
    "            desc=property_id_VV1[3],\n",
    "            date=[x.strftime(\"%Y-%m-%d\") for x in property_id_VV['Stay_date']]\n",
    "        )\n",
    "    )\n",
    "\n",
    "hover = HoverTool(\n",
    "        tooltips=[\n",
    "            (\"Date\",\"@date\"),\n",
    "            (\"Event\", \"@desc\"),\n",
    "            (\"Total Revenue\",\"@y{1.11}\")\n",
    "        ]\n",
    "    )\n",
    "\n",
    "p = plt.figure(x_axis_type=\"datetime\",width=800, height=500, tools=[hover],\n",
    "           title=\"Graph of StayDate vs TotalRevenue for VV (hover to view events)\",x_axis_label = \"Stay Date\",\n",
    "               y_axis_label = \"Total Revenue\")\n",
    "p.left[0].formatter.use_scientific = False\n",
    "p.line('x', 'y', line_width=2, source=source)   \n",
    "show(p)"
   ]
  },
  {
   "cell_type": "code",
   "execution_count": null,
   "metadata": {
    "collapsed": false
   },
   "outputs": [],
   "source": [
    "source = ColumnDataSource(\n",
    "        data=dict(\n",
    "            x=property_id_VV1[2],\n",
    "            y=property_id_VV1[6],\n",
    "            desc=property_id_VV1[3],\n",
    "            date=[x.strftime(\"%Y-%m-%d\") for x in property_id_VV['Stay_date']]\n",
    "        )\n",
    "    )\n",
    "\n",
    "hover = HoverTool(\n",
    "        tooltips=[\n",
    "            (\"Date\",\"@date\"),\n",
    "            (\"Event\", \"@desc\"),\n",
    "            (\"ADR\",\"@y{1.11}\")\n",
    "        ]\n",
    "    )\n",
    "\n",
    "p = plt.figure(x_axis_type=\"datetime\",width=800, height=500, tools=[hover],\n",
    "           title=\"Graph of StayDate vs ADR for VV (hover to view events)\",x_axis_label = \"Stay Date\",\n",
    "               y_axis_label = \"ADR\")\n",
    "p.left[0].formatter.use_scientific = False\n",
    "p.line('x', 'y', line_width=2, source=source)   \n",
    "show(p)"
   ]
  }
 ],
 "metadata": {
  "anaconda-cloud": {},
  "kernelspec": {
   "display_name": "Python [default]",
   "language": "python",
   "name": "python3"
  },
  "language_info": {
   "codemirror_mode": {
    "name": "ipython",
    "version": 3
   },
   "file_extension": ".py",
   "mimetype": "text/x-python",
   "name": "python",
   "nbconvert_exporter": "python",
   "pygments_lexer": "ipython3",
   "version": "3.5.2"
  }
 },
 "nbformat": 4,
 "nbformat_minor": 1
}
