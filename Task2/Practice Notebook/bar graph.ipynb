{
 "cells": [
  {
   "cell_type": "code",
   "execution_count": 1,
   "metadata": {
    "collapsed": false
   },
   "outputs": [],
   "source": [
    "import pandas as pd\n",
    "import numpy as np"
   ]
  },
  {
   "cell_type": "code",
   "execution_count": 2,
   "metadata": {
    "collapsed": false
   },
   "outputs": [],
   "source": [
    "property_id_bb11 = pd.read_excel('Results/GroupByPropertyID/2016/BB.xlsx')\n",
    "property_id_bb11 = property_id_bb11[(property_id_bb11.Property_id == 'BB')].reset_index()\n",
    "del property_id_bb11['index']\n",
    "property_id_bb11 = property_id_bb11.drop_duplicates()\n",
    "property_id_bb22=property_id_bb11.set_index('Property_id')\n",
    "property_id_bb_16=property_id_bb22.sort_values(['Stay_date'], ascending=[True])"
   ]
  },
  {
   "cell_type": "code",
   "execution_count": 3,
   "metadata": {
    "collapsed": false
   },
   "outputs": [
    {
     "data": {
      "text/html": [
       "<div>\n",
       "<table border=\"1\" class=\"dataframe\">\n",
       "  <thead>\n",
       "    <tr style=\"text-align: right;\">\n",
       "      <th></th>\n",
       "      <th>month</th>\n",
       "      <th>room_count</th>\n",
       "      <th>totalRevenue</th>\n",
       "      <th>ADR</th>\n",
       "    </tr>\n",
       "  </thead>\n",
       "  <tbody>\n",
       "    <tr>\n",
       "      <th>0</th>\n",
       "      <td>1</td>\n",
       "      <td>248</td>\n",
       "      <td>2.636928e+06</td>\n",
       "      <td>132269.869084</td>\n",
       "    </tr>\n",
       "    <tr>\n",
       "      <th>1</th>\n",
       "      <td>2</td>\n",
       "      <td>137</td>\n",
       "      <td>1.315054e+06</td>\n",
       "      <td>58004.093794</td>\n",
       "    </tr>\n",
       "    <tr>\n",
       "      <th>2</th>\n",
       "      <td>3</td>\n",
       "      <td>137</td>\n",
       "      <td>1.510092e+06</td>\n",
       "      <td>76425.733753</td>\n",
       "    </tr>\n",
       "    <tr>\n",
       "      <th>3</th>\n",
       "      <td>4</td>\n",
       "      <td>106</td>\n",
       "      <td>8.267290e+05</td>\n",
       "      <td>82160.540380</td>\n",
       "    </tr>\n",
       "    <tr>\n",
       "      <th>4</th>\n",
       "      <td>5</td>\n",
       "      <td>53</td>\n",
       "      <td>3.352121e+05</td>\n",
       "      <td>35788.079762</td>\n",
       "    </tr>\n",
       "    <tr>\n",
       "      <th>5</th>\n",
       "      <td>6</td>\n",
       "      <td>35</td>\n",
       "      <td>9.136400e+04</td>\n",
       "      <td>17390.691176</td>\n",
       "    </tr>\n",
       "    <tr>\n",
       "      <th>6</th>\n",
       "      <td>7</td>\n",
       "      <td>75</td>\n",
       "      <td>4.767705e+05</td>\n",
       "      <td>52536.355297</td>\n",
       "    </tr>\n",
       "    <tr>\n",
       "      <th>7</th>\n",
       "      <td>8</td>\n",
       "      <td>86</td>\n",
       "      <td>3.725311e+05</td>\n",
       "      <td>22493.860375</td>\n",
       "    </tr>\n",
       "    <tr>\n",
       "      <th>8</th>\n",
       "      <td>9</td>\n",
       "      <td>320</td>\n",
       "      <td>1.123746e+06</td>\n",
       "      <td>54046.597279</td>\n",
       "    </tr>\n",
       "    <tr>\n",
       "      <th>9</th>\n",
       "      <td>10</td>\n",
       "      <td>254</td>\n",
       "      <td>1.692535e+06</td>\n",
       "      <td>104224.965597</td>\n",
       "    </tr>\n",
       "    <tr>\n",
       "      <th>10</th>\n",
       "      <td>11</td>\n",
       "      <td>90</td>\n",
       "      <td>9.459371e+05</td>\n",
       "      <td>55047.050827</td>\n",
       "    </tr>\n",
       "    <tr>\n",
       "      <th>11</th>\n",
       "      <td>12</td>\n",
       "      <td>151</td>\n",
       "      <td>1.724600e+06</td>\n",
       "      <td>79812.038316</td>\n",
       "    </tr>\n",
       "  </tbody>\n",
       "</table>\n",
       "</div>"
      ],
      "text/plain": [
       "    month  room_count  totalRevenue            ADR\n",
       "0       1         248  2.636928e+06  132269.869084\n",
       "1       2         137  1.315054e+06   58004.093794\n",
       "2       3         137  1.510092e+06   76425.733753\n",
       "3       4         106  8.267290e+05   82160.540380\n",
       "4       5          53  3.352121e+05   35788.079762\n",
       "5       6          35  9.136400e+04   17390.691176\n",
       "6       7          75  4.767705e+05   52536.355297\n",
       "7       8          86  3.725311e+05   22493.860375\n",
       "8       9         320  1.123746e+06   54046.597279\n",
       "9      10         254  1.692535e+06  104224.965597\n",
       "10     11          90  9.459371e+05   55047.050827\n",
       "11     12         151  1.724600e+06   79812.038316"
      ]
     },
     "execution_count": 3,
     "metadata": {},
     "output_type": "execute_result"
    }
   ],
   "source": [
    "property_id_bb11['month'] = pd.DatetimeIndex(property_id_bb11['Stay_date']).month\n",
    "property_id_bb110=property_id_bb11.groupby(['month']).sum()\n",
    "property_id_bb110= property_id_bb110.reset_index()\n",
    "property_id_bb110"
   ]
  },
  {
   "cell_type": "code",
   "execution_count": 4,
   "metadata": {
    "collapsed": false
   },
   "outputs": [
    {
     "data": {
      "text/html": [
       "<div>\n",
       "<table border=\"1\" class=\"dataframe\">\n",
       "  <thead>\n",
       "    <tr style=\"text-align: right;\">\n",
       "      <th></th>\n",
       "      <th>month2016</th>\n",
       "      <th>RoomCount2016</th>\n",
       "      <th>TR2016</th>\n",
       "      <th>ADR2016</th>\n",
       "    </tr>\n",
       "  </thead>\n",
       "  <tbody>\n",
       "    <tr>\n",
       "      <th>0</th>\n",
       "      <td>Jan</td>\n",
       "      <td>248</td>\n",
       "      <td>2.636928e+06</td>\n",
       "      <td>132269.869084</td>\n",
       "    </tr>\n",
       "    <tr>\n",
       "      <th>1</th>\n",
       "      <td>Feb</td>\n",
       "      <td>137</td>\n",
       "      <td>1.315054e+06</td>\n",
       "      <td>58004.093794</td>\n",
       "    </tr>\n",
       "    <tr>\n",
       "      <th>2</th>\n",
       "      <td>Mar</td>\n",
       "      <td>137</td>\n",
       "      <td>1.510092e+06</td>\n",
       "      <td>76425.733753</td>\n",
       "    </tr>\n",
       "    <tr>\n",
       "      <th>3</th>\n",
       "      <td>Apr</td>\n",
       "      <td>106</td>\n",
       "      <td>8.267290e+05</td>\n",
       "      <td>82160.540380</td>\n",
       "    </tr>\n",
       "    <tr>\n",
       "      <th>4</th>\n",
       "      <td>May</td>\n",
       "      <td>53</td>\n",
       "      <td>3.352121e+05</td>\n",
       "      <td>35788.079762</td>\n",
       "    </tr>\n",
       "    <tr>\n",
       "      <th>5</th>\n",
       "      <td>Jun</td>\n",
       "      <td>35</td>\n",
       "      <td>9.136400e+04</td>\n",
       "      <td>17390.691176</td>\n",
       "    </tr>\n",
       "    <tr>\n",
       "      <th>6</th>\n",
       "      <td>Jul</td>\n",
       "      <td>75</td>\n",
       "      <td>4.767705e+05</td>\n",
       "      <td>52536.355297</td>\n",
       "    </tr>\n",
       "    <tr>\n",
       "      <th>7</th>\n",
       "      <td>Aug</td>\n",
       "      <td>86</td>\n",
       "      <td>3.725311e+05</td>\n",
       "      <td>22493.860375</td>\n",
       "    </tr>\n",
       "    <tr>\n",
       "      <th>8</th>\n",
       "      <td>Sep</td>\n",
       "      <td>320</td>\n",
       "      <td>1.123746e+06</td>\n",
       "      <td>54046.597279</td>\n",
       "    </tr>\n",
       "    <tr>\n",
       "      <th>9</th>\n",
       "      <td>Oct</td>\n",
       "      <td>254</td>\n",
       "      <td>1.692535e+06</td>\n",
       "      <td>104224.965597</td>\n",
       "    </tr>\n",
       "    <tr>\n",
       "      <th>10</th>\n",
       "      <td>Nov</td>\n",
       "      <td>90</td>\n",
       "      <td>9.459371e+05</td>\n",
       "      <td>55047.050827</td>\n",
       "    </tr>\n",
       "    <tr>\n",
       "      <th>11</th>\n",
       "      <td>Dec</td>\n",
       "      <td>151</td>\n",
       "      <td>1.724600e+06</td>\n",
       "      <td>79812.038316</td>\n",
       "    </tr>\n",
       "  </tbody>\n",
       "</table>\n",
       "</div>"
      ],
      "text/plain": [
       "   month2016  RoomCount2016        TR2016        ADR2016\n",
       "0        Jan            248  2.636928e+06  132269.869084\n",
       "1        Feb            137  1.315054e+06   58004.093794\n",
       "2        Mar            137  1.510092e+06   76425.733753\n",
       "3        Apr            106  8.267290e+05   82160.540380\n",
       "4        May             53  3.352121e+05   35788.079762\n",
       "5        Jun             35  9.136400e+04   17390.691176\n",
       "6        Jul             75  4.767705e+05   52536.355297\n",
       "7        Aug             86  3.725311e+05   22493.860375\n",
       "8        Sep            320  1.123746e+06   54046.597279\n",
       "9        Oct            254  1.692535e+06  104224.965597\n",
       "10       Nov             90  9.459371e+05   55047.050827\n",
       "11       Dec            151  1.724600e+06   79812.038316"
      ]
     },
     "execution_count": 4,
     "metadata": {},
     "output_type": "execute_result"
    }
   ],
   "source": [
    "import calendar\n",
    "property_id_bb110['month'] = property_id_bb110['month'].apply(lambda x: calendar.month_abbr[x])\n",
    "property_id_bb110.columns=['month2016','RoomCount2016','TR2016','ADR2016']\n",
    "property_id_bb110"
   ]
  },
  {
   "cell_type": "code",
   "execution_count": 5,
   "metadata": {
    "collapsed": false
   },
   "outputs": [],
   "source": [
    "property_id_bb10 = pd.read_excel('Results/GroupByPropertyID/2015/BB.xlsx')\n",
    "property_id_bb10 = property_id_bb10[(property_id_bb10.Property_id == 'BB')].reset_index()\n",
    "del property_id_bb10['index']\n",
    "property_id_bb10 = property_id_bb10.drop_duplicates()\n",
    "property_id_bb220=property_id_bb10.set_index('Property_id')\n",
    "property_id_bb_16=property_id_bb220.sort_values(['Stay_date'], ascending=[True])"
   ]
  },
  {
   "cell_type": "code",
   "execution_count": 6,
   "metadata": {
    "collapsed": false
   },
   "outputs": [
    {
     "data": {
      "text/html": [
       "<div>\n",
       "<table border=\"1\" class=\"dataframe\">\n",
       "  <thead>\n",
       "    <tr style=\"text-align: right;\">\n",
       "      <th></th>\n",
       "      <th>month</th>\n",
       "      <th>room_count</th>\n",
       "      <th>totalRevenue</th>\n",
       "      <th>ADR</th>\n",
       "    </tr>\n",
       "  </thead>\n",
       "  <tbody>\n",
       "    <tr>\n",
       "      <th>0</th>\n",
       "      <td>1</td>\n",
       "      <td>324</td>\n",
       "      <td>2.852649e+06</td>\n",
       "      <td>145905.836608</td>\n",
       "    </tr>\n",
       "    <tr>\n",
       "      <th>1</th>\n",
       "      <td>2</td>\n",
       "      <td>100</td>\n",
       "      <td>1.020619e+06</td>\n",
       "      <td>41239.860034</td>\n",
       "    </tr>\n",
       "    <tr>\n",
       "      <th>2</th>\n",
       "      <td>3</td>\n",
       "      <td>86</td>\n",
       "      <td>7.703280e+05</td>\n",
       "      <td>44920.861765</td>\n",
       "    </tr>\n",
       "    <tr>\n",
       "      <th>3</th>\n",
       "      <td>4</td>\n",
       "      <td>94</td>\n",
       "      <td>6.244980e+05</td>\n",
       "      <td>65790.235714</td>\n",
       "    </tr>\n",
       "    <tr>\n",
       "      <th>4</th>\n",
       "      <td>5</td>\n",
       "      <td>61</td>\n",
       "      <td>2.447050e+05</td>\n",
       "      <td>22384.761905</td>\n",
       "    </tr>\n",
       "    <tr>\n",
       "      <th>5</th>\n",
       "      <td>6</td>\n",
       "      <td>43</td>\n",
       "      <td>1.043240e+05</td>\n",
       "      <td>10683.202652</td>\n",
       "    </tr>\n",
       "    <tr>\n",
       "      <th>6</th>\n",
       "      <td>7</td>\n",
       "      <td>38</td>\n",
       "      <td>1.892970e+05</td>\n",
       "      <td>22783.423077</td>\n",
       "    </tr>\n",
       "    <tr>\n",
       "      <th>7</th>\n",
       "      <td>8</td>\n",
       "      <td>111</td>\n",
       "      <td>4.018605e+05</td>\n",
       "      <td>23206.982209</td>\n",
       "    </tr>\n",
       "    <tr>\n",
       "      <th>8</th>\n",
       "      <td>9</td>\n",
       "      <td>158</td>\n",
       "      <td>6.010450e+05</td>\n",
       "      <td>30822.377807</td>\n",
       "    </tr>\n",
       "    <tr>\n",
       "      <th>9</th>\n",
       "      <td>10</td>\n",
       "      <td>172</td>\n",
       "      <td>1.733912e+06</td>\n",
       "      <td>139649.020234</td>\n",
       "    </tr>\n",
       "    <tr>\n",
       "      <th>10</th>\n",
       "      <td>11</td>\n",
       "      <td>158</td>\n",
       "      <td>1.282414e+06</td>\n",
       "      <td>68389.265467</td>\n",
       "    </tr>\n",
       "    <tr>\n",
       "      <th>11</th>\n",
       "      <td>12</td>\n",
       "      <td>95</td>\n",
       "      <td>1.262485e+06</td>\n",
       "      <td>67258.969265</td>\n",
       "    </tr>\n",
       "  </tbody>\n",
       "</table>\n",
       "</div>"
      ],
      "text/plain": [
       "    month  room_count  totalRevenue            ADR\n",
       "0       1         324  2.852649e+06  145905.836608\n",
       "1       2         100  1.020619e+06   41239.860034\n",
       "2       3          86  7.703280e+05   44920.861765\n",
       "3       4          94  6.244980e+05   65790.235714\n",
       "4       5          61  2.447050e+05   22384.761905\n",
       "5       6          43  1.043240e+05   10683.202652\n",
       "6       7          38  1.892970e+05   22783.423077\n",
       "7       8         111  4.018605e+05   23206.982209\n",
       "8       9         158  6.010450e+05   30822.377807\n",
       "9      10         172  1.733912e+06  139649.020234\n",
       "10     11         158  1.282414e+06   68389.265467\n",
       "11     12          95  1.262485e+06   67258.969265"
      ]
     },
     "execution_count": 6,
     "metadata": {},
     "output_type": "execute_result"
    }
   ],
   "source": [
    "property_id_bb10['month'] = pd.DatetimeIndex(property_id_bb10['Stay_date']).month\n",
    "property_id_bb111=property_id_bb10.groupby(['month']).sum()\n",
    "property_id_bb111= property_id_bb111.reset_index()\n",
    "property_id_bb111"
   ]
  },
  {
   "cell_type": "code",
   "execution_count": 7,
   "metadata": {
    "collapsed": false
   },
   "outputs": [
    {
     "data": {
      "text/html": [
       "<div>\n",
       "<table border=\"1\" class=\"dataframe\">\n",
       "  <thead>\n",
       "    <tr style=\"text-align: right;\">\n",
       "      <th></th>\n",
       "      <th>month</th>\n",
       "      <th>RoomCount2015</th>\n",
       "      <th>TR2015</th>\n",
       "      <th>ADR2015</th>\n",
       "    </tr>\n",
       "  </thead>\n",
       "  <tbody>\n",
       "    <tr>\n",
       "      <th>0</th>\n",
       "      <td>Jan</td>\n",
       "      <td>324</td>\n",
       "      <td>2.852649e+06</td>\n",
       "      <td>145905.836608</td>\n",
       "    </tr>\n",
       "    <tr>\n",
       "      <th>1</th>\n",
       "      <td>Feb</td>\n",
       "      <td>100</td>\n",
       "      <td>1.020619e+06</td>\n",
       "      <td>41239.860034</td>\n",
       "    </tr>\n",
       "    <tr>\n",
       "      <th>2</th>\n",
       "      <td>Mar</td>\n",
       "      <td>86</td>\n",
       "      <td>7.703280e+05</td>\n",
       "      <td>44920.861765</td>\n",
       "    </tr>\n",
       "    <tr>\n",
       "      <th>3</th>\n",
       "      <td>Apr</td>\n",
       "      <td>94</td>\n",
       "      <td>6.244980e+05</td>\n",
       "      <td>65790.235714</td>\n",
       "    </tr>\n",
       "    <tr>\n",
       "      <th>4</th>\n",
       "      <td>May</td>\n",
       "      <td>61</td>\n",
       "      <td>2.447050e+05</td>\n",
       "      <td>22384.761905</td>\n",
       "    </tr>\n",
       "    <tr>\n",
       "      <th>5</th>\n",
       "      <td>Jun</td>\n",
       "      <td>43</td>\n",
       "      <td>1.043240e+05</td>\n",
       "      <td>10683.202652</td>\n",
       "    </tr>\n",
       "    <tr>\n",
       "      <th>6</th>\n",
       "      <td>Jul</td>\n",
       "      <td>38</td>\n",
       "      <td>1.892970e+05</td>\n",
       "      <td>22783.423077</td>\n",
       "    </tr>\n",
       "    <tr>\n",
       "      <th>7</th>\n",
       "      <td>Aug</td>\n",
       "      <td>111</td>\n",
       "      <td>4.018605e+05</td>\n",
       "      <td>23206.982209</td>\n",
       "    </tr>\n",
       "    <tr>\n",
       "      <th>8</th>\n",
       "      <td>Sep</td>\n",
       "      <td>158</td>\n",
       "      <td>6.010450e+05</td>\n",
       "      <td>30822.377807</td>\n",
       "    </tr>\n",
       "    <tr>\n",
       "      <th>9</th>\n",
       "      <td>Oct</td>\n",
       "      <td>172</td>\n",
       "      <td>1.733912e+06</td>\n",
       "      <td>139649.020234</td>\n",
       "    </tr>\n",
       "    <tr>\n",
       "      <th>10</th>\n",
       "      <td>Nov</td>\n",
       "      <td>158</td>\n",
       "      <td>1.282414e+06</td>\n",
       "      <td>68389.265467</td>\n",
       "    </tr>\n",
       "    <tr>\n",
       "      <th>11</th>\n",
       "      <td>Dec</td>\n",
       "      <td>95</td>\n",
       "      <td>1.262485e+06</td>\n",
       "      <td>67258.969265</td>\n",
       "    </tr>\n",
       "  </tbody>\n",
       "</table>\n",
       "</div>"
      ],
      "text/plain": [
       "   month  RoomCount2015        TR2015        ADR2015\n",
       "0    Jan            324  2.852649e+06  145905.836608\n",
       "1    Feb            100  1.020619e+06   41239.860034\n",
       "2    Mar             86  7.703280e+05   44920.861765\n",
       "3    Apr             94  6.244980e+05   65790.235714\n",
       "4    May             61  2.447050e+05   22384.761905\n",
       "5    Jun             43  1.043240e+05   10683.202652\n",
       "6    Jul             38  1.892970e+05   22783.423077\n",
       "7    Aug            111  4.018605e+05   23206.982209\n",
       "8    Sep            158  6.010450e+05   30822.377807\n",
       "9    Oct            172  1.733912e+06  139649.020234\n",
       "10   Nov            158  1.282414e+06   68389.265467\n",
       "11   Dec             95  1.262485e+06   67258.969265"
      ]
     },
     "execution_count": 7,
     "metadata": {},
     "output_type": "execute_result"
    }
   ],
   "source": [
    "import calendar\n",
    "property_id_bb111['month'] = property_id_bb111['month'].apply(lambda x: calendar.month_abbr[x])\n",
    "property_id_bb111.columns=['month','RoomCount2015','TR2015','ADR2015']\n",
    "property_id_bb111"
   ]
  },
  {
   "cell_type": "code",
   "execution_count": 8,
   "metadata": {
    "collapsed": false
   },
   "outputs": [
    {
     "data": {
      "text/html": [
       "<div>\n",
       "<table border=\"1\" class=\"dataframe\">\n",
       "  <thead>\n",
       "    <tr style=\"text-align: right;\">\n",
       "      <th></th>\n",
       "      <th>month2016</th>\n",
       "      <th>RoomCount2016</th>\n",
       "      <th>TR2016</th>\n",
       "      <th>ADR2016</th>\n",
       "      <th>month</th>\n",
       "      <th>RoomCount2015</th>\n",
       "      <th>TR2015</th>\n",
       "      <th>ADR2015</th>\n",
       "    </tr>\n",
       "  </thead>\n",
       "  <tbody>\n",
       "    <tr>\n",
       "      <th>0</th>\n",
       "      <td>Jan</td>\n",
       "      <td>248</td>\n",
       "      <td>2.636928e+06</td>\n",
       "      <td>132269.869084</td>\n",
       "      <td>Jan</td>\n",
       "      <td>324</td>\n",
       "      <td>2.852649e+06</td>\n",
       "      <td>145905.836608</td>\n",
       "    </tr>\n",
       "    <tr>\n",
       "      <th>1</th>\n",
       "      <td>Feb</td>\n",
       "      <td>137</td>\n",
       "      <td>1.315054e+06</td>\n",
       "      <td>58004.093794</td>\n",
       "      <td>Feb</td>\n",
       "      <td>100</td>\n",
       "      <td>1.020619e+06</td>\n",
       "      <td>41239.860034</td>\n",
       "    </tr>\n",
       "    <tr>\n",
       "      <th>2</th>\n",
       "      <td>Mar</td>\n",
       "      <td>137</td>\n",
       "      <td>1.510092e+06</td>\n",
       "      <td>76425.733753</td>\n",
       "      <td>Mar</td>\n",
       "      <td>86</td>\n",
       "      <td>7.703280e+05</td>\n",
       "      <td>44920.861765</td>\n",
       "    </tr>\n",
       "    <tr>\n",
       "      <th>3</th>\n",
       "      <td>Apr</td>\n",
       "      <td>106</td>\n",
       "      <td>8.267290e+05</td>\n",
       "      <td>82160.540380</td>\n",
       "      <td>Apr</td>\n",
       "      <td>94</td>\n",
       "      <td>6.244980e+05</td>\n",
       "      <td>65790.235714</td>\n",
       "    </tr>\n",
       "    <tr>\n",
       "      <th>4</th>\n",
       "      <td>May</td>\n",
       "      <td>53</td>\n",
       "      <td>3.352121e+05</td>\n",
       "      <td>35788.079762</td>\n",
       "      <td>May</td>\n",
       "      <td>61</td>\n",
       "      <td>2.447050e+05</td>\n",
       "      <td>22384.761905</td>\n",
       "    </tr>\n",
       "    <tr>\n",
       "      <th>5</th>\n",
       "      <td>Jun</td>\n",
       "      <td>35</td>\n",
       "      <td>9.136400e+04</td>\n",
       "      <td>17390.691176</td>\n",
       "      <td>Jun</td>\n",
       "      <td>43</td>\n",
       "      <td>1.043240e+05</td>\n",
       "      <td>10683.202652</td>\n",
       "    </tr>\n",
       "    <tr>\n",
       "      <th>6</th>\n",
       "      <td>Jul</td>\n",
       "      <td>75</td>\n",
       "      <td>4.767705e+05</td>\n",
       "      <td>52536.355297</td>\n",
       "      <td>Jul</td>\n",
       "      <td>38</td>\n",
       "      <td>1.892970e+05</td>\n",
       "      <td>22783.423077</td>\n",
       "    </tr>\n",
       "    <tr>\n",
       "      <th>7</th>\n",
       "      <td>Aug</td>\n",
       "      <td>86</td>\n",
       "      <td>3.725311e+05</td>\n",
       "      <td>22493.860375</td>\n",
       "      <td>Aug</td>\n",
       "      <td>111</td>\n",
       "      <td>4.018605e+05</td>\n",
       "      <td>23206.982209</td>\n",
       "    </tr>\n",
       "    <tr>\n",
       "      <th>8</th>\n",
       "      <td>Sep</td>\n",
       "      <td>320</td>\n",
       "      <td>1.123746e+06</td>\n",
       "      <td>54046.597279</td>\n",
       "      <td>Sep</td>\n",
       "      <td>158</td>\n",
       "      <td>6.010450e+05</td>\n",
       "      <td>30822.377807</td>\n",
       "    </tr>\n",
       "    <tr>\n",
       "      <th>9</th>\n",
       "      <td>Oct</td>\n",
       "      <td>254</td>\n",
       "      <td>1.692535e+06</td>\n",
       "      <td>104224.965597</td>\n",
       "      <td>Oct</td>\n",
       "      <td>172</td>\n",
       "      <td>1.733912e+06</td>\n",
       "      <td>139649.020234</td>\n",
       "    </tr>\n",
       "    <tr>\n",
       "      <th>10</th>\n",
       "      <td>Nov</td>\n",
       "      <td>90</td>\n",
       "      <td>9.459371e+05</td>\n",
       "      <td>55047.050827</td>\n",
       "      <td>Nov</td>\n",
       "      <td>158</td>\n",
       "      <td>1.282414e+06</td>\n",
       "      <td>68389.265467</td>\n",
       "    </tr>\n",
       "    <tr>\n",
       "      <th>11</th>\n",
       "      <td>Dec</td>\n",
       "      <td>151</td>\n",
       "      <td>1.724600e+06</td>\n",
       "      <td>79812.038316</td>\n",
       "      <td>Dec</td>\n",
       "      <td>95</td>\n",
       "      <td>1.262485e+06</td>\n",
       "      <td>67258.969265</td>\n",
       "    </tr>\n",
       "  </tbody>\n",
       "</table>\n",
       "</div>"
      ],
      "text/plain": [
       "   month2016  RoomCount2016        TR2016        ADR2016 month  RoomCount2015  \\\n",
       "0        Jan            248  2.636928e+06  132269.869084   Jan            324   \n",
       "1        Feb            137  1.315054e+06   58004.093794   Feb            100   \n",
       "2        Mar            137  1.510092e+06   76425.733753   Mar             86   \n",
       "3        Apr            106  8.267290e+05   82160.540380   Apr             94   \n",
       "4        May             53  3.352121e+05   35788.079762   May             61   \n",
       "5        Jun             35  9.136400e+04   17390.691176   Jun             43   \n",
       "6        Jul             75  4.767705e+05   52536.355297   Jul             38   \n",
       "7        Aug             86  3.725311e+05   22493.860375   Aug            111   \n",
       "8        Sep            320  1.123746e+06   54046.597279   Sep            158   \n",
       "9        Oct            254  1.692535e+06  104224.965597   Oct            172   \n",
       "10       Nov             90  9.459371e+05   55047.050827   Nov            158   \n",
       "11       Dec            151  1.724600e+06   79812.038316   Dec             95   \n",
       "\n",
       "          TR2015        ADR2015  \n",
       "0   2.852649e+06  145905.836608  \n",
       "1   1.020619e+06   41239.860034  \n",
       "2   7.703280e+05   44920.861765  \n",
       "3   6.244980e+05   65790.235714  \n",
       "4   2.447050e+05   22384.761905  \n",
       "5   1.043240e+05   10683.202652  \n",
       "6   1.892970e+05   22783.423077  \n",
       "7   4.018605e+05   23206.982209  \n",
       "8   6.010450e+05   30822.377807  \n",
       "9   1.733912e+06  139649.020234  \n",
       "10  1.282414e+06   68389.265467  \n",
       "11  1.262485e+06   67258.969265  "
      ]
     },
     "execution_count": 8,
     "metadata": {},
     "output_type": "execute_result"
    }
   ],
   "source": [
    "DF = pd.concat([property_id_bb110,property_id_bb111],axis=1)\n",
    "DF"
   ]
  },
  {
   "cell_type": "code",
   "execution_count": 9,
   "metadata": {
    "collapsed": true
   },
   "outputs": [],
   "source": [
    "%matplotlib inline\n",
    "import matplotlib.pyplot as plt"
   ]
  },
  {
   "cell_type": "code",
   "execution_count": 10,
   "metadata": {
    "collapsed": false
   },
   "outputs": [
    {
     "data": {
      "text/plain": [
       "<matplotlib.figure.Figure at 0x2308fa84f98>"
      ]
     },
     "execution_count": 10,
     "metadata": {},
     "output_type": "execute_result"
    },
    {
     "data": {
      "image/png": "[encoded data removed]",
      "text/plain": [
       "<matplotlib.figure.Figure at 0x2308fa8b320>"
      ]
     },
     "metadata": {},
     "output_type": "display_data"
    },
    {
     "data": {
      "text/plain": [
       "<matplotlib.figure.Figure at 0x2308fa84f98>"
      ]
     },
     "metadata": {},
     "output_type": "display_data"
    }
   ],
   "source": [
    "DF.plot(x='month', y=['TR2015','TR2016'], kind='bar', legend=True,color=['green','blue'])\n",
    "plt.figure() "
   ]
  },
  {
   "cell_type": "code",
   "execution_count": 11,
   "metadata": {
    "collapsed": false
   },
   "outputs": [
    {
     "data": {
      "text/plain": [
       "<matplotlib.figure.Figure at 0x2308fed4390>"
      ]
     },
     "execution_count": 11,
     "metadata": {},
     "output_type": "execute_result"
    },
    {
     "data": {
      "image/png": "[encoded data removed]",
      "text/plain": [
       "<matplotlib.figure.Figure at 0x2308fb17ac8>"
      ]
     },
     "metadata": {},
     "output_type": "display_data"
    },
    {
     "data": {
      "text/plain": [
       "<matplotlib.figure.Figure at 0x2308fed4390>"
      ]
     },
     "metadata": {},
     "output_type": "display_data"
    }
   ],
   "source": [
    "DF.plot(x='month', y=['ADR2015','ADR2016'], kind='bar', legend=True,color=['green','blue'])\n",
    "plt.figure()"
   ]
  },
  {
   "cell_type": "code",
   "execution_count": 12,
   "metadata": {
    "collapsed": false
   },
   "outputs": [
    {
     "data": {
      "text/plain": [
       "<matplotlib.figure.Figure at 0x2308ffe9978>"
      ]
     },
     "execution_count": 12,
     "metadata": {},
     "output_type": "execute_result"
    },
    {
     "data": {
      "image/png": "[encoded data removed]",
      "text/plain": [
       "<matplotlib.figure.Figure at 0x2308ff53dd8>"
      ]
     },
     "metadata": {},
     "output_type": "display_data"
    },
    {
     "data": {
      "text/plain": [
       "<matplotlib.figure.Figure at 0x2308ffe9978>"
      ]
     },
     "metadata": {},
     "output_type": "display_data"
    }
   ],
   "source": [
    "DF.plot(x='month', y=['RoomCount2015','RoomCount2016'], kind='bar', legend=True,color=['green','blue'])\n",
    "plt.figure()"
   ]
  },
  {
   "cell_type": "code",
   "execution_count": null,
   "metadata": {
    "collapsed": true
   },
   "outputs": [],
   "source": []
  },
  {
   "cell_type": "code",
   "execution_count": null,
   "metadata": {
    "collapsed": true
   },
   "outputs": [],
   "source": []
  },
  {
   "cell_type": "code",
   "execution_count": null,
   "metadata": {
    "collapsed": true
   },
   "outputs": [],
   "source": []
  },
  {
   "cell_type": "code",
   "execution_count": null,
   "metadata": {
    "collapsed": false
   },
   "outputs": [],
   "source": [
    "source = ColumnDataSource(\n",
    "        data=dict(\n",
    "            x=property_id_MM1[2],\n",
    "            y=property_id_MM1[5],\n",
    "            desc=property_id_MM1[3],\n",
    "            date=[x.strftime(\"%Y-%m-%d\") for x in property_id_MM['Stay_date']]\n",
    "        )\n",
    "    )\n",
    "\n",
    "hover = HoverTool(\n",
    "        tooltips=[\n",
    "            (\"Date\",\"@date\"),\n",
    "            (\"Event\", \"@desc\"),\n",
    "            (\"Total Revenue\",\"@y{1.11}\")\n",
    "        ]\n",
    "    )\n",
    "\n",
    "p = plt.figure(x_axis_type=\"datetime\",width=800, height=500, tools=[hover],\n",
    "           title=\"Graph of StayDate vs TotalRevenue for MM (hover to view events)\",x_axis_label = \"Stay Date\",\n",
    "               y_axis_label = \"Total Revenue\")\n",
    "p.left[0].formatter.use_scientific = False\n",
    "p.line('x', 'y', line_width=2, source=source)   \n",
    "show(p)"
   ]
  },
  {
   "cell_type": "code",
   "execution_count": null,
   "metadata": {
    "collapsed": false
   },
   "outputs": [],
   "source": [
    "source = ColumnDataSource(\n",
    "        data=dict(\n",
    "            x=property_id_MM1[2],\n",
    "            y=property_id_MM1[6],\n",
    "            desc=property_id_MM1[3],\n",
    "            date=[x.strftime(\"%Y-%m-%d\") for x in property_id_MM['Stay_date']]\n",
    "        )\n",
    "    )\n",
    "\n",
    "hover = HoverTool(\n",
    "        tooltips=[\n",
    "            (\"Date\",\"@date\"),\n",
    "            (\"Event\", \"@desc\"),\n",
    "            (\"ADR\",\"@y{1.11}\")\n",
    "        ]\n",
    "    )\n",
    "\n",
    "p = plt.figure(x_axis_type=\"datetime\",width=800, height=500, tools=[hover],\n",
    "           title=\"Graph of StayDate vs ADR for MM (hover to view events)\",x_axis_label = \"Stay Date\",\n",
    "               y_axis_label = \"ADR\")\n",
    "p.left[0].formatter.use_scientific = False\n",
    "p.line('x', 'y', line_width=2, source=source)   \n",
    "show(p)"
   ]
  },
  {
   "cell_type": "code",
   "execution_count": null,
   "metadata": {
    "collapsed": true
   },
   "outputs": [],
   "source": []
  },
  {
   "cell_type": "code",
   "execution_count": null,
   "metadata": {
    "collapsed": true
   },
   "outputs": [],
   "source": [
    "property_id_SC = pd.read_excel('Results/GroupByPropertyID/2015/SC.xlsx')\n",
    "property_id_SC = property_id_SC.reset_index()\n",
    "property_id_SC = property_id_SC.sort_values(by = 'Stay_date', ascending=True)\n",
    "property_id_SC1 = property_id_SC.values.T.tolist()"
   ]
  },
  {
   "cell_type": "code",
   "execution_count": null,
   "metadata": {
    "collapsed": false
   },
   "outputs": [],
   "source": [
    "source = ColumnDataSource(\n",
    "        data=dict(\n",
    "            x=property_id_SC1[2],\n",
    "            y=property_id_SC1[5],\n",
    "            desc=property_id_SC1[3],\n",
    "            date=[x.strftime(\"%Y-%m-%d\") for x in property_id_SC['Stay_date']]\n",
    "        )\n",
    "    )\n",
    "\n",
    "hover = HoverTool(\n",
    "        tooltips=[\n",
    "            (\"Date\",\"@date\"),\n",
    "            (\"Event\", \"@desc\"),\n",
    "            (\"Total Revenue\",\"@y{1.11}\")\n",
    "        ]\n",
    "    )\n",
    "\n",
    "p = plt.figure(x_axis_type=\"datetime\",width=800, height=500, tools=[hover],\n",
    "           title=\"Graph of StayDate vs TotalRevenue for SC (hover to view events)\",x_axis_label = \"Stay Date\",\n",
    "               y_axis_label = \"Total Revenue\")\n",
    "p.left[0].formatter.use_scientific = False\n",
    "p.line('x', 'y', line_width=2, source=source)   \n",
    "show(p)"
   ]
  },
  {
   "cell_type": "code",
   "execution_count": null,
   "metadata": {
    "collapsed": false
   },
   "outputs": [],
   "source": [
    "source = ColumnDataSource(\n",
    "        data=dict(\n",
    "            x=property_id_SC1[2],\n",
    "            y=property_id_SC1[6],\n",
    "            desc=property_id_SC1[3],\n",
    "            date=[x.strftime(\"%Y-%m-%d\") for x in property_id_SC['Stay_date']]\n",
    "        )\n",
    "    )\n",
    "\n",
    "hover = HoverTool(\n",
    "        tooltips=[\n",
    "            (\"Date\",\"@date\"),\n",
    "            (\"Event\", \"@desc\"),\n",
    "            (\"ADR\",\"@y{1.11}\")\n",
    "        ]\n",
    "    )\n",
    "\n",
    "p = plt.figure(x_axis_type=\"datetime\",width=800, height=500, tools=[hover],\n",
    "           title=\"Graph of StayDate vs ADR for SC (hover to view events)\",x_axis_label = \"Stay Date\",\n",
    "               y_axis_label = \"ADR\")\n",
    "p.left[0].formatter.use_scientific = False\n",
    "p.line('x', 'y', line_width=2, source=source)   \n",
    "show(p)"
   ]
  },
  {
   "cell_type": "code",
   "execution_count": null,
   "metadata": {
    "collapsed": true
   },
   "outputs": [],
   "source": []
  },
  {
   "cell_type": "code",
   "execution_count": null,
   "metadata": {
    "collapsed": true
   },
   "outputs": [],
   "source": [
    "property_id_SS = pd.read_excel('Results/GroupByPropertyID/2015/SS.xlsx')\n",
    "property_id_SS = property_id_SS.reset_index()\n",
    "property_id_SS = property_id_SS.sort_values(by = 'Stay_date', ascending=True)\n",
    "property_id_SS1 = property_id_SS.values.T.tolist()"
   ]
  },
  {
   "cell_type": "code",
   "execution_count": null,
   "metadata": {
    "collapsed": false
   },
   "outputs": [],
   "source": [
    "source = ColumnDataSource(\n",
    "        data=dict(\n",
    "            x=property_id_SS1[2],\n",
    "            y=property_id_SS1[5],\n",
    "            desc=property_id_SS1[3],\n",
    "            date=[x.strftime(\"%Y-%m-%d\") for x in property_id_SS['Stay_date']]\n",
    "        )\n",
    "    )\n",
    "\n",
    "hover = HoverTool(\n",
    "        tooltips=[\n",
    "            (\"Date\",\"@date\"),\n",
    "            (\"Event\", \"@desc\"),\n",
    "            (\"Total Revenue\",\"@y{1.11}\")\n",
    "        ]\n",
    "    )\n",
    "\n",
    "p = plt.figure(x_axis_type=\"datetime\",width=800, height=500, tools=[hover],\n",
    "           title=\"Graph of StayDate vs TotalRevenue for SS (hover to view events)\",x_axis_label = \"Stay Date\",\n",
    "               y_axis_label = \"Total Revenue\")\n",
    "p.left[0].formatter.use_scientific = False\n",
    "p.line('x', 'y', line_width=2, source=source)   \n",
    "show(p)"
   ]
  },
  {
   "cell_type": "code",
   "execution_count": null,
   "metadata": {
    "collapsed": false
   },
   "outputs": [],
   "source": [
    "source = ColumnDataSource(\n",
    "        data=dict(\n",
    "            x=property_id_SS1[2],\n",
    "            y=property_id_SS1[6],\n",
    "            desc=property_id_SS1[3],\n",
    "            date=[x.strftime(\"%Y-%m-%d\") for x in property_id_SS['Stay_date']]\n",
    "        )\n",
    "    )\n",
    "\n",
    "hover = HoverTool(\n",
    "        tooltips=[\n",
    "            (\"Date\",\"@date\"),\n",
    "            (\"Event\", \"@desc\"),\n",
    "            (\"ADR\",\"@y{1.11}\")\n",
    "        ]\n",
    "    )\n",
    "\n",
    "p = plt.figure(x_axis_type=\"datetime\",width=800, height=500, tools=[hover],\n",
    "           title=\"Graph of StayDate vs ADR for SS (hover to view events)\",x_axis_label = \"Stay Date\",\n",
    "               y_axis_label = \"ADR\")\n",
    "p.left[0].formatter.use_scientific = False\n",
    "p.line('x', 'y', line_width=2, source=source)   \n",
    "show(p)"
   ]
  },
  {
   "cell_type": "code",
   "execution_count": null,
   "metadata": {
    "collapsed": true
   },
   "outputs": [],
   "source": []
  },
  {
   "cell_type": "code",
   "execution_count": null,
   "metadata": {
    "collapsed": true
   },
   "outputs": [],
   "source": [
    "property_id_SV = pd.read_excel('Results/GroupByPropertyID/2015/SV.xlsx')\n",
    "property_id_SV = property_id_SV.reset_index()\n",
    "property_id_SV = property_id_SV.sort_values(by = 'Stay_date', ascending=True)\n",
    "property_id_SV1 = property_id_SV.values.T.tolist()"
   ]
  },
  {
   "cell_type": "code",
   "execution_count": null,
   "metadata": {
    "collapsed": false
   },
   "outputs": [],
   "source": [
    "source = ColumnDataSource(\n",
    "        data=dict(\n",
    "            x=property_id_SV1[2],\n",
    "            y=property_id_SV1[5],\n",
    "            desc=property_id_SV1[3],\n",
    "            date=[x.strftime(\"%Y-%m-%d\") for x in property_id_SV['Stay_date']]\n",
    "        )\n",
    "    )\n",
    "\n",
    "hover = HoverTool(\n",
    "        tooltips=[\n",
    "            (\"Date\",\"@date\"),\n",
    "            (\"Event\", \"@desc\"),\n",
    "            (\"Total Revenue\",\"@y{1.11}\")\n",
    "        ]\n",
    "    )\n",
    "\n",
    "p = plt.figure(x_axis_type=\"datetime\",width=800, height=500, tools=[hover],\n",
    "           title=\"Graph of StayDate vs TotalRevenue for SV (hover to view events)\",x_axis_label = \"Stay Date\",\n",
    "               y_axis_label = \"Total Revenue\")\n",
    "p.left[0].formatter.use_scientific = False\n",
    "p.line('x', 'y', line_width=2, source=source)   \n",
    "show(p)"
   ]
  },
  {
   "cell_type": "code",
   "execution_count": null,
   "metadata": {
    "collapsed": false
   },
   "outputs": [],
   "source": [
    "source = ColumnDataSource(\n",
    "        data=dict(\n",
    "            x=property_id_SV1[2],\n",
    "            y=property_id_SV1[6],\n",
    "            desc=property_id_SV1[3],\n",
    "            date=[x.strftime(\"%Y-%m-%d\") for x in property_id_SV['Stay_date']]\n",
    "        )\n",
    "    )\n",
    "\n",
    "hover = HoverTool(\n",
    "        tooltips=[\n",
    "            (\"Date\",\"@date\"),\n",
    "            (\"Event\", \"@desc\"),\n",
    "            (\"ADR\",\"@y{1.11}\")\n",
    "        ]\n",
    "    )\n",
    "\n",
    "p = plt.figure(x_axis_type=\"datetime\",width=800, height=500, tools=[hover],\n",
    "           title=\"Graph of StayDate vs ADR for SV (hover to view events)\",x_axis_label = \"Stay Date\",\n",
    "               y_axis_label = \"ADR\")\n",
    "p.left[0].formatter.use_scientific = False\n",
    "p.line('x', 'y', line_width=2, source=source)   \n",
    "show(p)"
   ]
  },
  {
   "cell_type": "code",
   "execution_count": null,
   "metadata": {
    "collapsed": true
   },
   "outputs": [],
   "source": []
  },
  {
   "cell_type": "code",
   "execution_count": null,
   "metadata": {
    "collapsed": true
   },
   "outputs": [],
   "source": [
    "property_id_VM = pd.read_excel('Results/GroupByPropertyID/2015/VM.xlsx')\n",
    "property_id_VM = property_id_VM.reset_index()\n",
    "property_id_VM = property_id_VM.sort_values(by = 'Stay_date', ascending=True)\n",
    "property_id_VM1 = property_id_VM.values.T.tolist()"
   ]
  },
  {
   "cell_type": "code",
   "execution_count": null,
   "metadata": {
    "collapsed": false
   },
   "outputs": [],
   "source": [
    "source = ColumnDataSource(\n",
    "        data=dict(\n",
    "            x=property_id_VM1[2],\n",
    "            y=property_id_VM1[5],\n",
    "            desc=property_id_VM1[3],\n",
    "            date=[x.strftime(\"%Y-%m-%d\") for x in property_id_VM['Stay_date']]\n",
    "        )\n",
    "    )\n",
    "\n",
    "hover = HoverTool(\n",
    "        tooltips=[\n",
    "            (\"Date\",\"@date\"),\n",
    "            (\"Event\", \"@desc\"),\n",
    "            (\"Total Revenue\",\"@y{1.11}\")\n",
    "        ]\n",
    "    )\n",
    "\n",
    "p = plt.figure(x_axis_type=\"datetime\",width=800, height=500, tools=[hover],\n",
    "           title=\"Graph of StayDate vs TotalRevenue for VM (hover to view events)\",x_axis_label = \"Stay Date\",\n",
    "               y_axis_label = \"Total Revenue\")\n",
    "p.left[0].formatter.use_scientific = False\n",
    "p.line('x', 'y', line_width=2, source=source)   \n",
    "show(p)"
   ]
  },
  {
   "cell_type": "code",
   "execution_count": null,
   "metadata": {
    "collapsed": false
   },
   "outputs": [],
   "source": [
    "source = ColumnDataSource(\n",
    "        data=dict(\n",
    "            x=property_id_VM1[2],\n",
    "            y=property_id_VM1[6],\n",
    "            desc=property_id_VM1[3],\n",
    "            date=[x.strftime(\"%Y-%m-%d\") for x in property_id_VM['Stay_date']]\n",
    "        )\n",
    "    )\n",
    "\n",
    "hover = HoverTool(\n",
    "        tooltips=[\n",
    "            (\"Date\",\"@date\"),\n",
    "            (\"Event\", \"@desc\"),\n",
    "            (\"ADR\",\"@y{1.11}\")\n",
    "        ]\n",
    "    )\n",
    "\n",
    "p = plt.figure(x_axis_type=\"datetime\",width=800, height=500, tools=[hover],\n",
    "           title=\"Graph of StayDate vs ADR for VM (hover to view events)\",x_axis_label = \"Stay Date\",\n",
    "               y_axis_label = \"ADR\")\n",
    "p.left[0].formatter.use_scientific = False\n",
    "p.line('x', 'y', line_width=2, source=source)   \n",
    "show(p)"
   ]
  },
  {
   "cell_type": "code",
   "execution_count": null,
   "metadata": {
    "collapsed": true
   },
   "outputs": [],
   "source": []
  },
  {
   "cell_type": "code",
   "execution_count": null,
   "metadata": {
    "collapsed": true
   },
   "outputs": [],
   "source": [
    "property_id_VV = pd.read_excel('Results/GroupByPropertyID/2015/VV.xlsx')\n",
    "property_id_VV = property_id_VV.reset_index()\n",
    "property_id_VV = property_id_VV.sort_values(by = 'Stay_date', ascending=True)\n",
    "property_id_VV1 = property_id_VV.values.T.tolist()"
   ]
  },
  {
   "cell_type": "code",
   "execution_count": null,
   "metadata": {
    "collapsed": false
   },
   "outputs": [],
   "source": [
    "source = ColumnDataSource(\n",
    "        data=dict(\n",
    "            x=property_id_VV1[2],\n",
    "            y=property_id_VV1[5],\n",
    "            desc=property_id_VV1[3],\n",
    "            date=[x.strftime(\"%Y-%m-%d\") for x in property_id_VV['Stay_date']]\n",
    "        )\n",
    "    )\n",
    "\n",
    "hover = HoverTool(\n",
    "        tooltips=[\n",
    "            (\"Date\",\"@date\"),\n",
    "            (\"Event\", \"@desc\"),\n",
    "            (\"Total Revenue\",\"@y{1.11}\")\n",
    "        ]\n",
    "    )\n",
    "\n",
    "p = plt.figure(x_axis_type=\"datetime\",width=800, height=500, tools=[hover],\n",
    "           title=\"Graph of StayDate vs TotalRevenue for VV (hover to view events)\",x_axis_label = \"Stay Date\",\n",
    "               y_axis_label = \"Total Revenue\")\n",
    "p.left[0].formatter.use_scientific = False\n",
    "p.line('x', 'y', line_width=2, source=source)   \n",
    "show(p)"
   ]
  },
  {
   "cell_type": "code",
   "execution_count": null,
   "metadata": {
    "collapsed": false
   },
   "outputs": [],
   "source": [
    "source = ColumnDataSource(\n",
    "        data=dict(\n",
    "            x=property_id_VV1[2],\n",
    "            y=property_id_VV1[6],\n",
    "            desc=property_id_VV1[3],\n",
    "            date=[x.strftime(\"%Y-%m-%d\") for x in property_id_VV['Stay_date']]\n",
    "        )\n",
    "    )\n",
    "\n",
    "hover = HoverTool(\n",
    "        tooltips=[\n",
    "            (\"Date\",\"@date\"),\n",
    "            (\"Event\", \"@desc\"),\n",
    "            (\"ADR\",\"@y{1.11}\")\n",
    "        ]\n",
    "    )\n",
    "\n",
    "p = plt.figure(x_axis_type=\"datetime\",width=800, height=500, tools=[hover],\n",
    "           title=\"Graph of StayDate vs ADR for VV (hover to view events)\",x_axis_label = \"Stay Date\",\n",
    "               y_axis_label = \"ADR\")\n",
    "p.left[0].formatter.use_scientific = False\n",
    "p.line('x', 'y', line_width=2, source=source)   \n",
    "show(p)"
   ]
  }
 ],
 "metadata": {
  "anaconda-cloud": {},
  "kernelspec": {
   "display_name": "Python [default]",
   "language": "python",
   "name": "python3"
  },
  "language_info": {
   "codemirror_mode": {
    "name": "ipython",
    "version": 3
   },
   "file_extension": ".py",
   "mimetype": "text/x-python",
   "name": "python",
   "nbconvert_exporter": "python",
   "pygments_lexer": "ipython3",
   "version": "3.5.2"
  }
 },
 "nbformat": 4,
 "nbformat_minor": 1
}
