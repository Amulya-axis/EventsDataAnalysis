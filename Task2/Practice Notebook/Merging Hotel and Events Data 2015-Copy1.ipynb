{
 "cells": [
  {
   "cell_type": "code",
   "execution_count": 1,
   "metadata": {
    "collapsed": false
   },
   "outputs": [
    {
     "data": {
      "text/html": [
       "<div>\n",
       "<table border=\"1\" class=\"dataframe\">\n",
       "  <thead>\n",
       "    <tr style=\"text-align: right;\">\n",
       "      <th></th>\n",
       "      <th>booking_date</th>\n",
       "      <th>channel</th>\n",
       "      <th>property_id</th>\n",
       "      <th>room_name</th>\n",
       "      <th>room_id</th>\n",
       "      <th>check_in</th>\n",
       "      <th>check_out</th>\n",
       "      <th>room_rate</th>\n",
       "      <th>booking_status</th>\n",
       "    </tr>\n",
       "  </thead>\n",
       "  <tbody>\n",
       "    <tr>\n",
       "      <th>0</th>\n",
       "      <td>2013-06-30T16:35:42+05:30</td>\n",
       "      <td>DIRECT</td>\n",
       "      <td>CH</td>\n",
       "      <td>Superior Room</td>\n",
       "      <td>ST</td>\n",
       "      <td>2013-07-08</td>\n",
       "      <td>2014-04-15</td>\n",
       "      <td>0.0</td>\n",
       "      <td>COMPLETED</td>\n",
       "    </tr>\n",
       "    <tr>\n",
       "      <th>1</th>\n",
       "      <td>2013-02-08T17:06:44+05:30</td>\n",
       "      <td>DIRECT</td>\n",
       "      <td>BB</td>\n",
       "      <td>Standard Sea Facing Room</td>\n",
       "      <td>1F</td>\n",
       "      <td>2014-03-01</td>\n",
       "      <td>2014-04-30</td>\n",
       "      <td>0.0</td>\n",
       "      <td>CANCELLED</td>\n",
       "    </tr>\n",
       "    <tr>\n",
       "      <th>2</th>\n",
       "      <td>2013-02-08T17:06:44+05:30</td>\n",
       "      <td>DIRECT</td>\n",
       "      <td>BB</td>\n",
       "      <td>Standard Sea Facing Room</td>\n",
       "      <td>1F</td>\n",
       "      <td>2014-03-01</td>\n",
       "      <td>2014-04-30</td>\n",
       "      <td>0.0</td>\n",
       "      <td>CANCELLED</td>\n",
       "    </tr>\n",
       "    <tr>\n",
       "      <th>3</th>\n",
       "      <td>2013-02-08T17:06:44+05:30</td>\n",
       "      <td>DIRECT</td>\n",
       "      <td>BB</td>\n",
       "      <td>Standard Sea Facing Room</td>\n",
       "      <td>1F</td>\n",
       "      <td>2014-03-01</td>\n",
       "      <td>2014-04-30</td>\n",
       "      <td>0.0</td>\n",
       "      <td>CANCELLED</td>\n",
       "    </tr>\n",
       "    <tr>\n",
       "      <th>4</th>\n",
       "      <td>2013-02-08T17:06:44+05:30</td>\n",
       "      <td>DIRECT</td>\n",
       "      <td>BB</td>\n",
       "      <td>Standard Sea Facing Room</td>\n",
       "      <td>1F</td>\n",
       "      <td>2014-03-01</td>\n",
       "      <td>2014-04-30</td>\n",
       "      <td>0.0</td>\n",
       "      <td>CANCELLED</td>\n",
       "    </tr>\n",
       "  </tbody>\n",
       "</table>\n",
       "</div>"
      ],
      "text/plain": [
       "                booking_date channel property_id                 room_name  \\\n",
       "0  2013-06-30T16:35:42+05:30  DIRECT          CH             Superior Room   \n",
       "1  2013-02-08T17:06:44+05:30  DIRECT          BB  Standard Sea Facing Room   \n",
       "2  2013-02-08T17:06:44+05:30  DIRECT          BB  Standard Sea Facing Room   \n",
       "3  2013-02-08T17:06:44+05:30  DIRECT          BB  Standard Sea Facing Room   \n",
       "4  2013-02-08T17:06:44+05:30  DIRECT          BB  Standard Sea Facing Room   \n",
       "\n",
       "  room_id    check_in   check_out  room_rate booking_status  \n",
       "0      ST  2013-07-08  2014-04-15        0.0      COMPLETED  \n",
       "1      1F  2014-03-01  2014-04-30        0.0      CANCELLED  \n",
       "2      1F  2014-03-01  2014-04-30        0.0      CANCELLED  \n",
       "3      1F  2014-03-01  2014-04-30        0.0      CANCELLED  \n",
       "4      1F  2014-03-01  2014-04-30        0.0      CANCELLED  "
      ]
     },
     "execution_count": 1,
     "metadata": {},
     "output_type": "execute_result"
    }
   ],
   "source": [
    "import pandas as pd\n",
    "import numpy as np\n",
    "\n",
    "data = pd.read_csv('/Users/Amulya/Desktop/EventsDataAnalysis/Task2/Results/RequiredDataSet.csv',header=None, names=['booking_date','channel','property_id','room_name','room_id','check_in','check_out','room_rate','booking_status'])\n",
    "data.head()\n"
   ]
  },
  {
   "cell_type": "code",
   "execution_count": 2,
   "metadata": {
    "collapsed": false
   },
   "outputs": [
    {
     "data": {
      "text/plain": [
       "array(['COMPLETED', 'CANCELLED', 'WAITLISTED', 'CONFIRMED'], dtype=object)"
      ]
     },
     "execution_count": 2,
     "metadata": {},
     "output_type": "execute_result"
    }
   ],
   "source": [
    "dat1 = data['booking_status'].unique()\n",
    "dat1"
   ]
  },
  {
   "cell_type": "code",
   "execution_count": 3,
   "metadata": {
    "collapsed": false
   },
   "outputs": [
    {
     "data": {
      "text/plain": [
       "['DIRECT', 'TRAVEL AGENTS', 'CORPORATES', 'OTA']"
      ]
     },
     "execution_count": 3,
     "metadata": {},
     "output_type": "execute_result"
    }
   ],
   "source": [
    "channelList = data['channel'].unique().tolist()\n",
    "channelList "
   ]
  },
  {
   "cell_type": "code",
   "execution_count": 4,
   "metadata": {
    "collapsed": false
   },
   "outputs": [],
   "source": [
    "Results = pd.read_excel('/Users/Amulya/Desktop/EventsDataAnalysis/Task2/Results/DataSetWithStayDate.xlsx')"
   ]
  },
  {
   "cell_type": "code",
   "execution_count": 5,
   "metadata": {
    "collapsed": false
   },
   "outputs": [
    {
     "data": {
      "text/html": [
       "<div>\n",
       "<table border=\"1\" class=\"dataframe\">\n",
       "  <thead>\n",
       "    <tr style=\"text-align: right;\">\n",
       "      <th></th>\n",
       "      <th>Booking_date</th>\n",
       "      <th>Booking_status</th>\n",
       "      <th>Channel</th>\n",
       "      <th>Check_in</th>\n",
       "      <th>Check_out</th>\n",
       "      <th>Property_id</th>\n",
       "      <th>Room_details</th>\n",
       "      <th>Room_name</th>\n",
       "      <th>Old_Room_rate</th>\n",
       "      <th>Room_rate</th>\n",
       "      <th>Stay_date</th>\n",
       "    </tr>\n",
       "  </thead>\n",
       "  <tbody>\n",
       "    <tr>\n",
       "      <th>0</th>\n",
       "      <td>2013-06-30T16:35:42+05:30</td>\n",
       "      <td>COMPLETED</td>\n",
       "      <td>DIRECT</td>\n",
       "      <td>2013-07-08</td>\n",
       "      <td>2014-04-15</td>\n",
       "      <td>CH</td>\n",
       "      <td>ST</td>\n",
       "      <td>Superior Room</td>\n",
       "      <td>0.0</td>\n",
       "      <td>0.0</td>\n",
       "      <td>2013-07-08</td>\n",
       "    </tr>\n",
       "    <tr>\n",
       "      <th>1</th>\n",
       "      <td>2013-06-30T16:35:42+05:30</td>\n",
       "      <td>COMPLETED</td>\n",
       "      <td>DIRECT</td>\n",
       "      <td>2013-07-08</td>\n",
       "      <td>2014-04-15</td>\n",
       "      <td>CH</td>\n",
       "      <td>ST</td>\n",
       "      <td>Superior Room</td>\n",
       "      <td>0.0</td>\n",
       "      <td>0.0</td>\n",
       "      <td>2013-07-09</td>\n",
       "    </tr>\n",
       "    <tr>\n",
       "      <th>2</th>\n",
       "      <td>2013-06-30T16:35:42+05:30</td>\n",
       "      <td>COMPLETED</td>\n",
       "      <td>DIRECT</td>\n",
       "      <td>2013-07-08</td>\n",
       "      <td>2014-04-15</td>\n",
       "      <td>CH</td>\n",
       "      <td>ST</td>\n",
       "      <td>Superior Room</td>\n",
       "      <td>0.0</td>\n",
       "      <td>0.0</td>\n",
       "      <td>2013-07-10</td>\n",
       "    </tr>\n",
       "    <tr>\n",
       "      <th>3</th>\n",
       "      <td>2013-06-30T16:35:42+05:30</td>\n",
       "      <td>COMPLETED</td>\n",
       "      <td>DIRECT</td>\n",
       "      <td>2013-07-08</td>\n",
       "      <td>2014-04-15</td>\n",
       "      <td>CH</td>\n",
       "      <td>ST</td>\n",
       "      <td>Superior Room</td>\n",
       "      <td>0.0</td>\n",
       "      <td>0.0</td>\n",
       "      <td>2013-07-11</td>\n",
       "    </tr>\n",
       "    <tr>\n",
       "      <th>4</th>\n",
       "      <td>2013-06-30T16:35:42+05:30</td>\n",
       "      <td>COMPLETED</td>\n",
       "      <td>DIRECT</td>\n",
       "      <td>2013-07-08</td>\n",
       "      <td>2014-04-15</td>\n",
       "      <td>CH</td>\n",
       "      <td>ST</td>\n",
       "      <td>Superior Room</td>\n",
       "      <td>0.0</td>\n",
       "      <td>0.0</td>\n",
       "      <td>2013-07-12</td>\n",
       "    </tr>\n",
       "  </tbody>\n",
       "</table>\n",
       "</div>"
      ],
      "text/plain": [
       "                Booking_date Booking_status Channel    Check_in   Check_out  \\\n",
       "0  2013-06-30T16:35:42+05:30      COMPLETED  DIRECT  2013-07-08  2014-04-15   \n",
       "1  2013-06-30T16:35:42+05:30      COMPLETED  DIRECT  2013-07-08  2014-04-15   \n",
       "2  2013-06-30T16:35:42+05:30      COMPLETED  DIRECT  2013-07-08  2014-04-15   \n",
       "3  2013-06-30T16:35:42+05:30      COMPLETED  DIRECT  2013-07-08  2014-04-15   \n",
       "4  2013-06-30T16:35:42+05:30      COMPLETED  DIRECT  2013-07-08  2014-04-15   \n",
       "\n",
       "  Property_id Room_details      Room_name  Old_Room_rate  Room_rate  \\\n",
       "0          CH           ST  Superior Room            0.0        0.0   \n",
       "1          CH           ST  Superior Room            0.0        0.0   \n",
       "2          CH           ST  Superior Room            0.0        0.0   \n",
       "3          CH           ST  Superior Room            0.0        0.0   \n",
       "4          CH           ST  Superior Room            0.0        0.0   \n",
       "\n",
       "    Stay_date  \n",
       "0  2013-07-08  \n",
       "1  2013-07-09  \n",
       "2  2013-07-10  \n",
       "3  2013-07-11  \n",
       "4  2013-07-12  "
      ]
     },
     "execution_count": 5,
     "metadata": {},
     "output_type": "execute_result"
    }
   ],
   "source": [
    "Results.head()"
   ]
  },
  {
   "cell_type": "code",
   "execution_count": 6,
   "metadata": {
    "collapsed": false
   },
   "outputs": [
    {
     "data": {
      "text/html": [
       "<div>\n",
       "<table border=\"1\" class=\"dataframe\">\n",
       "  <thead>\n",
       "    <tr style=\"text-align: right;\">\n",
       "      <th></th>\n",
       "      <th>Booking_date</th>\n",
       "      <th>Booking_status</th>\n",
       "      <th>Channel</th>\n",
       "      <th>Check_in</th>\n",
       "      <th>Check_out</th>\n",
       "      <th>Property_id</th>\n",
       "      <th>Room_details</th>\n",
       "      <th>Room_name</th>\n",
       "      <th>Room_rate</th>\n",
       "      <th>Stay_date</th>\n",
       "    </tr>\n",
       "  </thead>\n",
       "  <tbody>\n",
       "    <tr>\n",
       "      <th>0</th>\n",
       "      <td>2013-06-30T16:35:42+05:30</td>\n",
       "      <td>COMPLETED</td>\n",
       "      <td>DIRECT</td>\n",
       "      <td>2013-07-08</td>\n",
       "      <td>2014-04-15</td>\n",
       "      <td>CH</td>\n",
       "      <td>ST</td>\n",
       "      <td>Superior Room</td>\n",
       "      <td>0.0</td>\n",
       "      <td>2013-07-08</td>\n",
       "    </tr>\n",
       "    <tr>\n",
       "      <th>1</th>\n",
       "      <td>2013-06-30T16:35:42+05:30</td>\n",
       "      <td>COMPLETED</td>\n",
       "      <td>DIRECT</td>\n",
       "      <td>2013-07-08</td>\n",
       "      <td>2014-04-15</td>\n",
       "      <td>CH</td>\n",
       "      <td>ST</td>\n",
       "      <td>Superior Room</td>\n",
       "      <td>0.0</td>\n",
       "      <td>2013-07-09</td>\n",
       "    </tr>\n",
       "    <tr>\n",
       "      <th>2</th>\n",
       "      <td>2013-06-30T16:35:42+05:30</td>\n",
       "      <td>COMPLETED</td>\n",
       "      <td>DIRECT</td>\n",
       "      <td>2013-07-08</td>\n",
       "      <td>2014-04-15</td>\n",
       "      <td>CH</td>\n",
       "      <td>ST</td>\n",
       "      <td>Superior Room</td>\n",
       "      <td>0.0</td>\n",
       "      <td>2013-07-10</td>\n",
       "    </tr>\n",
       "    <tr>\n",
       "      <th>3</th>\n",
       "      <td>2013-06-30T16:35:42+05:30</td>\n",
       "      <td>COMPLETED</td>\n",
       "      <td>DIRECT</td>\n",
       "      <td>2013-07-08</td>\n",
       "      <td>2014-04-15</td>\n",
       "      <td>CH</td>\n",
       "      <td>ST</td>\n",
       "      <td>Superior Room</td>\n",
       "      <td>0.0</td>\n",
       "      <td>2013-07-11</td>\n",
       "    </tr>\n",
       "    <tr>\n",
       "      <th>4</th>\n",
       "      <td>2013-06-30T16:35:42+05:30</td>\n",
       "      <td>COMPLETED</td>\n",
       "      <td>DIRECT</td>\n",
       "      <td>2013-07-08</td>\n",
       "      <td>2014-04-15</td>\n",
       "      <td>CH</td>\n",
       "      <td>ST</td>\n",
       "      <td>Superior Room</td>\n",
       "      <td>0.0</td>\n",
       "      <td>2013-07-12</td>\n",
       "    </tr>\n",
       "  </tbody>\n",
       "</table>\n",
       "</div>"
      ],
      "text/plain": [
       "                Booking_date Booking_status Channel    Check_in   Check_out  \\\n",
       "0  2013-06-30T16:35:42+05:30      COMPLETED  DIRECT  2013-07-08  2014-04-15   \n",
       "1  2013-06-30T16:35:42+05:30      COMPLETED  DIRECT  2013-07-08  2014-04-15   \n",
       "2  2013-06-30T16:35:42+05:30      COMPLETED  DIRECT  2013-07-08  2014-04-15   \n",
       "3  2013-06-30T16:35:42+05:30      COMPLETED  DIRECT  2013-07-08  2014-04-15   \n",
       "4  2013-06-30T16:35:42+05:30      COMPLETED  DIRECT  2013-07-08  2014-04-15   \n",
       "\n",
       "  Property_id Room_details      Room_name  Room_rate   Stay_date  \n",
       "0          CH           ST  Superior Room        0.0  2013-07-08  \n",
       "1          CH           ST  Superior Room        0.0  2013-07-09  \n",
       "2          CH           ST  Superior Room        0.0  2013-07-10  \n",
       "3          CH           ST  Superior Room        0.0  2013-07-11  \n",
       "4          CH           ST  Superior Room        0.0  2013-07-12  "
      ]
     },
     "execution_count": 6,
     "metadata": {},
     "output_type": "execute_result"
    }
   ],
   "source": [
    "del Results['Old_Room_rate']\n",
    "Results.head()"
   ]
  },
  {
   "cell_type": "code",
   "execution_count": 7,
   "metadata": {
    "collapsed": true
   },
   "outputs": [],
   "source": [
    "scrapyData = pd.read_csv('/Users/Amulya/Desktop/EventsDataAnalysis/Task2/Results/eventData2015.csv',header=None, names=['Day','Date','Event','HolidayIn'])"
   ]
  },
  {
   "cell_type": "code",
   "execution_count": 8,
   "metadata": {
    "collapsed": false
   },
   "outputs": [],
   "source": [
    "scrapeResult = scrapyData.dropna()\n"
   ]
  },
  {
   "cell_type": "code",
   "execution_count": 9,
   "metadata": {
    "collapsed": false
   },
   "outputs": [
    {
     "data": {
      "text/html": [
       "<div>\n",
       "<table border=\"1\" class=\"dataframe\">\n",
       "  <thead>\n",
       "    <tr style=\"text-align: right;\">\n",
       "      <th></th>\n",
       "      <th>Day</th>\n",
       "      <th>Date</th>\n",
       "      <th>Event</th>\n",
       "      <th>HolidayIn</th>\n",
       "    </tr>\n",
       "  </thead>\n",
       "  <tbody>\n",
       "    <tr>\n",
       "      <th>0</th>\n",
       "      <td>Thursday</td>\n",
       "      <td>Jan-01</td>\n",
       "      <td>New Years Day</td>\n",
       "      <td>Arunachal pradesh, Manipur, Meghalaya, Miizora...</td>\n",
       "    </tr>\n",
       "    <tr>\n",
       "      <th>1</th>\n",
       "      <td>Saturday</td>\n",
       "      <td>Jan-03</td>\n",
       "      <td>Milad-un-Nabi</td>\n",
       "      <td>Birthday of Prophet Muhammad</td>\n",
       "    </tr>\n",
       "    <tr>\n",
       "      <th>2</th>\n",
       "      <td>Sunday</td>\n",
       "      <td>Jan-04</td>\n",
       "      <td>Id-e-Milad</td>\n",
       "      <td>Delhi, Tamil Nadu, Telangana</td>\n",
       "    </tr>\n",
       "    <tr>\n",
       "      <th>3</th>\n",
       "      <td>Monday</td>\n",
       "      <td>Jan-05</td>\n",
       "      <td>Guru Gobind Singh Jayanti</td>\n",
       "      <td>Punjab only. Birthday of the tenth and final S...</td>\n",
       "    </tr>\n",
       "    <tr>\n",
       "      <th>4</th>\n",
       "      <td>Monday</td>\n",
       "      <td>Jan-12</td>\n",
       "      <td>Birthday of Swami Vivekananda</td>\n",
       "      <td>West Bengal only.</td>\n",
       "    </tr>\n",
       "  </tbody>\n",
       "</table>\n",
       "</div>"
      ],
      "text/plain": [
       "        Day    Date                          Event  \\\n",
       "0  Thursday  Jan-01                  New Years Day   \n",
       "1  Saturday  Jan-03                  Milad-un-Nabi   \n",
       "2    Sunday  Jan-04                     Id-e-Milad   \n",
       "3    Monday  Jan-05      Guru Gobind Singh Jayanti   \n",
       "4    Monday  Jan-12  Birthday of Swami Vivekananda   \n",
       "\n",
       "                                           HolidayIn  \n",
       "0  Arunachal pradesh, Manipur, Meghalaya, Miizora...  \n",
       "1                       Birthday of Prophet Muhammad  \n",
       "2                       Delhi, Tamil Nadu, Telangana  \n",
       "3  Punjab only. Birthday of the tenth and final S...  \n",
       "4                                  West Bengal only.  "
      ]
     },
     "execution_count": 9,
     "metadata": {},
     "output_type": "execute_result"
    }
   ],
   "source": [
    "scrapeResult.head()"
   ]
  },
  {
   "cell_type": "code",
   "execution_count": 10,
   "metadata": {
    "collapsed": false
   },
   "outputs": [
    {
     "name": "stderr",
     "output_type": "stream",
     "text": [
      "C:\\Users\\Amulya\\Anaconda3\\lib\\site-packages\\ipykernel\\__main__.py:1: SettingWithCopyWarning: \n",
      "A value is trying to be set on a copy of a slice from a DataFrame.\n",
      "Try using .loc[row_indexer,col_indexer] = value instead\n",
      "\n",
      "See the caveats in the documentation: http://pandas.pydata.org/pandas-docs/stable/indexing.html#indexing-view-versus-copy\n",
      "  if __name__ == '__main__':\n"
     ]
    }
   ],
   "source": [
    "scrapeResult['Date'] =   '2015-' + scrapeResult['Date'] "
   ]
  },
  {
   "cell_type": "code",
   "execution_count": 11,
   "metadata": {
    "collapsed": false
   },
   "outputs": [
    {
     "data": {
      "text/html": [
       "<div>\n",
       "<table border=\"1\" class=\"dataframe\">\n",
       "  <thead>\n",
       "    <tr style=\"text-align: right;\">\n",
       "      <th></th>\n",
       "      <th>Day</th>\n",
       "      <th>Date</th>\n",
       "      <th>Event</th>\n",
       "      <th>HolidayIn</th>\n",
       "    </tr>\n",
       "  </thead>\n",
       "  <tbody>\n",
       "    <tr>\n",
       "      <th>0</th>\n",
       "      <td>Thursday</td>\n",
       "      <td>2015-Jan-01</td>\n",
       "      <td>New Years Day</td>\n",
       "      <td>Arunachal pradesh, Manipur, Meghalaya, Miizora...</td>\n",
       "    </tr>\n",
       "    <tr>\n",
       "      <th>1</th>\n",
       "      <td>Saturday</td>\n",
       "      <td>2015-Jan-03</td>\n",
       "      <td>Milad-un-Nabi</td>\n",
       "      <td>Birthday of Prophet Muhammad</td>\n",
       "    </tr>\n",
       "    <tr>\n",
       "      <th>2</th>\n",
       "      <td>Sunday</td>\n",
       "      <td>2015-Jan-04</td>\n",
       "      <td>Id-e-Milad</td>\n",
       "      <td>Delhi, Tamil Nadu, Telangana</td>\n",
       "    </tr>\n",
       "    <tr>\n",
       "      <th>3</th>\n",
       "      <td>Monday</td>\n",
       "      <td>2015-Jan-05</td>\n",
       "      <td>Guru Gobind Singh Jayanti</td>\n",
       "      <td>Punjab only. Birthday of the tenth and final S...</td>\n",
       "    </tr>\n",
       "    <tr>\n",
       "      <th>4</th>\n",
       "      <td>Monday</td>\n",
       "      <td>2015-Jan-12</td>\n",
       "      <td>Birthday of Swami Vivekananda</td>\n",
       "      <td>West Bengal only.</td>\n",
       "    </tr>\n",
       "  </tbody>\n",
       "</table>\n",
       "</div>"
      ],
      "text/plain": [
       "        Day         Date                          Event  \\\n",
       "0  Thursday  2015-Jan-01                  New Years Day   \n",
       "1  Saturday  2015-Jan-03                  Milad-un-Nabi   \n",
       "2    Sunday  2015-Jan-04                     Id-e-Milad   \n",
       "3    Monday  2015-Jan-05      Guru Gobind Singh Jayanti   \n",
       "4    Monday  2015-Jan-12  Birthday of Swami Vivekananda   \n",
       "\n",
       "                                           HolidayIn  \n",
       "0  Arunachal pradesh, Manipur, Meghalaya, Miizora...  \n",
       "1                       Birthday of Prophet Muhammad  \n",
       "2                       Delhi, Tamil Nadu, Telangana  \n",
       "3  Punjab only. Birthday of the tenth and final S...  \n",
       "4                                  West Bengal only.  "
      ]
     },
     "execution_count": 11,
     "metadata": {},
     "output_type": "execute_result"
    }
   ],
   "source": [
    "scrapeResult.head()"
   ]
  },
  {
   "cell_type": "code",
   "execution_count": 12,
   "metadata": {
    "collapsed": false
   },
   "outputs": [
    {
     "name": "stderr",
     "output_type": "stream",
     "text": [
      "C:\\Users\\Amulya\\Anaconda3\\lib\\site-packages\\ipykernel\\__main__.py:1: SettingWithCopyWarning: \n",
      "A value is trying to be set on a copy of a slice from a DataFrame.\n",
      "Try using .loc[row_indexer,col_indexer] = value instead\n",
      "\n",
      "See the caveats in the documentation: http://pandas.pydata.org/pandas-docs/stable/indexing.html#indexing-view-versus-copy\n",
      "  if __name__ == '__main__':\n"
     ]
    }
   ],
   "source": [
    "scrapeResult['Date'] = pd.to_datetime(scrapeResult.Date)\n",
    "#pd.to_datetime('02/Jan/2015:08:07:32', format='%d/%b/%Y:%H:%M:%S')"
   ]
  },
  {
   "cell_type": "code",
   "execution_count": 13,
   "metadata": {
    "collapsed": false
   },
   "outputs": [
    {
     "data": {
      "text/html": [
       "<div>\n",
       "<table border=\"1\" class=\"dataframe\">\n",
       "  <thead>\n",
       "    <tr style=\"text-align: right;\">\n",
       "      <th></th>\n",
       "      <th>Day</th>\n",
       "      <th>Date</th>\n",
       "      <th>Event</th>\n",
       "      <th>HolidayIn</th>\n",
       "    </tr>\n",
       "  </thead>\n",
       "  <tbody>\n",
       "    <tr>\n",
       "      <th>0</th>\n",
       "      <td>Thursday</td>\n",
       "      <td>2015-01-01</td>\n",
       "      <td>New Years Day</td>\n",
       "      <td>Arunachal pradesh, Manipur, Meghalaya, Miizora...</td>\n",
       "    </tr>\n",
       "    <tr>\n",
       "      <th>1</th>\n",
       "      <td>Saturday</td>\n",
       "      <td>2015-01-03</td>\n",
       "      <td>Milad-un-Nabi</td>\n",
       "      <td>Birthday of Prophet Muhammad</td>\n",
       "    </tr>\n",
       "    <tr>\n",
       "      <th>2</th>\n",
       "      <td>Sunday</td>\n",
       "      <td>2015-01-04</td>\n",
       "      <td>Id-e-Milad</td>\n",
       "      <td>Delhi, Tamil Nadu, Telangana</td>\n",
       "    </tr>\n",
       "    <tr>\n",
       "      <th>3</th>\n",
       "      <td>Monday</td>\n",
       "      <td>2015-01-05</td>\n",
       "      <td>Guru Gobind Singh Jayanti</td>\n",
       "      <td>Punjab only. Birthday of the tenth and final S...</td>\n",
       "    </tr>\n",
       "    <tr>\n",
       "      <th>4</th>\n",
       "      <td>Monday</td>\n",
       "      <td>2015-01-12</td>\n",
       "      <td>Birthday of Swami Vivekananda</td>\n",
       "      <td>West Bengal only.</td>\n",
       "    </tr>\n",
       "  </tbody>\n",
       "</table>\n",
       "</div>"
      ],
      "text/plain": [
       "        Day       Date                          Event  \\\n",
       "0  Thursday 2015-01-01                  New Years Day   \n",
       "1  Saturday 2015-01-03                  Milad-un-Nabi   \n",
       "2    Sunday 2015-01-04                     Id-e-Milad   \n",
       "3    Monday 2015-01-05      Guru Gobind Singh Jayanti   \n",
       "4    Monday 2015-01-12  Birthday of Swami Vivekananda   \n",
       "\n",
       "                                           HolidayIn  \n",
       "0  Arunachal pradesh, Manipur, Meghalaya, Miizora...  \n",
       "1                       Birthday of Prophet Muhammad  \n",
       "2                       Delhi, Tamil Nadu, Telangana  \n",
       "3  Punjab only. Birthday of the tenth and final S...  \n",
       "4                                  West Bengal only.  "
      ]
     },
     "execution_count": 13,
     "metadata": {},
     "output_type": "execute_result"
    }
   ],
   "source": [
    "scrapeResult.head()"
   ]
  },
  {
   "cell_type": "code",
   "execution_count": 14,
   "metadata": {
    "collapsed": true
   },
   "outputs": [],
   "source": [
    "del scrapeResult['HolidayIn']"
   ]
  },
  {
   "cell_type": "code",
   "execution_count": 15,
   "metadata": {
    "collapsed": false
   },
   "outputs": [
    {
     "data": {
      "text/html": [
       "<div>\n",
       "<table border=\"1\" class=\"dataframe\">\n",
       "  <thead>\n",
       "    <tr style=\"text-align: right;\">\n",
       "      <th></th>\n",
       "      <th>Day</th>\n",
       "      <th>Date</th>\n",
       "      <th>Event</th>\n",
       "    </tr>\n",
       "  </thead>\n",
       "  <tbody>\n",
       "    <tr>\n",
       "      <th>0</th>\n",
       "      <td>Thursday</td>\n",
       "      <td>2015-01-01</td>\n",
       "      <td>New Years Day</td>\n",
       "    </tr>\n",
       "    <tr>\n",
       "      <th>1</th>\n",
       "      <td>Saturday</td>\n",
       "      <td>2015-01-03</td>\n",
       "      <td>Milad-un-Nabi</td>\n",
       "    </tr>\n",
       "    <tr>\n",
       "      <th>2</th>\n",
       "      <td>Sunday</td>\n",
       "      <td>2015-01-04</td>\n",
       "      <td>Id-e-Milad</td>\n",
       "    </tr>\n",
       "    <tr>\n",
       "      <th>3</th>\n",
       "      <td>Monday</td>\n",
       "      <td>2015-01-05</td>\n",
       "      <td>Guru Gobind Singh Jayanti</td>\n",
       "    </tr>\n",
       "    <tr>\n",
       "      <th>4</th>\n",
       "      <td>Monday</td>\n",
       "      <td>2015-01-12</td>\n",
       "      <td>Birthday of Swami Vivekananda</td>\n",
       "    </tr>\n",
       "  </tbody>\n",
       "</table>\n",
       "</div>"
      ],
      "text/plain": [
       "        Day       Date                          Event\n",
       "0  Thursday 2015-01-01                  New Years Day\n",
       "1  Saturday 2015-01-03                  Milad-un-Nabi\n",
       "2    Sunday 2015-01-04                     Id-e-Milad\n",
       "3    Monday 2015-01-05      Guru Gobind Singh Jayanti\n",
       "4    Monday 2015-01-12  Birthday of Swami Vivekananda"
      ]
     },
     "execution_count": 15,
     "metadata": {},
     "output_type": "execute_result"
    }
   ],
   "source": [
    "scrapeResult.head()"
   ]
  },
  {
   "cell_type": "code",
   "execution_count": 34,
   "metadata": {
    "collapsed": false
   },
   "outputs": [
    {
     "data": {
      "text/html": [
       "<div>\n",
       "<table border=\"1\" class=\"dataframe\">\n",
       "  <thead>\n",
       "    <tr style=\"text-align: right;\">\n",
       "      <th></th>\n",
       "      <th>Property_id</th>\n",
       "      <th>Stay_date</th>\n",
       "      <th>Booking_status</th>\n",
       "      <th>Room_name</th>\n",
       "      <th>Room_details</th>\n",
       "      <th>Room_rate</th>\n",
       "      <th>Channel</th>\n",
       "    </tr>\n",
       "  </thead>\n",
       "  <tbody>\n",
       "    <tr>\n",
       "      <th>0</th>\n",
       "      <td>CH</td>\n",
       "      <td>2013-07-08</td>\n",
       "      <td>COMPLETED</td>\n",
       "      <td>Superior Room</td>\n",
       "      <td>ST</td>\n",
       "      <td>0.0</td>\n",
       "      <td>DIRECT</td>\n",
       "    </tr>\n",
       "    <tr>\n",
       "      <th>1</th>\n",
       "      <td>CH</td>\n",
       "      <td>2013-07-09</td>\n",
       "      <td>COMPLETED</td>\n",
       "      <td>Superior Room</td>\n",
       "      <td>ST</td>\n",
       "      <td>0.0</td>\n",
       "      <td>DIRECT</td>\n",
       "    </tr>\n",
       "    <tr>\n",
       "      <th>2</th>\n",
       "      <td>CH</td>\n",
       "      <td>2013-07-10</td>\n",
       "      <td>COMPLETED</td>\n",
       "      <td>Superior Room</td>\n",
       "      <td>ST</td>\n",
       "      <td>0.0</td>\n",
       "      <td>DIRECT</td>\n",
       "    </tr>\n",
       "    <tr>\n",
       "      <th>3</th>\n",
       "      <td>CH</td>\n",
       "      <td>2013-07-11</td>\n",
       "      <td>COMPLETED</td>\n",
       "      <td>Superior Room</td>\n",
       "      <td>ST</td>\n",
       "      <td>0.0</td>\n",
       "      <td>DIRECT</td>\n",
       "    </tr>\n",
       "    <tr>\n",
       "      <th>4</th>\n",
       "      <td>CH</td>\n",
       "      <td>2013-07-12</td>\n",
       "      <td>COMPLETED</td>\n",
       "      <td>Superior Room</td>\n",
       "      <td>ST</td>\n",
       "      <td>0.0</td>\n",
       "      <td>DIRECT</td>\n",
       "    </tr>\n",
       "  </tbody>\n",
       "</table>\n",
       "</div>"
      ],
      "text/plain": [
       "  Property_id   Stay_date Booking_status      Room_name Room_details  \\\n",
       "0          CH  2013-07-08      COMPLETED  Superior Room           ST   \n",
       "1          CH  2013-07-09      COMPLETED  Superior Room           ST   \n",
       "2          CH  2013-07-10      COMPLETED  Superior Room           ST   \n",
       "3          CH  2013-07-11      COMPLETED  Superior Room           ST   \n",
       "4          CH  2013-07-12      COMPLETED  Superior Room           ST   \n",
       "\n",
       "   Room_rate Channel  \n",
       "0        0.0  DIRECT  \n",
       "1        0.0  DIRECT  \n",
       "2        0.0  DIRECT  \n",
       "3        0.0  DIRECT  \n",
       "4        0.0  DIRECT  "
      ]
     },
     "execution_count": 34,
     "metadata": {},
     "output_type": "execute_result"
    }
   ],
   "source": [
    "newResults = Results.filter(['Property_id','Stay_date','Booking_status','Room_name','Room_details','Room_rate','Channel'], axis=1)\n",
    "newResults.head()"
   ]
  },
  {
   "cell_type": "code",
   "execution_count": 35,
   "metadata": {
    "collapsed": true
   },
   "outputs": [],
   "source": [
    "del newResults['Room_details']"
   ]
  },
  {
   "cell_type": "code",
   "execution_count": 36,
   "metadata": {
    "collapsed": false
   },
   "outputs": [
    {
     "data": {
      "text/html": [
       "<div>\n",
       "<table border=\"1\" class=\"dataframe\">\n",
       "  <thead>\n",
       "    <tr style=\"text-align: right;\">\n",
       "      <th></th>\n",
       "      <th>Property_id</th>\n",
       "      <th>Stay_date</th>\n",
       "      <th>Booking_status</th>\n",
       "      <th>Room_name</th>\n",
       "      <th>Room_rate</th>\n",
       "      <th>Channel</th>\n",
       "    </tr>\n",
       "  </thead>\n",
       "  <tbody>\n",
       "    <tr>\n",
       "      <th>0</th>\n",
       "      <td>CH</td>\n",
       "      <td>2013-07-08</td>\n",
       "      <td>COMPLETED</td>\n",
       "      <td>Superior Room</td>\n",
       "      <td>0.0</td>\n",
       "      <td>DIRECT</td>\n",
       "    </tr>\n",
       "    <tr>\n",
       "      <th>1</th>\n",
       "      <td>CH</td>\n",
       "      <td>2013-07-09</td>\n",
       "      <td>COMPLETED</td>\n",
       "      <td>Superior Room</td>\n",
       "      <td>0.0</td>\n",
       "      <td>DIRECT</td>\n",
       "    </tr>\n",
       "    <tr>\n",
       "      <th>2</th>\n",
       "      <td>CH</td>\n",
       "      <td>2013-07-10</td>\n",
       "      <td>COMPLETED</td>\n",
       "      <td>Superior Room</td>\n",
       "      <td>0.0</td>\n",
       "      <td>DIRECT</td>\n",
       "    </tr>\n",
       "    <tr>\n",
       "      <th>3</th>\n",
       "      <td>CH</td>\n",
       "      <td>2013-07-11</td>\n",
       "      <td>COMPLETED</td>\n",
       "      <td>Superior Room</td>\n",
       "      <td>0.0</td>\n",
       "      <td>DIRECT</td>\n",
       "    </tr>\n",
       "    <tr>\n",
       "      <th>4</th>\n",
       "      <td>CH</td>\n",
       "      <td>2013-07-12</td>\n",
       "      <td>COMPLETED</td>\n",
       "      <td>Superior Room</td>\n",
       "      <td>0.0</td>\n",
       "      <td>DIRECT</td>\n",
       "    </tr>\n",
       "  </tbody>\n",
       "</table>\n",
       "</div>"
      ],
      "text/plain": [
       "  Property_id   Stay_date Booking_status      Room_name  Room_rate Channel\n",
       "0          CH  2013-07-08      COMPLETED  Superior Room        0.0  DIRECT\n",
       "1          CH  2013-07-09      COMPLETED  Superior Room        0.0  DIRECT\n",
       "2          CH  2013-07-10      COMPLETED  Superior Room        0.0  DIRECT\n",
       "3          CH  2013-07-11      COMPLETED  Superior Room        0.0  DIRECT\n",
       "4          CH  2013-07-12      COMPLETED  Superior Room        0.0  DIRECT"
      ]
     },
     "execution_count": 36,
     "metadata": {},
     "output_type": "execute_result"
    }
   ],
   "source": [
    "newResults = newResults[(newResults.Booking_status == 'COMPLETED') | (newResults.Booking_status == 'CONFIRMED')]\n",
    "newResults.head()"
   ]
  },
  {
   "cell_type": "code",
   "execution_count": 37,
   "metadata": {
    "collapsed": false
   },
   "outputs": [
    {
     "data": {
      "text/html": [
       "<div>\n",
       "<table border=\"1\" class=\"dataframe\">\n",
       "  <thead>\n",
       "    <tr style=\"text-align: right;\">\n",
       "      <th></th>\n",
       "      <th>Property_id</th>\n",
       "      <th>Stay_date</th>\n",
       "      <th>Booking_status</th>\n",
       "      <th>Room_name</th>\n",
       "      <th>Room_rate</th>\n",
       "      <th>Channel</th>\n",
       "    </tr>\n",
       "  </thead>\n",
       "  <tbody>\n",
       "    <tr>\n",
       "      <th>12641</th>\n",
       "      <td>BB</td>\n",
       "      <td>2015-01-01</td>\n",
       "      <td>COMPLETED</td>\n",
       "      <td>Deluxe Sea Facing Suite</td>\n",
       "      <td>39500.0</td>\n",
       "      <td>DIRECT</td>\n",
       "    </tr>\n",
       "    <tr>\n",
       "      <th>12643</th>\n",
       "      <td>BB</td>\n",
       "      <td>2015-01-01</td>\n",
       "      <td>COMPLETED</td>\n",
       "      <td>Deluxe Sea Facing Suite</td>\n",
       "      <td>39500.0</td>\n",
       "      <td>DIRECT</td>\n",
       "    </tr>\n",
       "    <tr>\n",
       "      <th>13311</th>\n",
       "      <td>VM</td>\n",
       "      <td>2015-05-23</td>\n",
       "      <td>COMPLETED</td>\n",
       "      <td>Standard Room</td>\n",
       "      <td>5500.0</td>\n",
       "      <td>CORPORATES</td>\n",
       "    </tr>\n",
       "    <tr>\n",
       "      <th>13312</th>\n",
       "      <td>VM</td>\n",
       "      <td>2015-05-24</td>\n",
       "      <td>COMPLETED</td>\n",
       "      <td>Standard Room</td>\n",
       "      <td>5500.0</td>\n",
       "      <td>CORPORATES</td>\n",
       "    </tr>\n",
       "    <tr>\n",
       "      <th>13313</th>\n",
       "      <td>VM</td>\n",
       "      <td>2015-05-23</td>\n",
       "      <td>COMPLETED</td>\n",
       "      <td>Standard Room</td>\n",
       "      <td>5500.0</td>\n",
       "      <td>CORPORATES</td>\n",
       "    </tr>\n",
       "  </tbody>\n",
       "</table>\n",
       "</div>"
      ],
      "text/plain": [
       "      Property_id   Stay_date Booking_status                Room_name  \\\n",
       "12641          BB  2015-01-01      COMPLETED  Deluxe Sea Facing Suite   \n",
       "12643          BB  2015-01-01      COMPLETED  Deluxe Sea Facing Suite   \n",
       "13311          VM  2015-05-23      COMPLETED            Standard Room   \n",
       "13312          VM  2015-05-24      COMPLETED            Standard Room   \n",
       "13313          VM  2015-05-23      COMPLETED            Standard Room   \n",
       "\n",
       "       Room_rate     Channel  \n",
       "12641    39500.0      DIRECT  \n",
       "12643    39500.0      DIRECT  \n",
       "13311     5500.0  CORPORATES  \n",
       "13312     5500.0  CORPORATES  \n",
       "13313     5500.0  CORPORATES  "
      ]
     },
     "execution_count": 37,
     "metadata": {},
     "output_type": "execute_result"
    }
   ],
   "source": [
    "newResults = newResults[(newResults.Stay_date >= '2015-01-01') & (newResults.Stay_date <= '2015-12-31')]\n",
    "newResults.head()"
   ]
  },
  {
   "cell_type": "code",
   "execution_count": 38,
   "metadata": {
    "collapsed": false
   },
   "outputs": [],
   "source": [
    "newResults['Stay_date'] = pd.to_datetime(newResults.Stay_date)"
   ]
  },
  {
   "cell_type": "code",
   "execution_count": 39,
   "metadata": {
    "collapsed": false
   },
   "outputs": [
    {
     "data": {
      "text/html": [
       "<div>\n",
       "<table border=\"1\" class=\"dataframe\">\n",
       "  <thead>\n",
       "    <tr style=\"text-align: right;\">\n",
       "      <th></th>\n",
       "      <th>Property_id</th>\n",
       "      <th>Stay_date</th>\n",
       "      <th>Booking_status</th>\n",
       "      <th>Room_name</th>\n",
       "      <th>Room_rate</th>\n",
       "      <th>Channel</th>\n",
       "    </tr>\n",
       "  </thead>\n",
       "  <tbody>\n",
       "    <tr>\n",
       "      <th>12641</th>\n",
       "      <td>BB</td>\n",
       "      <td>2015-01-01</td>\n",
       "      <td>COMPLETED</td>\n",
       "      <td>Deluxe Sea Facing Suite</td>\n",
       "      <td>39500.0</td>\n",
       "      <td>DIRECT</td>\n",
       "    </tr>\n",
       "    <tr>\n",
       "      <th>12643</th>\n",
       "      <td>BB</td>\n",
       "      <td>2015-01-01</td>\n",
       "      <td>COMPLETED</td>\n",
       "      <td>Deluxe Sea Facing Suite</td>\n",
       "      <td>39500.0</td>\n",
       "      <td>DIRECT</td>\n",
       "    </tr>\n",
       "    <tr>\n",
       "      <th>13311</th>\n",
       "      <td>VM</td>\n",
       "      <td>2015-05-23</td>\n",
       "      <td>COMPLETED</td>\n",
       "      <td>Standard Room</td>\n",
       "      <td>5500.0</td>\n",
       "      <td>CORPORATES</td>\n",
       "    </tr>\n",
       "    <tr>\n",
       "      <th>13312</th>\n",
       "      <td>VM</td>\n",
       "      <td>2015-05-24</td>\n",
       "      <td>COMPLETED</td>\n",
       "      <td>Standard Room</td>\n",
       "      <td>5500.0</td>\n",
       "      <td>CORPORATES</td>\n",
       "    </tr>\n",
       "    <tr>\n",
       "      <th>13313</th>\n",
       "      <td>VM</td>\n",
       "      <td>2015-05-23</td>\n",
       "      <td>COMPLETED</td>\n",
       "      <td>Standard Room</td>\n",
       "      <td>5500.0</td>\n",
       "      <td>CORPORATES</td>\n",
       "    </tr>\n",
       "  </tbody>\n",
       "</table>\n",
       "</div>"
      ],
      "text/plain": [
       "      Property_id  Stay_date Booking_status                Room_name  \\\n",
       "12641          BB 2015-01-01      COMPLETED  Deluxe Sea Facing Suite   \n",
       "12643          BB 2015-01-01      COMPLETED  Deluxe Sea Facing Suite   \n",
       "13311          VM 2015-05-23      COMPLETED            Standard Room   \n",
       "13312          VM 2015-05-24      COMPLETED            Standard Room   \n",
       "13313          VM 2015-05-23      COMPLETED            Standard Room   \n",
       "\n",
       "       Room_rate     Channel  \n",
       "12641    39500.0      DIRECT  \n",
       "12643    39500.0      DIRECT  \n",
       "13311     5500.0  CORPORATES  \n",
       "13312     5500.0  CORPORATES  \n",
       "13313     5500.0  CORPORATES  "
      ]
     },
     "execution_count": 39,
     "metadata": {},
     "output_type": "execute_result"
    }
   ],
   "source": [
    "newResults.head()"
   ]
  },
  {
   "cell_type": "code",
   "execution_count": 40,
   "metadata": {
    "collapsed": true
   },
   "outputs": [],
   "source": [
    "del newResults['Channel']"
   ]
  },
  {
   "cell_type": "code",
   "execution_count": 55,
   "metadata": {
    "collapsed": false
   },
   "outputs": [
    {
     "data": {
      "text/html": [
       "<div>\n",
       "<table border=\"1\" class=\"dataframe\">\n",
       "  <thead>\n",
       "    <tr style=\"text-align: right;\">\n",
       "      <th></th>\n",
       "      <th>Day</th>\n",
       "      <th>Date</th>\n",
       "      <th>Event</th>\n",
       "    </tr>\n",
       "  </thead>\n",
       "  <tbody>\n",
       "    <tr>\n",
       "      <th>0</th>\n",
       "      <td>Thursday</td>\n",
       "      <td>2015-01-01</td>\n",
       "      <td>New Years Day</td>\n",
       "    </tr>\n",
       "    <tr>\n",
       "      <th>1</th>\n",
       "      <td>Saturday</td>\n",
       "      <td>2015-01-03</td>\n",
       "      <td>Milad-un-Nabi</td>\n",
       "    </tr>\n",
       "    <tr>\n",
       "      <th>2</th>\n",
       "      <td>Sunday</td>\n",
       "      <td>2015-01-04</td>\n",
       "      <td>Id-e-Milad</td>\n",
       "    </tr>\n",
       "    <tr>\n",
       "      <th>3</th>\n",
       "      <td>Monday</td>\n",
       "      <td>2015-01-05</td>\n",
       "      <td>Guru Gobind Singh Jayanti</td>\n",
       "    </tr>\n",
       "    <tr>\n",
       "      <th>4</th>\n",
       "      <td>Monday</td>\n",
       "      <td>2015-01-12</td>\n",
       "      <td>Birthday of Swami Vivekananda</td>\n",
       "    </tr>\n",
       "  </tbody>\n",
       "</table>\n",
       "</div>"
      ],
      "text/plain": [
       "        Day       Date                          Event\n",
       "0  Thursday 2015-01-01                  New Years Day\n",
       "1  Saturday 2015-01-03                  Milad-un-Nabi\n",
       "2    Sunday 2015-01-04                     Id-e-Milad\n",
       "3    Monday 2015-01-05      Guru Gobind Singh Jayanti\n",
       "4    Monday 2015-01-12  Birthday of Swami Vivekananda"
      ]
     },
     "execution_count": 55,
     "metadata": {},
     "output_type": "execute_result"
    }
   ],
   "source": [
    "scrapeResult.head()"
   ]
  },
  {
   "cell_type": "code",
   "execution_count": 56,
   "metadata": {
    "collapsed": true
   },
   "outputs": [],
   "source": [
    "res = pd.merge(left=newResults, left_on='Stay_date',right=scrapeResult, right_on='Date')"
   ]
  },
  {
   "cell_type": "code",
   "execution_count": 57,
   "metadata": {
    "collapsed": false
   },
   "outputs": [
    {
     "data": {
      "text/html": [
       "<div>\n",
       "<table border=\"1\" class=\"dataframe\">\n",
       "  <thead>\n",
       "    <tr style=\"text-align: right;\">\n",
       "      <th></th>\n",
       "      <th>Property_id</th>\n",
       "      <th>Stay_date</th>\n",
       "      <th>Booking_status</th>\n",
       "      <th>Room_name</th>\n",
       "      <th>Room_rate</th>\n",
       "      <th>Day</th>\n",
       "      <th>Date</th>\n",
       "      <th>Event</th>\n",
       "    </tr>\n",
       "  </thead>\n",
       "  <tbody>\n",
       "    <tr>\n",
       "      <th>0</th>\n",
       "      <td>BB</td>\n",
       "      <td>2015-01-01</td>\n",
       "      <td>COMPLETED</td>\n",
       "      <td>Deluxe Sea Facing Suite</td>\n",
       "      <td>39500.00</td>\n",
       "      <td>Thursday</td>\n",
       "      <td>2015-01-01</td>\n",
       "      <td>New Years Day</td>\n",
       "    </tr>\n",
       "    <tr>\n",
       "      <th>1</th>\n",
       "      <td>BB</td>\n",
       "      <td>2015-01-01</td>\n",
       "      <td>COMPLETED</td>\n",
       "      <td>Deluxe Sea Facing Suite</td>\n",
       "      <td>39500.00</td>\n",
       "      <td>Thursday</td>\n",
       "      <td>2015-01-01</td>\n",
       "      <td>New Years Day</td>\n",
       "    </tr>\n",
       "    <tr>\n",
       "      <th>2</th>\n",
       "      <td>KR</td>\n",
       "      <td>2015-01-01</td>\n",
       "      <td>COMPLETED</td>\n",
       "      <td>Rasayana Suite 106 T</td>\n",
       "      <td>19387.25</td>\n",
       "      <td>Thursday</td>\n",
       "      <td>2015-01-01</td>\n",
       "      <td>New Years Day</td>\n",
       "    </tr>\n",
       "    <tr>\n",
       "      <th>3</th>\n",
       "      <td>SS</td>\n",
       "      <td>2015-01-01</td>\n",
       "      <td>COMPLETED</td>\n",
       "      <td>Konkan Villa</td>\n",
       "      <td>20130.00</td>\n",
       "      <td>Thursday</td>\n",
       "      <td>2015-01-01</td>\n",
       "      <td>New Years Day</td>\n",
       "    </tr>\n",
       "    <tr>\n",
       "      <th>4</th>\n",
       "      <td>KK</td>\n",
       "      <td>2015-01-01</td>\n",
       "      <td>COMPLETED</td>\n",
       "      <td>Kalari Suite (016 L)</td>\n",
       "      <td>447.35</td>\n",
       "      <td>Thursday</td>\n",
       "      <td>2015-01-01</td>\n",
       "      <td>New Years Day</td>\n",
       "    </tr>\n",
       "  </tbody>\n",
       "</table>\n",
       "</div>"
      ],
      "text/plain": [
       "  Property_id  Stay_date Booking_status                Room_name  Room_rate  \\\n",
       "0          BB 2015-01-01      COMPLETED  Deluxe Sea Facing Suite   39500.00   \n",
       "1          BB 2015-01-01      COMPLETED  Deluxe Sea Facing Suite   39500.00   \n",
       "2          KR 2015-01-01      COMPLETED     Rasayana Suite 106 T   19387.25   \n",
       "3          SS 2015-01-01      COMPLETED             Konkan Villa   20130.00   \n",
       "4          KK 2015-01-01      COMPLETED     Kalari Suite (016 L)     447.35   \n",
       "\n",
       "        Day       Date          Event  \n",
       "0  Thursday 2015-01-01  New Years Day  \n",
       "1  Thursday 2015-01-01  New Years Day  \n",
       "2  Thursday 2015-01-01  New Years Day  \n",
       "3  Thursday 2015-01-01  New Years Day  \n",
       "4  Thursday 2015-01-01  New Years Day  "
      ]
     },
     "execution_count": 57,
     "metadata": {},
     "output_type": "execute_result"
    }
   ],
   "source": [
    "res.head()"
   ]
  },
  {
   "cell_type": "code",
   "execution_count": 58,
   "metadata": {
    "collapsed": false
   },
   "outputs": [],
   "source": [
    "res1 = res.drop_duplicates()"
   ]
  },
  {
   "cell_type": "code",
   "execution_count": 59,
   "metadata": {
    "collapsed": false
   },
   "outputs": [
    {
     "data": {
      "text/html": [
       "<div>\n",
       "<table border=\"1\" class=\"dataframe\">\n",
       "  <thead>\n",
       "    <tr style=\"text-align: right;\">\n",
       "      <th></th>\n",
       "      <th>Property_id</th>\n",
       "      <th>Stay_date</th>\n",
       "      <th>Booking_status</th>\n",
       "      <th>Room_name</th>\n",
       "      <th>Room_rate</th>\n",
       "      <th>Day</th>\n",
       "      <th>Date</th>\n",
       "      <th>Event</th>\n",
       "    </tr>\n",
       "  </thead>\n",
       "  <tbody>\n",
       "    <tr>\n",
       "      <th>0</th>\n",
       "      <td>BB</td>\n",
       "      <td>2015-01-01</td>\n",
       "      <td>COMPLETED</td>\n",
       "      <td>Deluxe Sea Facing Suite</td>\n",
       "      <td>39500.00</td>\n",
       "      <td>Thursday</td>\n",
       "      <td>2015-01-01</td>\n",
       "      <td>New Years Day</td>\n",
       "    </tr>\n",
       "    <tr>\n",
       "      <th>165</th>\n",
       "      <td>CL</td>\n",
       "      <td>2015-01-01</td>\n",
       "      <td>COMPLETED</td>\n",
       "      <td>Heritage Bungalow</td>\n",
       "      <td>17675.00</td>\n",
       "      <td>Thursday</td>\n",
       "      <td>2015-01-01</td>\n",
       "      <td>New Years Day</td>\n",
       "    </tr>\n",
       "    <tr>\n",
       "      <th>166</th>\n",
       "      <td>EB</td>\n",
       "      <td>2015-01-01</td>\n",
       "      <td>COMPLETED</td>\n",
       "      <td>Standard Room</td>\n",
       "      <td>16500.00</td>\n",
       "      <td>Thursday</td>\n",
       "      <td>2015-01-01</td>\n",
       "      <td>New Years Day</td>\n",
       "    </tr>\n",
       "    <tr>\n",
       "      <th>170</th>\n",
       "      <td>SS</td>\n",
       "      <td>2015-01-01</td>\n",
       "      <td>COMPLETED</td>\n",
       "      <td>Konkan Villa</td>\n",
       "      <td>28002.66</td>\n",
       "      <td>Thursday</td>\n",
       "      <td>2015-01-01</td>\n",
       "      <td>New Years Day</td>\n",
       "    </tr>\n",
       "    <tr>\n",
       "      <th>173</th>\n",
       "      <td>SC</td>\n",
       "      <td>2015-01-01</td>\n",
       "      <td>COMPLETED</td>\n",
       "      <td>Kettuvallom - One Bed Room</td>\n",
       "      <td>28500.00</td>\n",
       "      <td>Thursday</td>\n",
       "      <td>2015-01-01</td>\n",
       "      <td>New Years Day</td>\n",
       "    </tr>\n",
       "  </tbody>\n",
       "</table>\n",
       "</div>"
      ],
      "text/plain": [
       "    Property_id  Stay_date Booking_status                   Room_name  \\\n",
       "0            BB 2015-01-01      COMPLETED     Deluxe Sea Facing Suite   \n",
       "165          CL 2015-01-01      COMPLETED           Heritage Bungalow   \n",
       "166          EB 2015-01-01      COMPLETED               Standard Room   \n",
       "170          SS 2015-01-01      COMPLETED                Konkan Villa   \n",
       "173          SC 2015-01-01      COMPLETED  Kettuvallom - One Bed Room   \n",
       "\n",
       "     Room_rate       Day       Date          Event  \n",
       "0     39500.00  Thursday 2015-01-01  New Years Day  \n",
       "165   17675.00  Thursday 2015-01-01  New Years Day  \n",
       "166   16500.00  Thursday 2015-01-01  New Years Day  \n",
       "170   28002.66  Thursday 2015-01-01  New Years Day  \n",
       "173   28500.00  Thursday 2015-01-01  New Years Day  "
      ]
     },
     "execution_count": 59,
     "metadata": {},
     "output_type": "execute_result"
    }
   ],
   "source": [
    "res1 = res1.sort_values(by = 'Stay_date', ascending=True)\n",
    "res1.head()"
   ]
  },
  {
   "cell_type": "code",
   "execution_count": 60,
   "metadata": {
    "collapsed": true
   },
   "outputs": [],
   "source": [
    "del res1['Date']"
   ]
  },
  {
   "cell_type": "code",
   "execution_count": 61,
   "metadata": {
    "collapsed": false
   },
   "outputs": [],
   "source": [
    "res1 = res1.reset_index()"
   ]
  },
  {
   "cell_type": "code",
   "execution_count": 62,
   "metadata": {
    "collapsed": false
   },
   "outputs": [
    {
     "data": {
      "text/html": [
       "<div>\n",
       "<table border=\"1\" class=\"dataframe\">\n",
       "  <thead>\n",
       "    <tr style=\"text-align: right;\">\n",
       "      <th></th>\n",
       "      <th>index</th>\n",
       "      <th>Property_id</th>\n",
       "      <th>Stay_date</th>\n",
       "      <th>Booking_status</th>\n",
       "      <th>Room_name</th>\n",
       "      <th>Room_rate</th>\n",
       "      <th>Day</th>\n",
       "      <th>Event</th>\n",
       "    </tr>\n",
       "  </thead>\n",
       "  <tbody>\n",
       "    <tr>\n",
       "      <th>0</th>\n",
       "      <td>0</td>\n",
       "      <td>BB</td>\n",
       "      <td>2015-01-01</td>\n",
       "      <td>COMPLETED</td>\n",
       "      <td>Deluxe Sea Facing Suite</td>\n",
       "      <td>39500.00</td>\n",
       "      <td>Thursday</td>\n",
       "      <td>New Years Day</td>\n",
       "    </tr>\n",
       "    <tr>\n",
       "      <th>1</th>\n",
       "      <td>165</td>\n",
       "      <td>CL</td>\n",
       "      <td>2015-01-01</td>\n",
       "      <td>COMPLETED</td>\n",
       "      <td>Heritage Bungalow</td>\n",
       "      <td>17675.00</td>\n",
       "      <td>Thursday</td>\n",
       "      <td>New Years Day</td>\n",
       "    </tr>\n",
       "    <tr>\n",
       "      <th>2</th>\n",
       "      <td>166</td>\n",
       "      <td>EB</td>\n",
       "      <td>2015-01-01</td>\n",
       "      <td>COMPLETED</td>\n",
       "      <td>Standard Room</td>\n",
       "      <td>16500.00</td>\n",
       "      <td>Thursday</td>\n",
       "      <td>New Years Day</td>\n",
       "    </tr>\n",
       "    <tr>\n",
       "      <th>3</th>\n",
       "      <td>170</td>\n",
       "      <td>SS</td>\n",
       "      <td>2015-01-01</td>\n",
       "      <td>COMPLETED</td>\n",
       "      <td>Konkan Villa</td>\n",
       "      <td>28002.66</td>\n",
       "      <td>Thursday</td>\n",
       "      <td>New Years Day</td>\n",
       "    </tr>\n",
       "    <tr>\n",
       "      <th>4</th>\n",
       "      <td>173</td>\n",
       "      <td>SC</td>\n",
       "      <td>2015-01-01</td>\n",
       "      <td>COMPLETED</td>\n",
       "      <td>Kettuvallom - One Bed Room</td>\n",
       "      <td>28500.00</td>\n",
       "      <td>Thursday</td>\n",
       "      <td>New Years Day</td>\n",
       "    </tr>\n",
       "  </tbody>\n",
       "</table>\n",
       "</div>"
      ],
      "text/plain": [
       "   index Property_id  Stay_date Booking_status                   Room_name  \\\n",
       "0      0          BB 2015-01-01      COMPLETED     Deluxe Sea Facing Suite   \n",
       "1    165          CL 2015-01-01      COMPLETED           Heritage Bungalow   \n",
       "2    166          EB 2015-01-01      COMPLETED               Standard Room   \n",
       "3    170          SS 2015-01-01      COMPLETED                Konkan Villa   \n",
       "4    173          SC 2015-01-01      COMPLETED  Kettuvallom - One Bed Room   \n",
       "\n",
       "   Room_rate       Day          Event  \n",
       "0   39500.00  Thursday  New Years Day  \n",
       "1   17675.00  Thursday  New Years Day  \n",
       "2   16500.00  Thursday  New Years Day  \n",
       "3   28002.66  Thursday  New Years Day  \n",
       "4   28500.00  Thursday  New Years Day  "
      ]
     },
     "execution_count": 62,
     "metadata": {},
     "output_type": "execute_result"
    }
   ],
   "source": [
    "res1.head()"
   ]
  },
  {
   "cell_type": "code",
   "execution_count": 63,
   "metadata": {
    "collapsed": true
   },
   "outputs": [],
   "source": [
    "del res1['index']"
   ]
  },
  {
   "cell_type": "code",
   "execution_count": 64,
   "metadata": {
    "collapsed": false
   },
   "outputs": [
    {
     "data": {
      "text/html": [
       "<div>\n",
       "<table border=\"1\" class=\"dataframe\">\n",
       "  <thead>\n",
       "    <tr style=\"text-align: right;\">\n",
       "      <th></th>\n",
       "      <th>Property_id</th>\n",
       "      <th>Stay_date</th>\n",
       "      <th>Booking_status</th>\n",
       "      <th>Room_name</th>\n",
       "      <th>Room_rate</th>\n",
       "      <th>Day</th>\n",
       "      <th>Event</th>\n",
       "    </tr>\n",
       "  </thead>\n",
       "  <tbody>\n",
       "    <tr>\n",
       "      <th>0</th>\n",
       "      <td>BB</td>\n",
       "      <td>2015-01-01</td>\n",
       "      <td>COMPLETED</td>\n",
       "      <td>Deluxe Sea Facing Suite</td>\n",
       "      <td>39500.00</td>\n",
       "      <td>Thursday</td>\n",
       "      <td>New Years Day</td>\n",
       "    </tr>\n",
       "    <tr>\n",
       "      <th>1</th>\n",
       "      <td>CL</td>\n",
       "      <td>2015-01-01</td>\n",
       "      <td>COMPLETED</td>\n",
       "      <td>Heritage Bungalow</td>\n",
       "      <td>17675.00</td>\n",
       "      <td>Thursday</td>\n",
       "      <td>New Years Day</td>\n",
       "    </tr>\n",
       "    <tr>\n",
       "      <th>2</th>\n",
       "      <td>EB</td>\n",
       "      <td>2015-01-01</td>\n",
       "      <td>COMPLETED</td>\n",
       "      <td>Standard Room</td>\n",
       "      <td>16500.00</td>\n",
       "      <td>Thursday</td>\n",
       "      <td>New Years Day</td>\n",
       "    </tr>\n",
       "    <tr>\n",
       "      <th>3</th>\n",
       "      <td>SS</td>\n",
       "      <td>2015-01-01</td>\n",
       "      <td>COMPLETED</td>\n",
       "      <td>Konkan Villa</td>\n",
       "      <td>28002.66</td>\n",
       "      <td>Thursday</td>\n",
       "      <td>New Years Day</td>\n",
       "    </tr>\n",
       "    <tr>\n",
       "      <th>4</th>\n",
       "      <td>SC</td>\n",
       "      <td>2015-01-01</td>\n",
       "      <td>COMPLETED</td>\n",
       "      <td>Kettuvallom - One Bed Room</td>\n",
       "      <td>28500.00</td>\n",
       "      <td>Thursday</td>\n",
       "      <td>New Years Day</td>\n",
       "    </tr>\n",
       "  </tbody>\n",
       "</table>\n",
       "</div>"
      ],
      "text/plain": [
       "  Property_id  Stay_date Booking_status                   Room_name  \\\n",
       "0          BB 2015-01-01      COMPLETED     Deluxe Sea Facing Suite   \n",
       "1          CL 2015-01-01      COMPLETED           Heritage Bungalow   \n",
       "2          EB 2015-01-01      COMPLETED               Standard Room   \n",
       "3          SS 2015-01-01      COMPLETED                Konkan Villa   \n",
       "4          SC 2015-01-01      COMPLETED  Kettuvallom - One Bed Room   \n",
       "\n",
       "   Room_rate       Day          Event  \n",
       "0   39500.00  Thursday  New Years Day  \n",
       "1   17675.00  Thursday  New Years Day  \n",
       "2   16500.00  Thursday  New Years Day  \n",
       "3   28002.66  Thursday  New Years Day  \n",
       "4   28500.00  Thursday  New Years Day  "
      ]
     },
     "execution_count": 64,
     "metadata": {},
     "output_type": "execute_result"
    }
   ],
   "source": [
    "res1.head()"
   ]
  },
  {
   "cell_type": "code",
   "execution_count": 67,
   "metadata": {
    "collapsed": false
   },
   "outputs": [],
   "source": [
    "# events = res1['Event'].unique().tolist()\n"
   ]
  },
  {
   "cell_type": "code",
   "execution_count": 89,
   "metadata": {
    "collapsed": false
   },
   "outputs": [],
   "source": [
    "# res1['stay_count'] = res1.groupby(['Stay_date'])['Stay_date'].transform('count')\n",
    "\n",
    "# res2 = res1.drop_duplicates()\n",
    "# res2"
   ]
  },
  {
   "cell_type": "code",
   "execution_count": null,
   "metadata": {
    "collapsed": true
   },
   "outputs": [],
   "source": []
  },
  {
   "cell_type": "code",
   "execution_count": 69,
   "metadata": {
    "collapsed": false
   },
   "outputs": [
    {
     "data": {
      "text/html": [
       "<div>\n",
       "<table border=\"1\" class=\"dataframe\">\n",
       "  <thead>\n",
       "    <tr style=\"text-align: right;\">\n",
       "      <th></th>\n",
       "      <th></th>\n",
       "      <th></th>\n",
       "      <th>Property_id</th>\n",
       "      <th>Booking_status</th>\n",
       "      <th>Room_name</th>\n",
       "      <th>Room_rate</th>\n",
       "    </tr>\n",
       "    <tr>\n",
       "      <th>Day</th>\n",
       "      <th>Event</th>\n",
       "      <th>Stay_date</th>\n",
       "      <th></th>\n",
       "      <th></th>\n",
       "      <th></th>\n",
       "      <th></th>\n",
       "    </tr>\n",
       "  </thead>\n",
       "  <tbody>\n",
       "    <tr>\n",
       "      <th rowspan=\"5\" valign=\"top\">Friday</th>\n",
       "      <th>Christmas Day</th>\n",
       "      <th>2015-12-25</th>\n",
       "      <td>151</td>\n",
       "      <td>151</td>\n",
       "      <td>151</td>\n",
       "      <td>151</td>\n",
       "    </tr>\n",
       "    <tr>\n",
       "      <th>Foundation of Sri Anandpur Sahib</th>\n",
       "      <th>2015-06-19</th>\n",
       "      <td>64</td>\n",
       "      <td>64</td>\n",
       "      <td>64</td>\n",
       "      <td>64</td>\n",
       "    </tr>\n",
       "    <tr>\n",
       "      <th>Good Friday</th>\n",
       "      <th>2015-04-03</th>\n",
       "      <td>109</td>\n",
       "      <td>109</td>\n",
       "      <td>109</td>\n",
       "      <td>109</td>\n",
       "    </tr>\n",
       "    <tr>\n",
       "      <th>Idul Juha</th>\n",
       "      <th>2015-09-25</th>\n",
       "      <td>125</td>\n",
       "      <td>125</td>\n",
       "      <td>125</td>\n",
       "      <td>125</td>\n",
       "    </tr>\n",
       "    <tr>\n",
       "      <th>Jumat-ul-Wida</th>\n",
       "      <th>2015-07-10</th>\n",
       "      <td>65</td>\n",
       "      <td>65</td>\n",
       "      <td>65</td>\n",
       "      <td>65</td>\n",
       "    </tr>\n",
       "  </tbody>\n",
       "</table>\n",
       "</div>"
      ],
      "text/plain": [
       "                                                    Property_id  \\\n",
       "Day    Event                            Stay_date                 \n",
       "Friday Christmas Day                    2015-12-25          151   \n",
       "       Foundation of Sri Anandpur Sahib 2015-06-19           64   \n",
       "       Good Friday                      2015-04-03          109   \n",
       "       Idul Juha                        2015-09-25          125   \n",
       "       Jumat-ul-Wida                    2015-07-10           65   \n",
       "\n",
       "                                                    Booking_status  Room_name  \\\n",
       "Day    Event                            Stay_date                               \n",
       "Friday Christmas Day                    2015-12-25             151        151   \n",
       "       Foundation of Sri Anandpur Sahib 2015-06-19              64         64   \n",
       "       Good Friday                      2015-04-03             109        109   \n",
       "       Idul Juha                        2015-09-25             125        125   \n",
       "       Jumat-ul-Wida                    2015-07-10              65         65   \n",
       "\n",
       "                                                    Room_rate  \n",
       "Day    Event                            Stay_date              \n",
       "Friday Christmas Day                    2015-12-25        151  \n",
       "       Foundation of Sri Anandpur Sahib 2015-06-19         64  \n",
       "       Good Friday                      2015-04-03        109  \n",
       "       Idul Juha                        2015-09-25        125  \n",
       "       Jumat-ul-Wida                    2015-07-10         65  "
      ]
     },
     "execution_count": 69,
     "metadata": {},
     "output_type": "execute_result"
    }
   ],
   "source": [
    "#df = df[df.line_race != 0]\n",
    "res2 = res1[res1.Day != 'Wednesday']\n",
    "#res1 = res1.drop(['Wednesday'])\n",
    "test =  res2.groupby(['Day','Event', 'Stay_date']).count()\n",
    "test.head()\n",
    "\n",
    "#test1 = test[(test[Day]=='Monday') & (test[Day]=='Tuesday') & (test[Day]=='Thursday') & (test[Day]=='Friday')]\n",
    "#test = pd.DataFrame({'count' : res1.groupby(['Day','Event'], as_index=False).size()}).reset_index()\n",
    "#test1= test.drop_duplicates(['Stay_date'], keep='last')"
   ]
  },
  {
   "cell_type": "code",
   "execution_count": 110,
   "metadata": {
    "collapsed": false
   },
   "outputs": [
    {
     "ename": "KeyError",
     "evalue": "'Stay_date'",
     "output_type": "error",
     "traceback": [
      "\u001b[0;31m---------------------------------------------------------------------------\u001b[0m",
      "\u001b[0;31mKeyError\u001b[0m                                  Traceback (most recent call last)",
      "\u001b[0;32mC:\\Users\\Amulya\\Anaconda3\\lib\\site-packages\\pandas\\indexes\\base.py\u001b[0m in \u001b[0;36mget_loc\u001b[0;34m(self, key, method, tolerance)\u001b[0m\n\u001b[1;32m   1944\u001b[0m             \u001b[1;32mtry\u001b[0m\u001b[1;33m:\u001b[0m\u001b[1;33m\u001b[0m\u001b[0m\n\u001b[0;32m-> 1945\u001b[0;31m                 \u001b[1;32mreturn\u001b[0m \u001b[0mself\u001b[0m\u001b[1;33m.\u001b[0m\u001b[0m_engine\u001b[0m\u001b[1;33m.\u001b[0m\u001b[0mget_loc\u001b[0m\u001b[1;33m(\u001b[0m\u001b[0mkey\u001b[0m\u001b[1;33m)\u001b[0m\u001b[1;33m\u001b[0m\u001b[0m\n\u001b[0m\u001b[1;32m   1946\u001b[0m             \u001b[1;32mexcept\u001b[0m \u001b[0mKeyError\u001b[0m\u001b[1;33m:\u001b[0m\u001b[1;33m\u001b[0m\u001b[0m\n",
      "\u001b[0;32mpandas\\index.pyx\u001b[0m in \u001b[0;36mpandas.index.IndexEngine.get_loc (pandas\\index.c:4154)\u001b[0;34m()\u001b[0m\n",
      "\u001b[0;32mpandas\\index.pyx\u001b[0m in \u001b[0;36mpandas.index.IndexEngine.get_loc (pandas\\index.c:4018)\u001b[0;34m()\u001b[0m\n",
      "\u001b[0;32mpandas\\hashtable.pyx\u001b[0m in \u001b[0;36mpandas.hashtable.PyObjectHashTable.get_item (pandas\\hashtable.c:12368)\u001b[0;34m()\u001b[0m\n",
      "\u001b[0;32mpandas\\hashtable.pyx\u001b[0m in \u001b[0;36mpandas.hashtable.PyObjectHashTable.get_item (pandas\\hashtable.c:12322)\u001b[0;34m()\u001b[0m\n",
      "\u001b[0;31mKeyError\u001b[0m: 'Stay_date'",
      "\nDuring handling of the above exception, another exception occurred:\n",
      "\u001b[0;31mKeyError\u001b[0m                                  Traceback (most recent call last)",
      "\u001b[0;32m<ipython-input-110-c077138ce59e>\u001b[0m in \u001b[0;36m<module>\u001b[0;34m()\u001b[0m\n\u001b[0;32m----> 1\u001b[0;31m \u001b[0mtest1\u001b[0m \u001b[1;33m=\u001b[0m \u001b[0mtest\u001b[0m\u001b[1;33m.\u001b[0m\u001b[0msort_values\u001b[0m\u001b[1;33m(\u001b[0m\u001b[0mby\u001b[0m\u001b[1;33m=\u001b[0m\u001b[1;34m'Stay_date'\u001b[0m\u001b[1;33m,\u001b[0m \u001b[0mascending\u001b[0m\u001b[1;33m=\u001b[0m\u001b[1;32mTrue\u001b[0m\u001b[1;33m)\u001b[0m\u001b[1;33m\u001b[0m\u001b[0m\n\u001b[0m\u001b[1;32m      2\u001b[0m \u001b[0mtest1\u001b[0m\u001b[1;33m\u001b[0m\u001b[0m\n",
      "\u001b[0;32mC:\\Users\\Amulya\\Anaconda3\\lib\\site-packages\\pandas\\core\\frame.py\u001b[0m in \u001b[0;36msort_values\u001b[0;34m(self, by, axis, ascending, inplace, kind, na_position)\u001b[0m\n\u001b[1;32m   3149\u001b[0m \u001b[1;33m\u001b[0m\u001b[0m\n\u001b[1;32m   3150\u001b[0m             \u001b[0mby\u001b[0m \u001b[1;33m=\u001b[0m \u001b[0mby\u001b[0m\u001b[1;33m[\u001b[0m\u001b[1;36m0\u001b[0m\u001b[1;33m]\u001b[0m\u001b[1;33m\u001b[0m\u001b[0m\n\u001b[0;32m-> 3151\u001b[0;31m             \u001b[0mk\u001b[0m \u001b[1;33m=\u001b[0m \u001b[0mself\u001b[0m\u001b[1;33m[\u001b[0m\u001b[0mby\u001b[0m\u001b[1;33m]\u001b[0m\u001b[1;33m.\u001b[0m\u001b[0mvalues\u001b[0m\u001b[1;33m\u001b[0m\u001b[0m\n\u001b[0m\u001b[1;32m   3152\u001b[0m             \u001b[1;32mif\u001b[0m \u001b[0mk\u001b[0m\u001b[1;33m.\u001b[0m\u001b[0mndim\u001b[0m \u001b[1;33m==\u001b[0m \u001b[1;36m2\u001b[0m\u001b[1;33m:\u001b[0m\u001b[1;33m\u001b[0m\u001b[0m\n\u001b[1;32m   3153\u001b[0m \u001b[1;33m\u001b[0m\u001b[0m\n",
      "\u001b[0;32mC:\\Users\\Amulya\\Anaconda3\\lib\\site-packages\\pandas\\core\\frame.py\u001b[0m in \u001b[0;36m__getitem__\u001b[0;34m(self, key)\u001b[0m\n\u001b[1;32m   1995\u001b[0m             \u001b[1;32mreturn\u001b[0m \u001b[0mself\u001b[0m\u001b[1;33m.\u001b[0m\u001b[0m_getitem_multilevel\u001b[0m\u001b[1;33m(\u001b[0m\u001b[0mkey\u001b[0m\u001b[1;33m)\u001b[0m\u001b[1;33m\u001b[0m\u001b[0m\n\u001b[1;32m   1996\u001b[0m         \u001b[1;32melse\u001b[0m\u001b[1;33m:\u001b[0m\u001b[1;33m\u001b[0m\u001b[0m\n\u001b[0;32m-> 1997\u001b[0;31m             \u001b[1;32mreturn\u001b[0m \u001b[0mself\u001b[0m\u001b[1;33m.\u001b[0m\u001b[0m_getitem_column\u001b[0m\u001b[1;33m(\u001b[0m\u001b[0mkey\u001b[0m\u001b[1;33m)\u001b[0m\u001b[1;33m\u001b[0m\u001b[0m\n\u001b[0m\u001b[1;32m   1998\u001b[0m \u001b[1;33m\u001b[0m\u001b[0m\n\u001b[1;32m   1999\u001b[0m     \u001b[1;32mdef\u001b[0m \u001b[0m_getitem_column\u001b[0m\u001b[1;33m(\u001b[0m\u001b[0mself\u001b[0m\u001b[1;33m,\u001b[0m \u001b[0mkey\u001b[0m\u001b[1;33m)\u001b[0m\u001b[1;33m:\u001b[0m\u001b[1;33m\u001b[0m\u001b[0m\n",
      "\u001b[0;32mC:\\Users\\Amulya\\Anaconda3\\lib\\site-packages\\pandas\\core\\frame.py\u001b[0m in \u001b[0;36m_getitem_column\u001b[0;34m(self, key)\u001b[0m\n\u001b[1;32m   2002\u001b[0m         \u001b[1;31m# get column\u001b[0m\u001b[1;33m\u001b[0m\u001b[1;33m\u001b[0m\u001b[0m\n\u001b[1;32m   2003\u001b[0m         \u001b[1;32mif\u001b[0m \u001b[0mself\u001b[0m\u001b[1;33m.\u001b[0m\u001b[0mcolumns\u001b[0m\u001b[1;33m.\u001b[0m\u001b[0mis_unique\u001b[0m\u001b[1;33m:\u001b[0m\u001b[1;33m\u001b[0m\u001b[0m\n\u001b[0;32m-> 2004\u001b[0;31m             \u001b[1;32mreturn\u001b[0m \u001b[0mself\u001b[0m\u001b[1;33m.\u001b[0m\u001b[0m_get_item_cache\u001b[0m\u001b[1;33m(\u001b[0m\u001b[0mkey\u001b[0m\u001b[1;33m)\u001b[0m\u001b[1;33m\u001b[0m\u001b[0m\n\u001b[0m\u001b[1;32m   2005\u001b[0m \u001b[1;33m\u001b[0m\u001b[0m\n\u001b[1;32m   2006\u001b[0m         \u001b[1;31m# duplicate columns & possible reduce dimensionality\u001b[0m\u001b[1;33m\u001b[0m\u001b[1;33m\u001b[0m\u001b[0m\n",
      "\u001b[0;32mC:\\Users\\Amulya\\Anaconda3\\lib\\site-packages\\pandas\\core\\generic.py\u001b[0m in \u001b[0;36m_get_item_cache\u001b[0;34m(self, item)\u001b[0m\n\u001b[1;32m   1348\u001b[0m         \u001b[0mres\u001b[0m \u001b[1;33m=\u001b[0m \u001b[0mcache\u001b[0m\u001b[1;33m.\u001b[0m\u001b[0mget\u001b[0m\u001b[1;33m(\u001b[0m\u001b[0mitem\u001b[0m\u001b[1;33m)\u001b[0m\u001b[1;33m\u001b[0m\u001b[0m\n\u001b[1;32m   1349\u001b[0m         \u001b[1;32mif\u001b[0m \u001b[0mres\u001b[0m \u001b[1;32mis\u001b[0m \u001b[1;32mNone\u001b[0m\u001b[1;33m:\u001b[0m\u001b[1;33m\u001b[0m\u001b[0m\n\u001b[0;32m-> 1350\u001b[0;31m             \u001b[0mvalues\u001b[0m \u001b[1;33m=\u001b[0m \u001b[0mself\u001b[0m\u001b[1;33m.\u001b[0m\u001b[0m_data\u001b[0m\u001b[1;33m.\u001b[0m\u001b[0mget\u001b[0m\u001b[1;33m(\u001b[0m\u001b[0mitem\u001b[0m\u001b[1;33m)\u001b[0m\u001b[1;33m\u001b[0m\u001b[0m\n\u001b[0m\u001b[1;32m   1351\u001b[0m             \u001b[0mres\u001b[0m \u001b[1;33m=\u001b[0m \u001b[0mself\u001b[0m\u001b[1;33m.\u001b[0m\u001b[0m_box_item_values\u001b[0m\u001b[1;33m(\u001b[0m\u001b[0mitem\u001b[0m\u001b[1;33m,\u001b[0m \u001b[0mvalues\u001b[0m\u001b[1;33m)\u001b[0m\u001b[1;33m\u001b[0m\u001b[0m\n\u001b[1;32m   1352\u001b[0m             \u001b[0mcache\u001b[0m\u001b[1;33m[\u001b[0m\u001b[0mitem\u001b[0m\u001b[1;33m]\u001b[0m \u001b[1;33m=\u001b[0m \u001b[0mres\u001b[0m\u001b[1;33m\u001b[0m\u001b[0m\n",
      "\u001b[0;32mC:\\Users\\Amulya\\Anaconda3\\lib\\site-packages\\pandas\\core\\internals.py\u001b[0m in \u001b[0;36mget\u001b[0;34m(self, item, fastpath)\u001b[0m\n\u001b[1;32m   3288\u001b[0m \u001b[1;33m\u001b[0m\u001b[0m\n\u001b[1;32m   3289\u001b[0m             \u001b[1;32mif\u001b[0m \u001b[1;32mnot\u001b[0m \u001b[0misnull\u001b[0m\u001b[1;33m(\u001b[0m\u001b[0mitem\u001b[0m\u001b[1;33m)\u001b[0m\u001b[1;33m:\u001b[0m\u001b[1;33m\u001b[0m\u001b[0m\n\u001b[0;32m-> 3290\u001b[0;31m                 \u001b[0mloc\u001b[0m \u001b[1;33m=\u001b[0m \u001b[0mself\u001b[0m\u001b[1;33m.\u001b[0m\u001b[0mitems\u001b[0m\u001b[1;33m.\u001b[0m\u001b[0mget_loc\u001b[0m\u001b[1;33m(\u001b[0m\u001b[0mitem\u001b[0m\u001b[1;33m)\u001b[0m\u001b[1;33m\u001b[0m\u001b[0m\n\u001b[0m\u001b[1;32m   3291\u001b[0m             \u001b[1;32melse\u001b[0m\u001b[1;33m:\u001b[0m\u001b[1;33m\u001b[0m\u001b[0m\n\u001b[1;32m   3292\u001b[0m                 \u001b[0mindexer\u001b[0m \u001b[1;33m=\u001b[0m \u001b[0mnp\u001b[0m\u001b[1;33m.\u001b[0m\u001b[0marange\u001b[0m\u001b[1;33m(\u001b[0m\u001b[0mlen\u001b[0m\u001b[1;33m(\u001b[0m\u001b[0mself\u001b[0m\u001b[1;33m.\u001b[0m\u001b[0mitems\u001b[0m\u001b[1;33m)\u001b[0m\u001b[1;33m)\u001b[0m\u001b[1;33m[\u001b[0m\u001b[0misnull\u001b[0m\u001b[1;33m(\u001b[0m\u001b[0mself\u001b[0m\u001b[1;33m.\u001b[0m\u001b[0mitems\u001b[0m\u001b[1;33m)\u001b[0m\u001b[1;33m]\u001b[0m\u001b[1;33m\u001b[0m\u001b[0m\n",
      "\u001b[0;32mC:\\Users\\Amulya\\Anaconda3\\lib\\site-packages\\pandas\\indexes\\base.py\u001b[0m in \u001b[0;36mget_loc\u001b[0;34m(self, key, method, tolerance)\u001b[0m\n\u001b[1;32m   1945\u001b[0m                 \u001b[1;32mreturn\u001b[0m \u001b[0mself\u001b[0m\u001b[1;33m.\u001b[0m\u001b[0m_engine\u001b[0m\u001b[1;33m.\u001b[0m\u001b[0mget_loc\u001b[0m\u001b[1;33m(\u001b[0m\u001b[0mkey\u001b[0m\u001b[1;33m)\u001b[0m\u001b[1;33m\u001b[0m\u001b[0m\n\u001b[1;32m   1946\u001b[0m             \u001b[1;32mexcept\u001b[0m \u001b[0mKeyError\u001b[0m\u001b[1;33m:\u001b[0m\u001b[1;33m\u001b[0m\u001b[0m\n\u001b[0;32m-> 1947\u001b[0;31m                 \u001b[1;32mreturn\u001b[0m \u001b[0mself\u001b[0m\u001b[1;33m.\u001b[0m\u001b[0m_engine\u001b[0m\u001b[1;33m.\u001b[0m\u001b[0mget_loc\u001b[0m\u001b[1;33m(\u001b[0m\u001b[0mself\u001b[0m\u001b[1;33m.\u001b[0m\u001b[0m_maybe_cast_indexer\u001b[0m\u001b[1;33m(\u001b[0m\u001b[0mkey\u001b[0m\u001b[1;33m)\u001b[0m\u001b[1;33m)\u001b[0m\u001b[1;33m\u001b[0m\u001b[0m\n\u001b[0m\u001b[1;32m   1948\u001b[0m \u001b[1;33m\u001b[0m\u001b[0m\n\u001b[1;32m   1949\u001b[0m         \u001b[0mindexer\u001b[0m \u001b[1;33m=\u001b[0m \u001b[0mself\u001b[0m\u001b[1;33m.\u001b[0m\u001b[0mget_indexer\u001b[0m\u001b[1;33m(\u001b[0m\u001b[1;33m[\u001b[0m\u001b[0mkey\u001b[0m\u001b[1;33m]\u001b[0m\u001b[1;33m,\u001b[0m \u001b[0mmethod\u001b[0m\u001b[1;33m=\u001b[0m\u001b[0mmethod\u001b[0m\u001b[1;33m,\u001b[0m \u001b[0mtolerance\u001b[0m\u001b[1;33m=\u001b[0m\u001b[0mtolerance\u001b[0m\u001b[1;33m)\u001b[0m\u001b[1;33m\u001b[0m\u001b[0m\n",
      "\u001b[0;32mpandas\\index.pyx\u001b[0m in \u001b[0;36mpandas.index.IndexEngine.get_loc (pandas\\index.c:4154)\u001b[0;34m()\u001b[0m\n",
      "\u001b[0;32mpandas\\index.pyx\u001b[0m in \u001b[0;36mpandas.index.IndexEngine.get_loc (pandas\\index.c:4018)\u001b[0;34m()\u001b[0m\n",
      "\u001b[0;32mpandas\\hashtable.pyx\u001b[0m in \u001b[0;36mpandas.hashtable.PyObjectHashTable.get_item (pandas\\hashtable.c:12368)\u001b[0;34m()\u001b[0m\n",
      "\u001b[0;32mpandas\\hashtable.pyx\u001b[0m in \u001b[0;36mpandas.hashtable.PyObjectHashTable.get_item (pandas\\hashtable.c:12322)\u001b[0;34m()\u001b[0m\n",
      "\u001b[0;31mKeyError\u001b[0m: 'Stay_date'"
     ]
    }
   ],
   "source": [
    "test1 = test.sort_values(by='Stay_date', ascending=True)\n",
    "test1"
   ]
  },
  {
   "cell_type": "code",
   "execution_count": 66,
   "metadata": {
    "collapsed": false
   },
   "outputs": [],
   "source": [
    "# property_id = res1[(res1.Property_id == 'BB')]\n",
    "# property_id"
   ]
  },
  {
   "cell_type": "code",
   "execution_count": 43,
   "metadata": {
    "collapsed": false
   },
   "outputs": [
    {
     "ename": "AttributeError",
     "evalue": "'_LocIndexer' object has no attribute 'Day'",
     "output_type": "error",
     "traceback": [
      "\u001b[0;31m---------------------------------------------------------------------------\u001b[0m",
      "\u001b[0;31mAttributeError\u001b[0m                            Traceback (most recent call last)",
      "\u001b[0;32m<ipython-input-43-1be431e74ac0>\u001b[0m in \u001b[0;36m<module>\u001b[0;34m()\u001b[0m\n\u001b[1;32m      1\u001b[0m \u001b[1;32mfor\u001b[0m \u001b[0mi\u001b[0m \u001b[1;32min\u001b[0m \u001b[0mrange\u001b[0m\u001b[1;33m(\u001b[0m\u001b[0mlen\u001b[0m\u001b[1;33m(\u001b[0m\u001b[0mres1\u001b[0m\u001b[1;33m)\u001b[0m\u001b[1;33m)\u001b[0m\u001b[1;33m:\u001b[0m\u001b[1;33m\u001b[0m\u001b[0m\n\u001b[0;32m----> 2\u001b[0;31m     \u001b[1;32mif\u001b[0m\u001b[1;33m(\u001b[0m\u001b[1;33m(\u001b[0m\u001b[1;33m(\u001b[0m\u001b[0mres1\u001b[0m\u001b[1;33m.\u001b[0m\u001b[0mloc\u001b[0m\u001b[1;33m.\u001b[0m\u001b[0mDay\u001b[0m\u001b[1;33m==\u001b[0m\u001b[1;34m\"Thursday\"\u001b[0m\u001b[1;33m)\u001b[0m \u001b[1;32mor\u001b[0m \u001b[1;33m(\u001b[0m\u001b[0mres1\u001b[0m\u001b[1;33m.\u001b[0m\u001b[0mloc\u001b[0m\u001b[1;33m.\u001b[0m\u001b[0mDay\u001b[0m\u001b[1;33m==\u001b[0m\u001b[1;34m\"Friday\"\u001b[0m\u001b[1;33m)\u001b[0m\u001b[1;33m)\u001b[0m \u001b[1;32mand\u001b[0m \u001b[1;33m(\u001b[0m\u001b[0mres1\u001b[0m\u001b[1;33m.\u001b[0m\u001b[0mloc\u001b[0m\u001b[1;33m.\u001b[0m\u001b[0mEvent\u001b[0m\u001b[1;33m.\u001b[0m\u001b[0mnotnull\u001b[0m\u001b[1;33m(\u001b[0m\u001b[1;33m)\u001b[0m\u001b[1;33m)\u001b[0m\u001b[1;33m)\u001b[0m\u001b[1;33m:\u001b[0m\u001b[1;33m\u001b[0m\u001b[0m\n\u001b[0m\u001b[1;32m      3\u001b[0m         \u001b[0mprint\u001b[0m\u001b[1;33m(\u001b[0m\u001b[0mres1\u001b[0m\u001b[1;33m)\u001b[0m\u001b[1;33m\u001b[0m\u001b[0m\n\u001b[1;32m      4\u001b[0m     \u001b[1;32melse\u001b[0m\u001b[1;33m:\u001b[0m\u001b[1;33m\u001b[0m\u001b[0m\n\u001b[1;32m      5\u001b[0m         \u001b[0mprint\u001b[0m \u001b[1;33m(\u001b[0m\u001b[1;34m\"na\"\u001b[0m\u001b[1;33m)\u001b[0m\u001b[1;33m\u001b[0m\u001b[0m\n",
      "\u001b[0;31mAttributeError\u001b[0m: '_LocIndexer' object has no attribute 'Day'"
     ]
    }
   ],
   "source": [
    "for i in range(len(res1)):\n",
    "    if(((res1.Day==\"Thursday\") or (res1.Day==\"Friday\")) and (res1.Event != \"\")):\n",
    "        print(res1)\n",
    "    else:\n",
    "        print (\"na\")\n"
   ]
  }
 ],
 "metadata": {
  "anaconda-cloud": {},
  "kernelspec": {
   "display_name": "Python [default]",
   "language": "python",
   "name": "python3"
  },
  "language_info": {
   "codemirror_mode": {
    "name": "ipython",
    "version": 3
   },
   "file_extension": ".py",
   "mimetype": "text/x-python",
   "name": "python",
   "nbconvert_exporter": "python",
   "pygments_lexer": "ipython3",
   "version": "3.5.2"
  }
 },
 "nbformat": 4,
 "nbformat_minor": 1
}
