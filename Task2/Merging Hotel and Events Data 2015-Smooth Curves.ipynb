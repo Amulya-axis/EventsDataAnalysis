{
 "cells": [
  {
   "cell_type": "code",
   "execution_count": 1,
   "metadata": {
    "collapsed": false
   },
   "outputs": [],
   "source": [
    "import pandas as pd\n",
    "import numpy as np\n",
    "\n",
    "data = pd.read_csv('Results/RequiredDataSet.csv',header=None, names=['booking_date','channel','property_id','room_name','room_id','check_in','check_out','room_rate','booking_status'])\n",
    "# data.head()\n"
   ]
  },
  {
   "cell_type": "code",
   "execution_count": 2,
   "metadata": {
    "collapsed": false
   },
   "outputs": [],
   "source": [
    "Results = pd.read_excel('Results/DataSetWithStayDate.xlsx')\n",
    "del Results['Old_Room_rate']\n",
    "# Results.head()"
   ]
  },
  {
   "cell_type": "code",
   "execution_count": 63,
   "metadata": {
    "collapsed": true
   },
   "outputs": [],
   "source": [
    "scrapyData = pd.read_csv('Results/eventData2015.csv',header=None, names=['Day','Date','Event','HolidayIn'])\n",
    "scrapeResult = scrapyData.dropna()\n",
    "# scrapeResult.head()"
   ]
  },
  {
   "cell_type": "code",
   "execution_count": 64,
   "metadata": {
    "collapsed": true
   },
   "outputs": [],
   "source": [
    "# to avoid \"SettingWithCopyWarning\"\n",
    "pd.options.mode.chained_assignment = None  # default='warn'"
   ]
  },
  {
   "cell_type": "code",
   "execution_count": 65,
   "metadata": {
    "collapsed": false
   },
   "outputs": [],
   "source": [
    "scrapeResult['Date'] =   '2015-' + scrapeResult['Date'] \n",
    "# scrapeResult.head()"
   ]
  },
  {
   "cell_type": "code",
   "execution_count": 66,
   "metadata": {
    "collapsed": false
   },
   "outputs": [],
   "source": [
    "scrapeResult['Date'] = pd.to_datetime(scrapeResult.Date)\n",
    "# scrapeResult.head()"
   ]
  },
  {
   "cell_type": "code",
   "execution_count": 67,
   "metadata": {
    "collapsed": true
   },
   "outputs": [],
   "source": [
    "del scrapeResult['HolidayIn']\n",
    "del scrapeResult['Day']\n",
    "# scrapeResult.head()"
   ]
  },
  {
   "cell_type": "code",
   "execution_count": 68,
   "metadata": {
    "collapsed": false
   },
   "outputs": [],
   "source": [
    "newResults = Results.filter(['Property_id','Stay_date','Booking_status','Room_rate'], axis=1)\n",
    "# newResults.head()"
   ]
  },
  {
   "cell_type": "code",
   "execution_count": 69,
   "metadata": {
    "collapsed": false
   },
   "outputs": [],
   "source": [
    "newResults = newResults[(newResults.Booking_status == 'COMPLETED') | (newResults.Booking_status == 'CONFIRMED')]\n",
    "# newResults"
   ]
  },
  {
   "cell_type": "code",
   "execution_count": 70,
   "metadata": {
    "collapsed": false
   },
   "outputs": [],
   "source": [
    "newResults = newResults[(newResults.Stay_date >= '2015-01-01') & (newResults.Stay_date <= '2015-12-31')]\n",
    "# newResults.head()"
   ]
  },
  {
   "cell_type": "code",
   "execution_count": 71,
   "metadata": {
    "collapsed": false
   },
   "outputs": [],
   "source": [
    "newResults['Stay_date'] = pd.to_datetime(newResults.Stay_date)\n",
    "# newResults.head()"
   ]
  },
  {
   "cell_type": "code",
   "execution_count": 72,
   "metadata": {
    "collapsed": true
   },
   "outputs": [],
   "source": [
    "res = pd.merge(left=newResults, left_on='Stay_date',right=scrapeResult, right_on='Date')\n",
    "# res1 = res.drop_duplicates()\n",
    "res1 = res.reset_index()\n",
    "del res1['index']\n",
    "del res1['Date']\n",
    "# res1.head()"
   ]
  },
  {
   "cell_type": "code",
   "execution_count": 73,
   "metadata": {
    "collapsed": false
   },
   "outputs": [
    {
     "data": {
      "text/html": [
       "<div>\n",
       "<table border=\"1\" class=\"dataframe\">\n",
       "  <thead>\n",
       "    <tr style=\"text-align: right;\">\n",
       "      <th></th>\n",
       "      <th>Property_id</th>\n",
       "      <th>Stay_date</th>\n",
       "      <th>Booking_status</th>\n",
       "      <th>Room_rate</th>\n",
       "      <th>Event</th>\n",
       "      <th>room_count</th>\n",
       "    </tr>\n",
       "  </thead>\n",
       "  <tbody>\n",
       "    <tr>\n",
       "      <th>0</th>\n",
       "      <td>BB</td>\n",
       "      <td>2015-01-01</td>\n",
       "      <td>COMPLETED</td>\n",
       "      <td>39500.00</td>\n",
       "      <td>New Years Day</td>\n",
       "      <td>26</td>\n",
       "    </tr>\n",
       "    <tr>\n",
       "      <th>2</th>\n",
       "      <td>KR</td>\n",
       "      <td>2015-01-01</td>\n",
       "      <td>COMPLETED</td>\n",
       "      <td>19387.25</td>\n",
       "      <td>New Years Day</td>\n",
       "      <td>12</td>\n",
       "    </tr>\n",
       "    <tr>\n",
       "      <th>3</th>\n",
       "      <td>SS</td>\n",
       "      <td>2015-01-01</td>\n",
       "      <td>COMPLETED</td>\n",
       "      <td>20130.00</td>\n",
       "      <td>New Years Day</td>\n",
       "      <td>23</td>\n",
       "    </tr>\n",
       "    <tr>\n",
       "      <th>4</th>\n",
       "      <td>KK</td>\n",
       "      <td>2015-01-01</td>\n",
       "      <td>COMPLETED</td>\n",
       "      <td>447.35</td>\n",
       "      <td>New Years Day</td>\n",
       "      <td>13</td>\n",
       "    </tr>\n",
       "    <tr>\n",
       "      <th>5</th>\n",
       "      <td>SS</td>\n",
       "      <td>2015-01-01</td>\n",
       "      <td>COMPLETED</td>\n",
       "      <td>31008.66</td>\n",
       "      <td>New Years Day</td>\n",
       "      <td>23</td>\n",
       "    </tr>\n",
       "  </tbody>\n",
       "</table>\n",
       "</div>"
      ],
      "text/plain": [
       "  Property_id  Stay_date Booking_status  Room_rate          Event  room_count\n",
       "0          BB 2015-01-01      COMPLETED   39500.00  New Years Day          26\n",
       "2          KR 2015-01-01      COMPLETED   19387.25  New Years Day          12\n",
       "3          SS 2015-01-01      COMPLETED   20130.00  New Years Day          23\n",
       "4          KK 2015-01-01      COMPLETED     447.35  New Years Day          13\n",
       "5          SS 2015-01-01      COMPLETED   31008.66  New Years Day          23"
      ]
     },
     "execution_count": 73,
     "metadata": {},
     "output_type": "execute_result"
    }
   ],
   "source": [
    "res1['room_count'] = res1.groupby(['Property_id','Stay_date'])['Room_rate'].transform('count')\n",
    "res2 = res1.drop_duplicates()\n",
    "res2.head()"
   ]
  },
  {
   "cell_type": "code",
   "execution_count": 74,
   "metadata": {
    "collapsed": false
   },
   "outputs": [
    {
     "data": {
      "text/html": [
       "<div>\n",
       "<table border=\"1\" class=\"dataframe\">\n",
       "  <thead>\n",
       "    <tr style=\"text-align: right;\">\n",
       "      <th></th>\n",
       "      <th>Property_id</th>\n",
       "      <th>Stay_date</th>\n",
       "      <th>Booking_status</th>\n",
       "      <th>Room_rate</th>\n",
       "      <th>Event</th>\n",
       "      <th>room_count</th>\n",
       "      <th>totalRevenue</th>\n",
       "    </tr>\n",
       "  </thead>\n",
       "  <tbody>\n",
       "    <tr>\n",
       "      <th>0</th>\n",
       "      <td>BB</td>\n",
       "      <td>2015-01-01</td>\n",
       "      <td>COMPLETED</td>\n",
       "      <td>39500.00</td>\n",
       "      <td>New Years Day</td>\n",
       "      <td>26</td>\n",
       "      <td>226229.66</td>\n",
       "    </tr>\n",
       "    <tr>\n",
       "      <th>2</th>\n",
       "      <td>KR</td>\n",
       "      <td>2015-01-01</td>\n",
       "      <td>COMPLETED</td>\n",
       "      <td>19387.25</td>\n",
       "      <td>New Years Day</td>\n",
       "      <td>12</td>\n",
       "      <td>170272.65</td>\n",
       "    </tr>\n",
       "    <tr>\n",
       "      <th>3</th>\n",
       "      <td>SS</td>\n",
       "      <td>2015-01-01</td>\n",
       "      <td>COMPLETED</td>\n",
       "      <td>20130.00</td>\n",
       "      <td>New Years Day</td>\n",
       "      <td>23</td>\n",
       "      <td>293631.32</td>\n",
       "    </tr>\n",
       "    <tr>\n",
       "      <th>4</th>\n",
       "      <td>KK</td>\n",
       "      <td>2015-01-01</td>\n",
       "      <td>COMPLETED</td>\n",
       "      <td>447.35</td>\n",
       "      <td>New Years Day</td>\n",
       "      <td>13</td>\n",
       "      <td>53759.07</td>\n",
       "    </tr>\n",
       "    <tr>\n",
       "      <th>5</th>\n",
       "      <td>SS</td>\n",
       "      <td>2015-01-01</td>\n",
       "      <td>COMPLETED</td>\n",
       "      <td>31008.66</td>\n",
       "      <td>New Years Day</td>\n",
       "      <td>23</td>\n",
       "      <td>293631.32</td>\n",
       "    </tr>\n",
       "  </tbody>\n",
       "</table>\n",
       "</div>"
      ],
      "text/plain": [
       "  Property_id  Stay_date Booking_status  Room_rate          Event  room_count  \\\n",
       "0          BB 2015-01-01      COMPLETED   39500.00  New Years Day          26   \n",
       "2          KR 2015-01-01      COMPLETED   19387.25  New Years Day          12   \n",
       "3          SS 2015-01-01      COMPLETED   20130.00  New Years Day          23   \n",
       "4          KK 2015-01-01      COMPLETED     447.35  New Years Day          13   \n",
       "5          SS 2015-01-01      COMPLETED   31008.66  New Years Day          23   \n",
       "\n",
       "   totalRevenue  \n",
       "0     226229.66  \n",
       "2     170272.65  \n",
       "3     293631.32  \n",
       "4      53759.07  \n",
       "5     293631.32  "
      ]
     },
     "execution_count": 74,
     "metadata": {},
     "output_type": "execute_result"
    }
   ],
   "source": [
    "res2['totalRevenue'] = res2.groupby(['Property_id','Stay_date'])['Room_rate'].transform('sum')\n",
    "res3 = res2.drop_duplicates()\n",
    "res3.head()"
   ]
  },
  {
   "cell_type": "code",
   "execution_count": 75,
   "metadata": {
    "collapsed": false
   },
   "outputs": [
    {
     "data": {
      "text/html": [
       "<div>\n",
       "<table border=\"1\" class=\"dataframe\">\n",
       "  <thead>\n",
       "    <tr style=\"text-align: right;\">\n",
       "      <th></th>\n",
       "      <th>Property_id</th>\n",
       "      <th>Stay_date</th>\n",
       "      <th>Booking_status</th>\n",
       "      <th>Room_rate</th>\n",
       "      <th>Event</th>\n",
       "      <th>room_count</th>\n",
       "      <th>totalRevenue</th>\n",
       "      <th>ADR</th>\n",
       "    </tr>\n",
       "  </thead>\n",
       "  <tbody>\n",
       "    <tr>\n",
       "      <th>0</th>\n",
       "      <td>BB</td>\n",
       "      <td>2015-01-01</td>\n",
       "      <td>COMPLETED</td>\n",
       "      <td>39500.00</td>\n",
       "      <td>New Years Day</td>\n",
       "      <td>26</td>\n",
       "      <td>226229.66</td>\n",
       "      <td>8701.140769</td>\n",
       "    </tr>\n",
       "    <tr>\n",
       "      <th>2</th>\n",
       "      <td>KR</td>\n",
       "      <td>2015-01-01</td>\n",
       "      <td>COMPLETED</td>\n",
       "      <td>19387.25</td>\n",
       "      <td>New Years Day</td>\n",
       "      <td>12</td>\n",
       "      <td>170272.65</td>\n",
       "      <td>14189.387500</td>\n",
       "    </tr>\n",
       "    <tr>\n",
       "      <th>3</th>\n",
       "      <td>SS</td>\n",
       "      <td>2015-01-01</td>\n",
       "      <td>COMPLETED</td>\n",
       "      <td>20130.00</td>\n",
       "      <td>New Years Day</td>\n",
       "      <td>23</td>\n",
       "      <td>293631.32</td>\n",
       "      <td>12766.579130</td>\n",
       "    </tr>\n",
       "    <tr>\n",
       "      <th>4</th>\n",
       "      <td>KK</td>\n",
       "      <td>2015-01-01</td>\n",
       "      <td>COMPLETED</td>\n",
       "      <td>447.35</td>\n",
       "      <td>New Years Day</td>\n",
       "      <td>13</td>\n",
       "      <td>53759.07</td>\n",
       "      <td>4135.313077</td>\n",
       "    </tr>\n",
       "    <tr>\n",
       "      <th>5</th>\n",
       "      <td>SS</td>\n",
       "      <td>2015-01-01</td>\n",
       "      <td>COMPLETED</td>\n",
       "      <td>31008.66</td>\n",
       "      <td>New Years Day</td>\n",
       "      <td>23</td>\n",
       "      <td>293631.32</td>\n",
       "      <td>12766.579130</td>\n",
       "    </tr>\n",
       "  </tbody>\n",
       "</table>\n",
       "</div>"
      ],
      "text/plain": [
       "  Property_id  Stay_date Booking_status  Room_rate          Event  room_count  \\\n",
       "0          BB 2015-01-01      COMPLETED   39500.00  New Years Day          26   \n",
       "2          KR 2015-01-01      COMPLETED   19387.25  New Years Day          12   \n",
       "3          SS 2015-01-01      COMPLETED   20130.00  New Years Day          23   \n",
       "4          KK 2015-01-01      COMPLETED     447.35  New Years Day          13   \n",
       "5          SS 2015-01-01      COMPLETED   31008.66  New Years Day          23   \n",
       "\n",
       "   totalRevenue           ADR  \n",
       "0     226229.66   8701.140769  \n",
       "2     170272.65  14189.387500  \n",
       "3     293631.32  12766.579130  \n",
       "4      53759.07   4135.313077  \n",
       "5     293631.32  12766.579130  "
      ]
     },
     "execution_count": 75,
     "metadata": {},
     "output_type": "execute_result"
    }
   ],
   "source": [
    "res3['ADR'] = res3.apply(lambda res3: (res3['totalRevenue'] / res3['room_count'] ) , axis=1)\n",
    "res4 =res3\n",
    "res4.head()"
   ]
  },
  {
   "cell_type": "code",
   "execution_count": 76,
   "metadata": {
    "collapsed": false
   },
   "outputs": [],
   "source": [
    "# len(res4[res4.channel==\"OTA\"])\n",
    "del res4['Booking_status']\n",
    "del res4['Room_rate']\n",
    "res5 = res4.drop_duplicates()\n",
    "# res5"
   ]
  },
  {
   "cell_type": "code",
   "execution_count": 84,
   "metadata": {
    "collapsed": false
   },
   "outputs": [
    {
     "data": {
      "text/plain": [
       "3"
      ]
     },
     "execution_count": 84,
     "metadata": {},
     "output_type": "execute_result"
    }
   ],
   "source": [
    "min(res5[res5.Property_id == 'BB']['room_count'])"
   ]
  },
  {
   "cell_type": "markdown",
   "metadata": {
    "collapsed": true
   },
   "source": [
    "# graph plotting"
   ]
  },
  {
   "cell_type": "code",
   "execution_count": 85,
   "metadata": {
    "collapsed": false
   },
   "outputs": [],
   "source": [
    "import numpy as np\n",
    "import matplotlib.pyplot as plt\n",
    "from scipy.interpolate import spline\n",
    "\n",
    "property_id_BB = res5[res5.Property_id == 'BB']\n",
    "property_id_BB = property_id_BB.reset_index()\n",
    "property_id_BB = property_id_BB.sort_values(by = 'Stay_date', ascending=True)"
   ]
  },
  {
   "cell_type": "code",
   "execution_count": 95,
   "metadata": {
    "collapsed": false
   },
   "outputs": [
    {
     "data": {
      "text/plain": [
       "735599"
      ]
     },
     "execution_count": 95,
     "metadata": {},
     "output_type": "execute_result"
    }
   ],
   "source": [
    "property_id_BB.loc[0]['Stay_date'].toordinal()"
   ]
  },
  {
   "cell_type": "code",
   "execution_count": 110,
   "metadata": {
    "collapsed": false
   },
   "outputs": [
    {
     "data": {
      "text/plain": [
       "array([735599, 735601, 735602, 735603, 735610, 735611, 735612, 735613,\n",
       "       735614, 735615, 735619, 735621, 735622, 735623, 735624, 735629,\n",
       "       735632, 735643, 735648, 735656, 735662, 735675, 735678, 735680,\n",
       "       735685, 735689, 735690, 735691, 735693, 735702, 735703, 735704,\n",
       "       735705, 735708, 735719, 735721, 735722, 735727, 735738, 735751,\n",
       "       735764, 735765, 735768, 735789, 735797, 735807, 735809, 735827,\n",
       "       735828, 735829, 735837, 735838, 735839, 735846, 735856, 735858,\n",
       "       735859, 735862, 735864, 735865, 735866, 735873, 735883, 735884,\n",
       "       735889, 735891, 735892, 735893, 735894, 735895, 735896, 735897,\n",
       "       735898, 735902, 735903, 735912, 735913, 735914, 735918, 735919,\n",
       "       735927, 735930, 735938, 735949, 735956, 735957, 735958], dtype=int64)"
      ]
     },
     "execution_count": 110,
     "metadata": {},
     "output_type": "execute_result"
    }
   ],
   "source": [
    "x.reshape(-1)"
   ]
  },
  {
   "cell_type": "code",
   "execution_count": 103,
   "metadata": {
    "collapsed": false
   },
   "outputs": [
    {
     "data": {
      "text/plain": [
       "array([26, 21, 18, 17, 11, 18, 22, 17, 26, 24, 18, 19, 22, 25, 19, 21, 26,\n",
       "       26, 23, 25, 19, 15, 20, 17, 15, 20, 12, 15, 15,  6,  5,  7,  8,  6,\n",
       "       20, 14, 16,  8,  3, 12,  4, 11, 16,  8,  5, 12, 13, 24, 23, 26, 15,\n",
       "       10, 13, 16, 15, 25, 24, 19, 18, 16, 25, 26,  3,  4, 13, 19, 16, 16,\n",
       "       18, 12, 10, 14, 11, 10, 18, 25, 14, 17, 26, 25, 10, 23, 15, 13, 19,\n",
       "       24, 24], dtype=int64)"
      ]
     },
     "execution_count": 103,
     "metadata": {},
     "output_type": "execute_result"
    }
   ],
   "source": [
    "y.reshape(-1)"
   ]
  },
  {
   "cell_type": "code",
   "execution_count": 96,
   "metadata": {
    "collapsed": false
   },
   "outputs": [
    {
     "data": {
      "text/plain": [
       "Timestamp('2015-01-01 00:00:00')"
      ]
     },
     "execution_count": 96,
     "metadata": {},
     "output_type": "execute_result"
    }
   ],
   "source": [
    "property_id_BB.loc[0]['Stay_date']"
   ]
  },
  {
   "cell_type": "code",
   "execution_count": 108,
   "metadata": {
    "collapsed": false,
    "scrolled": false
   },
   "outputs": [
    {
     "name": "stderr",
     "output_type": "stream",
     "text": [
      "C:\\Users\\Amulya\\Anaconda3\\lib\\site-packages\\ipykernel\\__main__.py:10: DeprecationWarning: `spline` is deprecated!\n",
      "spline is deprecated in scipy 0.19.0, use Bspline class instead.\n"
     ]
    },
    {
     "data": {
      "image/png": "[encoded data removed]",
      "text/plain": [
       "<matplotlib.figure.Figure at 0x2ba5083c940>"
      ]
     },
     "metadata": {},
     "output_type": "display_data"
    }
   ],
   "source": [
    "x= property_id_BB['Stay_date'].apply(lambda x: x.toordinal()).reshape(-1, 1)\n",
    "# x = np.array(property_id_BB['Stay_date'])\n",
    "y = property_id_BB['room_count']\n",
    "\n",
    "xa = np.array(x)\n",
    "ya = np.array(y)\n",
    "\n",
    "# xa.min()\n",
    "x_smooth = np.linspace(xa.min(),xa.max(), 500)\n",
    "y_smooth = spline(x.reshape(-1),y.reshape(-1), x_smooth.reshape(-1))\n",
    "\n",
    "plt.plot(x_smooth,y_smooth)\n",
    "plt.show()"
   ]
  },
  {
   "cell_type": "code",
   "execution_count": 43,
   "metadata": {
    "collapsed": false
   },
   "outputs": [
    {
     "name": "stderr",
     "output_type": "stream",
     "text": [
      "C:\\Users\\Amulya\\Anaconda3\\lib\\site-packages\\ipykernel\\__main__.py:12: DeprecationWarning: `spline` is deprecated!\n",
      "spline is deprecated in scipy 0.19.0, use Bspline class instead.\n"
     ]
    },
    {
     "data": {
      "image/png": "[encoded data removed]",
      "text/plain": [
       "<matplotlib.figure.Figure at 0x1819b258c18>"
      ]
     },
     "metadata": {},
     "output_type": "display_data"
    }
   ],
   "source": [
    "property_id_CH = res5[res5.Property_id == 'CH']\n",
    "property_id_CH = property_id_CH.reset_index()\n",
    "property_id_CH = property_id_CH.sort_values(by = 'Stay_date', ascending=True)\n",
    "\n",
    "x= property_id_CH['Stay_date'].apply(lambda x: x.toordinal()).reshape(-1, 1)\n",
    "y = property_id_CH['room_count']\n",
    "\n",
    "xa = np.array(x)\n",
    "ya = np.array(y)\n",
    "\n",
    "x_smooth = np.linspace(xa.min(),xa.max(), 300)\n",
    "y_smooth = spline(x.reshape(-1),y.reshape(-1), x_smooth.reshape(-1))\n",
    "\n",
    "plt.plot(x_smooth,y_smooth)\n",
    "plt.show()"
   ]
  },
  {
   "cell_type": "code",
   "execution_count": null,
   "metadata": {
    "collapsed": false
   },
   "outputs": [],
   "source": []
  },
  {
   "cell_type": "code",
   "execution_count": null,
   "metadata": {
    "collapsed": false
   },
   "outputs": [],
   "source": [
    "property_id_BB = pd.read_excel('Results/GroupByPropertyID/2015/BB.xlsx')\n",
    "property_id_BB = property_id_BB.reset_index()\n",
    "property_id_BB = property_id_BB.sort_values(by = 'Stay_date', ascending=True)\n",
    "property_id_BB1 = property_id_BB.values.T.tolist()"
   ]
  }
 ],
 "metadata": {
  "anaconda-cloud": {},
  "kernelspec": {
   "display_name": "Python [default]",
   "language": "python",
   "name": "python3"
  },
  "language_info": {
   "codemirror_mode": {
    "name": "ipython",
    "version": 3
   },
   "file_extension": ".py",
   "mimetype": "text/x-python",
   "name": "python",
   "nbconvert_exporter": "python",
   "pygments_lexer": "ipython3",
   "version": "3.5.2"
  }
 },
 "nbformat": 4,
 "nbformat_minor": 1
}
