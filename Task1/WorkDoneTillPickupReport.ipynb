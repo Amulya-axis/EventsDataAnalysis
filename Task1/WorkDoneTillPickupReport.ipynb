{
 "cells": [
  {
   "cell_type": "code",
   "execution_count": 1,
   "metadata": {
    "collapsed": false
   },
   "outputs": [],
   "source": [
    "import pandas as pd\n",
    "import numpy as np\n",
    "\n",
    "data = pd.read_csv('Results/RequiredDataSet.csv',header=None, names=['booking_date','channel','property_id','room_name','room_id','check_in','check_out','room_rate','booking_status'])\n",
    "#data = pd.read_json('/Users/Amulya/Desktop/data3.json')\n",
    "#data\n"
   ]
  },
  {
   "cell_type": "code",
   "execution_count": null,
   "metadata": {
    "collapsed": true
   },
   "outputs": [],
   "source": [
    "# The below comment lines are script to generate stay date from check_in n check_out dates. \n",
    "# Since it takes hours i have saved the data into excel"
   ]
  },
  {
   "cell_type": "code",
   "execution_count": null,
   "metadata": {
    "collapsed": false
   },
   "outputs": [],
   "source": [
    "# res=[]\n",
    "# final=[]\n",
    "# for i in range(len(data)):\n",
    "#     res.append(pd.date_range(data.iloc[i][5] , data.iloc[i][6]))\n",
    "#     final.append(res[i][:-1])\n",
    "    "
   ]
  },
  {
   "cell_type": "code",
   "execution_count": null,
   "metadata": {
    "collapsed": false
   },
   "outputs": [],
   "source": [
    "# stay = [item for sublist in final for item in sublist]"
   ]
  },
  {
   "cell_type": "code",
   "execution_count": null,
   "metadata": {
    "collapsed": false
   },
   "outputs": [],
   "source": [
    "# Results = pd.DataFrame(index=np.arange(0, 0),columns=('Booking_date','Booking_status' ,'Channel','Check_in' ,'Check_out', 'Property_id', 'Room_details','Room_name','Room_rate'))\n",
    "# for i in range(len(final)):\n",
    "#     Results=Results.append([data.iloc[i]]*len(final[i]), ignore_index=True)\n",
    "    "
   ]
  },
  {
   "cell_type": "code",
   "execution_count": null,
   "metadata": {
    "collapsed": false
   },
   "outputs": [],
   "source": [
    "# Results['Stay_date'] = stay"
   ]
  },
  {
   "cell_type": "code",
   "execution_count": null,
   "metadata": {
    "collapsed": false
   },
   "outputs": [],
   "source": [
    "#Results.to_excel('/Users/Amulya/Desktop/EventsDataAnalysis/Task1/Results/DataSetWithStayDate.xlsx')"
   ]
  },
  {
   "cell_type": "code",
   "execution_count": 2,
   "metadata": {
    "collapsed": true
   },
   "outputs": [],
   "source": [
    "Results = pd.read_excel('Results/DataSetWithStayDate.xlsx')\n",
    "# Results"
   ]
  },
  {
   "cell_type": "code",
   "execution_count": null,
   "metadata": {
    "collapsed": false,
    "scrolled": false
   },
   "outputs": [],
   "source": [
    "del Results['Old_Room_rate']\n",
    "# Results"
   ]
  },
  {
   "cell_type": "code",
   "execution_count": null,
   "metadata": {
    "collapsed": false
   },
   "outputs": [],
   "source": [
    "Results['Booking_date'] = Results['Booking_date'].str.extract('(....-..-..)', expand=True)\n",
    "Results['Booking_date'].head()"
   ]
  },
  {
   "cell_type": "code",
   "execution_count": null,
   "metadata": {
    "collapsed": false
   },
   "outputs": [],
   "source": [
    "Results.head()"
   ]
  },
  {
   "cell_type": "code",
   "execution_count": null,
   "metadata": {
    "collapsed": false,
    "scrolled": true
   },
   "outputs": [],
   "source": [
    "Results['room_count'] = Results.groupby(['Property_id','Stay_date'])['Room_rate'].transform('count')\n",
    "Results1 = Results.drop_duplicates()\n",
    "Results1"
   ]
  },
  {
   "cell_type": "code",
   "execution_count": null,
   "metadata": {
    "collapsed": false
   },
   "outputs": [],
   "source": [
    "Results1 = Results1[(Results1.Stay_date >= '2015-01-01') & (Results1.Stay_date <= '2016-12-31')]\n",
    "Results1"
   ]
  },
  {
   "cell_type": "code",
   "execution_count": null,
   "metadata": {
    "collapsed": false
   },
   "outputs": [],
   "source": [
    "# Results['room_counts'] = 1\n",
    "# property_counts = Results[['Stay_date','room_counts']].groupby(['Stay_date']).agg(np.count)\n",
    "#data.drop_duplicates()\n",
    "# property_counts"
   ]
  },
  {
   "cell_type": "code",
   "execution_count": null,
   "metadata": {
    "collapsed": false
   },
   "outputs": [],
   "source": [
    "# property_counts = property_counts.reset_index()\n",
    "# property_counts.head()"
   ]
  },
  {
   "cell_type": "code",
   "execution_count": null,
   "metadata": {
    "collapsed": false
   },
   "outputs": [],
   "source": [
    "# property_counts = property_counts[(property_counts.Stay_date >= '2015-01-01') & (property_counts.Stay_date <= '2016-12-31')]\n",
    "# property_counts"
   ]
  },
  {
   "cell_type": "code",
   "execution_count": null,
   "metadata": {
    "collapsed": false
   },
   "outputs": [],
   "source": [
    "Results1 = Results1.reset_index()\n"
   ]
  },
  {
   "cell_type": "code",
   "execution_count": null,
   "metadata": {
    "collapsed": false
   },
   "outputs": [],
   "source": [
    "Results1.head()"
   ]
  },
  {
   "cell_type": "code",
   "execution_count": null,
   "metadata": {
    "collapsed": false
   },
   "outputs": [],
   "source": [
    "del Results1['index']\n",
    "del Results1['Booking_status']\n",
    "del Results1['Channel']\n",
    "del Results1['Check_in']\n",
    "del Results1['Check_out']\n",
    "del Results1['Room_details']\n",
    "del Results1['Room_name']\n"
   ]
  },
  {
   "cell_type": "code",
   "execution_count": null,
   "metadata": {
    "collapsed": true
   },
   "outputs": [],
   "source": [
    "\n"
   ]
  },
  {
   "cell_type": "code",
   "execution_count": null,
   "metadata": {
    "collapsed": false
   },
   "outputs": [],
   "source": [
    "Results1.head()"
   ]
  },
  {
   "cell_type": "code",
   "execution_count": null,
   "metadata": {
    "collapsed": false
   },
   "outputs": [],
   "source": [
    "Arr = Results[\"Room_rate\"].mean()\n",
    "Arr"
   ]
  },
  {
   "cell_type": "code",
   "execution_count": null,
   "metadata": {
    "collapsed": false
   },
   "outputs": [],
   "source": [
    "Results['counts'] = 1\n",
    "pickup = Results[['Property_id','Booking_date','counts']].groupby(['Property_id','Booking_date']).count()\n",
    "pickup.head()\n"
   ]
  },
  {
   "cell_type": "code",
   "execution_count": null,
   "metadata": {
    "collapsed": false
   },
   "outputs": [],
   "source": [
    "len(pickup)"
   ]
  },
  {
   "cell_type": "code",
   "execution_count": null,
   "metadata": {
    "collapsed": false
   },
   "outputs": [],
   "source": [
    "pickup = pickup.reset_index()\n",
    "# del pickup['index']\n",
    "# del pickup['level_0']\n",
    "pickup.head()"
   ]
  },
  {
   "cell_type": "code",
   "execution_count": null,
   "metadata": {
    "collapsed": false
   },
   "outputs": [],
   "source": [
    "pickup = pickup[(pickup.Booking_date >= '2015-01-01') & (pickup.Booking_date <= '2016-12-31')]"
   ]
  },
  {
   "cell_type": "code",
   "execution_count": null,
   "metadata": {
    "collapsed": false
   },
   "outputs": [],
   "source": [
    "pickup.head()"
   ]
  },
  {
   "cell_type": "code",
   "execution_count": null,
   "metadata": {
    "collapsed": false
   },
   "outputs": [],
   "source": [
    "pickup = pickup.reset_index()\n",
    "pickup.head()"
   ]
  },
  {
   "cell_type": "code",
   "execution_count": null,
   "metadata": {
    "collapsed": false
   },
   "outputs": [],
   "source": [
    "del pickup['index']\n",
    "pickup.head()"
   ]
  },
  {
   "cell_type": "code",
   "execution_count": null,
   "metadata": {
    "collapsed": false
   },
   "outputs": [],
   "source": [
    "property_list=pickup['Property_id'].unique().tolist() #to get unique property ids for further filteration\n",
    "\n",
    "finaldf=pd.DataFrame() #new dataframe to append results\n",
    "for pid in property_list: #iteration through each pid\n",
    "    newdf = pickup[(pickup['Property_id']== pid)]  #considering each pid\n",
    "    newdf = newdf.sort_values(by=['Booking_date'], ascending=[True])  #sorting the date values\n",
    "    newdf.set_index('Booking_date', inplace=True)  #to make booking_date as default index\n",
    "    newdf.index = pd.DatetimeIndex(newdf.index)\n",
    "    newdf = newdf.reindex(pd.date_range(\"2015-01-01\", \"2016-12-31\"), fill_value=\"0\")   #range of values from 2015 to 2016\n",
    "    newdf.loc[newdf['Property_id'] == '0', 'Property_id'] = pid   #to reassign pid values as fill_value will set it to 0\n",
    "    newdf = newdf.reindex(newdf.index.rename('Booking_date'))  #renaming of index to booking_date\n",
    "    finaldf=finaldf.append(newdf) #appending result to dataframe\n",
    "finaldf.to_excel('C:/Users/Amulya/Desktop/EventsDataAnalysis/Task1/Results/PickupReport.xlsx')  #saving to excel\n",
    "#finaldf.reset_index()\n",
    "#len (property_list)"
   ]
  },
  {
   "cell_type": "code",
   "execution_count": null,
   "metadata": {
    "collapsed": true
   },
   "outputs": [],
   "source": []
  }
 ],
 "metadata": {
  "anaconda-cloud": {},
  "kernelspec": {
   "display_name": "Python [default]",
   "language": "python",
   "name": "python3"
  },
  "language_info": {
   "codemirror_mode": {
    "name": "ipython",
    "version": 3
   },
   "file_extension": ".py",
   "mimetype": "text/x-python",
   "name": "python",
   "nbconvert_exporter": "python",
   "pygments_lexer": "ipython3",
   "version": "3.5.2"
  }
 },
 "nbformat": 4,
 "nbformat_minor": 1
}
