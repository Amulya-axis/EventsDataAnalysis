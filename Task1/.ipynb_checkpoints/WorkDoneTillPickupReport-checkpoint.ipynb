{
 "cells": [
  {
   "cell_type": "code",
   "execution_count": 1,
   "metadata": {
    "collapsed": false
   },
   "outputs": [
    {
     "data": {
      "text/html": [
       "<div>\n",
       "<table border=\"1\" class=\"dataframe\">\n",
       "  <thead>\n",
       "    <tr style=\"text-align: right;\">\n",
       "      <th></th>\n",
       "      <th>booking_date</th>\n",
       "      <th>channel</th>\n",
       "      <th>property_id</th>\n",
       "      <th>room_name</th>\n",
       "      <th>room_id</th>\n",
       "      <th>check_in</th>\n",
       "      <th>check_out</th>\n",
       "      <th>room_rate</th>\n",
       "      <th>booking_status</th>\n",
       "    </tr>\n",
       "  </thead>\n",
       "  <tbody>\n",
       "    <tr>\n",
       "      <th>0</th>\n",
       "      <td>2013-06-30T16:35:42+05:30</td>\n",
       "      <td>DIRECT</td>\n",
       "      <td>CH</td>\n",
       "      <td>Superior Room</td>\n",
       "      <td>ST</td>\n",
       "      <td>2013-07-08</td>\n",
       "      <td>2014-04-15</td>\n",
       "      <td>0.0</td>\n",
       "      <td>COMPLETED</td>\n",
       "    </tr>\n",
       "    <tr>\n",
       "      <th>1</th>\n",
       "      <td>2013-02-08T17:06:44+05:30</td>\n",
       "      <td>DIRECT</td>\n",
       "      <td>BB</td>\n",
       "      <td>Standard Sea Facing Room</td>\n",
       "      <td>1F</td>\n",
       "      <td>2014-03-01</td>\n",
       "      <td>2014-04-30</td>\n",
       "      <td>0.0</td>\n",
       "      <td>CANCELLED</td>\n",
       "    </tr>\n",
       "    <tr>\n",
       "      <th>2</th>\n",
       "      <td>2013-02-08T17:06:44+05:30</td>\n",
       "      <td>DIRECT</td>\n",
       "      <td>BB</td>\n",
       "      <td>Standard Sea Facing Room</td>\n",
       "      <td>1F</td>\n",
       "      <td>2014-03-01</td>\n",
       "      <td>2014-04-30</td>\n",
       "      <td>0.0</td>\n",
       "      <td>CANCELLED</td>\n",
       "    </tr>\n",
       "    <tr>\n",
       "      <th>3</th>\n",
       "      <td>2013-02-08T17:06:44+05:30</td>\n",
       "      <td>DIRECT</td>\n",
       "      <td>BB</td>\n",
       "      <td>Standard Sea Facing Room</td>\n",
       "      <td>1F</td>\n",
       "      <td>2014-03-01</td>\n",
       "      <td>2014-04-30</td>\n",
       "      <td>0.0</td>\n",
       "      <td>CANCELLED</td>\n",
       "    </tr>\n",
       "    <tr>\n",
       "      <th>4</th>\n",
       "      <td>2013-02-08T17:06:44+05:30</td>\n",
       "      <td>DIRECT</td>\n",
       "      <td>BB</td>\n",
       "      <td>Standard Sea Facing Room</td>\n",
       "      <td>1F</td>\n",
       "      <td>2014-03-01</td>\n",
       "      <td>2014-04-30</td>\n",
       "      <td>0.0</td>\n",
       "      <td>CANCELLED</td>\n",
       "    </tr>\n",
       "  </tbody>\n",
       "</table>\n",
       "</div>"
      ],
      "text/plain": [
       "                booking_date channel property_id                 room_name  \\\n",
       "0  2013-06-30T16:35:42+05:30  DIRECT          CH             Superior Room   \n",
       "1  2013-02-08T17:06:44+05:30  DIRECT          BB  Standard Sea Facing Room   \n",
       "2  2013-02-08T17:06:44+05:30  DIRECT          BB  Standard Sea Facing Room   \n",
       "3  2013-02-08T17:06:44+05:30  DIRECT          BB  Standard Sea Facing Room   \n",
       "4  2013-02-08T17:06:44+05:30  DIRECT          BB  Standard Sea Facing Room   \n",
       "\n",
       "  room_id    check_in   check_out  room_rate booking_status  \n",
       "0      ST  2013-07-08  2014-04-15        0.0      COMPLETED  \n",
       "1      1F  2014-03-01  2014-04-30        0.0      CANCELLED  \n",
       "2      1F  2014-03-01  2014-04-30        0.0      CANCELLED  \n",
       "3      1F  2014-03-01  2014-04-30        0.0      CANCELLED  \n",
       "4      1F  2014-03-01  2014-04-30        0.0      CANCELLED  "
      ]
     },
     "execution_count": 1,
     "metadata": {},
     "output_type": "execute_result"
    }
   ],
   "source": [
    "import pandas as pd\n",
    "import numpy as np\n",
    "\n",
    "data = pd.read_csv('/Users/Amulya/Desktop/EventsDataAnalysis/Task1/Results/RequiredDataSet.csv',header=None, names=['booking_date','channel','property_id','room_name','room_id','check_in','check_out','room_rate','booking_status'])\n",
    "#data = pd.read_json('/Users/Amulya/Desktop/data3.json')\n",
    "data.head()\n"
   ]
  },
  {
   "cell_type": "code",
   "execution_count": 2,
   "metadata": {
    "collapsed": false
   },
   "outputs": [
    {
     "data": {
      "text/plain": [
       "0    2013-06-30\n",
       "1    2013-02-08\n",
       "2    2013-02-08\n",
       "3    2013-02-08\n",
       "4    2013-02-08\n",
       "Name: booking_date, dtype: object"
      ]
     },
     "execution_count": 2,
     "metadata": {},
     "output_type": "execute_result"
    }
   ],
   "source": [
    "data['booking_date'] = data['booking_date'].str.extract('(....-..-..)', expand=True)\n",
    "data['booking_date'].head()"
   ]
  },
  {
   "cell_type": "code",
   "execution_count": null,
   "metadata": {
    "collapsed": true
   },
   "outputs": [],
   "source": [
    "# The below comment lines are script to generate stay date from check_in n check_out dates. \n",
    "# Since it takes hours i have saved the data into excel"
   ]
  },
  {
   "cell_type": "code",
   "execution_count": 4,
   "metadata": {
    "collapsed": false
   },
   "outputs": [],
   "source": [
    "# res=[]\n",
    "# final=[]\n",
    "# for i in range(len(data)):\n",
    "#     res.append(pd.date_range(data.iloc[i][5] , data.iloc[i][6]))\n",
    "#     final.append(res[i][:-1])\n",
    "    "
   ]
  },
  {
   "cell_type": "code",
   "execution_count": 5,
   "metadata": {
    "collapsed": false
   },
   "outputs": [],
   "source": [
    "# stay = [item for sublist in final for item in sublist]"
   ]
  },
  {
   "cell_type": "code",
   "execution_count": null,
   "metadata": {
    "collapsed": false
   },
   "outputs": [],
   "source": [
    "# Results = pd.DataFrame(index=np.arange(0, 0),columns=('Booking_date','Booking_status' ,'Channel','Check_in' ,'Check_out', 'Property_id', 'Room_details','Room_name','Room_rate'))\n",
    "# for i in range(len(final)):\n",
    "#     Results=Results.append([data.iloc[i]]*len(final[i]), ignore_index=True)\n",
    "    "
   ]
  },
  {
   "cell_type": "code",
   "execution_count": 7,
   "metadata": {
    "collapsed": false
   },
   "outputs": [],
   "source": [
    "# Results['Stay_date'] = stay"
   ]
  },
  {
   "cell_type": "code",
   "execution_count": 9,
   "metadata": {
    "collapsed": false
   },
   "outputs": [],
   "source": [
    "#Results.to_excel('/Users/Amulya/Desktop/EventsDataAnalysis/Task1/Results/DataSetWithStayDate.xlsx')"
   ]
  },
  {
   "cell_type": "code",
   "execution_count": 47,
   "metadata": {
    "collapsed": true
   },
   "outputs": [],
   "source": [
    "Results = pd.read_excel('/Users/Amulya/Desktop/EventsDataAnalysis/Task1/Results/DataSetWithStayDate.xlsx')"
   ]
  },
  {
   "cell_type": "code",
   "execution_count": 48,
   "metadata": {
    "collapsed": false
   },
   "outputs": [
    {
     "data": {
      "text/html": [
       "<div>\n",
       "<table border=\"1\" class=\"dataframe\">\n",
       "  <thead>\n",
       "    <tr style=\"text-align: right;\">\n",
       "      <th></th>\n",
       "      <th>Booking_date</th>\n",
       "      <th>Booking_status</th>\n",
       "      <th>Channel</th>\n",
       "      <th>Check_in</th>\n",
       "      <th>Check_out</th>\n",
       "      <th>Property_id</th>\n",
       "      <th>Room_details</th>\n",
       "      <th>Room_name</th>\n",
       "      <th>Room_rate</th>\n",
       "      <th>Stay_date</th>\n",
       "    </tr>\n",
       "  </thead>\n",
       "  <tbody>\n",
       "    <tr>\n",
       "      <th>0</th>\n",
       "      <td>2013-06-30T16:35:42+05:30</td>\n",
       "      <td>COMPLETED</td>\n",
       "      <td>DIRECT</td>\n",
       "      <td>2013-07-08</td>\n",
       "      <td>2014-04-15</td>\n",
       "      <td>CH</td>\n",
       "      <td>ST</td>\n",
       "      <td>Superior Room</td>\n",
       "      <td>0.0</td>\n",
       "      <td>2013-07-08</td>\n",
       "    </tr>\n",
       "    <tr>\n",
       "      <th>1</th>\n",
       "      <td>2013-06-30T16:35:42+05:30</td>\n",
       "      <td>COMPLETED</td>\n",
       "      <td>DIRECT</td>\n",
       "      <td>2013-07-08</td>\n",
       "      <td>2014-04-15</td>\n",
       "      <td>CH</td>\n",
       "      <td>ST</td>\n",
       "      <td>Superior Room</td>\n",
       "      <td>0.0</td>\n",
       "      <td>2013-07-09</td>\n",
       "    </tr>\n",
       "    <tr>\n",
       "      <th>2</th>\n",
       "      <td>2013-06-30T16:35:42+05:30</td>\n",
       "      <td>COMPLETED</td>\n",
       "      <td>DIRECT</td>\n",
       "      <td>2013-07-08</td>\n",
       "      <td>2014-04-15</td>\n",
       "      <td>CH</td>\n",
       "      <td>ST</td>\n",
       "      <td>Superior Room</td>\n",
       "      <td>0.0</td>\n",
       "      <td>2013-07-10</td>\n",
       "    </tr>\n",
       "    <tr>\n",
       "      <th>3</th>\n",
       "      <td>2013-06-30T16:35:42+05:30</td>\n",
       "      <td>COMPLETED</td>\n",
       "      <td>DIRECT</td>\n",
       "      <td>2013-07-08</td>\n",
       "      <td>2014-04-15</td>\n",
       "      <td>CH</td>\n",
       "      <td>ST</td>\n",
       "      <td>Superior Room</td>\n",
       "      <td>0.0</td>\n",
       "      <td>2013-07-11</td>\n",
       "    </tr>\n",
       "    <tr>\n",
       "      <th>4</th>\n",
       "      <td>2013-06-30T16:35:42+05:30</td>\n",
       "      <td>COMPLETED</td>\n",
       "      <td>DIRECT</td>\n",
       "      <td>2013-07-08</td>\n",
       "      <td>2014-04-15</td>\n",
       "      <td>CH</td>\n",
       "      <td>ST</td>\n",
       "      <td>Superior Room</td>\n",
       "      <td>0.0</td>\n",
       "      <td>2013-07-12</td>\n",
       "    </tr>\n",
       "  </tbody>\n",
       "</table>\n",
       "</div>"
      ],
      "text/plain": [
       "                Booking_date Booking_status Channel    Check_in   Check_out  \\\n",
       "0  2013-06-30T16:35:42+05:30      COMPLETED  DIRECT  2013-07-08  2014-04-15   \n",
       "1  2013-06-30T16:35:42+05:30      COMPLETED  DIRECT  2013-07-08  2014-04-15   \n",
       "2  2013-06-30T16:35:42+05:30      COMPLETED  DIRECT  2013-07-08  2014-04-15   \n",
       "3  2013-06-30T16:35:42+05:30      COMPLETED  DIRECT  2013-07-08  2014-04-15   \n",
       "4  2013-06-30T16:35:42+05:30      COMPLETED  DIRECT  2013-07-08  2014-04-15   \n",
       "\n",
       "  Property_id Room_details      Room_name  Room_rate   Stay_date  \n",
       "0          CH           ST  Superior Room        0.0  2013-07-08  \n",
       "1          CH           ST  Superior Room        0.0  2013-07-09  \n",
       "2          CH           ST  Superior Room        0.0  2013-07-10  \n",
       "3          CH           ST  Superior Room        0.0  2013-07-11  \n",
       "4          CH           ST  Superior Room        0.0  2013-07-12  "
      ]
     },
     "execution_count": 48,
     "metadata": {},
     "output_type": "execute_result"
    }
   ],
   "source": [
    "Results.head()"
   ]
  },
  {
   "cell_type": "code",
   "execution_count": 49,
   "metadata": {
    "collapsed": false
   },
   "outputs": [
    {
     "data": {
      "text/plain": [
       "0    2013-06-30\n",
       "1    2013-06-30\n",
       "2    2013-06-30\n",
       "3    2013-06-30\n",
       "4    2013-06-30\n",
       "Name: Booking_date, dtype: object"
      ]
     },
     "execution_count": 49,
     "metadata": {},
     "output_type": "execute_result"
    }
   ],
   "source": [
    "Results['Booking_date'] = Results['Booking_date'].str.extract('(....-..-..)', expand=True)\n",
    "Results['Booking_date'].head()"
   ]
  },
  {
   "cell_type": "code",
   "execution_count": 50,
   "metadata": {
    "collapsed": false
   },
   "outputs": [
    {
     "data": {
      "text/html": [
       "<div>\n",
       "<table border=\"1\" class=\"dataframe\">\n",
       "  <thead>\n",
       "    <tr style=\"text-align: right;\">\n",
       "      <th></th>\n",
       "      <th>room_counts</th>\n",
       "    </tr>\n",
       "    <tr>\n",
       "      <th>Stay_date</th>\n",
       "      <th></th>\n",
       "    </tr>\n",
       "  </thead>\n",
       "  <tbody>\n",
       "    <tr>\n",
       "      <th>2013-07-08</th>\n",
       "      <td>1</td>\n",
       "    </tr>\n",
       "    <tr>\n",
       "      <th>2013-07-09</th>\n",
       "      <td>1</td>\n",
       "    </tr>\n",
       "    <tr>\n",
       "      <th>2013-07-10</th>\n",
       "      <td>1</td>\n",
       "    </tr>\n",
       "    <tr>\n",
       "      <th>2013-07-11</th>\n",
       "      <td>1</td>\n",
       "    </tr>\n",
       "    <tr>\n",
       "      <th>2013-07-12</th>\n",
       "      <td>1</td>\n",
       "    </tr>\n",
       "  </tbody>\n",
       "</table>\n",
       "</div>"
      ],
      "text/plain": [
       "            room_counts\n",
       "Stay_date              \n",
       "2013-07-08            1\n",
       "2013-07-09            1\n",
       "2013-07-10            1\n",
       "2013-07-11            1\n",
       "2013-07-12            1"
      ]
     },
     "execution_count": 50,
     "metadata": {},
     "output_type": "execute_result"
    }
   ],
   "source": [
    "Results['room_counts'] = 1\n",
    "property_counts = Results[['Stay_date','room_counts']].groupby(['Stay_date']).agg(np.sum)\n",
    "#data.drop_duplicates()\n",
    "property_counts.head()"
   ]
  },
  {
   "cell_type": "code",
   "execution_count": 51,
   "metadata": {
    "collapsed": false
   },
   "outputs": [
    {
     "data": {
      "text/html": [
       "<div>\n",
       "<table border=\"1\" class=\"dataframe\">\n",
       "  <thead>\n",
       "    <tr style=\"text-align: right;\">\n",
       "      <th></th>\n",
       "      <th>Stay_date</th>\n",
       "      <th>room_counts</th>\n",
       "    </tr>\n",
       "  </thead>\n",
       "  <tbody>\n",
       "    <tr>\n",
       "      <th>0</th>\n",
       "      <td>2013-07-08</td>\n",
       "      <td>1</td>\n",
       "    </tr>\n",
       "    <tr>\n",
       "      <th>1</th>\n",
       "      <td>2013-07-09</td>\n",
       "      <td>1</td>\n",
       "    </tr>\n",
       "    <tr>\n",
       "      <th>2</th>\n",
       "      <td>2013-07-10</td>\n",
       "      <td>1</td>\n",
       "    </tr>\n",
       "    <tr>\n",
       "      <th>3</th>\n",
       "      <td>2013-07-11</td>\n",
       "      <td>1</td>\n",
       "    </tr>\n",
       "    <tr>\n",
       "      <th>4</th>\n",
       "      <td>2013-07-12</td>\n",
       "      <td>1</td>\n",
       "    </tr>\n",
       "  </tbody>\n",
       "</table>\n",
       "</div>"
      ],
      "text/plain": [
       "    Stay_date  room_counts\n",
       "0  2013-07-08            1\n",
       "1  2013-07-09            1\n",
       "2  2013-07-10            1\n",
       "3  2013-07-11            1\n",
       "4  2013-07-12            1"
      ]
     },
     "execution_count": 51,
     "metadata": {},
     "output_type": "execute_result"
    }
   ],
   "source": [
    "property_counts = property_counts.reset_index()\n",
    "property_counts.head()"
   ]
  },
  {
   "cell_type": "code",
   "execution_count": 52,
   "metadata": {
    "collapsed": false
   },
   "outputs": [
    {
     "data": {
      "text/html": [
       "<div>\n",
       "<table border=\"1\" class=\"dataframe\">\n",
       "  <thead>\n",
       "    <tr style=\"text-align: right;\">\n",
       "      <th></th>\n",
       "      <th>Stay_date</th>\n",
       "      <th>room_counts</th>\n",
       "    </tr>\n",
       "  </thead>\n",
       "  <tbody>\n",
       "    <tr>\n",
       "      <th>542</th>\n",
       "      <td>2015-01-01</td>\n",
       "      <td>789</td>\n",
       "    </tr>\n",
       "    <tr>\n",
       "      <th>543</th>\n",
       "      <td>2015-01-02</td>\n",
       "      <td>760</td>\n",
       "    </tr>\n",
       "    <tr>\n",
       "      <th>544</th>\n",
       "      <td>2015-01-03</td>\n",
       "      <td>716</td>\n",
       "    </tr>\n",
       "    <tr>\n",
       "      <th>545</th>\n",
       "      <td>2015-01-04</td>\n",
       "      <td>699</td>\n",
       "    </tr>\n",
       "    <tr>\n",
       "      <th>546</th>\n",
       "      <td>2015-01-05</td>\n",
       "      <td>615</td>\n",
       "    </tr>\n",
       "  </tbody>\n",
       "</table>\n",
       "</div>"
      ],
      "text/plain": [
       "      Stay_date  room_counts\n",
       "542  2015-01-01          789\n",
       "543  2015-01-02          760\n",
       "544  2015-01-03          716\n",
       "545  2015-01-04          699\n",
       "546  2015-01-05          615"
      ]
     },
     "execution_count": 52,
     "metadata": {},
     "output_type": "execute_result"
    }
   ],
   "source": [
    "property_counts = property_counts[(property_counts.Stay_date >= '2015-01-01') & (property_counts.Stay_date <= '2016-12-31')]\n",
    "property_counts.head()"
   ]
  },
  {
   "cell_type": "code",
   "execution_count": 53,
   "metadata": {
    "collapsed": false
   },
   "outputs": [],
   "source": [
    "property_counts = property_counts.reset_index()\n"
   ]
  },
  {
   "cell_type": "code",
   "execution_count": 54,
   "metadata": {
    "collapsed": false
   },
   "outputs": [
    {
     "data": {
      "text/html": [
       "<div>\n",
       "<table border=\"1\" class=\"dataframe\">\n",
       "  <thead>\n",
       "    <tr style=\"text-align: right;\">\n",
       "      <th></th>\n",
       "      <th>index</th>\n",
       "      <th>Stay_date</th>\n",
       "      <th>room_counts</th>\n",
       "    </tr>\n",
       "  </thead>\n",
       "  <tbody>\n",
       "    <tr>\n",
       "      <th>0</th>\n",
       "      <td>542</td>\n",
       "      <td>2015-01-01</td>\n",
       "      <td>789</td>\n",
       "    </tr>\n",
       "    <tr>\n",
       "      <th>1</th>\n",
       "      <td>543</td>\n",
       "      <td>2015-01-02</td>\n",
       "      <td>760</td>\n",
       "    </tr>\n",
       "    <tr>\n",
       "      <th>2</th>\n",
       "      <td>544</td>\n",
       "      <td>2015-01-03</td>\n",
       "      <td>716</td>\n",
       "    </tr>\n",
       "    <tr>\n",
       "      <th>3</th>\n",
       "      <td>545</td>\n",
       "      <td>2015-01-04</td>\n",
       "      <td>699</td>\n",
       "    </tr>\n",
       "    <tr>\n",
       "      <th>4</th>\n",
       "      <td>546</td>\n",
       "      <td>2015-01-05</td>\n",
       "      <td>615</td>\n",
       "    </tr>\n",
       "  </tbody>\n",
       "</table>\n",
       "</div>"
      ],
      "text/plain": [
       "   index   Stay_date  room_counts\n",
       "0    542  2015-01-01          789\n",
       "1    543  2015-01-02          760\n",
       "2    544  2015-01-03          716\n",
       "3    545  2015-01-04          699\n",
       "4    546  2015-01-05          615"
      ]
     },
     "execution_count": 54,
     "metadata": {},
     "output_type": "execute_result"
    }
   ],
   "source": [
    "property_counts.head()"
   ]
  },
  {
   "cell_type": "code",
   "execution_count": 55,
   "metadata": {
    "collapsed": false
   },
   "outputs": [],
   "source": [
    "del property_counts['index']"
   ]
  },
  {
   "cell_type": "code",
   "execution_count": 56,
   "metadata": {
    "collapsed": false
   },
   "outputs": [
    {
     "data": {
      "text/html": [
       "<div>\n",
       "<table border=\"1\" class=\"dataframe\">\n",
       "  <thead>\n",
       "    <tr style=\"text-align: right;\">\n",
       "      <th></th>\n",
       "      <th>Stay_date</th>\n",
       "      <th>room_counts</th>\n",
       "    </tr>\n",
       "  </thead>\n",
       "  <tbody>\n",
       "    <tr>\n",
       "      <th>0</th>\n",
       "      <td>2015-01-01</td>\n",
       "      <td>789</td>\n",
       "    </tr>\n",
       "    <tr>\n",
       "      <th>1</th>\n",
       "      <td>2015-01-02</td>\n",
       "      <td>760</td>\n",
       "    </tr>\n",
       "    <tr>\n",
       "      <th>2</th>\n",
       "      <td>2015-01-03</td>\n",
       "      <td>716</td>\n",
       "    </tr>\n",
       "    <tr>\n",
       "      <th>3</th>\n",
       "      <td>2015-01-04</td>\n",
       "      <td>699</td>\n",
       "    </tr>\n",
       "    <tr>\n",
       "      <th>4</th>\n",
       "      <td>2015-01-05</td>\n",
       "      <td>615</td>\n",
       "    </tr>\n",
       "  </tbody>\n",
       "</table>\n",
       "</div>"
      ],
      "text/plain": [
       "    Stay_date  room_counts\n",
       "0  2015-01-01          789\n",
       "1  2015-01-02          760\n",
       "2  2015-01-03          716\n",
       "3  2015-01-04          699\n",
       "4  2015-01-05          615"
      ]
     },
     "execution_count": 56,
     "metadata": {},
     "output_type": "execute_result"
    }
   ],
   "source": [
    "property_counts.head()"
   ]
  },
  {
   "cell_type": "code",
   "execution_count": 57,
   "metadata": {
    "collapsed": false
   },
   "outputs": [
    {
     "data": {
      "text/plain": [
       "26557.91643513028"
      ]
     },
     "execution_count": 57,
     "metadata": {},
     "output_type": "execute_result"
    }
   ],
   "source": [
    "Arr = Results[\"Room_rate\"].mean()\n",
    "Arr"
   ]
  },
  {
   "cell_type": "code",
   "execution_count": 58,
   "metadata": {
    "collapsed": false
   },
   "outputs": [
    {
     "data": {
      "text/html": [
       "<div>\n",
       "<table border=\"1\" class=\"dataframe\">\n",
       "  <thead>\n",
       "    <tr style=\"text-align: right;\">\n",
       "      <th></th>\n",
       "      <th></th>\n",
       "      <th>counts</th>\n",
       "    </tr>\n",
       "    <tr>\n",
       "      <th>Property_id</th>\n",
       "      <th>Booking_date</th>\n",
       "      <th></th>\n",
       "    </tr>\n",
       "  </thead>\n",
       "  <tbody>\n",
       "    <tr>\n",
       "      <th>AA</th>\n",
       "      <th>2015-08-25</th>\n",
       "      <td>6</td>\n",
       "    </tr>\n",
       "    <tr>\n",
       "      <th>AM</th>\n",
       "      <th>2015-08-25</th>\n",
       "      <td>1</td>\n",
       "    </tr>\n",
       "    <tr>\n",
       "      <th rowspan=\"3\" valign=\"top\">BB</th>\n",
       "      <th>2012-07-15</th>\n",
       "      <td>36</td>\n",
       "    </tr>\n",
       "    <tr>\n",
       "      <th>2012-09-13</th>\n",
       "      <td>18</td>\n",
       "    </tr>\n",
       "    <tr>\n",
       "      <th>2013-02-08</th>\n",
       "      <td>360</td>\n",
       "    </tr>\n",
       "  </tbody>\n",
       "</table>\n",
       "</div>"
      ],
      "text/plain": [
       "                          counts\n",
       "Property_id Booking_date        \n",
       "AA          2015-08-25         6\n",
       "AM          2015-08-25         1\n",
       "BB          2012-07-15        36\n",
       "            2012-09-13        18\n",
       "            2013-02-08       360"
      ]
     },
     "execution_count": 58,
     "metadata": {},
     "output_type": "execute_result"
    }
   ],
   "source": [
    "Results['counts'] = 1\n",
    "pickup = Results[['Property_id','Booking_date','counts']].groupby(['Property_id','Booking_date']).count()\n",
    "pickup.head()\n"
   ]
  },
  {
   "cell_type": "code",
   "execution_count": 59,
   "metadata": {
    "collapsed": false
   },
   "outputs": [
    {
     "data": {
      "text/plain": [
       "12893"
      ]
     },
     "execution_count": 59,
     "metadata": {},
     "output_type": "execute_result"
    }
   ],
   "source": [
    "len(pickup)"
   ]
  },
  {
   "cell_type": "code",
   "execution_count": 60,
   "metadata": {
    "collapsed": false
   },
   "outputs": [
    {
     "data": {
      "text/html": [
       "<div>\n",
       "<table border=\"1\" class=\"dataframe\">\n",
       "  <thead>\n",
       "    <tr style=\"text-align: right;\">\n",
       "      <th></th>\n",
       "      <th>Property_id</th>\n",
       "      <th>Booking_date</th>\n",
       "      <th>counts</th>\n",
       "    </tr>\n",
       "  </thead>\n",
       "  <tbody>\n",
       "    <tr>\n",
       "      <th>0</th>\n",
       "      <td>AA</td>\n",
       "      <td>2015-08-25</td>\n",
       "      <td>6</td>\n",
       "    </tr>\n",
       "    <tr>\n",
       "      <th>1</th>\n",
       "      <td>AM</td>\n",
       "      <td>2015-08-25</td>\n",
       "      <td>1</td>\n",
       "    </tr>\n",
       "    <tr>\n",
       "      <th>2</th>\n",
       "      <td>BB</td>\n",
       "      <td>2012-07-15</td>\n",
       "      <td>36</td>\n",
       "    </tr>\n",
       "    <tr>\n",
       "      <th>3</th>\n",
       "      <td>BB</td>\n",
       "      <td>2012-09-13</td>\n",
       "      <td>18</td>\n",
       "    </tr>\n",
       "    <tr>\n",
       "      <th>4</th>\n",
       "      <td>BB</td>\n",
       "      <td>2013-02-08</td>\n",
       "      <td>360</td>\n",
       "    </tr>\n",
       "  </tbody>\n",
       "</table>\n",
       "</div>"
      ],
      "text/plain": [
       "  Property_id Booking_date  counts\n",
       "0          AA   2015-08-25       6\n",
       "1          AM   2015-08-25       1\n",
       "2          BB   2012-07-15      36\n",
       "3          BB   2012-09-13      18\n",
       "4          BB   2013-02-08     360"
      ]
     },
     "execution_count": 60,
     "metadata": {},
     "output_type": "execute_result"
    }
   ],
   "source": [
    "pickup = pickup.reset_index()\n",
    "# del pickup['index']\n",
    "# del pickup['level_0']\n",
    "pickup.head()"
   ]
  },
  {
   "cell_type": "code",
   "execution_count": 61,
   "metadata": {
    "collapsed": false
   },
   "outputs": [],
   "source": [
    "pickup = pickup[(pickup.Booking_date >= '2015-01-01') & (pickup.Booking_date <= '2016-12-31')]"
   ]
  },
  {
   "cell_type": "code",
   "execution_count": 62,
   "metadata": {
    "collapsed": false
   },
   "outputs": [
    {
     "data": {
      "text/html": [
       "<div>\n",
       "<table border=\"1\" class=\"dataframe\">\n",
       "  <thead>\n",
       "    <tr style=\"text-align: right;\">\n",
       "      <th></th>\n",
       "      <th>Property_id</th>\n",
       "      <th>Booking_date</th>\n",
       "      <th>counts</th>\n",
       "    </tr>\n",
       "  </thead>\n",
       "  <tbody>\n",
       "    <tr>\n",
       "      <th>0</th>\n",
       "      <td>AA</td>\n",
       "      <td>2015-08-25</td>\n",
       "      <td>6</td>\n",
       "    </tr>\n",
       "    <tr>\n",
       "      <th>1</th>\n",
       "      <td>AM</td>\n",
       "      <td>2015-08-25</td>\n",
       "      <td>1</td>\n",
       "    </tr>\n",
       "    <tr>\n",
       "      <th>427</th>\n",
       "      <td>BB</td>\n",
       "      <td>2015-01-01</td>\n",
       "      <td>18</td>\n",
       "    </tr>\n",
       "    <tr>\n",
       "      <th>428</th>\n",
       "      <td>BB</td>\n",
       "      <td>2015-01-02</td>\n",
       "      <td>79</td>\n",
       "    </tr>\n",
       "    <tr>\n",
       "      <th>429</th>\n",
       "      <td>BB</td>\n",
       "      <td>2015-01-03</td>\n",
       "      <td>4</td>\n",
       "    </tr>\n",
       "  </tbody>\n",
       "</table>\n",
       "</div>"
      ],
      "text/plain": [
       "    Property_id Booking_date  counts\n",
       "0            AA   2015-08-25       6\n",
       "1            AM   2015-08-25       1\n",
       "427          BB   2015-01-01      18\n",
       "428          BB   2015-01-02      79\n",
       "429          BB   2015-01-03       4"
      ]
     },
     "execution_count": 62,
     "metadata": {},
     "output_type": "execute_result"
    }
   ],
   "source": [
    "pickup.head()"
   ]
  },
  {
   "cell_type": "code",
   "execution_count": 63,
   "metadata": {
    "collapsed": false
   },
   "outputs": [
    {
     "data": {
      "text/html": [
       "<div>\n",
       "<table border=\"1\" class=\"dataframe\">\n",
       "  <thead>\n",
       "    <tr style=\"text-align: right;\">\n",
       "      <th></th>\n",
       "      <th>index</th>\n",
       "      <th>Property_id</th>\n",
       "      <th>Booking_date</th>\n",
       "      <th>counts</th>\n",
       "    </tr>\n",
       "  </thead>\n",
       "  <tbody>\n",
       "    <tr>\n",
       "      <th>0</th>\n",
       "      <td>0</td>\n",
       "      <td>AA</td>\n",
       "      <td>2015-08-25</td>\n",
       "      <td>6</td>\n",
       "    </tr>\n",
       "    <tr>\n",
       "      <th>1</th>\n",
       "      <td>1</td>\n",
       "      <td>AM</td>\n",
       "      <td>2015-08-25</td>\n",
       "      <td>1</td>\n",
       "    </tr>\n",
       "    <tr>\n",
       "      <th>2</th>\n",
       "      <td>427</td>\n",
       "      <td>BB</td>\n",
       "      <td>2015-01-01</td>\n",
       "      <td>18</td>\n",
       "    </tr>\n",
       "    <tr>\n",
       "      <th>3</th>\n",
       "      <td>428</td>\n",
       "      <td>BB</td>\n",
       "      <td>2015-01-02</td>\n",
       "      <td>79</td>\n",
       "    </tr>\n",
       "    <tr>\n",
       "      <th>4</th>\n",
       "      <td>429</td>\n",
       "      <td>BB</td>\n",
       "      <td>2015-01-03</td>\n",
       "      <td>4</td>\n",
       "    </tr>\n",
       "  </tbody>\n",
       "</table>\n",
       "</div>"
      ],
      "text/plain": [
       "   index Property_id Booking_date  counts\n",
       "0      0          AA   2015-08-25       6\n",
       "1      1          AM   2015-08-25       1\n",
       "2    427          BB   2015-01-01      18\n",
       "3    428          BB   2015-01-02      79\n",
       "4    429          BB   2015-01-03       4"
      ]
     },
     "execution_count": 63,
     "metadata": {},
     "output_type": "execute_result"
    }
   ],
   "source": [
    "pickup = pickup.reset_index()\n",
    "pickup.head()"
   ]
  },
  {
   "cell_type": "code",
   "execution_count": 64,
   "metadata": {
    "collapsed": false
   },
   "outputs": [
    {
     "data": {
      "text/html": [
       "<div>\n",
       "<table border=\"1\" class=\"dataframe\">\n",
       "  <thead>\n",
       "    <tr style=\"text-align: right;\">\n",
       "      <th></th>\n",
       "      <th>Property_id</th>\n",
       "      <th>Booking_date</th>\n",
       "      <th>counts</th>\n",
       "    </tr>\n",
       "  </thead>\n",
       "  <tbody>\n",
       "    <tr>\n",
       "      <th>0</th>\n",
       "      <td>AA</td>\n",
       "      <td>2015-08-25</td>\n",
       "      <td>6</td>\n",
       "    </tr>\n",
       "    <tr>\n",
       "      <th>1</th>\n",
       "      <td>AM</td>\n",
       "      <td>2015-08-25</td>\n",
       "      <td>1</td>\n",
       "    </tr>\n",
       "    <tr>\n",
       "      <th>2</th>\n",
       "      <td>BB</td>\n",
       "      <td>2015-01-01</td>\n",
       "      <td>18</td>\n",
       "    </tr>\n",
       "    <tr>\n",
       "      <th>3</th>\n",
       "      <td>BB</td>\n",
       "      <td>2015-01-02</td>\n",
       "      <td>79</td>\n",
       "    </tr>\n",
       "    <tr>\n",
       "      <th>4</th>\n",
       "      <td>BB</td>\n",
       "      <td>2015-01-03</td>\n",
       "      <td>4</td>\n",
       "    </tr>\n",
       "  </tbody>\n",
       "</table>\n",
       "</div>"
      ],
      "text/plain": [
       "  Property_id Booking_date  counts\n",
       "0          AA   2015-08-25       6\n",
       "1          AM   2015-08-25       1\n",
       "2          BB   2015-01-01      18\n",
       "3          BB   2015-01-02      79\n",
       "4          BB   2015-01-03       4"
      ]
     },
     "execution_count": 64,
     "metadata": {},
     "output_type": "execute_result"
    }
   ],
   "source": [
    "del pickup['index']\n",
    "pickup.head()"
   ]
  },
  {
   "cell_type": "code",
   "execution_count": 68,
   "metadata": {
    "collapsed": false
   },
   "outputs": [],
   "source": [
    "property_list=pickup['Property_id'].unique().tolist() #to get unique property ids for further filteration\n",
    "\n",
    "finaldf=pd.DataFrame() #new dataframe to append results\n",
    "for pid in property_list: #iteration through each pid\n",
    "    newdf = pickup[(pickup['Property_id']== pid)]  #considering each pid\n",
    "    newdf = newdf.sort_values(by=['Booking_date'], ascending=[True])  #sorting the date values\n",
    "    newdf.set_index('Booking_date', inplace=True)  #to make booking_date as default index\n",
    "    newdf.index = pd.DatetimeIndex(newdf.index)\n",
    "    newdf = newdf.reindex(pd.date_range(\"2015-01-01\", \"2016-12-31\"), fill_value=\"0\")   #range of values from 2015 to 2016\n",
    "    newdf.loc[newdf['Property_id'] == '0', 'Property_id'] = pid   #to reassign pid values as fill_value will set it to 0\n",
    "    newdf = newdf.reindex(newdf.index.rename('Booking_date'))  #renaming of index to booking_date\n",
    "    finaldf=finaldf.append(newdf) #appending result to dataframe\n",
    "finaldf.to_excel('C:/Users/Amulya/Desktop/EventsDataAnalysis/Task1/Results/PickupReport.xlsx')  #saving to excel\n",
    "#finaldf.reset_index()\n",
    "#len (property_list)"
   ]
  },
  {
   "cell_type": "code",
   "execution_count": null,
   "metadata": {
    "collapsed": true
   },
   "outputs": [],
   "source": []
  }
 ],
 "metadata": {
  "anaconda-cloud": {},
  "kernelspec": {
   "display_name": "Python [default]",
   "language": "python",
   "name": "python3"
  },
  "language_info": {
   "codemirror_mode": {
    "name": "ipython",
    "version": 3
   },
   "file_extension": ".py",
   "mimetype": "text/x-python",
   "name": "python",
   "nbconvert_exporter": "python",
   "pygments_lexer": "ipython3",
   "version": "3.5.2"
  }
 },
 "nbformat": 4,
 "nbformat_minor": 1
}
